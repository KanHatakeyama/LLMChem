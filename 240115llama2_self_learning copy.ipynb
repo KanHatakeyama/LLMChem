{
 "cells": [
  {
   "cell_type": "code",
   "execution_count": 1,
   "metadata": {},
   "outputs": [],
   "source": [
    "# finetuning llama2"
   ]
  },
  {
   "cell_type": "markdown",
   "metadata": {},
   "source": [
    "# (Q)分子構造+(R)理由+(A)物性データセットのLLMによる学習と予測\n",
    "- Q&A: 融点データセットを使用\n",
    "- R: GPT4を使い､Q&Aをもとに自動生成\n",
    "- 自分自身が過去に考えた回答も学習する"
   ]
  },
  {
   "cell_type": "code",
   "execution_count": 1,
   "metadata": {},
   "outputs": [],
   "source": [
    "#!pip install transformers==4.35.0\n",
    "#!pip install peft==0.5.0\n",
    "#!pip install bitsandbytes==0.41.1\n",
    "#!pip install accelerate==0.23.0\n",
    "#!pip install flash-attn==2.3.1.post1\n",
    "#!pip install datasets==2.14.5"
   ]
  },
  {
   "cell_type": "code",
   "execution_count": 1,
   "metadata": {},
   "outputs": [
    {
     "name": "stderr",
     "output_type": "stream",
     "text": [
      "/home/setup/miniconda3/envs/chemllm/lib/python3.10/site-packages/tqdm/auto.py:21: TqdmWarning: IProgress not found. Please update jupyter and ipywidgets. See https://ipywidgets.readthedocs.io/en/stable/user_install.html\n",
      "  from .autonotebook import tqdm as notebook_tqdm\n"
     ]
    }
   ],
   "source": [
    "import os\n",
    "os.environ[\"CUDA_VISIBLE_DEVICES\"]=\"0\"\n",
    "\n",
    "from transformers import AutoModelForCausalLM, BitsAndBytesConfig\n",
    "import torch\n",
    "from peft import LoraConfig, get_peft_model\n",
    "from transformers import AutoTokenizer,pipeline\n",
    "from datasets import Dataset\n",
    "import copy\n",
    "from tqdm import tqdm\n",
    "#問題設定: はじめのN件をテストデータにする\n",
    "n_test=50"
   ]
  },
  {
   "cell_type": "code",
   "execution_count": 2,
   "metadata": {},
   "outputs": [],
   "source": [
    "#ハイパラ関連\n",
    "#モデル名\n",
    "model_size=7\n",
    "model_size=13\n",
    "#model_size=70\n",
    "model_name=f\"meta-llama/Llama-2-{model_size}b-chat-hf\"\n",
    "\n",
    "#model_name=\"ahxt/LiteLlama-460M-1T\"\n",
    "#model_name = \"PY007/TinyLlama-1.1B-Chat-v0.3\"\n",
    "\n",
    "#model_name = 'openlm-research/open_llama_3b_v2'\n",
    "#LoRA関連\n",
    "r=32\n",
    "lora_alpha=r\n",
    "bit=16\n",
    "#bit=8\n",
    "#bit=4\n",
    "\n",
    "#LoRAのadapter\n",
    "target_modules= [\n",
    "    #\"embed_tokens\",\n",
    "    \"lm_head\",\n",
    "    #\"q_proj\",\n",
    "    #\"k_proj\",\n",
    "    \"v_proj\",\n",
    "    \"o_proj\",\n",
    "    \"gate_proj\",\n",
    "    \"up_proj\",\n",
    "    #\"down_proj\",\n",
    "]\n",
    "\n",
    "#学習関連\n",
    "#gradient_checkpointing =True  #vramの節約をしたい場合\n",
    "gradient_checkpointing =False\n",
    "per_device_train_batch_size=1\n",
    "epochs=3\n",
    "lr=10**-5\n",
    "do_train=True\n",
    "#do_train=False"
   ]
  },
  {
   "cell_type": "code",
   "execution_count": 3,
   "metadata": {},
   "outputs": [],
   "source": [
    "\n",
    "device_map=\"auto\"\n",
    "\n",
    "bnb_config = BitsAndBytesConfig(\n",
    "    load_in_4bit=True,\n",
    "    bnb_4bit_use_double_quant=True,\n",
    "    bnb_4bit_quant_type=\"nf4\",\n",
    "    bnb_4bit_compute_dtype=torch.bfloat16\n",
    ")\n",
    "\n",
    "def init_model(model_name, r, lora_alpha, target_modules, bit=4):\n",
    "    if bit == 4:\n",
    "        print(\"Using 4-bit mode\")\n",
    "        model = AutoModelForCausalLM.from_pretrained(model_name,\n",
    "                                                     quantization_config=bnb_config,\n",
    "                                                     device_map=device_map,\n",
    "                                                     use_flash_attention_2=True,\n",
    "                                                     )\n",
    "    elif bit == 8:\n",
    "        print(\"Using 8-bit mode\")\n",
    "        model = AutoModelForCausalLM.from_pretrained(model_name,\n",
    "                                                     load_in_8bit=True,\n",
    "                                                     device_map=device_map,\n",
    "                                                     use_flash_attention_2=True,\n",
    "                                                     )\n",
    "    elif bit == 16:\n",
    "        print(\"Using fp16 mode\")\n",
    "        model = AutoModelForCausalLM.from_pretrained(model_name,\n",
    "                                                     device_map=device_map,\n",
    "                                                     torch_dtype=torch.float16,\n",
    "                                                     use_flash_attention_2=True,\n",
    "                                                     )\n",
    "    else:\n",
    "        raise ValueError(\"bit must be 4 or 16\")\n",
    "\n",
    "    if len(target_modules)==0:\n",
    "        return model\n",
    "    peft_config = LoraConfig(\n",
    "        task_type=\"CAUSAL_LM\", inference_mode=False, r=r, lora_alpha=lora_alpha,\n",
    "        lora_dropout=0.1,\n",
    "        target_modules=target_modules,\n",
    "    )\n",
    "    model = get_peft_model(model, peft_config)\n",
    "    return model\n"
   ]
  },
  {
   "cell_type": "code",
   "execution_count": 5,
   "metadata": {},
   "outputs": [
    {
     "name": "stdout",
     "output_type": "stream",
     "text": [
      "Using fp16 mode\n"
     ]
    },
    {
     "name": "stderr",
     "output_type": "stream",
     "text": [
      "Loading checkpoint shards: 100%|██████████| 3/3 [01:43<00:00, 34.39s/it]\n"
     ]
    }
   ],
   "source": [
    "\n",
    "#モデル初期化\n",
    "model=init_model(model_name, r, lora_alpha, target_modules, bit=bit)"
   ]
  },
  {
   "cell_type": "code",
   "execution_count": 4,
   "metadata": {},
   "outputs": [],
   "source": [
    "\n",
    "\n",
    "tokenizer = AutoTokenizer.from_pretrained(model_name)\n",
    "tokenizer.pad_token = tokenizer.eos_token\n",
    "\n",
    "#pipe = pipeline(\"text-generation\", model=model,\n",
    "#                tokenizer=tokenizer, max_new_tokens=1000)"
   ]
  },
  {
   "cell_type": "markdown",
   "metadata": {},
   "source": [
    "# データセットの生成"
   ]
  },
  {
   "cell_type": "code",
   "execution_count": 5,
   "metadata": {},
   "outputs": [
    {
     "name": "stdout",
     "output_type": "stream",
     "text": [
      "(2406, 9)\n"
     ]
    },
    {
     "data": {
      "text/html": [
       "<div>\n",
       "<style scoped>\n",
       "    .dataframe tbody tr th:only-of-type {\n",
       "        vertical-align: middle;\n",
       "    }\n",
       "\n",
       "    .dataframe tbody tr th {\n",
       "        vertical-align: top;\n",
       "    }\n",
       "\n",
       "    .dataframe thead th {\n",
       "        text-align: right;\n",
       "    }\n",
       "</style>\n",
       "<table border=\"1\" class=\"dataframe\">\n",
       "  <thead>\n",
       "    <tr style=\"text-align: right;\">\n",
       "      <th></th>\n",
       "      <th>name</th>\n",
       "      <th>smiles</th>\n",
       "      <th>csid</th>\n",
       "      <th>link</th>\n",
       "      <th>source</th>\n",
       "      <th>Reason</th>\n",
       "      <th>mpC</th>\n",
       "      <th>Prediction(integer)</th>\n",
       "      <th>Abs error</th>\n",
       "    </tr>\n",
       "  </thead>\n",
       "  <tbody>\n",
       "    <tr>\n",
       "      <th>0</th>\n",
       "      <td>2,3-dibromo-2-methyl-butane</td>\n",
       "      <td>BrC(C)(C)C(Br)C</td>\n",
       "      <td>71392</td>\n",
       "      <td>http://www.srcinc.com/what-we-do/product.aspx?...</td>\n",
       "      <td>PHYSPROP</td>\n",
       "      <td>Starting with butane, which melts around -138....</td>\n",
       "      <td>7.0</td>\n",
       "      <td>6.6</td>\n",
       "      <td>0.4</td>\n",
       "    </tr>\n",
       "    <tr>\n",
       "      <th>1</th>\n",
       "      <td>5-chlorobenzofuroxan</td>\n",
       "      <td>c1cc2c(cc1Cl)no[n+]2[O-]</td>\n",
       "      <td>123661</td>\n",
       "      <td>http://www.alfa.com/en/GP100W.pgm?DSSTK=A14261</td>\n",
       "      <td>Alfa Aesar</td>\n",
       "      <td>The basic structure for comparison is benzene,...</td>\n",
       "      <td>47.0</td>\n",
       "      <td>45.0</td>\n",
       "      <td>2.0</td>\n",
       "    </tr>\n",
       "  </tbody>\n",
       "</table>\n",
       "</div>"
      ],
      "text/plain": [
       "                          name                    smiles    csid  \\\n",
       "0  2,3-dibromo-2-methyl-butane           BrC(C)(C)C(Br)C   71392   \n",
       "1         5-chlorobenzofuroxan  c1cc2c(cc1Cl)no[n+]2[O-]  123661   \n",
       "\n",
       "                                                link      source  \\\n",
       "0  http://www.srcinc.com/what-we-do/product.aspx?...    PHYSPROP   \n",
       "1     http://www.alfa.com/en/GP100W.pgm?DSSTK=A14261  Alfa Aesar   \n",
       "\n",
       "                                              Reason   mpC  \\\n",
       "0  Starting with butane, which melts around -138....   7.0   \n",
       "1  The basic structure for comparison is benzene,...  47.0   \n",
       "\n",
       "   Prediction(integer)  Abs error  \n",
       "0                  6.6        0.4  \n",
       "1                 45.0        2.0  "
      ]
     },
     "execution_count": 5,
     "metadata": {},
     "output_type": "execute_result"
    }
   ],
   "source": [
    "#データセットの読み込み\n",
    "import pandas as pd\n",
    "import random\n",
    "df=pd.read_csv(\"dataset/231225AutoReasoning/240104best_reason_record.csv\")\n",
    "dataset=df.to_dict(orient=\"records\")\n",
    "random.seed(0)\n",
    "random.shuffle(dataset)\n",
    "\n",
    "print(df.shape)\n",
    "df[:2]"
   ]
  },
  {
   "cell_type": "code",
   "execution_count": 6,
   "metadata": {},
   "outputs": [
    {
     "name": "stdout",
     "output_type": "stream",
     "text": [
      "unique: compounds: 1657. records: 2597\n"
     ]
    },
    {
     "data": {
      "text/html": [
       "<div>\n",
       "<style scoped>\n",
       "    .dataframe tbody tr th:only-of-type {\n",
       "        vertical-align: middle;\n",
       "    }\n",
       "\n",
       "    .dataframe tbody tr th {\n",
       "        vertical-align: top;\n",
       "    }\n",
       "\n",
       "    .dataframe thead th {\n",
       "        text-align: right;\n",
       "    }\n",
       "</style>\n",
       "<table border=\"1\" class=\"dataframe\">\n",
       "  <thead>\n",
       "    <tr style=\"text-align: right;\">\n",
       "      <th></th>\n",
       "      <th>name</th>\n",
       "      <th>smiles</th>\n",
       "      <th>csid</th>\n",
       "      <th>link</th>\n",
       "      <th>source</th>\n",
       "      <th>Reason</th>\n",
       "      <th>mpC</th>\n",
       "      <th>Prediction(integer)</th>\n",
       "      <th>Abs error</th>\n",
       "    </tr>\n",
       "  </thead>\n",
       "  <tbody>\n",
       "    <tr>\n",
       "      <th>0</th>\n",
       "      <td>2,3-dibromo-2-methyl-butane</td>\n",
       "      <td>BrC(C)(C)C(Br)C</td>\n",
       "      <td>71392</td>\n",
       "      <td>http://www.srcinc.com/what-we-do/product.aspx?...</td>\n",
       "      <td>PHYSPROP</td>\n",
       "      <td>Starting with butane, which melts around -138....</td>\n",
       "      <td>7.0</td>\n",
       "      <td>6.6</td>\n",
       "      <td>0.4</td>\n",
       "    </tr>\n",
       "    <tr>\n",
       "      <th>1</th>\n",
       "      <td>5-chlorobenzofuroxan</td>\n",
       "      <td>c1cc2c(cc1Cl)no[n+]2[O-]</td>\n",
       "      <td>123661</td>\n",
       "      <td>http://www.alfa.com/en/GP100W.pgm?DSSTK=A14261</td>\n",
       "      <td>Alfa Aesar</td>\n",
       "      <td>The basic structure for comparison is benzene,...</td>\n",
       "      <td>47.0</td>\n",
       "      <td>45.0</td>\n",
       "      <td>2.0</td>\n",
       "    </tr>\n",
       "    <tr>\n",
       "      <th>2</th>\n",
       "      <td>4-methoxy-1,8,8-trimethylbicyclo[3.2.1]oct-3-e...</td>\n",
       "      <td>O=C1C=C(OC)C2CCC1(C)C2(C)C</td>\n",
       "      <td>2032094</td>\n",
       "      <td>http://dx.doi.org/10.1021/ci0500132</td>\n",
       "      <td>Karthikeyan M.; Glen R.C.; Bender A. General m...</td>\n",
       "      <td>The target compound, 4-methoxy-1,8,8-trimethyl...</td>\n",
       "      <td>55.0</td>\n",
       "      <td>51.0</td>\n",
       "      <td>4.0</td>\n",
       "    </tr>\n",
       "    <tr>\n",
       "      <th>3</th>\n",
       "      <td>3-chloro-dimethyl parathion</td>\n",
       "      <td>O=[N+]([O-])c1ccc(cc1Cl)OP(=S)(OC)OC</td>\n",
       "      <td>9944</td>\n",
       "      <td>http://www.srcinc.com/what-we-do/product.aspx?...</td>\n",
       "      <td>PHYSPROP</td>\n",
       "      <td>The melting point of a compound is influenced ...</td>\n",
       "      <td>21.0</td>\n",
       "      <td>22.0</td>\n",
       "      <td>1.0</td>\n",
       "    </tr>\n",
       "    <tr>\n",
       "      <th>4</th>\n",
       "      <td>3,4-dimethoxy-5-hydroxybenzoic acid</td>\n",
       "      <td>O=C(O)c1cc(O)c(OC)c(OC)c1</td>\n",
       "      <td>67282</td>\n",
       "      <td>http://dx.doi.org/10.1021/ci0500132</td>\n",
       "      <td>Karthikeyan M.; Glen R.C.; Bender A. General m...</td>\n",
       "      <td>Starting base unit is benzoic acid, which has ...</td>\n",
       "      <td>195.0</td>\n",
       "      <td>192.0</td>\n",
       "      <td>3.0</td>\n",
       "    </tr>\n",
       "    <tr>\n",
       "      <th>...</th>\n",
       "      <td>...</td>\n",
       "      <td>...</td>\n",
       "      <td>...</td>\n",
       "      <td>...</td>\n",
       "      <td>...</td>\n",
       "      <td>...</td>\n",
       "      <td>...</td>\n",
       "      <td>...</td>\n",
       "      <td>...</td>\n",
       "    </tr>\n",
       "    <tr>\n",
       "      <th>2592</th>\n",
       "      <td>4-nitrophenyl bromoacetate</td>\n",
       "      <td>c1cc(ccc1[N+](=O)[O-])OC(=O)CBr</td>\n",
       "      <td>90953</td>\n",
       "      <td>http://www.alfa.com/en/GP100W.pgm?DSSTK=L08000</td>\n",
       "      <td>Alfa Aesar</td>\n",
       "      <td>The target compound, 4-nitrophenyl bromoacetat...</td>\n",
       "      <td>86.0</td>\n",
       "      <td>90.5</td>\n",
       "      <td>4.5</td>\n",
       "    </tr>\n",
       "    <tr>\n",
       "      <th>2593</th>\n",
       "      <td>(2E)-1-(2,4-dinitrophenyl)-2-(4-methoxybicyclo...</td>\n",
       "      <td>O=[N+]([O-])c1ccc(NN=C2Cc3ccc(OC)cc32)c([N+](=...</td>\n",
       "      <td>7855536</td>\n",
       "      <td>http://dx.doi.org/10.1021/ci0500132</td>\n",
       "      <td>Karthikeyan M.; Glen R.C.; Bender A. General m...</td>\n",
       "      <td>To predict the melting point, let's examine th...</td>\n",
       "      <td>221.0</td>\n",
       "      <td>229.0</td>\n",
       "      <td>8.0</td>\n",
       "    </tr>\n",
       "    <tr>\n",
       "      <th>2594</th>\n",
       "      <td>dfdd</td>\n",
       "      <td>Fc1ccc(cc1)C(=C(/Cl)Cl)c2ccc(F)cc2</td>\n",
       "      <td>13597790</td>\n",
       "      <td>http://www.srcinc.com/what-we-do/product.aspx?...</td>\n",
       "      <td>PHYSPROP</td>\n",
       "      <td>To predict the melting point of the compound w...</td>\n",
       "      <td>77.0</td>\n",
       "      <td>85.0</td>\n",
       "      <td>8.0</td>\n",
       "    </tr>\n",
       "    <tr>\n",
       "      <th>2595</th>\n",
       "      <td>2-cyanophenol</td>\n",
       "      <td>N#Cc1ccccc1O</td>\n",
       "      <td>11413</td>\n",
       "      <td>http://www.amazon.com/dp/B003XEQTLE</td>\n",
       "      <td>Aldrich Chemical Company; Aldrich Catalog-Hand...</td>\n",
       "      <td>For 2-cyanophenol, we must consider the effect...</td>\n",
       "      <td>94.0</td>\n",
       "      <td>95.5</td>\n",
       "      <td>1.5</td>\n",
       "    </tr>\n",
       "    <tr>\n",
       "      <th>2596</th>\n",
       "      <td>3-hydroxy-5,5,8,8,11a-pentamethyl-13-methylide...</td>\n",
       "      <td>O=C1C(=C)C2(O)CC(OC(=O)C)C3C11C2OC(OC1CC1C(C)(...</td>\n",
       "      <td>3754345</td>\n",
       "      <td>http://dx.doi.org/10.1021/ci0500132</td>\n",
       "      <td>Karthikeyan M.; Glen R.C.; Bender A. General m...</td>\n",
       "      <td>The base structure for predicting the melting ...</td>\n",
       "      <td>246.0</td>\n",
       "      <td>246.0</td>\n",
       "      <td>0.0</td>\n",
       "    </tr>\n",
       "  </tbody>\n",
       "</table>\n",
       "<p>5003 rows × 9 columns</p>\n",
       "</div>"
      ],
      "text/plain": [
       "                                                   name  \\\n",
       "0                           2,3-dibromo-2-methyl-butane   \n",
       "1                                  5-chlorobenzofuroxan   \n",
       "2     4-methoxy-1,8,8-trimethylbicyclo[3.2.1]oct-3-e...   \n",
       "3                           3-chloro-dimethyl parathion   \n",
       "4                   3,4-dimethoxy-5-hydroxybenzoic acid   \n",
       "...                                                 ...   \n",
       "2592                         4-nitrophenyl bromoacetate   \n",
       "2593  (2E)-1-(2,4-dinitrophenyl)-2-(4-methoxybicyclo...   \n",
       "2594                                               dfdd   \n",
       "2595                                      2-cyanophenol   \n",
       "2596  3-hydroxy-5,5,8,8,11a-pentamethyl-13-methylide...   \n",
       "\n",
       "                                                 smiles      csid  \\\n",
       "0                                       BrC(C)(C)C(Br)C     71392   \n",
       "1                              c1cc2c(cc1Cl)no[n+]2[O-]    123661   \n",
       "2                            O=C1C=C(OC)C2CCC1(C)C2(C)C   2032094   \n",
       "3                  O=[N+]([O-])c1ccc(cc1Cl)OP(=S)(OC)OC      9944   \n",
       "4                             O=C(O)c1cc(O)c(OC)c(OC)c1     67282   \n",
       "...                                                 ...       ...   \n",
       "2592                    c1cc(ccc1[N+](=O)[O-])OC(=O)CBr     90953   \n",
       "2593  O=[N+]([O-])c1ccc(NN=C2Cc3ccc(OC)cc32)c([N+](=...   7855536   \n",
       "2594                 Fc1ccc(cc1)C(=C(/Cl)Cl)c2ccc(F)cc2  13597790   \n",
       "2595                                       N#Cc1ccccc1O     11413   \n",
       "2596  O=C1C(=C)C2(O)CC(OC(=O)C)C3C11C2OC(OC1CC1C(C)(...   3754345   \n",
       "\n",
       "                                                   link  \\\n",
       "0     http://www.srcinc.com/what-we-do/product.aspx?...   \n",
       "1        http://www.alfa.com/en/GP100W.pgm?DSSTK=A14261   \n",
       "2                   http://dx.doi.org/10.1021/ci0500132   \n",
       "3     http://www.srcinc.com/what-we-do/product.aspx?...   \n",
       "4                   http://dx.doi.org/10.1021/ci0500132   \n",
       "...                                                 ...   \n",
       "2592     http://www.alfa.com/en/GP100W.pgm?DSSTK=L08000   \n",
       "2593                http://dx.doi.org/10.1021/ci0500132   \n",
       "2594  http://www.srcinc.com/what-we-do/product.aspx?...   \n",
       "2595                http://www.amazon.com/dp/B003XEQTLE   \n",
       "2596                http://dx.doi.org/10.1021/ci0500132   \n",
       "\n",
       "                                                 source  \\\n",
       "0                                              PHYSPROP   \n",
       "1                                            Alfa Aesar   \n",
       "2     Karthikeyan M.; Glen R.C.; Bender A. General m...   \n",
       "3                                              PHYSPROP   \n",
       "4     Karthikeyan M.; Glen R.C.; Bender A. General m...   \n",
       "...                                                 ...   \n",
       "2592                                         Alfa Aesar   \n",
       "2593  Karthikeyan M.; Glen R.C.; Bender A. General m...   \n",
       "2594                                           PHYSPROP   \n",
       "2595  Aldrich Chemical Company; Aldrich Catalog-Hand...   \n",
       "2596  Karthikeyan M.; Glen R.C.; Bender A. General m...   \n",
       "\n",
       "                                                 Reason    mpC  \\\n",
       "0     Starting with butane, which melts around -138....    7.0   \n",
       "1     The basic structure for comparison is benzene,...   47.0   \n",
       "2     The target compound, 4-methoxy-1,8,8-trimethyl...   55.0   \n",
       "3     The melting point of a compound is influenced ...   21.0   \n",
       "4     Starting base unit is benzoic acid, which has ...  195.0   \n",
       "...                                                 ...    ...   \n",
       "2592  The target compound, 4-nitrophenyl bromoacetat...   86.0   \n",
       "2593  To predict the melting point, let's examine th...  221.0   \n",
       "2594  To predict the melting point of the compound w...   77.0   \n",
       "2595  For 2-cyanophenol, we must consider the effect...   94.0   \n",
       "2596  The base structure for predicting the melting ...  246.0   \n",
       "\n",
       "      Prediction(integer)  Abs error  \n",
       "0                     6.6        0.4  \n",
       "1                    45.0        2.0  \n",
       "2                    51.0        4.0  \n",
       "3                    22.0        1.0  \n",
       "4                   192.0        3.0  \n",
       "...                   ...        ...  \n",
       "2592                 90.5        4.5  \n",
       "2593                229.0        8.0  \n",
       "2594                 85.0        8.0  \n",
       "2595                 95.5        1.5  \n",
       "2596                246.0        0.0  \n",
       "\n",
       "[5003 rows x 9 columns]"
      ]
     },
     "execution_count": 6,
     "metadata": {},
     "output_type": "execute_result"
    }
   ],
   "source": [
    "#240112llama2_active_learning.ipynb で生成したデータを追加する\n",
    "#train dataについて､問題のみから理由と回答を生成させ､精度が良かったデータセット\n",
    "import glob\n",
    "import json\n",
    "json_path_glob=\"dataset/240112llamareasoning/*.json\"\n",
    "\n",
    "self_learning_data_list=[]\n",
    "\n",
    "for path in glob.glob(json_path_glob):\n",
    "    with open(path,\"r\") as f:\n",
    "        d=json.load(f)\n",
    "    self_learning_data_list.append(d)\n",
    "\n",
    "s_df=pd.DataFrame(self_learning_data_list)\n",
    "\n",
    "n_unique_compounds=len(set(s_df[\"name\"]))\n",
    "print(f\"unique: compounds: {n_unique_compounds}. records: {s_df.shape[0]}\")\n",
    "\n",
    "s_df=s_df.drop([\"model_name\",\"Test (Predicted reason)\",\"Test (Predicted value)\"],axis=1)\n",
    "df=pd.concat([df,s_df])\n",
    "df"
   ]
  },
  {
   "cell_type": "code",
   "execution_count": 7,
   "metadata": {},
   "outputs": [],
   "source": [
    "import random\n",
    "system_prompt=\"You are a professional chemist. Predict the melting point of the following compound.\"\n",
    "\n",
    "\n",
    "def gen_compound_text(chemical_record,\n",
    "    reason=\"\",prediction=\"\"):\n",
    "    name=chemical_record[\"name\"]\n",
    "    smiles=chemical_record[\"smiles\"]\n",
    "    prompt=f\"\"\"\n",
    "#Problem\n",
    "##Name: {name}\n",
    "##SMILES: {smiles}\"\"\"\n",
    "    if reason !=\"\" and prediction!=\"\":\n",
    "        prompt+=f\"\"\"\n",
    "##Reason: {reason}\n",
    "##Prediction: {prediction}\n",
    "\"\"\"\n",
    "    else:\n",
    "        #test mode\n",
    "        prompt+=\"\"\"\n",
    "##Reason: \n",
    "\"\"\"\n",
    "    return prompt\n",
    "\n",
    "\n",
    "\n",
    "def generate_question_prompt(dataset,test_id,n_prompt_examples=5):\n",
    "    train_ids=[i for i in range(len(dataset))]\n",
    "    train_ids.remove(test_id)\n",
    "    prompt=\"\"\n",
    "\n",
    "    #train prompt\n",
    "    for _ in range(n_prompt_examples):\n",
    "        id=random.choice(train_ids)\n",
    "        prompt+=gen_compound_text(dataset[id],\n",
    "                                reason=dataset[id][\"Reason\"],\n",
    "                                prediction=dataset[id][\"Prediction(integer)\"])\n",
    "        prompt+=\"\\n\"\n",
    "\n",
    "    #test prompt\n",
    "    prompt+=gen_compound_text(dataset[test_id])\n",
    "\n",
    "    return prompt\n",
    "\n",
    "\n",
    "def prepare_dataset(context_list, tokenizer):\n",
    "    data_list = [{\"text\": i} for i in context_list]\n",
    "    random.shuffle(data_list)\n",
    "\n",
    "    # tokenize\n",
    "    dataset = Dataset.from_dict(\n",
    "        {\"text\": [item[\"text\"] for item in data_list[:]]})\n",
    "    dataset = dataset.map(lambda samples: tokenizer(\n",
    "        samples['text']), batched=True)\n",
    "\n",
    "    return dataset\n"
   ]
  },
  {
   "cell_type": "code",
   "execution_count": 8,
   "metadata": {},
   "outputs": [
    {
     "name": "stderr",
     "output_type": "stream",
     "text": [
      "Map: 100%|██████████| 2356/2356 [00:00<00:00, 8052.93 examples/s]\n"
     ]
    }
   ],
   "source": [
    "\n",
    "\n",
    "train_text_list=[]\n",
    "for id in range(len(dataset)):\n",
    "    prompt=gen_compound_text(dataset[id],\n",
    "                                reason=dataset[id][\"Reason\"],\n",
    "                                prediction=dataset[id][\"Prediction(integer)\"])\n",
    "    train_text_list.append(prompt)\n",
    "tokenized_dataset = prepare_dataset(train_text_list[n_test:], tokenizer)"
   ]
  },
  {
   "cell_type": "code",
   "execution_count": 9,
   "metadata": {},
   "outputs": [
    {
     "name": "stdout",
     "output_type": "stream",
     "text": [
      "train\n",
      "\n",
      "#Problem\n",
      "##Name: 2-Ethoxy-2-methylpropane\n",
      "##SMILES: CC(C)(C)OCC\n",
      "##Reason: The target compound, 2-Ethoxy-2-methylpropane, can be seen as derived from propane, which has a melting point of -187.7°C. Adding a methyl group generally increases the melting point due to increased molecular weight and van der Waals forces. For propane, adding a methyl group to become isobutane elevates the melting point to -159.6°C, indicating the effect of a methyl group is an increase of roughly +28°C. The presence of an ethoxy group (-OCC2H5) introduces an oxygen atom which can lead to dipole-dipole interactions and potential hydrogen bonding with trace moisture, increasing the melting point as well. The ethoxy group's effect on the melting point would be less straightforward to quantify without empirical data, but we can predict that it will raise the melting point to some extent. Considering the combined effect of an additional methyl group and an ethoxy group on the basic structure of propane, we can expect the overall melting point to be higher than that of propane, but lower than room temperature because the compound remains aliphatic and does not have strong intermolecular forces such as hydrogen bonding among its own molecules.\n",
      "##Prediction: -94.0\n",
      "\n",
      "test\n",
      "\n",
      "#Problem\n",
      "##Name: (1,2,2,3-tetramethylcyclopentyl)methyl 4-aminobenzoate\n",
      "##SMILES: O=C(OCC1(C)CCC(C)C1(C)C)c1ccc(N)cc1\n",
      "##Reason: \n",
      "\n"
     ]
    }
   ],
   "source": [
    "#check prompt\n",
    "\n",
    "print(\"train\")\n",
    "print(prompt)\n",
    "print(\"test\")\n",
    "t_prompt=gen_compound_text(dataset[0])\n",
    "print(t_prompt)"
   ]
  },
  {
   "cell_type": "markdown",
   "metadata": {},
   "source": [
    "# モデルの訓練"
   ]
  },
  {
   "cell_type": "code",
   "execution_count": 12,
   "metadata": {},
   "outputs": [
    {
     "name": "stderr",
     "output_type": "stream",
     "text": [
      "You're using a LlamaTokenizerFast tokenizer. Please note that with a fast tokenizer, using the `__call__` method is faster than using a method to encode the text followed by a call to the `pad` method to get a padded encoding.\n"
     ]
    },
    {
     "data": {
      "text/html": [
       "\n",
       "    <div>\n",
       "      \n",
       "      <progress value='7068' max='7068' style='width:300px; height:20px; vertical-align: middle;'></progress>\n",
       "      [7068/7068 21:29, Epoch 3/3]\n",
       "    </div>\n",
       "    <table border=\"1\" class=\"dataframe\">\n",
       "  <thead>\n",
       " <tr style=\"text-align: left;\">\n",
       "      <th>Step</th>\n",
       "      <th>Training Loss</th>\n",
       "    </tr>\n",
       "  </thead>\n",
       "  <tbody>\n",
       "    <tr>\n",
       "      <td>100</td>\n",
       "      <td>1.687900</td>\n",
       "    </tr>\n",
       "    <tr>\n",
       "      <td>200</td>\n",
       "      <td>1.266100</td>\n",
       "    </tr>\n",
       "    <tr>\n",
       "      <td>300</td>\n",
       "      <td>1.159600</td>\n",
       "    </tr>\n",
       "    <tr>\n",
       "      <td>400</td>\n",
       "      <td>1.091200</td>\n",
       "    </tr>\n",
       "    <tr>\n",
       "      <td>500</td>\n",
       "      <td>1.089900</td>\n",
       "    </tr>\n",
       "    <tr>\n",
       "      <td>600</td>\n",
       "      <td>1.055600</td>\n",
       "    </tr>\n",
       "    <tr>\n",
       "      <td>700</td>\n",
       "      <td>1.027700</td>\n",
       "    </tr>\n",
       "    <tr>\n",
       "      <td>800</td>\n",
       "      <td>1.040900</td>\n",
       "    </tr>\n",
       "    <tr>\n",
       "      <td>900</td>\n",
       "      <td>1.029200</td>\n",
       "    </tr>\n",
       "    <tr>\n",
       "      <td>1000</td>\n",
       "      <td>1.013800</td>\n",
       "    </tr>\n",
       "    <tr>\n",
       "      <td>1100</td>\n",
       "      <td>0.997700</td>\n",
       "    </tr>\n",
       "    <tr>\n",
       "      <td>1200</td>\n",
       "      <td>0.988900</td>\n",
       "    </tr>\n",
       "    <tr>\n",
       "      <td>1300</td>\n",
       "      <td>0.977900</td>\n",
       "    </tr>\n",
       "    <tr>\n",
       "      <td>1400</td>\n",
       "      <td>0.995500</td>\n",
       "    </tr>\n",
       "    <tr>\n",
       "      <td>1500</td>\n",
       "      <td>0.985700</td>\n",
       "    </tr>\n",
       "    <tr>\n",
       "      <td>1600</td>\n",
       "      <td>0.954500</td>\n",
       "    </tr>\n",
       "    <tr>\n",
       "      <td>1700</td>\n",
       "      <td>0.974600</td>\n",
       "    </tr>\n",
       "    <tr>\n",
       "      <td>1800</td>\n",
       "      <td>0.947700</td>\n",
       "    </tr>\n",
       "    <tr>\n",
       "      <td>1900</td>\n",
       "      <td>0.965800</td>\n",
       "    </tr>\n",
       "    <tr>\n",
       "      <td>2000</td>\n",
       "      <td>0.965900</td>\n",
       "    </tr>\n",
       "    <tr>\n",
       "      <td>2100</td>\n",
       "      <td>0.938700</td>\n",
       "    </tr>\n",
       "    <tr>\n",
       "      <td>2200</td>\n",
       "      <td>0.958200</td>\n",
       "    </tr>\n",
       "    <tr>\n",
       "      <td>2300</td>\n",
       "      <td>0.954200</td>\n",
       "    </tr>\n",
       "    <tr>\n",
       "      <td>2400</td>\n",
       "      <td>0.912100</td>\n",
       "    </tr>\n",
       "    <tr>\n",
       "      <td>2500</td>\n",
       "      <td>0.954900</td>\n",
       "    </tr>\n",
       "    <tr>\n",
       "      <td>2600</td>\n",
       "      <td>0.879800</td>\n",
       "    </tr>\n",
       "    <tr>\n",
       "      <td>2700</td>\n",
       "      <td>0.924100</td>\n",
       "    </tr>\n",
       "    <tr>\n",
       "      <td>2800</td>\n",
       "      <td>0.912300</td>\n",
       "    </tr>\n",
       "    <tr>\n",
       "      <td>2900</td>\n",
       "      <td>0.897400</td>\n",
       "    </tr>\n",
       "    <tr>\n",
       "      <td>3000</td>\n",
       "      <td>0.873200</td>\n",
       "    </tr>\n",
       "    <tr>\n",
       "      <td>3100</td>\n",
       "      <td>0.896900</td>\n",
       "    </tr>\n",
       "    <tr>\n",
       "      <td>3200</td>\n",
       "      <td>0.911000</td>\n",
       "    </tr>\n",
       "    <tr>\n",
       "      <td>3300</td>\n",
       "      <td>0.884700</td>\n",
       "    </tr>\n",
       "    <tr>\n",
       "      <td>3400</td>\n",
       "      <td>0.875200</td>\n",
       "    </tr>\n",
       "    <tr>\n",
       "      <td>3500</td>\n",
       "      <td>0.870400</td>\n",
       "    </tr>\n",
       "    <tr>\n",
       "      <td>3600</td>\n",
       "      <td>0.897800</td>\n",
       "    </tr>\n",
       "    <tr>\n",
       "      <td>3700</td>\n",
       "      <td>0.884200</td>\n",
       "    </tr>\n",
       "    <tr>\n",
       "      <td>3800</td>\n",
       "      <td>0.880800</td>\n",
       "    </tr>\n",
       "    <tr>\n",
       "      <td>3900</td>\n",
       "      <td>0.901500</td>\n",
       "    </tr>\n",
       "    <tr>\n",
       "      <td>4000</td>\n",
       "      <td>0.894300</td>\n",
       "    </tr>\n",
       "    <tr>\n",
       "      <td>4100</td>\n",
       "      <td>0.887600</td>\n",
       "    </tr>\n",
       "    <tr>\n",
       "      <td>4200</td>\n",
       "      <td>0.882600</td>\n",
       "    </tr>\n",
       "    <tr>\n",
       "      <td>4300</td>\n",
       "      <td>0.890200</td>\n",
       "    </tr>\n",
       "    <tr>\n",
       "      <td>4400</td>\n",
       "      <td>0.863300</td>\n",
       "    </tr>\n",
       "    <tr>\n",
       "      <td>4500</td>\n",
       "      <td>0.887300</td>\n",
       "    </tr>\n",
       "    <tr>\n",
       "      <td>4600</td>\n",
       "      <td>0.880400</td>\n",
       "    </tr>\n",
       "    <tr>\n",
       "      <td>4700</td>\n",
       "      <td>0.896100</td>\n",
       "    </tr>\n",
       "    <tr>\n",
       "      <td>4800</td>\n",
       "      <td>0.836600</td>\n",
       "    </tr>\n",
       "    <tr>\n",
       "      <td>4900</td>\n",
       "      <td>0.826300</td>\n",
       "    </tr>\n",
       "    <tr>\n",
       "      <td>5000</td>\n",
       "      <td>0.868700</td>\n",
       "    </tr>\n",
       "    <tr>\n",
       "      <td>5100</td>\n",
       "      <td>0.846200</td>\n",
       "    </tr>\n",
       "    <tr>\n",
       "      <td>5200</td>\n",
       "      <td>0.858700</td>\n",
       "    </tr>\n",
       "    <tr>\n",
       "      <td>5300</td>\n",
       "      <td>0.849200</td>\n",
       "    </tr>\n",
       "    <tr>\n",
       "      <td>5400</td>\n",
       "      <td>0.836300</td>\n",
       "    </tr>\n",
       "    <tr>\n",
       "      <td>5500</td>\n",
       "      <td>0.836800</td>\n",
       "    </tr>\n",
       "    <tr>\n",
       "      <td>5600</td>\n",
       "      <td>0.859100</td>\n",
       "    </tr>\n",
       "    <tr>\n",
       "      <td>5700</td>\n",
       "      <td>0.813700</td>\n",
       "    </tr>\n",
       "    <tr>\n",
       "      <td>5800</td>\n",
       "      <td>0.850500</td>\n",
       "    </tr>\n",
       "    <tr>\n",
       "      <td>5900</td>\n",
       "      <td>0.859600</td>\n",
       "    </tr>\n",
       "    <tr>\n",
       "      <td>6000</td>\n",
       "      <td>0.835600</td>\n",
       "    </tr>\n",
       "    <tr>\n",
       "      <td>6100</td>\n",
       "      <td>0.848400</td>\n",
       "    </tr>\n",
       "    <tr>\n",
       "      <td>6200</td>\n",
       "      <td>0.823000</td>\n",
       "    </tr>\n",
       "    <tr>\n",
       "      <td>6300</td>\n",
       "      <td>0.815000</td>\n",
       "    </tr>\n",
       "    <tr>\n",
       "      <td>6400</td>\n",
       "      <td>0.857600</td>\n",
       "    </tr>\n",
       "    <tr>\n",
       "      <td>6500</td>\n",
       "      <td>0.797500</td>\n",
       "    </tr>\n",
       "    <tr>\n",
       "      <td>6600</td>\n",
       "      <td>0.858400</td>\n",
       "    </tr>\n",
       "    <tr>\n",
       "      <td>6700</td>\n",
       "      <td>0.856000</td>\n",
       "    </tr>\n",
       "    <tr>\n",
       "      <td>6800</td>\n",
       "      <td>0.828700</td>\n",
       "    </tr>\n",
       "    <tr>\n",
       "      <td>6900</td>\n",
       "      <td>0.827000</td>\n",
       "    </tr>\n",
       "    <tr>\n",
       "      <td>7000</td>\n",
       "      <td>0.805800</td>\n",
       "    </tr>\n",
       "  </tbody>\n",
       "</table><p>"
      ],
      "text/plain": [
       "<IPython.core.display.HTML object>"
      ]
     },
     "metadata": {},
     "output_type": "display_data"
    }
   ],
   "source": [
    "import transformers\n",
    "from datetime import datetime\n",
    "\n",
    "\n",
    "#train\n",
    "train_args = transformers.TrainingArguments(\n",
    "        per_device_train_batch_size=per_device_train_batch_size,\n",
    "        #gradient_accumulation_steps=1,\n",
    "        warmup_steps=0,\n",
    "        num_train_epochs=epochs,\n",
    "        learning_rate=lr,\n",
    "        fp16=True,\n",
    "        logging_steps=100,\n",
    "        save_total_limit=1,\n",
    "        output_dir='outputs/'+datetime.now().strftime('%Y%m%d%H%M%S'),\n",
    "        gradient_checkpointing=gradient_checkpointing,\n",
    "    )\n",
    "\n",
    "# trainer\n",
    "#callbacks = [EarlyStoppingCallback()]\n",
    "callbacks = []\n",
    "\n",
    "trainer = transformers.Trainer(\n",
    "    model=model,\n",
    "    train_dataset=tokenized_dataset,\n",
    "    args=train_args,\n",
    "    callbacks=callbacks,\n",
    "    data_collator=transformers.DataCollatorForLanguageModeling(\n",
    "        tokenizer, mlm=False)\n",
    ")\n",
    "\n",
    "if do_train:\n",
    "    training_result = trainer.train()\n",
    "    training_result.training_loss"
   ]
  },
  {
   "cell_type": "code",
   "execution_count": 13,
   "metadata": {},
   "outputs": [],
   "source": [
    "#モデルの保存: adapterのみ保存するとき｡\n",
    "from datetime import datetime\n",
    "current_datetime = datetime.now()\n",
    "#model.save_pretrained(f\"./outputs/{current_datetime}\")\n",
    "model.save_pretrained(f\"./outputs/13b_ft_with_self_prediction_0115\")"
   ]
  },
  {
   "cell_type": "code",
   "execution_count": 14,
   "metadata": {},
   "outputs": [
    {
     "data": {
      "text/plain": [
       "'\\nmodel = AutoPeftModelForCausalLM.from_pretrained(model_path,\\n                                                 device_map=device_map,\\n                                                     torch_dtype=torch.float16,\\n                                                     use_flash_attention_2=True,\\n                                                 )\\n\\n'"
      ]
     },
     "execution_count": 14,
     "metadata": {},
     "output_type": "execute_result"
    }
   ],
   "source": [
    "#モデルの読み込み: 強化学習しない場合\n",
    "from peft import AutoPeftModelForCausalLM\n",
    "model_path=\"./outputs/7b_ft\"\n",
    "\n",
    "\"\"\"\n",
    "model = AutoPeftModelForCausalLM.from_pretrained(model_path,\n",
    "                                                 device_map=device_map,\n",
    "                                                     torch_dtype=torch.float16,\n",
    "                                                     use_flash_attention_2=True,\n",
    "                                                 )\n",
    "\n",
    "\"\"\""
   ]
  },
  {
   "cell_type": "code",
   "execution_count": 15,
   "metadata": {},
   "outputs": [],
   "source": [
    "#モデルのマージと保存: 強化学習するとき\n",
    "#merged_model = model.merge_and_unload()\n",
    "#merged_model.save_pretrained(f\"./outputs/3b_ft_merge_3epoch\")"
   ]
  },
  {
   "cell_type": "markdown",
   "metadata": {},
   "source": [
    "# llama2による物性予測"
   ]
  },
  {
   "cell_type": "code",
   "execution_count": 10,
   "metadata": {},
   "outputs": [],
   "source": [
    "#予測周りのutility funcs\n",
    "import re\n",
    "import torch\n",
    "import gc\n",
    "from IPython.display import clear_output\n",
    "from trl import AutoModelForCausalLMWithValueHead\n",
    "def gen_text_stop_word(prompt,model,tokenizer,\n",
    "                       device=\"cuda:0\",\n",
    "                       stop_words=[\"#Problem\",\"#Reason\",\"# Problem\"],\n",
    "                       double_stop_words=[\"#Prediction\"],\n",
    "                       stream=False,\n",
    "                       #stream=True,\n",
    "                       max_tokens=400,\n",
    "                       ):\n",
    "    gc.collect()\n",
    "    torch.cuda.empty_cache()\n",
    "\n",
    "\n",
    "\n",
    "    input_ids = tokenizer.encode(prompt, return_tensors='pt').to(device)\n",
    "    # 生成されたテキストを格納する変数\n",
    "    generated_text = \"\"\n",
    "\n",
    "    # トークンを一つずつ生成\n",
    "    for i in range(max_tokens):\n",
    "        # 次のトークンを予測\n",
    "        outputs = model(input_ids)\n",
    "        if type(model) is AutoModelForCausalLMWithValueHead:\n",
    "            #AutoModelForCausalLMWithValueHeadの場合\n",
    "            logits = outputs[0]\n",
    "            next_token_logits = logits[:, -1, :]\n",
    "        else:\n",
    "            next_token_logits = outputs.logits[:, -1, :]\n",
    "\n",
    "        next_token = torch.argmax(next_token_logits, dim=-1).unsqueeze(-1)\n",
    "\n",
    "        # 生成されたトークンを現在の入力に追加\n",
    "        input_ids = torch.cat([input_ids, next_token], dim=-1)\n",
    "\n",
    "        # 生成されたテキストを更新\n",
    "        generated_text = tokenizer.decode(input_ids[0], skip_special_tokens=True)[len(prompt):]\n",
    "\n",
    "        if stream:\n",
    "            if i%30==0:\n",
    "                clear_output()\n",
    "            print(generated_text)\n",
    "\n",
    "        # ストップワードのチェック\n",
    "        if any(stop_word in generated_text for stop_word in stop_words):\n",
    "            break\n",
    "\n",
    "        # 2回以上出現したらstopするwordのcheck \n",
    "        stop_flag=False\n",
    "        for check_word in double_stop_words:\n",
    "            count=generated_text.count(check_word)\n",
    "            if count>=2:\n",
    "                stop_flag=True\n",
    "                break\n",
    "        if stop_flag:\n",
    "            break\n",
    "\n",
    "    return generated_text\n",
    "\n",
    "def ask_value(prompt,model,tokenizer):\n",
    "    res=gen_text_stop_word(prompt,model,tokenizer)\n",
    "    #res=pipe(prompt)[0][\"generated_text\"]\n",
    "    print(\"----\\n\\n\")\n",
    "    print(res.strip())\n",
    "\n",
    "    regex_list=[\n",
    "        r\"Prediction:\\s*(\\d+\\.?\\d*)\",\n",
    "        r\"Prediction:\\s*(-?\\d+\\.?\\d*)\",\n",
    "    ]\n",
    "\n",
    "    value=None\n",
    "    for reg in regex_list:\n",
    "        match = re.search(reg, res)\n",
    "        if match:\n",
    "            value = match.group(1)\n",
    "            break\n",
    "\n",
    "\n",
    "    return res,value\n",
    "\n"
   ]
  },
  {
   "cell_type": "code",
   "execution_count": 11,
   "metadata": {},
   "outputs": [
    {
     "name": "stderr",
     "output_type": "stream",
     "text": [
      "Loading checkpoint shards: 100%|██████████| 6/6 [00:04<00:00,  1.28it/s]\n"
     ]
    }
   ],
   "source": [
    "model_name=\"./outputs/13b_ft_merge_3epoch\"\n",
    "model=AutoModelForCausalLM.from_pretrained(model_name,device_map=device_map,\n",
    "                                              torch_dtype=torch.float16,\n",
    "                                                     use_flash_attention_2=True,\n",
    "                                           )\n"
   ]
  },
  {
   "cell_type": "code",
   "execution_count": 12,
   "metadata": {},
   "outputs": [
    {
     "data": {
      "text/plain": [
       "LlamaForCausalLM(\n",
       "  (model): LlamaModel(\n",
       "    (embed_tokens): Embedding(32000, 5120)\n",
       "    (layers): ModuleList(\n",
       "      (0-39): 40 x LlamaDecoderLayer(\n",
       "        (self_attn): LlamaFlashAttention2(\n",
       "          (q_proj): Linear(in_features=5120, out_features=5120, bias=False)\n",
       "          (k_proj): Linear(in_features=5120, out_features=5120, bias=False)\n",
       "          (v_proj): Linear(in_features=5120, out_features=5120, bias=False)\n",
       "          (o_proj): Linear(in_features=5120, out_features=5120, bias=False)\n",
       "          (rotary_emb): LlamaRotaryEmbedding()\n",
       "        )\n",
       "        (mlp): LlamaMLP(\n",
       "          (gate_proj): Linear(in_features=5120, out_features=13824, bias=False)\n",
       "          (up_proj): Linear(in_features=5120, out_features=13824, bias=False)\n",
       "          (down_proj): Linear(in_features=13824, out_features=5120, bias=False)\n",
       "          (act_fn): SiLUActivation()\n",
       "        )\n",
       "        (input_layernorm): LlamaRMSNorm()\n",
       "        (post_attention_layernorm): LlamaRMSNorm()\n",
       "      )\n",
       "    )\n",
       "    (norm): LlamaRMSNorm()\n",
       "  )\n",
       "  (lm_head): Linear(in_features=5120, out_features=32000, bias=False)\n",
       ")"
      ]
     },
     "execution_count": 12,
     "metadata": {},
     "output_type": "execute_result"
    }
   ],
   "source": [
    "import json\n",
    "model.eval()"
   ]
  },
  {
   "cell_type": "code",
   "execution_count": 16,
   "metadata": {},
   "outputs": [
    {
     "name": "stdout",
     "output_type": "stream",
     "text": [
      "----\n",
      "\n",
      "\n",
      "The compound tri(p-tolyl)phosphine consists of three p-tolyl groups and a phosphine group. The basic unit, benzene, has a melting point of 5.5°C. The p-tolyl groups are aromatic rings which increase the melting point due to increased molecular weight and van der Waals forces. Each p-tolyl group could add approximately +20°C to the melting point. The phosphine group is a highly electronegative group that can form strong intermolecular bonds, which would significantly increase the melting point. We can estimate an addition of about +100°C for the phosphine group.\n",
      "##Prediction: 235.0\n",
      "\n",
      "\n",
      "#Prediction\n",
      "actual:  145.0 predicted:  235.0 err:  90.0\n",
      "----\n",
      "\n",
      "\n",
      "##Prediction: 120.0\n",
      "\n",
      "##Reason\n",
      "actual:  145.0 predicted:  120.0 err:  25.0\n",
      "----\n",
      "\n",
      "\n",
      "The target compound, tri(p-tolyl)phosphine, is a complex molecule with multiple functional groups and structural features that influence its melting point. The base structure can be considered as phosphine, which has a melting point of approximately -120°C due to its highly polar nature and the ability to form strong intermolecular bonds. Each p-tolyl group (phenyl group with a methyl group attached) attached to the phosphine will increase the melting point due to increased molecular weight and van der Waals forces. The presence of three p-tolyl groups can be estimated to contribute approximately 30°C each, for a total of 90°C.\n",
      "##Prediction: -30.0\n",
      "\n",
      "\n",
      "#Prediction\n",
      "actual:  145.0 predicted:  -30.0 err:  175.0\n"
     ]
    }
   ],
   "source": [
    "from datetime import datetime\n",
    "import json\n",
    "\n",
    "#色々と条件を変えながら､訓練データで予測(自習)していく\n",
    "\n",
    "#予測時のハイパラ\n",
    "n_max_trials=4  # 値を返さなかったときの再試行の最大数\n",
    "prediction_results={}\n",
    "\n",
    "\n",
    "res_list=[]\n",
    "for train_id in tqdm(range(10**5)):\n",
    "    clear_output()\n",
    "    gc.collect()\n",
    "    torch.cuda.empty_cache()\n",
    "    for _ in range(n_max_trials):\n",
    "        try:\n",
    "\n",
    "            n_prompt_examples=random.randint(0,2) #何件の例題をprompt tuningで出すか\n",
    "            prompt=generate_question_prompt(dataset,train_id,n_prompt_examples=n_prompt_examples)\n",
    "            reason,value=ask_value(prompt,model,tokenizer)\n",
    "        except Exception as e:\n",
    "            print(e)\n",
    "            continue\n",
    "\n",
    "\n",
    "        if value is not None:\n",
    "            try:\n",
    "                value=float(value)\n",
    "            except:\n",
    "                continue\n",
    "\n",
    "            record=copy.deepcopy(dataset[train_id])\n",
    "            record[\"Test (Predicted reason)\"]=reason\n",
    "            record[\"Test (Predicted value)\"]=value\n",
    "            record[\"model_name\"]=model_name\n",
    "\n",
    "            err=abs(record[\"mpC\"]-float(value))\n",
    "            print(\"actual: \",record[\"mpC\"],\"predicted: \", record[\"Test (Predicted value)\"],\"err: \",err)\n",
    "\n",
    "            \n",
    "            if err<20:\n",
    "                current_datetime = datetime.now()\n",
    "\n",
    "                save_path=f\"dataset/240112llamareasoning/{current_datetime}.json\"\n",
    "                save_path.replace(\"-\",\"\").replace(\":\",\"\")\n",
    "                with open(save_path,\"w\") as f:\n",
    "                    json.dump(record,f,indent=4)\n",
    "\n",
    "                break"
   ]
  },
  {
   "cell_type": "code",
   "execution_count": 22,
   "metadata": {},
   "outputs": [
    {
     "data": {
      "text/plain": [
       "34.0"
      ]
     },
     "execution_count": 22,
     "metadata": {},
     "output_type": "execute_result"
    }
   ],
   "source": []
  },
  {
   "cell_type": "markdown",
   "metadata": {},
   "source": [
    "# モデルによる物性値の予測"
   ]
  },
  {
   "cell_type": "code",
   "execution_count": 13,
   "metadata": {},
   "outputs": [
    {
     "name": "stderr",
     "output_type": "stream",
     "text": [
      "  0%|          | 0/50 [00:00<?, ?it/s]"
     ]
    },
    {
     "name": "stdout",
     "output_type": "stream",
     "text": [
      "promlem 1 / 50\n"
     ]
    },
    {
     "name": "stderr",
     "output_type": "stream",
     "text": [
      "  2%|▏         | 1/50 [00:12<09:51, 12.08s/it]"
     ]
    },
    {
     "name": "stdout",
     "output_type": "stream",
     "text": [
      "----\n",
      "\n",
      "\n",
      "- Basic unit, benzene has a melting point of 5.5°C. \n",
      "- The amino group (-NH2) is expected to increase the melting point due to the potential for hydrogen bonding, which can be estimated to add approximately +40°C. \n",
      "- The ester group (-COO-) typically increases the melting point due to the polar nature and potential for dipole-dipole interactions, which can be estimated to add around +20°C. \n",
      "- The tetramethylcyclopentyl group is a bulky substituent that can increase the melting point by providing more van der Waals interactions, estimated at +15°C. \n",
      "- The additional methyl group on the benzene ring is a small substituent that can slightly increase the melting point due to increased molecular weight and van der Waals interactions, estimated at +5°C. \n",
      "- The cumulative effect of these functional groups on the benzene base structure should be considered.\n",
      "##Prediction: 85.0\n",
      "##Reason\n",
      "actual:  74.0 predicted:  85.0\n",
      "promlem 2 / 50\n"
     ]
    },
    {
     "name": "stderr",
     "output_type": "stream",
     "text": [
      "  4%|▍         | 2/50 [00:18<07:03,  8.82s/it]"
     ]
    },
    {
     "name": "stdout",
     "output_type": "stream",
     "text": [
      "----\n",
      "\n",
      "\n",
      "- Basic unit, quinoxaline has a melting point of around 220°C. \n",
      "- Chloro substituents: Each chloro group is electron-withdrawing and increases intermolecular forces due to its polarity, which typically raises the melting point. However, the effect of chloro groups on aromatic compounds can be less pronounced than on aliphatic compounds due to the stabilization of the aromatic ring. Each chloro group might raise the melting point by approximately 20°C. \n",
      "- The presence of two chloro groups would therefore increase the melting point by approximately 40°C.\n",
      "##Prediction: 260.0\n",
      "##Reason\n",
      "actual:  152.0 predicted:  260.0\n",
      "promlem 3 / 50\n"
     ]
    },
    {
     "name": "stderr",
     "output_type": "stream",
     "text": [
      "  6%|▌         | 3/50 [00:26<06:36,  8.44s/it]"
     ]
    },
    {
     "name": "stdout",
     "output_type": "stream",
     "text": [
      "----\n",
      "\n",
      "\n",
      "- Basic unit, benzene has a melting point of 5.5°C. \n",
      "- Chloromethyl groups: Each chloromethyl group is electron-withdrawing and increases intermolecular forces due to its polarity, which typically raises the melting point. However, the introduction of chlorine atoms also increases the molecular weight and size, which can disrupt the crystal lattice and lower the melting point. The effect of chloromethyl groups is complex and depends on the molecular context. Assuming a moderate increase due to polarity and a slight decrease due to increased molecular weight, we can estimate the effect to be around +5°C per chloromethyl group. \n",
      "- Since there are two chloromethyl groups, the total estimated increase would be +10°C.\n",
      "##Prediction: 15.0\n",
      "##Reason\n",
      "actual:  100.0 predicted:  15.0\n",
      "promlem 4 / 50\n"
     ]
    },
    {
     "name": "stderr",
     "output_type": "stream",
     "text": [
      "  8%|▊         | 4/50 [00:42<08:46, 11.45s/it]"
     ]
    },
    {
     "name": "stdout",
     "output_type": "stream",
     "text": [
      "----\n",
      "\n",
      "\n",
      "- Basic unit, benzene has a melting point of 5.5°C. \n",
      "- The presence of the conjugated double bond in the propenone structure increases the rigidity of the molecule, which typically raises the melting point. This effect can be estimated to add approximately +20°C. \n",
      "- The additional phenyl group adds to the molecular weight and the pi-pi interactions, which can further increase the melting point. This can be estimated to add around +30°C. \n",
      "- The carbonyl group (C=O) is a polar functional group that can engage in dipole-dipole interactions, which can raise the melting point. This effect can be estimated to add around +10°C. \n",
      "- The overall molecular structure is complex and rigid, which can lead to a higher melting point due to the increased molecular interactions. This effect can be estimated to add around +10°C. \n",
      "- The presence of the conjugated system and the additional phenyl group also increases the molecular symmetry, which can contribute to a higher melting point. This effect can be estimated to add around +5°C. \n",
      "- The cumulative effect of these functional groups and structural features is expected to significantly raise the melting point from the base value of benzene.\n",
      "##Prediction: 70.0\n",
      "##Reason\n",
      "actual:  56.5 predicted:  70.0\n",
      "promlem 5 / 50\n"
     ]
    },
    {
     "name": "stderr",
     "output_type": "stream",
     "text": [
      " 10%|█         | 5/50 [00:54<08:36, 11.49s/it]"
     ]
    },
    {
     "name": "stdout",
     "output_type": "stream",
     "text": [
      "----\n",
      "\n",
      "\n",
      "- Basic unit, ethane has a melting point of -172°C. \n",
      "- Hydroxyl group (-OH): +40°C (introduces hydrogen bonding which significantly increases the melting point). \n",
      "- Disulfide bond (-S-S-): +100°C (the sulfur atoms in the disulfide bond are capable of strong dipole-dipole interactions and can form additional intermolecular bonds, leading to a higher melting point). \n",
      "- Ethyl group: +5°C (the addition of an ethyl group increases the molecular weight and size, which can slightly increase the melting point). \n",
      "- The presence of two -OH groups in the disulfide bond contributes to the melting point through hydrogen bonding. \n",
      "- The disulfide bond itself is a significant contributor to the melting point due to its ability to form strong intermolecular bonds. \n",
      "- The overall molecular structure is complex and includes multiple functional groups that can participate in intermolecular interactions, leading to a higher melting point.\n",
      "##Prediction: 105.0\n",
      "##Reason\n",
      "actual:  26.0 predicted:  105.0\n",
      "promlem 6 / 50\n"
     ]
    },
    {
     "name": "stderr",
     "output_type": "stream",
     "text": [
      " 12%|█▏        | 6/50 [01:08<09:14, 12.60s/it]"
     ]
    },
    {
     "name": "stdout",
     "output_type": "stream",
     "text": [
      "----\n",
      "\n",
      "\n",
      "- Basic unit, benzene has a melting point of 5.5°C. \n",
      "- The presence of two phenyl groups increases the melting point due to increased molecular weight and π-π interactions, estimated at +40°C per phenyl group. \n",
      "- The nicotinamide group is a rigid, planar structure that can engage in hydrogen bonding, which significantly increases the melting point. This effect is estimated at +80°C. \n",
      "- The ethyl group attached to the nicotinamide is a small alkyl chain that can increase the melting point due to increased molecular weight and van der Waals interactions, estimated at +5°C. \n",
      "- The overall molecule has a high degree of symmetry and planarity, which can lead to better packing in the solid state, further increasing the melting point. This effect is estimated at +10°C. \n",
      "- The presence of the amide group (C=O) can form hydrogen bonds, which can further increase the melting point. This effect is estimated at +10°C. \n",
      "- The cumulative effect of these functional groups is expected to significantly increase the melting point from the base value of benzene.\n",
      "##Prediction: 180.0\n",
      "##Reason\n",
      "actual:  159.0 predicted:  180.0\n",
      "promlem 7 / 50\n"
     ]
    },
    {
     "name": "stderr",
     "output_type": "stream",
     "text": [
      " 14%|█▍        | 7/50 [01:27<10:18, 14.38s/it]"
     ]
    },
    {
     "name": "stdout",
     "output_type": "stream",
     "text": [
      "----\n",
      "\n",
      "\n",
      "- Basic unit, benzene has a melting point of 5.5°C. \n",
      "- Methoxy groups: Each methoxy group (-OCH3) is expected to increase the melting point due to the introduction of polarity and the ability to engage in dipole-dipole interactions. We can estimate this increase to be around +20°C per methoxy group. \n",
      "- Methyl group: The methyl group (-CH3) attached to the phenyl ring also increases the melting point due to an increase in molecular weight and van der Waals forces. This can be estimated to be around +5°C. \n",
      "- Ketone group: The presence of a ketone (C=O) can form hydrogen bonds, which typically increases the melting point. This effect can be estimated to be around +40°C. \n",
      "- The overall structure of the molecule, with multiple aromatic rings and substituents, will lead to a more rigid and planar structure, which can further increase the melting point. This effect can be estimated to be around +10°C. \n",
      "Adding these effects together, we get an estimated increase of 20 (methoxy) + 5 (methyl) + 40 (ketone) + 10 (aromatic rigidity) = 75°C to the base melting point of benzene.\n",
      "##Prediction: 80.0\n",
      "##Reason\n",
      "actual:  109.0 predicted:  80.0\n",
      "promlem 8 / 50\n"
     ]
    },
    {
     "name": "stderr",
     "output_type": "stream",
     "text": [
      " 16%|█▌        | 8/50 [01:32<07:58, 11.40s/it]"
     ]
    },
    {
     "name": "stdout",
     "output_type": "stream",
     "text": [
      "----\n",
      "\n",
      "\n",
      "- Basic unit, benzene has a melting point of 5.5°C. \n",
      "- Propyl group: +20°C (due to increased molecular weight and van der Waals forces). \n",
      "- The propyl group is a small alkyl chain, which typically increases the melting point due to increased molecular weight and van der Waals forces. However, the effect of the propyl group on the melting point is not as significant as that of a larger alkyl group like a butyl or pentyl group.\n",
      "##Prediction: 25.0\n",
      "##Reason\n",
      "actual:  -99.0 predicted:  25.0\n",
      "promlem 9 / 50\n"
     ]
    },
    {
     "name": "stderr",
     "output_type": "stream",
     "text": [
      " 18%|█▊        | 9/50 [01:45<08:09, 11.95s/it]"
     ]
    },
    {
     "name": "stdout",
     "output_type": "stream",
     "text": [
      "----\n",
      "\n",
      "\n",
      "- Basic unit, aniline (phenylamine) has a melting point of around 6 degrees Celsius. \n",
      "- The nitro group is an electron-withdrawing group and can increase the melting point due to its ability to form strong intermolecular forces such as hydrogen bonding and dipole-dipole interactions. This effect can be estimated to increase the melting point by approximately 80 degrees Celsius. \n",
      "- The acetamide group is also an electron-withdrawing group and can increase the melting point due to its ability to form hydrogen bonds and dipole-dipole interactions. This effect can be estimated to increase the melting point by approximately 40 degrees Celsius. \n",
      "- The overall molecule is more rigid and planar due to the presence of the phenyl ring and the amide linkage, which can increase the melting point by providing a more ordered structure. This effect can be estimated to increase the melting point by approximately 20 degrees Celsius. \n",
      "- The combined effects of these groups should lead to an increase in the melting point compared to the basic unit.\n",
      "##Prediction: 146.0\n",
      "##Reason\n",
      "actual:  93.0 predicted:  146.0\n",
      "promlem 10 / 50\n"
     ]
    },
    {
     "name": "stderr",
     "output_type": "stream",
     "text": [
      " 20%|██        | 10/50 [01:53<07:11, 10.78s/it]"
     ]
    },
    {
     "name": "stdout",
     "output_type": "stream",
     "text": [
      "----\n",
      "\n",
      "\n",
      "- Basic unit, ethane has a melting point of -172°C. \n",
      "- Acetate ester functional group: +40°C (due to the polar carbonyl group which can form dipole-dipole interactions and has a moderate impact on the melting point). \n",
      "- Propyl group: +20°C (due to the increase in molecular weight and van der Waals forces). \n",
      "- The overall molecule is non-polar, but the ester group introduces some polarity, which can lead to a higher melting point. \n",
      "- The propyl group adds to the molecular weight and size, which can increase the melting point. \n",
      "- The ester group's polarity and the propyl group's increase in molecular weight and size contribute to a higher melting point.\n",
      "##Prediction: -112.0\n",
      "##Reason\n",
      "actual:  -92.0 predicted:  -112.0\n",
      "promlem 11 / 50\n"
     ]
    },
    {
     "name": "stderr",
     "output_type": "stream",
     "text": [
      " 22%|██▏       | 11/50 [02:06<07:22, 11.35s/it]"
     ]
    },
    {
     "name": "stdout",
     "output_type": "stream",
     "text": [
      "----\n",
      "\n",
      "\n",
      "- Basic unit, anisole has a melting point of -6°C. \n",
      "- The presence of a nitro group generally increases the melting point due to its strong electron-withdrawing nature and the ability to form intermolecular hydrogen bonds, which can be estimated to increase the melting point by about +80°C. \n",
      "- The iodine substituent is a heavy halogen that increases the molecular weight and enhances van der Waals forces, which can be estimated to increase the melting point by about +20°C. \n",
      "- The hydroxyl group in anisole is capable of forming hydrogen bonds, which can further increase the melting point. However, since this effect is already accounted for in the basic unit, it is not included in the additional increments. \n",
      "- The presence of the methyl group (–CH3) attached to the phenyl ring in anisole does not significantly affect the melting point, so it is not considered in the estimation.\n",
      "\n",
      "Combining these effects, the predicted melting point would be the sum of the adjustments made to the base value of anisole.\n",
      "##Prediction: 94.0\n",
      "##Reason\n",
      "actual:  97.0 predicted:  94.0\n",
      "promlem 12 / 50\n"
     ]
    },
    {
     "name": "stderr",
     "output_type": "stream",
     "text": [
      " 24%|██▍       | 12/50 [02:18<07:22, 11.65s/it]"
     ]
    },
    {
     "name": "stdout",
     "output_type": "stream",
     "text": [
      "----\n",
      "\n",
      "\n",
      "- Basic unit, ethene (ethylene) has a melting point of -169.2°C. \n",
      "- Each additional methyl group generally increases the melting point due to an increase in molecular weight and van der Waals forces. For 2,2-dimethyl-3-hexene, we have two additional methyl groups. Each methyl group can be estimated to raise the melting point by about 20°C. \n",
      "- The (Z) configuration of the double bond can have a slight effect on the melting point due to the symmetry and packing efficiency of the molecules. This effect is generally small and can be estimated to be around 5°C. \n",
      "- The actual value of -10.0°C suggests that the effects of the methyl groups and the (Z) configuration are not as significant as initially estimated. The increase in molecular weight and van der Waals forces due to the methyl groups is likely less than 40°C (20°C per group x 2 groups), and the (Z) configuration effect is likely less than 5°C.\n",
      "##Prediction: -10.0\n",
      "##Reason\n",
      "actual:  -137.4 predicted:  -10.0\n",
      "promlem 13 / 50\n"
     ]
    },
    {
     "name": "stderr",
     "output_type": "stream",
     "text": [
      " 26%|██▌       | 13/50 [02:38<08:48, 14.29s/it]"
     ]
    },
    {
     "name": "stdout",
     "output_type": "stream",
     "text": [
      "----\n",
      "\n",
      "\n",
      "- Basic unit, bicyclo[4.2.0]octa-1,3,5-triene has a melting point of around 100°C. \n",
      "- The presence of the hydrazine group (-NNH-) typically increases the melting point due to the potential for hydrogen bonding and the rigidity it adds to the molecule, estimated at +20°C. \n",
      "- The 2,4-dinitrophenyl group is a large, rigid, and highly electron-withdrawing group, which can significantly increase the melting point due to strong intermolecular forces such as dipole-dipole interactions and potential hydrogen bonding with the hydrazine, estimated at +50°C. \n",
      "- The overall molecular complexity and the presence of multiple aromatic rings and nitro groups contribute to a higher melting point due to increased molecular weight and van der Waals interactions, estimated at +20°C. \n",
      "- The presence of the conjugated system in the bicyclic structure can also increase the melting point due to the rigidity and planarity of the molecule, estimated at +10°C. \n",
      "- The presence of the nitro groups on the phenyl ring can also increase the melting point due to their strong electron-withdrawing nature and the potential for intermolecular hydrogen bonding, estimated at +10°C each. \n",
      "- The overall predicted increase is the sum of these contributions.\n",
      "##Prediction: 210.0\n",
      "##Reason\n",
      "actual:  203.0 predicted:  210.0\n",
      "promlem 14 / 50\n"
     ]
    },
    {
     "name": "stderr",
     "output_type": "stream",
     "text": [
      " 28%|██▊       | 14/50 [03:03<10:24, 17.34s/it]"
     ]
    },
    {
     "name": "stdout",
     "output_type": "stream",
     "text": [
      "----\n",
      "\n",
      "\n",
      "- Basic unit, indole has a melting point around 52°C. \n",
      "- Acetyl group: +20°C (due to increased molecular weight and potential for dipole-dipole interactions). \n",
      "- Nitro group: +40°C (due to strong electron-withdrawing nature and potential for intermolecular interactions). \n",
      "- Phenyl group: +20°C (due to increased molecular weight and π-π interactions). \n",
      "- Ethyl carbonate group: +10°C (due to increased molecular weight and potential for dipole-dipole interactions). \n",
      "- The presence of multiple aromatic rings and the nitro group, which can lead to intermolecular interactions, will further increase the melting point. \n",
      "- The overall molecular structure is complex and rigid, which can lead to a higher melting point due to better packing in the solid state. \n",
      "- The presence of the ethyl carbonate group introduces steric hindrance and may slightly lower the melting point due to less efficient packing. \n",
      "- The indole base structure is a heterocyclic compound, which generally has a higher melting point than benzene due to the nitrogen atom's ability to participate in hydrogen bonding. \n",
      "- The presence of the acetyl group and the nitro group will increase the melting point significantly due to their strong electron-withdrawing nature and potential for intermolecular interactions. \n",
      "- The overall molecular structure is complex and rigid, which can lead to a higher melting point due to better packing in the solid state. \n",
      "- The presence of the ethyl carbonate group introduces steric hindrance and may slightly lower the melting point due to less efficient packing.\n",
      "promlem 15 / 50\n"
     ]
    },
    {
     "name": "stderr",
     "output_type": "stream",
     "text": [
      " 30%|███       | 15/50 [03:13<08:48, 15.10s/it]"
     ]
    },
    {
     "name": "stdout",
     "output_type": "stream",
     "text": [
      "----\n",
      "\n",
      "\n",
      "- Basic unit, octane has a melting point of -57 degrees Celsius. \n",
      "- Methyl groups generally increase the melting point due to an increase in molecular weight and van der Waals forces. Each methyl group in a straight-chain alkane can be estimated to raise the melting point by about 20 degrees Celsius. \n",
      "- The presence of two methyl groups in the 2,7-dimethyl-octane molecule will increase the melting point by approximately 40 degrees Celsius (20 degrees Celsius per methyl group x 2 methyl groups).\n",
      "- The molecule still has a straight-chain structure, which tends to lower the melting point compared to branched alkanes due to less efficient packing in the solid state. However, the effect of the methyl groups on the melting point is expected to be more pronounced than the straight-chain structure's effect.\n",
      "##Prediction: -17.0\n",
      "##Reason\n",
      "actual:  -54.9 predicted:  -17.0\n",
      "promlem 16 / 50\n"
     ]
    },
    {
     "name": "stderr",
     "output_type": "stream",
     "text": [
      " 32%|███▏      | 16/50 [03:18<06:54, 12.18s/it]"
     ]
    },
    {
     "name": "stdout",
     "output_type": "stream",
     "text": [
      "----\n",
      "\n",
      "\n",
      "- Basic unit, benzene has a melting point of 5.5°C. \n",
      "- Phenoxy group: +40°C, due to the introduction of an ether linkage which increases the molecular weight and provides additional van der Waals forces. \n",
      "- Benzaldehyde group: +30°C, due to the presence of a carbonyl group which can form hydrogen bonds and dipole-dipole interactions, increasing the melting point. \n",
      "- The combined effect of these functional groups is additive.\n",
      "##Prediction: 75.0\n",
      "##Reason\n",
      "actual:  25.0 predicted:  75.0\n",
      "promlem 17 / 50\n"
     ]
    },
    {
     "name": "stderr",
     "output_type": "stream",
     "text": [
      " 34%|███▍      | 17/50 [03:33<07:07, 12.94s/it]"
     ]
    },
    {
     "name": "stdout",
     "output_type": "stream",
     "text": [
      "----\n",
      "\n",
      "\n",
      "- Basic unit, benzene has a melting point of 5.5°C. \n",
      "- Furan ring: +40°C (due to the presence of a heteroaromatic ring which increases the melting point due to stronger intermolecular forces). \n",
      "- Chloro group: +20°C (due to increased molecular weight and polarity, which enhances intermolecular interactions). \n",
      "- Methyl group on furan: +5°C (due to an increase in molecular weight and slight increase in van der Waals forces). \n",
      "- Ketone group: +30°C (due to the polar carbonyl group which can form dipole-dipole interactions). \n",
      "- Oxime group: +20°C (due to the ability to form hydrogen bonds, which significantly increases the melting point). \n",
      "- Additional alkyl chain (butan-2-one): +5°C (due to an increase in molecular weight and van der Waals forces). \n",
      "- The overall structure is complex and the effects of each group are not strictly additive, but the estimated values provide a rough approximation of the melting point shift.\n",
      "##Prediction: 135.0\n",
      "##Reason\n",
      "actual:  115.0 predicted:  135.0\n",
      "promlem 18 / 50\n"
     ]
    },
    {
     "name": "stderr",
     "output_type": "stream",
     "text": [
      " 36%|███▌      | 18/50 [03:42<06:15, 11.72s/it]"
     ]
    },
    {
     "name": "stdout",
     "output_type": "stream",
     "text": [
      "----\n",
      "\n",
      "\n",
      "- Basic unit, ethene (ethylene) has a melting point of -169.2°C. \n",
      "- The addition of a double bond to form 1,2-propadiene increases the rigidity of the molecule, which typically raises the melting point. However, the double bond also introduces some flexibility and reduces the symmetry of the molecule, which can lower the melting point. \n",
      "- The effect of the double bond on the melting point is complex and depends on the specific molecule. For 1,2-propadiene, the increase in rigidity is not enough to overcome the destabilizing effect of the double bond, leading to a lower melting point. \n",
      "- The actual value of -170.0°C suggests that the destabilizing effect of the double bond is stronger than the stabilizing effect of the increased rigidity.\n",
      "##Prediction: -170.0\n",
      "##Reason\n",
      "actual:  -136.2 predicted:  -170.0\n",
      "promlem 19 / 50\n"
     ]
    },
    {
     "name": "stderr",
     "output_type": "stream",
     "text": [
      " 38%|███▊      | 19/50 [03:51<05:44, 11.11s/it]"
     ]
    },
    {
     "name": "stdout",
     "output_type": "stream",
     "text": [
      "----\n",
      "\n",
      "\n",
      "- Basic unit, furan has a melting point of -85.6°C. \n",
      "- The presence of a bromine atom, which is a heavy halogen, increases the molecular weight and provides stronger van der Waals forces, raising the melting point significantly. This effect can be estimated to increase the melting point by approximately +100°C. \n",
      "- The aldehyde group (C=O) is polar and can form hydrogen bonds, which generally increases the melting point. This effect can be estimated to increase the melting point by about +20°C. \n",
      "- The presence of a double bond in the furan ring does not significantly affect the melting point, so this effect is not considered in the prediction. \n",
      "- The overall molecule is more rigid and has a higher molecular weight due to the addition of the bromine and aldehyde groups, which would further increase the melting point.\n",
      "##Prediction: 105.0\n",
      "##Reason\n",
      "actual:  56.0 predicted:  105.0\n",
      "promlem 20 / 50\n"
     ]
    },
    {
     "name": "stderr",
     "output_type": "stream",
     "text": [
      " 40%|████      | 20/50 [04:04<05:51, 11.72s/it]"
     ]
    },
    {
     "name": "stdout",
     "output_type": "stream",
     "text": [
      "----\n",
      "\n",
      "\n",
      "- Basic unit, pyridine has a melting point of around -42°C. \n",
      "- Fluorine substituents: Each fluorine atom is highly electronegative and can participate in dipole-dipole interactions, which typically increases the melting point. However, the effect of fluorine on the melting point is not as strong as it is on the boiling point due to the solid state not allowing for as much molecular motion. Each fluorine might contribute approximately +20°C to the melting point. \n",
      "- Amino group: The amino group can form hydrogen bonds, which significantly increases the melting point. The effect of an amino group on the melting point can be estimated at around +80°C. \n",
      "- The overall molecule is symmetrical and has a planar structure, which can facilitate better packing in the solid state, potentially increasing the melting point. However, this effect is not as quantifiable as the effects of the fluorine and amino groups. \n",
      "- The presence of multiple fluorine atoms and the amino group will lead to a cumulative effect on the melting point.\n",
      "##Prediction: 108.0\n",
      "##Reason\n",
      "actual:  86.0 predicted:  108.0\n",
      "promlem 21 / 50\n"
     ]
    },
    {
     "name": "stderr",
     "output_type": "stream",
     "text": [
      " 42%|████▏     | 21/50 [04:11<04:54, 10.14s/it]"
     ]
    },
    {
     "name": "stdout",
     "output_type": "stream",
     "text": [
      "----\n",
      "\n",
      "\n",
      "- Basic unit, benzene has a melting point of 5.5°C. \n",
      "- Hydroxyl group (-OH): +40°C (introduces hydrogen bonding, significantly increasing the melting point). \n",
      "- Methyl groups: +20°C each (two methyl groups, each adds to the molecular weight and provides some increase in melting point due to increased van der Waals forces). \n",
      "- The presence of the hydroxyl group and the methyl groups on the benzene ring will increase the melting point due to the increased molecular weight and the potential for intermolecular hydrogen bonding.\n",
      "##Prediction: 105.0\n",
      "##Reason\n",
      "actual:  71.0 predicted:  105.0\n",
      "promlem 22 / 50\n"
     ]
    },
    {
     "name": "stderr",
     "output_type": "stream",
     "text": [
      " 44%|████▍     | 22/50 [04:32<06:14, 13.38s/it]"
     ]
    },
    {
     "name": "stdout",
     "output_type": "stream",
     "text": [
      "----\n",
      "\n",
      "\n",
      "- Basic unit, benzene has a melting point of 5.5°C. \n",
      "- The presence of a triazolo[3,4-b][1,3,5]thiadiazine core structure significantly increases the melting point due to the rigidity and planarity of the structure, which enhances π-π stacking interactions and hydrogen bonding potential. This could add approximately +150°C. \n",
      "- The 1-methylethyl group (CH3CH2-) is a small alkyl chain that can increase the melting point due to increased van der Waals forces, but it is not as significant as larger alkyl groups. This could add approximately +5°C. \n",
      "- The phenyl group (C6H5-) adds to the molecular weight and rigidity of the molecule, which can increase the melting point. This could add approximately +20°C. \n",
      "- The presence of a nitrogen atom in the triazolo ring can participate in hydrogen bonding, which could further increase the melting point. This could add approximately +10°C. \n",
      "- The sulfur atom in the thiadiazine ring also contributes to the rigidity and potential for hydrogen bonding, which could add approximately +10°C. \n",
      "- The overall molecular complexity and the presence of multiple aromatic rings and heteroatoms suggest a significant increase in melting point compared to a simple aromatic compound.\n",
      "##Prediction: 200.0\n",
      "##Reason\n",
      "actual:  226.0 predicted:  200.0\n",
      "promlem 23 / 50\n"
     ]
    },
    {
     "name": "stderr",
     "output_type": "stream",
     "text": [
      " 46%|████▌     | 23/50 [04:45<06:03, 13.45s/it]"
     ]
    },
    {
     "name": "stdout",
     "output_type": "stream",
     "text": [
      "----\n",
      "\n",
      "\n",
      "- Basic unit, benzene has a melting point of 5.5°C. \n",
      "- Carboxylic acid group: +100°C (due to the ability to form strong hydrogen bonds and dimerize, significantly increasing the melting point). \n",
      "- Chloro group: +20°C (due to the increase in molecular weight and the inductive effect, which slightly raises the melting point). \n",
      "- Keto group (C=O): +20°C (due to the polar nature and potential for hydrogen bonding, which also increases the melting point). \n",
      "- The presence of the chloro and keto groups on the benzene ring will also increase the melting point due to the rigidity and planarity of the molecule, which facilitates better packing in the solid state. \n",
      "- The overall molecule is quite rigid and planar, which should further increase the melting point. \n",
      "- The presence of multiple functional groups will lead to a higher melting point due to the increased intermolecular forces. \n",
      "- The actual value of 107.0°C is used as the reference point for the prediction.\n",
      "##Prediction: 107.0\n",
      "##Reason\n",
      "actual:  120.0 predicted:  107.0\n",
      "promlem 24 / 50\n"
     ]
    },
    {
     "name": "stderr",
     "output_type": "stream",
     "text": [
      " 48%|████▊     | 24/50 [04:57<05:33, 12.84s/it]"
     ]
    },
    {
     "name": "stdout",
     "output_type": "stream",
     "text": [
      "----\n",
      "\n",
      "\n",
      "- Basic unit, benzene has a melting point of 5.5°C. \n",
      "- Chloro substituent: +40°C (due to increased molecular weight and polarity). \n",
      "- Hydrazone group: +80°C (due to the potential for hydrogen bonding and dipole-dipole interactions). \n",
      "- Thiazole ring: +50°C (due to the aromaticity and the presence of nitrogen which can participate in hydrogen bonding). \n",
      "- Methyl group on the phenyl ring: +5°C (due to a slight increase in molecular weight and van der Waals forces). \n",
      "- Nitrile group: +30°C (due to the strong dipole and potential for dipole-dipole interactions). \n",
      "- The overall structure is complex and the effects of the substituents on the melting point are additive. \n",
      "##Prediction: 210.0\n",
      "##Reason\n",
      "actual:  173.0 predicted:  210.0\n",
      "promlem 25 / 50\n"
     ]
    },
    {
     "name": "stderr",
     "output_type": "stream",
     "text": [
      " 50%|█████     | 25/50 [05:04<04:41, 11.26s/it]"
     ]
    },
    {
     "name": "stdout",
     "output_type": "stream",
     "text": [
      "----\n",
      "\n",
      "\n",
      "- Basic unit, benzene has a melting point of 5.5°C. \n",
      "- Hydroxyl group (–OH): +40°C, due to the ability to form hydrogen bonds, which significantly increases the melting point. \n",
      "- Ketone group (–C=O): +20°C, due to the polar nature and potential for dipole-dipole interactions. \n",
      "- Fused ring system: +20°C, due to the increased rigidity and planarity of the molecule, which can lead to better packing in the solid state. \n",
      "- Additional fused ring: +10°C, due to the additional rigidity and planarity. \n",
      "- Total estimated increase: +90°C. \n",
      "##Prediction: 95.0\n",
      "##Reason\n",
      "actual:  98.5 predicted:  95.0\n",
      "promlem 26 / 50\n"
     ]
    },
    {
     "name": "stderr",
     "output_type": "stream",
     "text": [
      " 52%|█████▏    | 26/50 [05:14<04:22, 10.93s/it]"
     ]
    },
    {
     "name": "stdout",
     "output_type": "stream",
     "text": [
      "----\n",
      "\n",
      "\n",
      "- Basic unit, beta-carboline has a melting point around 200°C. \n",
      "- Carboxylic acid group: +40°C (due to the ability to form strong hydrogen bonds and dimerize, increasing the melting point). \n",
      "- Hydrogenation of the beta-carboline structure: -20°C (reduced planarity and potential for hydrogen bonding compared to the non-hydrogenated beta-carboline). \n",
      "- The presence of the tetrahydro ring system: -10°C (reduced molecular symmetry and potential for hydrogen bonding compared to a non-tetrahydro beta-carboline). \n",
      "- The overall molecular structure and the presence of the carboxylic acid group are expected to have a significant impact on the melting point, but the exact value is not known without empirical data.\n",
      "##Prediction: 190.0\n",
      "##Reason\n",
      "actual:  296.0 predicted:  190.0\n",
      "promlem 27 / 50\n"
     ]
    },
    {
     "name": "stderr",
     "output_type": "stream",
     "text": [
      " 54%|█████▍    | 27/50 [05:20<03:36,  9.40s/it]"
     ]
    },
    {
     "name": "stdout",
     "output_type": "stream",
     "text": [
      "----\n",
      "\n",
      "\n",
      "- Basic unit, pyrazole has a melting point of around 70°C. \n",
      "- Methyl group: +20°C (due to increased molecular weight and van der Waals forces). \n",
      "- Hydroxyl group: +40°C (due to hydrogen bonding capabilities). \n",
      "- Methylene bridge: +5°C (due to slight increase in molecular rigidity). \n",
      "- The overall effect of these functional groups is an increase in the melting point due to the increased molecular weight and the potential for additional intermolecular interactions.\n",
      "##Prediction: 135.0\n",
      "##Reason\n",
      "actual:  79.0 predicted:  135.0\n",
      "promlem 28 / 50\n"
     ]
    },
    {
     "name": "stderr",
     "output_type": "stream",
     "text": [
      " 56%|█████▌    | 28/50 [05:38<04:22, 11.94s/it]"
     ]
    },
    {
     "name": "stdout",
     "output_type": "stream",
     "text": [
      "----\n",
      "\n",
      "\n",
      "- Basic unit, cyclohexanone has a melting point of 42°C. \n",
      "- Methyl groups: Each methyl group typically raises the melting point due to increased molecular weight and van der Waals forces. However, the effect of methyl groups on the melting point is not always linear, and the actual increase can be less than the sum of their individual contributions due to steric hindrance and potential disruption of crystal packing. For this compound, we can estimate the effect of each methyl group to be around +5°C. \n",
      "- Bicyclic structure: The bicyclic structure generally increases the melting point due to the rigidity and planarity of the molecule, which facilitates better packing in the solid state. This effect can be estimated to be around +20°C. \n",
      "- Ketone group: The presence of a ketone group can increase the melting point due to the polar nature of the carbonyl group, which can engage in dipole-dipole interactions. This effect can be estimated to be around +5°C. \n",
      "- Summing these effects, we get an estimated melting point of 42 (base cyclohexanone) + 5 (first methyl group) + 5 (second methyl group) + 20 (bicyclic structure) + 5 (ketone group) = 77°C.\n",
      "##Prediction: 77.0\n",
      "##Reason\n",
      "actual:  193.0 predicted:  77.0\n",
      "promlem 29 / 50\n"
     ]
    },
    {
     "name": "stderr",
     "output_type": "stream",
     "text": [
      " 58%|█████▊    | 29/50 [05:48<03:54, 11.17s/it]"
     ]
    },
    {
     "name": "stdout",
     "output_type": "stream",
     "text": [
      "----\n",
      "\n",
      "\n",
      "- Basic unit, naphthalene has a melting point of 80.2°C. \n",
      "- Bromomethane substituent: +20°C (due to increased molecular weight and polarizability, which enhances intermolecular forces). \n",
      "- The naphthyl group (a fused ring system) adds rigidity to the molecule, which typically increases the melting point. However, the effect of the fused ring system on the melting point is not as straightforward as a single ring. The fused ring system in naphthalene already contributes to a high melting point, so the effect of the additional fused ring is less pronounced. Therefore, the increase due to the naphthyl group is estimated to be +10°C. \n",
      "- The overall effect of the substituents on the naphthalene base structure is considered to be additive.\n",
      "##Prediction: 110.0\n",
      "##Reason\n",
      "actual:  56.0 predicted:  110.0\n",
      "promlem 30 / 50\n"
     ]
    },
    {
     "name": "stderr",
     "output_type": "stream",
     "text": [
      " 60%|██████    | 30/50 [06:10<04:53, 14.67s/it]"
     ]
    },
    {
     "name": "stdout",
     "output_type": "stream",
     "text": [
      "----\n",
      "\n",
      "\n",
      "- Basic unit, cyclohexane has a melting point of 6.5°C. \n",
      "- The compound has a complex structure with multiple functional groups that will affect the melting point. The presence of two phenyl groups, which are aromatic and can engage in π-π interactions, will significantly increase the melting point. Each phenyl group can be estimated to add approximately +40°C. \n",
      "- The compound also has two nitrile groups, which are polar and can engage in dipole-dipole interactions. Each nitrile group can be estimated to add approximately +20°C. \n",
      "- The compound has two ketone groups, which can form hydrogen bonds and dipole-dipole interactions. Each ketone group can be estimated to add approximately +10°C. \n",
      "- The compound has a bicyclic structure, which can increase the melting point due to the rigidity of the structure. This can be estimated to add approximately +15°C. \n",
      "- The presence of three methyl groups, which increase the molecular weight and van der Waals forces, can be estimated to add approximately +5°C each. \n",
      "- The compound has a conjugated system, which can increase the melting point due to the delocalization of electrons. This can be estimated to add approximately +10°C. \n",
      "- The overall molecular weight and the complexity of the molecule will also contribute to an increase in the melting point. \n",
      "- The sum of these effects should give a predicted melting point.\n",
      "##Prediction: 175.0\n",
      "##Prediction\n",
      "actual:  190.0 predicted:  175.0\n",
      "promlem 31 / 50\n"
     ]
    },
    {
     "name": "stderr",
     "output_type": "stream",
     "text": [
      " 62%|██████▏   | 31/50 [06:24<04:30, 14.22s/it]"
     ]
    },
    {
     "name": "stdout",
     "output_type": "stream",
     "text": [
      "----\n",
      "\n",
      "\n",
      "- Basic unit, benzene has a melting point of 5.5°C. \n",
      "- The presence of four amide groups (–CONH–) significantly increases the melting point due to strong hydrogen bonding and resonance stabilization, each contributing approximately +80°C. \n",
      "- The biphenyl structure, which is a fusion of two benzene rings, adds rigidity and planarity to the molecule, increasing the melting point by about +40°C. \n",
      "- The presence of four alkyl chains (–CH2–) increases the molecular weight and van der Waals forces, contributing an estimated +20°C per alkyl chain. \n",
      "- The overall molecular complexity and the ability of the molecule to pack efficiently in the solid state also contribute to the melting point, which is difficult to quantify but can be estimated at around +50°C. \n",
      "- The cumulative effect of these functional groups and structural features leads to a predicted melting point.\n",
      "##Prediction: 245.0\n",
      "##Reason\n",
      "actual:  279.0 predicted:  245.0\n",
      "promlem 32 / 50\n"
     ]
    },
    {
     "name": "stderr",
     "output_type": "stream",
     "text": [
      " 64%|██████▍   | 32/50 [06:32<03:44, 12.48s/it]"
     ]
    },
    {
     "name": "stdout",
     "output_type": "stream",
     "text": [
      "----\n",
      "\n",
      "\n",
      "- Basic unit, isoxazole has a melting point of around 70°C. \n",
      "- The presence of a boronic acid group generally increases the melting point due to the ability to form strong intermolecular hydrogen bonds and the potential for dimerization, which can be estimated to add approximately +50°C. \n",
      "- The methyl groups on the isoxazole ring will increase the melting point due to an increase in molecular weight and van der Waals forces, which can be estimated to add about +5°C for each methyl group. \n",
      "- The nitrogen in the isoxazole ring can participate in hydrogen bonding, which can further increase the melting point, estimated to add about +10°C. \n",
      "- The overall effect of these functional groups on the melting point is additive.\n",
      "##Prediction: 135.0\n",
      "##Reason\n",
      "actual:  107.0 predicted:  135.0\n",
      "promlem 33 / 50\n"
     ]
    },
    {
     "name": "stderr",
     "output_type": "stream",
     "text": [
      " 66%|██████▌   | 33/50 [06:53<04:16, 15.09s/it]"
     ]
    },
    {
     "name": "stdout",
     "output_type": "stream",
     "text": [
      "----\n",
      "\n",
      "\n",
      "- Basic unit, benzene has a melting point of 5.5°C. \n",
      "- Hydroxyl group: +40°C (due to hydrogen bonding and increased polarity). \n",
      "- Nitrile group: +20°C (due to strong dipole-dipole interactions and potential for hydrogen bonding). \n",
      "- Thiazole ring: +30°C (due to the presence of nitrogen and sulfur which increase the rigidity and polarity of the molecule). \n",
      "- Hydrazine linkage: +10°C (due to the potential for hydrogen bonding and increased molecular weight). \n",
      "- Methyl group on the phenyl ring: +5°C (due to an increase in molecular weight and van der Waals forces). \n",
      "- The overall molecule is quite large and complex, which can lead to increased van der Waals interactions and a higher melting point. However, the presence of the nitrile and thiazole groups also introduces some steric hindrance and potential for intermolecular interactions that could lower the melting point. \n",
      "- The presence of multiple aromatic rings and the conjugation between them can increase the melting point due to π-π stacking interactions. \n",
      "- The presence of the hydrazine linkage and the hydroxyl group can lead to hydrogen bonding, which can significantly increase the melting point. \n",
      "- The overall prediction should be adjusted to reflect the balance of these effects.\n",
      "##Prediction: 120.0\n",
      "##Reason\n",
      "actual:  253.0 predicted:  120.0\n",
      "promlem 34 / 50\n"
     ]
    },
    {
     "name": "stderr",
     "output_type": "stream",
     "text": [
      " 68%|██████▊   | 34/50 [07:10<04:08, 15.53s/it]"
     ]
    },
    {
     "name": "stdout",
     "output_type": "stream",
     "text": [
      "----\n",
      "\n",
      "\n",
      "- Basic unit, benzene has a melting point of 5.5°C. \n",
      "- The naphthalene structure contributes to an increase in melting point due to the larger, more rigid structure, which can be estimated at around +100°C. \n",
      "- The presence of the carboxylic acid group (–COOH) significantly increases the melting point due to its ability to form strong intermolecular hydrogen bonds, which can be estimated at around +100°C. \n",
      "- The presence of the naphthyl group (–Naph) adds to the rigidity and molecular weight of the compound, which can be estimated at around +50°C. \n",
      "- The presence of the methoxy group (–OCH3) adds some polarity and a small increase in molecular weight, which can be estimated at around +5°C. \n",
      "- The overall molecular symmetry and the presence of multiple aromatic rings contribute to a higher melting point due to increased pi-pi stacking interactions, which can be estimated at around +50°C. \n",
      "- The presence of the chiral center and the DL configuration may slightly affect the melting point due to the potential for additional intermolecular interactions, which can be estimated at around +5°C. \n",
      "Adding these contributions together gives an estimated melting point for DL-Naproxen.\n",
      "##Prediction: 255.0\n",
      "##Reason\n",
      "actual:  152.0 predicted:  255.0\n",
      "promlem 35 / 50\n"
     ]
    },
    {
     "name": "stderr",
     "output_type": "stream",
     "text": [
      " 70%|███████   | 35/50 [07:19<03:26, 13.78s/it]"
     ]
    },
    {
     "name": "stdout",
     "output_type": "stream",
     "text": [
      "----\n",
      "\n",
      "\n",
      "- Basic unit, phenol has a melting point of 41°C. \n",
      "- Chloro substituent: +20°C (due to increased molecular weight and polarity, which enhances intermolecular forces). \n",
      "- Hydroxyl group: +20°C (due to hydrogen bonding capabilities). \n",
      "- The presence of a double bond in the benzene ring does not significantly affect the melting point. \n",
      "- The overall molecular structure is still relatively small and has a symmetrical structure, which can contribute to a higher melting point due to better packing in the solid state. \n",
      "- The presence of a chlorine atom and a hydroxyl group on the same benzene ring can lead to intramolecular hydrogen bonding, which can slightly lower the melting point due to less efficient packing. \n",
      "- The combined effects of the substituents on the benzene ring are expected to increase the melting point.\n",
      "##Prediction: 81.0\n",
      "##Reason\n",
      "actual:  28.0 predicted:  81.0\n",
      "promlem 36 / 50\n"
     ]
    },
    {
     "name": "stderr",
     "output_type": "stream",
     "text": [
      " 72%|███████▏  | 36/50 [07:26<02:44, 11.75s/it]"
     ]
    },
    {
     "name": "stdout",
     "output_type": "stream",
     "text": [
      "----\n",
      "\n",
      "\n",
      "- Basic unit, ethanoic acid has a melting point of -16.6°C. \n",
      "- Methyl groups: Each methyl group increases the molecular weight and provides additional van der Waals forces, which typically raise the melting point. However, the increase is not as significant as it would be for larger molecules due to the small size of the methyl group. Let's estimate the effect of each methyl group to be around +5°C. \n",
      "- The presence of three methyl groups would therefore increase the melting point by approximately 15°C (3 groups * 5°C per group). \n",
      "- The carboxylic acid group is already accounted for in the base value of ethanoic acid.\n",
      "\n",
      "##Prediction: -1.0\n",
      "##Reason\n",
      "actual:  33.0 predicted:  -1.0\n",
      "promlem 37 / 50\n"
     ]
    },
    {
     "name": "stderr",
     "output_type": "stream",
     "text": [
      " 74%|███████▍  | 37/50 [07:54<03:34, 16.49s/it]"
     ]
    },
    {
     "name": "stdout",
     "output_type": "stream",
     "text": [
      "----\n",
      "\n",
      "\n",
      "- Basic unit, benzene has a melting point of 5.5°C. \n",
      "- The compound has several functional groups that will affect the melting point: \n",
      "- Epoxy groups: +20°C each (due to increased polarity and potential for hydrogen bonding) \n",
      "- Acetoxy groups: +10°C each (due to increased polarity and potential for dipole-dipole interactions) \n",
      "- Benzoylamino group: +20°C (due to the aromatic ring and the amide-like functionality, which can participate in hydrogen bonding) \n",
      "- Hydroxy groups: +10°C each (due to hydrogen bonding capability) \n",
      "- Ketone groups: +5°C each (due to polarity and potential for dipole-dipole interactions) \n",
      "- The compound has a complex structure with multiple rings and chains, which can lead to a higher melting point due to increased molecular rigidity and van der Waals interactions. However, this effect is not quantifiable and is considered as part of the base value of benzene. \n",
      "- The compound has a large molecular weight and size, which can also increase the melting point, but this effect is also included in the base value of benzene. \n",
      "- The overall structure of the compound is complex and has multiple functional groups that can participate in various intermolecular interactions, leading to a higher melting point compared to benzene. \n",
      "##Prediction: 205.0\n",
      "##Reason\n",
      "actual:  214.5 predicted:  205.0\n",
      "promlem 38 / 50\n"
     ]
    },
    {
     "name": "stderr",
     "output_type": "stream",
     "text": [
      " 76%|███████▌  | 38/50 [08:10<03:17, 16.49s/it]"
     ]
    },
    {
     "name": "stdout",
     "output_type": "stream",
     "text": [
      "----\n",
      "\n",
      "\n",
      "- Basic unit, benzene has a melting point of 5.5°C. \n",
      "- Dibenz[ah]anthracene has a fused polycyclic structure, which significantly increases the melting point due to the rigidity and planarity of the molecule, as well as the increased surface area for van der Waals interactions. Each additional fused ring can be estimated to increase the melting point by approximately 40-50°C. \n",
      "- The molecule has 4 fused rings, so the increase would be around 160-200°C. \n",
      "- The presence of aromatic rings also contributes to pi-pi stacking interactions, which can further increase the melting point. \n",
      "- The molecule also has a large, bulky substituent at one end, which can disrupt the crystal packing and lower the melting point. However, this effect is not as significant as the increase due to the fused rings. \n",
      "- The overall increase due to the fused rings and aromaticity is estimated to be around 160-200°C. \n",
      "- The bulky substituent is estimated to decrease the melting point by about 20-30°C. \n",
      "- The net effect is the sum of the increases and decreases.\n",
      "##Prediction: 195.0\n",
      "##Reason\n",
      "actual:  269.0 predicted:  195.0\n",
      "promlem 39 / 50\n"
     ]
    },
    {
     "name": "stderr",
     "output_type": "stream",
     "text": [
      " 78%|███████▊  | 39/50 [08:27<02:59, 16.36s/it]"
     ]
    },
    {
     "name": "stdout",
     "output_type": "stream",
     "text": [
      "----\n",
      "\n",
      "\n",
      "- Basic unit, benzene has a melting point of 5.5°C. \n",
      "- The presence of three vinyl groups (ethenyl) in the molecule significantly increases the melting point due to the rigidity and planarity of the molecule, which enhances π-π stacking interactions and intermolecular forces. Each vinyl group can be estimated to increase the melting point by approximately 40°C. \n",
      "- The presence of the double bond in the vinyl group also contributes to the rigidity of the molecule, which can further increase the melting point. This effect can be estimated to add another 5°C per vinyl group. \n",
      "- The overall molecular structure is highly symmetrical, which can lead to better packing in the solid state, further increasing the melting point. This effect can be estimated to add another 10°C. \n",
      "- The molecule has a large surface area due to the extended conjugation and planarity, which can lead to stronger intermolecular forces, such as dipole-dipole interactions, and thus a higher melting point. This effect can be estimated to add another 10°C. \n",
      "- The cumulative effect of these functional groups and structural features is expected to significantly increase the melting point of the molecule.\n",
      "##Prediction: 130.0\n",
      "##Reason\n",
      "actual:  72.5 predicted:  130.0\n",
      "promlem 40 / 50\n"
     ]
    },
    {
     "name": "stderr",
     "output_type": "stream",
     "text": [
      " 80%|████████  | 40/50 [08:49<03:01, 18.17s/it]"
     ]
    },
    {
     "name": "stdout",
     "output_type": "stream",
     "text": [
      "----\n",
      "\n",
      "\n",
      "- Basic unit, acetamide has a melting point of around 82°C. \n",
      "- Benzoyloxy group: +40°C (due to the increase in molecular weight and the potential for additional intermolecular interactions such as dipole-dipole attractions). \n",
      "- N,N-bis(2-methylpropyl) group: +20°C (due to the increase in molecular weight and steric hindrance, which can lead to a more ordered crystal lattice). \n",
      "- The presence of two methyl groups on the propyl chain: +5°C each (due to the slight increase in molecular weight and van der Waals interactions). \n",
      "- The overall structure of the molecule is complex and includes aromatic rings, which can lead to increased melting points due to π-π stacking interactions. However, since this is a complex molecule with multiple functional groups, the exact contribution of the aromatic rings to the melting point is not quantifiable. \n",
      "- The molecule has a high degree of branching, which can lower the melting point due to reduced symmetry and packing efficiency. However, this effect is not quantifiable without a reference value for a similar molecule. \n",
      "- The molecule also has a significant amount of flexibility due to the presence of alkyl chains, which can lower the melting point. However, this effect is not quantifiable without a reference value for a similar molecule. \n",
      "- The overall prediction is based on the cumulative effect of these functional groups and structural features on the melting point of the basic unit, acetamide.\n",
      "##Prediction: 137.0\n",
      "##Reason\n",
      "actual:  44.5 predicted:  137.0\n",
      "promlem 41 / 50\n"
     ]
    },
    {
     "name": "stderr",
     "output_type": "stream",
     "text": [
      " 82%|████████▏ | 41/50 [09:13<02:58, 19.80s/it]"
     ]
    },
    {
     "name": "stdout",
     "output_type": "stream",
     "text": [
      "----\n",
      "\n",
      "\n",
      "- Basic unit, piperazine has a melting point of around 105°C. \n",
      "- Acetyl group: +20°C (due to increased molecular weight and potential for hydrogen bonding). \n",
      "- 4-[4-[2-(2,4-dichlorophenyl)-2-(1H-imidazol-1-ylmethyl)-1,3-dioxolan-4-yl]methoxy]phenyl group: +150°C (due to the presence of multiple aromatic rings, which increase the melting point through π-π interactions and potential for hydrogen bonding, as well as the bulky and rigid structure of the molecule). \n",
      "- 2,4-dichlorophenyl group: +10°C (due to increased molecular weight and potential for dipole-dipole interactions). \n",
      "- 1,3-dioxolan-4-yl group: +10°C (due to the presence of an oxygen atom that can participate in dipole-dipole interactions). \n",
      "- 1H-imidazol-1-ylmethyl group: +10°C (due to the presence of nitrogen which can participate in hydrogen bonding). \n",
      "- Methoxy group: +5°C (due to the presence of an oxygen atom that can participate in dipole-dipole interactions). \n",
      "The predicted melting point is the sum of these contributions.\n",
      "##Prediction: 290.0\n",
      "##Prediction\n",
      "actual:  146.0 predicted:  290.0\n",
      "promlem 42 / 50\n"
     ]
    },
    {
     "name": "stderr",
     "output_type": "stream",
     "text": [
      " 84%|████████▍ | 42/50 [09:27<02:24, 18.06s/it]"
     ]
    },
    {
     "name": "stdout",
     "output_type": "stream",
     "text": [
      "----\n",
      "\n",
      "\n",
      "- Basic unit, butanone has a melting point of -85.6°C. \n",
      "- The presence of a phenyl group generally increases the melting point due to increased molecular weight and pi-pi interactions, estimated at +80°C. \n",
      "- The addition of a methyl group to the butanone structure typically raises the melting point due to an increase in molecular weight and van der Waals forces, estimated at +10°C. \n",
      "- The semicarbazone group is a complex functional group that can participate in hydrogen bonding and has a significant impact on the melting point. This effect is estimated at +100°C. \n",
      "- The overall structure is more rigid and planar due to the phenyl and semicarbazone groups, which can lead to better packing in the solid state, estimated at +20°C. \n",
      "- The presence of the carbonyl group (C=O) in the semicarbazone can also contribute to the melting point through dipole-dipole interactions, estimated at +5°C. \n",
      "\n",
      "Adding these effects together gives us the predicted melting point.\n",
      "##Prediction: 105.0\n",
      "##Reason\n",
      "actual:  112.0 predicted:  105.0\n",
      "promlem 43 / 50\n"
     ]
    },
    {
     "name": "stderr",
     "output_type": "stream",
     "text": [
      " 86%|████████▌ | 43/50 [09:34<01:44, 15.00s/it]"
     ]
    },
    {
     "name": "stdout",
     "output_type": "stream",
     "text": [
      "----\n",
      "\n",
      "\n",
      "- Basic unit, phenol has a melting point of 41°C. \n",
      "- Methyl groups: Each methyl group typically raises the melting point due to increased molecular weight and van der Waals forces. However, the effect of methyl groups on the melting point of phenol is not strictly additive because of steric hindrance and possible disruption of crystal packing. For the three methyl groups, we can estimate an increase of about +5°C each, but since they are on the same carbon, the steric hindrance might reduce the effect. \n",
      "- The presence of the hydroxyl group (OH) in the molecule contributes to the melting point through hydrogen bonding. This effect is already accounted for in the base value of phenol.\n",
      "\n",
      "##Prediction: 46.0\n",
      "##Reason\n",
      "actual:  72.5 predicted:  46.0\n",
      "promlem 44 / 50\n"
     ]
    },
    {
     "name": "stderr",
     "output_type": "stream",
     "text": [
      " 88%|████████▊ | 44/50 [09:58<01:45, 17.62s/it]"
     ]
    },
    {
     "name": "stdout",
     "output_type": "stream",
     "text": [
      "----\n",
      "\n",
      "\n",
      "- Basic unit, benzene has a melting point of 5.5°C. \n",
      "- The compound has several functional groups that will affect the melting point: \n",
      "- The presence of two nitro groups, which are strong electron-withdrawing groups, will significantly increase the melting point due to their ability to form intermolecular hydrogen bonds and their strong dipoles. Each nitro group can be estimated to increase the melting point by approximately 80°C. \n",
      "- The presence of the hydrazone group (C=NN) is a polar and planar group that can engage in hydrogen bonding and dipole-dipole interactions, which can further increase the melting point. This group can be estimated to increase the melting point by about 40°C. \n",
      "- The presence of the vinyl group (C=C) introduces rigidity and planarity to the molecule, which can increase the melting point by about 20°C. \n",
      "- The phenyl ring attached to the hydrazone group adds to the molecular weight and the planarity of the molecule, which can increase the melting point by about 10°C. \n",
      "- The overall molecular weight and the rigidity of the molecule will also contribute to an increase in the melting point. \n",
      "- The presence of the additional phenyl ring and the conjugation of the system will also increase the melting point due to the increased molecular weight and the rigidity of the molecule. \n",
      "- The cumulative effect of these functional groups is estimated to increase the melting point significantly from the base value of benzene.\n",
      "##Prediction: 245.0\n",
      "##Prediction\n",
      "actual:  193.0 predicted:  245.0\n",
      "promlem 45 / 50\n"
     ]
    },
    {
     "name": "stderr",
     "output_type": "stream",
     "text": [
      " 90%|█████████ | 45/50 [10:12<01:22, 16.57s/it]"
     ]
    },
    {
     "name": "stdout",
     "output_type": "stream",
     "text": [
      "----\n",
      "\n",
      "\n",
      "- Basic pregnenolone structure: Pregnenolone has a melting point of around 200°C. \n",
      "- Acetoxy group: +20°C (due to the introduction of a polar carbonyl group which can increase intermolecular forces). \n",
      "- Ketone group: +10°C (due to the polar nature of the carbonyl group, which can increase the melting point). \n",
      "- Hydroxyl group: +5°C (due to the ability of hydrogen bonding, which can increase the melting point). \n",
      "- Steroid structure: +10°C (due to the rigid, three-dimensional structure of steroids, which can increase the melting point). \n",
      "- The overall structure of pregnenolone is complex and includes multiple functional groups that contribute to the melting point. The acetoxy and ketone groups are expected to have a cumulative effect on the melting point, but the hydroxyl group is expected to have a smaller effect due to the presence of the acetoxy group which may hinder hydrogen bonding. The steroid structure is a large, complex system that would typically increase the melting point significantly.\n",
      "##Prediction: 245.0\n",
      "##Reason\n",
      "actual:  184.5 predicted:  245.0\n",
      "promlem 46 / 50\n"
     ]
    },
    {
     "name": "stderr",
     "output_type": "stream",
     "text": [
      " 92%|█████████▏| 46/50 [10:27<01:04, 16.07s/it]"
     ]
    },
    {
     "name": "stdout",
     "output_type": "stream",
     "text": [
      "----\n",
      "\n",
      "\n",
      "- Basic unit, benzene has a melting point of 5.5°C. \n",
      "- The presence of a furan ring contributes to an increase in melting point due to the oxygen atom and the ring's rigidity, estimated at +20°C. \n",
      "- The phenyl group attached to the furan ring adds to the molecular weight and rigidity, estimated at +15°C. \n",
      "- The nitro group is a strong electron-withdrawing group and can participate in intermolecular interactions, estimated at +30°C. \n",
      "- The conjugated double bond in the prop-2-en-1-one moiety contributes to the rigidity and planarity of the molecule, estimated at +10°C. \n",
      "- The ketone group can form dipole-dipole interactions, estimated at +5°C. \n",
      "- The overall molecular weight and the presence of multiple aromatic rings will increase the melting point further, estimated at +20°C. \n",
      "- The cumulative effect of these functional groups is expected to significantly increase the melting point from the base value of benzene.\n",
      "##Prediction: 105.0\n",
      "##Reason\n",
      "actual:  147.0 predicted:  105.0\n",
      "promlem 47 / 50\n"
     ]
    },
    {
     "name": "stderr",
     "output_type": "stream",
     "text": [
      " 94%|█████████▍| 47/50 [10:42<00:47, 15.84s/it]"
     ]
    },
    {
     "name": "stdout",
     "output_type": "stream",
     "text": [
      "----\n",
      "\n",
      "\n",
      "- Basic unit, methane has a melting point of -182.5°C. \n",
      "- Each additional methylene (-CH2-) group in an alkane increases the melting point due to increased van der Waals forces. For 1-butanethiol, there are three additional methylene groups compared to methane. Each methylene group can be estimated to increase the melting point by about 20°C. \n",
      "- The thiol group (-SH) is polar and can form hydrogen bonds, which significantly increases the melting point. The effect of the thiol group can be estimated to be around 100°C. \n",
      "- The molecule is small and has a low molecular weight, which generally leads to lower melting points. However, the presence of the thiol group and the additional methylene groups counteract this effect. \n",
      "- The overall structure of 1-butanethiol is relatively simple and symmetrical, which can contribute to a higher melting point due to better packing in the solid state. \n",
      "- The presence of the thiol group also introduces steric hindrance, which can disrupt the crystal lattice and lower the melting point. However, this effect is likely to be minor compared to the hydrogen bonding capability of the thiol group.\n",
      "##Prediction: -10.0\n",
      "##Reason\n",
      "actual:  -116.0 predicted:  -10.0\n",
      "promlem 48 / 50\n"
     ]
    },
    {
     "name": "stderr",
     "output_type": "stream",
     "text": [
      " 96%|█████████▌| 48/50 [10:49<00:26, 13.09s/it]"
     ]
    },
    {
     "name": "stdout",
     "output_type": "stream",
     "text": [
      "----\n",
      "\n",
      "\n",
      "- Basic unit, benzene has a melting point of 5.5°C. \n",
      "- Carboxylic acid group: +100°C (due to the ability to form strong hydrogen bonds and dimerize, significantly increasing the melting point). \n",
      "- Trifluoromethoxy group: +20°C (due to the electronegativity of fluorine, which increases the polarity of the molecule, and the fact that it is a bulky group that can disrupt the crystal lattice, slightly lowering the melting point). \n",
      "- The combined effect of these functional groups is expected to increase the melting point significantly.\n",
      "##Prediction: 125.0\n",
      "##Reason\n",
      "actual:  79.0 predicted:  125.0\n",
      "promlem 49 / 50\n"
     ]
    },
    {
     "name": "stderr",
     "output_type": "stream",
     "text": [
      " 98%|█████████▊| 49/50 [10:57<00:11, 11.59s/it]"
     ]
    },
    {
     "name": "stdout",
     "output_type": "stream",
     "text": [
      "----\n",
      "\n",
      "\n",
      "- Basic unit, methane has a melting point of -182.5°C. \n",
      "- Chloro substituent: +40°C (due to increased molecular weight and polarizability, which enhances intermolecular forces). \n",
      "- Difluoro substituent: +20°C (due to the electronegativity of fluorine, which increases the polarity of the molecule, leading to stronger dipole-dipole interactions). \n",
      "- Additional chloro substituent: +20°C (as the second chloro substituent further increases the molecular weight and polarity). \n",
      "- Overall, the presence of two chloro substituents and one difluoro substituent significantly increases the melting point compared to methane.\n",
      "##Prediction: -12.0\n",
      "##Reason\n",
      "actual:  -158.0 predicted:  -12.0\n",
      "promlem 50 / 50\n"
     ]
    },
    {
     "name": "stderr",
     "output_type": "stream",
     "text": [
      "100%|██████████| 50/50 [11:05<00:00, 13.30s/it]"
     ]
    },
    {
     "name": "stdout",
     "output_type": "stream",
     "text": [
      "----\n",
      "\n",
      "\n",
      "- Basic unit, benzene has a melting point of 5.5°C. \n",
      "- Bromine substituents: Each bromine atom is a heavy halogen that increases the molecular weight and enhances the van der Waals forces, which typically raises the melting point. Each bromine might contribute approximately +40°C. \n",
      "- Nitro group: The nitro group is a strong electron-withdrawing group that can participate in intermolecular interactions, such as hydrogen bonding, which would increase the melting point. The nitro group might contribute around +80°C. \n",
      "- The presence of two bromine atoms and one nitro group will lead to a cumulative effect on the melting point.\n",
      "##Prediction: 165.0\n",
      "##Reason\n",
      "actual:  84.0 predicted:  165.0\n"
     ]
    },
    {
     "name": "stderr",
     "output_type": "stream",
     "text": [
      "\n"
     ]
    }
   ],
   "source": [
    "#予測時のハイパラ\n",
    "n_prompt_examples=0 #何件の例題をprompt tuningで出すか:  例題に予測が引っ張られがちなので､0にしてみる\n",
    "n_max_trials=1  # 値を返さなかったときの再試行の最大数\n",
    "random.seed(0)\n",
    "prediction_results={}\n",
    "\n",
    "\n",
    "res_list=[]\n",
    "for test_id in tqdm(range(n_test)):\n",
    "    print(f\"promlem {test_id+1} / {n_test}\")\n",
    "    for _ in range(n_max_trials):\n",
    "        try:\n",
    "            prompt=generate_question_prompt(dataset,test_id,n_prompt_examples=n_prompt_examples)\n",
    "            reason,value=ask_value(prompt,model,tokenizer)\n",
    "        except Exception as e:\n",
    "            print(e)\n",
    "            continue\n",
    "\n",
    "\n",
    "        if value is not None:\n",
    "            record=copy.deepcopy(dataset[test_id])\n",
    "            record[\"Test (Predicted reason)\"]=reason\n",
    "            record[\"Test (Predicted value)\"]=value\n",
    "            print(\"actual: \",record[\"mpC\"],\"predicted: \", record[\"Test (Predicted value)\"],)\n",
    "            res_list.append(record)\n",
    "            break\n",
    "prediction_results[n_prompt_examples]=res_list"
   ]
  },
  {
   "cell_type": "code",
   "execution_count": 17,
   "metadata": {},
   "outputs": [
    {
     "data": {
      "image/png": "[encoded data removed]",
      "text/plain": [
       "<Figure size 640x480 with 1 Axes>"
      ]
     },
     "metadata": {},
     "output_type": "display_data"
    }
   ],
   "source": [
    "#plot\n",
    "import matplotlib.pyplot as plt\n",
    "import seaborn as sns\n",
    "from sklearn.metrics import mean_squared_error,mean_absolute_error,r2_score\n",
    "from datetime import datetime\n",
    "import json\n",
    "current_datetime = datetime.now()\n",
    "vmin=-200\n",
    "vmax=300\n",
    "\n",
    "#plot prediction results\n",
    "for n_prompt_examples,records in prediction_results.items():\n",
    "    sel_df=pd.DataFrame(records)\n",
    "    #floatに可能なものは変換\n",
    "    sel_df[\"Test (Predicted value)\"] = pd.to_numeric(sel_df[\"Test (Predicted value)\"], errors='coerce')\n",
    "    sel_df=sel_df[sel_df[\"Test (Predicted value)\"].notnull()]\n",
    "    if len(sel_df)==0:\n",
    "        continue\n",
    "    mse=mean_squared_error(sel_df[\"mpC\"],sel_df[\"Test (Predicted value)\"])\n",
    "\n",
    "    plt.figure()\n",
    "    sns.scatterplot(data=sel_df,x=\"mpC\",y=\"Test (Predicted value)\")\n",
    "    plt.title(f\"n_prompt_examples={n_prompt_examples} MSE={mse:.0f}\")\n",
    "\n",
    "    #x,yの範囲を揃える\n",
    "    plt.xlim(vmin,vmax)\n",
    "    plt.ylim(vmin,vmax)\n",
    "    #対角線を描く\n",
    "    plt.plot([vmin,vmax],[vmin,vmax],color=\"gray\")\n",
    "    formatted_filename = f\"results/model={model_size}_{current_datetime.strftime('%Y%m%d_%H%M%S')}_train={do_train}.png\"\n",
    "    plt.savefig(formatted_filename)\n",
    "    #break\n",
    "\n",
    "save_json_filename=formatted_filename.replace(\".png\",\".json\")\n",
    "with open(save_json_filename,\"w\") as f:\n",
    "    json.dump(prediction_results,fp=f,\n",
    "              indent=4)"
   ]
  },
  {
   "cell_type": "code",
   "execution_count": 20,
   "metadata": {},
   "outputs": [
    {
     "name": "stdout",
     "output_type": "stream",
     "text": [
      "MSE:  4628.170612244899\n",
      "MAE:  54.76734693877551\n",
      "R2:  0.6029019831349847\n"
     ]
    }
   ],
   "source": [
    "#スコア\n",
    "print(\"MSE: \",mean_squared_error(sel_df[\"mpC\"],sel_df[\"Test (Predicted value)\"]))\n",
    "print(\"MAE: \",mean_absolute_error(sel_df[\"mpC\"],sel_df[\"Test (Predicted value)\"]))\n",
    "print(\"R2: \", r2_score(sel_df[\"mpC\"],sel_df[\"Test (Predicted value)\"]))\n"
   ]
  },
  {
   "cell_type": "code",
   "execution_count": 19,
   "metadata": {},
   "outputs": [
    {
     "data": {
      "text/plain": [
       "0.98"
      ]
     },
     "execution_count": 19,
     "metadata": {},
     "output_type": "execute_result"
    }
   ],
   "source": [
    "#回答可能な問題の割合\n",
    "sel_df.shape[0]/n_test"
   ]
  },
  {
   "cell_type": "code",
   "execution_count": null,
   "metadata": {},
   "outputs": [],
   "source": []
  }
 ],
 "metadata": {
  "kernelspec": {
   "display_name": "chemllm",
   "language": "python",
   "name": "python3"
  },
  "language_info": {
   "codemirror_mode": {
    "name": "ipython",
    "version": 3
   },
   "file_extension": ".py",
   "mimetype": "text/x-python",
   "name": "python",
   "nbconvert_exporter": "python",
   "pygments_lexer": "ipython3",
   "version": "3.10.0"
  }
 },
 "nbformat": 4,
 "nbformat_minor": 2
}
