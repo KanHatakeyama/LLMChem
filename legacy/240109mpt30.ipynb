{
 "cells": [
  {
   "cell_type": "code",
   "execution_count": null,
   "metadata": {},
   "outputs": [],
   "source": [
    "# finetuning llama2"
   ]
  },
  {
   "cell_type": "markdown",
   "metadata": {},
   "source": [
    "# (Q)分子構造+(R)理由+(A)物性データセットのLLMによる学習と予測\n",
    "- Q&A: 融点データセットを使用\n",
    "- R: GPT4を使い､Q&Aをもとに自動生成\n",
    "- 強化学習をしてみる"
   ]
  },
  {
   "cell_type": "code",
   "execution_count": null,
   "metadata": {},
   "outputs": [],
   "source": [
    "#!pip install transformers==4.35.0\n",
    "#!pip install peft==0.5.0\n",
    "#!pip install bitsandbytes==0.41.1\n",
    "#!pip install accelerate==0.23.0\n",
    "#!pip install flash-attn==2.3.1.post1\n",
    "#!pip install datasets==2.14.5"
   ]
  },
  {
   "cell_type": "code",
   "execution_count": 1,
   "metadata": {},
   "outputs": [
    {
     "name": "stderr",
     "output_type": "stream",
     "text": [
      "/home/setup/miniconda3/envs/chemllm/lib/python3.10/site-packages/tqdm/auto.py:21: TqdmWarning: IProgress not found. Please update jupyter and ipywidgets. See https://ipywidgets.readthedocs.io/en/stable/user_install.html\n",
      "  from .autonotebook import tqdm as notebook_tqdm\n"
     ]
    }
   ],
   "source": [
    "import os\n",
    "os.environ[\"CUDA_VISIBLE_DEVICES\"]=\"0\"\n",
    "\n",
    "from transformers import AutoModelForCausalLM, BitsAndBytesConfig\n",
    "import torch\n",
    "from peft import LoraConfig, get_peft_model\n",
    "from transformers import AutoTokenizer,pipeline\n",
    "from datasets import Dataset\n",
    "import copy\n",
    "from tqdm import tqdm\n",
    "#問題設定: はじめのN件をテストデータにする\n",
    "n_test=50"
   ]
  },
  {
   "cell_type": "code",
   "execution_count": 2,
   "metadata": {},
   "outputs": [],
   "source": [
    "#ハイパラ関連\n",
    "#モデル名\n",
    "use_flash_attention2=True\n",
    "model_size=7\n",
    "#model_size=13\n",
    "#model_size=70\n",
    "model_name=f\"meta-llama/Llama-2-{model_size}b-chat-hf\"\n",
    "\n",
    "model_name=\"ahxt/LiteLlama-460M-1T\"\n",
    "model_name = \"PY007/TinyLlama-1.1B-Chat-v0.3\"\n",
    "model_name = 'openlm-research/open_llama_3b_v2'\n",
    "\n",
    "\n",
    "use_flash_attention2=False\n",
    "model_name = 'mosaicml/mpt-30b-chat'\n",
    "\n",
    "#LoRA関連\n",
    "r=32\n",
    "lora_alpha=r\n",
    "bit=16\n",
    "bit=8\n",
    "bit=4\n",
    "\n",
    "#LoRAのadapter\n",
    "target_modules= [\n",
    "    #\"embed_tokens\",\n",
    "    \"lm_head\",\n",
    "    #\"q_proj\",\n",
    "    #\"k_proj\",\n",
    "    \"v_proj\",\n",
    "    \"o_proj\",\n",
    "    \"gate_proj\",\n",
    "    \"up_proj\",\n",
    "    #\"down_proj\",\n",
    "]\n",
    "\n",
    "#学習関連\n",
    "#gradient_checkpointing =True  #vramの節約をしたい場合\n",
    "gradient_checkpointing =False\n",
    "per_device_train_batch_size=1\n",
    "epochs=3\n",
    "lr=10**-5\n",
    "do_train=True\n",
    "#do_train=False"
   ]
  },
  {
   "cell_type": "code",
   "execution_count": 3,
   "metadata": {},
   "outputs": [],
   "source": [
    "\n",
    "device_map=\"auto\"\n",
    "\n",
    "bnb_config = BitsAndBytesConfig(\n",
    "    load_in_4bit=True,\n",
    "    bnb_4bit_use_double_quant=True,\n",
    "    bnb_4bit_quant_type=\"nf4\",\n",
    "    bnb_4bit_compute_dtype=torch.bfloat16\n",
    ")\n",
    "\n",
    "def init_model(model_name, r, lora_alpha, target_modules, bit=4,use_flash_attention_2=True):\n",
    "    if bit == 4:\n",
    "        print(\"Using 4-bit mode\")\n",
    "        model = AutoModelForCausalLM.from_pretrained(model_name,\n",
    "                                                     quantization_config=bnb_config,\n",
    "                                                     device_map=device_map,\n",
    "                                                     use_flash_attention_2=use_flash_attention_2,\n",
    "                                                     )\n",
    "    elif bit == 8:\n",
    "        print(\"Using 8-bit mode\")\n",
    "        model = AutoModelForCausalLM.from_pretrained(model_name,\n",
    "                                                     load_in_8bit=True,\n",
    "                                                     device_map=device_map,\n",
    "                                                     use_flash_attention_2=use_flash_attention_2,\n",
    "                                                     )\n",
    "    elif bit == 16:\n",
    "        print(\"Using fp16 mode\")\n",
    "        model = AutoModelForCausalLM.from_pretrained(model_name,\n",
    "                                                     device_map=device_map,\n",
    "                                                     torch_dtype=torch.float16,\n",
    "                                                     use_flash_attention_2=use_flash_attention_2,\n",
    "                                                     )\n",
    "    else:\n",
    "        raise ValueError(\"bit must be 4 or 16\")\n",
    "\n",
    "    if len(target_modules)==0:\n",
    "        return model\n",
    "    peft_config = LoraConfig(\n",
    "        task_type=\"CAUSAL_LM\", inference_mode=False, r=r, lora_alpha=lora_alpha,\n",
    "        lora_dropout=0.1,\n",
    "        target_modules=target_modules,\n",
    "    )\n",
    "    model = get_peft_model(model, peft_config)\n",
    "    return model\n"
   ]
  },
  {
   "cell_type": "code",
   "execution_count": 4,
   "metadata": {},
   "outputs": [
    {
     "name": "stdout",
     "output_type": "stream",
     "text": [
      "Using 4-bit mode\n"
     ]
    },
    {
     "name": "stderr",
     "output_type": "stream",
     "text": [
      "Loading checkpoint shards: 100%|██████████| 7/7 [00:39<00:00,  5.63s/it]\n"
     ]
    }
   ],
   "source": [
    "\n",
    "#モデル初期化\n",
    "model=init_model(model_name, r, lora_alpha, target_modules, bit=bit,use_flash_attention_2=use_flash_attention2)"
   ]
  },
  {
   "cell_type": "code",
   "execution_count": 5,
   "metadata": {},
   "outputs": [],
   "source": [
    "\n",
    "\n",
    "tokenizer = AutoTokenizer.from_pretrained(model_name)\n",
    "tokenizer.pad_token = tokenizer.eos_token\n",
    "\n",
    "#pipe = pipeline(\"text-generation\", model=model,\n",
    "#                tokenizer=tokenizer, max_new_tokens=1000)"
   ]
  },
  {
   "cell_type": "markdown",
   "metadata": {},
   "source": [
    "# データセットの生成"
   ]
  },
  {
   "cell_type": "code",
   "execution_count": 6,
   "metadata": {},
   "outputs": [
    {
     "name": "stdout",
     "output_type": "stream",
     "text": [
      "(2406, 9)\n"
     ]
    },
    {
     "data": {
      "text/html": [
       "<div>\n",
       "<style scoped>\n",
       "    .dataframe tbody tr th:only-of-type {\n",
       "        vertical-align: middle;\n",
       "    }\n",
       "\n",
       "    .dataframe tbody tr th {\n",
       "        vertical-align: top;\n",
       "    }\n",
       "\n",
       "    .dataframe thead th {\n",
       "        text-align: right;\n",
       "    }\n",
       "</style>\n",
       "<table border=\"1\" class=\"dataframe\">\n",
       "  <thead>\n",
       "    <tr style=\"text-align: right;\">\n",
       "      <th></th>\n",
       "      <th>name</th>\n",
       "      <th>smiles</th>\n",
       "      <th>csid</th>\n",
       "      <th>link</th>\n",
       "      <th>source</th>\n",
       "      <th>Reason</th>\n",
       "      <th>mpC</th>\n",
       "      <th>Prediction(integer)</th>\n",
       "      <th>Abs error</th>\n",
       "    </tr>\n",
       "  </thead>\n",
       "  <tbody>\n",
       "    <tr>\n",
       "      <th>0</th>\n",
       "      <td>2,3-dibromo-2-methyl-butane</td>\n",
       "      <td>BrC(C)(C)C(Br)C</td>\n",
       "      <td>71392</td>\n",
       "      <td>http://www.srcinc.com/what-we-do/product.aspx?...</td>\n",
       "      <td>PHYSPROP</td>\n",
       "      <td>Starting with butane, which melts around -138....</td>\n",
       "      <td>7.0</td>\n",
       "      <td>6.6</td>\n",
       "      <td>0.4</td>\n",
       "    </tr>\n",
       "    <tr>\n",
       "      <th>1</th>\n",
       "      <td>5-chlorobenzofuroxan</td>\n",
       "      <td>c1cc2c(cc1Cl)no[n+]2[O-]</td>\n",
       "      <td>123661</td>\n",
       "      <td>http://www.alfa.com/en/GP100W.pgm?DSSTK=A14261</td>\n",
       "      <td>Alfa Aesar</td>\n",
       "      <td>The basic structure for comparison is benzene,...</td>\n",
       "      <td>47.0</td>\n",
       "      <td>45.0</td>\n",
       "      <td>2.0</td>\n",
       "    </tr>\n",
       "  </tbody>\n",
       "</table>\n",
       "</div>"
      ],
      "text/plain": [
       "                          name                    smiles    csid  \\\n",
       "0  2,3-dibromo-2-methyl-butane           BrC(C)(C)C(Br)C   71392   \n",
       "1         5-chlorobenzofuroxan  c1cc2c(cc1Cl)no[n+]2[O-]  123661   \n",
       "\n",
       "                                                link      source  \\\n",
       "0  http://www.srcinc.com/what-we-do/product.aspx?...    PHYSPROP   \n",
       "1     http://www.alfa.com/en/GP100W.pgm?DSSTK=A14261  Alfa Aesar   \n",
       "\n",
       "                                              Reason   mpC  \\\n",
       "0  Starting with butane, which melts around -138....   7.0   \n",
       "1  The basic structure for comparison is benzene,...  47.0   \n",
       "\n",
       "   Prediction(integer)  Abs error  \n",
       "0                  6.6        0.4  \n",
       "1                 45.0        2.0  "
      ]
     },
     "execution_count": 6,
     "metadata": {},
     "output_type": "execute_result"
    }
   ],
   "source": [
    "#データセットの読み込み\n",
    "import pandas as pd\n",
    "import random\n",
    "df=pd.read_csv(\"dataset/231225AutoReasoning/240104best_reason_record.csv\")\n",
    "dataset=df.to_dict(orient=\"records\")\n",
    "random.seed(0)\n",
    "random.shuffle(dataset)\n",
    "\n",
    "print(df.shape)\n",
    "df[:2]"
   ]
  },
  {
   "cell_type": "code",
   "execution_count": 7,
   "metadata": {},
   "outputs": [],
   "source": [
    "import random\n",
    "system_prompt=\"You are a professional chemist. Predict the melting point of the following compound.\"\n",
    "\n",
    "\n",
    "def gen_compound_text(chemical_record,\n",
    "    reason=\"\",prediction=\"\"):\n",
    "    name=chemical_record[\"name\"]\n",
    "    smiles=chemical_record[\"smiles\"]\n",
    "    prompt=f\"\"\"\n",
    "#Problem\n",
    "##Name: {name}\n",
    "##SMILES: {smiles}\"\"\"\n",
    "    if reason !=\"\" and prediction!=\"\":\n",
    "        prompt+=f\"\"\"\n",
    "##Reason: {reason}\n",
    "##Prediction: {prediction}\n",
    "\"\"\"\n",
    "    else:\n",
    "        #test mode\n",
    "        prompt+=\"\"\"\n",
    "##Reason: \n",
    "\"\"\"\n",
    "    return prompt\n",
    "\n",
    "\n",
    "\n",
    "def generate_question_prompt(dataset,test_id,n_prompt_examples=5):\n",
    "    train_ids=[i for i in range(len(dataset))]\n",
    "    train_ids.remove(test_id)\n",
    "    prompt=\"\"\n",
    "\n",
    "    #train prompt\n",
    "    for _ in range(n_prompt_examples):\n",
    "        id=random.choice(train_ids)\n",
    "        prompt+=gen_compound_text(dataset[id],\n",
    "                                reason=dataset[id][\"Reason\"],\n",
    "                                prediction=dataset[id][\"Prediction(integer)\"])\n",
    "        prompt+=\"\\n\"\n",
    "\n",
    "    #test prompt\n",
    "    prompt+=gen_compound_text(dataset[test_id])\n",
    "\n",
    "    return prompt\n",
    "\n",
    "\n",
    "def prepare_dataset(context_list, tokenizer):\n",
    "    data_list = [{\"text\": i} for i in context_list]\n",
    "    random.shuffle(data_list)\n",
    "\n",
    "    # tokenize\n",
    "    dataset = Dataset.from_dict(\n",
    "        {\"text\": [item[\"text\"] for item in data_list[:]]})\n",
    "    dataset = dataset.map(lambda samples: tokenizer(\n",
    "        samples['text']), batched=True)\n",
    "\n",
    "    return dataset\n"
   ]
  },
  {
   "cell_type": "code",
   "execution_count": 8,
   "metadata": {},
   "outputs": [
    {
     "name": "stderr",
     "output_type": "stream",
     "text": [
      "Map:   0%|          | 0/2356 [00:00<?, ? examples/s]"
     ]
    },
    {
     "name": "stderr",
     "output_type": "stream",
     "text": [
      "Map: 100%|██████████| 2356/2356 [00:00<00:00, 7252.25 examples/s]\n"
     ]
    }
   ],
   "source": [
    "\n",
    "\n",
    "train_text_list=[]\n",
    "for id in range(len(dataset)):\n",
    "    prompt=gen_compound_text(dataset[id],\n",
    "                                reason=dataset[id][\"Reason\"],\n",
    "                                prediction=dataset[id][\"Prediction(integer)\"])\n",
    "    train_text_list.append(prompt)\n",
    "tokenized_dataset = prepare_dataset(train_text_list[n_test:], tokenizer)"
   ]
  },
  {
   "cell_type": "code",
   "execution_count": 9,
   "metadata": {},
   "outputs": [
    {
     "name": "stdout",
     "output_type": "stream",
     "text": [
      "train\n",
      "\n",
      "#Problem\n",
      "##Name: 2-Ethoxy-2-methylpropane\n",
      "##SMILES: CC(C)(C)OCC\n",
      "##Reason: The target compound, 2-Ethoxy-2-methylpropane, can be seen as derived from propane, which has a melting point of -187.7°C. Adding a methyl group generally increases the melting point due to increased molecular weight and van der Waals forces. For propane, adding a methyl group to become isobutane elevates the melting point to -159.6°C, indicating the effect of a methyl group is an increase of roughly +28°C. The presence of an ethoxy group (-OCC2H5) introduces an oxygen atom which can lead to dipole-dipole interactions and potential hydrogen bonding with trace moisture, increasing the melting point as well. The ethoxy group's effect on the melting point would be less straightforward to quantify without empirical data, but we can predict that it will raise the melting point to some extent. Considering the combined effect of an additional methyl group and an ethoxy group on the basic structure of propane, we can expect the overall melting point to be higher than that of propane, but lower than room temperature because the compound remains aliphatic and does not have strong intermolecular forces such as hydrogen bonding among its own molecules.\n",
      "##Prediction: -94.0\n",
      "\n",
      "test\n",
      "\n",
      "#Problem\n",
      "##Name: (1,2,2,3-tetramethylcyclopentyl)methyl 4-aminobenzoate\n",
      "##SMILES: O=C(OCC1(C)CCC(C)C1(C)C)c1ccc(N)cc1\n",
      "##Reason: \n",
      "\n"
     ]
    }
   ],
   "source": [
    "#check prompt\n",
    "\n",
    "print(\"train\")\n",
    "print(prompt)\n",
    "print(\"test\")\n",
    "t_prompt=gen_compound_text(dataset[0])\n",
    "print(t_prompt)"
   ]
  },
  {
   "cell_type": "markdown",
   "metadata": {},
   "source": [
    "# モデルの訓練"
   ]
  },
  {
   "cell_type": "code",
   "execution_count": null,
   "metadata": {},
   "outputs": [
    {
     "name": "stderr",
     "output_type": "stream",
     "text": [
      "You're using a GPT2TokenizerFast tokenizer. Please note that with a fast tokenizer, using the `__call__` method is faster than using a method to encode the text followed by a call to the `pad` method to get a padded encoding.\n"
     ]
    },
    {
     "data": {
      "text/html": [
       "\n",
       "    <div>\n",
       "      \n",
       "      <progress value='7068' max='7068' style='width:300px; height:20px; vertical-align: middle;'></progress>\n",
       "      [7068/7068 06:42, Epoch 3/3]\n",
       "    </div>\n",
       "    <table border=\"1\" class=\"dataframe\">\n",
       "  <thead>\n",
       " <tr style=\"text-align: left;\">\n",
       "      <th>Step</th>\n",
       "      <th>Training Loss</th>\n",
       "    </tr>\n",
       "  </thead>\n",
       "  <tbody>\n",
       "    <tr>\n",
       "      <td>100</td>\n",
       "      <td>2.722500</td>\n",
       "    </tr>\n",
       "    <tr>\n",
       "      <td>200</td>\n",
       "      <td>2.536000</td>\n",
       "    </tr>\n",
       "    <tr>\n",
       "      <td>300</td>\n",
       "      <td>2.320500</td>\n",
       "    </tr>\n",
       "    <tr>\n",
       "      <td>400</td>\n",
       "      <td>2.174300</td>\n",
       "    </tr>\n",
       "    <tr>\n",
       "      <td>500</td>\n",
       "      <td>2.088600</td>\n",
       "    </tr>\n",
       "    <tr>\n",
       "      <td>600</td>\n",
       "      <td>2.039500</td>\n",
       "    </tr>\n",
       "    <tr>\n",
       "      <td>700</td>\n",
       "      <td>1.950900</td>\n",
       "    </tr>\n",
       "    <tr>\n",
       "      <td>800</td>\n",
       "      <td>1.945700</td>\n",
       "    </tr>\n",
       "    <tr>\n",
       "      <td>900</td>\n",
       "      <td>1.924800</td>\n",
       "    </tr>\n",
       "    <tr>\n",
       "      <td>1000</td>\n",
       "      <td>1.880800</td>\n",
       "    </tr>\n",
       "    <tr>\n",
       "      <td>1100</td>\n",
       "      <td>1.851800</td>\n",
       "    </tr>\n",
       "    <tr>\n",
       "      <td>1200</td>\n",
       "      <td>1.830100</td>\n",
       "    </tr>\n",
       "    <tr>\n",
       "      <td>1300</td>\n",
       "      <td>1.799500</td>\n",
       "    </tr>\n",
       "    <tr>\n",
       "      <td>1400</td>\n",
       "      <td>1.835100</td>\n",
       "    </tr>\n",
       "    <tr>\n",
       "      <td>1500</td>\n",
       "      <td>1.791300</td>\n",
       "    </tr>\n",
       "    <tr>\n",
       "      <td>1600</td>\n",
       "      <td>1.756600</td>\n",
       "    </tr>\n",
       "    <tr>\n",
       "      <td>1700</td>\n",
       "      <td>1.788200</td>\n",
       "    </tr>\n",
       "    <tr>\n",
       "      <td>1800</td>\n",
       "      <td>1.753100</td>\n",
       "    </tr>\n",
       "    <tr>\n",
       "      <td>1900</td>\n",
       "      <td>1.738600</td>\n",
       "    </tr>\n",
       "    <tr>\n",
       "      <td>2000</td>\n",
       "      <td>1.738400</td>\n",
       "    </tr>\n",
       "    <tr>\n",
       "      <td>2100</td>\n",
       "      <td>1.706000</td>\n",
       "    </tr>\n",
       "    <tr>\n",
       "      <td>2200</td>\n",
       "      <td>1.712600</td>\n",
       "    </tr>\n",
       "    <tr>\n",
       "      <td>2300</td>\n",
       "      <td>1.708700</td>\n",
       "    </tr>\n",
       "    <tr>\n",
       "      <td>2400</td>\n",
       "      <td>1.649800</td>\n",
       "    </tr>\n",
       "    <tr>\n",
       "      <td>2500</td>\n",
       "      <td>1.752000</td>\n",
       "    </tr>\n",
       "    <tr>\n",
       "      <td>2600</td>\n",
       "      <td>1.654400</td>\n",
       "    </tr>\n",
       "    <tr>\n",
       "      <td>2700</td>\n",
       "      <td>1.679900</td>\n",
       "    </tr>\n",
       "    <tr>\n",
       "      <td>2800</td>\n",
       "      <td>1.649600</td>\n",
       "    </tr>\n",
       "    <tr>\n",
       "      <td>2900</td>\n",
       "      <td>1.649700</td>\n",
       "    </tr>\n",
       "    <tr>\n",
       "      <td>3000</td>\n",
       "      <td>1.605400</td>\n",
       "    </tr>\n",
       "    <tr>\n",
       "      <td>3100</td>\n",
       "      <td>1.651500</td>\n",
       "    </tr>\n",
       "    <tr>\n",
       "      <td>3200</td>\n",
       "      <td>1.657200</td>\n",
       "    </tr>\n",
       "    <tr>\n",
       "      <td>3300</td>\n",
       "      <td>1.638500</td>\n",
       "    </tr>\n",
       "    <tr>\n",
       "      <td>3400</td>\n",
       "      <td>1.607500</td>\n",
       "    </tr>\n",
       "    <tr>\n",
       "      <td>3500</td>\n",
       "      <td>1.608400</td>\n",
       "    </tr>\n",
       "    <tr>\n",
       "      <td>3600</td>\n",
       "      <td>1.636000</td>\n",
       "    </tr>\n",
       "    <tr>\n",
       "      <td>3700</td>\n",
       "      <td>1.607500</td>\n",
       "    </tr>\n",
       "    <tr>\n",
       "      <td>3800</td>\n",
       "      <td>1.606600</td>\n",
       "    </tr>\n",
       "    <tr>\n",
       "      <td>3900</td>\n",
       "      <td>1.624900</td>\n",
       "    </tr>\n",
       "    <tr>\n",
       "      <td>4000</td>\n",
       "      <td>1.628200</td>\n",
       "    </tr>\n",
       "    <tr>\n",
       "      <td>4100</td>\n",
       "      <td>1.622700</td>\n",
       "    </tr>\n",
       "    <tr>\n",
       "      <td>4200</td>\n",
       "      <td>1.602400</td>\n",
       "    </tr>\n",
       "    <tr>\n",
       "      <td>4300</td>\n",
       "      <td>1.602700</td>\n",
       "    </tr>\n",
       "    <tr>\n",
       "      <td>4400</td>\n",
       "      <td>1.587900</td>\n",
       "    </tr>\n",
       "    <tr>\n",
       "      <td>4500</td>\n",
       "      <td>1.594500</td>\n",
       "    </tr>\n",
       "    <tr>\n",
       "      <td>4600</td>\n",
       "      <td>1.609000</td>\n",
       "    </tr>\n",
       "    <tr>\n",
       "      <td>4700</td>\n",
       "      <td>1.603100</td>\n",
       "    </tr>\n",
       "    <tr>\n",
       "      <td>4800</td>\n",
       "      <td>1.573600</td>\n",
       "    </tr>\n",
       "    <tr>\n",
       "      <td>4900</td>\n",
       "      <td>1.556800</td>\n",
       "    </tr>\n",
       "    <tr>\n",
       "      <td>5000</td>\n",
       "      <td>1.602000</td>\n",
       "    </tr>\n",
       "    <tr>\n",
       "      <td>5100</td>\n",
       "      <td>1.597300</td>\n",
       "    </tr>\n",
       "    <tr>\n",
       "      <td>5200</td>\n",
       "      <td>1.602200</td>\n",
       "    </tr>\n",
       "    <tr>\n",
       "      <td>5300</td>\n",
       "      <td>1.585200</td>\n",
       "    </tr>\n",
       "    <tr>\n",
       "      <td>5400</td>\n",
       "      <td>1.569300</td>\n",
       "    </tr>\n",
       "    <tr>\n",
       "      <td>5500</td>\n",
       "      <td>1.583500</td>\n",
       "    </tr>\n",
       "    <tr>\n",
       "      <td>5600</td>\n",
       "      <td>1.575600</td>\n",
       "    </tr>\n",
       "    <tr>\n",
       "      <td>5700</td>\n",
       "      <td>1.547600</td>\n",
       "    </tr>\n",
       "    <tr>\n",
       "      <td>5800</td>\n",
       "      <td>1.577100</td>\n",
       "    </tr>\n",
       "    <tr>\n",
       "      <td>5900</td>\n",
       "      <td>1.598800</td>\n",
       "    </tr>\n",
       "    <tr>\n",
       "      <td>6000</td>\n",
       "      <td>1.551100</td>\n",
       "    </tr>\n",
       "    <tr>\n",
       "      <td>6100</td>\n",
       "      <td>1.578300</td>\n",
       "    </tr>\n",
       "    <tr>\n",
       "      <td>6200</td>\n",
       "      <td>1.546200</td>\n",
       "    </tr>\n",
       "    <tr>\n",
       "      <td>6300</td>\n",
       "      <td>1.526100</td>\n",
       "    </tr>\n",
       "    <tr>\n",
       "      <td>6400</td>\n",
       "      <td>1.607300</td>\n",
       "    </tr>\n",
       "    <tr>\n",
       "      <td>6500</td>\n",
       "      <td>1.509000</td>\n",
       "    </tr>\n",
       "    <tr>\n",
       "      <td>6600</td>\n",
       "      <td>1.608700</td>\n",
       "    </tr>\n",
       "    <tr>\n",
       "      <td>6700</td>\n",
       "      <td>1.567600</td>\n",
       "    </tr>\n",
       "    <tr>\n",
       "      <td>6800</td>\n",
       "      <td>1.553100</td>\n",
       "    </tr>\n",
       "    <tr>\n",
       "      <td>6900</td>\n",
       "      <td>1.566800</td>\n",
       "    </tr>\n",
       "    <tr>\n",
       "      <td>7000</td>\n",
       "      <td>1.538000</td>\n",
       "    </tr>\n",
       "  </tbody>\n",
       "</table><p>"
      ],
      "text/plain": [
       "<IPython.core.display.HTML object>"
      ]
     },
     "metadata": {},
     "output_type": "display_data"
    }
   ],
   "source": [
    "import transformers\n",
    "from datetime import datetime\n",
    "\n",
    "\n",
    "#train\n",
    "train_args = transformers.TrainingArguments(\n",
    "        per_device_train_batch_size=per_device_train_batch_size,\n",
    "        #gradient_accumulation_steps=1,\n",
    "        warmup_steps=0,\n",
    "        num_train_epochs=epochs,\n",
    "        learning_rate=lr,\n",
    "        fp16=True,\n",
    "        logging_steps=100,\n",
    "        save_total_limit=1,\n",
    "        output_dir='outputs/'+datetime.now().strftime('%Y%m%d%H%M%S'),\n",
    "        gradient_checkpointing=gradient_checkpointing,\n",
    "    )\n",
    "\n",
    "# trainer\n",
    "#callbacks = [EarlyStoppingCallback()]\n",
    "callbacks = []\n",
    "\n",
    "trainer = transformers.Trainer(\n",
    "    model=model,\n",
    "    train_dataset=tokenized_dataset,\n",
    "    args=train_args,\n",
    "    callbacks=callbacks,\n",
    "    data_collator=transformers.DataCollatorForLanguageModeling(\n",
    "        tokenizer, mlm=False)\n",
    ")\n",
    "\n",
    "if do_train:\n",
    "    training_result = trainer.train()\n",
    "    training_result.training_loss"
   ]
  },
  {
   "cell_type": "code",
   "execution_count": null,
   "metadata": {},
   "outputs": [],
   "source": [
    "#モデルの保存: adapterのみ保存するとき｡\n",
    "from datetime import datetime\n",
    "current_datetime = datetime.now()\n",
    "#model.save_pretrained(f\"./outputs/{current_datetime}\")\n",
    "#model.save_pretrained(f\"./outputs/1b_ft\")"
   ]
  },
  {
   "cell_type": "code",
   "execution_count": null,
   "metadata": {},
   "outputs": [
    {
     "data": {
      "text/plain": [
       "'\\nmodel = AutoPeftModelForCausalLM.from_pretrained(model_path,\\n                                                 device_map=device_map,\\n                                                     torch_dtype=torch.float16,\\n                                                     use_flash_attention_2=True,\\n                                                 )\\n\\n'"
      ]
     },
     "execution_count": 10,
     "metadata": {},
     "output_type": "execute_result"
    }
   ],
   "source": [
    "#モデルの読み込み: 強化学習しない場合\n",
    "from peft import AutoPeftModelForCausalLM\n",
    "model_path=\"./outputs/7b_ft\"\n",
    "\n",
    "\"\"\"\n",
    "model = AutoPeftModelForCausalLM.from_pretrained(model_path,\n",
    "                                                 device_map=device_map,\n",
    "                                                     torch_dtype=torch.float16,\n",
    "                                                     use_flash_attention_2=True,\n",
    "                                                 )\n",
    "\n",
    "\"\"\""
   ]
  },
  {
   "cell_type": "code",
   "execution_count": null,
   "metadata": {},
   "outputs": [],
   "source": [
    "#モデルのマージと保存: 強化学習するとき\n",
    "#merged_model = model.merge_and_unload()\n",
    "#merged_model.save_pretrained(f\"./outputs/05b_ft_merge\")"
   ]
  },
  {
   "cell_type": "markdown",
   "metadata": {},
   "source": [
    "# 強化学習による追加訓練"
   ]
  },
  {
   "cell_type": "code",
   "execution_count": 10,
   "metadata": {},
   "outputs": [],
   "source": [
    "#予測周りのutility funcs\n",
    "import re\n",
    "import torch\n",
    "import gc\n",
    "from IPython.display import clear_output\n",
    "from trl import AutoModelForCausalLMWithValueHead\n",
    "def gen_text_stop_word(prompt,model,tokenizer,\n",
    "                       device=\"cuda:0\",\n",
    "                       stop_words=[\"#Problem\",\"#Reason\",\"# Problem\"],\n",
    "                       double_stop_words=[\"#Prediction\"],\n",
    "                       stream=False,\n",
    "                       #stream=True,\n",
    "                       max_tokens=400,\n",
    "                       ):\n",
    "    gc.collect()\n",
    "    torch.cuda.empty_cache()\n",
    "\n",
    "\n",
    "\n",
    "    input_ids = tokenizer.encode(prompt, return_tensors='pt').to(device)\n",
    "    # 生成されたテキストを格納する変数\n",
    "    generated_text = \"\"\n",
    "\n",
    "    # トークンを一つずつ生成\n",
    "    for i in range(max_tokens):\n",
    "        # 次のトークンを予測\n",
    "        outputs = model(input_ids)\n",
    "        if type(model) is AutoModelForCausalLMWithValueHead:\n",
    "            #AutoModelForCausalLMWithValueHeadの場合\n",
    "            logits = outputs[0]\n",
    "            next_token_logits = logits[:, -1, :]\n",
    "        else:\n",
    "            next_token_logits = outputs.logits[:, -1, :]\n",
    "\n",
    "        next_token = torch.argmax(next_token_logits, dim=-1).unsqueeze(-1)\n",
    "\n",
    "        # 生成されたトークンを現在の入力に追加\n",
    "        input_ids = torch.cat([input_ids, next_token], dim=-1)\n",
    "\n",
    "        # 生成されたテキストを更新\n",
    "        generated_text = tokenizer.decode(input_ids[0], skip_special_tokens=True)[len(prompt):]\n",
    "\n",
    "        if stream:\n",
    "            if i%30==0:\n",
    "                clear_output()\n",
    "            print(generated_text)\n",
    "\n",
    "        # ストップワードのチェック\n",
    "        if any(stop_word in generated_text for stop_word in stop_words):\n",
    "            break\n",
    "\n",
    "        # 2回以上出現したらstopするwordのcheck \n",
    "        stop_flag=False\n",
    "        for check_word in double_stop_words:\n",
    "            count=generated_text.count(check_word)\n",
    "            if count>=2:\n",
    "                stop_flag=True\n",
    "                break\n",
    "        if stop_flag:\n",
    "            break\n",
    "\n",
    "    return generated_text\n",
    "\n",
    "def ask_value(prompt,model,tokenizer):\n",
    "    res=gen_text_stop_word(prompt,model,tokenizer)\n",
    "    #res=pipe(prompt)[0][\"generated_text\"]\n",
    "    print(\"----\\n\\n\")\n",
    "    print(res.strip())\n",
    "\n",
    "    regex_list=[\n",
    "        r\"Prediction:\\s*(\\d+\\.?\\d*)\",\n",
    "        r\"Prediction:\\s*(-?\\d+\\.?\\d*)\",\n",
    "    ]\n",
    "\n",
    "    value=None\n",
    "    for reg in regex_list:\n",
    "        match = re.search(reg, res)\n",
    "        if match:\n",
    "            value = match.group(1)\n",
    "            break\n",
    "\n",
    "\n",
    "    return res,value\n",
    "\n"
   ]
  },
  {
   "cell_type": "code",
   "execution_count": 11,
   "metadata": {},
   "outputs": [],
   "source": [
    "from trl import PPOTrainer, PPOConfig\n",
    "\n",
    "\n",
    "#テキストでファインチューニングしたモデルを強化学習用に読み込み\n",
    "\n",
    "def load_ppo_model(model_path):\n",
    "    lora_config = LoraConfig(\n",
    "    target_modules=target_modules,\n",
    "    r=32,\n",
    "    lora_alpha=32,\n",
    "    lora_dropout=0.05,\n",
    "    bias=\"none\",\n",
    "    task_type=\"CAUSAL_LM\",\n",
    "    )\n",
    "    model = AutoModelForCausalLMWithValueHead.from_pretrained(\n",
    "        model_path,\n",
    "        #load_in_8bit=True,\n",
    "        torch_dtype=torch.float16,\n",
    "        device_map=device_map,\n",
    "        peft_config=lora_config,\n",
    "    )\n",
    "    return model\n",
    "\n",
    "def init_ppo_trainer(model,tokenizer):\n",
    "\n",
    "    #trainerの定義\n",
    "    ppo_trainer = PPOTrainer(\n",
    "        config=PPOConfig(batch_size=1),\n",
    "        model=model, \n",
    "        #ref_model=ref_model, \n",
    "        tokenizer=tokenizer,\n",
    "        )\n",
    "    return ppo_trainer\n",
    "\n",
    "def reload_ppo_model_and_trainer(model,ppo_trainer,temp_dir=\"outputs/temp\"):\n",
    "    #model.to(\"cuda:0\")\n",
    "    model.save_pretrained(temp_dir)\n",
    "\n",
    "    model=None\n",
    "    ppo_trainer=None\n",
    "    print(\"clearing memory...\")\n",
    "    gc.collect()\n",
    "    torch.cuda.empty_cache()\n",
    "\n",
    "    model=load_ppo_model(temp_dir)\n",
    "    ppo_trainer=init_ppo_trainer(model,tokenizer)\n",
    "\n",
    "    return model,ppo_trainer\n"
   ]
  },
  {
   "cell_type": "code",
   "execution_count": 12,
   "metadata": {},
   "outputs": [],
   "source": [
    "\n",
    "#報酬クラスの定義\n",
    "class RewardModel:\n",
    "    def __init__(self,model,dataset,tokenizer,\n",
    "                 range_value=1,\n",
    "                 reward_slope=50,\n",
    "                 n_prompt_examples=3,\n",
    "                 device=\"cuda:0\",\n",
    "                 ):\n",
    "        self.model=model\n",
    "        self.dataset=dataset\n",
    "        self.tokenizer=tokenizer    \n",
    "        self.n_prompt_examples=n_prompt_examples\n",
    "        self.range_value = range_value\n",
    "        self.reward_slope = reward_slope\n",
    "        self.device=device\n",
    "\n",
    "    def calculate_reward(self,abs_error, ):\n",
    "        \"\"\"\n",
    "        Calculate the reward based on the absolute error.\n",
    "\n",
    "        :param abs_error: The absolute error value.\n",
    "        :param range_value: The range value for maximum and minimum rewards.\n",
    "        :return: The calculated reward.\n",
    "        \"\"\"\n",
    "\n",
    "        reward = self.range_value - (abs_error) * (self.range_value / self.reward_slope)\n",
    "        return max(reward, -self.range_value)\n",
    "\n",
    "\n",
    "    def __call__(self,train_id):\n",
    "        prompt=generate_question_prompt(self.dataset,train_id,\n",
    "                                        n_prompt_examples=self.n_prompt_examples)\n",
    "        reason,value=ask_value(prompt,self.model,self.tokenizer,\n",
    "                                         )\n",
    "\n",
    "        actual=self.dataset[train_id][\"mpC\"]\n",
    "        if value is None:\n",
    "            reward=-self.range_value\n",
    "        else:\n",
    "            value=float(value)\n",
    "\n",
    "            abs_error=abs(actual-value)\n",
    "            # Example usage of the function\n",
    "            reward=self.calculate_reward(abs_error)  # Example case where abs_error is 12 and range_value is 100\n",
    "\n",
    "        #説明が殆どない場合は､rewardを0にする\n",
    "        if len(reason)<30:\n",
    "            reward=0\n",
    "        print(f\"actual: {actual}, predicted: {value}, reward: {reward}\")\n",
    "\n",
    "        input_ids = tokenizer.encode(prompt, return_tensors='pt').to(self.device)\n",
    "        return reward,reason,input_ids"
   ]
  },
  {
   "cell_type": "code",
   "execution_count": 12,
   "metadata": {},
   "outputs": [
    {
     "name": "stderr",
     "output_type": "stream",
     "text": [
      "Loading checkpoint shards: 100%|██████████| 3/3 [00:02<00:00,  1.05it/s]\n"
     ]
    }
   ],
   "source": [
    "#model_path=\"./outputs/13b_ft_merge_3epoch\"\n",
    "model_path=\"./outputs/7b_ft_merge_3epoch\"\n",
    "temp_dir=\"outputs/temp\"\n",
    "\n",
    "#model load\n",
    "model=load_ppo_model(model_path)\n",
    "ppo_trainer=init_ppo_trainer(model,tokenizer)\n",
    "\n",
    "#lora modelとして読み込み直す(vramの節約のため)\n",
    "model,ppo_trainer=reload_ppo_model_and_trainer(model,ppo_trainer)"
   ]
  },
  {
   "cell_type": "code",
   "execution_count": 16,
   "metadata": {},
   "outputs": [
    {
     "data": {
      "text/plain": [
       "0.4"
      ]
     },
     "execution_count": 16,
     "metadata": {},
     "output_type": "execute_result"
    }
   ],
   "source": [
    "\n",
    "reward_model=None\n",
    "gc.collect()\n",
    "torch.cuda.empty_cache()\n",
    "reward_model = RewardModel(model,dataset,tokenizer,)\n",
    "reward_model.calculate_reward(30)  #報酬の動作確認. "
   ]
  },
  {
   "cell_type": "code",
   "execution_count": 10,
   "metadata": {},
   "outputs": [
    {
     "name": "stderr",
     "output_type": "stream",
     "text": [
      "  0%|          | 0/5000 [00:00<?, ?it/s]\n"
     ]
    },
    {
     "ename": "NameError",
     "evalue": "name 'gc' is not defined",
     "output_type": "error",
     "traceback": [
      "\u001b[0;31m---------------------------------------------------------------------------\u001b[0m",
      "\u001b[0;31mNameError\u001b[0m                                 Traceback (most recent call last)",
      "Cell \u001b[0;32mIn[10], line 20\u001b[0m\n\u001b[1;32m     18\u001b[0m \u001b[38;5;66;03m#このクラスにgpu cacheが残りがちなので､毎回初期化してメモリ開放しておく\u001b[39;00m\n\u001b[1;32m     19\u001b[0m reward_model\u001b[38;5;241m=\u001b[39m\u001b[38;5;28;01mNone\u001b[39;00m\n\u001b[0;32m---> 20\u001b[0m \u001b[43mgc\u001b[49m\u001b[38;5;241m.\u001b[39mcollect()\n\u001b[1;32m     21\u001b[0m torch\u001b[38;5;241m.\u001b[39mcuda\u001b[38;5;241m.\u001b[39mempty_cache()\n\u001b[1;32m     22\u001b[0m reward_model \u001b[38;5;241m=\u001b[39m RewardModel(model,dataset,tokenizer)\n",
      "\u001b[0;31mNameError\u001b[0m: name 'gc' is not defined"
     ]
    }
   ],
   "source": [
    "import time\n",
    "import warnings\n",
    "warnings.filterwarnings('ignore')\n",
    "#model.config.use_cache = False \n",
    "#model.config.use_cache = True\n",
    "lr_epochs=5000\n",
    "n_retry=1\n",
    "#lr_epochs=3\n",
    "reward_log=[]\n",
    "\n",
    "n_iterations=0\n",
    "\n",
    "for i in tqdm(range(lr_epochs)):\n",
    "   #ランダムに問題を設定して値を予測させる\n",
    "    train_id=random.randint(n_test,len(dataset))\n",
    "\n",
    "    \n",
    "    #このクラスにgpu cacheが残りがちなので､毎回初期化してメモリ開放しておく\n",
    "    reward_model=None\n",
    "    gc.collect()\n",
    "    torch.cuda.empty_cache()\n",
    "    reward_model = RewardModel(model,dataset,tokenizer)\n",
    "\n",
    "\n",
    "    #同じ問題に対して､良い結果が来るまで何回か問題を解かせる\n",
    "    for i in range(n_retry):\n",
    "        try:\n",
    "            #報酬､応答､入力の取得\n",
    "            reward,response,input_id=reward_model(train_id)\n",
    "            rewards=[torch.tensor(float(reward))]\n",
    "            query_tensors = [torch.tensor(input_id).reshape(-1)]\n",
    "            response_tensors=[torch.tensor(tokenizer.encode(response)).reshape(-1)]\n",
    "\n",
    "            #モデル更新\n",
    "            stats = ppo_trainer.step(query_tensors, response_tensors, rewards)\n",
    "            n_iterations+=1\n",
    "            reward_log.append(float(reward))\n",
    "        except Exception as e:\n",
    "            #主にcuda out of memoryが起きるので､一旦メモリ開放して､model類を読み込み直す\n",
    "            print(e)\n",
    "            model,ppo_trainer=reload_ppo_model_and_trainer(model,ppo_trainer)\n",
    "\n",
    "            break\n",
    "\n",
    "        #結果がよかったら次の問題に移る\n",
    "        if reward>0.5:\n",
    "            break\n",
    "\n",
    "n_iterations"
   ]
  },
  {
   "cell_type": "code",
   "execution_count": 18,
   "metadata": {},
   "outputs": [
    {
     "data": {
      "text/plain": [
       "1317"
      ]
     },
     "execution_count": 18,
     "metadata": {},
     "output_type": "execute_result"
    }
   ],
   "source": [
    "n_iterations"
   ]
  },
  {
   "cell_type": "code",
   "execution_count": 19,
   "metadata": {},
   "outputs": [],
   "source": [
    "from datetime import datetime\n",
    "#AutoModelForCausalLMWithValueHead classはdirを作っておかないと､save_pretrainedが動かない\n",
    "current_datetime = datetime.now()\n",
    "model_save_path=f\"outputs/ppo{current_datetime}\"\n",
    "os.mkdir(model_save_path)\n",
    "model.save_pretrained(model_save_path)"
   ]
  },
  {
   "cell_type": "code",
   "execution_count": 23,
   "metadata": {},
   "outputs": [
    {
     "data": {
      "text/plain": [
       "<matplotlib.collections.PathCollection at 0x7ff0a65b9390>"
      ]
     },
     "execution_count": 23,
     "metadata": {},
     "output_type": "execute_result"
    },
    {
     "data": {
      "image/png": "[encoded data removed]",
      "text/plain": [
       "<Figure size 640x480 with 1 Axes>"
      ]
     },
     "metadata": {},
     "output_type": "display_data"
    }
   ],
   "source": [
    "import matplotlib.pyplot as plt\n",
    "import seaborn as sns\n",
    "plt.scatter(range(len(reward_log)),reward_log,s=1)"
   ]
  },
  {
   "cell_type": "markdown",
   "metadata": {},
   "source": [
    "# モデルによる物性値の予測"
   ]
  },
  {
   "cell_type": "code",
   "execution_count": 13,
   "metadata": {},
   "outputs": [
    {
     "data": {
      "text/plain": [
       "PeftModelForCausalLM(\n",
       "  (base_model): LoraModel(\n",
       "    (model): MptForCausalLM(\n",
       "      (transformer): MptModel(\n",
       "        (wte): Embedding(50432, 7168)\n",
       "        (blocks): ModuleList(\n",
       "          (0-47): 48 x MptBlock(\n",
       "            (norm_1): LayerNorm((7168,), eps=1e-05, elementwise_affine=True)\n",
       "            (attn): MptAttention(\n",
       "              (Wqkv): Linear4bit(in_features=7168, out_features=21504, bias=False)\n",
       "              (out_proj): Linear4bit(in_features=7168, out_features=7168, bias=False)\n",
       "            )\n",
       "            (norm_2): LayerNorm((7168,), eps=1e-05, elementwise_affine=True)\n",
       "            (ffn): MptMLP(\n",
       "              (up_proj): Linear4bit(\n",
       "                in_features=7168, out_features=28672, bias=False\n",
       "                (lora_dropout): ModuleDict(\n",
       "                  (default): Dropout(p=0.1, inplace=False)\n",
       "                )\n",
       "                (lora_A): ModuleDict(\n",
       "                  (default): Linear(in_features=7168, out_features=32, bias=False)\n",
       "                )\n",
       "                (lora_B): ModuleDict(\n",
       "                  (default): Linear(in_features=32, out_features=28672, bias=False)\n",
       "                )\n",
       "                (lora_embedding_A): ParameterDict()\n",
       "                (lora_embedding_B): ParameterDict()\n",
       "              )\n",
       "              (act): GELU(approximate='none')\n",
       "              (down_proj): Linear4bit(in_features=28672, out_features=7168, bias=False)\n",
       "            )\n",
       "            (resid_attn_dropout): Dropout(p=0, inplace=False)\n",
       "          )\n",
       "        )\n",
       "        (norm_f): LayerNorm((7168,), eps=1e-05, elementwise_affine=True)\n",
       "      )\n",
       "      (lm_head): Linear(\n",
       "        in_features=7168, out_features=50432, bias=False\n",
       "        (lora_dropout): ModuleDict(\n",
       "          (default): Dropout(p=0.1, inplace=False)\n",
       "        )\n",
       "        (lora_A): ModuleDict(\n",
       "          (default): Linear(in_features=7168, out_features=32, bias=False)\n",
       "        )\n",
       "        (lora_B): ModuleDict(\n",
       "          (default): Linear(in_features=32, out_features=50432, bias=False)\n",
       "        )\n",
       "        (lora_embedding_A): ParameterDict()\n",
       "        (lora_embedding_B): ParameterDict()\n",
       "      )\n",
       "    )\n",
       "  )\n",
       ")"
      ]
     },
     "execution_count": 13,
     "metadata": {},
     "output_type": "execute_result"
    }
   ],
   "source": [
    "\n",
    "model.eval()"
   ]
  },
  {
   "cell_type": "code",
   "execution_count": 14,
   "metadata": {},
   "outputs": [
    {
     "name": "stderr",
     "output_type": "stream",
     "text": [
      "  0%|          | 0/50 [00:00<?, ?it/s]"
     ]
    },
    {
     "name": "stdout",
     "output_type": "stream",
     "text": [
      "promlem 1 / 50\n",
      "----\n",
      "\n",
      "\n",
      "##Prediction:\n",
      "\n",
      "\n",
      "#Problem\n"
     ]
    },
    {
     "name": "stderr",
     "output_type": "stream",
     "text": [
      "  2%|▏         | 1/50 [00:08<06:36,  8.10s/it]"
     ]
    },
    {
     "name": "stdout",
     "output_type": "stream",
     "text": [
      "CUDA out of memory. Tried to allocate 392.00 MiB. GPU 0 has a total capacty of 79.15 GiB of which 240.62 MiB is free. Including non-PyTorch memory, this process has 78.89 GiB memory in use. Of the allocated memory 76.03 GiB is allocated by PyTorch, and 2.36 GiB is reserved by PyTorch but unallocated. If reserved but unallocated memory is large try setting max_split_size_mb to avoid fragmentation.  See documentation for Memory Management and PYTORCH_CUDA_ALLOC_CONF\n",
      "promlem 2 / 50\n",
      "----\n",
      "\n",
      "\n",
      "##Prediction:\n",
      "\n",
      "\n",
      "#Problem\n"
     ]
    },
    {
     "name": "stderr",
     "output_type": "stream",
     "text": [
      "  4%|▍         | 2/50 [00:18<07:36,  9.51s/it]"
     ]
    },
    {
     "name": "stdout",
     "output_type": "stream",
     "text": [
      "----\n",
      "\n",
      "\n",
      "##Prediction:\n",
      "\n",
      "\n",
      "#Problem\n",
      "promlem 3 / 50\n"
     ]
    },
    {
     "name": "stderr",
     "output_type": "stream",
     "text": [
      "  6%|▌         | 3/50 [02:33<52:13, 66.68s/it]"
     ]
    },
    {
     "name": "stdout",
     "output_type": "stream",
     "text": [
      "----\n",
      "\n",
      "\n",
      "The target compound, 1,4-bis(chloromethyl)-benzene, has a benzene ring with two chloromethyl groups attached to the 1 and 4 positions. The chloromethyl groups have a -CH2-Cl functional group, which is an electron-withdrawing group, increasing the intermolecular forces and thus increasing the melting point. The effect of the chloromethyl group on the melting point can be estimated to be around +20°C.\n",
      "\n",
      "The benzene ring itself has a melting point of around 5.5°C. However, the presence of two chloromethyl groups attached to the ring increases the molecular weight and introduces steric hindrance, which can decrease the melting point. The effect of the benzene ring on the melting point can be estimated to be around -5°C.\n",
      "\n",
      "Considering both effects, the total increase in the melting point can be estimated to be around 15°C.\n",
      "\n",
      "##Prediction: 25.0\n",
      "\n",
      "\n",
      "#Problem\n",
      "actual:  100.0 predicted:  25.0\n",
      "promlem 4 / 50\n",
      "CUDA out of memory. Tried to allocate 392.00 MiB. GPU 0 has a total capacty of 79.15 GiB of which 284.62 MiB is free. Including non-PyTorch memory, this process has 78.85 GiB memory in use. Of the allocated memory 75.69 GiB is allocated by PyTorch, and 2.65 GiB is reserved by PyTorch but unallocated. If reserved but unallocated memory is large try setting max_split_size_mb to avoid fragmentation.  See documentation for Memory Management and PYTORCH_CUDA_ALLOC_CONF\n"
     ]
    },
    {
     "name": "stderr",
     "output_type": "stream",
     "text": [
      "  6%|▌         | 3/50 [03:37<56:50, 72.56s/it]\n"
     ]
    },
    {
     "ename": "KeyboardInterrupt",
     "evalue": "",
     "output_type": "error",
     "traceback": [
      "\u001b[0;31m---------------------------------------------------------------------------\u001b[0m",
      "\u001b[0;31mKeyboardInterrupt\u001b[0m                         Traceback (most recent call last)",
      "Cell \u001b[0;32mIn[14], line 14\u001b[0m\n\u001b[1;32m     12\u001b[0m \u001b[38;5;28;01mtry\u001b[39;00m:\n\u001b[1;32m     13\u001b[0m     prompt\u001b[38;5;241m=\u001b[39mgenerate_question_prompt(dataset,test_id,n_prompt_examples\u001b[38;5;241m=\u001b[39mn_prompt_examples)\n\u001b[0;32m---> 14\u001b[0m     reason,value\u001b[38;5;241m=\u001b[39m\u001b[43mask_value\u001b[49m\u001b[43m(\u001b[49m\u001b[43mprompt\u001b[49m\u001b[43m,\u001b[49m\u001b[43mmodel\u001b[49m\u001b[43m,\u001b[49m\u001b[43mtokenizer\u001b[49m\u001b[43m)\u001b[49m\n\u001b[1;32m     15\u001b[0m \u001b[38;5;28;01mexcept\u001b[39;00m \u001b[38;5;167;01mException\u001b[39;00m \u001b[38;5;28;01mas\u001b[39;00m e:\n\u001b[1;32m     16\u001b[0m     \u001b[38;5;28mprint\u001b[39m(e)\n",
      "Cell \u001b[0;32mIn[10], line 65\u001b[0m, in \u001b[0;36mask_value\u001b[0;34m(prompt, model, tokenizer)\u001b[0m\n\u001b[1;32m     64\u001b[0m \u001b[38;5;28;01mdef\u001b[39;00m \u001b[38;5;21mask_value\u001b[39m(prompt,model,tokenizer):\n\u001b[0;32m---> 65\u001b[0m     res\u001b[38;5;241m=\u001b[39m\u001b[43mgen_text_stop_word\u001b[49m\u001b[43m(\u001b[49m\u001b[43mprompt\u001b[49m\u001b[43m,\u001b[49m\u001b[43mmodel\u001b[49m\u001b[43m,\u001b[49m\u001b[43mtokenizer\u001b[49m\u001b[43m)\u001b[49m\n\u001b[1;32m     66\u001b[0m     \u001b[38;5;66;03m#res=pipe(prompt)[0][\"generated_text\"]\u001b[39;00m\n\u001b[1;32m     67\u001b[0m     \u001b[38;5;28mprint\u001b[39m(\u001b[38;5;124m\"\u001b[39m\u001b[38;5;124m----\u001b[39m\u001b[38;5;130;01m\\n\u001b[39;00m\u001b[38;5;130;01m\\n\u001b[39;00m\u001b[38;5;124m\"\u001b[39m)\n",
      "Cell \u001b[0;32mIn[10], line 41\u001b[0m, in \u001b[0;36mgen_text_stop_word\u001b[0;34m(prompt, model, tokenizer, device, stop_words, double_stop_words, stream, max_tokens)\u001b[0m\n\u001b[1;32m     38\u001b[0m input_ids \u001b[38;5;241m=\u001b[39m torch\u001b[38;5;241m.\u001b[39mcat([input_ids, next_token], dim\u001b[38;5;241m=\u001b[39m\u001b[38;5;241m-\u001b[39m\u001b[38;5;241m1\u001b[39m)\n\u001b[1;32m     40\u001b[0m \u001b[38;5;66;03m# 生成されたテキストを更新\u001b[39;00m\n\u001b[0;32m---> 41\u001b[0m generated_text \u001b[38;5;241m=\u001b[39m \u001b[43mtokenizer\u001b[49m\u001b[38;5;241;43m.\u001b[39;49m\u001b[43mdecode\u001b[49m\u001b[43m(\u001b[49m\u001b[43minput_ids\u001b[49m\u001b[43m[\u001b[49m\u001b[38;5;241;43m0\u001b[39;49m\u001b[43m]\u001b[49m\u001b[43m,\u001b[49m\u001b[43m \u001b[49m\u001b[43mskip_special_tokens\u001b[49m\u001b[38;5;241;43m=\u001b[39;49m\u001b[38;5;28;43;01mTrue\u001b[39;49;00m\u001b[43m)\u001b[49m[\u001b[38;5;28mlen\u001b[39m(prompt):]\n\u001b[1;32m     43\u001b[0m \u001b[38;5;28;01mif\u001b[39;00m stream:\n\u001b[1;32m     44\u001b[0m     \u001b[38;5;28;01mif\u001b[39;00m i\u001b[38;5;241m%\u001b[39m\u001b[38;5;241m30\u001b[39m\u001b[38;5;241m==\u001b[39m\u001b[38;5;241m0\u001b[39m:\n",
      "File \u001b[0;32m~/miniconda3/envs/chemllm/lib/python3.10/site-packages/transformers/tokenization_utils_base.py:3744\u001b[0m, in \u001b[0;36mPreTrainedTokenizerBase.decode\u001b[0;34m(self, token_ids, skip_special_tokens, clean_up_tokenization_spaces, **kwargs)\u001b[0m\n\u001b[1;32m   3723\u001b[0m \u001b[38;5;250m\u001b[39m\u001b[38;5;124;03m\"\"\"\u001b[39;00m\n\u001b[1;32m   3724\u001b[0m \u001b[38;5;124;03mConverts a sequence of ids in a string, using the tokenizer and vocabulary with options to remove special\u001b[39;00m\n\u001b[1;32m   3725\u001b[0m \u001b[38;5;124;03mtokens and clean up tokenization spaces.\u001b[39;00m\n\u001b[0;32m   (...)\u001b[0m\n\u001b[1;32m   3741\u001b[0m \u001b[38;5;124;03m    `str`: The decoded sentence.\u001b[39;00m\n\u001b[1;32m   3742\u001b[0m \u001b[38;5;124;03m\"\"\"\u001b[39;00m\n\u001b[1;32m   3743\u001b[0m \u001b[38;5;66;03m# Convert inputs to python lists\u001b[39;00m\n\u001b[0;32m-> 3744\u001b[0m token_ids \u001b[38;5;241m=\u001b[39m \u001b[43mto_py_obj\u001b[49m\u001b[43m(\u001b[49m\u001b[43mtoken_ids\u001b[49m\u001b[43m)\u001b[49m\n\u001b[1;32m   3746\u001b[0m \u001b[38;5;28;01mreturn\u001b[39;00m \u001b[38;5;28mself\u001b[39m\u001b[38;5;241m.\u001b[39m_decode(\n\u001b[1;32m   3747\u001b[0m     token_ids\u001b[38;5;241m=\u001b[39mtoken_ids,\n\u001b[1;32m   3748\u001b[0m     skip_special_tokens\u001b[38;5;241m=\u001b[39mskip_special_tokens,\n\u001b[1;32m   3749\u001b[0m     clean_up_tokenization_spaces\u001b[38;5;241m=\u001b[39mclean_up_tokenization_spaces,\n\u001b[1;32m   3750\u001b[0m     \u001b[38;5;241m*\u001b[39m\u001b[38;5;241m*\u001b[39mkwargs,\n\u001b[1;32m   3751\u001b[0m )\n",
      "File \u001b[0;32m~/miniconda3/envs/chemllm/lib/python3.10/site-packages/transformers/utils/generic.py:253\u001b[0m, in \u001b[0;36mto_py_obj\u001b[0;34m(obj)\u001b[0m\n\u001b[1;32m    251\u001b[0m \u001b[38;5;28;01mfor\u001b[39;00m framework, test_func \u001b[38;5;129;01min\u001b[39;00m framework_to_test_func\u001b[38;5;241m.\u001b[39mitems():\n\u001b[1;32m    252\u001b[0m     \u001b[38;5;28;01mif\u001b[39;00m test_func(obj):\n\u001b[0;32m--> 253\u001b[0m         \u001b[38;5;28;01mreturn\u001b[39;00m \u001b[43mframework_to_py_obj\u001b[49m\u001b[43m[\u001b[49m\u001b[43mframework\u001b[49m\u001b[43m]\u001b[49m\u001b[43m(\u001b[49m\u001b[43mobj\u001b[49m\u001b[43m)\u001b[49m\n\u001b[1;32m    255\u001b[0m \u001b[38;5;66;03m# tolist also works on 0d np arrays\u001b[39;00m\n\u001b[1;32m    256\u001b[0m \u001b[38;5;28;01mif\u001b[39;00m \u001b[38;5;28misinstance\u001b[39m(obj, np\u001b[38;5;241m.\u001b[39mnumber):\n",
      "File \u001b[0;32m~/miniconda3/envs/chemllm/lib/python3.10/site-packages/transformers/utils/generic.py:238\u001b[0m, in \u001b[0;36mto_py_obj.<locals>.<lambda>\u001b[0;34m(obj)\u001b[0m\n\u001b[1;32m    232\u001b[0m \u001b[38;5;28;01mdef\u001b[39;00m \u001b[38;5;21mto_py_obj\u001b[39m(obj):\n\u001b[1;32m    233\u001b[0m \u001b[38;5;250m    \u001b[39m\u001b[38;5;124;03m\"\"\"\u001b[39;00m\n\u001b[1;32m    234\u001b[0m \u001b[38;5;124;03m    Convert a TensorFlow tensor, PyTorch tensor, Numpy array or python list to a python list.\u001b[39;00m\n\u001b[1;32m    235\u001b[0m \u001b[38;5;124;03m    \"\"\"\u001b[39;00m\n\u001b[1;32m    237\u001b[0m     framework_to_py_obj \u001b[38;5;241m=\u001b[39m {\n\u001b[0;32m--> 238\u001b[0m         \u001b[38;5;124m\"\u001b[39m\u001b[38;5;124mpt\u001b[39m\u001b[38;5;124m\"\u001b[39m: \u001b[38;5;28;01mlambda\u001b[39;00m obj: \u001b[43mobj\u001b[49m\u001b[38;5;241;43m.\u001b[39;49m\u001b[43mdetach\u001b[49m\u001b[43m(\u001b[49m\u001b[43m)\u001b[49m\u001b[38;5;241;43m.\u001b[39;49m\u001b[43mcpu\u001b[49m\u001b[43m(\u001b[49m\u001b[43m)\u001b[49m\u001b[38;5;241m.\u001b[39mtolist(),\n\u001b[1;32m    239\u001b[0m         \u001b[38;5;124m\"\u001b[39m\u001b[38;5;124mtf\u001b[39m\u001b[38;5;124m\"\u001b[39m: \u001b[38;5;28;01mlambda\u001b[39;00m obj: obj\u001b[38;5;241m.\u001b[39mnumpy()\u001b[38;5;241m.\u001b[39mtolist(),\n\u001b[1;32m    240\u001b[0m         \u001b[38;5;124m\"\u001b[39m\u001b[38;5;124mjax\u001b[39m\u001b[38;5;124m\"\u001b[39m: \u001b[38;5;28;01mlambda\u001b[39;00m obj: np\u001b[38;5;241m.\u001b[39masarray(obj)\u001b[38;5;241m.\u001b[39mtolist(),\n\u001b[1;32m    241\u001b[0m         \u001b[38;5;124m\"\u001b[39m\u001b[38;5;124mnp\u001b[39m\u001b[38;5;124m\"\u001b[39m: \u001b[38;5;28;01mlambda\u001b[39;00m obj: obj\u001b[38;5;241m.\u001b[39mtolist(),\n\u001b[1;32m    242\u001b[0m     }\n\u001b[1;32m    244\u001b[0m     \u001b[38;5;28;01mif\u001b[39;00m \u001b[38;5;28misinstance\u001b[39m(obj, (\u001b[38;5;28mdict\u001b[39m, UserDict)):\n\u001b[1;32m    245\u001b[0m         \u001b[38;5;28;01mreturn\u001b[39;00m {k: to_py_obj(v) \u001b[38;5;28;01mfor\u001b[39;00m k, v \u001b[38;5;129;01min\u001b[39;00m obj\u001b[38;5;241m.\u001b[39mitems()}\n",
      "\u001b[0;31mKeyboardInterrupt\u001b[0m: "
     ]
    }
   ],
   "source": [
    "#予測時のハイパラ\n",
    "n_prompt_examples=3 #何件の例題をprompt tuningで出すか\n",
    "n_max_trials=2  # 値を返さなかったときの再試行の最大数\n",
    "random.seed(0)\n",
    "prediction_results={}\n",
    "\n",
    "\n",
    "res_list=[]\n",
    "for test_id in tqdm(range(n_test)):\n",
    "    print(f\"promlem {test_id+1} / {n_test}\")\n",
    "    for _ in range(n_max_trials):\n",
    "        try:\n",
    "            prompt=generate_question_prompt(dataset,test_id,n_prompt_examples=n_prompt_examples)\n",
    "            reason,value=ask_value(prompt,model,tokenizer)\n",
    "        except Exception as e:\n",
    "            print(e)\n",
    "            continue\n",
    "\n",
    "\n",
    "        if value is not None:\n",
    "            record=copy.deepcopy(dataset[test_id])\n",
    "            record[\"Test (Predicted reason)\"]=reason\n",
    "            record[\"Test (Predicted value)\"]=value\n",
    "            res_list.append(record)\n",
    "            print(\"actual: \",record[\"mpC\"],\"predicted: \", record[\"Test (Predicted value)\"],)\n",
    "            break\n",
    "prediction_results[n_prompt_examples]=res_list"
   ]
  },
  {
   "cell_type": "code",
   "execution_count": null,
   "metadata": {},
   "outputs": [
    {
     "data": {
      "image/png": "[encoded data removed]",
      "text/plain": [
       "<Figure size 640x480 with 1 Axes>"
      ]
     },
     "metadata": {},
     "output_type": "display_data"
    }
   ],
   "source": [
    "#plot\n",
    "\n",
    "from sklearn.metrics import mean_squared_error,mean_absolute_error,r2_score\n",
    "from datetime import datetime\n",
    "import json\n",
    "current_datetime = datetime.now()\n",
    "vmin=-200\n",
    "vmax=300\n",
    "\n",
    "#plot prediction results\n",
    "for n_prompt_examples,records in prediction_results.items():\n",
    "    sel_df=pd.DataFrame(records)\n",
    "    #floatに可能なものは変換\n",
    "    sel_df[\"Test (Predicted value)\"] = pd.to_numeric(sel_df[\"Test (Predicted value)\"], errors='coerce')\n",
    "    sel_df=sel_df[sel_df[\"Test (Predicted value)\"].notnull()]\n",
    "    if len(sel_df)==0:\n",
    "        continue\n",
    "    mse=mean_squared_error(sel_df[\"mpC\"],sel_df[\"Test (Predicted value)\"])\n",
    "\n",
    "    plt.figure()\n",
    "    sns.scatterplot(data=sel_df,x=\"mpC\",y=\"Test (Predicted value)\")\n",
    "    plt.title(f\"n_prompt_examples={n_prompt_examples} MSE={mse:.0f}\")\n",
    "\n",
    "    #x,yの範囲を揃える\n",
    "    plt.xlim(vmin,vmax)\n",
    "    plt.ylim(vmin,vmax)\n",
    "    #対角線を描く\n",
    "    plt.plot([vmin,vmax],[vmin,vmax],color=\"gray\")\n",
    "    formatted_filename = f\"results/model={model_size}_{current_datetime.strftime('%Y%m%d_%H%M%S')}_train={do_train}.png\"\n",
    "    plt.savefig(formatted_filename)\n",
    "    #break\n",
    "\n",
    "save_json_filename=formatted_filename.replace(\".png\",\".json\")\n",
    "with open(save_json_filename,\"w\") as f:\n",
    "    json.dump(prediction_results,fp=f,\n",
    "              indent=4)"
   ]
  },
  {
   "cell_type": "code",
   "execution_count": null,
   "metadata": {},
   "outputs": [
    {
     "name": "stdout",
     "output_type": "stream",
     "text": [
      "4816.9852\n",
      "50.604000000000006\n",
      "0.5794524864884837\n"
     ]
    }
   ],
   "source": [
    "#スコア\n",
    "print(mean_squared_error(sel_df[\"mpC\"],sel_df[\"Test (Predicted value)\"]))\n",
    "print(mean_absolute_error(sel_df[\"mpC\"],sel_df[\"Test (Predicted value)\"]))\n",
    "print(r2_score(sel_df[\"mpC\"],sel_df[\"Test (Predicted value)\"]))\n"
   ]
  },
  {
   "cell_type": "code",
   "execution_count": null,
   "metadata": {},
   "outputs": [
    {
     "data": {
      "text/plain": [
       "1.0"
      ]
     },
     "execution_count": 31,
     "metadata": {},
     "output_type": "execute_result"
    }
   ],
   "source": [
    "#回答可能な問題の割合\n",
    "sel_df.shape[0]/n_test"
   ]
  },
  {
   "cell_type": "code",
   "execution_count": null,
   "metadata": {},
   "outputs": [],
   "source": []
  }
 ],
 "metadata": {
  "kernelspec": {
   "display_name": "chemllm",
   "language": "python",
   "name": "python3"
  },
  "language_info": {
   "codemirror_mode": {
    "name": "ipython",
    "version": 3
   },
   "file_extension": ".py",
   "mimetype": "text/x-python",
   "name": "python",
   "nbconvert_exporter": "python",
   "pygments_lexer": "ipython3",
   "version": "3.10.0"
  }
 },
 "nbformat": 4,
 "nbformat_minor": 2
}
