{
 "cells": [
  {
   "cell_type": "code",
   "execution_count": null,
   "metadata": {},
   "outputs": [],
   "source": [
    "# finetuning llama2"
   ]
  },
  {
   "cell_type": "markdown",
   "metadata": {},
   "source": [
    "# (Q)分子構造+(R)理由+(A)物性データセットのLLMによる学習と予測\n",
    "- Q&A: 融点データセットを使用\n",
    "- R: GPT4を使い､Q&Aをもとに自動生成\n",
    "- 自分自身が過去に考えた回答も学習する"
   ]
  },
  {
   "cell_type": "code",
   "execution_count": null,
   "metadata": {},
   "outputs": [],
   "source": [
    "#!pip install transformers==4.35.0\n",
    "#!pip install peft==0.5.0\n",
    "#!pip install bitsandbytes==0.41.1\n",
    "#!pip install accelerate==0.23.0\n",
    "#!pip install flash-attn==2.3.1.post1\n",
    "#!pip install datasets==2.14.5"
   ]
  },
  {
   "cell_type": "code",
   "execution_count": null,
   "metadata": {},
   "outputs": [],
   "source": [
    "import os\n",
    "os.environ[\"CUDA_VISIBLE_DEVICES\"]=\"1\"\n",
    "\n",
    "from transformers import AutoModelForCausalLM, BitsAndBytesConfig\n",
    "import torch\n",
    "from peft import LoraConfig, get_peft_model\n",
    "from transformers import AutoTokenizer,pipeline\n",
    "from datasets import Dataset\n",
    "import copy\n",
    "from tqdm import tqdm\n",
    "#問題設定: はじめのN件をテストデータにする\n",
    "n_test=50"
   ]
  },
  {
   "cell_type": "code",
   "execution_count": null,
   "metadata": {},
   "outputs": [],
   "source": [
    "#ハイパラ関連\n",
    "#モデル名\n",
    "model_size=7\n",
    "#model_size=13\n",
    "#model_size=70\n",
    "model_name=f\"meta-llama/Llama-2-{model_size}b-chat-hf\"\n",
    "\n",
    "#model_name=\"ahxt/LiteLlama-460M-1T\"\n",
    "#model_name = \"PY007/TinyLlama-1.1B-Chat-v0.3\"\n",
    "\n",
    "#model_name = 'openlm-research/open_llama_3b_v2'\n",
    "#LoRA関連\n",
    "r=32\n",
    "lora_alpha=r\n",
    "bit=16\n",
    "#bit=8\n",
    "#bit=4\n",
    "\n",
    "#LoRAのadapter\n",
    "target_modules= [\n",
    "    #\"embed_tokens\",\n",
    "    \"lm_head\",\n",
    "    #\"q_proj\",\n",
    "    #\"k_proj\",\n",
    "    \"v_proj\",\n",
    "    \"o_proj\",\n",
    "    \"gate_proj\",\n",
    "    \"up_proj\",\n",
    "    #\"down_proj\",\n",
    "]\n",
    "\n",
    "#学習関連\n",
    "#gradient_checkpointing =True  #vramの節約をしたい場合\n",
    "gradient_checkpointing =False\n",
    "per_device_train_batch_size=1\n",
    "epochs=3\n",
    "lr=10**-5\n",
    "do_train=True\n",
    "#do_train=False"
   ]
  },
  {
   "cell_type": "code",
   "execution_count": null,
   "metadata": {},
   "outputs": [],
   "source": [
    "\n",
    "device_map=\"auto\"\n",
    "\n",
    "bnb_config = BitsAndBytesConfig(\n",
    "    load_in_4bit=True,\n",
    "    bnb_4bit_use_double_quant=True,\n",
    "    bnb_4bit_quant_type=\"nf4\",\n",
    "    bnb_4bit_compute_dtype=torch.bfloat16\n",
    ")\n",
    "\n",
    "def init_model(model_name, r, lora_alpha, target_modules, bit=4):\n",
    "    if bit == 4:\n",
    "        print(\"Using 4-bit mode\")\n",
    "        model = AutoModelForCausalLM.from_pretrained(model_name,\n",
    "                                                     quantization_config=bnb_config,\n",
    "                                                     device_map=device_map,\n",
    "                                                     use_flash_attention_2=True,\n",
    "                                                     )\n",
    "    elif bit == 8:\n",
    "        print(\"Using 8-bit mode\")\n",
    "        model = AutoModelForCausalLM.from_pretrained(model_name,\n",
    "                                                     load_in_8bit=True,\n",
    "                                                     device_map=device_map,\n",
    "                                                     use_flash_attention_2=True,\n",
    "                                                     )\n",
    "    elif bit == 16:\n",
    "        print(\"Using fp16 mode\")\n",
    "        model = AutoModelForCausalLM.from_pretrained(model_name,\n",
    "                                                     device_map=device_map,\n",
    "                                                     torch_dtype=torch.float16,\n",
    "                                                     use_flash_attention_2=True,\n",
    "                                                     )\n",
    "    else:\n",
    "        raise ValueError(\"bit must be 4 or 16\")\n",
    "\n",
    "    if len(target_modules)==0:\n",
    "        return model\n",
    "    peft_config = LoraConfig(\n",
    "        task_type=\"CAUSAL_LM\", inference_mode=False, r=r, lora_alpha=lora_alpha,\n",
    "        lora_dropout=0.1,\n",
    "        target_modules=target_modules,\n",
    "    )\n",
    "    model = get_peft_model(model, peft_config)\n",
    "    return model\n"
   ]
  },
  {
   "cell_type": "code",
   "execution_count": null,
   "metadata": {},
   "outputs": [],
   "source": [
    "\n",
    "#モデル初期化\n",
    "model=init_model(model_name, r, lora_alpha, target_modules, bit=bit)"
   ]
  },
  {
   "cell_type": "code",
   "execution_count": null,
   "metadata": {},
   "outputs": [],
   "source": [
    "\n",
    "\n",
    "tokenizer = AutoTokenizer.from_pretrained(model_name)\n",
    "tokenizer.pad_token = tokenizer.eos_token\n",
    "\n",
    "#pipe = pipeline(\"text-generation\", model=model,\n",
    "#                tokenizer=tokenizer, max_new_tokens=1000)"
   ]
  },
  {
   "cell_type": "markdown",
   "metadata": {},
   "source": [
    "# データセットの生成"
   ]
  },
  {
   "cell_type": "code",
   "execution_count": null,
   "metadata": {},
   "outputs": [],
   "source": [
    "#データセットの読み込み\n",
    "import pandas as pd\n",
    "import random\n",
    "df=pd.read_csv(\"dataset/231225AutoReasoning/240104best_reason_record.csv\")\n",
    "dataset=df.to_dict(orient=\"records\")\n",
    "random.seed(0)\n",
    "random.shuffle(dataset)\n",
    "\n",
    "print(df.shape)\n",
    "df[:2]"
   ]
  },
  {
   "cell_type": "code",
   "execution_count": null,
   "metadata": {},
   "outputs": [],
   "source": [
    "#240112llama2_active_learning.ipynb で生成したデータを追加する\n",
    "#train dataについて､問題のみから理由と回答を生成させ､精度が良かったデータセット\n",
    "import glob\n",
    "import json\n",
    "json_path_glob=\"dataset/240112llamareasoning/*.json\"\n",
    "\n",
    "self_learning_data_list=[]\n",
    "\n",
    "for path in glob.glob(json_path_glob):\n",
    "    with open(path,\"r\") as f:\n",
    "        d=json.load(f)\n",
    "    self_learning_data_list.append(d)\n",
    "\n",
    "s_df=pd.DataFrame(self_learning_data_list)\n",
    "\n",
    "n_unique_compounds=len(set(s_df[\"name\"]))\n",
    "print(f\"unique: compounds: {n_unique_compounds}. records: {s_df.shape[0]}\")\n",
    "\n",
    "s_df=s_df.drop([\"model_name\",\"Test (Predicted reason)\",\"Test (Predicted value)\"],axis=1)\n",
    "df=pd.concat([df,s_df])\n",
    "df"
   ]
  },
  {
   "cell_type": "code",
   "execution_count": null,
   "metadata": {},
   "outputs": [],
   "source": [
    "import random\n",
    "system_prompt=\"You are a professional chemist. Predict the melting point of the following compound.\"\n",
    "\n",
    "\n",
    "def gen_compound_text(chemical_record,\n",
    "    reason=\"\",prediction=\"\"):\n",
    "    name=chemical_record[\"name\"]\n",
    "    smiles=chemical_record[\"smiles\"]\n",
    "    prompt=f\"\"\"\n",
    "#Problem\n",
    "##Name: {name}\n",
    "##SMILES: {smiles}\"\"\"\n",
    "    if reason !=\"\" and prediction!=\"\":\n",
    "        prompt+=f\"\"\"\n",
    "##Reason: {reason}\n",
    "##Prediction: {prediction}\n",
    "\"\"\"\n",
    "    else:\n",
    "        #test mode\n",
    "        prompt+=\"\"\"\n",
    "##Reason: \n",
    "\"\"\"\n",
    "    return prompt\n",
    "\n",
    "\n",
    "\n",
    "def generate_question_prompt(dataset,test_id,n_prompt_examples=5):\n",
    "    train_ids=[i for i in range(len(dataset))]\n",
    "    train_ids.remove(test_id)\n",
    "    prompt=\"\"\n",
    "\n",
    "    #train prompt\n",
    "    for _ in range(n_prompt_examples):\n",
    "        id=random.choice(train_ids)\n",
    "        prompt+=gen_compound_text(dataset[id],\n",
    "                                reason=dataset[id][\"Reason\"],\n",
    "                                prediction=dataset[id][\"Prediction(integer)\"])\n",
    "        prompt+=\"\\n\"\n",
    "\n",
    "    #test prompt\n",
    "    prompt+=gen_compound_text(dataset[test_id])\n",
    "\n",
    "    return prompt\n",
    "\n",
    "\n",
    "def prepare_dataset(context_list, tokenizer):\n",
    "    data_list = [{\"text\": i} for i in context_list]\n",
    "    random.shuffle(data_list)\n",
    "\n",
    "    # tokenize\n",
    "    dataset = Dataset.from_dict(\n",
    "        {\"text\": [item[\"text\"] for item in data_list[:]]})\n",
    "    dataset = dataset.map(lambda samples: tokenizer(\n",
    "        samples['text']), batched=True)\n",
    "\n",
    "    return dataset\n"
   ]
  },
  {
   "cell_type": "code",
   "execution_count": null,
   "metadata": {},
   "outputs": [],
   "source": [
    "\n",
    "\n",
    "train_text_list=[]\n",
    "for id in range(len(dataset)):\n",
    "    prompt=gen_compound_text(dataset[id],\n",
    "                                reason=dataset[id][\"Reason\"],\n",
    "                                prediction=dataset[id][\"Prediction(integer)\"])\n",
    "    train_text_list.append(prompt)\n",
    "tokenized_dataset = prepare_dataset(train_text_list[n_test:], tokenizer)"
   ]
  },
  {
   "cell_type": "code",
   "execution_count": null,
   "metadata": {},
   "outputs": [],
   "source": [
    "#check prompt\n",
    "\n",
    "print(\"train\")\n",
    "print(prompt)\n",
    "print(\"test\")\n",
    "t_prompt=gen_compound_text(dataset[0])\n",
    "print(t_prompt)"
   ]
  },
  {
   "cell_type": "markdown",
   "metadata": {},
   "source": [
    "# モデルの訓練"
   ]
  },
  {
   "cell_type": "code",
   "execution_count": null,
   "metadata": {},
   "outputs": [],
   "source": [
    "import transformers\n",
    "from datetime import datetime\n",
    "\n",
    "\n",
    "#train\n",
    "train_args = transformers.TrainingArguments(\n",
    "        per_device_train_batch_size=per_device_train_batch_size,\n",
    "        #gradient_accumulation_steps=1,\n",
    "        warmup_steps=0,\n",
    "        num_train_epochs=epochs,\n",
    "        learning_rate=lr,\n",
    "        fp16=True,\n",
    "        logging_steps=100,\n",
    "        save_total_limit=1,\n",
    "        output_dir='outputs/'+datetime.now().strftime('%Y%m%d%H%M%S'),\n",
    "        gradient_checkpointing=gradient_checkpointing,\n",
    "    )\n",
    "\n",
    "# trainer\n",
    "#callbacks = [EarlyStoppingCallback()]\n",
    "callbacks = []\n",
    "\n",
    "trainer = transformers.Trainer(\n",
    "    model=model,\n",
    "    train_dataset=tokenized_dataset,\n",
    "    args=train_args,\n",
    "    callbacks=callbacks,\n",
    "    data_collator=transformers.DataCollatorForLanguageModeling(\n",
    "        tokenizer, mlm=False)\n",
    ")\n",
    "\n",
    "if do_train:\n",
    "    training_result = trainer.train()\n",
    "    training_result.training_loss"
   ]
  },
  {
   "cell_type": "code",
   "execution_count": null,
   "metadata": {},
   "outputs": [],
   "source": [
    "#モデルの保存: adapterのみ保存するとき｡\n",
    "from datetime import datetime\n",
    "current_datetime = datetime.now()\n",
    "#model.save_pretrained(f\"./outputs/{current_datetime}\")\n",
    "#model.save_pretrained(f\"./outputs/7b_ft_with_self_prediction_0115\")"
   ]
  },
  {
   "cell_type": "code",
   "execution_count": null,
   "metadata": {},
   "outputs": [],
   "source": [
    "#モデルの読み込み: 強化学習しない場合\n",
    "from peft import AutoPeftModelForCausalLM\n",
    "model_path=\"./outputs/7b_ft\"\n",
    "#model_path=\"./outputs/7b_ft_with_self_prediction_0115\"\n",
    "\n",
    "model = AutoPeftModelForCausalLM.from_pretrained(model_path,\n",
    "                                                 device_map=device_map,\n",
    "                                                     torch_dtype=torch.float16,\n",
    "                                                     use_flash_attention_2=True,\n",
    "                                                 )\n"
   ]
  },
  {
   "cell_type": "code",
   "execution_count": null,
   "metadata": {},
   "outputs": [],
   "source": [
    "#モデルのマージと保存: 強化学習するとき\n",
    "#merged_model = model.merge_and_unload()\n",
    "#merged_model.save_pretrained(f\"./outputs/3b_ft_merge_3epoch\")"
   ]
  },
  {
   "cell_type": "markdown",
   "metadata": {},
   "source": [
    "# llama2による物性予測"
   ]
  },
  {
   "cell_type": "code",
   "execution_count": null,
   "metadata": {},
   "outputs": [],
   "source": [
    "#予測周りのutility funcs\n",
    "import re\n",
    "import torch\n",
    "import gc\n",
    "from IPython.display import clear_output\n",
    "from trl import AutoModelForCausalLMWithValueHead\n",
    "def gen_text_stop_word(prompt,model,tokenizer,\n",
    "                       device=\"cuda:0\",\n",
    "                       stop_words=[\"#Problem\",\"#Reason\",\"# Problem\"],\n",
    "                       double_stop_words=[\"#Prediction\"],\n",
    "                       stream=False,\n",
    "                       #stream=True,\n",
    "                       max_tokens=400,\n",
    "                       ):\n",
    "    gc.collect()\n",
    "    torch.cuda.empty_cache()\n",
    "\n",
    "\n",
    "\n",
    "    input_ids = tokenizer.encode(prompt, return_tensors='pt').to(device)\n",
    "    # 生成されたテキストを格納する変数\n",
    "    generated_text = \"\"\n",
    "\n",
    "    # トークンを一つずつ生成\n",
    "    for i in range(max_tokens):\n",
    "        # 次のトークンを予測\n",
    "        outputs = model(input_ids)\n",
    "        if type(model) is AutoModelForCausalLMWithValueHead:\n",
    "            #AutoModelForCausalLMWithValueHeadの場合\n",
    "            logits = outputs[0]\n",
    "            next_token_logits = logits[:, -1, :]\n",
    "        else:\n",
    "            next_token_logits = outputs.logits[:, -1, :]\n",
    "\n",
    "        next_token = torch.argmax(next_token_logits, dim=-1).unsqueeze(-1)\n",
    "\n",
    "        # 生成されたトークンを現在の入力に追加\n",
    "        input_ids = torch.cat([input_ids, next_token], dim=-1)\n",
    "\n",
    "        # 生成されたテキストを更新\n",
    "        generated_text = tokenizer.decode(input_ids[0], skip_special_tokens=True)[len(prompt):]\n",
    "\n",
    "        if stream:\n",
    "            if i%30==0:\n",
    "                clear_output()\n",
    "            print(generated_text)\n",
    "\n",
    "        # ストップワードのチェック\n",
    "        if any(stop_word in generated_text for stop_word in stop_words):\n",
    "            break\n",
    "\n",
    "        # 2回以上出現したらstopするwordのcheck \n",
    "        stop_flag=False\n",
    "        for check_word in double_stop_words:\n",
    "            count=generated_text.count(check_word)\n",
    "            if count>=2:\n",
    "                stop_flag=True\n",
    "                break\n",
    "        if stop_flag:\n",
    "            break\n",
    "\n",
    "    return generated_text\n",
    "\n",
    "def ask_value(prompt,model,tokenizer):\n",
    "    res=gen_text_stop_word(prompt,model,tokenizer)\n",
    "    #res=pipe(prompt)[0][\"generated_text\"]\n",
    "    print(\"----\\n\\n\")\n",
    "    print(res.strip())\n",
    "\n",
    "    regex_list=[\n",
    "        r\"Prediction:\\s*(\\d+\\.?\\d*)\",\n",
    "        r\"Prediction:\\s*(-?\\d+\\.?\\d*)\",\n",
    "    ]\n",
    "\n",
    "    value=None\n",
    "    for reg in regex_list:\n",
    "        match = re.search(reg, res)\n",
    "        if match:\n",
    "            value = match.group(1)\n",
    "            break\n",
    "\n",
    "\n",
    "    return res,value\n",
    "\n"
   ]
  },
  {
   "cell_type": "code",
   "execution_count": null,
   "metadata": {},
   "outputs": [],
   "source": [
    "model_name=\"./outputs/7b_ft_merge_3epoch\"\n",
    "model=AutoModelForCausalLM.from_pretrained(model_name,device_map=device_map,\n",
    "                                              torch_dtype=torch.float16,\n",
    "                                                     use_flash_attention_2=True,\n",
    "                                           )\n"
   ]
  },
  {
   "cell_type": "code",
   "execution_count": null,
   "metadata": {},
   "outputs": [],
   "source": [
    "import json\n",
    "model.eval()"
   ]
  },
  {
   "cell_type": "code",
   "execution_count": null,
   "metadata": {},
   "outputs": [],
   "source": [
    "from datetime import datetime\n",
    "import json\n",
    "\n",
    "#色々と条件を変えながら､訓練データで予測(自習)していく\n",
    "\n",
    "#予測時のハイパラ\n",
    "n_max_trials=4  # 値を返さなかったときの再試行の最大数\n",
    "prediction_results={}\n",
    "\n",
    "\n",
    "res_list=[]\n",
    "for train_id in tqdm(range(10**5)):\n",
    "    clear_output()\n",
    "    gc.collect()\n",
    "    torch.cuda.empty_cache()\n",
    "    for _ in range(n_max_trials):\n",
    "        try:\n",
    "\n",
    "            n_prompt_examples=random.randint(0,2) #何件の例題をprompt tuningで出すか\n",
    "            prompt=generate_question_prompt(dataset,train_id,n_prompt_examples=n_prompt_examples)\n",
    "            reason,value=ask_value(prompt,model,tokenizer)\n",
    "        except Exception as e:\n",
    "            print(e)\n",
    "            continue\n",
    "\n",
    "\n",
    "        if value is not None:\n",
    "            try:\n",
    "                value=float(value)\n",
    "            except:\n",
    "                continue\n",
    "\n",
    "            record=copy.deepcopy(dataset[train_id])\n",
    "            record[\"Test (Predicted reason)\"]=reason\n",
    "            record[\"Test (Predicted value)\"]=value\n",
    "            record[\"model_name\"]=model_name\n",
    "\n",
    "            err=abs(record[\"mpC\"]-float(value))\n",
    "            print(\"actual: \",record[\"mpC\"],\"predicted: \", record[\"Test (Predicted value)\"],\"err: \",err)\n",
    "\n",
    "            \n",
    "            if err<20:\n",
    "                current_datetime = datetime.now()\n",
    "\n",
    "                save_path=f\"dataset/240112llamareasoning/{current_datetime}.json\"\n",
    "                save_path.replace(\"-\",\"\").replace(\":\",\"\")\n",
    "                with open(save_path,\"w\") as f:\n",
    "                    json.dump(record,f,indent=4)\n",
    "\n",
    "                break"
   ]
  },
  {
   "cell_type": "code",
   "execution_count": null,
   "metadata": {},
   "outputs": [],
   "source": []
  },
  {
   "cell_type": "markdown",
   "metadata": {},
   "source": [
    "# モデルによる物性値の予測"
   ]
  },
  {
   "cell_type": "code",
   "execution_count": 17,
   "metadata": {},
   "outputs": [
    {
     "name": "stderr",
     "output_type": "stream",
     "text": [
      "  0%|          | 0/50 [00:00<?, ?it/s]"
     ]
    },
    {
     "name": "stdout",
     "output_type": "stream",
     "text": [
      "promlem 1 / 50\n"
     ]
    },
    {
     "name": "stderr",
     "output_type": "stream",
     "text": [
      "  2%|▏         | 1/50 [00:08<06:39,  8.15s/it]"
     ]
    },
    {
     "name": "stdout",
     "output_type": "stream",
     "text": [
      "----\n",
      "\n",
      "\n",
      "- Basic unit, benzene has a melting point of 5.5°C. \n",
      "- The presence of the amide group (–CONH–) generally increases the melting point due to the potential for hydrogen bonding and the rigidity it introduces to the molecule, which can be estimated to add around +80°C. \n",
      "- The tetramethylcyclopentyl group (–(C1)CCC(C)C1(C)C–) is a bulky and non-polar group that can increase the melting point due to increased molecular weight and van der Waals interactions, estimated at +30°C. \n",
      "- The methyl group (–CH3–) attached to the amide is a small alkyl group that can slightly increase the melting point due to increased molecular weight, estimated at +5°C. \n",
      "- The overall molecule is large and has a high degree of symmetry, which can lead to more efficient packing in the solid state, further increasing the melting point. This effect is difficult to quantify but can be estimated to add around +10°C.\n",
      "##Prediction: 145.0\n",
      "##Reason\n",
      "actual:  74.0 predicted:  145.0\n",
      "promlem 2 / 50\n"
     ]
    },
    {
     "name": "stderr",
     "output_type": "stream",
     "text": [
      "  4%|▍         | 2/50 [00:15<05:56,  7.43s/it]"
     ]
    },
    {
     "name": "stdout",
     "output_type": "stream",
     "text": [
      "----\n",
      "\n",
      "\n",
      "- Basic unit, quinoxaline has a melting point of around 100°C. \n",
      "- Chloro substituents: Each chloro group is electron-withdrawing and increases the polarity of the molecule, which can lead to stronger intermolecular forces such as dipole-dipole interactions. This can increase the melting point. However, the effect of chloro groups on melting point is not as straightforward as it is for halogens in aliphatic compounds due to the presence of nitrogen in the quinoxaline ring, which can introduce additional ring strain and affect the crystal packing. \n",
      "- Estimated effect of each chloro group: +20°C (due to increased polarity and potential for stronger intermolecular forces)\n",
      "- Ring strain: -5°C (due to the nitrogen's contribution to the ring strain)\n",
      "- Overall, the chloro groups' effect on the melting point is expected to be additive.\n",
      "##Prediction: 130.0\n",
      "##Reason\n",
      "actual:  152.0 predicted:  130.0\n",
      "promlem 3 / 50\n"
     ]
    },
    {
     "name": "stderr",
     "output_type": "stream",
     "text": [
      "  6%|▌         | 3/50 [00:18<04:19,  5.52s/it]"
     ]
    },
    {
     "name": "stdout",
     "output_type": "stream",
     "text": [
      "----\n",
      "\n",
      "\n",
      "The basic unit, benzene, has a melting point of 5.5°C. The presence of two chloromethyl groups (–CCl) on the benzene ring will significantly increase the melting point due to the introduction of electron-withdrawing chlorine atoms, which enhance intermolecular forces such as dipole-dipole interactions. Each chloromethyl group can be estimated to increase the melting point by approximately 40°C.\n",
      "##Prediction: 105.0\n",
      "##Reason\n",
      "actual:  100.0 predicted:  105.0\n",
      "promlem 4 / 50\n"
     ]
    },
    {
     "name": "stderr",
     "output_type": "stream",
     "text": [
      "  8%|▊         | 4/50 [00:25<04:43,  6.15s/it]"
     ]
    },
    {
     "name": "stdout",
     "output_type": "stream",
     "text": [
      "----\n",
      "\n",
      "\n",
      "- Basic unit, benzene has a melting point of 5.5°C. \n",
      "- The presence of two phenyl groups increases the melting point due to increased molecular weight and van der Waals forces. Each phenyl group can be estimated to add approximately +20°C to the melting point. \n",
      "- The ketone functional group (C=C=O) is polar and can engage in dipole-dipole interactions, which typically raises the melting point. This effect can be estimated to add around +10°C. \n",
      "- The conjugation between the two phenyl groups and the ketone group can also increase the melting point due to the rigidity of the molecule and the potential for π-π stacking interactions. This effect can be estimated to add around +5°C. \n",
      "- The overall molecular symmetry and planarity can also contribute to a higher melting point due to better packing in the solid state. This effect can be estimated to add around +5°C.\n",
      "##Prediction: 55.0\n",
      "##Reason\n",
      "actual:  56.5 predicted:  55.0\n",
      "promlem 5 / 50\n"
     ]
    },
    {
     "name": "stderr",
     "output_type": "stream",
     "text": [
      " 10%|█         | 5/50 [00:29<03:59,  5.32s/it]"
     ]
    },
    {
     "name": "stdout",
     "output_type": "stream",
     "text": [
      "----\n",
      "\n",
      "\n",
      "- Basic unit, ethane has a melting point of -172.°C. \n",
      "- Hydroxyl group (OH): +100°C (due to hydrogen bonding and polarity). \n",
      "- Disulfide bond (SS): +50°C (due to the rigidity and potential for intermolecular interactions). \n",
      "- Ethyl group (C2H5): +20°C (due to an increase in molecular weight and van der Waals forces). \n",
      "- The combined effects of these functional groups should be considered to predict the melting point.\n",
      "##Prediction: 102.0\n",
      "##Reason\n",
      "actual:  26.0 predicted:  102.0\n",
      "promlem 6 / 50\n"
     ]
    },
    {
     "name": "stderr",
     "output_type": "stream",
     "text": [
      " 12%|█▏        | 6/50 [00:35<04:07,  5.62s/it]"
     ]
    },
    {
     "name": "stdout",
     "output_type": "stream",
     "text": [
      "----\n",
      "\n",
      "\n",
      "- Basic unit, benzene has a melting point of 5.5°C. \n",
      "- Each additional phenyl group increases the melting point due to increased molecular weight and van der Waals forces. We can estimate this increase to be around +20°C per phenyl group. \n",
      "- The nicotinamide moiety (nicotinic acid with an amide group) is a significant contributor to the melting point due to its ability to form hydrogen bonds and its rigid structure. This could add approximately +100°C to the melting point. \n",
      "- The ethyl group attached to the nicotinamide moiety may slightly lower the melting point due to its electron-donating effect, which could be estimated to decrease the melting point by about -5°C. \n",
      "- The overall molecule is large and rigid, which can also contribute to a higher melting point.\n",
      "##Prediction: 140.0\n",
      "##Reason\n",
      "actual:  159.0 predicted:  140.0\n",
      "promlem 7 / 50\n"
     ]
    },
    {
     "name": "stderr",
     "output_type": "stream",
     "text": [
      " 14%|█▍        | 7/50 [00:45<05:00,  6.99s/it]"
     ]
    },
    {
     "name": "stdout",
     "output_type": "stream",
     "text": [
      "----\n",
      "\n",
      "\n",
      "- Basic unit, benzene has a melting point of 5.5°C. \n",
      "- Each methoxy group (-OCH3) is expected to increase the melting point due to the increase in molecular weight and the introduction of polarity, which can lead to stronger intermolecular forces such as dipole-dipole interactions. Each methoxy group might add approximately +20°C to the melting point. \n",
      "- The methyl group (-CH3) is a smaller alkyl group that also increases the molecular weight and may slightly increase the melting point due to van der Waals forces, but its effect is less pronounced than that of a methoxy group. It might add around +5°C. \n",
      "- The ketone group (C=O) is polar and can form dipole-dipole interactions, which can increase the melting point. The effect of a ketone group is generally around +20°C. \n",
      "- The presence of two phenyl rings increases the molecular complexity and the potential for π-π interactions, which can significantly raise the melting point. Each phenyl group might add around +30°C. \n",
      "- The overall molecule is large and has multiple functional groups that can increase the melting point.\n",
      "##Prediction: 135.0\n",
      "##Reason\n",
      "actual:  109.0 predicted:  135.0\n",
      "promlem 8 / 50\n"
     ]
    },
    {
     "name": "stderr",
     "output_type": "stream",
     "text": [
      " 16%|█▌        | 8/50 [00:48<04:01,  5.76s/it]"
     ]
    },
    {
     "name": "stdout",
     "output_type": "stream",
     "text": [
      "----\n",
      "\n",
      "\n",
      "- Basic unit, benzene has a melting point of 5.5°C. \n",
      "- Propyl group (CCC) adds steric bulk and increases the molecular weight, which typically raises the melting point. However, the effect of the propyl group on the melting point is not as significant as that of a larger alkyl group, such as a methyl group, which can increase the melting point by about 20°C. \n",
      "- The propyl group is a smaller alkyl group, so the increase is less pronounced.\n",
      "##Prediction: 10.0\n",
      "##Reason\n",
      "actual:  -99.0 predicted:  10.0\n",
      "promlem 9 / 50\n"
     ]
    },
    {
     "name": "stderr",
     "output_type": "stream",
     "text": [
      " 18%|█▊        | 9/50 [00:53<03:53,  5.70s/it]"
     ]
    },
    {
     "name": "stdout",
     "output_type": "stream",
     "text": [
      "----\n",
      "\n",
      "\n",
      "- Basic unit, acetamide has a melting point of around 130°C. \n",
      "- Nitro group: +50°C (due to strong electron-withdrawing effect and potential for intermolecular hydrogen bonding) \n",
      "- Phenyl group: +20°C (due to increased molecular weight and pi-pi stacking interactions) \n",
      "- The presence of the amide group and the nitro group will increase the melting point due to the potential for hydrogen bonding and dipole-dipole interactions. However, the nitro group's electron-withdrawing nature can also increase the melting point by enhancing the intermolecular forces. The phenyl group's contribution is less than the nitro group due to its smaller size and lesser influence on the overall molecular structure.\n",
      "##Prediction: 200.0\n",
      "##Reason\n",
      "actual:  93.0 predicted:  200.0\n",
      "promlem 10 / 50\n"
     ]
    },
    {
     "name": "stderr",
     "output_type": "stream",
     "text": [
      " 20%|██        | 10/50 [00:56<03:10,  4.77s/it]"
     ]
    },
    {
     "name": "stdout",
     "output_type": "stream",
     "text": [
      "----\n",
      "\n",
      "\n",
      "- Basic unit, acetic acid has a melting point of 16.6°C. \n",
      "- Propyl group: +20°C (due to increased molecular weight and van der Waals forces)\n",
      "- Acetate ester group: +10°C (due to the polarity and the ability to form dipole-dipole interactions)\n",
      "- The combined effects of these functional groups lead to an increase in the melting point.\n",
      "##Prediction: 46.0\n",
      "##Reason\n",
      "actual:  -92.0 predicted:  46.0\n",
      "promlem 11 / 50\n"
     ]
    },
    {
     "name": "stderr",
     "output_type": "stream",
     "text": [
      " 22%|██▏       | 11/50 [00:59<02:40,  4.12s/it]"
     ]
    },
    {
     "name": "stdout",
     "output_type": "stream",
     "text": [
      "----\n",
      "\n",
      "\n",
      "- Basic unit, anisole has a melting point of 68°C. \n",
      "- Iodine substituent: +20°C (due to increased molecular weight and polarizability) \n",
      "- Nitro group: +40°C (due to strong electron-withdrawing effect and potential for intermolecular hydrogen bonding) \n",
      "- The combined effects of these functional groups should be considered to predict the melting point.\n",
      "##Prediction: 128.0\n",
      "##Reason\n",
      "actual:  97.0 predicted:  128.0\n",
      "promlem 12 / 50\n"
     ]
    },
    {
     "name": "stderr",
     "output_type": "stream",
     "text": [
      " 24%|██▍       | 12/50 [01:05<02:59,  4.72s/it]"
     ]
    },
    {
     "name": "stdout",
     "output_type": "stream",
     "text": [
      "----\n",
      "\n",
      "\n",
      "- Basic unit, ethene (ethylene) has a melting point of -169.2°C. \n",
      "- Each methyl group is expected to increase the melting point due to an increase in molecular weight and van der Waals forces. The effect of a methyl group on the melting point of a hydrocarbon is typically around +20°C per methyl group. \n",
      "- The trans double bond in the molecule is expected to have a minimal effect on the melting point, as it does not significantly alter the molecular symmetry or the ability to pack in the solid state.\n",
      "- The presence of the trans double bond in the molecule may slightly increase the melting point due to the rigidity it introduces, but this effect is minor compared to the methyl groups.\n",
      "- The overall molecule is still relatively small and has a low molecular weight, which will contribute to a low melting point.\n",
      "##Prediction: -104.0\n",
      "##Reason\n",
      "actual:  -137.4 predicted:  -104.0\n",
      "promlem 13 / 50\n"
     ]
    },
    {
     "name": "stderr",
     "output_type": "stream",
     "text": [
      " 26%|██▌       | 13/50 [01:12<03:21,  5.44s/it]"
     ]
    },
    {
     "name": "stdout",
     "output_type": "stream",
     "text": [
      "----\n",
      "\n",
      "\n",
      "- Basic unit, benzene has a melting point of 5.5°C.\n",
      "- Bicyclic structure: +100°C (due to increased rigidity and planarity, which enhances intermolecular interactions)\n",
      "- Nitro groups: +100°C (due to strong electron-withdrawing nature and ability to form intermolecular interactions)\n",
      "- Hydrazone linkage: +50°C (due to the potential for hydrogen bonding and dipole-dipole interactions)\n",
      "- Additional phenyl group: +20°C (due to additional pi-pi interactions)\n",
      "- Additional bicyclic structure: +20°C (due to increased rigidity and planarity)\n",
      "- Overall, the compound's high melting point is due to the combination of these functional groups and structural features.\n",
      "##Prediction: 285.0\n",
      "##Reason\n",
      "actual:  203.0 predicted:  285.0\n",
      "promlem 14 / 50\n"
     ]
    },
    {
     "name": "stderr",
     "output_type": "stream",
     "text": [
      " 28%|██▊       | 14/50 [01:18<03:24,  5.69s/it]"
     ]
    },
    {
     "name": "stdout",
     "output_type": "stream",
     "text": [
      "----\n",
      "\n",
      "\n",
      "- Basic unit, indole has a melting point of around 50°C. \n",
      "- Acetyl group: +20°C (due to increased molecular weight and polarity) \n",
      "- Nitro group: +50°C (due to strong electron-withdrawing nature and potential for intermolecular hydrogen bonding) \n",
      "- Phenyl group: +20°C (due to increased molecular weight and π-π interactions) \n",
      "- Ethyl ester group: +10°C (due to increased molecular weight and polarity) \n",
      "- Indole ring: +10°C (due to the presence of a fused ring system which can increase rigidity and intermolecular interactions) \n",
      "- Overall, the presence of multiple functional groups contributes to an increase in the melting point.\n",
      "##Prediction: 150.0\n",
      "##Reason\n",
      "actual:  133.0 predicted:  150.0\n",
      "promlem 15 / 50\n"
     ]
    },
    {
     "name": "stderr",
     "output_type": "stream",
     "text": [
      " 30%|███       | 15/50 [01:24<03:16,  5.62s/it]"
     ]
    },
    {
     "name": "stdout",
     "output_type": "stream",
     "text": [
      "----\n",
      "\n",
      "\n",
      "- Basic unit, octane has a melting point of -95.6°C. \n",
      "- Each methyl group generally increases the melting point due to an increase in molecular weight and van der Waals forces. However, the effect of a methyl group on the melting point of a hydrocarbon is not always straightforward, and the increase can vary depending on the context. For octane, the addition of two methyl groups is expected to increase the melting point by approximately 20°C each. \n",
      "- The presence of a double bond in the molecule can slightly increase the melting point due to the rigidity it introduces, but this effect is relatively small and can be estimated at around +5°C. \n",
      "- The overall effect of the two methyl groups and the double bond on the melting point of octane is additive.\n",
      "##Prediction: -70.0\n",
      "##Reason\n",
      "actual:  -54.9 predicted:  -70.0\n",
      "promlem 16 / 50\n"
     ]
    },
    {
     "name": "stderr",
     "output_type": "stream",
     "text": [
      " 32%|███▏      | 16/50 [01:30<03:15,  5.75s/it]"
     ]
    },
    {
     "name": "stdout",
     "output_type": "stream",
     "text": [
      "----\n",
      "\n",
      "\n",
      "- Basic unit, benzene has a melting point of 5.5°C. \n",
      "- Phenol group (O-H) typically raises the melting point due to hydrogen bonding, which can be estimated to add around +40°C. \n",
      "- Aldehyde group (C=O) can form hydrogen bonds and also contributes to the rigidity of the molecule, which can increase the melting point. This effect can be estimated to add around +30°C. \n",
      "- The presence of the phenoxy group (O-phenyl) adds to the molecular weight and the rigidity of the molecule, which can further increase the melting point. This effect can be estimated to add around +20°C. \n",
      "- The overall molecule is more rigid and has a larger molecular weight than benzene, which will increase the melting point.\n",
      "##Prediction: 115.0\n",
      "##Reason\n",
      "actual:  25.0 predicted:  115.0\n",
      "promlem 17 / 50\n"
     ]
    },
    {
     "name": "stderr",
     "output_type": "stream",
     "text": [
      " 34%|███▍      | 17/50 [01:43<04:19,  7.86s/it]"
     ]
    },
    {
     "name": "stdout",
     "output_type": "stream",
     "text": [
      "----\n",
      "\n",
      "\n",
      "- Basic unit, benzene has a melting point of 5.5°C. \n",
      "- Furan rings: Each furan ring contributes to the melting point due to its aromatic character and the ability to form hydrogen bonds. The presence of two furan rings in the compound can be estimated to increase the melting point by approximately +20°C each. \n",
      "- Chloro substituent: The chloro group is an electron-withdrawing group that can increase the melting point due to its inductive effect and the possibility of intermolecular interactions. The effect of a chloro group on the melting point can be estimated at +5°C. \n",
      "- Methyl group: The methyl group is a small alkyl group that can increase the melting point due to the increase in molecular weight and van der Waals forces. The effect of a methyl group on the melting point can be estimated at +5°C. \n",
      "- Ketone group: The ketone group can form hydrogen bonds, which can increase the melting point. The effect of a ketone group on the melting point can be estimated at +10°C. \n",
      "- Oxime group: The oxime group can form hydrogen bonds, which can increase the melting point. The effect of an oxime group on the melting point can be estimated at +15°C. \n",
      "- The cumulative effect of these functional groups on the melting point is estimated to be +55°C. \n",
      "##Prediction: 70.0\n",
      "##Reason\n",
      "actual:  115.0 predicted:  70.0\n",
      "promlem 18 / 50\n"
     ]
    },
    {
     "name": "stderr",
     "output_type": "stream",
     "text": [
      " 36%|███▌      | 18/50 [01:48<03:50,  7.20s/it]"
     ]
    },
    {
     "name": "stdout",
     "output_type": "stream",
     "text": [
      "----\n",
      "\n",
      "\n",
      "The basic unit for 1,2-propadiene is ethene, which has a melting point of -169.2°C. Adding a double bond to the carbon chain generally increases the melting point due to increased rigidity and planarity of the molecule, which can lead to better packing in the solid state. However, the effect of the double bond on the melting point of alkenes is not as pronounced as for alkanes or aromatic compounds. For 1,2-propadiene, the double bond is in the trans configuration, which can slightly increase the melting point due to the increased rigidity and planarity. However, the effect is relatively small compared to the influence of the carbon-carbon bond length and the overall molecular symmetry. Therefore, the increase in melting point due to the double bond is estimated to be around +5°C.\n",
      "##Prediction: -164.0\n",
      "##Reason\n",
      "actual:  -136.2 predicted:  -164.0\n",
      "promlem 19 / 50\n"
     ]
    },
    {
     "name": "stderr",
     "output_type": "stream",
     "text": [
      " 38%|███▊      | 19/50 [01:52<03:12,  6.22s/it]"
     ]
    },
    {
     "name": "stdout",
     "output_type": "stream",
     "text": [
      "----\n",
      "\n",
      "\n",
      "- Basic unit, furan has a melting point of -85.5°C. \n",
      "- Bromine substituent: +40°C (due to increased molecular weight and polarizability, which enhances intermolecular forces). \n",
      "- Aldehyde group: +20°C (due to the polar carbonyl group which can form hydrogen bonds and dipole-dipole interactions). \n",
      "- The combined effects of the bromine and aldehyde group should be considered together, as they are both contributing to an increase in the melting point.\n",
      "##Prediction: -45.0\n",
      "##Reason\n",
      "actual:  56.0 predicted:  -45.0\n",
      "promlem 20 / 50\n"
     ]
    },
    {
     "name": "stderr",
     "output_type": "stream",
     "text": [
      " 40%|████      | 20/50 [01:58<03:02,  6.07s/it]"
     ]
    },
    {
     "name": "stdout",
     "output_type": "stream",
     "text": [
      "----\n",
      "\n",
      "\n",
      "- Basic unit, pyridine has a melting point of -42°C. \n",
      "- Fluorine substituents: Each fluorine atom is expected to increase the melting point due to its strong electronegativity and the resulting dipole-dipole interactions. The effect of a fluorine atom on the melting point can be estimated to be around +40°C per fluorine atom. There are four fluorine atoms, so the total increase would be +160°C. \n",
      "- Amino group: The amino group can form hydrogen bonds, which significantly increases the melting point. The effect of an amino group on the melting point can be estimated to be around +80°C. \n",
      "- The cumulative effect of these functional groups on the melting point is the sum of their individual contributions.\n",
      "##Prediction: 108.0\n",
      "##Reason\n",
      "actual:  86.0 predicted:  108.0\n",
      "promlem 21 / 50\n"
     ]
    },
    {
     "name": "stderr",
     "output_type": "stream",
     "text": [
      " 42%|████▏     | 21/50 [02:02<02:40,  5.54s/it]"
     ]
    },
    {
     "name": "stdout",
     "output_type": "stream",
     "text": [
      "----\n",
      "\n",
      "\n",
      "- Basic unit, benzene has a melting point of 5.5°C. \n",
      "- The presence of a methyl group generally increases the melting point due to an increase in molecular weight and van der Waals forces, estimated at +5°C for each methyl group. \n",
      "- The hydrone (benzhydrol) group is a polar functional group that can engage in hydrogen bonding, which significantly increases the melting point. This effect is estimated at +40°C. \n",
      "- The presence of two methyl groups and a hydrone group will have a cumulative effect on the melting point.\n",
      "##Prediction: 50.0\n",
      "##Reason\n",
      "actual:  71.0 predicted:  50.0\n",
      "promlem 22 / 50\n"
     ]
    },
    {
     "name": "stderr",
     "output_type": "stream",
     "text": [
      " 44%|████▍     | 22/50 [02:13<03:18,  7.09s/it]"
     ]
    },
    {
     "name": "stdout",
     "output_type": "stream",
     "text": [
      "----\n",
      "\n",
      "\n",
      "The compound in question is a complex heterocyclic compound with multiple functional groups that influence its melting point. The basic unit for comparison is benzene, which has a melting point of 5.5°C. The presence of a phenyl group typically increases the melting point due to increased molecular weight and π-π interactions, which can be estimated to add approximately +40°C. The triazolo[3,4-b][1,3,5]thiadiazine core structure is a heterocyclic compound with nitrogen and sulfur atoms, which can engage in hydrogen bonding and dipole-dipole interactions, significantly raising the melting point. This could be estimated to add around +100°C. The methyl group attached to the phenyl ring is a small alkyl group that may slightly increase the melting point due to increased van der Waals forces, estimated at +5°C. The overall structure is rigid and planar, which can also contribute to a higher melting point. However, the presence of a thiadiazine ring introduces a degree of flexibility that might reduce the melting point slightly, estimated at -5°C. The combined effects of these functional groups and structural features lead to a predicted melting point.\n",
      "##Prediction: 150.0\n",
      "##Reason\n",
      "actual:  226.0 predicted:  150.0\n",
      "promlem 23 / 50\n"
     ]
    },
    {
     "name": "stderr",
     "output_type": "stream",
     "text": [
      " 46%|████▌     | 23/50 [02:19<03:06,  6.91s/it]"
     ]
    },
    {
     "name": "stdout",
     "output_type": "stream",
     "text": [
      "----\n",
      "\n",
      "\n",
      "- Basic unit, benzene has a melting point of 5.5°C. \n",
      "- The presence of a carboxylic acid group (COOH) generally increases the melting point due to the ability to form strong intermolecular hydrogen bonds, which can be estimated to add around +100°C. \n",
      "- The chlorine atom attached to the carboxylic acid group (Cl-COOH) increases the molecular weight and the polarity of the molecule, which can lead to stronger intermolecular forces, such as dipole-dipole interactions, and thus can be estimated to add around +20°C. \n",
      "- The presence of a methylene group (CH2) in the compound does not significantly affect the melting point. \n",
      "- The compound has a conjugated system which can increase the melting point due to the rigidity of the molecule, but this effect is not quantifiable without empirical data.\n",
      "##Prediction: 135.0\n",
      "##Reason\n",
      "actual:  120.0 predicted:  135.0\n",
      "promlem 24 / 50\n"
     ]
    },
    {
     "name": "stderr",
     "output_type": "stream",
     "text": [
      " 48%|████▊     | 24/50 [02:28<03:10,  7.31s/it]"
     ]
    },
    {
     "name": "stdout",
     "output_type": "stream",
     "text": [
      "----\n",
      "\n",
      "\n",
      "- Basic unit, benzene has a melting point of 5.5°C. \n",
      "- Chloro substituent: +20°C (due to increased molecular weight and polarizability) \n",
      "- Hydrazone group: +30°C (due to the potential for hydrogen bonding and dipole-dipole interactions) \n",
      "- Thiazole ring: +20°C (due to the presence of nitrogen and sulfur, which can engage in intermolecular interactions) \n",
      "- Methyl group: +5°C (due to an increase in molecular weight and van der Waals forces) \n",
      "- Nitrile group: +10°C (due to the polar nature and potential for dipole-dipole interactions) \n",
      "- Overall, the presence of multiple functional groups contributes to an increase in the melting point. However, the actual value is lower than the sum of the individual contributions, indicating that the molecule's overall structure and packing in the solid state may not be as favorable as initially predicted.\n",
      "##Prediction: 105.0\n",
      "##Reason\n",
      "actual:  173.0 predicted:  105.0\n",
      "promlem 25 / 50\n"
     ]
    },
    {
     "name": "stderr",
     "output_type": "stream",
     "text": [
      " 50%|█████     | 25/50 [02:35<03:04,  7.40s/it]"
     ]
    },
    {
     "name": "stdout",
     "output_type": "stream",
     "text": [
      "----\n",
      "\n",
      "\n",
      "- Basic unit, benzene has a melting point of 5.5°C. \n",
      "- The flavone structure has two additional phenyl rings, which would increase the melting point due to increased molecular weight and van der Waals forces. Each additional phenyl ring could be estimated to add approximately +20°C. \n",
      "- The hydroxyl group (OH) is capable of hydrogen bonding, which significantly increases the melting point. The hydroxyl group could be estimated to add approximately +40°C. \n",
      "- The flavone structure also includes a ketone (C=O) group, which can participate in dipole-dipole interactions and could add approximately +10°C. \n",
      "- The flavone structure also includes a fused ring system, which can increase the rigidity of the molecule and thus the melting point. This could be estimated to add approximately +15°C. \n",
      "- The presence of aromatic rings and the potential for hydrogen bonding from the hydroxyl group would increase the melting point significantly.\n",
      "##Prediction: 110.0\n",
      "##Reason\n",
      "actual:  98.5 predicted:  110.0\n",
      "promlem 26 / 50\n"
     ]
    },
    {
     "name": "stderr",
     "output_type": "stream",
     "text": [
      " 52%|█████▏    | 26/50 [02:44<03:08,  7.85s/it]"
     ]
    },
    {
     "name": "stdout",
     "output_type": "stream",
     "text": [
      "----\n",
      "\n",
      "\n",
      "- Basic unit, benzene has a melting point of 5.5°C. \n",
      "- The presence of a carboxylic acid group generally increases the melting point due to the ability to form strong intermolecular hydrogen bonds, which can be estimated to add around +100°C. \n",
      "- The tetrahydro-1H-beta-carboline structure introduces additional rigidity and planarity to the molecule, which can further increase the melting point, estimated at +50°C. \n",
      "- The presence of a nitrogen atom in the heterocyclic ring can also contribute to the melting point due to the potential for hydrogen bonding and dipole-dipole interactions, estimated at +20°C. \n",
      "- The overall molecule is large and has a high degree of symmetry, which can lead to more efficient packing in the solid state, further increasing the melting point, estimated at +10°C. \n",
      "- The presence of a double bond in the beta-carboline ring can slightly lower the melting point due to less efficient packing, estimated at -5°C. \n",
      "- The overall effect of these functional groups on the melting point is additive.\n",
      "##Prediction: 180.0\n",
      "##Reason\n",
      "actual:  296.0 predicted:  180.0\n",
      "promlem 27 / 50\n"
     ]
    },
    {
     "name": "stderr",
     "output_type": "stream",
     "text": [
      " 54%|█████▍    | 27/50 [02:49<02:39,  6.92s/it]"
     ]
    },
    {
     "name": "stdout",
     "output_type": "stream",
     "text": [
      "----\n",
      "\n",
      "\n",
      "- Basic unit, pyrazole has a melting point of around 80°C. \n",
      "- Methyl group on the nitrogen: +5°C (due to increased molecular weight and van der Waals interactions). \n",
      "- Methyl group on the carbon adjacent to the nitrogen: +5°C (due to increased molecular weight and van der Waals interactions). \n",
      "- Hydroxyl group on the carbon adjacent to the nitrogen: +20°C (due to hydrogen bonding capability and increased polarity). \n",
      "- The presence of the hydroxyl group also increases the melting point due to the potential for hydrogen bonding with other molecules.\n",
      "##Prediction: 115.0\n",
      "##Reason\n",
      "actual:  79.0 predicted:  115.0\n",
      "promlem 28 / 50\n"
     ]
    },
    {
     "name": "stderr",
     "output_type": "stream",
     "text": [
      " 56%|█████▌    | 28/50 [02:56<02:34,  7.00s/it]"
     ]
    },
    {
     "name": "stdout",
     "output_type": "stream",
     "text": [
      "----\n",
      "\n",
      "\n",
      "- Basic unit, cyclohexane has a melting point of 6.5°C. \n",
      "- The presence of the ketone functional group (C=O) generally increases the melting point due to the polar nature and the potential for hydrogen bonding, which can be estimated to add approximately +40°C. \n",
      "- The bicyclic structure (bicyclo[3.2.1]octane) introduces rigidity and planarity to the molecule, which can increase the melting point due to better packing in the solid state, estimated at +30°C. \n",
      "- The three methyl groups (–CH3) attached to the bicyclic structure increase the molecular weight and van der Waals forces, which can raise the melting point, estimated at +5°C each, totaling +15°C. \n",
      "- The overall molecule is large and has a high degree of symmetry, which can lead to more efficient packing in the solid state, further increasing the melting point.\n",
      "##Prediction: 101.0\n",
      "##Reason\n",
      "actual:  193.0 predicted:  101.0\n",
      "promlem 29 / 50\n"
     ]
    },
    {
     "name": "stderr",
     "output_type": "stream",
     "text": [
      " 58%|█████▊    | 29/50 [03:03<02:24,  6.88s/it]"
     ]
    },
    {
     "name": "stdout",
     "output_type": "stream",
     "text": [
      "----\n",
      "\n",
      "\n",
      "- Basic unit, benzene has a melting point of 5.5°C. \n",
      "- Naphthalene, a polycyclic aromatic hydrocarbon, has a melting point of 80.5°C. \n",
      "- Bromomethyl group: This group is expected to increase the melting point due to the increase in molecular weight and the introduction of a polarizable bromine atom, which can engage in dipole-dipole interactions. The bromomethyl group is estimated to increase the melting point by approximately 40°C. \n",
      "- The presence of two naphthyl rings contributes to a higher melting point due to the increased molecular weight and the rigidity of the molecular structure, which can lead to better packing in the solid state. Each naphthyl group is estimated to increase the melting point by approximately 20°C. \n",
      "- The combined effect of these functional groups is expected to increase the melting point significantly.\n",
      "##Prediction: 140.0\n",
      "##Reason\n",
      "actual:  56.0 predicted:  140.0\n",
      "promlem 30 / 50\n"
     ]
    },
    {
     "name": "stderr",
     "output_type": "stream",
     "text": [
      " 60%|██████    | 30/50 [03:14<02:42,  8.13s/it]"
     ]
    },
    {
     "name": "stdout",
     "output_type": "stream",
     "text": [
      "----\n",
      "\n",
      "\n",
      "The compound in question is a complex molecule with multiple functional groups that influence its melting point. The base structure is a bicyclic compound, which typically has a higher melting point due to the rigid structure and increased van der Waals interactions. The presence of nitrile groups (C#N) generally increases the melting point due to their ability to form strong dipole-dipole interactions and potential for hydrogen bonding. Each nitrile group could contribute approximately +20 to the melting point. The diphenyl groups (Ph) also increase the melting point due to their aromaticity and the potential for π-π stacking interactions, which could add around +30 to the melting point for each group. The presence of two diphenyl groups would contribute an additional +60. The overall structure is quite rigid and planar, which can also contribute to a higher melting point due to better packing in the solid state. However, the presence of multiple bulky groups and the overall complexity of the molecule may also lead to a lower melting point due to steric hindrance and reduced packing efficiency. The balance between these effects is difficult to predict without empirical data, but a rough estimate would be around +100 to +150 for the entire molecule.\n",
      "##Prediction: 170.0\n",
      "##Reason\n",
      "actual:  190.0 predicted:  170.0\n",
      "promlem 31 / 50\n"
     ]
    },
    {
     "name": "stderr",
     "output_type": "stream",
     "text": [
      " 62%|██████▏   | 31/50 [03:23<02:43,  8.58s/it]"
     ]
    },
    {
     "name": "stdout",
     "output_type": "stream",
     "text": [
      "----\n",
      "\n",
      "\n",
      "- Basic unit, benzene has a melting point of 5.5°C.\n",
      "- Each additional benzene ring in aromatic compounds generally increases the melting point due to increased molecular weight and π-π interactions. Assuming each additional benzene ring adds approximately +20°C.\n",
      "- The presence of amide groups (–CONH–) can significantly increase the melting point due to the potential for hydrogen bonding and resonance stabilization. Each amide group can be estimated to add around +100°C.\n",
      "- The tertiary amine (–N(CH3)3) on the other hand, can slightly increase the melting point due to the increased molecular weight and steric hindrance, but its effect is less pronounced than that of amide groups. It can be estimated to add around +5°C.\n",
      "- The overall molecule is large and rigid, which can further increase the melting point due to better packing in the solid state. This effect can be estimated to add around +50°C.\n",
      "- The presence of four amide groups and one tertiary amine group in the molecule will have a cumulative effect on the melting point.\n",
      "##Prediction: 230.0\n",
      "##Reason\n",
      "actual:  279.0 predicted:  230.0\n",
      "promlem 32 / 50\n"
     ]
    },
    {
     "name": "stderr",
     "output_type": "stream",
     "text": [
      " 64%|██████▍   | 32/50 [03:30<02:26,  8.14s/it]"
     ]
    },
    {
     "name": "stdout",
     "output_type": "stream",
     "text": [
      "----\n",
      "\n",
      "\n",
      "- Basic unit, isoxazole has a melting point of around 100°C. \n",
      "- Methyl groups: Each methyl group is expected to increase the melting point due to an increase in molecular weight and van der Waals forces. The effect of a methyl group on the melting point can be estimated to be around +5°C per methyl group. \n",
      "- Boronic acid group: The boronic acid group is expected to have a significant impact on the melting point due to its ability to form strong hydrogen bonds and its planar structure, which can lead to efficient packing in the solid state. The effect of a boronic acid group on the melting point can be estimated to be around +50°C. \n",
      "- The cumulative effect of these functional groups on the melting point is estimated to be +50°C (boronic acid) + 2(5°C for methyl groups) = +60°C.\n",
      "##Prediction: 160.0\n",
      "##Reason\n",
      "actual:  107.0 predicted:  160.0\n",
      "promlem 33 / 50\n"
     ]
    },
    {
     "name": "stderr",
     "output_type": "stream",
     "text": [
      " 66%|██████▌   | 33/50 [03:39<02:19,  8.21s/it]"
     ]
    },
    {
     "name": "stdout",
     "output_type": "stream",
     "text": [
      "----\n",
      "\n",
      "\n",
      "- Basic unit, benzene has a melting point of 5.5°C. \n",
      "- Hydroxy group: +40°C (due to hydrogen bonding and polarity) \n",
      "- Thiazole ring: +30°C (due to the presence of nitrogen and sulfur, which can engage in hydrogen bonding and contribute to the rigidity of the molecule) \n",
      "- Nitrile group: +20°C (due to the polar nature and the potential for dipole-dipole interactions) \n",
      "- Methyl group: +5°C (due to an increase in molecular weight and van der Waals interactions) \n",
      "- Amide group: +100°C (due to strong hydrogen bonding and resonance stabilization) \n",
      "- Hydrazine group: +50°C (due to the potential for hydrogen bonding and the presence of nitrogen, which can engage in hydrogen bonding) \n",
      "- Overall, the presence of multiple functional groups contributes to a higher melting point.\n",
      "##Prediction: 215.0\n",
      "##Reason\n",
      "actual:  253.0 predicted:  215.0\n",
      "promlem 34 / 50\n"
     ]
    },
    {
     "name": "stderr",
     "output_type": "stream",
     "text": [
      " 68%|██████▊   | 34/50 [03:53<02:40, 10.01s/it]"
     ]
    },
    {
     "name": "stdout",
     "output_type": "stream",
     "text": [
      "----\n",
      "\n",
      "\n",
      "- Basic unit, naphthalene has a melting point of 80.°C.\n",
      "- The presence of a carboxylic acid group (COOH) generally increases the melting point due to the ability to form strong intermolecular hydrogen bonds, which can be estimated to add approximately +40°C.\n",
      "- The presence of a hydroxyl group (OH) can also form hydrogen bonds, which can increase the melting point, estimated to add +20°C.\n",
      "- The presence of a methyl group (CH3) attached to the naphthalene ring can slightly increase the melting point due to increased molecular weight and van der Waals forces, estimated to add +5°C.\n",
      "- The presence of a second methyl group (CH3) attached to the carboxylic acid group can further increase the melting point due to increased molecular weight and van der Waals forces, estimated to add +5°C.\n",
      "- The presence of a double bond in the naphthalene ring can slightly increase the melting point due to the rigidity it introduces, estimated to add +5°C.\n",
      "- The presence of a tertiary butyl group (C(CH3)3) can increase the melting point due to increased molecular weight and van der Waals forces, estimated to add +10°C.\n",
      "- The presence of a secondary butyl group (C(C)C) can increase the melting point due to increased molecular weight and van der Waals forces, estimated to add +5°C.\n",
      "- The presence of a methoxy group (OC) attached to the naphthalene ring can slightly increase the melting point due to increased molecular weight and van der Waals forces, estimated to add +5°C.\n",
      "promlem 35 / 50\n"
     ]
    },
    {
     "name": "stderr",
     "output_type": "stream",
     "text": [
      " 70%|███████   | 35/50 [03:58<02:07,  8.53s/it]"
     ]
    },
    {
     "name": "stdout",
     "output_type": "stream",
     "text": [
      "----\n",
      "\n",
      "\n",
      "- Basic unit, benzene has a melting point of 5.5°C. \n",
      "- Chloro substituent: +20°C (due to increased molecular weight and polarizability, which enhances intermolecular forces). \n",
      "- Phenyl group: +40°C (due to increased pi-pi interactions and rigidity of the ring structure). \n",
      "- Ether linkage (phenyl group to the chloro group): +10°C (due to the polarity and the ability to form dipole-dipole interactions). \n",
      "- Methyl group: +5°C (due to the increase in molecular weight and van der Waals forces). \n",
      "- The combined effects of these functional groups lead to an increase in the melting point.\n",
      "##Prediction: 85.0\n",
      "##Reason\n",
      "actual:  28.0 predicted:  85.0\n",
      "promlem 36 / 50\n"
     ]
    },
    {
     "name": "stderr",
     "output_type": "stream",
     "text": [
      " 72%|███████▏  | 36/50 [04:02<01:41,  7.27s/it]"
     ]
    },
    {
     "name": "stdout",
     "output_type": "stream",
     "text": [
      "----\n",
      "\n",
      "\n",
      "- Basic unit, acetic acid has a melting point of 16.6°C. \n",
      "- Each methyl group generally increases the melting point due to an increase in molecular weight and van der Waals forces. The effect of a methyl group on the melting point can be estimated to be around +5°C per methyl group. \n",
      "- The carboxylic acid group (COOH) is already accounted for in the base melting point of acetic acid. \n",
      "- The overall molecule is symmetrical and has a planar structure, which can lead to better packing in the solid state, potentially increasing the melting point. However, this effect is not quantifiable and is already considered in the base melting point of acetic acid.\n",
      "##Prediction: 21.0\n",
      "##Reason\n",
      "actual:  33.0 predicted:  21.0\n",
      "promlem 37 / 50\n"
     ]
    },
    {
     "name": "stderr",
     "output_type": "stream",
     "text": [
      " 74%|███████▍  | 37/50 [04:22<02:22, 10.93s/it]"
     ]
    },
    {
     "name": "stdout",
     "output_type": "stream",
     "text": [
      "----\n",
      "\n",
      "\n",
      "The compound in question is a complex organic molecule with multiple functional groups that influence its melting point. The basic unit for comparison is benzene, which has a melting point of 5.5°C. The following functional groups and structural features will modify this value: \n",
      "- The presence of multiple hydroxyl groups (OH) typically increases the melting point due to hydrogen bonding, which can be estimated to add approximately +40°C per hydroxyl group. There are three hydroxyl groups in the compound. \n",
      "- The presence of a carboxylic acid group (COOH) also increases the melting point due to strong intermolecular hydrogen bonding and dimerization, which can be estimated to add approximately +50°C. There is one carboxylic acid group in the compound. \n",
      "- The presence of aromatic rings (phenyl groups) increases the melting point due to π-π stacking interactions, which can be estimated to add approximately +20°C per phenyl group. There are two phenyl groups in the compound. \n",
      "- The presence of a lactone ring (cyclic ester) can increase the melting point due to additional ring strain and potential hydrogen bonding, which can be estimated to add approximately +10°C. There is one lactone ring in the compound. \n",
      "- The presence of a ketone group (C=O) can increase the melting point due to dipole-dipole interactions, which can be estimated to add approximately +5°C. There is one ketone group in the compound. \n",
      "- The presence of a benzoylamino group (NH-C(=O)-phenyl) can increase the melting point due to additional ring strain and potential hydrogen\n",
      "promlem 38 / 50\n"
     ]
    },
    {
     "name": "stderr",
     "output_type": "stream",
     "text": [
      " 76%|███████▌  | 38/50 [04:33<02:09, 10.83s/it]"
     ]
    },
    {
     "name": "stdout",
     "output_type": "stream",
     "text": [
      "----\n",
      "\n",
      "\n",
      "- Basic unit, benzene has a melting point of 5.5°C. \n",
      "- The presence of additional fused rings in dibenz[ah]anthracene increases the rigidity of the molecule, which generally raises the melting point. Each additional fused ring is expected to contribute an increase of about 20°C due to the increased molecular weight and van der Waals forces. \n",
      "- The presence of aromatic systems also increases the melting point due to the ability of the molecules to stack and form a more ordered crystal lattice. This effect is estimated to add about 10°C per aromatic ring. \n",
      "- The presence of a polycyclic structure with multiple fused rings and aromatic systems can lead to a higher melting point due to the increased molecular complexity and the ability to pack more efficiently in the solid state. This effect is estimated to add about 100°C to the melting point. \n",
      "- The presence of a double bond in the structure may slightly lower the melting point due to the less efficient packing of the molecules in the solid state. This effect is estimated to be about -5°C. \n",
      "- The overall structure of dibenz[ah]anthracene is expected to have a higher melting point than benzene due to the increased molecular weight and rigidity of the molecule.\n",
      "##Prediction: 140.0\n",
      "##Reason\n",
      "actual:  269.0 predicted:  140.0\n",
      "promlem 39 / 50\n"
     ]
    },
    {
     "name": "stderr",
     "output_type": "stream",
     "text": [
      " 78%|███████▊  | 39/50 [04:37<01:39,  9.02s/it]"
     ]
    },
    {
     "name": "stdout",
     "output_type": "stream",
     "text": [
      "----\n",
      "\n",
      "\n",
      "The target compound is a tris-ethenyl derivative of benzene. The basic unit, benzene, has a melting point of 5.5°C. Each ethenyl group (vinyl group) is expected to increase the melting point due to the increase in molecular weight and the introduction of rigidity to the molecule. The vinyl group typically increases the melting point by about 20-30°C. However, the presence of the tris-ethenyl group introduces additional steric hindrance and potential for intermolecular interactions, which could further increase the melting point. The cumulative effect of these groups is expected to be additive.\n",
      "##Prediction: 105.0\n",
      "##Reason\n",
      "actual:  72.5 predicted:  105.0\n",
      "promlem 40 / 50\n"
     ]
    },
    {
     "name": "stderr",
     "output_type": "stream",
     "text": [
      " 80%|████████  | 40/50 [04:45<01:26,  8.67s/it]"
     ]
    },
    {
     "name": "stdout",
     "output_type": "stream",
     "text": [
      "----\n",
      "\n",
      "\n",
      "- Basic unit, acetamide has a melting point of around 132°C. \n",
      "- Benzoyloxy group: This group is expected to increase the melting point due to the introduction of aromaticity and the possibility of additional intermolecular interactions such as dipole-dipole interactions. The benzoyloxy group can be estimated to increase the melting point by about 20°C. \n",
      "- N,N-disubstituted propyl groups: Each propyl group is expected to increase the melting point due to the increase in molecular weight and van der Waals forces. The two propyl groups are likely to increase the melting point by about 10°C each. \n",
      "- Methyl groups: Each methyl group is expected to increase the melting point due to the increase in molecular weight and van der Waals forces. The two methyl groups are likely to increase the melting point by about 5°C each. \n",
      "- The cumulative effect of these groups is expected to increase the melting point significantly.\n",
      "##Prediction: 182.0\n",
      "##Reason\n",
      "actual:  44.5 predicted:  182.0\n",
      "promlem 41 / 50\n"
     ]
    },
    {
     "name": "stderr",
     "output_type": "stream",
     "text": [
      " 82%|████████▏ | 41/50 [05:02<01:39, 11.09s/it]"
     ]
    },
    {
     "name": "stdout",
     "output_type": "stream",
     "text": [
      "----\n",
      "\n",
      "\n",
      "The compound in question is a complex molecule with multiple functional groups that influence its melting point. The base structure is a piperazine ring, which has a melting point of around 100°C. The presence of the acetyl group typically increases the melting point due to the introduction of a polar carbonyl group, which can engage in dipole-dipole interactions, estimated at +20°C. The 1,3-dioxolane ring contributes to the rigidity of the molecule and can also participate in hydrogen bonding, which could further increase the melting point, estimated at +30°C. The imidazole ring is a heterocyclic compound that can engage in hydrogen bonding and has a nitrogen atom that can participate in intermolecular interactions, estimated at +20°C. The phenyl group contributes to the molecular weight and the rigidity of the molecule, which can increase the melting point, estimated at +15°C. The presence of two chlorine atoms on the phenyl ring can increase the melting point due to the inductive effect and the increase in molecular weight, estimated at +10°C each. The methoxy group is an electron-donating group that can increase the melting point by enhancing the polarity of the molecule, estimated at +5°C. The cumulative effect of these functional groups on the melting point is estimated to be +100°C (base piperazine) + 20°C (acetyl group) + 30°C (1,3-dioxolane) + 20°C (imidazole) + 15°C (phenyl group) + 2\n",
      "promlem 42 / 50\n"
     ]
    },
    {
     "name": "stderr",
     "output_type": "stream",
     "text": [
      " 84%|████████▍ | 42/50 [05:12<01:25, 10.74s/it]"
     ]
    },
    {
     "name": "stdout",
     "output_type": "stream",
     "text": [
      "----\n",
      "\n",
      "\n",
      "- Basic unit, benzene has a melting point of 5.5°C. \n",
      "- The presence of a carbonyl group (C=O) typically raises the melting point due to the possibility of hydrogen bonding and dipole-dipole interactions, which can be estimated to add around +40°C. \n",
      "- The phenyl group (C6H5) is a large, planar, and rigid structure that can increase the melting point due to enhanced van der Waals forces and possible pi-pi stacking interactions, which can be estimated to add around +20°C. \n",
      "- The methyl group (CH3) attached to the carbonyl is a small alkyl group that can slightly increase the melting point due to increased molecular weight and van der Waals interactions, estimated to add around +5°C. \n",
      "- The semicarbazone group (NN=C) is a heterocyclic compound that can engage in hydrogen bonding and dipole-dipole interactions, which can significantly raise the melting point, estimated to add around +100°C. \n",
      "- The overall molecule is large and rigid, which can further increase the melting point due to less flexibility and more efficient packing in the solid state.\n",
      "##Prediction: 160.0\n",
      "##Reason\n",
      "actual:  112.0 predicted:  160.0\n",
      "promlem 43 / 50\n"
     ]
    },
    {
     "name": "stderr",
     "output_type": "stream",
     "text": [
      " 86%|████████▌ | 43/50 [05:20<01:09,  9.86s/it]"
     ]
    },
    {
     "name": "stdout",
     "output_type": "stream",
     "text": [
      "----\n",
      "\n",
      "\n",
      "- Basic unit, phenol has a melting point of 41°C. \n",
      "- Each methyl group is expected to slightly lower the melting point due to increased molecular weight and van der Waals forces, but also due to the introduction of steric hindrance which can disrupt the crystal lattice. The effect of a methyl group on the melting point is generally around -5°C. \n",
      "- The presence of three methyl groups will thus lower the melting point by approximately -15°C. \n",
      "- The hydroxyl group (OH) is capable of hydrogen bonding, which generally increases the melting point. However, the effect of the hydroxyl group in 2,4,6-trimethylphenol is not as significant as in phenol due to the steric hindrance and the overall molecular weight increase. The effect of the hydroxyl group is estimated to be around +5°C. \n",
      "- The combined effect of the methyl groups and the hydroxyl group on the melting point is estimated to be a decrease of -15°C and an increase of +5°C, respectively.\n",
      "##Prediction: 31.0\n",
      "##Reason\n",
      "actual:  72.5 predicted:  31.0\n",
      "promlem 44 / 50\n"
     ]
    },
    {
     "name": "stderr",
     "output_type": "stream",
     "text": [
      " 88%|████████▊ | 44/50 [05:29<00:57,  9.64s/it]"
     ]
    },
    {
     "name": "stdout",
     "output_type": "stream",
     "text": [
      "----\n",
      "\n",
      "\n",
      "- Basic unit, benzene has a melting point of 5.5°C.\n",
      "- The presence of the hydrazone group (NN) typically increases the melting point due to the potential for hydrogen bonding, which can be estimated to add around +80°C.\n",
      "- The presence of the nitro groups (NO2) on the benzene ring significantly increases the melting point due to their strong electron-withdrawing nature and the ability to form intermolecular interactions, such as dipole-dipole interactions and potential hydrogen bonding with other molecules. Each nitro group can be estimated to add around +40°C.\n",
      "- The ethenyl group (C=C) adds rigidity to the molecule and can increase the melting point by about +10°C.\n",
      "- The presence of the benzylidene (C=C) group, which is a rigid and planar structure, can further increase the melting point by about +20°C.\n",
      "- The overall molecule is large and has multiple functional groups that can engage in intermolecular interactions, which can further increase the melting point.\n",
      "##Prediction: 205.0\n",
      "##Reason\n",
      "actual:  193.0 predicted:  205.0\n",
      "promlem 45 / 50\n"
     ]
    },
    {
     "name": "stderr",
     "output_type": "stream",
     "text": [
      " 90%|█████████ | 45/50 [05:41<00:51, 10.40s/it]"
     ]
    },
    {
     "name": "stdout",
     "output_type": "stream",
     "text": [
      "----\n",
      "\n",
      "\n",
      "- Basic steroid structure: Cholesterol has a melting point of 148°C. \n",
      "- Acetoxy groups: Each acetoxy group (–OCO–) is expected to increase the melting point due to the polar nature of the oxygen and the possibility of hydrogen bonding. The effect of each acetoxy group can be estimated to be around +20°C. \n",
      "- Ketone groups: Each ketone group (–C=O–) is also polar and can form hydrogen bonds, which would increase the melting point. The effect of each ketone group can be estimated to be around +15°C. \n",
      "- Additional carbon atoms: The additional carbon atoms in the steroid structure will increase the molecular weight and the van der Waals forces, which would increase the melting point. The effect of each additional carbon atom can be estimated to be around +5°C. \n",
      "- Steroid structure: The rigid, planar structure of the steroid ring contributes to a higher melting point due to the increased molecular packing efficiency. This effect can be estimated to be around +20°C. \n",
      "- Hydroxyl groups: The hydroxyl groups in the steroid structure can form hydrogen bonds, which would increase the melting point. The effect of each hydroxyl group can be estimated to be around +10°C. \n",
      "- The cumulative effect of these functional groups is expected to increase the melting point significantly from the base value of cholesterol.\n",
      "##Prediction: 230.0\n",
      "##Reason\n",
      "actual:  184.5 predicted:  230.0\n",
      "promlem 46 / 50\n"
     ]
    },
    {
     "name": "stderr",
     "output_type": "stream",
     "text": [
      " 92%|█████████▏| 46/50 [05:48<00:37,  9.26s/it]"
     ]
    },
    {
     "name": "stdout",
     "output_type": "stream",
     "text": [
      "----\n",
      "\n",
      "\n",
      "- Basic unit, benzene has a melting point of 5.5°C. \n",
      "- Furan ring: +40°C (due to increased polarity and potential for hydrogen bonding) \n",
      "- Phenyl group: +20°C (due to increased molecular weight and pi-pi interactions) \n",
      "- Nitro group: +50°C (due to strong electron-withdrawing nature and potential for intermolecular interactions) \n",
      "- Ketone group: +20°C (due to polarity and potential for dipole-dipole interactions) \n",
      "- Additional phenyl group: +10°C (due to increased molecular weight and pi-pi interactions) \n",
      "- Total predicted increase: 150°C (5.5 + 40 + 20 + 50 + 20 + 10)\n",
      "##Prediction: 155.0\n",
      "##Reason\n",
      "actual:  147.0 predicted:  155.0\n",
      "promlem 47 / 50\n"
     ]
    },
    {
     "name": "stderr",
     "output_type": "stream",
     "text": [
      " 94%|█████████▍| 47/50 [05:52<00:23,  7.74s/it]"
     ]
    },
    {
     "name": "stdout",
     "output_type": "stream",
     "text": [
      "----\n",
      "\n",
      "\n",
      "- Basic unit, methane has a melting point of -182.5°C. \n",
      "- The addition of a thiol group (-SH) to the molecule generally increases the melting point due to the ability of the sulfur atom to form strong intermolecular hydrogen bonds. This effect can be estimated to increase the melting point by approximately +100°C. \n",
      "- The presence of a single methyl group (CH3) attached to the thiol group does not significantly alter the melting point, as it is a small alkyl group that does not significantly change the overall polarity or hydrogen bonding capacity of the molecule.\n",
      "##Prediction: -182.0\n",
      "##Reason\n",
      "actual:  -116.0 predicted:  -182.0\n",
      "promlem 48 / 50\n"
     ]
    },
    {
     "name": "stderr",
     "output_type": "stream",
     "text": [
      " 96%|█████████▌| 48/50 [05:56<00:13,  6.61s/it]"
     ]
    },
    {
     "name": "stdout",
     "output_type": "stream",
     "text": [
      "----\n",
      "\n",
      "\n",
      "- Basic unit, benzene has a melting point of 5.5°C. \n",
      "- Trifluoromethoxy group: +80°C (due to strong electron-withdrawing nature and the introduction of three fluorine atoms, which significantly increase the polarity and the ability to form strong intermolecular forces). \n",
      "- Carboxylic acid group: +100°C (due to the ability to form strong hydrogen bonds and dimerization). \n",
      "- The combined effects of these functional groups are expected to significantly increase the melting point of the compound.\n",
      "##Prediction: 185.0\n",
      "##Reason\n",
      "actual:  79.0 predicted:  185.0\n",
      "promlem 49 / 50\n"
     ]
    },
    {
     "name": "stderr",
     "output_type": "stream",
     "text": [
      " 98%|█████████▊| 49/50 [06:01<00:06,  6.30s/it]"
     ]
    },
    {
     "name": "stdout",
     "output_type": "stream",
     "text": [
      "----\n",
      "\n",
      "\n",
      "- Basic unit, methane has a melting point of -182.5 degrees Celsius. \n",
      "- Each chloro group is electron-withdrawing and increases the polarity of the molecule, which can lead to stronger intermolecular forces such as dipole-dipole interactions. Chloro groups typically increase the melting point by about 40-50 degrees Celsius each. \n",
      "- Each fluorine atom is also electron-withdrawing and increases the polarity of the molecule, but it also increases the molecular weight and size, which can lead to a higher melting point. Fluorine atoms typically increase the melting point by about 20-30 degrees Celsius each. \n",
      "- The presence of two chloro groups and two fluorine atoms will have a cumulative effect on the melting point.\n",
      "##Prediction: -102.0\n",
      "##Reason\n",
      "actual:  -158.0 predicted:  -102.0\n",
      "promlem 50 / 50\n"
     ]
    },
    {
     "name": "stderr",
     "output_type": "stream",
     "text": [
      "100%|██████████| 50/50 [06:09<00:00,  7.39s/it]"
     ]
    },
    {
     "name": "stdout",
     "output_type": "stream",
     "text": [
      "----\n",
      "\n",
      "\n",
      "The basic unit, benzene, has a melting point of 5.5°C. The introduction of a bromine atom typically increases the melting point due to the increase in molecular weight and the introduction of stronger intermolecular forces such as dipole-dipole interactions. Bromine is a large, heavy atom that can significantly increase the melting point. Each bromine could be estimated to add approximately +40°C to the melting point. The nitro group is also a strong electron-withdrawing group, which can increase the melting point due to the potential for intermolecular hydrogen bonding and dipole-dipole interactions. The nitro group could be estimated to add approximately +50°C to the melting point. However, the presence of two bromine atoms and a nitro group in the same molecule can lead to steric hindrance and potential for intramolecular interactions, which might reduce the overall effect of each substituent on the melting point. Therefore, the combined effect of the two bromine atoms and the nitro group might be less than the sum of their individual contributions.\n",
      "##Prediction: 105.0\n",
      "##Reason\n",
      "actual:  84.0 predicted:  105.0\n"
     ]
    },
    {
     "name": "stderr",
     "output_type": "stream",
     "text": [
      "\n"
     ]
    }
   ],
   "source": [
    "#予測時のハイパラ\n",
    "n_prompt_examples=0 #何件の例題をprompt tuningで出すか:  例題に予測が引っ張られがちなので､0にしてみる\n",
    "n_max_trials=1  # 値を返さなかったときの再試行の最大数\n",
    "random.seed(0)\n",
    "prediction_results={}\n",
    "\n",
    "\n",
    "res_list=[]\n",
    "for test_id in tqdm(range(n_test)):\n",
    "    print(f\"promlem {test_id+1} / {n_test}\")\n",
    "    for _ in range(n_max_trials):\n",
    "        try:\n",
    "            prompt=generate_question_prompt(dataset,test_id,n_prompt_examples=n_prompt_examples)\n",
    "            reason,value=ask_value(prompt,model,tokenizer)\n",
    "        except Exception as e:\n",
    "            print(e)\n",
    "            continue\n",
    "\n",
    "\n",
    "        if value is not None:\n",
    "            record=copy.deepcopy(dataset[test_id])\n",
    "            record[\"Test (Predicted reason)\"]=reason\n",
    "            record[\"Test (Predicted value)\"]=value\n",
    "            print(\"actual: \",record[\"mpC\"],\"predicted: \", record[\"Test (Predicted value)\"],)\n",
    "            res_list.append(record)\n",
    "            break\n",
    "prediction_results[n_prompt_examples]=res_list"
   ]
  },
  {
   "cell_type": "code",
   "execution_count": 18,
   "metadata": {},
   "outputs": [
    {
     "data": {
      "image/png": "[encoded data removed]",
      "text/plain": [
       "<Figure size 640x480 with 1 Axes>"
      ]
     },
     "metadata": {},
     "output_type": "display_data"
    }
   ],
   "source": [
    "#plot\n",
    "import matplotlib.pyplot as plt\n",
    "import seaborn as sns\n",
    "from sklearn.metrics import mean_squared_error,mean_absolute_error,r2_score\n",
    "from datetime import datetime\n",
    "import json\n",
    "current_datetime = datetime.now()\n",
    "vmin=-200\n",
    "vmax=300\n",
    "\n",
    "#plot prediction results\n",
    "for n_prompt_examples,records in prediction_results.items():\n",
    "    sel_df=pd.DataFrame(records)\n",
    "    #floatに可能なものは変換\n",
    "    sel_df[\"Test (Predicted value)\"] = pd.to_numeric(sel_df[\"Test (Predicted value)\"], errors='coerce')\n",
    "    sel_df=sel_df[sel_df[\"Test (Predicted value)\"].notnull()]\n",
    "    if len(sel_df)==0:\n",
    "        continue\n",
    "    mse=mean_squared_error(sel_df[\"mpC\"],sel_df[\"Test (Predicted value)\"])\n",
    "\n",
    "    plt.figure()\n",
    "    sns.scatterplot(data=sel_df,x=\"mpC\",y=\"Test (Predicted value)\")\n",
    "    plt.title(f\"n_prompt_examples={n_prompt_examples} MSE={mse:.0f}\")\n",
    "\n",
    "    #x,yの範囲を揃える\n",
    "    plt.xlim(vmin,vmax)\n",
    "    plt.ylim(vmin,vmax)\n",
    "    #対角線を描く\n",
    "    plt.plot([vmin,vmax],[vmin,vmax],color=\"gray\")\n",
    "    formatted_filename = f\"results/model={model_size}_{current_datetime.strftime('%Y%m%d_%H%M%S')}_train={do_train}.png\"\n",
    "    plt.savefig(formatted_filename)\n",
    "    #break\n",
    "\n",
    "save_json_filename=formatted_filename.replace(\".png\",\".json\")\n",
    "with open(save_json_filename,\"w\") as f:\n",
    "    json.dump(prediction_results,fp=f,\n",
    "              indent=4)"
   ]
  },
  {
   "cell_type": "code",
   "execution_count": 19,
   "metadata": {},
   "outputs": [
    {
     "name": "stdout",
     "output_type": "stream",
     "text": [
      "MSE:  4247.53\n",
      "MAE:  52.98510638297872\n",
      "R2:  0.6374449392803179\n"
     ]
    }
   ],
   "source": [
    "#スコア\n",
    "print(\"MSE: \",mean_squared_error(sel_df[\"mpC\"],sel_df[\"Test (Predicted value)\"]))\n",
    "print(\"MAE: \",mean_absolute_error(sel_df[\"mpC\"],sel_df[\"Test (Predicted value)\"]))\n",
    "print(\"R2: \", r2_score(sel_df[\"mpC\"],sel_df[\"Test (Predicted value)\"]))\n"
   ]
  },
  {
   "cell_type": "code",
   "execution_count": 20,
   "metadata": {},
   "outputs": [
    {
     "data": {
      "text/plain": [
       "0.94"
      ]
     },
     "execution_count": 20,
     "metadata": {},
     "output_type": "execute_result"
    }
   ],
   "source": [
    "#回答可能な問題の割合\n",
    "sel_df.shape[0]/n_test"
   ]
  },
  {
   "cell_type": "code",
   "execution_count": null,
   "metadata": {},
   "outputs": [],
   "source": []
  },
  {
   "cell_type": "code",
   "execution_count": null,
   "metadata": {},
   "outputs": [],
   "source": []
  }
 ],
 "metadata": {
  "kernelspec": {
   "display_name": "chemllm",
   "language": "python",
   "name": "python3"
  },
  "language_info": {
   "codemirror_mode": {
    "name": "ipython",
    "version": 3
   },
   "file_extension": ".py",
   "mimetype": "text/x-python",
   "name": "python",
   "nbconvert_exporter": "python",
   "pygments_lexer": "ipython3",
   "version": "3.10.0"
  }
 },
 "nbformat": 4,
 "nbformat_minor": 2
}
