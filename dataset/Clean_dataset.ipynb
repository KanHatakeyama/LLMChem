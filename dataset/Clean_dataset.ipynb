{
 "cells": [
  {
   "cell_type": "code",
   "execution_count": 1,
   "metadata": {},
   "outputs": [],
   "source": [
    "#Clearn MeltingPointDataset"
   ]
  },
  {
   "cell_type": "code",
   "execution_count": 2,
   "metadata": {},
   "outputs": [
    {
     "name": "stdout",
     "output_type": "stream",
     "text": [
      "(28645, 9)\n"
     ]
    },
    {
     "data": {
      "text/html": [
       "<div>\n",
       "<style scoped>\n",
       "    .dataframe tbody tr th:only-of-type {\n",
       "        vertical-align: middle;\n",
       "    }\n",
       "\n",
       "    .dataframe tbody tr th {\n",
       "        vertical-align: top;\n",
       "    }\n",
       "\n",
       "    .dataframe thead th {\n",
       "        text-align: right;\n",
       "    }\n",
       "</style>\n",
       "<table border=\"1\" class=\"dataframe\">\n",
       "  <thead>\n",
       "    <tr style=\"text-align: right;\">\n",
       "      <th></th>\n",
       "      <th>key</th>\n",
       "      <th>name</th>\n",
       "      <th>smiles</th>\n",
       "      <th>mpC</th>\n",
       "      <th>csid</th>\n",
       "      <th>link</th>\n",
       "      <th>source</th>\n",
       "      <th>donotuse</th>\n",
       "      <th>donotusebecause</th>\n",
       "    </tr>\n",
       "  </thead>\n",
       "  <tbody>\n",
       "    <tr>\n",
       "      <th>0</th>\n",
       "      <td>1</td>\n",
       "      <td>2-(2,4-dinitrobenzyl)pyridine</td>\n",
       "      <td>c1ccnc(c1)Cc2ccc(cc2[N+](=O)[O-])[N+](=O)[O-]</td>\n",
       "      <td>92.0</td>\n",
       "      <td>64018</td>\n",
       "      <td>http://www.alfa.com/en/GP100W.pgm?DSSTK=B24192</td>\n",
       "      <td>Alfa Aesar</td>\n",
       "      <td>NaN</td>\n",
       "      <td>NaN</td>\n",
       "    </tr>\n",
       "    <tr>\n",
       "      <th>1</th>\n",
       "      <td>2</td>\n",
       "      <td>2-(1-piperidinyl)aniline</td>\n",
       "      <td>c1ccc(c(c1)N)N2CCCCC2</td>\n",
       "      <td>46.0</td>\n",
       "      <td>403764</td>\n",
       "      <td>http://www.alfa.com/en/GP100W.pgm?DSSTK=A13073</td>\n",
       "      <td>Alfa Aesar</td>\n",
       "      <td>NaN</td>\n",
       "      <td>NaN</td>\n",
       "    </tr>\n",
       "    <tr>\n",
       "      <th>2</th>\n",
       "      <td>3</td>\n",
       "      <td>2-(1-piperazinyl)pyrimidine</td>\n",
       "      <td>c1cnc(nc1)N2CCNCC2</td>\n",
       "      <td>33.0</td>\n",
       "      <td>80080</td>\n",
       "      <td>http://www.alfa.com/en/GP100W.pgm?DSSTK=L15884</td>\n",
       "      <td>Alfa Aesar</td>\n",
       "      <td>NaN</td>\n",
       "      <td>NaN</td>\n",
       "    </tr>\n",
       "  </tbody>\n",
       "</table>\n",
       "</div>"
      ],
      "text/plain": [
       "   key                           name  \\\n",
       "0    1  2-(2,4-dinitrobenzyl)pyridine   \n",
       "1    2       2-(1-piperidinyl)aniline   \n",
       "2    3    2-(1-piperazinyl)pyrimidine   \n",
       "\n",
       "                                          smiles   mpC    csid  \\\n",
       "0  c1ccnc(c1)Cc2ccc(cc2[N+](=O)[O-])[N+](=O)[O-]  92.0   64018   \n",
       "1                          c1ccc(c(c1)N)N2CCCCC2  46.0  403764   \n",
       "2                             c1cnc(nc1)N2CCNCC2  33.0   80080   \n",
       "\n",
       "                                             link      source donotuse  \\\n",
       "0  http://www.alfa.com/en/GP100W.pgm?DSSTK=B24192  Alfa Aesar      NaN   \n",
       "1  http://www.alfa.com/en/GP100W.pgm?DSSTK=A13073  Alfa Aesar      NaN   \n",
       "2  http://www.alfa.com/en/GP100W.pgm?DSSTK=L15884  Alfa Aesar      NaN   \n",
       "\n",
       "  donotusebecause  \n",
       "0             NaN  \n",
       "1             NaN  \n",
       "2             NaN  "
      ]
     },
     "execution_count": 2,
     "metadata": {},
     "output_type": "execute_result"
    }
   ],
   "source": [
    "import pandas as pd\n",
    "path=\"BradleyMeltingPointDataset.csv\"\n",
    "df=pd.read_csv(path)\n",
    "print(df.shape)\n",
    "df[:3]"
   ]
  },
  {
   "cell_type": "code",
   "execution_count": 3,
   "metadata": {},
   "outputs": [
    {
     "data": {
      "text/plain": [
       "(28268, 9)"
      ]
     },
     "execution_count": 3,
     "metadata": {},
     "output_type": "execute_result"
    }
   ],
   "source": [
    "#remove donotuse: nan\n",
    "df=df[df[\"donotuse\"].isnull()]\n",
    "df.shape"
   ]
  },
  {
   "cell_type": "code",
   "execution_count": 4,
   "metadata": {},
   "outputs": [
    {
     "data": {
      "text/plain": [
       "(24889, 6)"
      ]
     },
     "execution_count": 4,
     "metadata": {},
     "output_type": "execute_result"
    }
   ],
   "source": [
    "# grouping\n",
    "median_df=df.groupby('name').agg({'mpC': 'median', \n",
    "                       'name': 'first',\n",
    "                       \"smiles\":\"first\",\n",
    "                       \"csid\":\"first\",\n",
    "                       \"link\":\"first\",\n",
    "                       \"source\":\"first\"})\n",
    "\n",
    "median_df.reset_index(drop=True, inplace=True)\n",
    "median_df.shape"
   ]
  },
  {
   "cell_type": "code",
   "execution_count": 5,
   "metadata": {},
   "outputs": [],
   "source": [
    "median_df.to_csv(\"BradleyMeltingPointDataset_clean.csv\",index=False)"
   ]
  },
  {
   "cell_type": "code",
   "execution_count": 6,
   "metadata": {},
   "outputs": [],
   "source": [
    "#prepare practice dataset\n",
    "#set random seed\n",
    "import numpy as np\n",
    "np.random.seed(1234)\n",
    "#randomly select 10 compounds\n",
    "practice_df=median_df.sample(n=10)\n",
    "practice_df.to_csv(\"BradleyMeltingPointDataset_practice.csv\",index=False)"
   ]
  },
  {
   "cell_type": "code",
   "execution_count": 8,
   "metadata": {},
   "outputs": [],
   "source": [
    "np.random.seed(1234)\n",
    "all_df=median_df.sample(n=median_df.shape[0])"
   ]
  },
  {
   "cell_type": "code",
   "execution_count": 11,
   "metadata": {},
   "outputs": [],
   "source": [
    "n_test=1000\n",
    "n_val=1000"
   ]
  },
  {
   "cell_type": "code",
   "execution_count": 12,
   "metadata": {},
   "outputs": [],
   "source": [
    "#all_df[:n_test].to_csv(\"Test.csv\")\n",
    "#all_df[n_test:n_val].to_csv(\"Validation.csv\")\n",
    "#all_df[n_test+n_val:].to_csv(\"Train.csv\")"
   ]
  },
  {
   "cell_type": "code",
   "execution_count": null,
   "metadata": {},
   "outputs": [],
   "source": []
  }
 ],
 "metadata": {
  "kernelspec": {
   "display_name": "mi",
   "language": "python",
   "name": "python3"
  },
  "language_info": {
   "codemirror_mode": {
    "name": "ipython",
    "version": 3
   },
   "file_extension": ".py",
   "mimetype": "text/x-python",
   "name": "python",
   "nbconvert_exporter": "python",
   "pygments_lexer": "ipython3",
   "version": "3.11.5"
  }
 },
 "nbformat": 4,
 "nbformat_minor": 2
}
