{
 "cells": [
  {
   "cell_type": "markdown",
   "metadata": {},
   "source": [
    "# (Q)分子構造+(R)理由+(A)物性データセットのLLMによる学習と予測\n",
    "- Q&A: 融点データセットを使用\n",
    "- R: 自分自身で考えさせて､正解のデータを学習させる"
   ]
  },
  {
   "cell_type": "code",
   "execution_count": 1,
   "metadata": {},
   "outputs": [
    {
     "name": "stderr",
     "output_type": "stream",
     "text": [
      "/home/setup/miniconda3/envs/chemllm/lib/python3.10/site-packages/tqdm/auto.py:21: TqdmWarning: IProgress not found. Please update jupyter and ipywidgets. See https://ipywidgets.readthedocs.io/en/stable/user_install.html\n",
      "  from .autonotebook import tqdm as notebook_tqdm\n"
     ]
    }
   ],
   "source": [
    "%reload_ext autoreload\n",
    "%autoreload 2\n",
    "\n",
    "import os\n",
    "os.environ[\"CUDA_VISIBLE_DEVICES\"]=\"1\"\n",
    "\n",
    "from transformers import AutoTokenizer\n",
    "import pandas as pd\n",
    "import random\n",
    "import copy\n",
    "import glob\n",
    "import json\n",
    "from datetime import datetime\n",
    "from llmchem.utils import mk_dir,clean_vram\n",
    "\n",
    "#import clear_output\n",
    "\n",
    "from IPython.display import clear_output"
   ]
  },
  {
   "cell_type": "code",
   "execution_count": 2,
   "metadata": {},
   "outputs": [],
   "source": [
    "#dataset settings\n",
    "n_test=50 #number of testing data\n",
    "n_train_check=50 #number of training data for checking (i.e., checking everything takes too long, so we check only a part of training data)\n",
    "n_GPT_reasoning=10 # number of reasoning data made by GPT\n",
    "n_generation_iterations=100   # trial numbers to generate new self reasoning data\n",
    "max_generations=50\n",
    "\n",
    "#model settings\n",
    "model_name=\"mistralai/Mixtral-8x7B-Instruct-v0.1\"\n",
    "target_modules= [\n",
    "    \"lm_head\",\n",
    "    \"q_proj\",\n",
    "    \"k_proj\",\n",
    "    \"v_proj\",\n",
    "    \"o_proj\",\n",
    "    \"gate\",\n",
    "    \"w1\",\n",
    "    \"w2\",\n",
    "    \"w3\"\n",
    "]\n",
    "\n",
    "model_name=f\"meta-llama/Llama-2-7b-chat-hf\"\n",
    "target_modules= [\n",
    "    #\"embed_tokens\",\n",
    "    \"lm_head\",\n",
    "    #\"q_proj\",\n",
    "    #\"k_proj\",\n",
    "    \"v_proj\",\n",
    "    \"o_proj\",\n",
    "    \"gate_proj\",\n",
    "    \"up_proj\",\n",
    "    #\"down_proj\",\n",
    "]\n",
    "\n",
    "\n",
    "\n",
    "#LoRA settings\n",
    "r=32\n",
    "lora_alpha=r\n",
    "bit=16\n",
    "#bit=8\n",
    "#bit=4\n",
    "\n",
    "#train settings\n",
    "gradient_checkpointing =False\n",
    "per_device_train_batch_size=1\n",
    "epochs=3\n",
    "lr=10**-5\n",
    "\n",
    "#device settings\n",
    "device_map=\"auto\"\n",
    "\n",
    "#dataset path\n",
    "dataset_path=\"dataset/231225AutoReasoning/240117best_reason_record_3k.csv\"\n",
    "\n",
    "#project path\n",
    "project_dir=\"results/projects/240117llama7b_10\"\n",
    "\n",
    "#reasoning options\n",
    "error_threshold=30  # if abolute error is smaller than this, add to training data"
   ]
  },
  {
   "cell_type": "code",
   "execution_count": 3,
   "metadata": {},
   "outputs": [],
   "source": [
    "mk_dir(project_dir)\n",
    "mk_dir(project_dir+\"/eval\")\n",
    "mk_dir(project_dir+\"/self_reasoning\")\n",
    "mk_dir(project_dir+\"/train\")"
   ]
  },
  {
   "cell_type": "code",
   "execution_count": 4,
   "metadata": {},
   "outputs": [],
   "source": [
    "from llmchem.model import init_model\n",
    "from llmchem.train import train_model\n",
    "from llmchem.eval import eval_model\n",
    "from llmchem.reasoning import self_reasoning\n",
    "tokenizer = AutoTokenizer.from_pretrained(model_name)\n",
    "tokenizer.pad_token = tokenizer.eos_token"
   ]
  },
  {
   "cell_type": "code",
   "execution_count": 5,
   "metadata": {},
   "outputs": [],
   "source": [
    "#load base dataset\n",
    "\n",
    "df=pd.read_csv(dataset_path)\n",
    "dataset=df.to_dict(orient=\"records\")\n",
    "random.seed(0)\n",
    "random.shuffle(dataset)\n",
    "\n",
    "base_train_dataset=dataset[:-n_test]\n",
    "example_reasoning_dataset=base_train_dataset[:n_GPT_reasoning]\n",
    "test_dataset=dataset[-n_test:]"
   ]
  },
  {
   "cell_type": "code",
   "execution_count": 6,
   "metadata": {},
   "outputs": [
    {
     "name": "stdout",
     "output_type": "stream",
     "text": [
      "Generation: 8\n",
      "GPT-generated reasons: 10\n",
      "All-generated reasons: 152\n",
      "Using fp16 mode\n"
     ]
    },
    {
     "name": "stderr",
     "output_type": "stream",
     "text": [
      "Loading checkpoint shards: 100%|██████████| 2/2 [00:02<00:00,  1.16s/it]\n",
      "Map: 100%|██████████| 152/152 [00:00<00:00, 10312.58 examples/s]\n"
     ]
    },
    {
     "data": {
      "text/html": [
       "\n",
       "    <div>\n",
       "      \n",
       "      <progress value='456' max='456' style='width:300px; height:20px; vertical-align: middle;'></progress>\n",
       "      [456/456 00:47, Epoch 3/3]\n",
       "    </div>\n",
       "    <table border=\"1\" class=\"dataframe\">\n",
       "  <thead>\n",
       " <tr style=\"text-align: left;\">\n",
       "      <th>Step</th>\n",
       "      <th>Training Loss</th>\n",
       "    </tr>\n",
       "  </thead>\n",
       "  <tbody>\n",
       "    <tr>\n",
       "      <td>100</td>\n",
       "      <td>1.439700</td>\n",
       "    </tr>\n",
       "    <tr>\n",
       "      <td>200</td>\n",
       "      <td>0.997600</td>\n",
       "    </tr>\n",
       "    <tr>\n",
       "      <td>300</td>\n",
       "      <td>0.790800</td>\n",
       "    </tr>\n",
       "    <tr>\n",
       "      <td>400</td>\n",
       "      <td>0.730000</td>\n",
       "    </tr>\n",
       "  </tbody>\n",
       "</table><p>"
      ],
      "text/plain": [
       "<IPython.core.display.HTML object>"
      ]
     },
     "metadata": {},
     "output_type": "display_data"
    },
    {
     "name": "stderr",
     "output_type": "stream",
     "text": [
      "  0%|          | 0/50 [00:00<?, ?it/s]"
     ]
    },
    {
     "name": "stdout",
     "output_type": "stream",
     "text": [
      "promlem 1 / 50\n"
     ]
    },
    {
     "name": "stderr",
     "output_type": "stream",
     "text": [
      "  2%|▏         | 1/50 [00:24<20:14, 24.78s/it]"
     ]
    },
    {
     "name": "stdout",
     "output_type": "stream",
     "text": [
      "----\n",
      "\n",
      "\n",
      "Benzoic acid has a melting point of 5.5 degrees Celsius. The presence of a hydroxyl group can increase the melting point due to increased polarity and hydrogen bonding potential. An estimated contribution could be +50 degrees. The presence of an ethyl group can also increase the melting point due to increased molecular weight and steric bulk. An estimated contribution could be +20 degrees. The ester group can also contribute to the melting point due to increased polarity and hydrogen bonding potential. An estimated contribution could be +30 degrees.\n",
      "##Prediction: 85.0\n",
      "\n",
      "\n",
      "#Problem\n",
      "actual:  37.0 predicted:  85.0\n",
      "promlem 2 / 50\n"
     ]
    },
    {
     "name": "stderr",
     "output_type": "stream",
     "text": [
      "  4%|▍         | 2/50 [00:50<20:18, 25.39s/it]"
     ]
    },
    {
     "name": "stdout",
     "output_type": "stream",
     "text": [
      "----\n",
      "\n",
      "\n",
      "The melting point of a compound is influenced by various factors such as the molecular weight, symmetry, intermolecular forces, and polarity. The presence of a chlorine atom in the molecule can increase the melting point due to its high electronegativity and ability to form strong dipole-dipole interactions. The cyclohexyl group itself contributes to the melting point due to its planarity and rigidity. The chlorine atom adds to the molecular weight and polarity, which can increase the melting point. The trans configuration adds a degree of stereochemical rigidity, which can also contribute to the melting point.\n",
      "##Prediction: 105.5\n",
      "\n",
      "\n",
      "#Problem\n",
      "actual:  82.5 predicted:  105.5\n",
      "promlem 3 / 50\n"
     ]
    },
    {
     "name": "stderr",
     "output_type": "stream",
     "text": [
      "  6%|▌         | 3/50 [00:53<11:52, 15.16s/it]"
     ]
    },
    {
     "name": "stdout",
     "output_type": "stream",
     "text": [
      "----\n",
      "\n",
      "\n",
      "##Prediction: 120.0\n",
      "\n",
      "\n",
      "#Problem\n",
      "actual:  193.5 predicted:  120.0\n",
      "promlem 4 / 50\n"
     ]
    },
    {
     "name": "stderr",
     "output_type": "stream",
     "text": [
      "  8%|▊         | 4/50 [01:15<13:34, 17.71s/it]"
     ]
    },
    {
     "name": "stdout",
     "output_type": "stream",
     "text": [
      "----\n",
      "\n",
      "\n",
      "The compound has a fluorine atom, which raises the melting point due to increased polarity and hydrogen bonding potential. Estimated contribution could be +50 degrees. The methyl group adds rigidity and potential for hydrogen bonding, estimated at +20 degrees. The benzene ring contributes a base melting point of 5.5 degrees. The presence of a carbonyl group can increase the melting point due to increased polarity and potential for hydrogen bonding, estimated at +20 degrees.\n",
      "##Prediction: 85.5\n",
      "\n",
      "\n",
      "#Problem\n",
      "actual:  38.0 predicted:  85.5\n",
      "promlem 5 / 50\n"
     ]
    },
    {
     "name": "stderr",
     "output_type": "stream",
     "text": [
      " 10%|█         | 5/50 [02:19<25:58, 34.63s/it]"
     ]
    },
    {
     "name": "stdout",
     "output_type": "stream",
     "text": [
      "----\n",
      "\n",
      "\n",
      "The compound leflunomide has a melting point due to its molecular structure. The presence of a benzene ring, which has a melting point of 5.5 degrees Celsius, is a basic unit. The presence of a carboxylic acid group typically raises the melting point due to hydrogen bonding and increased polarity. A rough estimate for its contribution could be +50 degrees. The presence of a methyl group attached to the benzene ring can increase the melting point due to increased molecular weight. An estimated contribution might be +5 degrees. The presence of a nitrogen atom and a methyl group attached to it can increase the melting point due to increased polarity and hydrogen bonding. An estimated contribution might be +20 degrees. The presence of a fluorine atom can increase the melting point due to increased polarity and hydrogen bonding. An estimated contribution might be +10 degrees. The presence of a methyl group attached to the carboxylic acid can increase the melting point due to increased molecular weight. An estimated contribution might be +5 degrees. The presence of a sulfur atom can increase the melting point due to increased polarity and hydrogen bonding. An estimated contribution might be +10 degrees.\n",
      "Based on the above considerations, a rough estimate would be 5.5 (for the benzene rings) + 50 (for the carboxylic acid) + 10 (for the methyl group attached to the benzene ring) + 20 (for the nitrogen atom and methyl group attached to it) + 10 (for the fluorine atom) + 5 (for the methyl group attached to the carboxylic acid) + 10 (for the sulfur atom) =\n",
      "promlem 6 / 50\n"
     ]
    },
    {
     "name": "stderr",
     "output_type": "stream",
     "text": [
      " 12%|█▏        | 6/50 [02:38<21:21, 29.13s/it]"
     ]
    },
    {
     "name": "stdout",
     "output_type": "stream",
     "text": [
      "----\n",
      "\n",
      "\n",
      "The nitro group raises the melting point due to increased polarity and potential hydrogen bonding. A rough estimate could be +50 degrees.\n",
      "The anthracene base unit has a melting point of 5.5 degrees Celsius.\n",
      "The presence of a nitro group can increase the melting point due to increased polarity and potential hydrogen bonding. A rough estimate could be +50 degrees.\n",
      "##Prediction: 55.0\n",
      "\n",
      "\n",
      "#Problem\n",
      "actual:  146.0 predicted:  55.0\n",
      "promlem 7 / 50\n"
     ]
    },
    {
     "name": "stderr",
     "output_type": "stream",
     "text": [
      " 14%|█▍        | 7/50 [02:41<14:43, 20.55s/it]"
     ]
    },
    {
     "name": "stdout",
     "output_type": "stream",
     "text": [
      "----\n",
      "\n",
      "\n",
      "##Prediction: 105.0\n",
      "\n",
      "\n",
      "#Problem\n",
      "actual:  106.0 predicted:  105.0\n",
      "promlem 8 / 50\n"
     ]
    },
    {
     "name": "stderr",
     "output_type": "stream",
     "text": [
      " 16%|█▌        | 8/50 [02:44<10:33, 15.08s/it]"
     ]
    },
    {
     "name": "stdout",
     "output_type": "stream",
     "text": [
      "----\n",
      "\n",
      "\n",
      "##Prediction: 105.0\n",
      "\n",
      "\n",
      "#Problem\n",
      "actual:  251.5 predicted:  105.0\n",
      "promlem 9 / 50\n"
     ]
    },
    {
     "name": "stderr",
     "output_type": "stream",
     "text": [
      " 18%|█▊        | 9/50 [03:15<13:45, 20.13s/it]"
     ]
    },
    {
     "name": "stdout",
     "output_type": "stream",
     "text": [
      "----\n",
      "\n",
      "\n",
      "The compound 1-acetylisatin has a melting point that can be predicted by considering its structural features. The presence of a benzene ring, which has a melting point of 5.5 degrees Celsius, is a basic unit. The carboxylic acid group contributes to a raise in melting point due to hydrogen bonding and increased polarity, estimated to be +50 degrees. The methyl group attached to the benzene ring can increase the melting point due to its bulkiness, estimated to be +5 degrees. The presence of a nitro group can contribute to a raise in melting point due to increased polarity and hydrogen bonding, estimated to be +30 degrees. The presence of a methyl group attached to the nitro group can increase the melting point due to its bulkiness, estimated to be +5 degrees.\n",
      "##Prediction: 88.5\n",
      "\n",
      "\n",
      "#Problem\n",
      "actual:  142.0 predicted:  88.5\n",
      "promlem 10 / 50\n"
     ]
    },
    {
     "name": "stderr",
     "output_type": "stream",
     "text": [
      " 20%|██        | 10/50 [03:18<09:50, 14.76s/it]"
     ]
    },
    {
     "name": "stdout",
     "output_type": "stream",
     "text": [
      "----\n",
      "\n",
      "\n",
      "##Prediction: 145.0\n",
      "\n",
      "\n",
      "#Problem\n",
      "actual:  110.0 predicted:  145.0\n",
      "promlem 11 / 50\n"
     ]
    },
    {
     "name": "stderr",
     "output_type": "stream",
     "text": [
      " 22%|██▏       | 11/50 [03:20<07:00, 10.78s/it]"
     ]
    },
    {
     "name": "stdout",
     "output_type": "stream",
     "text": [
      "----\n",
      "\n",
      "\n",
      "##Prediction: 74.0\n",
      "\n",
      "\n",
      "#Problem\n",
      "actual:  42.0 predicted:  74.0\n",
      "promlem 12 / 50\n"
     ]
    },
    {
     "name": "stderr",
     "output_type": "stream",
     "text": [
      " 24%|██▍       | 12/50 [03:23<05:21,  8.45s/it]"
     ]
    },
    {
     "name": "stdout",
     "output_type": "stream",
     "text": [
      "----\n",
      "\n",
      "\n",
      "##Prediction: 135.0\n",
      "\n",
      "\n",
      "#Problem\n",
      "actual:  230.0 predicted:  135.0\n",
      "promlem 13 / 50\n"
     ]
    },
    {
     "name": "stderr",
     "output_type": "stream",
     "text": [
      " 26%|██▌       | 13/50 [04:00<10:35, 17.17s/it]"
     ]
    },
    {
     "name": "stdout",
     "output_type": "stream",
     "text": [
      "----\n",
      "\n",
      "\n",
      "The melting point of 5-methylisoxazole-4-carboxylic acid can be predicted by considering the functional groups present in the molecule:\n",
      "\n",
      "- Methyl group: A methyl group adds bulk and rigidity to the molecule, potentially increasing the melting point by +20.\n",
      "- Isoxazole ring: A five-membered ring with a nitrogen atom contributes to increased melting point due to increased hydrogen bonding capability. Estimated increase of +20.\n",
      "- Carboxylic acid functional group: A carboxylic acid group can contribute to a decrease in melting point due to increased molecular weight and van der Waals interactions. Estimated decrease of -5.\n",
      "\n",
      "Starting with a base melting point of around 20°C for simple long chain hydrocarbons, these adjustments lead to a total estimation.\n",
      "##Prediction: 45.0\n",
      "\n",
      "\n",
      "#Problem\n",
      "actual:  147.0 predicted:  45.0\n",
      "promlem 14 / 50\n"
     ]
    },
    {
     "name": "stderr",
     "output_type": "stream",
     "text": [
      " 28%|██▊       | 14/50 [04:03<07:46, 12.96s/it]"
     ]
    },
    {
     "name": "stdout",
     "output_type": "stream",
     "text": [
      "----\n",
      "\n",
      "\n",
      "##Prediction: 105.0\n",
      "\n",
      "\n",
      "#Problem\n",
      "actual:  133.0 predicted:  105.0\n",
      "promlem 15 / 50\n"
     ]
    },
    {
     "name": "stderr",
     "output_type": "stream",
     "text": [
      " 30%|███       | 15/50 [04:35<10:49, 18.56s/it]"
     ]
    },
    {
     "name": "stdout",
     "output_type": "stream",
     "text": [
      "----\n",
      "\n",
      "\n",
      "The compound 5-fluoro-2-methylbenzyl alcohol has a melting point that can be predicted based on its structural features. The fluorine atom adds a +60°C contribution due to its increased polarity and hydrogen bonding potential. The methyl group adds a +20°C contribution due to its increased molecular weight and steric hindrance. The benzene ring contributes a base value of +5.5°C. The alcohol group typically raises the melting point due to increased polarity and hydrogen bonding potential. A rough estimate for its contribution could be +50 degrees.\n",
      "##Prediction: 60.0 + 20.0 + 5.5 = 85.5\n",
      "\n",
      "\n",
      "#Problem\n",
      "actual:  38.0 predicted:  60.0\n",
      "promlem 16 / 50\n"
     ]
    },
    {
     "name": "stderr",
     "output_type": "stream",
     "text": [
      " 32%|███▏      | 16/50 [04:38<07:52, 13.91s/it]"
     ]
    },
    {
     "name": "stdout",
     "output_type": "stream",
     "text": [
      "----\n",
      "\n",
      "\n",
      "##Prediction: 105.0\n",
      "\n",
      "\n",
      "#Problem\n",
      "actual:  96.0 predicted:  105.0\n",
      "promlem 17 / 50\n"
     ]
    },
    {
     "name": "stderr",
     "output_type": "stream",
     "text": [
      " 34%|███▍      | 17/50 [04:41<05:49, 10.60s/it]"
     ]
    },
    {
     "name": "stdout",
     "output_type": "stream",
     "text": [
      "----\n",
      "\n",
      "\n",
      "##Prediction: 109.5\n",
      "\n",
      "\n",
      "#Problem\n",
      "actual:  115.0 predicted:  109.5\n",
      "promlem 18 / 50\n"
     ]
    },
    {
     "name": "stderr",
     "output_type": "stream",
     "text": [
      " 36%|███▌      | 18/50 [04:43<04:17,  8.05s/it]"
     ]
    },
    {
     "name": "stdout",
     "output_type": "stream",
     "text": [
      "----\n",
      "\n",
      "\n",
      "##Prediction: 105.0\n",
      "\n",
      "\n",
      "#Problem\n",
      "actual:  132.0 predicted:  105.0\n",
      "promlem 19 / 50\n"
     ]
    },
    {
     "name": "stderr",
     "output_type": "stream",
     "text": [
      " 38%|███▊      | 19/50 [04:45<03:13,  6.25s/it]"
     ]
    },
    {
     "name": "stdout",
     "output_type": "stream",
     "text": [
      "----\n",
      "\n",
      "\n",
      "##Prediction: 105.0\n",
      "\n",
      "\n",
      "#Problem\n",
      "actual:  77.0 predicted:  105.0\n",
      "promlem 20 / 50\n"
     ]
    },
    {
     "name": "stderr",
     "output_type": "stream",
     "text": [
      " 40%|████      | 20/50 [05:27<08:25, 16.85s/it]"
     ]
    },
    {
     "name": "stdout",
     "output_type": "stream",
     "text": [
      "----\n",
      "\n",
      "\n",
      "The compound (4E)-4-({5-(4-nitrophenyl)furan-2-yl}methylidene)-2-phenyl-1,3-oxazol-5(4H)-one has a complex structure with multiple functional groups that contribute to its melting point. The base structure of furan contributes a melting point of around 40°C due to its planarity and polarity. The nitro group adds a melting point increase of approximately +20°C due to its electronegativity and ability to participate in dipole-dipole interactions. The methylidene group, which is a rigid and planar structure, can contribute a +10°C increase due to its presence. The phenyl group, which is a rigid and planar structure, can contribute a +20°C increase due to its ability to participate in π-π stacking. The oxazole ring, which is a flexible and planar structure, can contribute a +10°C increase due to its presence. The presence of multiple functional groups can also lead to synergistic effects, such as increased intermolecular interactions, which can contribute to a higher melting point.\n",
      "##Prediction: 160.0\n",
      "\n",
      "\n",
      "#Problem\n",
      "actual:  208.0 predicted:  160.0\n",
      "promlem 21 / 50\n"
     ]
    },
    {
     "name": "stderr",
     "output_type": "stream",
     "text": [
      " 42%|████▏     | 21/50 [06:13<12:23, 25.64s/it]"
     ]
    },
    {
     "name": "stdout",
     "output_type": "stream",
     "text": [
      "----\n",
      "\n",
      "\n",
      "The compound 2-chloro-1-phenylsulfonamidobenzene has a base structure of benzene, which has a melting point of approximately -40°C. The presence of a chlorine atom adds a rigidity and electronegativity, which can increase the melting point. The phenyl group attached to the benzene ring can participate in π-π stacking and increase the melting point due to its aromatic character. The sulfonamide group can also contribute to the melting point due to its polarity and potential hydrogen bonding capabilities. The sulfur atom can also participate in π-π stacking and increase the melting point due to its aromatic character. The estimated increase for each functional group is: -40 (base) + 10 (chlorine) + 20 (phenyl group) + 10 (sulfonamide group) + 5 (sulfur group) = 75°C.\n",
      "##Prediction: 75.0\n",
      "\n",
      "\n",
      "#Problem\n",
      "actual:  125.0 predicted:  75.0\n",
      "promlem 22 / 50\n"
     ]
    },
    {
     "name": "stderr",
     "output_type": "stream",
     "text": [
      " 44%|████▍     | 22/50 [06:16<08:47, 18.83s/it]"
     ]
    },
    {
     "name": "stdout",
     "output_type": "stream",
     "text": [
      "----\n",
      "\n",
      "\n",
      "##Prediction: 105.0\n",
      "\n",
      "\n",
      "#Problem\n",
      "actual:  247.0 predicted:  105.0\n",
      "promlem 23 / 50\n"
     ]
    },
    {
     "name": "stderr",
     "output_type": "stream",
     "text": [
      " 46%|████▌     | 23/50 [07:14<13:51, 30.80s/it]"
     ]
    },
    {
     "name": "stdout",
     "output_type": "stream",
     "text": [
      "----\n",
      "\n",
      "\n",
      "The compound has a melting point that is influenced by several factors:\n",
      "- Benzene ring: The base unit benzene has a melting point of 5.5 degrees Celsius.\n",
      "- Thiopyran ring: Thiopyrans are known to contribute to the melting point due to their polarity and potential for hydrogen bonding. A rough estimate for their contribution could be +50 degrees.\n",
      "- Diamine group: Diamines typically raise the melting point due to increased polarity and hydrogen bonding. An estimated contribution might be +80 degrees.\n",
      "- Methyl group: Methyl groups increase the molecular weight leading to higher melting points, although the contribution is typically small. Estimated contribution might be +5 degrees.\n",
      "- Cumulative impact: The individual contributions of each group can be summed up, but it's also necessary to consider that the presence of multiple polar and hydrogen bonding functional groups in one molecule can lead to synergistic effects, amplifying the increase in melting point beyond the sum of individual contributions.\n",
      "Based on the above considerations, a rough estimate would be 5.5 (for the benzene rings) + 50 (for the thiopyran ring) + 80 (for the diamine group) + 5 (for the methyl group) = 140.5 degrees Celsius. Adding a consideration for synergistic effects, a more refined estimate taking into account the cumulative polar and hydrogen bonding functional groups might be approximated as +80 degrees, leading to a predicted melting point of 220.5 degrees Celsius.\n",
      "##Prediction: 220.5\n",
      "\n",
      "\n",
      "#Problem\n",
      "actual:  148.0 predicted:  220.5\n",
      "promlem 24 / 50\n"
     ]
    },
    {
     "name": "stderr",
     "output_type": "stream",
     "text": [
      " 48%|████▊     | 24/50 [07:36<12:08, 28.00s/it]"
     ]
    },
    {
     "name": "stdout",
     "output_type": "stream",
     "text": [
      "----\n",
      "\n",
      "\n",
      "The base compound piperazine has a melting point of -1.5 degrees Celsius. The presence of a benzyl group adds rigidity and potential for intermolecular hydrogen bonding. The tertiary amino group also contributes to the melting point due to increased polarity and potential for hydrogen bonding. The boc group adds bulkiness and potentially increases the melting point due to increased molecular weight. The phenyl group adds a conjugated double bond and an aromatic-like structure, which can contribute to increased melting point.\n",
      "##Prediction: 105.0\n",
      "\n",
      "\n",
      "#Problem\n",
      "actual:  72.0 predicted:  105.0\n",
      "promlem 25 / 50\n"
     ]
    },
    {
     "name": "stderr",
     "output_type": "stream",
     "text": [
      " 50%|█████     | 25/50 [08:24<14:12, 34.09s/it]"
     ]
    },
    {
     "name": "stdout",
     "output_type": "stream",
     "text": [
      "----\n",
      "\n",
      "\n",
      "The compound ethyl 5-amino-3-(methylsulfanyl)-1-[(3-nitrophenyl)carbonyl]-1H-pyrazole-4-carboxylate has a complex structure with multiple functional groups. The pyrazole ring itself has a melting point of around -20 degrees Celsius due to its planarity and rigidity. The amino group adds a basic nitrogen atom, which can increase the melting point due to inductive and resonance stabilization. The methylsulfanyl group adds a polar functional group, which can increase the melting point due to increased intermolecular interactions. The nitro group can increase the melting point due to its electronegativity and potential for pi-pi stacking. The carbonyl group adds a polar functional group and can increase the melting point due to increased intermolecular interactions. The phenyl group can increase the melting point due to its aromatic character and potential for pi-pi stacking. The base value for pyrazole is -20, the amino group adds +10, the methylsulfanyl group adds +5, the nitro group adds +20, and the carbonyl group adds +10. The phenyl group adds +50.\n",
      "##Prediction: 125.0\n",
      "\n",
      "\n",
      "#Problem\n",
      "actual:  153.0 predicted:  125.0\n",
      "promlem 26 / 50\n"
     ]
    },
    {
     "name": "stderr",
     "output_type": "stream",
     "text": [
      " 52%|█████▏    | 26/50 [09:09<14:58, 37.43s/it]"
     ]
    },
    {
     "name": "stdout",
     "output_type": "stream",
     "text": [
      "----\n",
      "\n",
      "\n",
      "The compound has a pyrazole ring, which has a melting point of approximately -20°C. The amino group raises the melting point due to hydrogen bonding and increased molecular weight. An estimated contribution could be +50 degrees. The methylsulfanyl group adds rigidity and polarity, which can increase the melting point by approximately +30 degrees. The nitro group can contribute to the melting point due to its electronegativity and potential for intermolecular interactions, estimated at +20 degrees. The carbonyl group can also contribute to the melting point due to its polarity and potential for hydrogen bonding, estimated at +10 degrees. The presence of a methyl group attached to the pyrazole ring can increase the melting point due to its rigidity and potential for hydrogen bonding, estimated at +5 degrees.\n",
      "##Prediction: 155.0\n",
      "\n",
      "\n",
      "#Problem\n",
      "actual:  153.0 predicted:  155.0\n",
      "promlem 27 / 50\n"
     ]
    },
    {
     "name": "stderr",
     "output_type": "stream",
     "text": [
      " 54%|█████▍    | 27/50 [09:12<10:20, 26.97s/it]"
     ]
    },
    {
     "name": "stdout",
     "output_type": "stream",
     "text": [
      "----\n",
      "\n",
      "\n",
      "##Prediction: 145.0\n",
      "\n",
      "\n",
      "#Problem\n",
      "actual:  156.0 predicted:  145.0\n",
      "promlem 28 / 50\n"
     ]
    },
    {
     "name": "stderr",
     "output_type": "stream",
     "text": [
      " 56%|█████▌    | 28/50 [09:51<11:13, 30.60s/it]"
     ]
    },
    {
     "name": "stdout",
     "output_type": "stream",
     "text": [
      "----\n",
      "\n",
      "\n",
      "The melting point of 1-acetylisatin can be predicted by considering its structural features:\n",
      "\n",
      "- Carbonyl group: A carbonyl group contributes to the melting point due to its polarity and potential for dipole-dipole interactions. Estimated increase of +20.\n",
      "- Acetyl group: A methyl group adds bulkiness and steric hindrance, which can increase the melting point. Estimated increase of +10.\n",
      "- Methine bridge: A methine bridge connects two aromatic rings, which can contribute to the melting point due to increased rigidity and potential for pi-pi stacking. Estimated increase of +10.\n",
      "- Aromatic rings: Two aromatic rings contribute to the melting point due to their planarity and potential for pi-pi stacking. Estimated increase of +20.\n",
      "\n",
      "Starting with a base melting point of around 20°C for simple long chain hydrocarbons, these adjustments lead to a total estimation.\n",
      "##Prediction: 105.0\n",
      "\n",
      "\n",
      "#Problem\n",
      "actual:  142.0 predicted:  105.0\n",
      "promlem 29 / 50\n"
     ]
    },
    {
     "name": "stderr",
     "output_type": "stream",
     "text": [
      " 58%|█████▊    | 29/50 [10:18<10:21, 29.59s/it]"
     ]
    },
    {
     "name": "stdout",
     "output_type": "stream",
     "text": [
      "----\n",
      "\n",
      "\n",
      "Based on the base unit benzoic acid, the melting point is expected to be around 120°C. The presence of a hydroxyl group in the molecule can increase the melting point due to increased polarity and hydrogen bonding capabilities. The estimated contribution for a single hydroxyl group is around +50°C. The presence of an ethyl group can also contribute to the melting point due to increased molecular weight and steric hindrance. An estimated contribution for an ethyl group is around +20°C. The overall increase in melting point due to the presence of both hydroxyl and ethyl groups can be estimated as a synergistic effect, considering the cumulative impact of both groups.\n",
      "##Prediction: 140.0\n",
      "\n",
      "\n",
      "#Problem\n",
      "actual:  37.0 predicted:  140.0\n",
      "promlem 30 / 50\n"
     ]
    },
    {
     "name": "stderr",
     "output_type": "stream",
     "text": [
      " 60%|██████    | 30/50 [10:57<10:47, 32.38s/it]"
     ]
    },
    {
     "name": "stdout",
     "output_type": "stream",
     "text": [
      "----\n",
      "\n",
      "\n",
      "The compound (2E)-3-(5-bromofuran-2-yl)-1-furan-2-ylprop-2-en-1-one has a melting point that is influenced by several functional groups. The furan ring itself contributes to the melting point due to its rigidity and planarity, estimated at +40°C. The bromine atom adds a significant increase due to its electronegativity and ability to participate in intermolecular interactions, estimated at +70°C. The presence of a carbonyl group can also contribute to the melting point due to increased polarity and potential hydrogen bonding, estimated at +20°C. The methyl group attached to the benzene ring can contribute to the melting point due to increased molecular weight and van der Waals interactions, estimated at +5°C.\n",
      "##Prediction: 105.0\n",
      "\n",
      "\n",
      "#Problem\n",
      "actual:  77.0 predicted:  105.0\n",
      "promlem 31 / 50\n"
     ]
    },
    {
     "name": "stderr",
     "output_type": "stream",
     "text": [
      " 62%|██████▏   | 31/50 [11:00<07:26, 23.48s/it]"
     ]
    },
    {
     "name": "stdout",
     "output_type": "stream",
     "text": [
      "----\n",
      "\n",
      "\n",
      "##Prediction: 109.5\n",
      "\n",
      "\n",
      "#Problem\n",
      "actual:  152.0 predicted:  109.5\n",
      "promlem 32 / 50\n"
     ]
    },
    {
     "name": "stderr",
     "output_type": "stream",
     "text": [
      " 64%|██████▍   | 32/50 [11:46<09:06, 30.34s/it]"
     ]
    },
    {
     "name": "stdout",
     "output_type": "stream",
     "text": [
      "----\n",
      "\n",
      "\n",
      "The melting point of a compound is influenced by various factors such as the molecular weight, symmetry, intermolecular forces, and polarity. 4-ethyl-2-methoxyphenol's base structure is a phenol group, which contributes to the melting point due to its polar nature and capability to form strong dipole-dipole interactions. The ethyl group adds bulkiness and steric hindrance, which can increase the melting point. The methoxy group can participate in hydrogen bonding, which can also contribute to the melting point. The presence of a benzene ring adds rigidity and potential for pi-pi stacking, which can increase the melting point. Using phenol as a base (having a melting point of 41.0°C), the addition of the ethyl group could raise the melting point by approximately +20.0°C due to increased molecular weight and steric hindrance. The methoxy group can contribute roughly +10.0°C due to hydrogen bonding potential. The presence of a benzene ring can increase the melting point by approximately +20.0°C due to increased rigidity and potential for pi-pi stacking.\n",
      "##Prediction: 71.0\n",
      "\n",
      "\n",
      "#Problem\n",
      "actual:  15.0 predicted:  71.0\n",
      "promlem 33 / 50\n"
     ]
    },
    {
     "name": "stderr",
     "output_type": "stream",
     "text": [
      " 66%|██████▌   | 33/50 [12:00<07:12, 25.44s/it]"
     ]
    },
    {
     "name": "stdout",
     "output_type": "stream",
     "text": [
      "----\n",
      "\n",
      "\n",
      "The nitro functional group raises the melting point due to increased polarity and hydrogen bonding potential. A rough estimate for its contribution could be +50 degrees.\n",
      "The anthracene base unit has a melting point of around -6 degrees Celsius.\n",
      "The presence of a nitro group adds a significant amount of polarity and potential for hydrogen bonding, which can increase the melting point.\n",
      "##Prediction: 106.0\n",
      "\n",
      "\n",
      "#Problem\n",
      "actual:  146.0 predicted:  106.0\n",
      "promlem 34 / 50\n"
     ]
    },
    {
     "name": "stderr",
     "output_type": "stream",
     "text": [
      " 68%|██████▊   | 34/50 [12:03<04:56, 18.56s/it]"
     ]
    },
    {
     "name": "stdout",
     "output_type": "stream",
     "text": [
      "----\n",
      "\n",
      "\n",
      "##Prediction: 105.0\n",
      "\n",
      "\n",
      "#Problem\n",
      "actual:  142.0 predicted:  105.0\n",
      "promlem 35 / 50\n"
     ]
    },
    {
     "name": "stderr",
     "output_type": "stream",
     "text": [
      " 70%|███████   | 35/50 [12:06<03:27, 13.85s/it]"
     ]
    },
    {
     "name": "stdout",
     "output_type": "stream",
     "text": [
      "----\n",
      "\n",
      "\n",
      "##Prediction: 105.0\n",
      "\n",
      "\n",
      "#Problem\n",
      "actual:  65.0 predicted:  105.0\n",
      "promlem 36 / 50\n"
     ]
    },
    {
     "name": "stderr",
     "output_type": "stream",
     "text": [
      " 72%|███████▏  | 36/50 [12:08<02:25, 10.37s/it]"
     ]
    },
    {
     "name": "stdout",
     "output_type": "stream",
     "text": [
      "----\n",
      "\n",
      "\n",
      "##Prediction: 105.0\n",
      "\n",
      "\n",
      "#Problem\n",
      "actual:  170.0 predicted:  105.0\n",
      "promlem 37 / 50\n"
     ]
    },
    {
     "name": "stderr",
     "output_type": "stream",
     "text": [
      " 74%|███████▍  | 37/50 [12:11<01:46,  8.19s/it]"
     ]
    },
    {
     "name": "stdout",
     "output_type": "stream",
     "text": [
      "----\n",
      "\n",
      "\n",
      "##Prediction: 105.0\n",
      "\n",
      "\n",
      "#Problem\n",
      "actual:  100.0 predicted:  105.0\n",
      "promlem 38 / 50\n"
     ]
    },
    {
     "name": "stderr",
     "output_type": "stream",
     "text": [
      " 76%|███████▌  | 38/50 [13:12<04:48, 24.06s/it]"
     ]
    },
    {
     "name": "stdout",
     "output_type": "stream",
     "text": [
      "----\n",
      "\n",
      "\n",
      "The compound has a melting point prediction based on its structural features:\n",
      "\n",
      "- Benzene ring: The base unit benzene has a melting point of 5.5 degrees Celsius.\n",
      "- Phenyl group: The presence of a phenyl group adds rigidity and potential for intermolecular hydrogen bonding. Estimated to increase melting point by +40 over a basic hydrocarbon backbone.\n",
      "- Amino group: Amines typically raise the melting point due to hydrogen bonding and increased polarity. Estimated contribution could be +50 degrees.\n",
      "- Nitrile group: Nitriles can contribute to melting point elevation due to increased polarity and potential for hydrogen bonding. Estimated contribution could be +20 degrees.\n",
      "- Cumulative impact: The individual contributions of each group can be summed up, but it's also necessary to consider that the presence of multiple polar and hydrogen bonding functional groups in one molecule can lead to synergistic effects, amplifying the increase in melting point beyond the sum of individual contributions.\n",
      "Based on the above considerations, a rough estimate would be 5.5 (for the benzene rings) + 40 (for the phenyl group) + 50 (for the amino group) + 20 (for the nitrile group) = 125 degrees Celsius. Adding a consideration for synergistic effects, a more refined estimate taking into account the cumulative polar and hydrogen bonding functional groups might be approximated as +80 degrees, leading to a predicted melting point of 205 degrees Celsius.\n",
      "##Prediction: 205\n",
      "\n",
      "\n",
      "#Problem\n",
      "actual:  156.0 predicted:  205\n",
      "promlem 39 / 50\n"
     ]
    },
    {
     "name": "stderr",
     "output_type": "stream",
     "text": [
      " 78%|███████▊  | 39/50 [13:15<03:15, 17.78s/it]"
     ]
    },
    {
     "name": "stdout",
     "output_type": "stream",
     "text": [
      "----\n",
      "\n",
      "\n",
      "##Prediction: 105.0\n",
      "\n",
      "\n",
      "#Problem\n",
      "actual:  143.0 predicted:  105.0\n",
      "promlem 40 / 50\n"
     ]
    },
    {
     "name": "stderr",
     "output_type": "stream",
     "text": [
      " 80%|████████  | 40/50 [13:18<02:12, 13.22s/it]"
     ]
    },
    {
     "name": "stdout",
     "output_type": "stream",
     "text": [
      "----\n",
      "\n",
      "\n",
      "##Prediction: 125.0\n",
      "\n",
      "\n",
      "#Problem\n",
      "actual:  165.5 predicted:  125.0\n",
      "promlem 41 / 50\n"
     ]
    },
    {
     "name": "stderr",
     "output_type": "stream",
     "text": [
      " 82%|████████▏ | 41/50 [13:47<02:42, 18.06s/it]"
     ]
    },
    {
     "name": "stdout",
     "output_type": "stream",
     "text": [
      "----\n",
      "\n",
      "\n",
      "The compound has a melting point due to its base unit, furan, which has a melting point of 5.5 degrees Celsius. The bromine atom adds a polar and electronegative group, which can increase the melting point due to increased hydrogen bonding and increased molecular weight. The furan ring itself has a melting point of 5.5 degrees Celsius. The presence of a methyl group attached to the furan ring can increase the melting point due to increased molecular weight and rigidity. The bromine atom can also increase the melting point due to increased polarity and hydrogen bonding. The presence of a methyl group attached to the bromine can increase the melting point due to increased molecular weight and rigidity.\n",
      "##Prediction: 20.5\n",
      "\n",
      "\n",
      "#Problem\n",
      "actual:  77.0 predicted:  20.5\n",
      "promlem 42 / 50\n"
     ]
    },
    {
     "name": "stderr",
     "output_type": "stream",
     "text": [
      " 84%|████████▍ | 42/50 [13:50<01:47, 13.47s/it]"
     ]
    },
    {
     "name": "stdout",
     "output_type": "stream",
     "text": [
      "----\n",
      "\n",
      "\n",
      "##Prediction: 105.0\n",
      "\n",
      "\n",
      "#Problem\n",
      "actual:  96.0 predicted:  105.0\n",
      "promlem 43 / 50\n"
     ]
    },
    {
     "name": "stderr",
     "output_type": "stream",
     "text": [
      " 86%|████████▌ | 43/50 [13:52<01:10, 10.09s/it]"
     ]
    },
    {
     "name": "stdout",
     "output_type": "stream",
     "text": [
      "----\n",
      "\n",
      "\n",
      "##Prediction: 54.0\n",
      "\n",
      "\n",
      "#Problem\n",
      "actual:  82.5 predicted:  54.0\n",
      "promlem 44 / 50\n"
     ]
    },
    {
     "name": "stderr",
     "output_type": "stream",
     "text": [
      " 88%|████████▊ | 44/50 [13:54<00:46,  7.74s/it]"
     ]
    },
    {
     "name": "stdout",
     "output_type": "stream",
     "text": [
      "----\n",
      "\n",
      "\n",
      "##Prediction: 100.0\n",
      "\n",
      "\n",
      "#Problem\n",
      "actual:  113.0 predicted:  100.0\n",
      "promlem 45 / 50\n"
     ]
    },
    {
     "name": "stderr",
     "output_type": "stream",
     "text": [
      " 90%|█████████ | 45/50 [14:24<01:11, 14.33s/it]"
     ]
    },
    {
     "name": "stdout",
     "output_type": "stream",
     "text": [
      "----\n",
      "\n",
      "\n",
      "The base structure of naphthalene has a melting point of approximately -10°C. The presence of a carboxamide group can increase the melting point due to increased molecular weight and the presence of a polar functional group capable of participating in hydrogen bonding. The n-butyl group can contribute to a decrease in melting point due to increased rotational freedom and flexibility, potentially around -20 to -40°C. The two hydroxyl groups can raise the melting point due to increased hydrogen bonding capability, estimated to be around 70 to 120°C. The presence of a carboxamide group can contribute to increased rigidity and planarity, potentially raising the melting point by +20 to +40°C.\n",
      "##Prediction: 107.0\n",
      "\n",
      "\n",
      "#Problem\n",
      "actual:  194.0 predicted:  107.0\n",
      "promlem 46 / 50\n"
     ]
    },
    {
     "name": "stderr",
     "output_type": "stream",
     "text": [
      " 92%|█████████▏| 46/50 [14:27<00:43, 10.94s/it]"
     ]
    },
    {
     "name": "stdout",
     "output_type": "stream",
     "text": [
      "----\n",
      "\n",
      "\n",
      "##Prediction: 105.0\n",
      "\n",
      "\n",
      "#Problem\n",
      "actual:  156.0 predicted:  105.0\n",
      "promlem 47 / 50\n"
     ]
    },
    {
     "name": "stderr",
     "output_type": "stream",
     "text": [
      " 94%|█████████▍| 47/50 [14:30<00:25,  8.51s/it]"
     ]
    },
    {
     "name": "stdout",
     "output_type": "stream",
     "text": [
      "----\n",
      "\n",
      "\n",
      "##Prediction: 105.0\n",
      "\n",
      "\n",
      "#Problem\n",
      "actual:  39.0 predicted:  105.0\n",
      "promlem 48 / 50\n"
     ]
    },
    {
     "name": "stderr",
     "output_type": "stream",
     "text": [
      " 96%|█████████▌| 48/50 [15:03<00:31, 15.95s/it]"
     ]
    },
    {
     "name": "stdout",
     "output_type": "stream",
     "text": [
      "----\n",
      "\n",
      "\n",
      "The compound has a base unit of a phenyl ring, which has a melting point of 5.5 degrees Celsius. The presence of a sulfonyl group can increase the melting point due to increased polarity and hydrogen bonding potential. A rough estimate for its contribution could be +50 degrees. The vinyl group can also contribute to the melting point due to increased rigidity and potential pi-pi stacking interactions. An estimated contribution might be +20 degrees. The chlorine atoms can also increase the melting point due to increased polarity and hydrogen bonding potential. An estimated contribution might be +5 degrees. The indole ring can also contribute to the melting point due to increased polarity and hydrogen bonding potential. An estimated contribution might be +20 degrees. The presence of two phenyl groups can increase the melting point due to increased molecular weight and potential for pi-pi stacking interactions. An estimated contribution might be +40 degrees.\n",
      "##Prediction: 155.5\n",
      "\n",
      "\n",
      "#Problem\n",
      "actual:  109.85 predicted:  155.5\n",
      "promlem 49 / 50\n"
     ]
    },
    {
     "name": "stderr",
     "output_type": "stream",
     "text": [
      " 98%|█████████▊| 49/50 [15:07<00:12, 12.16s/it]"
     ]
    },
    {
     "name": "stdout",
     "output_type": "stream",
     "text": [
      "----\n",
      "\n",
      "\n",
      "##Prediction: 230.5\n",
      "\n",
      "\n",
      "#Problem\n",
      "actual:  230.0 predicted:  230.5\n",
      "promlem 50 / 50\n"
     ]
    },
    {
     "name": "stderr",
     "output_type": "stream",
     "text": [
      "100%|██████████| 50/50 [15:32<00:00, 18.64s/it]\n"
     ]
    },
    {
     "name": "stdout",
     "output_type": "stream",
     "text": [
      "----\n",
      "\n",
      "\n",
      "The presence of a fluorine atom can increase the melting point due to its high electronegativity and increased polarity, estimated at +20. The chlorine atom also contributes to increased polarity and electronegativity, estimated at +5. The purine ring itself can contribute to increased melting point due to its planarity and potential for hydrogen bonding, estimated at +10. The fluorine and chlorine atoms can also participate in intermolecular interactions, such as dipole-dipole and hydrogen bonding, which can increase the melting point.\n",
      "##Prediction: 105.0\n",
      "\n",
      "\n",
      "#Problem\n",
      "actual:  152.0 predicted:  105.0\n"
     ]
    },
    {
     "name": "stderr",
     "output_type": "stream",
     "text": [
      "  0%|          | 0/50 [00:00<?, ?it/s]"
     ]
    },
    {
     "name": "stdout",
     "output_type": "stream",
     "text": [
      "promlem 1 / 50\n"
     ]
    },
    {
     "name": "stderr",
     "output_type": "stream",
     "text": [
      "  2%|▏         | 1/50 [00:02<02:26,  3.00s/it]"
     ]
    },
    {
     "name": "stdout",
     "output_type": "stream",
     "text": [
      "----\n",
      "\n",
      "\n",
      "##Prediction: 55.0\n",
      "\n",
      "\n",
      "#Problem\n",
      "actual:  -3.0 predicted:  55.0\n",
      "promlem 2 / 50\n"
     ]
    },
    {
     "name": "stderr",
     "output_type": "stream",
     "text": [
      "  4%|▍         | 2/50 [01:08<31:54, 39.89s/it]"
     ]
    },
    {
     "name": "stdout",
     "output_type": "stream",
     "text": [
      "----\n",
      "\n",
      "\n",
      "- Benzene ring: The base unit benzene has a melting point of 5.5 degrees Celsius.\n",
      "- Bromine atom: Bromine atoms increase the melting point due to increased polarity and hydrogen bonding. A rough estimate for its contribution could be +50 degrees.\n",
      "- Methyl groups: Methyl groups increase the molecular weight leading to higher melting points, although the contribution is typically small. Estimated contribution might be +5 degrees.\n",
      "- Pyrazole ring: The pyrazole ring itself does not contribute significantly to melting point, but the presence of a bromine atom and methyl groups can increase the melting point due to increased polarity and hydrogen bonding. An estimated contribution might be +20 degrees.\n",
      "- Cumulative impact: The individual contributions of each group can be summed up, but it's also necessary to consider that the presence of multiple polar and hydrogen bonding functional groups in one molecule can lead to synergistic effects, amplifying the increase in melting point beyond the sum of individual contributions.\n",
      "Based on the above considerations, a rough estimate would be 5.5 (for the benzene rings) + 50 (for the bromine atom) + 5 (for the methyl group) + 20 (for the pyrazole ring) = 80 degrees Celsius. Adding a consideration for synergistic effects, a more refined estimate taking into account the cumulative polar and hydrogen bonding functional groups might be approximated as +80 degrees, leading to a predicted melting point of 160 degrees Celsius.\n",
      "##Prediction: 160.0\n",
      "\n",
      "\n",
      "#Problem\n",
      "actual:  121.0 predicted:  160.0\n",
      "promlem 3 / 50\n"
     ]
    },
    {
     "name": "stderr",
     "output_type": "stream",
     "text": [
      "  6%|▌         | 3/50 [02:12<39:43, 50.72s/it]"
     ]
    },
    {
     "name": "stdout",
     "output_type": "stream",
     "text": [
      "----\n",
      "\n",
      "\n",
      "The compound has a melting point prediction based on its structural features:\n",
      "\n",
      "- Benzene ring: The base unit benzene has a melting point of 5.5 degrees Celsius.\n",
      "- Nitro group: Nitro groups increase the melting point due to increased polarity and hydrogen bonding potential. Estimated contribution could be +50 degrees.\n",
      "- Amine group: Amines also raise the melting point due to strong hydrogen bonding and resonance stability. This can be estimated to contribute about +80 degrees.\n",
      "- Presence of a nitro group: Nitro groups can increase the melting point due to increased polarity and hydrogen bonding potential. Estimated contribution could be +20 degrees.\n",
      "- Cumulative impact: The individual contributions of each group can be summed up, but it's also necessary to consider that the presence of multiple polar and hydrogen bonding functional groups in one molecule can lead to synergistic effects, amplifying the increase in melting point beyond the sum of individual contributions.\n",
      "Based on the above considerations, a rough estimate would be 5.5 (for the benzene rings) + 50 (for the nitro group) + 80 (for the amine group) + 20 (for the presence of a nitro group) = 160 degrees Celsius. Adding a consideration for synergistic effects, a more refined estimate taking into account the cumulative polar and hydrogen bonding functional groups might be approximated as +80 degrees, leading to a predicted melting point of 240 degrees Celsius.\n",
      "##Prediction: 240.0\n",
      "\n",
      "\n",
      "#Problem\n",
      "actual:  151.0 predicted:  240.0\n",
      "promlem 4 / 50\n"
     ]
    },
    {
     "name": "stderr",
     "output_type": "stream",
     "text": [
      "  8%|▊         | 4/50 [03:12<41:52, 54.62s/it]"
     ]
    },
    {
     "name": "stdout",
     "output_type": "stream",
     "text": [
      "----\n",
      "\n",
      "\n",
      "- Benzene ring: The base unit benzene has a melting point of 5.5 degrees Celsius.\n",
      "- Carboxylic acid group: This functional group typically raises the melting point due to hydrogen bonding and increased polarity. A rough estimate for its contribution could be +50 degrees.\n",
      "- Dione group: Diones are known to contribute to melting points due to increased polarity and potential for hydrogen bonding. An estimated contribution could be +20 degrees.\n",
      "- Cumulative impact: The individual contributions of each group can be summed up, but it's also necessary to consider that the presence of multiple polar and hydrogen bonding functional groups in one molecule can lead to synergistic effects, amplifying the increase in melting point beyond the sum of individual contributions.\n",
      "Based on the above considerations, a rough estimate would be 5.5 (for the benzene rings) + 50 (for the carboxylic acid) + 20 (for the dione group) = 85.5 degrees Celsius. Adding a consideration for synergistic effects, a more refined estimate taking into account the cumulative polar and hydrogen bonding functional groups might be approximated as +50 degrees, leading to a predicted melting point of 135.5 degrees Celsius.\n",
      "##Prediction: 135.5\n",
      "\n",
      "\n",
      "#Problem\n",
      "actual:  -7.0 predicted:  135.5\n",
      "promlem 5 / 50\n"
     ]
    },
    {
     "name": "stderr",
     "output_type": "stream",
     "text": [
      " 10%|█         | 5/50 [03:15<26:56, 35.92s/it]"
     ]
    },
    {
     "name": "stdout",
     "output_type": "stream",
     "text": [
      "----\n",
      "\n",
      "\n",
      "##Prediction: 105.0\n",
      "\n",
      "\n",
      "#Problem\n",
      "actual:  31.0 predicted:  105.0\n",
      "promlem 6 / 50\n"
     ]
    },
    {
     "name": "stderr",
     "output_type": "stream",
     "text": [
      " 12%|█▏        | 6/50 [03:18<18:03, 24.63s/it]"
     ]
    },
    {
     "name": "stdout",
     "output_type": "stream",
     "text": [
      "----\n",
      "\n",
      "\n",
      "##Prediction: 105.0\n",
      "\n",
      "\n",
      "#Problem\n",
      "actual:  201.0 predicted:  105.0\n",
      "promlem 7 / 50\n"
     ]
    },
    {
     "name": "stderr",
     "output_type": "stream",
     "text": [
      " 14%|█▍        | 7/50 [03:20<12:22, 17.28s/it]"
     ]
    },
    {
     "name": "stdout",
     "output_type": "stream",
     "text": [
      "----\n",
      "\n",
      "\n",
      "##Prediction: 105.0\n",
      "\n",
      "\n",
      "#Problem\n",
      "actual:  223.0 predicted:  105.0\n",
      "promlem 8 / 50\n"
     ]
    },
    {
     "name": "stderr",
     "output_type": "stream",
     "text": [
      " 16%|█▌        | 8/50 [03:38<12:08, 17.36s/it]"
     ]
    },
    {
     "name": "stdout",
     "output_type": "stream",
     "text": [
      "----\n",
      "\n",
      "\n",
      "The basic unit benzene has a melting point of 5.5 degrees Celsius. The nitro group contributes to a significant increase in melting point due to its electronegative nature and potential for pi-pi stacking interactions, which can lead to stronger intermolecular forces and a higher melting point. The methyl group can contribute to a small increase in melting point due to increased molecular weight and potential for increased hydrogen bonding capability. The presence of the nitro group can also increase the melting point due to its electronegative nature and potential for pi-pi stacking interactions, which can lead to stronger intermolecular forces and a higher melting point.\n",
      "##Prediction: 105.0\n",
      "\n",
      "\n",
      "#Problem\n",
      "actual:  153.0 predicted:  105.0\n",
      "promlem 9 / 50\n"
     ]
    },
    {
     "name": "stderr",
     "output_type": "stream",
     "text": [
      " 18%|█▊        | 9/50 [03:50<10:50, 15.86s/it]"
     ]
    },
    {
     "name": "stdout",
     "output_type": "stream",
     "text": [
      "----\n",
      "\n",
      "\n",
      "The base unit benzene has a melting point of 5.5 degrees Celsius. The methoxy group can increase the melting point due to increased hydrogen bonding capability. Estimated contribution could be around 50 degrees.\n",
      "##Prediction: 55.0\n",
      "\n",
      "\n",
      "#Problem\n",
      "actual:  37.0 predicted:  55.0\n",
      "promlem 10 / 50\n"
     ]
    },
    {
     "name": "stderr",
     "output_type": "stream",
     "text": [
      " 20%|██        | 10/50 [05:17<25:13, 37.84s/it]"
     ]
    },
    {
     "name": "stdout",
     "output_type": "stream",
     "text": [
      "----\n",
      "\n",
      "\n",
      "To predict the melting point of (2E)-1-(2-furyl)-3-[5-(2-nitrophenyl)-2-furyl]prop-2-en-1-one, we consider the known melting point influence of various functional groups relative to benzene, which has a melting point of 5.5°C. Furyl groups contribute to the melting point due to their rigidity and increased molecular weight, estimated at +20°C. Nitro groups are electronegative and capable of intermolecular interactions, adding +30°C. The phenyl group attached to the furyl ring can participate in pi-pi stacking and increase the melting point, estimated at +60°C. The presence of a carbonyl group within a ring structure can contribute to rigidity and hydrogen bonding, estimated at +20°C. The prop-2-en-1-one moiety introduces a methylene bridge and a carbonyl group, which can contribute to rigidity and hydrogen bonding, estimated at +10°C and +20°C, respectively. The presence of a nitro group can significantly increase the melting point because of its strong electronegative nature and the capability for intermolecular interactions, contributing approximately +30°C. The furyl group attached to the benzene ring also contributes to van der Waals interactions, so we add +5°C for the furyl group. The overall effect of aromaticity might be comparatively minimal, estimated at -5°C overall. Therefore, we calculate as follows: Benzene (5.5) + 2 Furyl groups (2 * 20) + Nitro group (30) + Phenyl\n",
      "promlem 11 / 50\n"
     ]
    },
    {
     "name": "stderr",
     "output_type": "stream",
     "text": [
      " 22%|██▏       | 11/50 [05:21<17:44, 27.29s/it]"
     ]
    },
    {
     "name": "stdout",
     "output_type": "stream",
     "text": [
      "----\n",
      "\n",
      "\n",
      "##Prediction: 120.0\n",
      "\n",
      "\n",
      "#Problem\n",
      "actual:  59.5 predicted:  120.0\n",
      "promlem 12 / 50\n"
     ]
    },
    {
     "name": "stderr",
     "output_type": "stream",
     "text": [
      " 24%|██▍       | 12/50 [06:19<23:14, 36.71s/it]"
     ]
    },
    {
     "name": "stdout",
     "output_type": "stream",
     "text": [
      "----\n",
      "\n",
      "\n",
      "- Benzene ring: The base unit benzene has a melting point of 5.5 degrees Celsius.\n",
      "- Carboxylic acid group: This functional group typically raises the melting point due to hydrogen bonding and increased polarity. A rough estimate for its contribution could be +50 degrees.\n",
      "- Methyl group attached to benzene: Methyl groups generally increase the molecular weight leading to higher melting points, although the contribution is typically small. Estimated contribution might be +5 degrees.\n",
      "- Cumulative impact: The individual contributions of each group can be summed up, but it's also necessary to consider that the presence of multiple polar and hydrogen bonding functional groups in one molecule can lead to synergistic effects, amplifying the increase in melting point beyond the sum of individual contributions.\n",
      "Based on the above considerations, a rough estimate would be 5.5 (for the benzene rings) + 50 (for the carboxylic acid) + 5 (for the methyl group) = 55.5 degrees Celsius. Adding a consideration for synergistic effects, a more refined estimate taking into account the cumulative polar and hydrogen bonding functional groups might be approximated as +80 degrees, leading to a predicted melting point of 135.5 degrees Celsius.\n",
      "##Prediction: 135.5\n",
      "\n",
      "\n",
      "#Problem\n",
      "actual:  -2.0 predicted:  135.5\n",
      "promlem 13 / 50\n"
     ]
    },
    {
     "name": "stderr",
     "output_type": "stream",
     "text": [
      " 26%|██▌       | 13/50 [06:23<16:28, 26.72s/it]"
     ]
    },
    {
     "name": "stdout",
     "output_type": "stream",
     "text": [
      "----\n",
      "\n",
      "\n",
      "##Prediction: 105.0\n",
      "\n",
      "\n",
      "#Problem\n",
      "actual:  81.3 predicted:  105.0\n",
      "promlem 14 / 50\n"
     ]
    },
    {
     "name": "stderr",
     "output_type": "stream",
     "text": [
      " 28%|██▊       | 14/50 [06:40<14:24, 24.02s/it]"
     ]
    },
    {
     "name": "stdout",
     "output_type": "stream",
     "text": [
      "----\n",
      "\n",
      "\n",
      "The presence of a chlorine atom in the phenoxyacetic acid molecule can increase the melting point due to increased intermolecular forces, such as dipole-dipole interactions and hydrogen bonding. The chlorine atom can also increase the melting point due to increased polarity and increased molecular weight. The phenoxy group can also contribute to an increase in melting point due to increased hydrogen bonding capability. The methyl group can contribute to a decrease in melting point due to increased rotational freedom and flexibility.\n",
      "##Prediction: 45.0\n",
      "\n",
      "\n",
      "#Problem\n",
      "actual:  108.0 predicted:  45.0\n",
      "promlem 15 / 50\n"
     ]
    },
    {
     "name": "stderr",
     "output_type": "stream",
     "text": [
      " 30%|███       | 15/50 [06:42<10:08, 17.39s/it]"
     ]
    },
    {
     "name": "stdout",
     "output_type": "stream",
     "text": [
      "----\n",
      "\n",
      "\n",
      "##Prediction: 120.0\n",
      "\n",
      "\n",
      "#Problem\n",
      "actual:  208.0 predicted:  120.0\n",
      "promlem 16 / 50\n"
     ]
    },
    {
     "name": "stderr",
     "output_type": "stream",
     "text": [
      " 32%|███▏      | 16/50 [06:45<07:17, 12.88s/it]"
     ]
    },
    {
     "name": "stdout",
     "output_type": "stream",
     "text": [
      "----\n",
      "\n",
      "\n",
      "##Prediction: 55.0\n",
      "\n",
      "\n",
      "#Problem\n",
      "actual:  -63.0 predicted:  55.0\n",
      "promlem 17 / 50\n"
     ]
    },
    {
     "name": "stderr",
     "output_type": "stream",
     "text": [
      " 34%|███▍      | 17/50 [07:04<08:03, 14.66s/it]"
     ]
    },
    {
     "name": "stdout",
     "output_type": "stream",
     "text": [
      "----\n",
      "\n",
      "\n",
      "The base unit pyrrole has a melting point of 5.5 degrees Celsius. The presence of a carboxylic acid group typically raises the melting point due to hydrogen bonding and increased polarity. A rough estimate for its contribution could be +50 degrees. The pyrrole ring itself has a melting point of 5.5 degrees Celsius. The methyl group attached to the pyrrole can increase the melting point due to increased molecular weight and rigidity. An estimated contribution might be +5 degrees.\n",
      "##Prediction: 60.0\n",
      "\n",
      "\n",
      "#Problem\n",
      "actual:  247.5 predicted:  60.0\n",
      "promlem 18 / 50\n"
     ]
    },
    {
     "name": "stderr",
     "output_type": "stream",
     "text": [
      " 36%|███▌      | 18/50 [07:15<07:17, 13.68s/it]"
     ]
    },
    {
     "name": "stdout",
     "output_type": "stream",
     "text": [
      "----\n",
      "\n",
      "\n",
      "Benzimidazole itself has a melting point of 5.5 degrees Celsius due to its planarity and rigidity. The presence of an ethyl group adds bulkiness and steric hindrance, which can increase the melting point. An estimated contribution for the ethyl group could be +20 degrees.\n",
      "##Prediction: 75.5\n",
      "\n",
      "\n",
      "#Problem\n",
      "actual:  175.0 predicted:  75.5\n",
      "promlem 19 / 50\n"
     ]
    },
    {
     "name": "stderr",
     "output_type": "stream",
     "text": [
      " 38%|███▊      | 19/50 [07:41<09:00, 17.45s/it]"
     ]
    },
    {
     "name": "stdout",
     "output_type": "stream",
     "text": [
      "----\n",
      "\n",
      "\n",
      "The melting point of a compound is influenced by various factors such as the molecular weight, symmetry, intermolecular forces, and polarity. Dimethyl Sulfide's base structure is a simple hydrocarbon chain with a methyl group attached to each carbon atom. The presence of two methyl groups adds to the molecular weight and provides some symmetry, possibly influencing the melting point positively. The sulfur atom also contributes to the melting point due to its polar nature and capability to form strong dipole-dipole interactions. The methyl groups also contribute to the melting point due to their rigidity and potential for intermolecular hydrogen bonding.\n",
      "##Prediction: 105.0\n",
      "\n",
      "\n",
      "#Problem\n",
      "actual:  -83.0 predicted:  105.0\n",
      "promlem 20 / 50\n"
     ]
    },
    {
     "name": "stderr",
     "output_type": "stream",
     "text": [
      " 40%|████      | 20/50 [08:13<10:48, 21.63s/it]"
     ]
    },
    {
     "name": "stdout",
     "output_type": "stream",
     "text": [
      "----\n",
      "\n",
      "\n",
      "The melting point of this compound is expected to be influenced by the following factors:\n",
      "- Chlorine atoms: Each chlorine atom contributes to a small increase in melting point due to increased molecular weight and polarity. An estimated contribution might be around +5 degrees.\n",
      "- Dioxin ring: The presence of a dioxin ring can contribute to a significant increase in melting point due to increased molecular weight and rigidity. An estimated contribution might be around +100 degrees.\n",
      "- Chlorine substituents: The chlorine substituents on the dioxin ring can increase the melting point due to increased polarity and hydrogen bonding. An estimated contribution might be around +20 degrees.\n",
      "- Molecular weight: The presence of multiple chlorine atoms and a dioxin ring can contribute to a significant increase in molecular weight, which can influence the melting point. An estimated contribution might be around +50 degrees.\n",
      "##Prediction: 175.0\n",
      "\n",
      "\n",
      "#Problem\n",
      "actual:  264.0 predicted:  175.0\n",
      "promlem 21 / 50\n"
     ]
    },
    {
     "name": "stderr",
     "output_type": "stream",
     "text": [
      " 42%|████▏     | 21/50 [08:35<10:37, 22.00s/it]"
     ]
    },
    {
     "name": "stdout",
     "output_type": "stream",
     "text": [
      "----\n",
      "\n",
      "\n",
      "The base compound, pyridine, has a melting point of 10.5 degrees Celsius. The nitro group raises the melting point due to its electronegativity and increased molecular weight. The amino group can also contribute to the melting point due to its basicity and increased molecular weight. The presence of a nitro group can increase the melting point due to its electronegativity and increased molecular weight. The amino group can also contribute to the melting point due to its basicity and increased molecular weight. The nitro group can increase the melting point by approximately +50 degrees Celsius, while the amino group can increase it by approximately +20 degrees Celsius.\n",
      "##Prediction: 125.0\n",
      "\n",
      "\n",
      "#Problem\n",
      "actual:  203.0 predicted:  125.0\n",
      "promlem 22 / 50\n"
     ]
    },
    {
     "name": "stderr",
     "output_type": "stream",
     "text": [
      " 44%|████▍     | 22/50 [09:53<17:59, 38.54s/it]"
     ]
    },
    {
     "name": "stdout",
     "output_type": "stream",
     "text": [
      "----\n",
      "\n",
      "\n",
      "The compound ethyl 5-methyl-1-(4-methylphenyl)-4-{[5-(2-methylphenyl)-4,6-dioxo-4,5,6,6a-tetrahydro-3aH-pyrrolo[3,4-d]isoxazol-3-yl]carbonyl}-1H-pyrazole-3-carboxylate has a complex structure with multiple functional groups. We will consider each group's impact on the melting point:\n",
      "\n",
      "- Methyl group: A methyl group adds bulk and raises the melting point due to increased molecular weight. Estimated increase of +20°C.\n",
      "- Benzene ring: A phenyl group in a benzene ring contributes to melting point due to increased molecular weight and potential for intermolecular hydrogen bonding. Estimated increase of +60°C.\n",
      "- Methylene bridge: A small methylene bridge adds rigidity and potential for hydrogen bonding. Estimated increase of +5°C.\n",
      "- Carbonyl group: A carbonyl group contributes to melting point due to increased molecular weight and potential for hydrogen bonding. Estimated increase of +20°C.\n",
      "- Hydroxyl group: A hydroxyl group capable of hydrogen bonding. Estimated increase of +5°C.\n",
      "- Tetrahydrofuran ring: A tetrahydrofuran ring contributes to melting point due to increased molecular weight and potential for intermolecular hydrogen bonding. Estimated increase of +40°C.\n",
      "- Pyrrole ring: A pyrrole ring contributes to melting point due to\n",
      "promlem 23 / 50\n"
     ]
    },
    {
     "name": "stderr",
     "output_type": "stream",
     "text": [
      " 46%|████▌     | 23/50 [10:29<17:05, 37.97s/it]"
     ]
    },
    {
     "name": "stdout",
     "output_type": "stream",
     "text": [
      "----\n",
      "\n",
      "\n",
      "Benzoximate has a melting point prediction based on its structural features:\n",
      "\n",
      "- Benzene ring: A planar, aromatic ring contributes to melting point through increased molecular weight and potential for intermolecular interactions. Estimated increase of +60.\n",
      "- Carbonyl group: A polar functional group capable of forming hydrogen bonds, adding rigidity and potential for intermolecular interactions. Estimated increase of +30.\n",
      "- Methyl group: A small methyl group adds steric bulk and rigidity, estimated to increase melting point by +5.\n",
      "- Chlorine: A polar functional group capable of forming hydrogen bonds, adding rigidity and potential for intermolecular interactions. Estimated increase of +10.\n",
      "\n",
      "Starting with a base melting point of around -40°C for simple long chain hydrocarbons, these adjustments lead to a total estimation.\n",
      "##Prediction: 105.0\n",
      "\n",
      "\n",
      "#Problem\n",
      "actual:  73.0 predicted:  105.0\n",
      "promlem 24 / 50\n"
     ]
    },
    {
     "name": "stderr",
     "output_type": "stream",
     "text": [
      " 48%|████▊     | 24/50 [11:00<15:30, 35.80s/it]"
     ]
    },
    {
     "name": "stdout",
     "output_type": "stream",
     "text": [
      "----\n",
      "\n",
      "\n",
      "The compound (2E)-3-[5-(4-bromophenyl)-2-furyl]-1-(2-furyl)prop-2-en-1-one has a melting point due to its molecular structure. The presence of a bromine atom on the phenyl group can increase the melting point due to its increased electronegativity and polarity. The furan ring adds rigidity and electronegativity, which can also increase the melting point. The methyl group attached to the phenyl ring can increase the melting point due to its bulkiness and steric hindrance. The carbonyl group on the prop-2-en-1-one unit can also contribute to the melting point due to its polarity and potential hydrogen bonding capabilities.\n",
      "##Prediction: 120.5\n",
      "\n",
      "\n",
      "#Problem\n",
      "actual:  165.0 predicted:  120.5\n",
      "promlem 25 / 50\n"
     ]
    },
    {
     "name": "stderr",
     "output_type": "stream",
     "text": [
      " 50%|█████     | 25/50 [11:59<17:52, 42.89s/it]"
     ]
    },
    {
     "name": "stdout",
     "output_type": "stream",
     "text": [
      "----\n",
      "\n",
      "\n",
      "The compound 5,5-Dimethyl-2-[(2-methylphenyl)hydrazono]cyclohexane-1,3-dione has a complex structure with multiple functional groups that contribute to its melting point. The base structure of cyclohexane has a melting point of approximately -10°C. The methyl groups attached to the cyclohexane ring increase the molecular weight and steric hindrance, which typically raises the melting point. Each methyl group can contribute approximately +20°C to the melting point. The phenyl group attached to the hydrazine ring can contribute to the melting point due to its pi-pi stacking interactions and increased molecular complexity. Estimate an increase of approximately +60°C. The hydrazine group itself can also contribute to the melting point due to its polarity and potential for hydrogen bonding. Estimate an increase of approximately +20°C. The presence of the cyclohexane ring adds rigidity and planarity to the molecule, which can increase the melting point. Estimate an increase of approximately +20°C. The overall estimated increase in melting point due to the functional groups is: -10 (base) + 20 (methyl groups) + 60 (phenyl group) + 20 (hydrazine group) + 20 (cyclohexane ring) = 130°C.\n",
      "##Prediction: 130.0\n",
      "\n",
      "\n",
      "#Problem\n",
      "actual:  109.0 predicted:  130.0\n",
      "promlem 26 / 50\n"
     ]
    },
    {
     "name": "stderr",
     "output_type": "stream",
     "text": [
      " 52%|█████▏    | 26/50 [12:02<12:17, 30.71s/it]"
     ]
    },
    {
     "name": "stdout",
     "output_type": "stream",
     "text": [
      "----\n",
      "\n",
      "\n",
      "##Prediction: 55.0\n",
      "\n",
      "\n",
      "#Problem\n",
      "actual:  161.35 predicted:  55.0\n",
      "promlem 27 / 50\n"
     ]
    },
    {
     "name": "stderr",
     "output_type": "stream",
     "text": [
      " 54%|█████▍    | 27/50 [12:46<13:22, 34.90s/it]"
     ]
    },
    {
     "name": "stdout",
     "output_type": "stream",
     "text": [
      "----\n",
      "\n",
      "\n",
      "The compound ethyl 2-amino-4-(3,4-dimethylphenyl)thiophene-3-carboxylate has a melting point that can be predicted by considering its structural features:\n",
      "\n",
      "- Thiophene ring: A planar, rigid, and polar group, contributing to intermolecular hydrogen bonding. Estimated increase of +40.\n",
      "- Amino group: A nitrogen atom capable of forming hydrogen bonds. Estimated increase of +20.\n",
      "- Carboxyl group: A carboxyl group can participate in dipole-dipole interactions, estimated at +5.\n",
      "- Dimethyl phenyl group: A rigid and planar group, potentially contributing to increased melting point due to increased molecular weight and steric hindrance. Estimated increase of +20.\n",
      "- Ethyl group: A small, flexible group, potentially contributing to a decrease in melting point due to reduced molecular weight and increased rotational freedom. Estimated decrease of -10.\n",
      "\n",
      "Considering these structural features, a base melting point of around 20°C for simple long chain hydrocarbons is adjusted.\n",
      "##Prediction: 105.0\n",
      "\n",
      "\n",
      "#Problem\n",
      "actual:  82.0 predicted:  105.0\n",
      "promlem 28 / 50\n"
     ]
    },
    {
     "name": "stderr",
     "output_type": "stream",
     "text": [
      " 56%|█████▌    | 28/50 [13:22<12:54, 35.23s/it]"
     ]
    },
    {
     "name": "stdout",
     "output_type": "stream",
     "text": [
      "----\n",
      "\n",
      "\n",
      "The melting point of naphthalen-2-yl dimethyldithiocarbamate can be predicted by considering the structural features of the molecule:\n",
      "\n",
      "- Naphthalene ring: The presence of a fused benzene ring system adds rigidity and potential for intermolecular hydrogen bonding. Estimated to increase melting point by +40 over a basic hydrocarbon backbone.\n",
      "- Methyl groups: Two methyl groups contribute to melting point elevation through dipole-dipole interactions. Estimated at +5 per group, giving an increase of +10.\n",
      "- Dithiocarbamate group: The sulfur atom and nitrogen atom contribute to melting point elevation through dipole-dipole interactions. Estimated at +10.\n",
      "\n",
      "Starting with a base melting point of around 20°C for simple long chain hydrocarbons, these adjustments lead to a total estimation.\n",
      "##Prediction: 135.0\n",
      "\n",
      "\n",
      "#Problem\n",
      "actual:  114.0 predicted:  135.0\n",
      "promlem 29 / 50\n"
     ]
    },
    {
     "name": "stderr",
     "output_type": "stream",
     "text": [
      " 58%|█████▊    | 29/50 [14:08<13:26, 38.43s/it]"
     ]
    },
    {
     "name": "stdout",
     "output_type": "stream",
     "text": [
      "----\n",
      "\n",
      "\n",
      "The melting point of 6-fluoro-2,3-dimethoxybenzaldehyde can be predicted by considering the functional groups present in the molecule:\n",
      "\n",
      "* Fluorine: Fluorine atoms can increase the melting point due to their high electronegativity and increased molecular weight. Estimated increase of +20.\n",
      "* Methoxy groups: Two methoxy groups can participate in hydrogen bonding, potentially increasing the melting point by +10 each.\n",
      "* Benzene ring: The presence of a benzene ring contributes to the melting point due to its planarity and rigidity. Estimated increase of +10.\n",
      "* Aldehyde group: The aldehyde group can participate in hydrogen bonding and increase the melting point. Estimated increase of +5.\n",
      "\n",
      "Starting with a base melting point of around 20°C for simple long chain hydrocarbons, these adjustments lead to a total estimation.\n",
      "##Prediction: 95.0\n",
      "\n",
      "\n",
      "#Problem\n",
      "actual:  46.0 predicted:  95.0\n",
      "promlem 30 / 50\n"
     ]
    },
    {
     "name": "stderr",
     "output_type": "stream",
     "text": [
      " 60%|██████    | 30/50 [14:11<09:13, 27.67s/it]"
     ]
    },
    {
     "name": "stdout",
     "output_type": "stream",
     "text": [
      "----\n",
      "\n",
      "\n",
      "##Prediction: 105.0\n",
      "\n",
      "\n",
      "#Problem\n",
      "actual:  160.0 predicted:  105.0\n",
      "promlem 31 / 50\n"
     ]
    },
    {
     "name": "stderr",
     "output_type": "stream",
     "text": [
      " 62%|██████▏   | 31/50 [14:13<06:22, 20.15s/it]"
     ]
    },
    {
     "name": "stdout",
     "output_type": "stream",
     "text": [
      "----\n",
      "\n",
      "\n",
      "##Prediction: 105.0\n",
      "\n",
      "\n",
      "#Problem\n",
      "actual:  15.0 predicted:  105.0\n",
      "promlem 32 / 50\n"
     ]
    },
    {
     "name": "stderr",
     "output_type": "stream",
     "text": [
      " 64%|██████▍   | 32/50 [14:27<05:25, 18.11s/it]"
     ]
    },
    {
     "name": "stdout",
     "output_type": "stream",
     "text": [
      "----\n",
      "\n",
      "\n",
      "The presence of bromine atoms in a molecule can increase the melting point due to increased molecular weight and polarity. Each bromine atom adds roughly +70 degrees Celsius. The tribenzene skeleton itself contributes to the melting point due to its planarity and increased molecular weight. The presence of three benzene rings adds roughly +10 degrees Celsius.\n",
      "##Prediction: 180.0\n",
      "\n",
      "\n",
      "#Problem\n",
      "actual:  153.0 predicted:  180.0\n",
      "promlem 33 / 50\n"
     ]
    },
    {
     "name": "stderr",
     "output_type": "stream",
     "text": [
      " 66%|██████▌   | 33/50 [14:55<05:58, 21.06s/it]"
     ]
    },
    {
     "name": "stdout",
     "output_type": "stream",
     "text": [
      "----\n",
      "\n",
      "\n",
      "The compound methylenedianiline has a structure composed of a phenyl ring, a methylene bridge, and an amino group. The phenyl ring contributes to the melting point due to its planarity and rigidity, with a rough estimate of +50 degrees. The methylene bridge adds a small contribution of +5 degrees due to its flexibility. The amino group can contribute to the melting point due to its polarity and hydrogen bonding potential, estimated at +40 degrees. The presence of multiple polar functional groups in one molecule can lead to synergistic effects, amplifying the increase in melting point beyond the sum of individual contributions.\n",
      "##Prediction: 145.0\n",
      "\n",
      "\n",
      "#Problem\n",
      "actual:  55.0 predicted:  145.0\n",
      "promlem 34 / 50\n"
     ]
    },
    {
     "name": "stderr",
     "output_type": "stream",
     "text": [
      " 68%|██████▊   | 34/50 [15:08<05:00, 18.78s/it]"
     ]
    },
    {
     "name": "stdout",
     "output_type": "stream",
     "text": [
      "----\n",
      "\n",
      "\n",
      "The base unit benzene has a melting point of 5.5 degrees Celsius. The presence of an ethyl group attached to the benzene ring can increase the melting point due to increased molecular weight and rigidity. An estimated contribution might be +20 degrees.\n",
      "##Prediction: 27.5\n",
      "\n",
      "\n",
      "#Problem\n",
      "actual:  -34.0 predicted:  27.5\n",
      "promlem 35 / 50\n"
     ]
    },
    {
     "name": "stderr",
     "output_type": "stream",
     "text": [
      " 70%|███████   | 35/50 [15:11<03:28, 13.89s/it]"
     ]
    },
    {
     "name": "stdout",
     "output_type": "stream",
     "text": [
      "----\n",
      "\n",
      "\n",
      "##Prediction: 105.0\n",
      "\n",
      "\n",
      "#Problem\n",
      "actual:  42.0 predicted:  105.0\n",
      "promlem 36 / 50\n"
     ]
    },
    {
     "name": "stderr",
     "output_type": "stream",
     "text": [
      " 72%|███████▏  | 36/50 [15:26<03:21, 14.41s/it]"
     ]
    },
    {
     "name": "stdout",
     "output_type": "stream",
     "text": [
      "----\n",
      "\n",
      "\n",
      "The presence of a nitro functional group can increase the melting point due to its electronegativity and ability to participate in dipole-dipole interactions. The isopropyl group can also contribute to the melting point due to its bulkiness and potential for hydrogen bonding. The aromatic ring system can also contribute to the melting point due to its planarity and potential for π-π stacking.\n",
      "##Prediction: 130.0\n",
      "\n",
      "\n",
      "#Problem\n",
      "actual:  65.0 predicted:  130.0\n",
      "promlem 37 / 50\n"
     ]
    },
    {
     "name": "stderr",
     "output_type": "stream",
     "text": [
      " 74%|███████▍  | 37/50 [16:03<04:34, 21.15s/it]"
     ]
    },
    {
     "name": "stdout",
     "output_type": "stream",
     "text": [
      "----\n",
      "\n",
      "\n",
      "The compound 1,2,2,3-tetrachloro-1,1,3,3-tetrafluoropropane has a base structure of a simple alkane with a melting point of approximately -18°C. The presence of chlorine and fluorine atoms adds polarity and electronegativity, which can increase the melting point due to increased intermolecular interactions. The chlorine atoms contribute to hydrogen bonding and dipole-dipole interactions, while the fluorine atoms increase the molecular weight and introduce a polar and electronegative atom. The estimated increase for each chlorine atom is approximately +20°C, and for each fluorine atom, +40°C. The estimated contribution for the tetrafluoropropane group is approximately +20°C due to its increased molecular weight.\n",
      "##Prediction: 20.0\n",
      "\n",
      "\n",
      "#Problem\n",
      "actual:  -42.9 predicted:  20.0\n",
      "promlem 38 / 50\n"
     ]
    },
    {
     "name": "stderr",
     "output_type": "stream",
     "text": [
      " 76%|███████▌  | 38/50 [16:07<03:09, 15.83s/it]"
     ]
    },
    {
     "name": "stdout",
     "output_type": "stream",
     "text": [
      "----\n",
      "\n",
      "\n",
      "##Prediction: 125.0\n",
      "\n",
      "\n",
      "#Problem\n",
      "actual:  279.0 predicted:  125.0\n",
      "promlem 39 / 50\n"
     ]
    },
    {
     "name": "stderr",
     "output_type": "stream",
     "text": [
      " 78%|███████▊  | 39/50 [16:09<02:11, 11.92s/it]"
     ]
    },
    {
     "name": "stdout",
     "output_type": "stream",
     "text": [
      "----\n",
      "\n",
      "\n",
      "##Prediction: 105.0\n",
      "\n",
      "\n",
      "#Problem\n",
      "actual:  180.0 predicted:  105.0\n",
      "promlem 40 / 50\n"
     ]
    },
    {
     "name": "stderr",
     "output_type": "stream",
     "text": [
      " 80%|████████  | 40/50 [16:12<01:32,  9.26s/it]"
     ]
    },
    {
     "name": "stdout",
     "output_type": "stream",
     "text": [
      "----\n",
      "\n",
      "\n",
      "##Prediction: 100.0\n",
      "\n",
      "\n",
      "#Problem\n",
      "actual:  230.0 predicted:  100.0\n",
      "promlem 41 / 50\n"
     ]
    },
    {
     "name": "stderr",
     "output_type": "stream",
     "text": [
      " 82%|████████▏ | 41/50 [16:34<01:56, 12.91s/it]"
     ]
    },
    {
     "name": "stdout",
     "output_type": "stream",
     "text": [
      "----\n",
      "\n",
      "\n",
      "Heroin is a complex molecule with multiple functional groups and structural features that contribute to its melting point. The base compound, morphine, has a melting point of 105 degrees Celsius. The addition of a benzene ring and a methyl group increases the molecular weight and steric hindrance, which can contribute to a higher melting point. The nitro functional group can increase the melting point due to its electronegative nature and potential to form hydrogen bonds. The presence of a carbonyl group can also contribute to a higher melting point due to increased polarity and potential for hydrogen bonding. The methyl group can also contribute to a higher melting point due to its bulkiness and increased molecular weight.\n",
      "##Prediction: 130.5\n",
      "\n",
      "\n",
      "#Problem\n",
      "actual:  173.0 predicted:  130.5\n",
      "promlem 42 / 50\n"
     ]
    },
    {
     "name": "stderr",
     "output_type": "stream",
     "text": [
      " 84%|████████▍ | 42/50 [17:47<04:08, 31.03s/it]"
     ]
    },
    {
     "name": "stdout",
     "output_type": "stream",
     "text": [
      "----\n",
      "\n",
      "\n",
      "The compound's melting point can be predicted by considering its functional groups:\n",
      "\n",
      "- Benzene ring: The base unit benzene has a melting point of 5.5 degrees Celsius.\n",
      "- Chlorine atom: Chlorine atoms increase the melting point due to increased molecular weight and polarity. Estimated contribution could be +50 degrees.\n",
      "- Nitrile group: Nitriles typically raise the melting point due to hydrogen bonding and increased polarity. Estimated contribution could be +20 degrees.\n",
      "- Amino group: Amines also raise the melting point due to strong hydrogen bonding and resonance stability. Estimated contribution could be +40 degrees.\n",
      "- Cumulative impact: The individual contributions of each group can be summed up, but it's also necessary to consider that the presence of multiple polar and hydrogen bonding functional groups in one molecule can lead to synergistic effects, amplifying the increase in melting point beyond the sum of individual contributions.\n",
      "Based on the above considerations, a rough estimate would be 5.5 (for the benzene rings) + 50 (for the chlorine atom) + 20 (for the nitrile group) + 40 (for the amino group) = 125 degrees Celsius. Adding a consideration for synergistic effects, a more refined estimate taking into account the cumulative polar and hydrogen bonding functional groups might be approximated as +80 degrees, leading to a predicted melting point of 205 degrees Celsius.\n",
      "##Prediction: 205.0\n",
      "\n",
      "\n",
      "#Problem\n",
      "actual:  96.0 predicted:  205.0\n",
      "promlem 43 / 50\n"
     ]
    },
    {
     "name": "stderr",
     "output_type": "stream",
     "text": [
      " 86%|████████▌ | 43/50 [17:50<02:37, 22.45s/it]"
     ]
    },
    {
     "name": "stdout",
     "output_type": "stream",
     "text": [
      "----\n",
      "\n",
      "\n",
      "##Prediction: -10.5\n",
      "\n",
      "\n",
      "#Problem\n",
      "actual:  -80.0 predicted:  -10.5\n",
      "promlem 44 / 50\n"
     ]
    }
   ],
   "source": [
    "#Loop: training, evaluation, data generation\n",
    "for generation in range(max_generations):\n",
    "    clear_output()\n",
    "    print(f\"Generation: {generation}\")\n",
    "    #prepare train dataset\n",
    "\n",
    "    ## reason data made by GPT4\n",
    "    train_dataset=copy.deepcopy(example_reasoning_dataset)\n",
    "\n",
    "    print(f\"GPT-generated reasons: {len(train_dataset)}\")\n",
    "\n",
    "    ## reason data made by model itself\n",
    "    for path in glob.glob(f\"{project_dir}/self_reasoning/*.json\"):\n",
    "        with open(path) as f:\n",
    "            train_dataset.append(json.load(f))\n",
    "\n",
    "    print(f\"All-generated reasons: {len(train_dataset)}\")\n",
    "    random.shuffle(train_dataset)\n",
    "\n",
    "    #train model\n",
    "    clean_vram()\n",
    "    model=init_model(model_name, r, lora_alpha, target_modules, bit=bit,device_map=device_map)\n",
    "    train_result=train_model(model,tokenizer,train_dataset,\n",
    "                    project_dir=project_dir,\n",
    "                    epochs=epochs,\n",
    "                    lr=lr,\n",
    "                    per_device_train_batch_size=per_device_train_batch_size,\n",
    "                    gradient_checkpointing=gradient_checkpointing,\n",
    "                    )\n",
    "\n",
    "    #eval\n",
    "\n",
    "    train_check_dataset=copy.deepcopy(train_dataset[:n_train_check])\n",
    "    random.shuffle(train_check_dataset)\n",
    "    train_eval_result=eval_model(model,tokenizer,train_check_dataset,\n",
    "                                f\"{project_dir}/eval\",\n",
    "                                n_prompt_examples=3,\n",
    "                                prompt_dataset=example_reasoning_dataset,\n",
    "                                prefix=f\"train_{generation}\"\n",
    "                                )\n",
    "\n",
    "    test_eval_result=eval_model(model,tokenizer,test_dataset,\n",
    "                                f\"{project_dir}/eval\",\n",
    "                                n_prompt_examples=3,\n",
    "                                prompt_dataset=example_reasoning_dataset,\n",
    "                                prefix=f\"test_{generation}\"\n",
    "                                )\n",
    "\n",
    "    #generate additional training data by self-reasoning\n",
    "    self_reasoning(model,tokenizer,base_train_dataset,\n",
    "                example_reasoning_dataset,project_dir,\n",
    "                generation=generation,\n",
    "                n_iterations=n_generation_iterations,\n",
    "                error_threshold=error_threshold,\n",
    "                n_max_trials=2)"
   ]
  },
  {
   "cell_type": "code",
   "execution_count": null,
   "metadata": {},
   "outputs": [],
   "source": []
  },
  {
   "cell_type": "code",
   "execution_count": null,
   "metadata": {},
   "outputs": [],
   "source": []
  }
 ],
 "metadata": {
  "kernelspec": {
   "display_name": "chemllm",
   "language": "python",
   "name": "python3"
  },
  "language_info": {
   "codemirror_mode": {
    "name": "ipython",
    "version": 3
   },
   "file_extension": ".py",
   "mimetype": "text/x-python",
   "name": "python",
   "nbconvert_exporter": "python",
   "pygments_lexer": "ipython3",
   "version": "3.10.0"
  }
 },
 "nbformat": 4,
 "nbformat_minor": 2
}
