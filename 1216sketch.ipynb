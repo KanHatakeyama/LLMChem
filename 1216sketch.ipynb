{
 "cells": [
  {
   "cell_type": "code",
   "execution_count": 1,
   "metadata": {},
   "outputs": [],
   "source": [
    "# 一通り動かしてみる\n",
    "\n",
    "#ライブラリの自動インポート\n",
    "%reload_ext autoreload\n",
    "%autoreload 2"
   ]
  },
  {
   "cell_type": "code",
   "execution_count": 12,
   "metadata": {},
   "outputs": [],
   "source": [
    "import pandas as pd\n",
    "import openai\n",
    "from tqdm import tqdm\n",
    "from src.utils.GPT import json_generate\n",
    "from src.qra_gen import generate_reason_and_predict"
   ]
  },
  {
   "cell_type": "code",
   "execution_count": 3,
   "metadata": {},
   "outputs": [],
   "source": [
    "#api_key\n",
    "from api_key import api_key\n",
    "openai.api_key = api_key"
   ]
  },
  {
   "cell_type": "code",
   "execution_count": 4,
   "metadata": {},
   "outputs": [
    {
     "data": {
      "text/plain": [
       "[{'mpC': 152.0,\n",
       "  'name': '3-phthalimidopropionic acid',\n",
       "  'smiles': 'c1ccc2c(c1)C(=O)N(C2=O)CCC(=O)O',\n",
       "  'csid': 69310,\n",
       "  'link': 'http://www.alfa.com/en/GP100W.pgm?DSSTK=L13535',\n",
       "  'source': 'Alfa Aesar'},\n",
       " {'mpC': 33.5,\n",
       "  'name': '1-naphthalenecarboxaldehyde',\n",
       "  'smiles': 'O=Cc2cccc1ccccc12',\n",
       "  'csid': 5960,\n",
       "  'link': 'http://www.srcinc.com/what-we-do/product.aspx?id=133',\n",
       "  'source': 'PHYSPROP'},\n",
       " {'mpC': 214.0,\n",
       "  'name': 'tabernanthine',\n",
       "  'smiles': 'COc4cc5nc1c(CCN3CC2CC1C3C(C2)CC)c5cc4',\n",
       "  'csid': 4265369,\n",
       "  'link': 'http://www.srcinc.com/what-we-do/product.aspx?id=133',\n",
       "  'source': 'PHYSPROP'}]"
      ]
     },
     "execution_count": 4,
     "metadata": {},
     "output_type": "execute_result"
    }
   ],
   "source": [
    "#laod dataset as dict\n",
    "csv_path=\"dataset/BradleyMeltingPointDataset_practice.csv\"\n",
    "df=pd.read_csv(csv_path)\n",
    "chemical_records=df.to_dict(orient='records')\n",
    "chemical_records[:3]"
   ]
  },
  {
   "cell_type": "code",
   "execution_count": 5,
   "metadata": {},
   "outputs": [],
   "source": [
    "#このプロンプトを変更\n",
    "\n",
    "# 質問文を生成するための指示\n",
    "qa_gen_command=\"\"\"\n",
    "Provide the quantitative reasons within 300 words so that a scientist, who does not know the melting point, can predict the value.\n",
    "We must quantitatively consider how the melting point shifts.\n",
    "I absolutely forbid you to make qualitative generalizations.\n",
    "\n",
    "#Bad example reasons\n",
    "## Its molecular weight compared to simpler aromatic compounds, contributing to a higher melting point. (qualitative discussion is practically meaningless!!!)\n",
    "## Therefore, the compound has a melting point of 110°C (Never include the answer in the reason!!).\n",
    "\n",
    "#Good example reasons\n",
    "## Benzene has a boiling point of 80 degrees, but toluene with a methyl group improves the boiling point by about +30 degrees due to its larger molecular weight and other reasons (+30 contribution).\n",
    "## Butane has a boiling point of -1°C, but butanol with a hydroxy group has a boiling point increase of about 115°C due to the strong influence of hydrogen bonding (+115 contribution).\n",
    "\n",
    "#Output: Reason key\n",
    "\"\"\"\n",
    "\n",
    "# 分子構造から物性を予測するための指示\n",
    "predict_command=\"\"\"\n",
    "Predict the melting point of the following compound.\n",
    "In any case, output some value.\n",
    "\n",
    "#Output: Value key\n",
    "\"\"\"\n",
    "\n",
    "#use GPT3.5 completion\n",
    "llm_ask_func=json_generate\n",
    "\n",
    "#if gen_reason=True, generate reason and predict\n",
    "#if gen_reason=False, only predict without reason (for control)\n",
    "gen_reason=True\n",
    "gen_reason=False"
   ]
  },
  {
   "cell_type": "code",
   "execution_count": 6,
   "metadata": {},
   "outputs": [],
   "source": []
  },
  {
   "cell_type": "code",
   "execution_count": 16,
   "metadata": {},
   "outputs": [
    {
     "name": "stderr",
     "output_type": "stream",
     "text": [
      "  0%|          | 0/10 [00:00<?, ?it/s]"
     ]
    },
    {
     "name": "stderr",
     "output_type": "stream",
     "text": [
      " 10%|█         | 1/10 [00:00<00:06,  1.36it/s]"
     ]
    },
    {
     "name": "stdout",
     "output_type": "stream",
     "text": [
      "'Value'\n"
     ]
    },
    {
     "name": "stderr",
     "output_type": "stream",
     "text": [
      " 90%|█████████ | 9/10 [00:13<00:01,  1.39s/it]"
     ]
    },
    {
     "name": "stdout",
     "output_type": "stream",
     "text": [
      "'Value'\n"
     ]
    },
    {
     "name": "stderr",
     "output_type": "stream",
     "text": [
      "100%|██████████| 10/10 [00:14<00:00,  1.45s/it]"
     ]
    },
    {
     "name": "stdout",
     "output_type": "stream",
     "text": [
      "'Value'\n"
     ]
    },
    {
     "name": "stderr",
     "output_type": "stream",
     "text": [
      "\n"
     ]
    }
   ],
   "source": [
    "\n",
    "\n",
    "completed_records=[]\n",
    "for record in tqdm(chemical_records):\n",
    "    try:\n",
    "        completed_record=generate_reason_and_predict(record[\"name\"],record[\"mpC\"],\n",
    "                                        qa_gen_command,\n",
    "                                        predict_command,\n",
    "                                        llm_ask_func=json_generate,\n",
    "                                        smiles=record[\"smiles\"],\n",
    "                                        gen_reason=gen_reason,\n",
    "                                        n_trials=3)\n",
    "    except Exception as e:\n",
    "        print(e)\n",
    "        completed_record=record\n",
    "\n",
    "    completed_records.append(completed_record)"
   ]
  },
  {
   "cell_type": "code",
   "execution_count": 17,
   "metadata": {},
   "outputs": [],
   "source": [
    "\n",
    "import datetime\n",
    "import json\n",
    "\n",
    "study_name=\"1216_practice10\"\n",
    "now=datetime.datetime.now()\n",
    "now_str=now.strftime(\"%Y%m%d_%H%M%S\")\n",
    "save_path=f\"results/{study_name}_{now_str}.json\"\n",
    "with open(save_path, 'w') as f:\n",
    "    json.dump(completed_records, f, indent=4, ensure_ascii=False)"
   ]
  },
  {
   "cell_type": "code",
   "execution_count": null,
   "metadata": {},
   "outputs": [],
   "source": []
  }
 ],
 "metadata": {
  "kernelspec": {
   "display_name": "mi",
   "language": "python",
   "name": "python3"
  },
  "language_info": {
   "codemirror_mode": {
    "name": "ipython",
    "version": 3
   },
   "file_extension": ".py",
   "mimetype": "text/x-python",
   "name": "python",
   "nbconvert_exporter": "python",
   "pygments_lexer": "ipython3",
   "version": "3.11.2"
  }
 },
 "nbformat": 4,
 "nbformat_minor": 2
}
