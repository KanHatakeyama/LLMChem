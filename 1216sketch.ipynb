{
 "cells": [
  {
   "cell_type": "code",
   "execution_count": 1,
   "metadata": {},
   "outputs": [],
   "source": [
    "# 一通り動かしてみる\n",
    "\n",
    "#ライブラリの自動インポート\n",
    "%reload_ext autoreload\n",
    "%autoreload 2"
   ]
  },
  {
   "cell_type": "code",
   "execution_count": 33,
   "metadata": {},
   "outputs": [],
   "source": [
    "import pandas as pd\n",
    "import openai\n",
    "import json\n",
    "from src.utils.prompt import prompt_ask_for_reason\n",
    "from src.utils.GPT import json_generate,mask_target_value"
   ]
  },
  {
   "cell_type": "code",
   "execution_count": 13,
   "metadata": {},
   "outputs": [],
   "source": [
    "#api_key\n",
    "from api_key import api_key\n",
    "openai.api_key = api_key"
   ]
  },
  {
   "cell_type": "code",
   "execution_count": 4,
   "metadata": {},
   "outputs": [
    {
     "data": {
      "text/plain": [
       "[{'mpC': 152.0,\n",
       "  'name': '3-phthalimidopropionic acid',\n",
       "  'smiles': 'c1ccc2c(c1)C(=O)N(C2=O)CCC(=O)O',\n",
       "  'csid': 69310,\n",
       "  'link': 'http://www.alfa.com/en/GP100W.pgm?DSSTK=L13535',\n",
       "  'source': 'Alfa Aesar'},\n",
       " {'mpC': 33.5,\n",
       "  'name': '1-naphthalenecarboxaldehyde',\n",
       "  'smiles': 'O=Cc2cccc1ccccc12',\n",
       "  'csid': 5960,\n",
       "  'link': 'http://www.srcinc.com/what-we-do/product.aspx?id=133',\n",
       "  'source': 'PHYSPROP'},\n",
       " {'mpC': 214.0,\n",
       "  'name': 'tabernanthine',\n",
       "  'smiles': 'COc4cc5nc1c(CCN3CC2CC1C3C(C2)CC)c5cc4',\n",
       "  'csid': 4265369,\n",
       "  'link': 'http://www.srcinc.com/what-we-do/product.aspx?id=133',\n",
       "  'source': 'PHYSPROP'}]"
      ]
     },
     "execution_count": 4,
     "metadata": {},
     "output_type": "execute_result"
    }
   ],
   "source": [
    "#laod dataset as dict\n",
    "csv_path=\"dataset/BradleyMeltingPointDataset_practice.csv\"\n",
    "df=pd.read_csv(csv_path)\n",
    "chemical_records=df.to_dict(orient='records')\n",
    "chemical_records[:3]"
   ]
  },
  {
   "cell_type": "code",
   "execution_count": 29,
   "metadata": {},
   "outputs": [
    {
     "name": "stdout",
     "output_type": "stream",
     "text": [
      "\n",
      "Provide the quantitative reasons within 300 words so that a scientist, who does not know the melting point, can predict the value.\n",
      "We must quantitatively consider how the melting point shifts.\n",
      "I absolutely forbid you to make qualitative generalizations.\n",
      "\n",
      "#Bad example reasons\n",
      "## Its molecular weight compared to simpler aromatic compounds, contributing to a higher melting point. (qualitative discussion is practically meaningless!!!)\n",
      "## Therefore, the compound has a melting point of 110°C (Never include the answer in the reason!!).\n",
      "\n",
      "#Good example reasons\n",
      "## Benzene has a boiling point of 80 degrees, but toluene with a methyl group improves the boiling point by about +30 degrees due to its larger molecular weight and other reasons (+30 contribution).\n",
      "## Butane has a boiling point of -1°C, but butanol with a hydroxy group has a boiling point increase of about 115°C due to the strong influence of hydrogen bonding (+115 contribution).\n",
      "\n",
      "#Output: Reason key\n",
      "\n",
      "Name: 3-phthalimidopropionic acid\n",
      "SMILES: c1ccc2c(c1)C(=O)N(C2=O)CCC(=O)O\n",
      "Value: 152.0\n",
      "Reason: \n"
     ]
    }
   ],
   "source": [
    "record=chemical_records[0]\n",
    "qa_gen_command=\"\"\"\n",
    "Provide the quantitative reasons within 300 words so that a scientist, who does not know the melting point, can predict the value.\n",
    "We must quantitatively consider how the melting point shifts.\n",
    "I absolutely forbid you to make qualitative generalizations.\n",
    "\n",
    "#Bad example reasons\n",
    "## Its molecular weight compared to simpler aromatic compounds, contributing to a higher melting point. (qualitative discussion is practically meaningless!!!)\n",
    "## Therefore, the compound has a melting point of 110°C (Never include the answer in the reason!!).\n",
    "\n",
    "#Good example reasons\n",
    "## Benzene has a boiling point of 80 degrees, but toluene with a methyl group improves the boiling point by about +30 degrees due to its larger molecular weight and other reasons (+30 contribution).\n",
    "## Butane has a boiling point of -1°C, but butanol with a hydroxy group has a boiling point increase of about 115°C due to the strong influence of hydrogen bonding (+115 contribution).\n",
    "\n",
    "#Output: Reason key\n",
    "\"\"\"\n",
    "prompt=prompt_ask_for_reason(name=record['name'],value=record[\"mpC\"],\n",
    "                      smiles=record['smiles'],command=qa_gen_command)\n",
    "print(prompt)"
   ]
  },
  {
   "cell_type": "code",
   "execution_count": 30,
   "metadata": {},
   "outputs": [],
   "source": [
    "res=json_generate(prompt=prompt)"
   ]
  },
  {
   "cell_type": "code",
   "execution_count": 35,
   "metadata": {},
   "outputs": [
    {
     "data": {
      "text/plain": [
       "'3-phthalimidopropionic acid has a predicted melting point of approximately [MASK]°C due to the presence of the phthalimide group, which is known to increase the melting point of compounds by approximately +40°C based on similar structures. The propionic acid moiety also contributes to the higher melting point through intermolecular interactions, resulting in an additional estimated increase of +20°C. Therefore, the combined structural features of the compound suggest a significant elevation in melting point, supporting the prediction of a value around [MASK]°C.'"
      ]
     },
     "execution_count": 35,
     "metadata": {},
     "output_type": "execute_result"
    }
   ],
   "source": [
    "mask_target_value(res[\"Reason\"],record[\"mpC\"])"
   ]
  },
  {
   "cell_type": "code",
   "execution_count": null,
   "metadata": {},
   "outputs": [],
   "source": []
  },
  {
   "cell_type": "code",
   "execution_count": null,
   "metadata": {},
   "outputs": [],
   "source": []
  }
 ],
 "metadata": {
  "kernelspec": {
   "display_name": "mi",
   "language": "python",
   "name": "python3"
  },
  "language_info": {
   "codemirror_mode": {
    "name": "ipython",
    "version": 3
   },
   "file_extension": ".py",
   "mimetype": "text/x-python",
   "name": "python",
   "nbconvert_exporter": "python",
   "pygments_lexer": "ipython3",
   "version": "3.11.2"
  }
 },
 "nbformat": 4,
 "nbformat_minor": 2
}
