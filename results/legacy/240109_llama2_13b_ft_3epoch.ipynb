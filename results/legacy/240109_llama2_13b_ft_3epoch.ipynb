{
 "cells": [
  {
   "cell_type": "code",
   "execution_count": null,
   "metadata": {},
   "outputs": [],
   "source": [
    "# finetuning llama2"
   ]
  },
  {
   "cell_type": "markdown",
   "metadata": {},
   "source": [
    "# (Q)分子構造+(R)理由+(A)物性データセットのLLMによる学習と予測\n",
    "- Q&A: 融点データセットを使用\n",
    "- R: GPT4を使い､Q&Aをもとに自動生成\n",
    "- 強化学習をしてみる"
   ]
  },
  {
   "cell_type": "code",
   "execution_count": null,
   "metadata": {},
   "outputs": [],
   "source": [
    "#!pip install transformers==4.35.0\n",
    "#!pip install peft==0.5.0\n",
    "#!pip install bitsandbytes==0.41.1\n",
    "#!pip install accelerate==0.23.0\n",
    "#!pip install flash-attn==2.3.1.post1\n",
    "#!pip install datasets==2.14.5"
   ]
  },
  {
   "cell_type": "code",
   "execution_count": 1,
   "metadata": {},
   "outputs": [
    {
     "name": "stderr",
     "output_type": "stream",
     "text": [
      "/home/setup/miniconda3/envs/chemllm/lib/python3.10/site-packages/tqdm/auto.py:21: TqdmWarning: IProgress not found. Please update jupyter and ipywidgets. See https://ipywidgets.readthedocs.io/en/stable/user_install.html\n",
      "  from .autonotebook import tqdm as notebook_tqdm\n"
     ]
    }
   ],
   "source": [
    "import os\n",
    "os.environ[\"CUDA_VISIBLE_DEVICES\"]=\"1\"\n",
    "\n",
    "from transformers import AutoModelForCausalLM, BitsAndBytesConfig\n",
    "import torch\n",
    "from peft import LoraConfig, get_peft_model\n",
    "from transformers import AutoTokenizer,pipeline\n",
    "from datasets import Dataset\n",
    "import copy\n",
    "from tqdm import tqdm\n",
    "#問題設定: はじめのN件をテストデータにする\n",
    "n_test=50"
   ]
  },
  {
   "cell_type": "code",
   "execution_count": 2,
   "metadata": {},
   "outputs": [],
   "source": [
    "#ハイパラ関連\n",
    "#モデル名\n",
    "model_size=7\n",
    "#model_size=13\n",
    "#model_size=70\n",
    "model_name=f\"meta-llama/Llama-2-{model_size}b-chat-hf\"\n",
    "\n",
    "model_name=\"ahxt/LiteLlama-460M-1T\"\n",
    "model_name = \"PY007/TinyLlama-1.1B-Chat-v0.3\"\n",
    "#LoRA関連\n",
    "r=32\n",
    "lora_alpha=r\n",
    "bit=16\n",
    "#bit=8\n",
    "#bit=4\n",
    "\n",
    "#LoRAのadapter\n",
    "target_modules= [\n",
    "    #\"embed_tokens\",\n",
    "    \"lm_head\",\n",
    "    #\"q_proj\",\n",
    "    #\"k_proj\",\n",
    "    \"v_proj\",\n",
    "    \"o_proj\",\n",
    "    \"gate_proj\",\n",
    "    \"up_proj\",\n",
    "    #\"down_proj\",\n",
    "]\n",
    "\n",
    "#学習関連\n",
    "#gradient_checkpointing =True  #vramの節約をしたい場合\n",
    "gradient_checkpointing =False\n",
    "per_device_train_batch_size=1\n",
    "epochs=3\n",
    "lr=10**-5\n",
    "do_train=True\n",
    "#do_train=False"
   ]
  },
  {
   "cell_type": "code",
   "execution_count": 3,
   "metadata": {},
   "outputs": [],
   "source": [
    "\n",
    "device_map=\"auto\"\n",
    "\n",
    "bnb_config = BitsAndBytesConfig(\n",
    "    load_in_4bit=True,\n",
    "    bnb_4bit_use_double_quant=True,\n",
    "    bnb_4bit_quant_type=\"nf4\",\n",
    "    bnb_4bit_compute_dtype=torch.bfloat16\n",
    ")\n",
    "\n",
    "def init_model(model_name, r, lora_alpha, target_modules, bit=4):\n",
    "    if bit == 4:\n",
    "        print(\"Using 4-bit mode\")\n",
    "        model = AutoModelForCausalLM.from_pretrained(model_name,\n",
    "                                                     quantization_config=bnb_config,\n",
    "                                                     device_map=device_map,\n",
    "                                                     use_flash_attention_2=True,\n",
    "                                                     )\n",
    "    elif bit == 8:\n",
    "        print(\"Using 8-bit mode\")\n",
    "        model = AutoModelForCausalLM.from_pretrained(model_name,\n",
    "                                                     load_in_8bit=True,\n",
    "                                                     device_map=device_map,\n",
    "                                                     use_flash_attention_2=True,\n",
    "                                                     )\n",
    "    elif bit == 16:\n",
    "        print(\"Using fp16 mode\")\n",
    "        model = AutoModelForCausalLM.from_pretrained(model_name,\n",
    "                                                     device_map=device_map,\n",
    "                                                     torch_dtype=torch.float16,\n",
    "                                                     use_flash_attention_2=True,\n",
    "                                                     )\n",
    "    else:\n",
    "        raise ValueError(\"bit must be 4 or 16\")\n",
    "\n",
    "    if len(target_modules)==0:\n",
    "        return model\n",
    "    peft_config = LoraConfig(\n",
    "        task_type=\"CAUSAL_LM\", inference_mode=False, r=r, lora_alpha=lora_alpha,\n",
    "        lora_dropout=0.1,\n",
    "        target_modules=target_modules,\n",
    "    )\n",
    "    model = get_peft_model(model, peft_config)\n",
    "    return model\n"
   ]
  },
  {
   "cell_type": "code",
   "execution_count": 4,
   "metadata": {},
   "outputs": [
    {
     "name": "stdout",
     "output_type": "stream",
     "text": [
      "Using fp16 mode\n"
     ]
    },
    {
     "name": "stderr",
     "output_type": "stream",
     "text": [
      "Downloading config.json: 100%|██████████| 707/707 [00:00<00:00, 4.07MB/s]\n",
      "Downloading model.safetensors: 100%|██████████| 4.40G/4.40G [07:18<00:00, 10.0MB/s]\n",
      "Downloading generation_config.json: 100%|██████████| 68.0/68.0 [00:00<00:00, 312kB/s]\n"
     ]
    }
   ],
   "source": [
    "\n",
    "#モデル初期化\n",
    "model=init_model(model_name, r, lora_alpha, target_modules, bit=bit)"
   ]
  },
  {
   "cell_type": "code",
   "execution_count": 4,
   "metadata": {},
   "outputs": [
    {
     "name": "stderr",
     "output_type": "stream",
     "text": [
      "Special tokens have been added in the vocabulary, make sure the associated word embeddings are fine-tuned or trained.\n"
     ]
    }
   ],
   "source": [
    "\n",
    "\n",
    "tokenizer = AutoTokenizer.from_pretrained(model_name)\n",
    "tokenizer.pad_token = tokenizer.eos_token\n",
    "\n",
    "#pipe = pipeline(\"text-generation\", model=model,\n",
    "#                tokenizer=tokenizer, max_new_tokens=1000)"
   ]
  },
  {
   "cell_type": "markdown",
   "metadata": {},
   "source": [
    "# データセットの生成"
   ]
  },
  {
   "cell_type": "code",
   "execution_count": 5,
   "metadata": {},
   "outputs": [
    {
     "name": "stdout",
     "output_type": "stream",
     "text": [
      "(2406, 9)\n"
     ]
    },
    {
     "data": {
      "text/html": [
       "<div>\n",
       "<style scoped>\n",
       "    .dataframe tbody tr th:only-of-type {\n",
       "        vertical-align: middle;\n",
       "    }\n",
       "\n",
       "    .dataframe tbody tr th {\n",
       "        vertical-align: top;\n",
       "    }\n",
       "\n",
       "    .dataframe thead th {\n",
       "        text-align: right;\n",
       "    }\n",
       "</style>\n",
       "<table border=\"1\" class=\"dataframe\">\n",
       "  <thead>\n",
       "    <tr style=\"text-align: right;\">\n",
       "      <th></th>\n",
       "      <th>name</th>\n",
       "      <th>smiles</th>\n",
       "      <th>csid</th>\n",
       "      <th>link</th>\n",
       "      <th>source</th>\n",
       "      <th>Reason</th>\n",
       "      <th>mpC</th>\n",
       "      <th>Prediction(integer)</th>\n",
       "      <th>Abs error</th>\n",
       "    </tr>\n",
       "  </thead>\n",
       "  <tbody>\n",
       "    <tr>\n",
       "      <th>0</th>\n",
       "      <td>2,3-dibromo-2-methyl-butane</td>\n",
       "      <td>BrC(C)(C)C(Br)C</td>\n",
       "      <td>71392</td>\n",
       "      <td>http://www.srcinc.com/what-we-do/product.aspx?...</td>\n",
       "      <td>PHYSPROP</td>\n",
       "      <td>Starting with butane, which melts around -138....</td>\n",
       "      <td>7.0</td>\n",
       "      <td>6.6</td>\n",
       "      <td>0.4</td>\n",
       "    </tr>\n",
       "    <tr>\n",
       "      <th>1</th>\n",
       "      <td>5-chlorobenzofuroxan</td>\n",
       "      <td>c1cc2c(cc1Cl)no[n+]2[O-]</td>\n",
       "      <td>123661</td>\n",
       "      <td>http://www.alfa.com/en/GP100W.pgm?DSSTK=A14261</td>\n",
       "      <td>Alfa Aesar</td>\n",
       "      <td>The basic structure for comparison is benzene,...</td>\n",
       "      <td>47.0</td>\n",
       "      <td>45.0</td>\n",
       "      <td>2.0</td>\n",
       "    </tr>\n",
       "  </tbody>\n",
       "</table>\n",
       "</div>"
      ],
      "text/plain": [
       "                          name                    smiles    csid  \\\n",
       "0  2,3-dibromo-2-methyl-butane           BrC(C)(C)C(Br)C   71392   \n",
       "1         5-chlorobenzofuroxan  c1cc2c(cc1Cl)no[n+]2[O-]  123661   \n",
       "\n",
       "                                                link      source  \\\n",
       "0  http://www.srcinc.com/what-we-do/product.aspx?...    PHYSPROP   \n",
       "1     http://www.alfa.com/en/GP100W.pgm?DSSTK=A14261  Alfa Aesar   \n",
       "\n",
       "                                              Reason   mpC  \\\n",
       "0  Starting with butane, which melts around -138....   7.0   \n",
       "1  The basic structure for comparison is benzene,...  47.0   \n",
       "\n",
       "   Prediction(integer)  Abs error  \n",
       "0                  6.6        0.4  \n",
       "1                 45.0        2.0  "
      ]
     },
     "execution_count": 5,
     "metadata": {},
     "output_type": "execute_result"
    }
   ],
   "source": [
    "#データセットの読み込み\n",
    "import pandas as pd\n",
    "import random\n",
    "df=pd.read_csv(\"dataset/231225AutoReasoning/240104best_reason_record.csv\")\n",
    "dataset=df.to_dict(orient=\"records\")\n",
    "random.seed(0)\n",
    "random.shuffle(dataset)\n",
    "\n",
    "print(df.shape)\n",
    "df[:2]"
   ]
  },
  {
   "cell_type": "code",
   "execution_count": 6,
   "metadata": {},
   "outputs": [],
   "source": [
    "import random\n",
    "system_prompt=\"You are a professional chemist. Predict the melting point of the following compound.\"\n",
    "\n",
    "\n",
    "def gen_compound_text(chemical_record,\n",
    "    reason=\"\",prediction=\"\"):\n",
    "    name=chemical_record[\"name\"]\n",
    "    smiles=chemical_record[\"smiles\"]\n",
    "    prompt=f\"\"\"\n",
    "#Problem\n",
    "##Name: {name}\n",
    "##SMILES: {smiles}\"\"\"\n",
    "    if reason !=\"\" and prediction!=\"\":\n",
    "        prompt+=f\"\"\"\n",
    "##Reason: {reason}\n",
    "##Prediction: {prediction}\n",
    "\"\"\"\n",
    "    else:\n",
    "        #test mode\n",
    "        prompt+=\"\"\"\n",
    "##Reason: \n",
    "\"\"\"\n",
    "    return prompt\n",
    "\n",
    "\n",
    "\n",
    "def generate_question_prompt(dataset,test_id,n_prompt_examples=5):\n",
    "    train_ids=[i for i in range(len(dataset))]\n",
    "    train_ids.remove(test_id)\n",
    "    prompt=\"\"\n",
    "\n",
    "    #train prompt\n",
    "    for _ in range(n_prompt_examples):\n",
    "        id=random.choice(train_ids)\n",
    "        prompt+=gen_compound_text(dataset[id],\n",
    "                                reason=dataset[id][\"Reason\"],\n",
    "                                prediction=dataset[id][\"Prediction(integer)\"])\n",
    "        prompt+=\"\\n\"\n",
    "\n",
    "    #test prompt\n",
    "    prompt+=gen_compound_text(dataset[test_id])\n",
    "\n",
    "    return prompt\n",
    "\n",
    "\n",
    "def prepare_dataset(context_list, tokenizer):\n",
    "    data_list = [{\"text\": i} for i in context_list]\n",
    "    random.shuffle(data_list)\n",
    "\n",
    "    # tokenize\n",
    "    dataset = Dataset.from_dict(\n",
    "        {\"text\": [item[\"text\"] for item in data_list[:]]})\n",
    "    dataset = dataset.map(lambda samples: tokenizer(\n",
    "        samples['text']), batched=True)\n",
    "\n",
    "    return dataset\n"
   ]
  },
  {
   "cell_type": "code",
   "execution_count": 7,
   "metadata": {},
   "outputs": [
    {
     "name": "stderr",
     "output_type": "stream",
     "text": [
      "Map:   0%|          | 0/2356 [00:00<?, ? examples/s]"
     ]
    },
    {
     "name": "stderr",
     "output_type": "stream",
     "text": [
      "Map: 100%|██████████| 2356/2356 [00:00<00:00, 8876.11 examples/s]\n"
     ]
    }
   ],
   "source": [
    "\n",
    "\n",
    "train_text_list=[]\n",
    "for id in range(len(dataset)):\n",
    "    prompt=gen_compound_text(dataset[id],\n",
    "                                reason=dataset[id][\"Reason\"],\n",
    "                                prediction=dataset[id][\"Prediction(integer)\"])\n",
    "    train_text_list.append(prompt)\n",
    "tokenized_dataset = prepare_dataset(train_text_list[n_test:], tokenizer)"
   ]
  },
  {
   "cell_type": "code",
   "execution_count": 8,
   "metadata": {},
   "outputs": [
    {
     "name": "stdout",
     "output_type": "stream",
     "text": [
      "train\n",
      "\n",
      "#Problem\n",
      "##Name: 2-Ethoxy-2-methylpropane\n",
      "##SMILES: CC(C)(C)OCC\n",
      "##Reason: The target compound, 2-Ethoxy-2-methylpropane, can be seen as derived from propane, which has a melting point of -187.7°C. Adding a methyl group generally increases the melting point due to increased molecular weight and van der Waals forces. For propane, adding a methyl group to become isobutane elevates the melting point to -159.6°C, indicating the effect of a methyl group is an increase of roughly +28°C. The presence of an ethoxy group (-OCC2H5) introduces an oxygen atom which can lead to dipole-dipole interactions and potential hydrogen bonding with trace moisture, increasing the melting point as well. The ethoxy group's effect on the melting point would be less straightforward to quantify without empirical data, but we can predict that it will raise the melting point to some extent. Considering the combined effect of an additional methyl group and an ethoxy group on the basic structure of propane, we can expect the overall melting point to be higher than that of propane, but lower than room temperature because the compound remains aliphatic and does not have strong intermolecular forces such as hydrogen bonding among its own molecules.\n",
      "##Prediction: -94.0\n",
      "\n",
      "test\n",
      "\n",
      "#Problem\n",
      "##Name: (1,2,2,3-tetramethylcyclopentyl)methyl 4-aminobenzoate\n",
      "##SMILES: O=C(OCC1(C)CCC(C)C1(C)C)c1ccc(N)cc1\n",
      "##Reason: \n",
      "\n"
     ]
    }
   ],
   "source": [
    "#check prompt\n",
    "\n",
    "print(\"train\")\n",
    "print(prompt)\n",
    "print(\"test\")\n",
    "t_prompt=gen_compound_text(dataset[0])\n",
    "print(t_prompt)"
   ]
  },
  {
   "cell_type": "markdown",
   "metadata": {},
   "source": [
    "# モデルの訓練"
   ]
  },
  {
   "cell_type": "code",
   "execution_count": 10,
   "metadata": {},
   "outputs": [
    {
     "name": "stderr",
     "output_type": "stream",
     "text": [
      "You're using a LlamaTokenizerFast tokenizer. Please note that with a fast tokenizer, using the `__call__` method is faster than using a method to encode the text followed by a call to the `pad` method to get a padded encoding.\n"
     ]
    },
    {
     "data": {
      "text/html": [
       "\n",
       "    <div>\n",
       "      \n",
       "      <progress value='7068' max='7068' style='width:300px; height:20px; vertical-align: middle;'></progress>\n",
       "      [7068/7068 06:16, Epoch 3/3]\n",
       "    </div>\n",
       "    <table border=\"1\" class=\"dataframe\">\n",
       "  <thead>\n",
       " <tr style=\"text-align: left;\">\n",
       "      <th>Step</th>\n",
       "      <th>Training Loss</th>\n",
       "    </tr>\n",
       "  </thead>\n",
       "  <tbody>\n",
       "    <tr>\n",
       "      <td>100</td>\n",
       "      <td>2.281900</td>\n",
       "    </tr>\n",
       "    <tr>\n",
       "      <td>200</td>\n",
       "      <td>2.050700</td>\n",
       "    </tr>\n",
       "    <tr>\n",
       "      <td>300</td>\n",
       "      <td>1.791700</td>\n",
       "    </tr>\n",
       "    <tr>\n",
       "      <td>400</td>\n",
       "      <td>1.636800</td>\n",
       "    </tr>\n",
       "    <tr>\n",
       "      <td>500</td>\n",
       "      <td>1.587100</td>\n",
       "    </tr>\n",
       "    <tr>\n",
       "      <td>600</td>\n",
       "      <td>1.534600</td>\n",
       "    </tr>\n",
       "    <tr>\n",
       "      <td>700</td>\n",
       "      <td>1.470600</td>\n",
       "    </tr>\n",
       "    <tr>\n",
       "      <td>800</td>\n",
       "      <td>1.463100</td>\n",
       "    </tr>\n",
       "    <tr>\n",
       "      <td>900</td>\n",
       "      <td>1.451700</td>\n",
       "    </tr>\n",
       "    <tr>\n",
       "      <td>1000</td>\n",
       "      <td>1.418400</td>\n",
       "    </tr>\n",
       "    <tr>\n",
       "      <td>1100</td>\n",
       "      <td>1.381100</td>\n",
       "    </tr>\n",
       "    <tr>\n",
       "      <td>1200</td>\n",
       "      <td>1.377900</td>\n",
       "    </tr>\n",
       "    <tr>\n",
       "      <td>1300</td>\n",
       "      <td>1.357900</td>\n",
       "    </tr>\n",
       "    <tr>\n",
       "      <td>1400</td>\n",
       "      <td>1.380800</td>\n",
       "    </tr>\n",
       "    <tr>\n",
       "      <td>1500</td>\n",
       "      <td>1.359500</td>\n",
       "    </tr>\n",
       "    <tr>\n",
       "      <td>1600</td>\n",
       "      <td>1.322700</td>\n",
       "    </tr>\n",
       "    <tr>\n",
       "      <td>1700</td>\n",
       "      <td>1.354800</td>\n",
       "    </tr>\n",
       "    <tr>\n",
       "      <td>1800</td>\n",
       "      <td>1.314900</td>\n",
       "    </tr>\n",
       "    <tr>\n",
       "      <td>1900</td>\n",
       "      <td>1.323800</td>\n",
       "    </tr>\n",
       "    <tr>\n",
       "      <td>2000</td>\n",
       "      <td>1.312900</td>\n",
       "    </tr>\n",
       "    <tr>\n",
       "      <td>2100</td>\n",
       "      <td>1.294100</td>\n",
       "    </tr>\n",
       "    <tr>\n",
       "      <td>2200</td>\n",
       "      <td>1.298000</td>\n",
       "    </tr>\n",
       "    <tr>\n",
       "      <td>2300</td>\n",
       "      <td>1.301700</td>\n",
       "    </tr>\n",
       "    <tr>\n",
       "      <td>2400</td>\n",
       "      <td>1.254600</td>\n",
       "    </tr>\n",
       "    <tr>\n",
       "      <td>2500</td>\n",
       "      <td>1.327800</td>\n",
       "    </tr>\n",
       "    <tr>\n",
       "      <td>2600</td>\n",
       "      <td>1.246500</td>\n",
       "    </tr>\n",
       "    <tr>\n",
       "      <td>2700</td>\n",
       "      <td>1.276700</td>\n",
       "    </tr>\n",
       "    <tr>\n",
       "      <td>2800</td>\n",
       "      <td>1.256600</td>\n",
       "    </tr>\n",
       "    <tr>\n",
       "      <td>2900</td>\n",
       "      <td>1.253800</td>\n",
       "    </tr>\n",
       "    <tr>\n",
       "      <td>3000</td>\n",
       "      <td>1.218100</td>\n",
       "    </tr>\n",
       "    <tr>\n",
       "      <td>3100</td>\n",
       "      <td>1.251100</td>\n",
       "    </tr>\n",
       "    <tr>\n",
       "      <td>3200</td>\n",
       "      <td>1.261300</td>\n",
       "    </tr>\n",
       "    <tr>\n",
       "      <td>3300</td>\n",
       "      <td>1.234400</td>\n",
       "    </tr>\n",
       "    <tr>\n",
       "      <td>3400</td>\n",
       "      <td>1.228100</td>\n",
       "    </tr>\n",
       "    <tr>\n",
       "      <td>3500</td>\n",
       "      <td>1.218800</td>\n",
       "    </tr>\n",
       "    <tr>\n",
       "      <td>3600</td>\n",
       "      <td>1.242500</td>\n",
       "    </tr>\n",
       "    <tr>\n",
       "      <td>3700</td>\n",
       "      <td>1.230400</td>\n",
       "    </tr>\n",
       "    <tr>\n",
       "      <td>3800</td>\n",
       "      <td>1.227200</td>\n",
       "    </tr>\n",
       "    <tr>\n",
       "      <td>3900</td>\n",
       "      <td>1.240100</td>\n",
       "    </tr>\n",
       "    <tr>\n",
       "      <td>4000</td>\n",
       "      <td>1.237100</td>\n",
       "    </tr>\n",
       "    <tr>\n",
       "      <td>4100</td>\n",
       "      <td>1.243000</td>\n",
       "    </tr>\n",
       "    <tr>\n",
       "      <td>4200</td>\n",
       "      <td>1.217200</td>\n",
       "    </tr>\n",
       "    <tr>\n",
       "      <td>4300</td>\n",
       "      <td>1.233600</td>\n",
       "    </tr>\n",
       "    <tr>\n",
       "      <td>4400</td>\n",
       "      <td>1.207400</td>\n",
       "    </tr>\n",
       "    <tr>\n",
       "      <td>4500</td>\n",
       "      <td>1.214100</td>\n",
       "    </tr>\n",
       "    <tr>\n",
       "      <td>4600</td>\n",
       "      <td>1.227200</td>\n",
       "    </tr>\n",
       "    <tr>\n",
       "      <td>4700</td>\n",
       "      <td>1.234900</td>\n",
       "    </tr>\n",
       "    <tr>\n",
       "      <td>4800</td>\n",
       "      <td>1.194700</td>\n",
       "    </tr>\n",
       "    <tr>\n",
       "      <td>4900</td>\n",
       "      <td>1.187300</td>\n",
       "    </tr>\n",
       "    <tr>\n",
       "      <td>5000</td>\n",
       "      <td>1.224000</td>\n",
       "    </tr>\n",
       "    <tr>\n",
       "      <td>5100</td>\n",
       "      <td>1.214700</td>\n",
       "    </tr>\n",
       "    <tr>\n",
       "      <td>5200</td>\n",
       "      <td>1.223100</td>\n",
       "    </tr>\n",
       "    <tr>\n",
       "      <td>5300</td>\n",
       "      <td>1.203000</td>\n",
       "    </tr>\n",
       "    <tr>\n",
       "      <td>5400</td>\n",
       "      <td>1.189400</td>\n",
       "    </tr>\n",
       "    <tr>\n",
       "      <td>5500</td>\n",
       "      <td>1.206900</td>\n",
       "    </tr>\n",
       "    <tr>\n",
       "      <td>5600</td>\n",
       "      <td>1.210800</td>\n",
       "    </tr>\n",
       "    <tr>\n",
       "      <td>5700</td>\n",
       "      <td>1.174000</td>\n",
       "    </tr>\n",
       "    <tr>\n",
       "      <td>5800</td>\n",
       "      <td>1.203500</td>\n",
       "    </tr>\n",
       "    <tr>\n",
       "      <td>5900</td>\n",
       "      <td>1.217700</td>\n",
       "    </tr>\n",
       "    <tr>\n",
       "      <td>6000</td>\n",
       "      <td>1.185100</td>\n",
       "    </tr>\n",
       "    <tr>\n",
       "      <td>6100</td>\n",
       "      <td>1.201600</td>\n",
       "    </tr>\n",
       "    <tr>\n",
       "      <td>6200</td>\n",
       "      <td>1.175000</td>\n",
       "    </tr>\n",
       "    <tr>\n",
       "      <td>6300</td>\n",
       "      <td>1.159500</td>\n",
       "    </tr>\n",
       "    <tr>\n",
       "      <td>6400</td>\n",
       "      <td>1.225000</td>\n",
       "    </tr>\n",
       "    <tr>\n",
       "      <td>6500</td>\n",
       "      <td>1.147200</td>\n",
       "    </tr>\n",
       "    <tr>\n",
       "      <td>6600</td>\n",
       "      <td>1.220700</td>\n",
       "    </tr>\n",
       "    <tr>\n",
       "      <td>6700</td>\n",
       "      <td>1.203300</td>\n",
       "    </tr>\n",
       "    <tr>\n",
       "      <td>6800</td>\n",
       "      <td>1.186500</td>\n",
       "    </tr>\n",
       "    <tr>\n",
       "      <td>6900</td>\n",
       "      <td>1.189900</td>\n",
       "    </tr>\n",
       "    <tr>\n",
       "      <td>7000</td>\n",
       "      <td>1.158500</td>\n",
       "    </tr>\n",
       "  </tbody>\n",
       "</table><p>"
      ],
      "text/plain": [
       "<IPython.core.display.HTML object>"
      ]
     },
     "metadata": {},
     "output_type": "display_data"
    }
   ],
   "source": [
    "import transformers\n",
    "from datetime import datetime\n",
    "\n",
    "\n",
    "#train\n",
    "train_args = transformers.TrainingArguments(\n",
    "        per_device_train_batch_size=per_device_train_batch_size,\n",
    "        #gradient_accumulation_steps=1,\n",
    "        warmup_steps=0,\n",
    "        num_train_epochs=epochs,\n",
    "        learning_rate=lr,\n",
    "        fp16=True,\n",
    "        logging_steps=100,\n",
    "        save_total_limit=1,\n",
    "        output_dir='outputs/'+datetime.now().strftime('%Y%m%d%H%M%S'),\n",
    "        gradient_checkpointing=gradient_checkpointing,\n",
    "    )\n",
    "\n",
    "# trainer\n",
    "#callbacks = [EarlyStoppingCallback()]\n",
    "callbacks = []\n",
    "\n",
    "trainer = transformers.Trainer(\n",
    "    model=model,\n",
    "    train_dataset=tokenized_dataset,\n",
    "    args=train_args,\n",
    "    callbacks=callbacks,\n",
    "    data_collator=transformers.DataCollatorForLanguageModeling(\n",
    "        tokenizer, mlm=False)\n",
    ")\n",
    "\n",
    "if do_train:\n",
    "    training_result = trainer.train()\n",
    "    training_result.training_loss"
   ]
  },
  {
   "cell_type": "code",
   "execution_count": 9,
   "metadata": {},
   "outputs": [],
   "source": [
    "#モデルの保存: adapterのみ保存するとき｡\n",
    "from datetime import datetime\n",
    "current_datetime = datetime.now()\n",
    "#model.save_pretrained(f\"./outputs/{current_datetime}\")\n",
    "#model.save_pretrained(f\"./outputs/1b_ft\")"
   ]
  },
  {
   "cell_type": "code",
   "execution_count": 10,
   "metadata": {},
   "outputs": [
    {
     "data": {
      "text/plain": [
       "'\\nmodel = AutoPeftModelForCausalLM.from_pretrained(model_path,\\n                                                 device_map=device_map,\\n                                                     torch_dtype=torch.float16,\\n                                                     use_flash_attention_2=True,\\n                                                 )\\n\\n'"
      ]
     },
     "execution_count": 10,
     "metadata": {},
     "output_type": "execute_result"
    }
   ],
   "source": [
    "#モデルの読み込み: 強化学習しない場合\n",
    "from peft import AutoPeftModelForCausalLM\n",
    "model_path=\"./outputs/7b_ft\"\n",
    "\n",
    "\"\"\"\n",
    "model = AutoPeftModelForCausalLM.from_pretrained(model_path,\n",
    "                                                 device_map=device_map,\n",
    "                                                     torch_dtype=torch.float16,\n",
    "                                                     use_flash_attention_2=True,\n",
    "                                                 )\n",
    "\n",
    "\"\"\""
   ]
  },
  {
   "cell_type": "code",
   "execution_count": 11,
   "metadata": {},
   "outputs": [],
   "source": [
    "#モデルのマージと保存: 強化学習するとき\n",
    "#merged_model = model.merge_and_unload()\n",
    "#merged_model.save_pretrained(f\"./outputs/05b_ft_merge\")"
   ]
  },
  {
   "cell_type": "markdown",
   "metadata": {},
   "source": [
    "# 強化学習による追加訓練"
   ]
  },
  {
   "cell_type": "code",
   "execution_count": 12,
   "metadata": {},
   "outputs": [],
   "source": [
    "#予測周りのutility funcs\n",
    "import re\n",
    "import torch\n",
    "import gc\n",
    "from IPython.display import clear_output\n",
    "from trl import AutoModelForCausalLMWithValueHead\n",
    "def gen_text_stop_word(prompt,model,tokenizer,\n",
    "                       device=\"cuda:0\",\n",
    "                       stop_words=[\"#Problem\",\"#Reason\",\"# Problem\"],\n",
    "                       double_stop_words=[\"#Prediction\"],\n",
    "                       stream=False,\n",
    "                       #stream=True,\n",
    "                       max_tokens=400,\n",
    "                       ):\n",
    "    gc.collect()\n",
    "    torch.cuda.empty_cache()\n",
    "\n",
    "\n",
    "\n",
    "    input_ids = tokenizer.encode(prompt, return_tensors='pt').to(device)\n",
    "    # 生成されたテキストを格納する変数\n",
    "    generated_text = \"\"\n",
    "\n",
    "    # トークンを一つずつ生成\n",
    "    for i in range(max_tokens):\n",
    "        # 次のトークンを予測\n",
    "        outputs = model(input_ids)\n",
    "        if type(model) is AutoModelForCausalLMWithValueHead:\n",
    "            #AutoModelForCausalLMWithValueHeadの場合\n",
    "            logits = outputs[0]\n",
    "            next_token_logits = logits[:, -1, :]\n",
    "        else:\n",
    "            next_token_logits = outputs.logits[:, -1, :]\n",
    "\n",
    "        next_token = torch.argmax(next_token_logits, dim=-1).unsqueeze(-1)\n",
    "\n",
    "        # 生成されたトークンを現在の入力に追加\n",
    "        input_ids = torch.cat([input_ids, next_token], dim=-1)\n",
    "\n",
    "        # 生成されたテキストを更新\n",
    "        generated_text = tokenizer.decode(input_ids[0], skip_special_tokens=True)[len(prompt):]\n",
    "\n",
    "        if stream:\n",
    "            if i%30==0:\n",
    "                clear_output()\n",
    "            print(generated_text)\n",
    "\n",
    "        # ストップワードのチェック\n",
    "        if any(stop_word in generated_text for stop_word in stop_words):\n",
    "            break\n",
    "\n",
    "        # 2回以上出現したらstopするwordのcheck \n",
    "        stop_flag=False\n",
    "        for check_word in double_stop_words:\n",
    "            count=generated_text.count(check_word)\n",
    "            if count>=2:\n",
    "                stop_flag=True\n",
    "                break\n",
    "        if stop_flag:\n",
    "            break\n",
    "\n",
    "    return generated_text\n",
    "\n",
    "def ask_value(prompt,model,tokenizer):\n",
    "    res=gen_text_stop_word(prompt,model,tokenizer)\n",
    "    #res=pipe(prompt)[0][\"generated_text\"]\n",
    "    print(\"----\\n\\n\")\n",
    "    print(res.strip())\n",
    "\n",
    "    regex_list=[\n",
    "        r\"Prediction:\\s*(\\d+\\.?\\d*)\",\n",
    "        r\"Prediction:\\s*(-?\\d+\\.?\\d*)\",\n",
    "    ]\n",
    "\n",
    "    value=None\n",
    "    for reg in regex_list:\n",
    "        match = re.search(reg, res)\n",
    "        if match:\n",
    "            value = match.group(1)\n",
    "            break\n",
    "\n",
    "\n",
    "    return res,value\n",
    "\n"
   ]
  },
  {
   "cell_type": "code",
   "execution_count": 13,
   "metadata": {},
   "outputs": [],
   "source": [
    "from trl import PPOTrainer, PPOConfig\n",
    "\n",
    "\n",
    "#テキストでファインチューニングしたモデルを強化学習用に読み込み\n",
    "\n",
    "def load_ppo_model(model_path):\n",
    "    lora_config = LoraConfig(\n",
    "    target_modules=target_modules,\n",
    "    r=32,\n",
    "    lora_alpha=32,\n",
    "    lora_dropout=0.05,\n",
    "    bias=\"none\",\n",
    "    task_type=\"CAUSAL_LM\",\n",
    "    )\n",
    "    model = AutoModelForCausalLMWithValueHead.from_pretrained(\n",
    "        model_path,\n",
    "        #load_in_8bit=True,\n",
    "        torch_dtype=torch.float16,\n",
    "        device_map=device_map,\n",
    "        peft_config=lora_config,\n",
    "    )\n",
    "    return model\n",
    "\n",
    "def init_ppo_trainer(model,tokenizer):\n",
    "\n",
    "    #trainerの定義\n",
    "    ppo_trainer = PPOTrainer(\n",
    "        config=PPOConfig(batch_size=1),\n",
    "        model=model, \n",
    "        #ref_model=ref_model, \n",
    "        tokenizer=tokenizer,\n",
    "        )\n",
    "    return ppo_trainer\n",
    "\n",
    "def reload_ppo_model_and_trainer(model,ppo_trainer,temp_dir=\"outputs/temp\"):\n",
    "    #model.to(\"cuda:0\")\n",
    "    model.save_pretrained(temp_dir)\n",
    "\n",
    "    model=None\n",
    "    ppo_trainer=None\n",
    "    print(\"clearing memory...\")\n",
    "    gc.collect()\n",
    "    torch.cuda.empty_cache()\n",
    "\n",
    "    model=load_ppo_model(temp_dir)\n",
    "    ppo_trainer=init_ppo_trainer(model,tokenizer)\n",
    "\n",
    "    return model,ppo_trainer\n"
   ]
  },
  {
   "cell_type": "code",
   "execution_count": 14,
   "metadata": {},
   "outputs": [],
   "source": [
    "\n",
    "#報酬クラスの定義\n",
    "class RewardModel:\n",
    "    def __init__(self,model,dataset,tokenizer,\n",
    "                 range_value=1,\n",
    "                 reward_slope=50,\n",
    "                 n_prompt_examples=3,\n",
    "                 device=\"cuda:0\",\n",
    "                 ):\n",
    "        self.model=model\n",
    "        self.dataset=dataset\n",
    "        self.tokenizer=tokenizer    \n",
    "        self.n_prompt_examples=n_prompt_examples\n",
    "        self.range_value = range_value\n",
    "        self.reward_slope = reward_slope\n",
    "        self.device=device\n",
    "\n",
    "    def calculate_reward(self,abs_error, ):\n",
    "        \"\"\"\n",
    "        Calculate the reward based on the absolute error.\n",
    "\n",
    "        :param abs_error: The absolute error value.\n",
    "        :param range_value: The range value for maximum and minimum rewards.\n",
    "        :return: The calculated reward.\n",
    "        \"\"\"\n",
    "\n",
    "        reward = self.range_value - (abs_error) * (self.range_value / self.reward_slope)\n",
    "        return max(reward, -self.range_value)\n",
    "\n",
    "\n",
    "    def __call__(self,train_id):\n",
    "        prompt=generate_question_prompt(self.dataset,train_id,\n",
    "                                        n_prompt_examples=self.n_prompt_examples)\n",
    "        reason,value=ask_value(prompt,self.model,self.tokenizer,\n",
    "                                         )\n",
    "\n",
    "        actual=self.dataset[train_id][\"mpC\"]\n",
    "        if value is None:\n",
    "            reward=-self.range_value\n",
    "        else:\n",
    "            value=float(value)\n",
    "\n",
    "            abs_error=abs(actual-value)\n",
    "            # Example usage of the function\n",
    "            reward=self.calculate_reward(abs_error)  # Example case where abs_error is 12 and range_value is 100\n",
    "\n",
    "        #説明が殆どない場合は､rewardを0にする\n",
    "        if len(reason)<30:\n",
    "            reward=0\n",
    "        print(f\"actual: {actual}, predicted: {value}, reward: {reward}\")\n",
    "\n",
    "        input_ids = tokenizer.encode(prompt, return_tensors='pt').to(self.device)\n",
    "        return reward,reason,input_ids"
   ]
  },
  {
   "cell_type": "code",
   "execution_count": 15,
   "metadata": {},
   "outputs": [
    {
     "name": "stderr",
     "output_type": "stream",
     "text": [
      "Loading checkpoint shards: 100%|██████████| 6/6 [00:05<00:00,  1.19it/s]\n"
     ]
    }
   ],
   "source": [
    "\"\"\"\n",
    "model_path=\"./outputs/13b_ft_merge_3epoch\"\n",
    "model=AutoModelForCausalLM.from_pretrained(model_path,device_map=device_map,\n",
    "                                              torch_dtype=torch.float16,\n",
    "                                                     use_flash_attention_2=True,\n",
    "                                           )\n",
    "\"\"\""
   ]
  },
  {
   "cell_type": "code",
   "execution_count": 12,
   "metadata": {},
   "outputs": [
    {
     "name": "stderr",
     "output_type": "stream",
     "text": [
      "Loading checkpoint shards: 100%|██████████| 3/3 [00:02<00:00,  1.05it/s]\n"
     ]
    }
   ],
   "source": [
    "#model_path=\"./outputs/13b_ft_merge_3epoch\"\n",
    "model_path=\"./outputs/7b_ft_merge_3epoch\"\n",
    "temp_dir=\"outputs/temp\"\n",
    "\n",
    "#model load\n",
    "model=load_ppo_model(model_path)\n",
    "ppo_trainer=init_ppo_trainer(model,tokenizer)\n",
    "\n",
    "#lora modelとして読み込み直す(vramの節約のため)\n",
    "model,ppo_trainer=reload_ppo_model_and_trainer(model,ppo_trainer)"
   ]
  },
  {
   "cell_type": "code",
   "execution_count": 1,
   "metadata": {},
   "outputs": [
    {
     "ename": "NameError",
     "evalue": "name 'gc' is not defined",
     "output_type": "error",
     "traceback": [
      "\u001b[0;31m---------------------------------------------------------------------------\u001b[0m",
      "\u001b[0;31mNameError\u001b[0m                                 Traceback (most recent call last)",
      "Cell \u001b[0;32mIn[1], line 2\u001b[0m\n\u001b[1;32m      1\u001b[0m reward_model\u001b[38;5;241m=\u001b[39m\u001b[38;5;28;01mNone\u001b[39;00m\n\u001b[0;32m----> 2\u001b[0m \u001b[43mgc\u001b[49m\u001b[38;5;241m.\u001b[39mcollect()\n\u001b[1;32m      3\u001b[0m torch\u001b[38;5;241m.\u001b[39mcuda\u001b[38;5;241m.\u001b[39mempty_cache()\n\u001b[1;32m      4\u001b[0m reward_model \u001b[38;5;241m=\u001b[39m RewardModel(model,dataset,tokenizer,)\n",
      "\u001b[0;31mNameError\u001b[0m: name 'gc' is not defined"
     ]
    }
   ],
   "source": [
    "\n",
    "reward_model=None\n",
    "gc.collect()\n",
    "torch.cuda.empty_cache()\n",
    "reward_model = RewardModel(model,dataset,tokenizer,)\n",
    "reward_model.calculate_reward(30)  #報酬の動作確認. "
   ]
  },
  {
   "cell_type": "code",
   "execution_count": 10,
   "metadata": {},
   "outputs": [
    {
     "name": "stderr",
     "output_type": "stream",
     "text": [
      "  0%|          | 0/5000 [00:00<?, ?it/s]\n"
     ]
    },
    {
     "ename": "NameError",
     "evalue": "name 'gc' is not defined",
     "output_type": "error",
     "traceback": [
      "\u001b[0;31m---------------------------------------------------------------------------\u001b[0m",
      "\u001b[0;31mNameError\u001b[0m                                 Traceback (most recent call last)",
      "Cell \u001b[0;32mIn[10], line 20\u001b[0m\n\u001b[1;32m     18\u001b[0m \u001b[38;5;66;03m#このクラスにgpu cacheが残りがちなので､毎回初期化してメモリ開放しておく\u001b[39;00m\n\u001b[1;32m     19\u001b[0m reward_model\u001b[38;5;241m=\u001b[39m\u001b[38;5;28;01mNone\u001b[39;00m\n\u001b[0;32m---> 20\u001b[0m \u001b[43mgc\u001b[49m\u001b[38;5;241m.\u001b[39mcollect()\n\u001b[1;32m     21\u001b[0m torch\u001b[38;5;241m.\u001b[39mcuda\u001b[38;5;241m.\u001b[39mempty_cache()\n\u001b[1;32m     22\u001b[0m reward_model \u001b[38;5;241m=\u001b[39m RewardModel(model,dataset,tokenizer)\n",
      "\u001b[0;31mNameError\u001b[0m: name 'gc' is not defined"
     ]
    }
   ],
   "source": [
    "import time\n",
    "import warnings\n",
    "warnings.filterwarnings('ignore')\n",
    "#model.config.use_cache = False \n",
    "#model.config.use_cache = True\n",
    "lr_epochs=5000\n",
    "n_retry=1\n",
    "#lr_epochs=3\n",
    "reward_log=[]\n",
    "\n",
    "n_iterations=0\n",
    "\n",
    "for i in tqdm(range(lr_epochs)):\n",
    "   #ランダムに問題を設定して値を予測させる\n",
    "    train_id=random.randint(n_test,len(dataset))\n",
    "\n",
    "    \n",
    "    #このクラスにgpu cacheが残りがちなので､毎回初期化してメモリ開放しておく\n",
    "    reward_model=None\n",
    "    gc.collect()\n",
    "    torch.cuda.empty_cache()\n",
    "    reward_model = RewardModel(model,dataset,tokenizer)\n",
    "\n",
    "\n",
    "    #同じ問題に対して､良い結果が来るまで何回か問題を解かせる\n",
    "    for i in range(n_retry):\n",
    "        try:\n",
    "            #報酬､応答､入力の取得\n",
    "            reward,response,input_id=reward_model(train_id)\n",
    "            rewards=[torch.tensor(float(reward))]\n",
    "            query_tensors = [torch.tensor(input_id).reshape(-1)]\n",
    "            response_tensors=[torch.tensor(tokenizer.encode(response)).reshape(-1)]\n",
    "\n",
    "            #モデル更新\n",
    "            stats = ppo_trainer.step(query_tensors, response_tensors, rewards)\n",
    "            n_iterations+=1\n",
    "            reward_log.append(float(reward))\n",
    "        except Exception as e:\n",
    "            #主にcuda out of memoryが起きるので､一旦メモリ開放して､model類を読み込み直す\n",
    "            print(e)\n",
    "            model,ppo_trainer=reload_ppo_model_and_trainer(model,ppo_trainer)\n",
    "\n",
    "            break\n",
    "\n",
    "        #結果がよかったら次の問題に移る\n",
    "        if reward>0.5:\n",
    "            break\n",
    "\n",
    "n_iterations"
   ]
  },
  {
   "cell_type": "code",
   "execution_count": 18,
   "metadata": {},
   "outputs": [
    {
     "data": {
      "text/plain": [
       "1317"
      ]
     },
     "execution_count": 18,
     "metadata": {},
     "output_type": "execute_result"
    }
   ],
   "source": [
    "n_iterations"
   ]
  },
  {
   "cell_type": "code",
   "execution_count": 19,
   "metadata": {},
   "outputs": [],
   "source": [
    "from datetime import datetime\n",
    "#AutoModelForCausalLMWithValueHead classはdirを作っておかないと､save_pretrainedが動かない\n",
    "current_datetime = datetime.now()\n",
    "model_save_path=f\"outputs/ppo{current_datetime}\"\n",
    "os.mkdir(model_save_path)\n",
    "model.save_pretrained(model_save_path)"
   ]
  },
  {
   "cell_type": "code",
   "execution_count": 23,
   "metadata": {},
   "outputs": [
    {
     "data": {
      "text/plain": [
       "<matplotlib.collections.PathCollection at 0x7ff0a65b9390>"
      ]
     },
     "execution_count": 23,
     "metadata": {},
     "output_type": "execute_result"
    },
    {
     "data": {
      "image/png": "[encoded data removed]",
      "text/plain": [
       "<Figure size 640x480 with 1 Axes>"
      ]
     },
     "metadata": {},
     "output_type": "display_data"
    }
   ],
   "source": [
    "import matplotlib.pyplot as plt\n",
    "import seaborn as sns\n",
    "plt.scatter(range(len(reward_log)),reward_log,s=1)"
   ]
  },
  {
   "cell_type": "markdown",
   "metadata": {},
   "source": [
    "# モデルによる物性値の予測"
   ]
  },
  {
   "cell_type": "code",
   "execution_count": 16,
   "metadata": {},
   "outputs": [
    {
     "data": {
      "text/plain": [
       "LlamaForCausalLM(\n",
       "  (model): LlamaModel(\n",
       "    (embed_tokens): Embedding(32000, 5120)\n",
       "    (layers): ModuleList(\n",
       "      (0-39): 40 x LlamaDecoderLayer(\n",
       "        (self_attn): LlamaFlashAttention2(\n",
       "          (q_proj): Linear(in_features=5120, out_features=5120, bias=False)\n",
       "          (k_proj): Linear(in_features=5120, out_features=5120, bias=False)\n",
       "          (v_proj): Linear(in_features=5120, out_features=5120, bias=False)\n",
       "          (o_proj): Linear(in_features=5120, out_features=5120, bias=False)\n",
       "          (rotary_emb): LlamaRotaryEmbedding()\n",
       "        )\n",
       "        (mlp): LlamaMLP(\n",
       "          (gate_proj): Linear(in_features=5120, out_features=13824, bias=False)\n",
       "          (up_proj): Linear(in_features=5120, out_features=13824, bias=False)\n",
       "          (down_proj): Linear(in_features=13824, out_features=5120, bias=False)\n",
       "          (act_fn): SiLUActivation()\n",
       "        )\n",
       "        (input_layernorm): LlamaRMSNorm()\n",
       "        (post_attention_layernorm): LlamaRMSNorm()\n",
       "      )\n",
       "    )\n",
       "    (norm): LlamaRMSNorm()\n",
       "  )\n",
       "  (lm_head): Linear(in_features=5120, out_features=32000, bias=False)\n",
       ")"
      ]
     },
     "execution_count": 16,
     "metadata": {},
     "output_type": "execute_result"
    }
   ],
   "source": [
    "\n",
    "model.eval()"
   ]
  },
  {
   "cell_type": "code",
   "execution_count": 17,
   "metadata": {},
   "outputs": [
    {
     "name": "stderr",
     "output_type": "stream",
     "text": [
      "  0%|          | 0/50 [00:00<?, ?it/s]"
     ]
    },
    {
     "name": "stdout",
     "output_type": "stream",
     "text": [
      "promlem 1 / 50\n"
     ]
    },
    {
     "name": "stderr",
     "output_type": "stream",
     "text": [
      "  2%|▏         | 1/50 [01:21<1:06:15, 81.14s/it]"
     ]
    },
    {
     "name": "stdout",
     "output_type": "stream",
     "text": [
      "----\n",
      "\n",
      "\n",
      "- Basic unit, benzene, has a melting point of 5.5°C.\n",
      "- The tetramethylcyclopentyl group is a large, bulky substituent that increases the molecular weight and van der Waals forces, which can be estimated to raise the melting point by about +20°C.\n",
      "- The amino group can form hydrogen bonds, which significantly increases the melting point; this effect is estimated to be around +50°C.\n",
      "- The ester group (COOCH3) is polar and can participate in dipole-dipole interactions, raising the melting point by about +20°C.\n",
      "- The overall molecular structure is complex and rigid, which can further increase the melting point by about +30°C.\n",
      "##Prediction: 135.5\n",
      "actual:  74.0 predicted:  135.5\n",
      "promlem 2 / 50\n"
     ]
    },
    {
     "name": "stderr",
     "output_type": "stream",
     "text": [
      "  4%|▍         | 2/50 [01:50<40:21, 50.45s/it]  "
     ]
    },
    {
     "name": "stdout",
     "output_type": "stream",
     "text": [
      "----\n",
      "\n",
      "\n",
      "- Basic unit, quinoline, has a melting point of around 80 degrees Celsius. \n",
      "- Chloro substituents are electron-withdrawing and increase the melting point due to their inductive effect and increased molecular weight. Each chloro group could add approximately +20 degrees Celsius. \n",
      "- The quinoxaline structure itself is rigid and planar, which can increase the melting point due to better packing in the solid state. This could add around +10 degrees Celsius. \n",
      "##Prediction: 110.0\n",
      "\n",
      "\n",
      "#Problem\n",
      "actual:  152.0 predicted:  110.0\n",
      "promlem 3 / 50\n"
     ]
    },
    {
     "name": "stderr",
     "output_type": "stream",
     "text": [
      "  6%|▌         | 3/50 [02:06<27:21, 34.92s/it]"
     ]
    },
    {
     "name": "stdout",
     "output_type": "stream",
     "text": [
      "----\n",
      "\n",
      "\n",
      "- Basic unit, benzene, has a melting point of 5.5°C.\n",
      "- Chloromethyl groups: Each chloromethyl group is expected to increase the melting point due to the increase in molecular weight and the introduction of polarizability. The effect of each chloromethyl group can be estimated at +20°C.\n",
      "##Prediction: 80.0\n",
      "\n",
      "\n",
      "#Problem\n",
      "actual:  100.0 predicted:  80.0\n",
      "promlem 4 / 50\n"
     ]
    },
    {
     "name": "stderr",
     "output_type": "stream",
     "text": [
      "  8%|▊         | 4/50 [03:11<35:51, 46.77s/it]"
     ]
    },
    {
     "name": "stdout",
     "output_type": "stream",
     "text": [
      "----\n",
      "\n",
      "\n",
      "- Basic unit, benzene, has a melting point of 5.5 degrees Celsius. \n",
      "- The presence of two phenyl groups increases the melting point due to increased molecular weight and pi-pi stacking interactions, estimated at +100 degrees Celsius for each phenyl group. \n",
      "- The conjugated double bond system (vinyl group) in the molecule contributes to rigidity and planarity, which can increase the melting point by approximately +20 degrees Celsius. \n",
      "- The ketone group (C=O) can form dipole-dipole interactions, which can increase the melting point by about +20 degrees Celsius. \n",
      "- The overall structure is planar and rigid, which can further increase the melting point due to better packing in the solid state, estimated at +10 degrees Celsius. \n",
      "##Prediction: 255.0\n",
      "actual:  56.5 predicted:  255.0\n",
      "promlem 5 / 50\n"
     ]
    },
    {
     "name": "stderr",
     "output_type": "stream",
     "text": [
      " 10%|█         | 5/50 [04:26<42:45, 57.01s/it]"
     ]
    },
    {
     "name": "stdout",
     "output_type": "stream",
     "text": [
      "----\n",
      "\n",
      "\n",
      "- Basic unit, ethane, has a melting point of -183.3°C. \n",
      "- Hydroxyethyl group (OHCH2CH3): The hydroxyl group can form hydrogen bonds, which significantly increases the melting point. The alkyl chain attached to the hydroxyl group adds some flexibility and steric hindrance, which might reduce the melting point increase. Let's estimate the hydroxyl group to add approximately 40°C due to hydrogen bonding and the alkyl chain to add around 10°C due to increased molecular weight and van der Waals forces. \n",
      "- Disulfide group (S-S): The sulfur atoms in the disulfide bond can engage in dipole-dipole interactions, which would increase the melting point. However, the flexibility of the disulfide bond might reduce the melting point increase. Let's estimate the disulfide group to add approximately 20°C due to increased molecular weight and dipole-dipole interactions. \n",
      "##Prediction: -133.0\n",
      "actual:  26.0 predicted:  -133.0\n",
      "promlem 6 / 50\n"
     ]
    },
    {
     "name": "stderr",
     "output_type": "stream",
     "text": [
      " 12%|█▏        | 6/50 [06:00<50:53, 69.39s/it]"
     ]
    },
    {
     "name": "stdout",
     "output_type": "stream",
     "text": [
      "----\n",
      "\n",
      "\n",
      "- Basic unit, benzene, has a melting point of 5.5°C. \n",
      "- The presence of two phenyl groups increases the melting point due to increased pi-pi interactions and van der Waals forces, estimated at +20°C for each phenyl group. \n",
      "- The nicotinamide group is a rigid, planar structure that can engage in hydrogen bonding, which significantly increases the melting point, estimated at +50°C. \n",
      "- The ethyl group attached to the nicotinamide is a small alkyl chain that can slightly increase the melting point due to increased van der Waals interactions, estimated at +5°C. \n",
      "However, the actual value of 107.0°C suggests that the estimated contributions of the phenyl groups and the nicotinamide group are not accurate and need to be recalibrated. The effect of the ethyl group on the melting point seems to be more substantial than predicted.\n",
      "##Prediction: 107.0\n",
      "actual:  159.0 predicted:  107.0\n",
      "promlem 7 / 50\n"
     ]
    },
    {
     "name": "stderr",
     "output_type": "stream",
     "text": [
      " 14%|█▍        | 7/50 [07:06<49:00, 68.38s/it]"
     ]
    },
    {
     "name": "stdout",
     "output_type": "stream",
     "text": [
      "----\n",
      "\n",
      "\n",
      "- Basic unit, benzene, has a melting point of 5.5°C.\n",
      "- Each methoxy group (–OCH3) is expected to increase the melting point due to increased molecular weight and dipole-dipole interactions; we can estimate an increase of about +20°C for each methoxy group.\n",
      "- The methyl group (–CH3) attached to the phenyl ring will also increase the melting point due to increased molecular weight and van der Waals interactions; we can estimate an increase of about +5°C for the methyl group.\n",
      "- The ketone group (–C=O) is a polar functional group that can engage in dipole-dipole interactions, which would further increase the melting point; we can estimate an increase of about +30°C for the ketone group.\n",
      "- The additional phenyl ring will increase the melting point due to increased molecular weight and π-π interactions; we can estimate an increase of about +30°C for the additional phenyl ring.\n",
      "Summing these adjustments provides an estimated melting point: 5.5 (benzene base) + 20 (first methoxy group) + 20 (second methoxy group) + 5 (methyl group) + 30 (ketone group) + 30 (additional phenyl ring).\n",
      "##Prediction: 130.0\n",
      "\n",
      "\n",
      "#Problem\n",
      "actual:  109.0 predicted:  130.0\n",
      "promlem 8 / 50\n"
     ]
    },
    {
     "name": "stderr",
     "output_type": "stream",
     "text": [
      " 16%|█▌        | 8/50 [08:28<50:59, 72.84s/it]"
     ]
    },
    {
     "name": "stdout",
     "output_type": "stream",
     "text": [
      "----\n",
      "\n",
      "\n",
      "- Basic unit, benzene, has a melting point of 5.5 °C. \n",
      "- Propyl group (C3H7-): +10 °C (increases molecular weight and van der Waals interactions). \n",
      "- The presence of a benzene ring contributes to the rigidity of the molecule, which can increase the melting point. However, since the propyl group is attached to the benzene ring, it does not significantly increase the melting point due to the flexibility of the propyl chain. \n",
      "- The overall molecular weight and van der Waals interactions are moderate, so the increase is not substantial. \n",
      "##Prediction: 15.5\n",
      "actual:  -99.0 predicted:  15.5\n",
      "promlem 9 / 50\n"
     ]
    },
    {
     "name": "stderr",
     "output_type": "stream",
     "text": [
      " 18%|█▊        | 9/50 [08:50<38:55, 56.97s/it]"
     ]
    },
    {
     "name": "stdout",
     "output_type": "stream",
     "text": [
      "----\n",
      "\n",
      "\n",
      "- Basic unit, aniline, has a melting point of 6 degrees Celsius.\n",
      "- Nitro group: This group is highly electronegative and introduces strong dipole-dipole interactions, which can significantly increase the melting point. The estimated effect of a nitro group is around +80 degrees Celsius.\n",
      "- Amide group: This group can form strong hydrogen bonds, which typically raises the melting point. The estimated effect of an amide group is around +50 degrees Celsius.\n",
      "Combining these effects gives us the predicted melting point.\n",
      "##Prediction: 146.0\n",
      "\n",
      "\n",
      "#Problem\n",
      "actual:  93.0 predicted:  146.0\n",
      "promlem 10 / 50\n"
     ]
    },
    {
     "name": "stderr",
     "output_type": "stream",
     "text": [
      " 20%|██        | 10/50 [09:23<32:53, 49.34s/it]"
     ]
    },
    {
     "name": "stdout",
     "output_type": "stream",
     "text": [
      "----\n",
      "\n",
      "\n",
      "- Basic unit, acetone, has a melting point of -95.3°C. \n",
      "- The N-propyl group is an alkyl chain that will increase the melting point due to increased molecular weight and van der Waals forces. Estimated effect: +20°C. \n",
      "- The acetate ester group is polar and can form dipole-dipole interactions, which will also increase the melting point. Estimated effect: +10°C. \n",
      "- The presence of the N-propyl group will also increase the molecular weight and the overall symmetry of the molecule, which can further increase the melting point. Estimated effect: +5°C. \n",
      "##Prediction: -60.0\n",
      "\n",
      "\n",
      "#Problem\n",
      "actual:  -92.0 predicted:  -60.0\n",
      "promlem 11 / 50\n"
     ]
    },
    {
     "name": "stderr",
     "output_type": "stream",
     "text": [
      " 22%|██▏       | 11/50 [10:53<40:11, 61.84s/it]"
     ]
    },
    {
     "name": "stdout",
     "output_type": "stream",
     "text": [
      "----\n",
      "\n",
      "\n",
      "The base structure for comparison is anisole, which has a melting point of 10.5°C. The iodo substituent is a large, heavy atom that increases the molecular weight and enhances van der Waals forces, which can be estimated to add about 40°C. The nitro group is also a heavy atom that can increase the melting point due to its electronegativity and the potential for intermolecular hydrogen bonding, which can be estimated to add about 30°C. The hydroxyl group is capable of hydrogen bonding, which can significantly increase the melting point, estimated at about 50°C. Adding these effects to the base melting point gives us an estimated melting point of 10.5°C + 40°C + 30°C + 50°C = 120.5°C.\n",
      "##Prediction: 121.0\n",
      "actual:  97.0 predicted:  121.0\n",
      "promlem 12 / 50\n"
     ]
    },
    {
     "name": "stderr",
     "output_type": "stream",
     "text": [
      " 24%|██▍       | 12/50 [12:16<43:13, 68.26s/it]"
     ]
    },
    {
     "name": "stdout",
     "output_type": "stream",
     "text": [
      "----\n",
      "\n",
      "\n",
      "- Basic unit, ethene, has a melting point of -169.2°C. \n",
      "- The addition of two methyl groups increases the molecular weight and van der Waals forces, which generally increases the melting point. Each methyl group can be estimated to increase the melting point by about +5°C. \n",
      "- The presence of the (Z) configuration, which is a trans double bond, can slightly increase the melting point due to increased rigidity of the molecule: +2°C. \n",
      "\n",
      "Adding these adjustments to the base value, we get: -169.2 + 2(5) + 2 = 5.2°C.\n",
      "##Prediction: 5.2\n",
      "actual:  -137.4 predicted:  5.2\n",
      "promlem 13 / 50\n"
     ]
    },
    {
     "name": "stderr",
     "output_type": "stream",
     "text": [
      " 26%|██▌       | 13/50 [13:39<44:48, 72.67s/it]"
     ]
    },
    {
     "name": "stdout",
     "output_type": "stream",
     "text": [
      "----\n",
      "\n",
      "\n",
      "- Basic unit, benzene, has a melting point of 5.5°C. \n",
      "- The bicyclo[4.2.0]octa-1,3,5-trien-7-ylidene group is a rigid, polycyclic structure that would significantly increase the melting point due to increased molecular rigidity and van der Waals interactions; this could be estimated as +100. \n",
      "- The 2-(2,4-dinitrophenyl)hydrazine group is a large, bulky group that would also increase the melting point due to increased molecular weight and van der Waals interactions; this could be estimated as +50. \n",
      "- The presence of two nitro groups on the phenyl ring would further increase the melting point due to their strong electron-withdrawing nature and the potential for intermolecular hydrogen bonding; each nitro group could contribute approximately +10. \n",
      "- The hydrazine group can form hydrogen bonds, which would also increase the melting point; this could be estimated as +5. \n",
      "##Prediction: 165.0\n",
      "actual:  203.0 predicted:  165.0\n",
      "promlem 14 / 50\n"
     ]
    },
    {
     "name": "stderr",
     "output_type": "stream",
     "text": [
      " 28%|██▊       | 14/50 [14:39<41:25, 69.04s/it]"
     ]
    },
    {
     "name": "stdout",
     "output_type": "stream",
     "text": [
      "----\n",
      "\n",
      "\n",
      "- Basic unit, indole: Indole has a melting point of around 52°C.\n",
      "- Acetyl group: This group can increase the melting point due to the increase in molecular weight and the possibility of dipole-dipole interactions. Estimated increase of +20°C.\n",
      "- Nitro group: The nitro group is highly electron-withdrawing and can significantly increase the melting point due to its strong intermolecular forces. Estimated increase of +40°C.\n",
      "- Phenyl group: The additional phenyl group increases the molecular weight and provides more opportunities for π-π stacking, which can raise the melting point. Estimated increase of +20°C.\n",
      "- Ester linkage (COC): This group can increase the melting point due to the polarity and potential for dipole-dipole interactions. Estimated increase of +5°C.\n",
      "Combining these effects, the predicted melting point is 52 (indole base) + 20 (acetyl) + 40 (nitro) + 20 (phenyl) + 5 (ester) = 137°C.\n",
      "##Prediction: 137.0\n",
      "\n",
      "\n",
      "#Problem\n",
      "actual:  133.0 predicted:  137.0\n",
      "promlem 15 / 50\n"
     ]
    },
    {
     "name": "stderr",
     "output_type": "stream",
     "text": [
      " 30%|███       | 15/50 [15:51<40:43, 69.82s/it]"
     ]
    },
    {
     "name": "stdout",
     "output_type": "stream",
     "text": [
      "----\n",
      "\n",
      "\n",
      "- Basic unit, methane, has a melting point of -182.5°C. \n",
      "- Octane has a melting point of -57.2°C, which is a significant increase due to the increase in molecular weight and van der Waals forces. \n",
      "- Each methyl group adds approximately +5°C to the melting point due to increased molecular weight and van der Waals interactions. \n",
      "- The 2,7-dimethyl substitution adds two methyl groups, which would contribute an additional +10°C to the melting point. \n",
      "Combining these effects, we get: -182.5 (methane) + 57.2 (octane) + 10 (2,7-dimethyl) = -115.3°C. However, this is lower than the actual value, indicating that the effects of the methyl groups and the 2,7-dimethyl substitution are underestimated. The actual value suggests that the methyl groups and the 2,7-dimethyl substitution have a stronger impact on the melting point than initially considered. \n",
      "##Prediction: 10.0\n",
      "\n",
      "\n",
      "#Problem\n",
      "actual:  -54.9 predicted:  10.0\n",
      "promlem 16 / 50\n"
     ]
    },
    {
     "name": "stderr",
     "output_type": "stream",
     "text": [
      " 32%|███▏      | 16/50 [15:54<28:11, 49.74s/it]"
     ]
    },
    {
     "name": "stdout",
     "output_type": "stream",
     "text": [
      "----\n",
      "\n",
      "\n",
      "##Prediction: 70.0\n",
      "\n",
      "\n",
      "#Problem\n",
      "actual:  25.0 predicted:  70.0\n",
      "promlem 17 / 50\n"
     ]
    },
    {
     "name": "stderr",
     "output_type": "stream",
     "text": [
      " 34%|███▍      | 17/50 [17:16<32:44, 59.53s/it]"
     ]
    },
    {
     "name": "stdout",
     "output_type": "stream",
     "text": [
      "----\n",
      "\n",
      "\n",
      "- Basic unit, benzene, has a melting point of 5.5°C. \n",
      "- The presence of a chlorine atom on the benzofuran ring increases the melting point due to the increased molecular weight and the polarity of the chlorine atom, estimated at +20°C. \n",
      "- The furan ring contributes to the melting point through its polarity and the potential for hydrogen bonding, estimated at +15°C. \n",
      "- The benzofuran structure adds rigidity and planarity to the molecule, which can increase the melting point, estimated at +30°C. \n",
      "- The oxime group can form hydrogen bonds, which can significantly increase the melting point, estimated at +40°C. \n",
      "- The conjugated double bond in the butan-2-one moiety can increase the melting point due to increased rigidity and planarity, estimated at +10°C. \n",
      "- The presence of the additional alkyl chain (butan-2-one) can increase the melting point due to increased molecular weight and van der Waals interactions, estimated at +5°C. \n",
      "- The overall effect of these functional groups is additive. \n",
      "##Prediction: 125.0\n",
      "actual:  115.0 predicted:  125.0\n",
      "promlem 18 / 50\n"
     ]
    },
    {
     "name": "stderr",
     "output_type": "stream",
     "text": [
      " 36%|███▌      | 18/50 [17:41<26:09, 49.05s/it]"
     ]
    },
    {
     "name": "stdout",
     "output_type": "stream",
     "text": [
      "----\n",
      "\n",
      "\n",
      "- Basic unit, ethylene (ethene) has a melting point of -169.2°C. \n",
      "- The addition of a double bond in propadiene increases the rigidity of the molecule, which typically increases the melting point. This effect can be estimated as an increase of +10°C. \n",
      "The predicted melting point is the sum of the base melting point of ethylene and the incremental increase due to the double bond.\n",
      "##Prediction: -159.0\n",
      "\n",
      "\n",
      "#Problem\n",
      "actual:  -136.2 predicted:  -159.0\n",
      "promlem 19 / 50\n"
     ]
    },
    {
     "name": "stderr",
     "output_type": "stream",
     "text": [
      " 38%|███▊      | 19/50 [18:11<22:21, 43.26s/it]"
     ]
    },
    {
     "name": "stdout",
     "output_type": "stream",
     "text": [
      "----\n",
      "\n",
      "\n",
      "- Basic unit, furan, has a melting point of -85.6°C. \n",
      "- Bromine atom: +40°C, due to increased molecular weight and van der Waals forces. \n",
      "- Aldehyde group: +20°C, due to the possibility of hydrogen bonding and dipole-dipole interactions. \n",
      "The predicted melting point is the sum of the effects of the basic furan unit and the substituents.\n",
      "##Prediction: -45.6\n",
      "\n",
      "\n",
      "#Problem\n",
      "actual:  56.0 predicted:  -45.6\n",
      "promlem 20 / 50\n"
     ]
    },
    {
     "name": "stderr",
     "output_type": "stream",
     "text": [
      " 40%|████      | 20/50 [18:34<18:35, 37.20s/it]"
     ]
    },
    {
     "name": "stdout",
     "output_type": "stream",
     "text": [
      "----\n",
      "\n",
      "\n",
      "- Basic unit, pyridine, has a melting point of -42°C. \n",
      "- Fluorine atoms: +40°C each (5 fluorines * 40°C = +200°C) due to increased molecular weight and polarity. \n",
      "- Amino group: +50°C due to the potential for hydrogen bonding and increased polarity. \n",
      "Combining these effects gives a predicted melting point.\n",
      "##Prediction: 258.0\n",
      "\n",
      "\n",
      "#Problem\n",
      "actual:  86.0 predicted:  258.0\n",
      "promlem 21 / 50\n"
     ]
    },
    {
     "name": "stderr",
     "output_type": "stream",
     "text": [
      " 42%|████▏     | 21/50 [19:52<23:58, 49.61s/it]"
     ]
    },
    {
     "name": "stdout",
     "output_type": "stream",
     "text": [
      "----\n",
      "\n",
      "\n",
      "- Basic unit, benzene has a melting point of 5.5°C. \n",
      "- Hydroxyl group (–OH): +50°C due to hydrogen bonding. \n",
      "- Methyl groups (–CH3): +10°C each, due to increased molecular weight and van der Waals forces. \n",
      "- Conjugation and aromaticity: +20°C due to increased rigidity and planarity of the molecule. \n",
      "- The presence of the ether linkage (–O–) may slightly increase the melting point due to polarity, but its effect is generally less than that of hydroxyl groups, so we'll estimate an increase of +5°C. \n",
      "##Prediction: 130.0\n",
      "actual:  71.0 predicted:  130.0\n",
      "promlem 22 / 50\n"
     ]
    },
    {
     "name": "stderr",
     "output_type": "stream",
     "text": [
      " 44%|████▍     | 22/50 [20:35<22:07, 47.41s/it]"
     ]
    },
    {
     "name": "stdout",
     "output_type": "stream",
     "text": [
      "----\n",
      "\n",
      "\n",
      "- Basic unit: Triazolo[3,4-b][1,3,5]thiadiazine has a melting point of approximately 170°C.\n",
      "- Methyl group: +5°C (increases molecular weight and van der Waals interactions)\n",
      "- Ethyl group: +10°C (larger alkyl group than methyl, further increasing van der Waals interactions)\n",
      "- Phenyl group: +20°C (increases molecular weight and π-π interactions)\n",
      "- Stereochemistry (6-membered ring system): +5°C (due to increased rigidity and planarity)\n",
      "The predicted melting point is the sum of the effects of all functional groups.\n",
      "##Prediction: 215.0\n",
      "\n",
      "\n",
      "#Problem\n",
      "actual:  226.0 predicted:  215.0\n",
      "promlem 23 / 50\n"
     ]
    },
    {
     "name": "stderr",
     "output_type": "stream",
     "text": [
      " 46%|████▌     | 23/50 [21:17<20:36, 45.81s/it]"
     ]
    },
    {
     "name": "stdout",
     "output_type": "stream",
     "text": [
      "----\n",
      "\n",
      "\n",
      "- Basic unit, benzene, has a melting point of 5.5°C.\n",
      "- The carboxylic acid group typically increases the melting point due to strong hydrogen bonding and dimer formation, estimated at +100°C.\n",
      "- The chlorine atom adds to the molecular weight and increases the melting point due to its electronegativity and the possibility of dipole-dipole interactions, estimated at +20°C.\n",
      "- The presence of the benzene ring and the additional oxygen atoms in the carboxylic acid and the chlorine substituent will increase the melting point due to the rigidity and planarity of the molecule, estimated at +30°C.\n",
      "- The overall molecular weight and the presence of multiple polar functional groups will increase the melting point further, estimated at +20°C.\n",
      "##Prediction: 185.5\n",
      "\n",
      "\n",
      "#Problem\n",
      "actual:  120.0 predicted:  185.5\n",
      "promlem 24 / 50\n"
     ]
    },
    {
     "name": "stderr",
     "output_type": "stream",
     "text": [
      " 48%|████▊     | 24/50 [21:52<18:29, 42.67s/it]"
     ]
    },
    {
     "name": "stdout",
     "output_type": "stream",
     "text": [
      "----\n",
      "\n",
      "\n",
      "- Basic unit, benzene, has a melting point of 5.5°C.\n",
      "- Chlorophenyl group: +40°C (due to increased molecular weight and polarity)\n",
      "- Hydrazone group: +30°C (due to the potential for hydrogen bonding and dipole-dipole interactions)\n",
      "- Thiazole ring: +50°C (due to the presence of nitrogen and sulfur, which can engage in hydrogen bonding and dipole-dipole interactions)\n",
      "- Nitrile group: +20°C (due to the polarity and potential for dipole-dipole interactions)\n",
      "- The overall molecular complexity and rigidity of the molecule will significantly increase the melting point.\n",
      "##Prediction: 145.5\n",
      "\n",
      "\n",
      "#Problem\n",
      "actual:  173.0 predicted:  145.5\n",
      "promlem 25 / 50\n"
     ]
    },
    {
     "name": "stderr",
     "output_type": "stream",
     "text": [
      " 50%|█████     | 25/50 [23:10<22:08, 53.16s/it]"
     ]
    },
    {
     "name": "stdout",
     "output_type": "stream",
     "text": [
      "----\n",
      "\n",
      "\n",
      "Flavone is a polycyclic aromatic compound with a fused ring system that includes a benzene ring and a pyran ring. The basic benzene ring has a melting point of 5.5°C. The presence of the oxygen atom in the pyran ring introduces the potential for hydrogen bonding, which would significantly increase the melting point. The fused ring system also contributes to a higher melting point due to increased rigidity and planarity of the molecule. The presence of the ketone (C=O) group also contributes to the melting point through dipole-dipole interactions. The combined effect of these functional groups is estimated to increase the melting point significantly. Benzene ring: +5.5, Oxygen in pyran ring: +40 (hydrogen bonding and polarity), Fused ring system: +30 (increased rigidity and planarity), Ketone group: +10 (dipole-dipole interactions), Prediction: +85.5\n",
      "##Prediction: 85.0\n",
      "actual:  98.5 predicted:  85.0\n",
      "promlem 26 / 50\n"
     ]
    },
    {
     "name": "stderr",
     "output_type": "stream",
     "text": [
      " 52%|█████▏    | 26/50 [23:47<19:21, 48.39s/it]"
     ]
    },
    {
     "name": "stdout",
     "output_type": "stream",
     "text": [
      "----\n",
      "\n",
      "\n",
      "- Basic unit, pyridine, has a melting point of 20°C. \n",
      "- The presence of a carboxylic acid group significantly increases the melting point due to strong hydrogen bonding and dimerization, estimated at +150°C. \n",
      "- The beta-carboline structure introduces a rigid bicyclic system, which can increase the melting point by about +50°C due to enhanced molecular packing. \n",
      "- The tetrahydro group, which is a saturated ring, can slightly decrease the melting point due to less efficient packing, estimated at -5°C. \n",
      "- The overall molecule has a complex structure that allows for extensive hydrogen bonding and pi-pi stacking, which can further increase the melting point. \n",
      "##Prediction: 205.0\n",
      "\n",
      "\n",
      "#Problem\n",
      "actual:  296.0 predicted:  205.0\n",
      "promlem 27 / 50\n"
     ]
    },
    {
     "name": "stderr",
     "output_type": "stream",
     "text": [
      " 54%|█████▍    | 27/50 [24:12<15:52, 41.40s/it]"
     ]
    },
    {
     "name": "stdout",
     "output_type": "stream",
     "text": [
      "----\n",
      "\n",
      "\n",
      "- Basic unit, pyrazole, has a melting point of around 70°C.\n",
      "- Methyl group: +5 (increases the melting point due to increased van der Waals interactions)\n",
      "- Hydroxyl group: +40 (hydrogen bonding capability significantly raises the melting point)\n",
      "- Methanol side chain: +5 (increases the melting point due to hydrogen bonding and dipole-dipole interactions)\n",
      "The combined effect of these groups is expected to increase the melting point significantly.\n",
      "##Prediction: 125.0\n",
      "\n",
      "\n",
      "#Problem\n",
      "actual:  79.0 predicted:  125.0\n",
      "promlem 28 / 50\n"
     ]
    },
    {
     "name": "stderr",
     "output_type": "stream",
     "text": [
      " 56%|█████▌    | 28/50 [24:49<14:40, 40.04s/it]"
     ]
    },
    {
     "name": "stdout",
     "output_type": "stream",
     "text": [
      "----\n",
      "\n",
      "\n",
      "- Base structure: Bicyclic compounds generally have higher melting points due to increased rigidity and planarity, which can be estimated at around +100°C. \n",
      "- Methyl groups: Each methyl group can be estimated to raise the melting point by about +5°C due to increased van der Waals forces. There are three methyl groups, so the total effect would be +15°C. \n",
      "- Ketone group: The presence of a ketone group can increase the melting point due to polar carbonyl interactions, estimated at +20°C. \n",
      "The prediction is the sum of these effects.\n",
      "##Prediction: 135.0\n",
      "\n",
      "\n",
      "#Problem\n",
      "actual:  193.0 predicted:  135.0\n",
      "promlem 29 / 50\n"
     ]
    },
    {
     "name": "stderr",
     "output_type": "stream",
     "text": [
      " 58%|█████▊    | 29/50 [25:12<12:12, 34.90s/it]"
     ]
    },
    {
     "name": "stdout",
     "output_type": "stream",
     "text": [
      "----\n",
      "\n",
      "\n",
      "- Basic unit, naphthalene, has a melting point of 80.1°C. \n",
      "- Bromomethane substituent: +20°C (increases molecular weight and enhances van der Waals interactions). \n",
      "- The naphthalene core is already aromatic and has a high melting point, so the addition of a bromomethane group will not significantly alter the melting point. \n",
      "##Prediction: 100.0\n",
      "\n",
      "\n",
      "#Problem\n",
      "actual:  56.0 predicted:  100.0\n",
      "promlem 30 / 50\n",
      "----\n",
      "\n",
      "\n",
      "- Basic unit, benzene has a melting point of 5.5°C. \n",
      "- The compound has a complex structure with multiple functional groups that will influence the melting point. The presence of two phenyl rings contributes to an increase in melting point due to π-π interactions and increased molecular weight, estimated at +40°C for each phenyl ring. \n",
      "- The bicyclic structure adds rigidity to the molecule, which typically increases the melting point; this can be estimated at +20°C. \n",
      "- The presence of nitrile groups (C≡N) can engage in dipole-dipole interactions and increase the melting point; each nitrile group can be estimated to add +15°C. \n",
      "- The dinitrile linkage (C≡N-C≡N) adds rigidity and potential for intermolecular interactions, estimated at +20°C. \n",
      "- The molecule has a large molecular weight and size, which can increase the melting point due to London dispersion forces; this can be estimated at +10°C. \n",
      "- The compound has a high degree of symmetry, which can facilitate efficient packing in the solid state, potentially increasing the melting point; this can be estimated at +5°C. \n",
      "- The actual melting point is 105.0°C, which is significantly higher than the predicted value. This suggests that the contributions of the functional groups were overestimated. The actual value of the phenyl rings' contribution should be lower, and the nitrile groups' contribution should be lower as well. The bicyclic structure's contribution should be re-evaluated to be less than initially predicted. The dinitrile linkage's contribution should also be re-evaluated to be less than\n"
     ]
    },
    {
     "name": "stderr",
     "output_type": "stream",
     "text": [
      " 60%|██████    | 30/50 [27:18<20:45, 62.26s/it]"
     ]
    },
    {
     "name": "stdout",
     "output_type": "stream",
     "text": [
      "----\n",
      "\n",
      "\n",
      "- Basic unit, bicyclo[2.2.1]heptane: +50 (due to rigid structure and increased molecular weight) \n",
      "- Each phenyl group: +20 (due to π-π interactions and increased molecular weight) \n",
      "- Each nitrile group: +10 (due to dipole-dipole interactions and rigidity) \n",
      "- Each ester group: +5 (due to dipole-dipole interactions and potential for hydrogen bonding) \n",
      "- Methyl groups: +5 each (due to increased molecular weight and van der Waals interactions) \n",
      "- Branching and steric hindrance: -5 (due to decreased packing efficiency) \n",
      "The prediction is the sum of these contributions.\n",
      "##Prediction: 155.0\n",
      "\n",
      "\n",
      "#Problem\n",
      "actual:  190.0 predicted:  155.0\n",
      "promlem 31 / 50\n"
     ]
    },
    {
     "name": "stderr",
     "output_type": "stream",
     "text": [
      " 62%|██████▏   | 31/50 [27:54<17:12, 54.32s/it]"
     ]
    },
    {
     "name": "stdout",
     "output_type": "stream",
     "text": [
      "----\n",
      "\n",
      "\n",
      "- Basic unit, biphenyl, has a melting point of around 69°C. \n",
      "- Each amide group is expected to increase the melting point due to strong hydrogen bonding and resonance stabilization, estimated at +20°C per amide. \n",
      "- The tetraalkylamide structure adds significant molecular weight and rigidity, which can further increase the melting point, estimated at +10°C for the entire structure. \n",
      "- The presence of four amide groups and the rigid tetraalkylamide structure should lead to a substantial increase in melting point. \n",
      "##Prediction: 129.0\n",
      "\n",
      "\n",
      "#Problem\n",
      "actual:  279.0 predicted:  129.0\n",
      "promlem 32 / 50\n"
     ]
    },
    {
     "name": "stderr",
     "output_type": "stream",
     "text": [
      " 64%|██████▍   | 32/50 [28:28<14:30, 48.34s/it]"
     ]
    },
    {
     "name": "stdout",
     "output_type": "stream",
     "text": [
      "----\n",
      "\n",
      "\n",
      "- Basic unit, isoxazole: 50°C (estimated base melting point for a heterocyclic compound)\n",
      "- Methyl groups: +5°C each (two in total), due to increased molecular weight and van der Waals interactions\n",
      "- Boronic acid group: +40°C, due to the ability to form strong hydrogen bonds and the presence of a boron atom which increases the melting point significantly\n",
      "- Hydroxyl group: +20°C, due to hydrogen bonding capabilities\n",
      "Adding these increments to the base value gives us the predicted melting point.\n",
      "##Prediction: 135.0\n",
      "\n",
      "\n",
      "#Problem\n",
      "actual:  107.0 predicted:  135.0\n",
      "promlem 33 / 50\n"
     ]
    },
    {
     "name": "stderr",
     "output_type": "stream",
     "text": [
      " 66%|██████▌   | 33/50 [29:50<16:34, 58.51s/it]"
     ]
    },
    {
     "name": "stdout",
     "output_type": "stream",
     "text": [
      "----\n",
      "\n",
      "\n",
      "- Basic unit, benzene, has a melting point of 5.5°C. \n",
      "- The compound has multiple functional groups that will affect the melting point: \n",
      "- Hydroxyl group: +50°C (due to hydrogen bonding and increased polarity) \n",
      "- Hydrazone linkage: +40°C (due to rigidity and potential for hydrogen bonding) \n",
      "- Thiazole ring: +30°C (due to increased molecular weight and potential for hydrogen bonding) \n",
      "- Nitrile group: +20°C (due to dipole-dipole interactions and increased molecular weight) \n",
      "- Methyl group on the phenyl ring: +5°C (due to increased molecular weight and slight increase in van der Waals forces) \n",
      "- The compound has a complex structure with multiple aromatic rings and heteroatoms, which can lead to increased intermolecular interactions and a higher melting point. \n",
      "- The overall structure is rigid and planar, which can facilitate better packing in the solid state, further increasing the melting point. \n",
      "- The predicted increase is the sum of the contributions from each functional group.\n",
      "##Prediction: 155.0\n",
      "\n",
      "\n",
      "#Problem\n",
      "actual:  253.0 predicted:  155.0\n",
      "promlem 34 / 50\n"
     ]
    },
    {
     "name": "stderr",
     "output_type": "stream",
     "text": [
      " 68%|██████▊   | 34/50 [31:13<17:32, 65.77s/it]"
     ]
    },
    {
     "name": "stdout",
     "output_type": "stream",
     "text": [
      "----\n",
      "\n",
      "\n",
      "- Basic unit, benzene, has a melting point of 5.5°C.\n",
      "- The presence of the naphthalene structure contributes significantly to the melting point due to increased molecular weight and rigidity, estimated at +100°C.\n",
      "- The carboxylic acid group is capable of strong hydrogen bonding, which can raise the melting point substantially, estimated at +150°C.\n",
      "- The presence of the chiral center and the additional methyl group do not significantly alter the melting point, so we can estimate their contributions to be negligible.\n",
      "##Prediction: 255.5\n",
      "actual:  152.0 predicted:  255.5\n",
      "promlem 35 / 50\n"
     ]
    },
    {
     "name": "stderr",
     "output_type": "stream",
     "text": [
      " 70%|███████   | 35/50 [31:17<11:47, 47.15s/it]"
     ]
    },
    {
     "name": "stdout",
     "output_type": "stream",
     "text": [
      "----\n",
      "\n",
      "\n",
      "##Prediction: 105.0\n",
      "\n",
      "\n",
      "#Problem\n",
      "actual:  28.0 predicted:  105.0\n",
      "promlem 36 / 50\n"
     ]
    },
    {
     "name": "stderr",
     "output_type": "stream",
     "text": [
      " 72%|███████▏  | 36/50 [32:39<13:26, 57.64s/it]"
     ]
    },
    {
     "name": "stdout",
     "output_type": "stream",
     "text": [
      "----\n",
      "\n",
      "\n",
      "- Basic unit, acetic acid, has a melting point of 16.6°C. \n",
      "- Methyl groups generally increase the melting point due to increased molecular weight and van der Waals forces; each methyl group might contribute around +5°C. \n",
      "- The carboxylic acid group is capable of strong hydrogen bonding, which significantly raises the melting point; we can estimate an increase of +40°C for the carboxylic acid group. \n",
      "- The presence of three methyl groups will add to the melting point, but the effect of each additional methyl group is less pronounced than the first one due to diminishing returns. We can estimate an additional +2°C for each of the remaining two methyl groups. \n",
      "- The overall increase in molecular weight and van der Waals forces due to the additional methyl groups will also contribute to the melting point, but this effect is already accounted for in the contributions of the individual groups. \n",
      "##Prediction: 63.0\n",
      "actual:  33.0 predicted:  63.0\n",
      "promlem 37 / 50\n"
     ]
    },
    {
     "name": "stderr",
     "output_type": "stream",
     "text": [
      " 74%|███████▍  | 37/50 [33:41<12:45, 58.91s/it]"
     ]
    },
    {
     "name": "stdout",
     "output_type": "stream",
     "text": [
      "----\n",
      "\n",
      "\n",
      "- Basic unit, benzene, has a melting point of 5.5°C. \n",
      "- The compound has multiple functional groups that will affect the melting point: \n",
      "- Epoxy groups: +20°C each (due to increased molecular weight and polarity, which enhances intermolecular interactions) \n",
      "- Acetoxy groups: +15°C each (due to increased molecular weight and polarity) \n",
      "- Benzoylamino group: +30°C (due to the rigidity and planarity it introduces, as well as the potential for hydrogen bonding) \n",
      "- Hydroxy groups: +10°C each (due to hydrogen bonding capabilities) \n",
      "- Keto groups: +5°C each (due to polarity and potential for dipole-dipole interactions) \n",
      "- The compound has a complex structure with multiple rings and chains, which can lead to a higher melting point due to increased molecular rigidity and van der Waals interactions. However, the actual value is 107.0°C, which is significantly higher than the sum of the individual contributions. This suggests that the compound's structure and the interactions between the functional groups are more complex and synergistic than initially considered. \n",
      "##Prediction: 107.0\n",
      "\n",
      "\n",
      "#Problem\n",
      "actual:  214.5 predicted:  107.0\n",
      "promlem 38 / 50\n"
     ]
    },
    {
     "name": "stderr",
     "output_type": "stream",
     "text": [
      " 76%|███████▌  | 38/50 [34:32<11:20, 56.69s/it]"
     ]
    },
    {
     "name": "stdout",
     "output_type": "stream",
     "text": [
      "----\n",
      "\n",
      "\n",
      "- Basic unit, benzene has a melting point of 5.5°C.\n",
      "- Dibenz[ah]anthracene has a large, rigid, and planar structure, which increases the melting point due to better packing and stronger intermolecular forces such as pi-pi stacking interactions. Each additional benzene ring can be estimated to increase the melting point by about 20°C. With two additional benzene rings, this would be 40°C.\n",
      "- The fused ring system further increases the rigidity and planarity of the molecule, which can be estimated to add another 20°C.\n",
      "- The molecule is quite large and bulky, which can disrupt crystal packing and lower the melting point. However, the rigidity and planarity of the molecule can counteract this effect. We'll estimate a 5°C decrease due to steric hindrance.\n",
      "##Prediction: 65.0\n",
      "\n",
      "\n",
      "#Problem\n",
      "actual:  269.0 predicted:  65.0\n",
      "promlem 39 / 50\n"
     ]
    },
    {
     "name": "stderr",
     "output_type": "stream",
     "text": [
      " 78%|███████▊  | 39/50 [34:49<08:11, 44.72s/it]"
     ]
    },
    {
     "name": "stdout",
     "output_type": "stream",
     "text": [
      "----\n",
      "\n",
      "\n",
      "- Basic benzene unit: 5.5°C\n",
      "- Each vinyl group (C=C-): +20°C (increases rigidity and planarity, which can enhance crystal packing)\n",
      "- The compound has three vinyl groups, so the total increase would be +60°C.\n",
      "##Prediction: 65.5\n",
      "\n",
      "\n",
      "#Problem\n",
      "actual:  72.5 predicted:  65.5\n",
      "promlem 40 / 50\n"
     ]
    },
    {
     "name": "stderr",
     "output_type": "stream",
     "text": [
      " 80%|████████  | 40/50 [36:12<09:23, 56.33s/it]"
     ]
    },
    {
     "name": "stdout",
     "output_type": "stream",
     "text": [
      "----\n",
      "\n",
      "\n",
      "- Basic unit, acetamide, has a melting point of around 82°C.\n",
      "- Benzoyloxy group: This group is a benzoyl group attached to an oxygen atom, which can increase the melting point due to the rigidity of the structure and potential for dipole-dipole interactions. We estimate this to increase the melting point by about 20°C.\n",
      "- N,N-bis(2-methylpropyl) group: This group is a bulky substituent that can disrupt crystal packing, potentially lowering the melting point. However, the presence of the benzoyloxy group may counteract this effect to some extent. We estimate this group to decrease the melting point by about 10°C.\n",
      "- The overall effect of these groups is an increase of 10°C due to the benzoyloxy group and a decrease of 10°C due to the N,N-bis(2-methylpropyl) group, resulting in a net change of 0°C.\n",
      "##Prediction: 82.0\n",
      "actual:  44.5 predicted:  82.0\n",
      "promlem 41 / 50\n"
     ]
    },
    {
     "name": "stderr",
     "output_type": "stream",
     "text": [
      " 82%|████████▏ | 41/50 [37:36<09:41, 64.63s/it]"
     ]
    },
    {
     "name": "stdout",
     "output_type": "stream",
     "text": [
      "----\n",
      "\n",
      "\n",
      "- Basic unit, benzene, has a melting point of 5.5 degrees Celsius. \n",
      "- Acetyl group: +20 degrees Celsius, due to increased molecular weight and potential for dipole-dipole interactions. \n",
      "- 1,3-Dioxolan ring: +30 degrees Celsius, due to the presence of oxygen atoms which can engage in hydrogen bonding and the rigidity of the ring structure. \n",
      "- 2,4-Dichlorophenyl group: +40 degrees Celsius, due to the electron-withdrawing effect of chlorine atoms and increased molecular weight. \n",
      "- 1H-imidazol-1-ylmethyl group: +30 degrees Celsius, due to the presence of nitrogen which can engage in hydrogen bonding and the rigidity of the imidazole ring. \n",
      "- Methoxy group: +10 degrees Celsius, due to the increase in molecular weight and potential for dipole-dipole interactions. \n",
      "- Piperazine ring: +40 degrees Celsius, due to the presence of nitrogen atoms which can engage in hydrogen bonding and the rigidity of the ring structure. \n",
      "Summing these contributions, we predict an increase of 150 degrees Celsius from the base melting point of benzene.\n",
      "##Prediction: 65.0\n",
      "\n",
      "\n",
      "#Problem\n",
      "actual:  146.0 predicted:  65.0\n",
      "promlem 42 / 50\n"
     ]
    },
    {
     "name": "stderr",
     "output_type": "stream",
     "text": [
      " 84%|████████▍ | 42/50 [38:24<07:55, 59.46s/it]"
     ]
    },
    {
     "name": "stdout",
     "output_type": "stream",
     "text": [
      "----\n",
      "\n",
      "\n",
      "- Basic unit, butanone has a melting point of -90.6°C. \n",
      "- The semicarbazone group is expected to significantly increase the melting point due to its ability to form hydrogen bonds and its rigid structure, which can be estimated at +150°C. \n",
      "- The phenyl group is aromatic and can increase the melting point due to pi-pi interactions and increased molecular rigidity, estimated at +30°C. \n",
      "- The methyl group is a small alkyl group and typically has a minimal effect on the melting point, estimated at +5°C. \n",
      "- The overall structure is complex and includes a conjugated system, which can further increase the melting point due to the rigidity and planarity of the molecule, estimated at +20°C. \n",
      "##Prediction: 145.0\n",
      "\n",
      "\n",
      "#Problem\n",
      "actual:  112.0 predicted:  145.0\n",
      "promlem 43 / 50\n"
     ]
    },
    {
     "name": "stderr",
     "output_type": "stream",
     "text": [
      " 86%|████████▌ | 43/50 [38:54<05:53, 50.56s/it]"
     ]
    },
    {
     "name": "stdout",
     "output_type": "stream",
     "text": [
      "----\n",
      "\n",
      "\n",
      "- Base structure, phenol, has a melting point of 41.5°C.\n",
      "- Methyl groups: Each methyl group can be expected to raise the melting point due to increased molecular weight and van der Waals interactions. Estimated effect per methyl group: +5°C.\n",
      "- Hydroxyl group: The hydroxyl group is capable of forming hydrogen bonds, which significantly increases the melting point. Estimated effect: +20°C.\n",
      "Adding these effects together gives us the predicted melting point.\n",
      "##Prediction: 66.0\n",
      "\n",
      "\n",
      "#Problem\n",
      "actual:  72.5 predicted:  66.0\n",
      "promlem 44 / 50\n"
     ]
    },
    {
     "name": "stderr",
     "output_type": "stream",
     "text": [
      " 88%|████████▊ | 44/50 [39:37<04:50, 48.46s/it]"
     ]
    },
    {
     "name": "stdout",
     "output_type": "stream",
     "text": [
      "----\n",
      "\n",
      "\n",
      "- Basic unit, benzene: 5.5\n",
      "- Two phenyl rings: +2x20 = +40 (increases molecular weight and π-π stacking)\n",
      "- Nitro groups: +2x15 = +30 (introduce strong intermolecular forces due to their electron-withdrawing nature)\n",
      "- Conjugated double bond: +10 (increases rigidity and planarity)\n",
      "- Hydrazine linkage: +5 (introduces hydrogen bonding and polarity)\n",
      "- Alkene linkage: +5 (increases rigidity and planarity)\n",
      "- Overall, the compound has a complex structure with multiple functional groups that contribute to its melting point. The prediction should be adjusted to reflect the combined effects of these groups.\n",
      "##Prediction: 105.0\n",
      "\n",
      "\n",
      "#Problem\n",
      "actual:  193.0 predicted:  105.0\n",
      "promlem 45 / 50\n"
     ]
    },
    {
     "name": "stderr",
     "output_type": "stream",
     "text": [
      " 90%|█████████ | 45/50 [40:58<04:50, 58.04s/it]"
     ]
    },
    {
     "name": "stdout",
     "output_type": "stream",
     "text": [
      "----\n",
      "\n",
      "\n",
      "- Basic unit, pregnenolone, has a melting point of 200°C.\n",
      "- Acetoxy group: +20°C (increases the melting point due to the polar nature and the ability to form dipole-dipole interactions).\n",
      "- Steroid structure: +100°C (the rigid, polycyclic structure of pregnenolone contributes significantly to the melting point due to the extensive van der Waals interactions and the difficulty of molecular rotation).\n",
      "- Hydroxyl groups: +20°C (each hydroxyl group can form hydrogen bonds, which increases the melting point).\n",
      "- Ketone groups: +10°C (each ketone group can participate in dipole-dipole interactions, slightly increasing the melting point).\n",
      "- The overall structure of pregnenolone is complex and contributes to a high melting point due to the rigidity and the ability to form extensive intermolecular forces.\n",
      "##Prediction: 330.0\n",
      "actual:  184.5 predicted:  330.0\n",
      "promlem 46 / 50\n"
     ]
    },
    {
     "name": "stderr",
     "output_type": "stream",
     "text": [
      " 92%|█████████▏| 46/50 [42:17<04:17, 64.46s/it]"
     ]
    },
    {
     "name": "stdout",
     "output_type": "stream",
     "text": [
      "----\n",
      "\n",
      "\n",
      "The compound in question has several functional groups that influence its melting point. The basic unit for comparison is benzene, which has a melting point of 5.5°C. The presence of multiple aromatic rings, including a furan ring and a phenyl ring, increases the melting point due to increased pi-pi stacking and van der Waals interactions; this effect could be estimated at +50°C for each ring. The nitro group is a strong electron-withdrawing group that can form intermolecular hydrogen bonds and increase the melting point significantly; an estimated increase of +40°C is reasonable. The ketone group also contributes to the melting point through dipole-dipole interactions and possible hydrogen bonding, estimated at +20°C. The conjugated double bond system in the molecule provides additional rigidity and planarity, which could contribute an estimated +10°C. However, the actual value is lower than the predicted value, indicating that the contributions of these groups have been overestimated.\n",
      "##Prediction: 161.0\n",
      "actual:  147.0 predicted:  161.0\n",
      "promlem 47 / 50\n"
     ]
    },
    {
     "name": "stderr",
     "output_type": "stream",
     "text": [
      " 94%|█████████▍| 47/50 [42:40<02:36, 52.12s/it]"
     ]
    },
    {
     "name": "stdout",
     "output_type": "stream",
     "text": [
      "----\n",
      "\n",
      "\n",
      "- Basic unit, ethane, has a melting point of -172°C.\n",
      "- The addition of a methyl group (butyl) to ethane typically raises the melting point due to increased van der Waals forces, estimated at +20°C.\n",
      "- The presence of a thiol group (-SH) can form hydrogen bonds, which significantly increases the melting point, estimated at +100°C.\n",
      "- The molecule is small and has a low molecular weight, which generally lowers the melting point, estimated at -5°C.\n",
      "##Prediction: -127.0\n",
      "\n",
      "\n",
      "#Problem\n",
      "actual:  -116.0 predicted:  -127.0\n",
      "promlem 48 / 50\n"
     ]
    },
    {
     "name": "stderr",
     "output_type": "stream",
     "text": [
      " 96%|█████████▌| 48/50 [43:14<01:33, 46.67s/it]"
     ]
    },
    {
     "name": "stdout",
     "output_type": "stream",
     "text": [
      "----\n",
      "\n",
      "\n",
      "- Basic unit, benzene: 80°C (as a reference for the aromatic ring)\n",
      "- Carboxylic acid group: +40°C (due to strong hydrogen bonding and dimer formation)\n",
      "- Trifluoromethoxy group: +20°C (due to the electronegative fluorine atoms and the polar nature of the O-C-F bond)\n",
      "- Methoxy group: +5°C (due to the polar O-C bond)\n",
      "The predicted melting point is the sum of the contributions from each functional group.\n",
      "##Prediction: 145.0\n",
      "\n",
      "\n",
      "#Problem\n",
      "actual:  79.0 predicted:  145.0\n",
      "promlem 49 / 50\n"
     ]
    },
    {
     "name": "stderr",
     "output_type": "stream",
     "text": [
      " 98%|█████████▊| 49/50 [43:36<00:39, 39.23s/it]"
     ]
    },
    {
     "name": "stdout",
     "output_type": "stream",
     "text": [
      "----\n",
      "\n",
      "\n",
      "- Basic unit, methane: -182.5°C\n",
      "- Chloro groups: +2x(+40°C), due to increased molecular weight and polarizability, which enhance intermolecular forces.\n",
      "- Fluoro groups: +2x(+20°C), due to their electronegativity and ability to form dipole-dipole interactions.\n",
      "\n",
      "The combined effect of these substituents on the melting point is the sum of their individual contributions.\n",
      "##Prediction: -182.5\n",
      "\n",
      "\n",
      "#Problem\n",
      "actual:  -158.0 predicted:  -182.5\n",
      "promlem 50 / 50\n"
     ]
    },
    {
     "name": "stderr",
     "output_type": "stream",
     "text": [
      "100%|██████████| 50/50 [44:06<00:00, 52.94s/it]"
     ]
    },
    {
     "name": "stdout",
     "output_type": "stream",
     "text": [
      "----\n",
      "\n",
      "\n",
      "- Basic unit, benzene, has a melting point of 5.5°C.\n",
      "- Bromine atoms are large and heavy, which can significantly increase the melting point due to increased van der Waals forces. Each bromine can be estimated to add approximately 40-50°C.\n",
      "- The nitro group is also a heavy atom and can participate in intermolecular interactions, such as dipole-dipole interactions, which can further increase the melting point. The nitro group can be estimated to add around 30-40°C.\n",
      "- The presence of two bromine atoms and one nitro group will cumulatively increase the melting point.\n",
      "##Prediction: 232.0\n",
      "\n",
      "\n",
      "#Problem\n",
      "actual:  84.0 predicted:  232.0\n"
     ]
    },
    {
     "name": "stderr",
     "output_type": "stream",
     "text": [
      "\n"
     ]
    }
   ],
   "source": [
    "#予測時のハイパラ\n",
    "n_prompt_examples=3 #何件の例題をprompt tuningで出すか\n",
    "n_max_trials=2  # 値を返さなかったときの再試行の最大数\n",
    "random.seed(0)\n",
    "prediction_results={}\n",
    "\n",
    "\n",
    "res_list=[]\n",
    "for test_id in tqdm(range(n_test)):\n",
    "    print(f\"promlem {test_id+1} / {n_test}\")\n",
    "    for _ in range(n_max_trials):\n",
    "        try:\n",
    "            prompt=generate_question_prompt(dataset,test_id,n_prompt_examples=n_prompt_examples)\n",
    "            reason,value=ask_value(prompt,model,tokenizer)\n",
    "        except Exception as e:\n",
    "            print(e)\n",
    "            continue\n",
    "\n",
    "\n",
    "        if value is not None:\n",
    "            record=copy.deepcopy(dataset[test_id])\n",
    "            record[\"Test (Predicted reason)\"]=reason\n",
    "            record[\"Test (Predicted value)\"]=value\n",
    "            res_list.append(record)\n",
    "            print(\"actual: \",record[\"mpC\"],\"predicted: \", record[\"Test (Predicted value)\"],)\n",
    "            break\n",
    "prediction_results[n_prompt_examples]=res_list"
   ]
  },
  {
   "cell_type": "code",
   "execution_count": 19,
   "metadata": {},
   "outputs": [
    {
     "data": {
      "image/png": "[encoded data removed]",
      "text/plain": [
       "<Figure size 640x480 with 1 Axes>"
      ]
     },
     "metadata": {},
     "output_type": "display_data"
    }
   ],
   "source": [
    "#plot\n",
    "import matplotlib.pyplot as plt\n",
    "import seaborn as sns\n",
    "from sklearn.metrics import mean_squared_error,mean_absolute_error,r2_score\n",
    "from datetime import datetime\n",
    "import json\n",
    "current_datetime = datetime.now()\n",
    "vmin=-200\n",
    "vmax=300\n",
    "\n",
    "#plot prediction results\n",
    "for n_prompt_examples,records in prediction_results.items():\n",
    "    sel_df=pd.DataFrame(records)\n",
    "    #floatに可能なものは変換\n",
    "    sel_df[\"Test (Predicted value)\"] = pd.to_numeric(sel_df[\"Test (Predicted value)\"], errors='coerce')\n",
    "    sel_df=sel_df[sel_df[\"Test (Predicted value)\"].notnull()]\n",
    "    if len(sel_df)==0:\n",
    "        continue\n",
    "    mse=mean_squared_error(sel_df[\"mpC\"],sel_df[\"Test (Predicted value)\"])\n",
    "\n",
    "    plt.figure()\n",
    "    sns.scatterplot(data=sel_df,x=\"mpC\",y=\"Test (Predicted value)\")\n",
    "    plt.title(f\"n_prompt_examples={n_prompt_examples} MSE={mse:.0f}\")\n",
    "\n",
    "    #x,yの範囲を揃える\n",
    "    plt.xlim(vmin,vmax)\n",
    "    plt.ylim(vmin,vmax)\n",
    "    #対角線を描く\n",
    "    plt.plot([vmin,vmax],[vmin,vmax],color=\"gray\")\n",
    "    formatted_filename = f\"results/model={model_size}_{current_datetime.strftime('%Y%m%d_%H%M%S')}_train={do_train}.png\"\n",
    "    plt.savefig(formatted_filename)\n",
    "    #break\n",
    "\n",
    "save_json_filename=formatted_filename.replace(\".png\",\".json\")\n",
    "with open(save_json_filename,\"w\") as f:\n",
    "    json.dump(prediction_results,fp=f,\n",
    "              indent=4)"
   ]
  },
  {
   "cell_type": "code",
   "execution_count": 20,
   "metadata": {},
   "outputs": [
    {
     "name": "stdout",
     "output_type": "stream",
     "text": [
      "7088.903399999999\n",
      "65.778\n",
      "0.381102375321117\n"
     ]
    }
   ],
   "source": [
    "#スコア\n",
    "print(mean_squared_error(sel_df[\"mpC\"],sel_df[\"Test (Predicted value)\"]))\n",
    "print(mean_absolute_error(sel_df[\"mpC\"],sel_df[\"Test (Predicted value)\"]))\n",
    "print(r2_score(sel_df[\"mpC\"],sel_df[\"Test (Predicted value)\"]))\n"
   ]
  },
  {
   "cell_type": "code",
   "execution_count": 21,
   "metadata": {},
   "outputs": [
    {
     "data": {
      "text/plain": [
       "1.0"
      ]
     },
     "execution_count": 21,
     "metadata": {},
     "output_type": "execute_result"
    }
   ],
   "source": [
    "#回答可能な問題の割合\n",
    "sel_df.shape[0]/n_test"
   ]
  },
  {
   "cell_type": "code",
   "execution_count": null,
   "metadata": {},
   "outputs": [],
   "source": []
  }
 ],
 "metadata": {
  "kernelspec": {
   "display_name": "chemllm",
   "language": "python",
   "name": "python3"
  },
  "language_info": {
   "codemirror_mode": {
    "name": "ipython",
    "version": 3
   },
   "file_extension": ".py",
   "mimetype": "text/x-python",
   "name": "python",
   "nbconvert_exporter": "python",
   "pygments_lexer": "ipython3",
   "version": "3.12.0"
  }
 },
 "nbformat": 4,
 "nbformat_minor": 2
}
