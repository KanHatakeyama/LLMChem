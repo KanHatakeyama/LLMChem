{
 "cells": [
  {
   "cell_type": "code",
   "execution_count": null,
   "metadata": {},
   "outputs": [],
   "source": [
    "# finetuning llama2"
   ]
  },
  {
   "cell_type": "markdown",
   "metadata": {},
   "source": [
    "# (Q)分子構造+(R)理由+(A)物性データセットのLLMによる学習と予測\n",
    "- Q&A: 融点データセットを使用\n",
    "- R: GPT4を使い､Q&Aをもとに自動生成\n",
    "- 強化学習をしてみる"
   ]
  },
  {
   "cell_type": "code",
   "execution_count": null,
   "metadata": {},
   "outputs": [],
   "source": [
    "#!pip install transformers==4.35.0\n",
    "#!pip install peft==0.5.0\n",
    "#!pip install bitsandbytes==0.41.1\n",
    "#!pip install accelerate==0.23.0\n",
    "#!pip install flash-attn==2.3.1.post1\n",
    "#!pip install datasets==2.14.5\n",
    "\n",
    "#!pip install sentencepiece"
   ]
  },
  {
   "cell_type": "code",
   "execution_count": 1,
   "metadata": {},
   "outputs": [
    {
     "name": "stderr",
     "output_type": "stream",
     "text": [
      "/home/setup/miniconda3/envs/chemllm/lib/python3.10/site-packages/tqdm/auto.py:21: TqdmWarning: IProgress not found. Please update jupyter and ipywidgets. See https://ipywidgets.readthedocs.io/en/stable/user_install.html\n",
      "  from .autonotebook import tqdm as notebook_tqdm\n"
     ]
    }
   ],
   "source": [
    "import os\n",
    "os.environ[\"CUDA_VISIBLE_DEVICES\"]=\"1\"\n",
    "\n",
    "from transformers import AutoModelForCausalLM, BitsAndBytesConfig\n",
    "import torch\n",
    "from peft import LoraConfig, get_peft_model\n",
    "from transformers import AutoTokenizer,pipeline\n",
    "from datasets import Dataset\n",
    "import copy\n",
    "from tqdm import tqdm\n",
    "#問題設定: はじめのN件をテストデータにする\n",
    "n_test=50"
   ]
  },
  {
   "cell_type": "code",
   "execution_count": 2,
   "metadata": {},
   "outputs": [],
   "source": [
    "#ハイパラ関連\n",
    "#モデル名\n",
    "model_size=7\n",
    "#model_size=13\n",
    "#model_size=70\n",
    "model_name=f\"meta-llama/Llama-2-{model_size}b-chat-hf\"\n",
    "\n",
    "model_name=\"ahxt/LiteLlama-460M-1T\"\n",
    "model_name = \"PY007/TinyLlama-1.1B-Chat-v0.3\"\n",
    "model_name = 'openlm-research/open_llama_3b_v2'\n",
    "#LoRA関連\n",
    "r=32\n",
    "lora_alpha=r\n",
    "bit=16\n",
    "#bit=8\n",
    "#bit=4\n",
    "\n",
    "#LoRAのadapter\n",
    "target_modules= [\n",
    "    #\"embed_tokens\",\n",
    "    \"lm_head\",\n",
    "    #\"q_proj\",\n",
    "    #\"k_proj\",\n",
    "    \"v_proj\",\n",
    "    \"o_proj\",\n",
    "    \"gate_proj\",\n",
    "    \"up_proj\",\n",
    "    #\"down_proj\",\n",
    "]\n",
    "\n",
    "#学習関連\n",
    "#gradient_checkpointing =True  #vramの節約をしたい場合\n",
    "gradient_checkpointing =False\n",
    "per_device_train_batch_size=1\n",
    "epochs=3\n",
    "lr=10**-5\n",
    "do_train=True\n",
    "#do_train=False"
   ]
  },
  {
   "cell_type": "code",
   "execution_count": 3,
   "metadata": {},
   "outputs": [],
   "source": [
    "\n",
    "device_map=\"auto\"\n",
    "\n",
    "bnb_config = BitsAndBytesConfig(\n",
    "    load_in_4bit=True,\n",
    "    bnb_4bit_use_double_quant=True,\n",
    "    bnb_4bit_quant_type=\"nf4\",\n",
    "    bnb_4bit_compute_dtype=torch.bfloat16\n",
    ")\n",
    "\n",
    "def init_model(model_name, r, lora_alpha, target_modules, bit=4):\n",
    "    if bit == 4:\n",
    "        print(\"Using 4-bit mode\")\n",
    "        model = AutoModelForCausalLM.from_pretrained(model_name,\n",
    "                                                     quantization_config=bnb_config,\n",
    "                                                     device_map=device_map,\n",
    "                                                     use_flash_attention_2=True,\n",
    "                                                     )\n",
    "    elif bit == 8:\n",
    "        print(\"Using 8-bit mode\")\n",
    "        model = AutoModelForCausalLM.from_pretrained(model_name,\n",
    "                                                     load_in_8bit=True,\n",
    "                                                     device_map=device_map,\n",
    "                                                     use_flash_attention_2=True,\n",
    "                                                     )\n",
    "    elif bit == 16:\n",
    "        print(\"Using fp16 mode\")\n",
    "        model = AutoModelForCausalLM.from_pretrained(model_name,\n",
    "                                                     device_map=device_map,\n",
    "                                                     torch_dtype=torch.float16,\n",
    "                                                     use_flash_attention_2=True,\n",
    "                                                     )\n",
    "    else:\n",
    "        raise ValueError(\"bit must be 4 or 16\")\n",
    "\n",
    "    if len(target_modules)==0:\n",
    "        return model\n",
    "    peft_config = LoraConfig(\n",
    "        task_type=\"CAUSAL_LM\", inference_mode=False, r=r, lora_alpha=lora_alpha,\n",
    "        lora_dropout=0.1,\n",
    "        target_modules=target_modules,\n",
    "    )\n",
    "    model = get_peft_model(model, peft_config)\n",
    "    return model\n"
   ]
  },
  {
   "cell_type": "code",
   "execution_count": 4,
   "metadata": {},
   "outputs": [
    {
     "name": "stdout",
     "output_type": "stream",
     "text": [
      "Using fp16 mode\n"
     ]
    }
   ],
   "source": [
    "\n",
    "#モデル初期化\n",
    "model=init_model(model_name, r, lora_alpha, target_modules, bit=bit)"
   ]
  },
  {
   "cell_type": "code",
   "execution_count": 5,
   "metadata": {},
   "outputs": [
    {
     "name": "stderr",
     "output_type": "stream",
     "text": [
      "You are using the default legacy behaviour of the <class 'transformers.models.llama.tokenization_llama.LlamaTokenizer'>. This is expected, and simply means that the `legacy` (previous) behavior will be used so nothing changes for you. If you want to use the new behaviour, set `legacy=False`. This should only be set if you understand what it means, and thouroughly read the reason why this was added as explained in https://github.com/huggingface/transformers/pull/24565\n"
     ]
    }
   ],
   "source": [
    "\n",
    "\n",
    "tokenizer = AutoTokenizer.from_pretrained(model_name)\n",
    "tokenizer.pad_token = tokenizer.eos_token\n",
    "\n",
    "#pipe = pipeline(\"text-generation\", model=model,\n",
    "#                tokenizer=tokenizer, max_new_tokens=1000)"
   ]
  },
  {
   "cell_type": "markdown",
   "metadata": {},
   "source": [
    "# データセットの生成"
   ]
  },
  {
   "cell_type": "code",
   "execution_count": 6,
   "metadata": {},
   "outputs": [
    {
     "name": "stdout",
     "output_type": "stream",
     "text": [
      "(2406, 9)\n"
     ]
    },
    {
     "data": {
      "text/html": [
       "<div>\n",
       "<style scoped>\n",
       "    .dataframe tbody tr th:only-of-type {\n",
       "        vertical-align: middle;\n",
       "    }\n",
       "\n",
       "    .dataframe tbody tr th {\n",
       "        vertical-align: top;\n",
       "    }\n",
       "\n",
       "    .dataframe thead th {\n",
       "        text-align: right;\n",
       "    }\n",
       "</style>\n",
       "<table border=\"1\" class=\"dataframe\">\n",
       "  <thead>\n",
       "    <tr style=\"text-align: right;\">\n",
       "      <th></th>\n",
       "      <th>name</th>\n",
       "      <th>smiles</th>\n",
       "      <th>csid</th>\n",
       "      <th>link</th>\n",
       "      <th>source</th>\n",
       "      <th>Reason</th>\n",
       "      <th>mpC</th>\n",
       "      <th>Prediction(integer)</th>\n",
       "      <th>Abs error</th>\n",
       "    </tr>\n",
       "  </thead>\n",
       "  <tbody>\n",
       "    <tr>\n",
       "      <th>0</th>\n",
       "      <td>2,3-dibromo-2-methyl-butane</td>\n",
       "      <td>BrC(C)(C)C(Br)C</td>\n",
       "      <td>71392</td>\n",
       "      <td>http://www.srcinc.com/what-we-do/product.aspx?...</td>\n",
       "      <td>PHYSPROP</td>\n",
       "      <td>Starting with butane, which melts around -138....</td>\n",
       "      <td>7.0</td>\n",
       "      <td>6.6</td>\n",
       "      <td>0.4</td>\n",
       "    </tr>\n",
       "    <tr>\n",
       "      <th>1</th>\n",
       "      <td>5-chlorobenzofuroxan</td>\n",
       "      <td>c1cc2c(cc1Cl)no[n+]2[O-]</td>\n",
       "      <td>123661</td>\n",
       "      <td>http://www.alfa.com/en/GP100W.pgm?DSSTK=A14261</td>\n",
       "      <td>Alfa Aesar</td>\n",
       "      <td>The basic structure for comparison is benzene,...</td>\n",
       "      <td>47.0</td>\n",
       "      <td>45.0</td>\n",
       "      <td>2.0</td>\n",
       "    </tr>\n",
       "  </tbody>\n",
       "</table>\n",
       "</div>"
      ],
      "text/plain": [
       "                          name                    smiles    csid  \\\n",
       "0  2,3-dibromo-2-methyl-butane           BrC(C)(C)C(Br)C   71392   \n",
       "1         5-chlorobenzofuroxan  c1cc2c(cc1Cl)no[n+]2[O-]  123661   \n",
       "\n",
       "                                                link      source  \\\n",
       "0  http://www.srcinc.com/what-we-do/product.aspx?...    PHYSPROP   \n",
       "1     http://www.alfa.com/en/GP100W.pgm?DSSTK=A14261  Alfa Aesar   \n",
       "\n",
       "                                              Reason   mpC  \\\n",
       "0  Starting with butane, which melts around -138....   7.0   \n",
       "1  The basic structure for comparison is benzene,...  47.0   \n",
       "\n",
       "   Prediction(integer)  Abs error  \n",
       "0                  6.6        0.4  \n",
       "1                 45.0        2.0  "
      ]
     },
     "execution_count": 6,
     "metadata": {},
     "output_type": "execute_result"
    }
   ],
   "source": [
    "#データセットの読み込み\n",
    "import pandas as pd\n",
    "import random\n",
    "df=pd.read_csv(\"dataset/231225AutoReasoning/240104best_reason_record.csv\")\n",
    "dataset=df.to_dict(orient=\"records\")\n",
    "random.seed(0)\n",
    "random.shuffle(dataset)\n",
    "\n",
    "print(df.shape)\n",
    "df[:2]"
   ]
  },
  {
   "cell_type": "code",
   "execution_count": 7,
   "metadata": {},
   "outputs": [],
   "source": [
    "import random\n",
    "system_prompt=\"You are a professional chemist. Predict the melting point of the following compound.\"\n",
    "\n",
    "\n",
    "def gen_compound_text(chemical_record,\n",
    "    reason=\"\",prediction=\"\"):\n",
    "    name=chemical_record[\"name\"]\n",
    "    smiles=chemical_record[\"smiles\"]\n",
    "    prompt=f\"\"\"\n",
    "#Problem\n",
    "##Name: {name}\n",
    "##SMILES: {smiles}\"\"\"\n",
    "    if reason !=\"\" and prediction!=\"\":\n",
    "        prompt+=f\"\"\"\n",
    "##Reason: {reason}\n",
    "##Prediction: {prediction}\n",
    "\"\"\"\n",
    "    else:\n",
    "        #test mode\n",
    "        prompt+=\"\"\"\n",
    "##Reason: \n",
    "\"\"\"\n",
    "    return prompt\n",
    "\n",
    "\n",
    "\n",
    "def generate_question_prompt(dataset,test_id,n_prompt_examples=5):\n",
    "    train_ids=[i for i in range(len(dataset))]\n",
    "    train_ids.remove(test_id)\n",
    "    prompt=\"\"\n",
    "\n",
    "    #train prompt\n",
    "    for _ in range(n_prompt_examples):\n",
    "        id=random.choice(train_ids)\n",
    "        prompt+=gen_compound_text(dataset[id],\n",
    "                                reason=dataset[id][\"Reason\"],\n",
    "                                prediction=dataset[id][\"Prediction(integer)\"])\n",
    "        prompt+=\"\\n\"\n",
    "\n",
    "    #test prompt\n",
    "    prompt+=gen_compound_text(dataset[test_id])\n",
    "\n",
    "    return prompt\n",
    "\n",
    "\n",
    "def prepare_dataset(context_list, tokenizer):\n",
    "    data_list = [{\"text\": i} for i in context_list]\n",
    "    random.shuffle(data_list)\n",
    "\n",
    "    # tokenize\n",
    "    dataset = Dataset.from_dict(\n",
    "        {\"text\": [item[\"text\"] for item in data_list[:]]})\n",
    "    dataset = dataset.map(lambda samples: tokenizer(\n",
    "        samples['text']), batched=True)\n",
    "\n",
    "    return dataset\n"
   ]
  },
  {
   "cell_type": "code",
   "execution_count": 8,
   "metadata": {},
   "outputs": [
    {
     "name": "stderr",
     "output_type": "stream",
     "text": [
      "Map: 100%|██████████| 2356/2356 [00:00<00:00, 8827.81 examples/s]\n"
     ]
    }
   ],
   "source": [
    "\n",
    "\n",
    "train_text_list=[]\n",
    "for id in range(len(dataset)):\n",
    "    prompt=gen_compound_text(dataset[id],\n",
    "                                reason=dataset[id][\"Reason\"],\n",
    "                                prediction=dataset[id][\"Prediction(integer)\"])\n",
    "    train_text_list.append(prompt)\n",
    "tokenized_dataset = prepare_dataset(train_text_list[n_test:], tokenizer)"
   ]
  },
  {
   "cell_type": "code",
   "execution_count": 9,
   "metadata": {},
   "outputs": [
    {
     "name": "stdout",
     "output_type": "stream",
     "text": [
      "train\n",
      "\n",
      "#Problem\n",
      "##Name: 2-Ethoxy-2-methylpropane\n",
      "##SMILES: CC(C)(C)OCC\n",
      "##Reason: The target compound, 2-Ethoxy-2-methylpropane, can be seen as derived from propane, which has a melting point of -187.7°C. Adding a methyl group generally increases the melting point due to increased molecular weight and van der Waals forces. For propane, adding a methyl group to become isobutane elevates the melting point to -159.6°C, indicating the effect of a methyl group is an increase of roughly +28°C. The presence of an ethoxy group (-OCC2H5) introduces an oxygen atom which can lead to dipole-dipole interactions and potential hydrogen bonding with trace moisture, increasing the melting point as well. The ethoxy group's effect on the melting point would be less straightforward to quantify without empirical data, but we can predict that it will raise the melting point to some extent. Considering the combined effect of an additional methyl group and an ethoxy group on the basic structure of propane, we can expect the overall melting point to be higher than that of propane, but lower than room temperature because the compound remains aliphatic and does not have strong intermolecular forces such as hydrogen bonding among its own molecules.\n",
      "##Prediction: -94.0\n",
      "\n",
      "test\n",
      "\n",
      "#Problem\n",
      "##Name: (1,2,2,3-tetramethylcyclopentyl)methyl 4-aminobenzoate\n",
      "##SMILES: O=C(OCC1(C)CCC(C)C1(C)C)c1ccc(N)cc1\n",
      "##Reason: \n",
      "\n"
     ]
    }
   ],
   "source": [
    "#check prompt\n",
    "\n",
    "print(\"train\")\n",
    "print(prompt)\n",
    "print(\"test\")\n",
    "t_prompt=gen_compound_text(dataset[0])\n",
    "print(t_prompt)"
   ]
  },
  {
   "cell_type": "markdown",
   "metadata": {},
   "source": [
    "# モデルの訓練"
   ]
  },
  {
   "cell_type": "code",
   "execution_count": 10,
   "metadata": {},
   "outputs": [
    {
     "name": "stderr",
     "output_type": "stream",
     "text": [
      "You're using a LlamaTokenizerFast tokenizer. Please note that with a fast tokenizer, using the `__call__` method is faster than using a method to encode the text followed by a call to the `pad` method to get a padded encoding.\n"
     ]
    },
    {
     "data": {
      "text/html": [
       "\n",
       "    <div>\n",
       "      \n",
       "      <progress value='7068' max='7068' style='width:300px; height:20px; vertical-align: middle;'></progress>\n",
       "      [7068/7068 09:01, Epoch 3/3]\n",
       "    </div>\n",
       "    <table border=\"1\" class=\"dataframe\">\n",
       "  <thead>\n",
       " <tr style=\"text-align: left;\">\n",
       "      <th>Step</th>\n",
       "      <th>Training Loss</th>\n",
       "    </tr>\n",
       "  </thead>\n",
       "  <tbody>\n",
       "    <tr>\n",
       "      <td>100</td>\n",
       "      <td>1.786100</td>\n",
       "    </tr>\n",
       "    <tr>\n",
       "      <td>200</td>\n",
       "      <td>1.482900</td>\n",
       "    </tr>\n",
       "    <tr>\n",
       "      <td>300</td>\n",
       "      <td>1.384400</td>\n",
       "    </tr>\n",
       "    <tr>\n",
       "      <td>400</td>\n",
       "      <td>1.321700</td>\n",
       "    </tr>\n",
       "    <tr>\n",
       "      <td>500</td>\n",
       "      <td>1.305900</td>\n",
       "    </tr>\n",
       "    <tr>\n",
       "      <td>600</td>\n",
       "      <td>1.283000</td>\n",
       "    </tr>\n",
       "    <tr>\n",
       "      <td>700</td>\n",
       "      <td>1.245600</td>\n",
       "    </tr>\n",
       "    <tr>\n",
       "      <td>800</td>\n",
       "      <td>1.252600</td>\n",
       "    </tr>\n",
       "    <tr>\n",
       "      <td>900</td>\n",
       "      <td>1.245400</td>\n",
       "    </tr>\n",
       "    <tr>\n",
       "      <td>1000</td>\n",
       "      <td>1.229100</td>\n",
       "    </tr>\n",
       "    <tr>\n",
       "      <td>1100</td>\n",
       "      <td>1.206800</td>\n",
       "    </tr>\n",
       "    <tr>\n",
       "      <td>1200</td>\n",
       "      <td>1.191700</td>\n",
       "    </tr>\n",
       "    <tr>\n",
       "      <td>1300</td>\n",
       "      <td>1.177300</td>\n",
       "    </tr>\n",
       "    <tr>\n",
       "      <td>1400</td>\n",
       "      <td>1.205400</td>\n",
       "    </tr>\n",
       "    <tr>\n",
       "      <td>1500</td>\n",
       "      <td>1.188700</td>\n",
       "    </tr>\n",
       "    <tr>\n",
       "      <td>1600</td>\n",
       "      <td>1.158300</td>\n",
       "    </tr>\n",
       "    <tr>\n",
       "      <td>1700</td>\n",
       "      <td>1.181000</td>\n",
       "    </tr>\n",
       "    <tr>\n",
       "      <td>1800</td>\n",
       "      <td>1.153100</td>\n",
       "    </tr>\n",
       "    <tr>\n",
       "      <td>1900</td>\n",
       "      <td>1.171700</td>\n",
       "    </tr>\n",
       "    <tr>\n",
       "      <td>2000</td>\n",
       "      <td>1.161200</td>\n",
       "    </tr>\n",
       "    <tr>\n",
       "      <td>2100</td>\n",
       "      <td>1.142100</td>\n",
       "    </tr>\n",
       "    <tr>\n",
       "      <td>2200</td>\n",
       "      <td>1.150300</td>\n",
       "    </tr>\n",
       "    <tr>\n",
       "      <td>2300</td>\n",
       "      <td>1.151900</td>\n",
       "    </tr>\n",
       "    <tr>\n",
       "      <td>2400</td>\n",
       "      <td>1.101400</td>\n",
       "    </tr>\n",
       "    <tr>\n",
       "      <td>2500</td>\n",
       "      <td>1.164200</td>\n",
       "    </tr>\n",
       "    <tr>\n",
       "      <td>2600</td>\n",
       "      <td>1.083100</td>\n",
       "    </tr>\n",
       "    <tr>\n",
       "      <td>2700</td>\n",
       "      <td>1.116800</td>\n",
       "    </tr>\n",
       "    <tr>\n",
       "      <td>2800</td>\n",
       "      <td>1.103100</td>\n",
       "    </tr>\n",
       "    <tr>\n",
       "      <td>2900</td>\n",
       "      <td>1.091200</td>\n",
       "    </tr>\n",
       "    <tr>\n",
       "      <td>3000</td>\n",
       "      <td>1.058800</td>\n",
       "    </tr>\n",
       "    <tr>\n",
       "      <td>3100</td>\n",
       "      <td>1.096400</td>\n",
       "    </tr>\n",
       "    <tr>\n",
       "      <td>3200</td>\n",
       "      <td>1.114500</td>\n",
       "    </tr>\n",
       "    <tr>\n",
       "      <td>3300</td>\n",
       "      <td>1.083100</td>\n",
       "    </tr>\n",
       "    <tr>\n",
       "      <td>3400</td>\n",
       "      <td>1.076700</td>\n",
       "    </tr>\n",
       "    <tr>\n",
       "      <td>3500</td>\n",
       "      <td>1.068200</td>\n",
       "    </tr>\n",
       "    <tr>\n",
       "      <td>3600</td>\n",
       "      <td>1.095200</td>\n",
       "    </tr>\n",
       "    <tr>\n",
       "      <td>3700</td>\n",
       "      <td>1.075700</td>\n",
       "    </tr>\n",
       "    <tr>\n",
       "      <td>3800</td>\n",
       "      <td>1.076900</td>\n",
       "    </tr>\n",
       "    <tr>\n",
       "      <td>3900</td>\n",
       "      <td>1.095200</td>\n",
       "    </tr>\n",
       "    <tr>\n",
       "      <td>4000</td>\n",
       "      <td>1.088800</td>\n",
       "    </tr>\n",
       "    <tr>\n",
       "      <td>4100</td>\n",
       "      <td>1.087200</td>\n",
       "    </tr>\n",
       "    <tr>\n",
       "      <td>4200</td>\n",
       "      <td>1.073800</td>\n",
       "    </tr>\n",
       "    <tr>\n",
       "      <td>4300</td>\n",
       "      <td>1.080100</td>\n",
       "    </tr>\n",
       "    <tr>\n",
       "      <td>4400</td>\n",
       "      <td>1.053500</td>\n",
       "    </tr>\n",
       "    <tr>\n",
       "      <td>4500</td>\n",
       "      <td>1.072200</td>\n",
       "    </tr>\n",
       "    <tr>\n",
       "      <td>4600</td>\n",
       "      <td>1.080400</td>\n",
       "    </tr>\n",
       "    <tr>\n",
       "      <td>4700</td>\n",
       "      <td>1.085700</td>\n",
       "    </tr>\n",
       "    <tr>\n",
       "      <td>4800</td>\n",
       "      <td>1.040300</td>\n",
       "    </tr>\n",
       "    <tr>\n",
       "      <td>4900</td>\n",
       "      <td>1.019700</td>\n",
       "    </tr>\n",
       "    <tr>\n",
       "      <td>5000</td>\n",
       "      <td>1.073900</td>\n",
       "    </tr>\n",
       "    <tr>\n",
       "      <td>5100</td>\n",
       "      <td>1.052700</td>\n",
       "    </tr>\n",
       "    <tr>\n",
       "      <td>5200</td>\n",
       "      <td>1.070900</td>\n",
       "    </tr>\n",
       "    <tr>\n",
       "      <td>5300</td>\n",
       "      <td>1.044700</td>\n",
       "    </tr>\n",
       "    <tr>\n",
       "      <td>5400</td>\n",
       "      <td>1.034100</td>\n",
       "    </tr>\n",
       "    <tr>\n",
       "      <td>5500</td>\n",
       "      <td>1.042800</td>\n",
       "    </tr>\n",
       "    <tr>\n",
       "      <td>5600</td>\n",
       "      <td>1.051700</td>\n",
       "    </tr>\n",
       "    <tr>\n",
       "      <td>5700</td>\n",
       "      <td>1.013800</td>\n",
       "    </tr>\n",
       "    <tr>\n",
       "      <td>5800</td>\n",
       "      <td>1.044700</td>\n",
       "    </tr>\n",
       "    <tr>\n",
       "      <td>5900</td>\n",
       "      <td>1.058400</td>\n",
       "    </tr>\n",
       "    <tr>\n",
       "      <td>6000</td>\n",
       "      <td>1.029800</td>\n",
       "    </tr>\n",
       "    <tr>\n",
       "      <td>6100</td>\n",
       "      <td>1.048400</td>\n",
       "    </tr>\n",
       "    <tr>\n",
       "      <td>6200</td>\n",
       "      <td>1.015100</td>\n",
       "    </tr>\n",
       "    <tr>\n",
       "      <td>6300</td>\n",
       "      <td>1.006500</td>\n",
       "    </tr>\n",
       "    <tr>\n",
       "      <td>6400</td>\n",
       "      <td>1.062900</td>\n",
       "    </tr>\n",
       "    <tr>\n",
       "      <td>6500</td>\n",
       "      <td>0.989700</td>\n",
       "    </tr>\n",
       "    <tr>\n",
       "      <td>6600</td>\n",
       "      <td>1.064600</td>\n",
       "    </tr>\n",
       "    <tr>\n",
       "      <td>6700</td>\n",
       "      <td>1.051200</td>\n",
       "    </tr>\n",
       "    <tr>\n",
       "      <td>6800</td>\n",
       "      <td>1.024600</td>\n",
       "    </tr>\n",
       "    <tr>\n",
       "      <td>6900</td>\n",
       "      <td>1.028100</td>\n",
       "    </tr>\n",
       "    <tr>\n",
       "      <td>7000</td>\n",
       "      <td>1.008500</td>\n",
       "    </tr>\n",
       "  </tbody>\n",
       "</table><p>"
      ],
      "text/plain": [
       "<IPython.core.display.HTML object>"
      ]
     },
     "metadata": {},
     "output_type": "display_data"
    }
   ],
   "source": [
    "import transformers\n",
    "from datetime import datetime\n",
    "\n",
    "\n",
    "#train\n",
    "train_args = transformers.TrainingArguments(\n",
    "        per_device_train_batch_size=per_device_train_batch_size,\n",
    "        #gradient_accumulation_steps=1,\n",
    "        warmup_steps=0,\n",
    "        num_train_epochs=epochs,\n",
    "        learning_rate=lr,\n",
    "        fp16=True,\n",
    "        logging_steps=100,\n",
    "        save_total_limit=1,\n",
    "        output_dir='outputs/'+datetime.now().strftime('%Y%m%d%H%M%S'),\n",
    "        gradient_checkpointing=gradient_checkpointing,\n",
    "    )\n",
    "\n",
    "# trainer\n",
    "#callbacks = [EarlyStoppingCallback()]\n",
    "callbacks = []\n",
    "\n",
    "trainer = transformers.Trainer(\n",
    "    model=model,\n",
    "    train_dataset=tokenized_dataset,\n",
    "    args=train_args,\n",
    "    callbacks=callbacks,\n",
    "    data_collator=transformers.DataCollatorForLanguageModeling(\n",
    "        tokenizer, mlm=False)\n",
    ")\n",
    "\n",
    "if do_train:\n",
    "    training_result = trainer.train()\n",
    "    training_result.training_loss"
   ]
  },
  {
   "cell_type": "code",
   "execution_count": null,
   "metadata": {},
   "outputs": [],
   "source": [
    "#モデルの保存: adapterのみ保存するとき｡\n",
    "from datetime import datetime\n",
    "current_datetime = datetime.now()\n",
    "#model.save_pretrained(f\"./outputs/{current_datetime}\")\n",
    "#model.save_pretrained(f\"./outputs/1b_ft\")"
   ]
  },
  {
   "cell_type": "code",
   "execution_count": null,
   "metadata": {},
   "outputs": [
    {
     "data": {
      "text/plain": [
       "'\\nmodel = AutoPeftModelForCausalLM.from_pretrained(model_path,\\n                                                 device_map=device_map,\\n                                                     torch_dtype=torch.float16,\\n                                                     use_flash_attention_2=True,\\n                                                 )\\n\\n'"
      ]
     },
     "execution_count": 10,
     "metadata": {},
     "output_type": "execute_result"
    }
   ],
   "source": [
    "#モデルの読み込み: 強化学習しない場合\n",
    "from peft import AutoPeftModelForCausalLM\n",
    "model_path=\"./outputs/7b_ft\"\n",
    "\n",
    "\"\"\"\n",
    "model = AutoPeftModelForCausalLM.from_pretrained(model_path,\n",
    "                                                 device_map=device_map,\n",
    "                                                     torch_dtype=torch.float16,\n",
    "                                                     use_flash_attention_2=True,\n",
    "                                                 )\n",
    "\n",
    "\"\"\""
   ]
  },
  {
   "cell_type": "code",
   "execution_count": null,
   "metadata": {},
   "outputs": [],
   "source": [
    "#モデルのマージと保存: 強化学習するとき\n",
    "#merged_model = model.merge_and_unload()\n",
    "#merged_model.save_pretrained(f\"./outputs/05b_ft_merge\")"
   ]
  },
  {
   "cell_type": "markdown",
   "metadata": {},
   "source": [
    "# 強化学習による追加訓練"
   ]
  },
  {
   "cell_type": "code",
   "execution_count": 11,
   "metadata": {},
   "outputs": [],
   "source": [
    "#予測周りのutility funcs\n",
    "import re\n",
    "import torch\n",
    "import gc\n",
    "from IPython.display import clear_output\n",
    "from trl import AutoModelForCausalLMWithValueHead\n",
    "def gen_text_stop_word(prompt,model,tokenizer,\n",
    "                       device=\"cuda:0\",\n",
    "                       stop_words=[\"#Problem\",\"#Reason\",\"# Problem\"],\n",
    "                       double_stop_words=[\"#Prediction\"],\n",
    "                       stream=False,\n",
    "                       #stream=True,\n",
    "                       max_tokens=400,\n",
    "                       ):\n",
    "    gc.collect()\n",
    "    torch.cuda.empty_cache()\n",
    "\n",
    "\n",
    "\n",
    "    input_ids = tokenizer.encode(prompt, return_tensors='pt').to(device)\n",
    "    # 生成されたテキストを格納する変数\n",
    "    generated_text = \"\"\n",
    "\n",
    "    # トークンを一つずつ生成\n",
    "    for i in range(max_tokens):\n",
    "        # 次のトークンを予測\n",
    "        outputs = model(input_ids)\n",
    "        if type(model) is AutoModelForCausalLMWithValueHead:\n",
    "            #AutoModelForCausalLMWithValueHeadの場合\n",
    "            logits = outputs[0]\n",
    "            next_token_logits = logits[:, -1, :]\n",
    "        else:\n",
    "            next_token_logits = outputs.logits[:, -1, :]\n",
    "\n",
    "        next_token = torch.argmax(next_token_logits, dim=-1).unsqueeze(-1)\n",
    "\n",
    "        # 生成されたトークンを現在の入力に追加\n",
    "        input_ids = torch.cat([input_ids, next_token], dim=-1)\n",
    "\n",
    "        # 生成されたテキストを更新\n",
    "        generated_text = tokenizer.decode(input_ids[0], skip_special_tokens=True)[len(prompt):]\n",
    "\n",
    "        if stream:\n",
    "            if i%30==0:\n",
    "                clear_output()\n",
    "            print(generated_text)\n",
    "\n",
    "        # ストップワードのチェック\n",
    "        if any(stop_word in generated_text for stop_word in stop_words):\n",
    "            break\n",
    "\n",
    "        # 2回以上出現したらstopするwordのcheck \n",
    "        stop_flag=False\n",
    "        for check_word in double_stop_words:\n",
    "            count=generated_text.count(check_word)\n",
    "            if count>=2:\n",
    "                stop_flag=True\n",
    "                break\n",
    "        if stop_flag:\n",
    "            break\n",
    "\n",
    "    return generated_text\n",
    "\n",
    "def ask_value(prompt,model,tokenizer):\n",
    "    res=gen_text_stop_word(prompt,model,tokenizer)\n",
    "    #res=pipe(prompt)[0][\"generated_text\"]\n",
    "    print(\"----\\n\\n\")\n",
    "    print(res.strip())\n",
    "\n",
    "    regex_list=[\n",
    "        r\"Prediction:\\s*(\\d+\\.?\\d*)\",\n",
    "        r\"Prediction:\\s*(-?\\d+\\.?\\d*)\",\n",
    "    ]\n",
    "\n",
    "    value=None\n",
    "    for reg in regex_list:\n",
    "        match = re.search(reg, res)\n",
    "        if match:\n",
    "            value = match.group(1)\n",
    "            break\n",
    "\n",
    "\n",
    "    return res,value\n",
    "\n"
   ]
  },
  {
   "cell_type": "code",
   "execution_count": 12,
   "metadata": {},
   "outputs": [],
   "source": [
    "from trl import PPOTrainer, PPOConfig\n",
    "\n",
    "\n",
    "#テキストでファインチューニングしたモデルを強化学習用に読み込み\n",
    "\n",
    "def load_ppo_model(model_path):\n",
    "    lora_config = LoraConfig(\n",
    "    target_modules=target_modules,\n",
    "    r=32,\n",
    "    lora_alpha=32,\n",
    "    lora_dropout=0.05,\n",
    "    bias=\"none\",\n",
    "    task_type=\"CAUSAL_LM\",\n",
    "    )\n",
    "    model = AutoModelForCausalLMWithValueHead.from_pretrained(\n",
    "        model_path,\n",
    "        #load_in_8bit=True,\n",
    "        torch_dtype=torch.float16,\n",
    "        device_map=device_map,\n",
    "        peft_config=lora_config,\n",
    "    )\n",
    "    return model\n",
    "\n",
    "def init_ppo_trainer(model,tokenizer):\n",
    "\n",
    "    #trainerの定義\n",
    "    ppo_trainer = PPOTrainer(\n",
    "        config=PPOConfig(batch_size=1),\n",
    "        model=model, \n",
    "        #ref_model=ref_model, \n",
    "        tokenizer=tokenizer,\n",
    "        )\n",
    "    return ppo_trainer\n",
    "\n",
    "def reload_ppo_model_and_trainer(model,ppo_trainer,temp_dir=\"outputs/temp\"):\n",
    "    #model.to(\"cuda:0\")\n",
    "    model.save_pretrained(temp_dir)\n",
    "\n",
    "    model=None\n",
    "    ppo_trainer=None\n",
    "    print(\"clearing memory...\")\n",
    "    gc.collect()\n",
    "    torch.cuda.empty_cache()\n",
    "\n",
    "    model=load_ppo_model(temp_dir)\n",
    "    ppo_trainer=init_ppo_trainer(model,tokenizer)\n",
    "\n",
    "    return model,ppo_trainer\n"
   ]
  },
  {
   "cell_type": "code",
   "execution_count": 13,
   "metadata": {},
   "outputs": [],
   "source": [
    "\n",
    "#報酬クラスの定義\n",
    "class RewardModel:\n",
    "    def __init__(self,model,dataset,tokenizer,\n",
    "                 range_value=1,\n",
    "                 reward_slope=50,\n",
    "                 n_prompt_examples=3,\n",
    "                 device=\"cuda:0\",\n",
    "                 ):\n",
    "        self.model=model\n",
    "        self.dataset=dataset\n",
    "        self.tokenizer=tokenizer    \n",
    "        self.n_prompt_examples=n_prompt_examples\n",
    "        self.range_value = range_value\n",
    "        self.reward_slope = reward_slope\n",
    "        self.device=device\n",
    "\n",
    "    def calculate_reward(self,abs_error, ):\n",
    "        \"\"\"\n",
    "        Calculate the reward based on the absolute error.\n",
    "\n",
    "        :param abs_error: The absolute error value.\n",
    "        :param range_value: The range value for maximum and minimum rewards.\n",
    "        :return: The calculated reward.\n",
    "        \"\"\"\n",
    "\n",
    "        reward = self.range_value - (abs_error) * (self.range_value / self.reward_slope)\n",
    "        return max(reward, -self.range_value)\n",
    "\n",
    "\n",
    "    def __call__(self,train_id):\n",
    "        prompt=generate_question_prompt(self.dataset,train_id,\n",
    "                                        n_prompt_examples=self.n_prompt_examples)\n",
    "        reason,value=ask_value(prompt,self.model,self.tokenizer,\n",
    "                                         )\n",
    "\n",
    "        actual=self.dataset[train_id][\"mpC\"]\n",
    "        if value is None:\n",
    "            reward=-self.range_value\n",
    "        else:\n",
    "            value=float(value)\n",
    "\n",
    "            abs_error=abs(actual-value)\n",
    "            # Example usage of the function\n",
    "            reward=self.calculate_reward(abs_error)  # Example case where abs_error is 12 and range_value is 100\n",
    "\n",
    "        #説明が殆どない場合は､rewardを0にする\n",
    "        if len(reason)<30:\n",
    "            reward=0\n",
    "        print(f\"actual: {actual}, predicted: {value}, reward: {reward}\")\n",
    "\n",
    "        input_ids = tokenizer.encode(prompt, return_tensors='pt').to(self.device)\n",
    "        return reward,reason,input_ids"
   ]
  },
  {
   "cell_type": "code",
   "execution_count": 12,
   "metadata": {},
   "outputs": [
    {
     "name": "stderr",
     "output_type": "stream",
     "text": [
      "Loading checkpoint shards: 100%|██████████| 3/3 [00:02<00:00,  1.05it/s]\n"
     ]
    }
   ],
   "source": [
    "#model_path=\"./outputs/13b_ft_merge_3epoch\"\n",
    "model_path=\"./outputs/7b_ft_merge_3epoch\"\n",
    "temp_dir=\"outputs/temp\"\n",
    "\n",
    "#model load\n",
    "model=load_ppo_model(model_path)\n",
    "ppo_trainer=init_ppo_trainer(model,tokenizer)\n",
    "\n",
    "#lora modelとして読み込み直す(vramの節約のため)\n",
    "model,ppo_trainer=reload_ppo_model_and_trainer(model,ppo_trainer)"
   ]
  },
  {
   "cell_type": "code",
   "execution_count": 16,
   "metadata": {},
   "outputs": [
    {
     "data": {
      "text/plain": [
       "0.4"
      ]
     },
     "execution_count": 16,
     "metadata": {},
     "output_type": "execute_result"
    }
   ],
   "source": [
    "\n",
    "reward_model=None\n",
    "gc.collect()\n",
    "torch.cuda.empty_cache()\n",
    "reward_model = RewardModel(model,dataset,tokenizer,)\n",
    "reward_model.calculate_reward(30)  #報酬の動作確認. "
   ]
  },
  {
   "cell_type": "code",
   "execution_count": 10,
   "metadata": {},
   "outputs": [
    {
     "name": "stderr",
     "output_type": "stream",
     "text": [
      "  0%|          | 0/5000 [00:00<?, ?it/s]\n"
     ]
    },
    {
     "ename": "NameError",
     "evalue": "name 'gc' is not defined",
     "output_type": "error",
     "traceback": [
      "\u001b[0;31m---------------------------------------------------------------------------\u001b[0m",
      "\u001b[0;31mNameError\u001b[0m                                 Traceback (most recent call last)",
      "Cell \u001b[0;32mIn[10], line 20\u001b[0m\n\u001b[1;32m     18\u001b[0m \u001b[38;5;66;03m#このクラスにgpu cacheが残りがちなので､毎回初期化してメモリ開放しておく\u001b[39;00m\n\u001b[1;32m     19\u001b[0m reward_model\u001b[38;5;241m=\u001b[39m\u001b[38;5;28;01mNone\u001b[39;00m\n\u001b[0;32m---> 20\u001b[0m \u001b[43mgc\u001b[49m\u001b[38;5;241m.\u001b[39mcollect()\n\u001b[1;32m     21\u001b[0m torch\u001b[38;5;241m.\u001b[39mcuda\u001b[38;5;241m.\u001b[39mempty_cache()\n\u001b[1;32m     22\u001b[0m reward_model \u001b[38;5;241m=\u001b[39m RewardModel(model,dataset,tokenizer)\n",
      "\u001b[0;31mNameError\u001b[0m: name 'gc' is not defined"
     ]
    }
   ],
   "source": [
    "import time\n",
    "import warnings\n",
    "warnings.filterwarnings('ignore')\n",
    "#model.config.use_cache = False \n",
    "#model.config.use_cache = True\n",
    "lr_epochs=5000\n",
    "n_retry=1\n",
    "#lr_epochs=3\n",
    "reward_log=[]\n",
    "\n",
    "n_iterations=0\n",
    "\n",
    "for i in tqdm(range(lr_epochs)):\n",
    "   #ランダムに問題を設定して値を予測させる\n",
    "    train_id=random.randint(n_test,len(dataset))\n",
    "\n",
    "    \n",
    "    #このクラスにgpu cacheが残りがちなので､毎回初期化してメモリ開放しておく\n",
    "    reward_model=None\n",
    "    gc.collect()\n",
    "    torch.cuda.empty_cache()\n",
    "    reward_model = RewardModel(model,dataset,tokenizer)\n",
    "\n",
    "\n",
    "    #同じ問題に対して､良い結果が来るまで何回か問題を解かせる\n",
    "    for i in range(n_retry):\n",
    "        try:\n",
    "            #報酬､応答､入力の取得\n",
    "            reward,response,input_id=reward_model(train_id)\n",
    "            rewards=[torch.tensor(float(reward))]\n",
    "            query_tensors = [torch.tensor(input_id).reshape(-1)]\n",
    "            response_tensors=[torch.tensor(tokenizer.encode(response)).reshape(-1)]\n",
    "\n",
    "            #モデル更新\n",
    "            stats = ppo_trainer.step(query_tensors, response_tensors, rewards)\n",
    "            n_iterations+=1\n",
    "            reward_log.append(float(reward))\n",
    "        except Exception as e:\n",
    "            #主にcuda out of memoryが起きるので､一旦メモリ開放して､model類を読み込み直す\n",
    "            print(e)\n",
    "            model,ppo_trainer=reload_ppo_model_and_trainer(model,ppo_trainer)\n",
    "\n",
    "            break\n",
    "\n",
    "        #結果がよかったら次の問題に移る\n",
    "        if reward>0.5:\n",
    "            break\n",
    "\n",
    "n_iterations"
   ]
  },
  {
   "cell_type": "code",
   "execution_count": 18,
   "metadata": {},
   "outputs": [
    {
     "data": {
      "text/plain": [
       "1317"
      ]
     },
     "execution_count": 18,
     "metadata": {},
     "output_type": "execute_result"
    }
   ],
   "source": [
    "n_iterations"
   ]
  },
  {
   "cell_type": "code",
   "execution_count": 19,
   "metadata": {},
   "outputs": [],
   "source": [
    "from datetime import datetime\n",
    "#AutoModelForCausalLMWithValueHead classはdirを作っておかないと､save_pretrainedが動かない\n",
    "current_datetime = datetime.now()\n",
    "model_save_path=f\"outputs/ppo{current_datetime}\"\n",
    "os.mkdir(model_save_path)\n",
    "model.save_pretrained(model_save_path)"
   ]
  },
  {
   "cell_type": "code",
   "execution_count": 23,
   "metadata": {},
   "outputs": [
    {
     "data": {
      "text/plain": [
       "<matplotlib.collections.PathCollection at 0x7ff0a65b9390>"
      ]
     },
     "execution_count": 23,
     "metadata": {},
     "output_type": "execute_result"
    },
    {
     "data": {
      "image/png": "[encoded data removed]",
      "text/plain": [
       "<Figure size 640x480 with 1 Axes>"
      ]
     },
     "metadata": {},
     "output_type": "display_data"
    }
   ],
   "source": [
    "import matplotlib.pyplot as plt\n",
    "import seaborn as sns\n",
    "plt.scatter(range(len(reward_log)),reward_log,s=1)"
   ]
  },
  {
   "cell_type": "markdown",
   "metadata": {},
   "source": [
    "# モデルによる物性値の予測"
   ]
  },
  {
   "cell_type": "code",
   "execution_count": 14,
   "metadata": {},
   "outputs": [
    {
     "data": {
      "text/plain": [
       "PeftModelForCausalLM(\n",
       "  (base_model): LoraModel(\n",
       "    (model): LlamaForCausalLM(\n",
       "      (model): LlamaModel(\n",
       "        (embed_tokens): Embedding(32000, 3200, padding_idx=0)\n",
       "        (layers): ModuleList(\n",
       "          (0-25): 26 x LlamaDecoderLayer(\n",
       "            (self_attn): LlamaFlashAttention2(\n",
       "              (q_proj): Linear(in_features=3200, out_features=3200, bias=False)\n",
       "              (k_proj): Linear(in_features=3200, out_features=3200, bias=False)\n",
       "              (v_proj): Linear(\n",
       "                in_features=3200, out_features=3200, bias=False\n",
       "                (lora_dropout): ModuleDict(\n",
       "                  (default): Dropout(p=0.1, inplace=False)\n",
       "                )\n",
       "                (lora_A): ModuleDict(\n",
       "                  (default): Linear(in_features=3200, out_features=32, bias=False)\n",
       "                )\n",
       "                (lora_B): ModuleDict(\n",
       "                  (default): Linear(in_features=32, out_features=3200, bias=False)\n",
       "                )\n",
       "                (lora_embedding_A): ParameterDict()\n",
       "                (lora_embedding_B): ParameterDict()\n",
       "              )\n",
       "              (o_proj): Linear(\n",
       "                in_features=3200, out_features=3200, bias=False\n",
       "                (lora_dropout): ModuleDict(\n",
       "                  (default): Dropout(p=0.1, inplace=False)\n",
       "                )\n",
       "                (lora_A): ModuleDict(\n",
       "                  (default): Linear(in_features=3200, out_features=32, bias=False)\n",
       "                )\n",
       "                (lora_B): ModuleDict(\n",
       "                  (default): Linear(in_features=32, out_features=3200, bias=False)\n",
       "                )\n",
       "                (lora_embedding_A): ParameterDict()\n",
       "                (lora_embedding_B): ParameterDict()\n",
       "              )\n",
       "              (rotary_emb): LlamaRotaryEmbedding()\n",
       "            )\n",
       "            (mlp): LlamaMLP(\n",
       "              (gate_proj): Linear(\n",
       "                in_features=3200, out_features=8640, bias=False\n",
       "                (lora_dropout): ModuleDict(\n",
       "                  (default): Dropout(p=0.1, inplace=False)\n",
       "                )\n",
       "                (lora_A): ModuleDict(\n",
       "                  (default): Linear(in_features=3200, out_features=32, bias=False)\n",
       "                )\n",
       "                (lora_B): ModuleDict(\n",
       "                  (default): Linear(in_features=32, out_features=8640, bias=False)\n",
       "                )\n",
       "                (lora_embedding_A): ParameterDict()\n",
       "                (lora_embedding_B): ParameterDict()\n",
       "              )\n",
       "              (up_proj): Linear(\n",
       "                in_features=3200, out_features=8640, bias=False\n",
       "                (lora_dropout): ModuleDict(\n",
       "                  (default): Dropout(p=0.1, inplace=False)\n",
       "                )\n",
       "                (lora_A): ModuleDict(\n",
       "                  (default): Linear(in_features=3200, out_features=32, bias=False)\n",
       "                )\n",
       "                (lora_B): ModuleDict(\n",
       "                  (default): Linear(in_features=32, out_features=8640, bias=False)\n",
       "                )\n",
       "                (lora_embedding_A): ParameterDict()\n",
       "                (lora_embedding_B): ParameterDict()\n",
       "              )\n",
       "              (down_proj): Linear(in_features=8640, out_features=3200, bias=False)\n",
       "              (act_fn): SiLUActivation()\n",
       "            )\n",
       "            (input_layernorm): LlamaRMSNorm()\n",
       "            (post_attention_layernorm): LlamaRMSNorm()\n",
       "          )\n",
       "        )\n",
       "        (norm): LlamaRMSNorm()\n",
       "      )\n",
       "      (lm_head): Linear(\n",
       "        in_features=3200, out_features=32000, bias=False\n",
       "        (lora_dropout): ModuleDict(\n",
       "          (default): Dropout(p=0.1, inplace=False)\n",
       "        )\n",
       "        (lora_A): ModuleDict(\n",
       "          (default): Linear(in_features=3200, out_features=32, bias=False)\n",
       "        )\n",
       "        (lora_B): ModuleDict(\n",
       "          (default): Linear(in_features=32, out_features=32000, bias=False)\n",
       "        )\n",
       "        (lora_embedding_A): ParameterDict()\n",
       "        (lora_embedding_B): ParameterDict()\n",
       "      )\n",
       "    )\n",
       "  )\n",
       ")"
      ]
     },
     "execution_count": 14,
     "metadata": {},
     "output_type": "execute_result"
    }
   ],
   "source": [
    "\n",
    "model.eval()"
   ]
  },
  {
   "cell_type": "code",
   "execution_count": 15,
   "metadata": {},
   "outputs": [
    {
     "name": "stderr",
     "output_type": "stream",
     "text": [
      "  0%|          | 0/50 [00:00<?, ?it/s]"
     ]
    },
    {
     "name": "stdout",
     "output_type": "stream",
     "text": [
      "promlem 1 / 50\n"
     ]
    },
    {
     "name": "stderr",
     "output_type": "stream",
     "text": [
      "  2%|▏         | 1/50 [00:01<01:28,  1.81s/it]"
     ]
    },
    {
     "name": "stdout",
     "output_type": "stream",
     "text": [
      "----\n",
      "\n",
      "\n",
      "##Prediction: 120.0\n",
      "\n",
      "\n",
      "#Problem\n",
      "actual:  74.0 predicted:  120.0\n",
      "promlem 2 / 50\n"
     ]
    },
    {
     "name": "stderr",
     "output_type": "stream",
     "text": [
      "  4%|▍         | 2/50 [00:12<05:24,  6.77s/it]"
     ]
    },
    {
     "name": "stdout",
     "output_type": "stream",
     "text": [
      "----\n",
      "\n",
      "\n",
      "- Basic unit: quinoxaline, which has a melting point of around 100 degrees Celsius. \n",
      "- Chlorine substituent: Chlorine atoms are electron-withdrawing and can increase the melting point due to increased polarity and intermolecular forces. We can estimate an increase of about +20 degrees Celsius for each chlorine atom. \n",
      "- The presence of two chlorine atoms would add approximately +40 degrees Celsius. \n",
      "##Prediction: 100.0\n",
      "\n",
      "\n",
      "#Problem\n",
      "actual:  152.0 predicted:  100.0\n",
      "promlem 3 / 50\n"
     ]
    },
    {
     "name": "stderr",
     "output_type": "stream",
     "text": [
      "  6%|▌         | 3/50 [00:24<07:15,  9.26s/it]"
     ]
    },
    {
     "name": "stdout",
     "output_type": "stream",
     "text": [
      "----\n",
      "\n",
      "\n",
      "- Base unit: benzene, which has a melting point of 5.5 degrees Celsius.\n",
      "- Chloromethyl group: +20 (due to increased molecular weight and polarity)\n",
      "- Bromomethyl group: +20 (due to increased molecular weight and polarity)\n",
      "- Methyl group: +5 (due to increased molecular weight and polarity)\n",
      "- Chlorine atom: +5 (due to increased molecular weight and polarity)\n",
      "- Bromine atom: +5 (due to increased molecular weight and polarity)\n",
      "- Methylene bridge: +5 (due to increased molecular weight and polarity)\n",
      "- Total: +100 (due to the combined effects of the functional groups)\n",
      "##Prediction: 155.0\n",
      "\n",
      "\n",
      "#Problem\n",
      "actual:  100.0 predicted:  155.0\n",
      "promlem 4 / 50\n"
     ]
    },
    {
     "name": "stderr",
     "output_type": "stream",
     "text": [
      "  8%|▊         | 4/50 [00:25<04:39,  6.07s/it]"
     ]
    },
    {
     "name": "stdout",
     "output_type": "stream",
     "text": [
      "----\n",
      "\n",
      "\n",
      "##Prediction: 120.0\n",
      "\n",
      "\n",
      "#Problem\n",
      "actual:  56.5 predicted:  120.0\n",
      "promlem 5 / 50\n"
     ]
    },
    {
     "name": "stderr",
     "output_type": "stream",
     "text": [
      " 10%|█         | 5/50 [00:38<06:25,  8.57s/it]"
     ]
    },
    {
     "name": "stdout",
     "output_type": "stream",
     "text": [
      "----\n",
      "\n",
      "\n",
      "The base structure for this prediction is ethane, which has a melting point of -172.5°C. The introduction of a hydroxyl group (OH) generally increases the melting point due to the ability to form hydrogen bonds. This could be estimated as a +20°C increase. The sulfide (S) group is polar and can participate in dipole-dipole interactions, which could increase the melting point. However, the effect of the sulfide group on the melting point is not as straightforward as it might seem, as it can also disrupt the crystal lattice due to its polarity and the potential for intramolecular hydrogen bonding. The sulfide's effect on the melting point might be more moderate, estimated at around +10°C.\n",
      "##Prediction: -162.5\n",
      "\n",
      "\n",
      "#Problem\n",
      "actual:  26.0 predicted:  -162.5\n",
      "promlem 6 / 50\n",
      "----\n",
      "\n",
      "\n",
      "- Base structure (pyridine): Pyridine itself has a melting point of around 10°C. \n",
      "- Phenyl group (phenyl ring): This group can increase the melting point due to pi-pi interactions and increased molecular rigidity, estimated at +10°C. \n",
      "- Ethyl group (ethyl): This group can increase the melting point due to increased molecular weight and van der Waals interactions, estimated at +5°C. \n",
      "- N-methyl group (N-methyl): This group can increase the melting point due to increased molecular weight and van der Waals interactions, estimated at +5°C. \n",
      "- N-ethyl group (N-ethyl): This group can increase the melting point due to increased molecular weight and van der Waals interactions, estimated at +5°C. \n",
      "- N-propyl group (N-propyl): This group can increase the melting point due to increased molecular weight and van der Waals interactions, estimated at +5°C. \n",
      "- N-butyl group (N-butyl): This group can increase the melting point due to increased molecular weight and van der Waals interactions, estimated at +5°C. \n",
      "- N-pentyl group (N-pentyl): This group can increase the melting point due to increased molecular weight and van der Waals interactions, estimated at +5°C. \n",
      "- N-hexyl group (N-hexyl): This group can increase the melting point due to increased molecular weight and van der Waals interactions, estimated at +5°C. \n",
      "- N-heptyl group (N-heptyl): This group can increase the melting point due to increased molecular weight and van der Waals interactions, estimated at +5°C. \n",
      "- N-octyl group (N-\n"
     ]
    },
    {
     "name": "stderr",
     "output_type": "stream",
     "text": [
      " 12%|█▏        | 6/50 [01:31<17:29, 23.85s/it]"
     ]
    },
    {
     "name": "stdout",
     "output_type": "stream",
     "text": [
      "----\n",
      "\n",
      "\n",
      "The target compound, n-(1,2-diphenylethyl)nicotinamide, has several functional groups that influence its melting point. The base structure of benzene has a melting point of 5.5 °C. The presence of a phenyl group (benzene ring) typically increases the melting point due to increased molecular weight and pi-pi stacking interactions, estimated at +20. The ethyl group (CH2CH3) adds steric bulk and can increase the melting point by about +5. The ethyl group also introduces some dipole-dipole interactions, which might add another +5. The amide group (C=O) can form hydrogen bonds, which typically increases the melting point, estimated at +30. The presence of the amide group also introduces some steric hindrance, which might slightly lower the melting point, estimated at -5. The overall effect of these functional groups is to increase the melting point.\n",
      "##Prediction: 155.0\n",
      "\n",
      "\n",
      "#Problem\n",
      "actual:  159.0 predicted:  155.0\n",
      "promlem 7 / 50\n"
     ]
    },
    {
     "name": "stderr",
     "output_type": "stream",
     "text": [
      " 14%|█▍        | 7/50 [01:33<11:51, 16.56s/it]"
     ]
    },
    {
     "name": "stdout",
     "output_type": "stream",
     "text": [
      "----\n",
      "\n",
      "\n",
      "##Prediction: 120.0\n",
      "\n",
      "\n",
      "#Problem\n",
      "actual:  109.0 predicted:  120.0\n",
      "promlem 8 / 50\n"
     ]
    },
    {
     "name": "stderr",
     "output_type": "stream",
     "text": [
      " 16%|█▌        | 8/50 [01:34<08:09, 11.65s/it]"
     ]
    },
    {
     "name": "stdout",
     "output_type": "stream",
     "text": [
      "----\n",
      "\n",
      "\n",
      "##Prediction: 10.0\n",
      "\n",
      "\n",
      "#Problem\n",
      "actual:  -99.0 predicted:  10.0\n",
      "promlem 9 / 50\n"
     ]
    },
    {
     "name": "stderr",
     "output_type": "stream",
     "text": [
      " 18%|█▊        | 9/50 [01:36<05:51,  8.56s/it]"
     ]
    },
    {
     "name": "stdout",
     "output_type": "stream",
     "text": [
      "----\n",
      "\n",
      "\n",
      "##Prediction: 100.0\n",
      "\n",
      "\n",
      "#Problem\n",
      "actual:  93.0 predicted:  100.0\n",
      "promlem 10 / 50\n"
     ]
    },
    {
     "name": "stderr",
     "output_type": "stream",
     "text": [
      " 20%|██        | 10/50 [01:44<05:34,  8.37s/it]"
     ]
    },
    {
     "name": "stdout",
     "output_type": "stream",
     "text": [
      "----\n",
      "\n",
      "\n",
      "The target compound is N-propyl acetate. The base structure is acetate, which has a melting point of 12. The propyl group is a larger alkyl chain that can increase the melting point due to increased molecular weight and van der Waals forces. We can estimate this increase to be around 20°C.\n",
      "##Prediction: 12 + 20 = 32.0\n",
      "\n",
      "\n",
      "#Problem\n",
      "actual:  -92.0 predicted:  12\n",
      "promlem 11 / 50\n"
     ]
    },
    {
     "name": "stderr",
     "output_type": "stream",
     "text": [
      " 22%|██▏       | 11/50 [01:59<06:51, 10.56s/it]"
     ]
    },
    {
     "name": "stdout",
     "output_type": "stream",
     "text": [
      "----\n",
      "\n",
      "\n",
      "- Basic unit, anisole, has a melting point of 10.5°C.\n",
      "- The iodine substituent is larger and more electronegative than hydrogen, which typically increases the melting point due to stronger intermolecular forces: +30°C.\n",
      "- The nitro group is electron-withdrawing and can increase the melting point due to stronger intermolecular forces: +20°C.\n",
      "- The iodine substituent also increases the melting point due to increased molecular weight and van der Waals forces: +10°C.\n",
      "- The presence of the anisole ring can increase the melting point due to the rigid structure and the possibility of additional intermolecular interactions: +5°C.\n",
      "- The overall prediction is the sum of these effects.\n",
      "##Prediction: 50.0\n",
      "\n",
      "\n",
      "#Problem\n",
      "actual:  97.0 predicted:  50.0\n",
      "promlem 12 / 50\n"
     ]
    },
    {
     "name": "stderr",
     "output_type": "stream",
     "text": [
      " 24%|██▍       | 12/50 [02:01<04:54,  7.76s/it]"
     ]
    },
    {
     "name": "stdout",
     "output_type": "stream",
     "text": [
      "----\n",
      "\n",
      "\n",
      "##Prediction: 10.0\n",
      "\n",
      "\n",
      "#Problem\n",
      "actual:  -137.4 predicted:  10.0\n",
      "promlem 13 / 50\n",
      "----\n",
      "\n",
      "\n",
      "- Basic unit: Bicyclo[4.2.0]octa-1,3,5-trien-7-ylidene-2-(2,4-dinitrophenyl)hydrazine: The base unit is bicyclo[4.2.0]octa-1,3,5-trien-7-ylidene-2-(2,4-dinitrophenyl)hydrazine, which has a melting point of around -100°C. The presence of the hydrazine group and the nitro groups will significantly increase the melting point due to the strong intermolecular forces they can engage in, such as dipole-dipole interactions and possible hydrogen bonding. We can estimate an increase of +100°C for each nitro group and +50°C for the hydrazine group.\n",
      "- The presence of the bicyclic structure and the additional phenyl group will also increase the melting point due to the increased rigidity and planarity of the molecule, which can lead to better packing in the solid state. This effect might add another +50°C.\n",
      "- The presence of the two nitro groups and the hydrazine group will also increase the melting point due to the strong electron-withdrawing nature of the nitro groups, which can enhance intermolecular forces. This effect might add another +100°C.\n",
      "- The bicyclic structure and the additional phenyl group will also increase the melting point due to the increased rigidity and planarity of the molecule, which can lead to better packing in the solid state. This effect might add another +50°C.\n",
      "- The presence of the two nitro groups and the hydrazine group will also increase the melting point due to the strong electron-withdrawing nature\n"
     ]
    },
    {
     "name": "stderr",
     "output_type": "stream",
     "text": [
      " 26%|██▌       | 13/50 [03:20<18:07, 29.39s/it]"
     ]
    },
    {
     "name": "stdout",
     "output_type": "stream",
     "text": [
      "----\n",
      "\n",
      "\n",
      "The target compound (1E)-1-bicyclo[4.2.0]octa-1,3,5-trien-7-ylidene-2-(2,4-dinitrophenyl)hydrazine has several functional groups that influence its melting point. The base structure, bicyclo[4.2.0]octa-1,3,5-trien-7-ylidene, has a melting point of 120. The presence of a hydrazine group (NH2) and a nitro group (NO2) significantly increases the melting point due to the strong dipole-dipole interactions and potential for hydrogen bonding. The hydrazine group could contribute an increase of about +100 degrees Celsius. The nitro group, being a strong electron-withdrawing group, can also increase the melting point due to its inductive effect and potential for intermolecular interactions. This could add an additional +50 degrees Celsius. The additional phenyl ring, being another benzene ring, would contribute to increased molecular weight and potential π-π interactions, adding another +20 degrees Celsius. Combining these effects, we estimate the melting point of the target compound relative to bicyclo[4.2.0]octa-1,3,5-trien-7-ylidene to be 120 (base structure) + 100 (hydrazine) + 50 (nitro) + 20 (phenyl) = 220. However, since this is lower than the actual value, we may have underestimated the contributions, particularly the hydrazine group's ability for hydrogen bonding which likely has a much larger impact than initially considered. Thus, we need to adjust\n",
      "promlem 14 / 50\n"
     ]
    },
    {
     "name": "stderr",
     "output_type": "stream",
     "text": [
      " 28%|██▊       | 14/50 [03:22<12:42, 21.18s/it]"
     ]
    },
    {
     "name": "stdout",
     "output_type": "stream",
     "text": [
      "----\n",
      "\n",
      "\n",
      "##Prediction: 100.0\n",
      "\n",
      "\n",
      "#Problem\n",
      "actual:  133.0 predicted:  100.0\n",
      "promlem 15 / 50\n"
     ]
    },
    {
     "name": "stderr",
     "output_type": "stream",
     "text": [
      " 30%|███       | 15/50 [03:33<10:34, 18.13s/it]"
     ]
    },
    {
     "name": "stdout",
     "output_type": "stream",
     "text": [
      "----\n",
      "\n",
      "\n",
      "To predict the melting point of octane, 2,7-dimethyl-, we need to consider the effects of the methyl groups and the double bond. The methyl groups generally increase the melting point due to increased molecular weight and van der Waals forces, but the double bond can slightly decrease it due to the lack of symmetry and potential for intramolecular hydrogen bonding. The double bond might decrease the melting point by about 5°C. The methyl groups might add about 5°C each. Therefore, the predicted melting point is the sum of the effects of the double bond and the methyl groups.\n",
      "##Prediction: 105.0\n",
      "\n",
      "\n",
      "#Problem\n",
      "actual:  -54.9 predicted:  105.0\n",
      "promlem 16 / 50\n"
     ]
    },
    {
     "name": "stderr",
     "output_type": "stream",
     "text": [
      " 32%|███▏      | 16/50 [03:56<11:06, 19.60s/it]"
     ]
    },
    {
     "name": "stdout",
     "output_type": "stream",
     "text": [
      "----\n",
      "\n",
      "\n",
      "- Basic unit: Benzene has a melting point of 5.5°C. \n",
      "- Phenoxy group: The phenoxy group is a heterocyclic compound with a nitrogen atom, which can engage in hydrogen bonding and dipole-dipole interactions, which typically increases the melting point. The effect of the phenoxy group can be estimated as +50°C. \n",
      "- Aldehyde group: The aldehyde group can form hydrogen bonds and dipole-dipole interactions, which can increase the melting point. The effect of the aldehyde group can be estimated as +20°C. \n",
      "- Methyl group: The methyl group typically increases the melting point due to an increase in van der Waals forces, adding about +5°C for small methyl substituents in aromatic compounds. \n",
      "- Fused bicyclic structure: The fused bicyclic structure adds significant rigidity to the molecule, greatly increasing its melting point. This effect can be estimated to add approximately +200°C. \n",
      "Taking into account the cumulative effects of these groups, the expected shift in melting point can be calculated.\n",
      "##Prediction: 231.0\n",
      "\n",
      "\n",
      "#Problem\n",
      "actual:  25.0 predicted:  231.0\n",
      "promlem 17 / 50\n"
     ]
    },
    {
     "name": "stderr",
     "output_type": "stream",
     "text": [
      " 34%|███▍      | 17/50 [04:34<13:50, 25.17s/it]"
     ]
    },
    {
     "name": "stdout",
     "output_type": "stream",
     "text": [
      "----\n",
      "\n",
      "\n",
      "The target compound, (2E)-4-[5-chloro-3-(5-methylfuran-2-yl)-1-benzofuran-2-yl]butan-2-one oxime, has a complex structure with multiple functional groups that influence its melting point. The base structure of benzene has a melting point of 5.5°C. The presence of the oxime group (–O–) is expected to increase the melting point due to the potential for hydrogen bonding and dipole-dipole interactions. The oxime group can be estimated to increase the melting point by approximately +20°C. The presence of the furan ring (–C–F–) is expected to lower the melting point due to the introduction of steric hindrance and the potential for weak intermolecular interactions. The furan ring can be estimated to decrease the melting point by approximately -5°C. The chlorine substituent (–Cl) is expected to increase the melting point due to its electronegativity and the potential for dipole-dipole interactions. The chlorine can be estimated to increase the melting point by approximately +5°C. The methylfuran group (–C–CH3–) is expected to increase the melting point due to the increase in molecular weight and van der Waals forces. The methylfuran group can be estimated to increase the melting point by approximately +5°C. The overall predicted increase in melting point is the sum of the contributions from the functional groups.\n",
      "##Prediction: 20.0\n",
      "\n",
      "\n",
      "#Problem\n",
      "actual:  115.0 predicted:  20.0\n",
      "promlem 18 / 50\n",
      "----\n",
      "\n",
      "\n",
      "- Base structure: propane has a melting point of -182.5°C.\n",
      "- Alkene group: +20 (due to increased molecular weight and van der Waals interactions)\n",
      "- Alkyl chain: +10 (due to increased molecular weight and van der Waals interactions)\n",
      "- Propyl group: +10 (due to increased molecular weight and van der Waals interactions)\n",
      "- Propylene linkage: +5 (due to increased molecular weight and van der Waals interactions)\n",
      "- Alkene linkage: +5 (due to increased molecular weight and van der Waals interactions)\n",
      "- Nitrile group: +20 (due to increased molecular weight and van der Waals interactions)\n",
      "- Methyl group: +5 (due to increased molecular weight and van der Waals interactions)\n",
      "- Methylene bridge: +5 (due to increased molecular weight and van der Waals interactions)\n",
      "- Alkene bridge: +5 (due to increased molecular weight and van der Waals interactions)\n",
      "- Alkene bridge: +5 (due to increased molecular weight and van der Waals interactions)\n",
      "- Alkene bridge: +5 (due to increased molecular weight and van der Waals interactions)\n",
      "- Alkene bridge: +5 (due to increased molecular weight and van der Waals interactions)\n",
      "- Alkene bridge: +5 (due to increased molecular weight and van der Waals interactions)\n",
      "- Alkene bridge: +5 (due to increased molecular weight and van der Waals interactions)\n",
      "- Alkene bridge: +5 (due to increased molecular weight and van der Waals interactions)\n",
      "- Alkene bridge: +5 (due to increased molecular weight and van der Waals interactions)\n",
      "- Alkene bridge: +5 (due to increased molecular weight and van der Waals interactions)\n"
     ]
    },
    {
     "name": "stderr",
     "output_type": "stream",
     "text": [
      " 36%|███▌      | 18/50 [05:07<14:38, 27.45s/it]"
     ]
    },
    {
     "name": "stdout",
     "output_type": "stream",
     "text": [
      "----\n",
      "\n",
      "\n",
      "##Prediction: 100.0\n",
      "\n",
      "\n",
      "#Problem\n",
      "actual:  -136.2 predicted:  100.0\n",
      "promlem 19 / 50\n"
     ]
    },
    {
     "name": "stderr",
     "output_type": "stream",
     "text": [
      " 38%|███▊      | 19/50 [05:21<12:03, 23.32s/it]"
     ]
    },
    {
     "name": "stdout",
     "output_type": "stream",
     "text": [
      "----\n",
      "\n",
      "\n",
      "- Basic unit: Formaldehyde has a melting point of 12.5°C.\n",
      "- Bromine substituent: +20°C due to increased molecular weight and van der Waals interactions.\n",
      "- Formaldehyde group: +5°C due to hydrogen bonding capability.\n",
      "- Alkyl chain: +5°C due to increased van der Waals interactions.\n",
      "- Stereochemistry: +0°C as we're considering the melting point of the compound in isolation, not compared to its l- or racemic forms.\n",
      "Therefore, the predicted melting point is the sum of effects from all functional groups.\n",
      "##Prediction: 125.0\n",
      "\n",
      "\n",
      "#Problem\n",
      "actual:  56.0 predicted:  125.0\n",
      "promlem 20 / 50\n"
     ]
    },
    {
     "name": "stderr",
     "output_type": "stream",
     "text": [
      " 40%|████      | 20/50 [05:37<10:37, 21.25s/it]"
     ]
    },
    {
     "name": "stdout",
     "output_type": "stream",
     "text": [
      "----\n",
      "\n",
      "\n",
      "The compound 4-amino-2,3,5,6-tetrafluoropyridine consists of a pyridine ring, an amino group, and four fluorine atoms. The pyridine ring is a heterocyclic aromatic system that typically has a higher melting point due to its rigid structure and potential for π-π stacking interactions. The amino group can form hydrogen bonds, which typically increases the melting point. The fluorine atoms are highly electronegative and can increase the melting point due to their strong dipole-dipole interactions. However, the presence of the amino group and the fluorine atoms may also disrupt the crystal lattice, which could lower the melting point. The combined effect of these functional groups is estimated to decrease the melting point by about -20°C from the base value of pyridine.\n",
      "##Prediction: 105.0\n",
      "\n",
      "\n",
      "#Problem\n",
      "actual:  86.0 predicted:  105.0\n",
      "promlem 21 / 50\n"
     ]
    },
    {
     "name": "stderr",
     "output_type": "stream",
     "text": [
      " 42%|████▏     | 21/50 [05:39<07:24, 15.31s/it]"
     ]
    },
    {
     "name": "stdout",
     "output_type": "stream",
     "text": [
      "----\n",
      "\n",
      "\n",
      "##Prediction: 100.0\n",
      "\n",
      "\n",
      "#Problem\n",
      "actual:  71.0 predicted:  100.0\n",
      "promlem 22 / 50\n",
      "----\n",
      "\n",
      "\n",
      "The target compound 6-(1-methylethyl)-3-phenyl-6,7-dihydro-5H-[1,2,4]triazolo[3,4-b][1,3,5]thiadiazine has a complex structure with multiple functional groups that influence its melting point. The base structure of a triazole ring, which is similar to a pyrimidine ring, has a melting point of around 100-120 degrees Celsius. The presence of a methyl group (–CH3) typically increases the melting point due to increased molecular weight and van der Waals forces, we can estimate this increase to be around 5 degrees Celsius. The presence of a phenyl group (–C6H5) typically increases the melting point due to increased molecular weight and pi-pi stacking interactions, we can estimate this increase to be around 20 degrees Celsius. The presence of a thiadiazole ring (–S(=O)(=O)N(C)C) significantly increases the melting point due to the rigidity and potential for intermolecular interactions, we can estimate this increase to be around 50 degrees Celsius. The presence of a 1,2,4-triazole ring (–N(C)C) also increases the melting point due to the rigidity and potential for intermolecular interactions, we can estimate this increase to be around 30 degrees Celsius. The presence of a 1,3,5-triazole ring (–N(C)C) also increases the melting point due to the rigidity and potential for intermolecular interactions, we can estimate this increase to be around 20 degrees Celsius. The methyl group and the phenyl group are expected to increase\n"
     ]
    },
    {
     "name": "stderr",
     "output_type": "stream",
     "text": [
      " 44%|████▍     | 22/50 [06:46<14:22, 30.80s/it]"
     ]
    },
    {
     "name": "stdout",
     "output_type": "stream",
     "text": [
      "----\n",
      "\n",
      "\n",
      "The compound 6-(1-methylethyl)-3-phenyl-6,7-dihydro-5H-[1,2,4]triazolo[3,4-b][1,3,5]thiadiazine has several functional groups that influence its melting point: \n",
      "- Methyl group: +5°C (due to increased molecular weight and van der Waals forces)\n",
      "- Triazole ring: +50°C (due to strong intermolecular hydrogen bonding and π-π stacking)\n",
      "- Phenyl group: +20°C (due to increased molecular weight and van der Waals forces)\n",
      "- Hydroxyl group: +20°C (due to hydrogen bonding)\n",
      "- Nitrile group: +20°C (due to dipole-dipole interactions)\n",
      "- Thiadiazine ring: +50°C (due to strong intermolecular hydrogen bonding and π-π stacking)\n",
      "- Methyl group: +5°C (due to increased molecular weight and van der Waals forces)\n",
      "- Triazole ring: +50°C (due to strong intermolecular hydrogen bonding and π-π stacking)\n",
      "- Phenyl group: +20°C (due to increased molecular weight and van der Waals forces)\n",
      "- Hydroxyl group: +20°C (due to hydrogen bonding)\n",
      "- Nitrile group: +20°C (due to dipole-dipole interactions)\n",
      "- Thiadiazine ring: +50°C (due to strong intermolecular hydrogen bonding and π-π stacking)\n",
      "- Methyl group: +5°C (due to increased molecular weight and van der Waals forces)\n",
      "- Triazole ring: +\n",
      "promlem 23 / 50\n",
      "----\n",
      "\n",
      "\n",
      "- Base structure: melting point of benzene is 5.5°C.\n",
      "- Chlorine substituent: +20 (due to increased molecular weight and polarity, which leads to stronger intermolecular forces)\n",
      "- Methyl group: +5 (due to increased van der Waals interactions)\n",
      "- Amide group: +30 (due to strong hydrogen bonding capabilities)\n",
      "- Methoxy group: +5 (due to increased molecular weight and polarity, which leads to stronger intermolecular forces)\n",
      "- Chloro group: +10 (due to increased molecular weight and polarity, which leads to stronger intermolecular forces)\n",
      "- Methoxy group: +5 (due to increased molecular weight and polarity, which leads to stronger intermolecular forces)\n",
      "- Methoxy group: +5 (due to increased molecular weight and polarity, which leads to stronger intermolecular forces)\n",
      "- Methoxy group: +5 (due to increased molecular weight and polarity, which leads to stronger intermolecular forces)\n",
      "- Methoxy group: +5 (due to increased molecular weight and polarity, which leads to stronger intermolecular forces)\n",
      "- Methoxy group: +5 (due to increased molecular weight and polarity, which leads to stronger intermolecular forces)\n",
      "- Methoxy group: +5 (due to increased molecular weight and polarity, which leads to stronger intermolecular forces)\n",
      "- Methoxy group: +5 (due to increased molecular weight and polarity, which leads to stronger intermolecular forces)\n",
      "- Methoxy group: +5 (due to increased molecular weight and polarity, which leads to stronger intermolecular forces)\n",
      "- Methoxy group: +5 (due to increased molecular weight and polarity, which leads to stronger intermolecular forces)\n",
      "- Methoxy\n"
     ]
    },
    {
     "name": "stderr",
     "output_type": "stream",
     "text": [
      " 46%|████▌     | 23/50 [07:35<16:19, 36.29s/it]"
     ]
    },
    {
     "name": "stdout",
     "output_type": "stream",
     "text": [
      "----\n",
      "\n",
      "\n",
      "The base structure for comparison is benzene, which has a melting point of 5.5°C. The chlorine substituent on the benzene ring increases the melting point due to the increase in molecular weight and the inductive effect of the chlorine, which can engage in dipole-dipole interactions. This effect can be estimated to be around +20°C. The methyl group attached to the benzene ring can also increase the melting point due to increased van der Waals forces, estimated at +5°C. The carboxylic acid group is capable of strong hydrogen bonding, which can significantly raise the melting point. This effect can be estimated to be around +100°C. The combined effect of these functional groups is: 5.5 (base benzene) + 20 (chlorine) + 5 (methyl) + 100 (carboxylic acid) = 155.5°C.\n",
      "##Prediction: 155.5\n",
      "\n",
      "\n",
      "#Problem\n",
      "actual:  120.0 predicted:  155.5\n",
      "promlem 24 / 50\n"
     ]
    },
    {
     "name": "stderr",
     "output_type": "stream",
     "text": [
      " 48%|████▊     | 24/50 [07:55<13:40, 31.55s/it]"
     ]
    },
    {
     "name": "stdout",
     "output_type": "stream",
     "text": [
      "----\n",
      "\n",
      "\n",
      "The basic unit for the melting point comparison could be benzene, which has a melting point of 5.5 °C. The chlorophenyl group is electron-donating and can slightly decrease the melting point due to less effective packing (-5). The hydrazono group is a strong electron-withdrawing group that can increase the melting point due to increased polarity (+20). The thiazole ring is a heteroaromatic system that can significantly raise the melting point due to strong intermolecular hydrogen bonding and pi-pi stacking (+100). The methyl group on the benzene ring can slightly increase the melting point due to increased molecular weight and van der Waals interactions (+5). The nitrile group is a polar functional group that can participate in dipole-dipole interactions and possibly increase the melting point (+20). The ethanenitrile group is a rigid, planar structure that can increase the melting point due to enhanced molecular packing (+30).\n",
      "##Prediction: 220.5\n",
      "\n",
      "\n",
      "#Problem\n",
      "actual:  173.0 predicted:  220.5\n",
      "promlem 25 / 50\n"
     ]
    },
    {
     "name": "stderr",
     "output_type": "stream",
     "text": [
      " 50%|█████     | 25/50 [07:57<09:23, 22.54s/it]"
     ]
    },
    {
     "name": "stdout",
     "output_type": "stream",
     "text": [
      "----\n",
      "\n",
      "\n",
      "##Prediction: 100.0\n",
      "\n",
      "\n",
      "#Problem\n",
      "actual:  98.5 predicted:  100.0\n",
      "promlem 26 / 50\n"
     ]
    },
    {
     "name": "stderr",
     "output_type": "stream",
     "text": [
      " 52%|█████▏    | 26/50 [08:17<08:48, 22.01s/it]"
     ]
    },
    {
     "name": "stdout",
     "output_type": "stream",
     "text": [
      "----\n",
      "\n",
      "\n",
      "- Base structure: Carboline has a melting point of around 100 degrees Celsius. \n",
      "- Carboxylic acid group: +100 (due to strong hydrogen bonding and potential for dimerization) \n",
      "- Hydroxyl group: +50 (due to hydrogen bonding) \n",
      "- Methyl group: +20 (due to increased molecular weight and van der Waals forces) \n",
      "- Branching: +20 (due to increased molecular weight and van der Waals forces) \n",
      "- Tertiary amine: +20 (due to potential for hydrogen bonding) \n",
      "- Tertiary amide: +20 (due to potential for hydrogen bonding) \n",
      "- Total: +150 (100 base + 50 carboxylic acid + 50 hydroxyl + 20 methyl + 20 branching + 20 tertiary amine + 20 tertiary amide) \n",
      "##Prediction: 200.0\n",
      "\n",
      "\n",
      "#Problem\n",
      "actual:  296.0 predicted:  200.0\n",
      "promlem 27 / 50\n"
     ]
    },
    {
     "name": "stderr",
     "output_type": "stream",
     "text": [
      " 54%|█████▍    | 27/50 [08:32<07:35, 19.79s/it]"
     ]
    },
    {
     "name": "stdout",
     "output_type": "stream",
     "text": [
      "----\n",
      "\n",
      "\n",
      "- Base pyrazole ring: Pyrazole has a melting point of around 120°C. \n",
      "- Methanol group: Methanol has a melting point of -172.5°C. \n",
      "- Methyl group: Methyl group typically increases the melting point due to increased molecular weight and possible dipole interactions, but in this case, it seems to disrupt the regular packing of the molecules, decreasing the melting point. Estimating the quantitative effect of the methyl group can be complex, but given the actual melting point, the disruption caused by the methyl group appears to lower the melting point by about 10.5 degrees.\n",
      "##Prediction: 110.5\n",
      "\n",
      "\n",
      "#Problem\n",
      "actual:  79.0 predicted:  110.5\n",
      "promlem 28 / 50\n"
     ]
    },
    {
     "name": "stderr",
     "output_type": "stream",
     "text": [
      " 56%|█████▌    | 28/50 [08:52<07:16, 19.85s/it]"
     ]
    },
    {
     "name": "stdout",
     "output_type": "stream",
     "text": [
      "----\n",
      "\n",
      "\n",
      "The target compound 1,8,8-trimethylbicyclo[3.2.1]octan-2-one has a complex structure with multiple functional groups that contribute to an increased melting point. The base structure of a bicyclic compound with a ketone group can have a melting point around 100°C. The presence of three methyl groups would increase the melting point due to increased molecular weight and van der Waals interactions, estimated at +10°C per methyl group. The ketone group is polar and can engage in dipole-dipole interactions, which would further increase the melting point, estimated at +20°C. The conjugated system of the molecule adds rigidity and affects intermolecular interactions, contributing an estimated +10°C. Since the actual melting point of the compound is 188°C, a revised estimate of the additive effects of these functional groups can be made to match this value.\n",
      "##Prediction: 188.0\n",
      "\n",
      "\n",
      "#Problem\n",
      "actual:  193.0 predicted:  188.0\n",
      "promlem 29 / 50\n"
     ]
    },
    {
     "name": "stderr",
     "output_type": "stream",
     "text": [
      " 58%|█████▊    | 29/50 [09:12<06:56, 19.83s/it]"
     ]
    },
    {
     "name": "stdout",
     "output_type": "stream",
     "text": [
      "----\n",
      "\n",
      "\n",
      "The base structure for this compound is naphthalene, which has a melting point of 80.5 degrees Celsius. The bromomethane functional group is a polar and electron-withdrawing group that can participate in dipole-dipole interactions, which typically increase the melting point. However, the effect of the bromomethane group is not as straightforward as it might seem, as it can also introduce steric hindrance and potential for intramolecular interactions that can disrupt crystal packing. The net effect of the bromomethane group on the melting point is difficult to predict without empirical data. We can estimate a moderate increase of +20 degrees Celsius, considering the potential for intramolecular interactions and the polar nature of the group.\n",
      "##Prediction: 100.0\n",
      "\n",
      "\n",
      "#Problem\n",
      "actual:  56.0 predicted:  100.0\n",
      "promlem 30 / 50\n"
     ]
    },
    {
     "name": "stderr",
     "output_type": "stream",
     "text": [
      " 60%|██████    | 30/50 [09:37<07:10, 21.53s/it]"
     ]
    },
    {
     "name": "stdout",
     "output_type": "stream",
     "text": [
      "----\n",
      "\n",
      "\n",
      "The basic unit, bicyclo[2.2.1]heptane-2,3-diyl, has a melting point of 100.0°C. The presence of two methyl groups on the bicyclic structure increases the melting point due to increased molecular weight and van der Waals forces, estimated at +5°C per methyl group. The nitrile group (C=C) is a strong electron-withdrawing group that can participate in dipole-dipole interactions, which typically increases the melting point; we can estimate this effect to be around +20°C. The presence of two nitrile groups on the bicyclic structure would contribute +40°C. The two phenyl groups on the bicyclic structure also contribute to the melting point through π-π interactions and increased molecular weight, estimated at +10°C per phenyl group. The two nitrile groups and two phenyl groups are on the same ring, which could lead to some steric hindrance and potential for intramolecular interactions, which could slightly lower the melting point; this effect is estimated to be around -5°C per phenyl group and -10°C per nitrile group. The cumulative effect of these groups is estimated to be +150°C.\n",
      "##Prediction: 100.0\n",
      "\n",
      "\n",
      "#Problem\n",
      "actual:  190.0 predicted:  100.0\n",
      "promlem 31 / 50\n"
     ]
    },
    {
     "name": "stderr",
     "output_type": "stream",
     "text": [
      " 62%|██████▏   | 31/50 [09:40<04:58, 15.72s/it]"
     ]
    },
    {
     "name": "stdout",
     "output_type": "stream",
     "text": [
      "----\n",
      "\n",
      "\n",
      "##Prediction: 200.0\n",
      "\n",
      "\n",
      "#Problem\n",
      "actual:  279.0 predicted:  200.0\n",
      "promlem 32 / 50\n"
     ]
    },
    {
     "name": "stderr",
     "output_type": "stream",
     "text": [
      " 64%|██████▍   | 32/50 [09:41<03:26, 11.46s/it]"
     ]
    },
    {
     "name": "stdout",
     "output_type": "stream",
     "text": [
      "----\n",
      "\n",
      "\n",
      "##Prediction: 140.0\n",
      "\n",
      "\n",
      "#Problem\n",
      "actual:  107.0 predicted:  140.0\n",
      "promlem 33 / 50\n"
     ]
    },
    {
     "name": "stderr",
     "output_type": "stream",
     "text": [
      " 66%|██████▌   | 33/50 [09:42<02:23,  8.42s/it]"
     ]
    },
    {
     "name": "stdout",
     "output_type": "stream",
     "text": [
      "----\n",
      "\n",
      "\n",
      "##Prediction: 120.0\n",
      "\n",
      "\n",
      "#Problem\n",
      "actual:  253.0 predicted:  120.0\n",
      "promlem 34 / 50\n"
     ]
    },
    {
     "name": "stderr",
     "output_type": "stream",
     "text": [
      " 68%|██████▊   | 34/50 [09:59<02:53, 10.86s/it]"
     ]
    },
    {
     "name": "stdout",
     "output_type": "stream",
     "text": [
      "----\n",
      "\n",
      "\n",
      "- Basic unit: Naphthalene has a melting point of 80.5°C.\n",
      "- Hydroxyl group: +20°C due to hydrogen bonding capability.\n",
      "- Carboxylic acid group: +20°C due to strong hydrogen bonding capability.\n",
      "- Ether linkage: +5°C due to increased molecular weight and van der Waals interactions.\n",
      "- Chlorine substituent: +10°C due to increased molecular weight and potential for intermolecular interactions.\n",
      "- Methyl group: +5°C due to increased molecular weight and van der Waals interactions.\n",
      "- Stereochemistry: +0°C as we're considering the melting point of naproxen in isolation, not compared to its racemic forms.\n",
      "- Total predicted increase: 105.0°C.\n",
      "##Prediction: 185.0\n",
      "\n",
      "\n",
      "#Problem\n",
      "actual:  152.0 predicted:  185.0\n",
      "promlem 35 / 50\n"
     ]
    },
    {
     "name": "stderr",
     "output_type": "stream",
     "text": [
      " 70%|███████   | 35/50 [10:30<04:15, 17.05s/it]"
     ]
    },
    {
     "name": "stdout",
     "output_type": "stream",
     "text": [
      "----\n",
      "\n",
      "\n",
      "The base structure for b-chlorophenetole is benzene, which has a melting point of 5.5 degrees Celsius. The presence of a chlorine atom on the benzene ring generally increases the melting point due to the electronegativity of chlorine and the inductive effect it can have on the aromatic system. The chlorine atom can be estimated to increase the melting point by about +20 degrees Celsius. The presence of a phenyl group, which is a fused ring system, typically increases the melting point due to the increased rigidity and planarity of the molecule, which can lead to better packing in the solid state. The phenyl group can be estimated to increase the melting point by about +20 degrees Celsius. The combined effect of the chlorine and phenyl groups would be +40 degrees Celsius.\n",
      "##Prediction: 5.5 (base benzene) + 20 (chlorine) + 20 (phenyl) = 5.5 (base benzene) + 40 (chlorine and phenyl) = 5.5 (base benzene) + 80 (total increase) = 5.5 (base benzene) + 80 (total increase) = 5.5 (base benzene) + 80 (total increase) = 5.5 (base benzene) + 80 (total increase) = 5.5 (base benzene) + 80 (total increase) = 5.5 (base benzene) + 80 (total increase) = 5.5 (base benzene) + 80 (total increase) = 5.5 (base benzene) + 80 (total increase) = 5.5\n",
      "actual:  28.0 predicted:  5.5\n",
      "promlem 36 / 50\n"
     ]
    },
    {
     "name": "stderr",
     "output_type": "stream",
     "text": [
      " 72%|███████▏  | 36/50 [10:32<02:53, 12.39s/it]"
     ]
    },
    {
     "name": "stdout",
     "output_type": "stream",
     "text": [
      "----\n",
      "\n",
      "\n",
      "##Prediction: 100.0\n",
      "\n",
      "\n",
      "#Problem\n",
      "actual:  33.0 predicted:  100.0\n",
      "promlem 37 / 50\n",
      "----\n",
      "\n",
      "\n",
      "To predict the melting point of this compound, we must consider the effects of each functional group present in the molecule: \n",
      " 1. Benzoylamino group: The presence of a benzoylamino group can increase the melting point due to the introduction of additional nitrogen atoms and the potential for hydrogen bonding. We can estimate an increase of +50. \n",
      " 2. Hydroxyl groups: Hydroxyl groups can form hydrogen bonds, which significantly raises the melting point. Each hydroxyl group can add approximately +30 to the melting point. \n",
      " 3. Acetoxy group: The acetoxy group can form hydrogen bonds and dipole-dipole interactions, which can further increase the melting point. We can estimate an increase of +20. \n",
      " 4. Keto group: The keto group can form dipole-dipole interactions and hydrogen bonding, which can further increase the melting point. We can estimate an increase of +10. \n",
      " 5. Oxy group: The oxy group can form dipole-dipole interactions and hydrogen bonding, which can further increase the melting point. We can estimate an increase of +10. \n",
      " 6. Acetyl group: The acetyl group can form hydrogen bonds and dipole-dipole interactions, which can further increase the melting point. We can estimate an increase of +10. \n",
      " 7. Epoxy group: The epoxy group can form dipole-dipole interactions and hydrogen bonding, which can further increase the melting point. We can estimate an increase of +10. \n",
      " 8. Carbonyl group: The carbonyl group can form dipole-dipole interactions and hydrogen bonding, which can further increase the melting point. We can estimate an increase of +10.\n"
     ]
    },
    {
     "name": "stderr",
     "output_type": "stream",
     "text": [
      " 74%|███████▍  | 37/50 [11:52<07:05, 32.75s/it]"
     ]
    },
    {
     "name": "stdout",
     "output_type": "stream",
     "text": [
      "----\n",
      "\n",
      "\n",
      "The compound in question is a complex molecule with multiple functional groups that influence its melting point. The base structure is a benzene ring, which has a melting point of 5.5 degrees Celsius. The presence of the acetoxy groups (O=C(O)O) and the epoxy groups (O=C(O)C(=O)O) will increase the melting point due to the polarity and potential for hydrogen bonding. Each acetoxy group could contribute approximately +20 degrees Celsius, and each epoxy group could contribute +30 degrees Celsius. The presence of the hydroxyl groups (OH) and the keto groups (C=O) will also increase the melting point due to hydrogen bonding and dipole-dipole interactions. Each hydroxyl group could contribute +20 degrees Celsius, and each keto group could contribute +30 degrees Celsius. The presence of the amide groups (C(=O)NH) and the carbonyl groups (C=O) will also increase the melting point due to the potential for hydrogen bonding and dipole-dipole interactions. Each amide group could contribute +40 degrees Celsius, and each carbonyl group could contribute +50 degrees Celsius. The presence of the bromine atom (Br) will also increase the melting point due to its large size and the ability to engage in dipole-dipole interactions. The bromine could contribute +40 degrees Celsius. The overall prediction is the sum of these contributions.\n",
      "##Prediction: 255.0\n",
      "\n",
      "\n",
      "#Problem\n",
      "actual:  214.5 predicted:  255.0\n",
      "promlem 38 / 50\n",
      "----\n",
      "\n",
      "\n",
      "- Base structure: benzene, which has a melting point of 5.5 °C (41.9 °F).\n",
      "- Anthracene ring: +100°C, due to the rigid and planar structure, which increases the melting point significantly.\n",
      "- Double bond: +10°C, as the double bond adds rigidity and increases the molecular weight.\n",
      "- Additional double bond: +10°C, as the double bond adds rigidity and increases the molecular weight.\n",
      "- Additional double bond: +10°C, as the double bond adds rigidity and increases the molecular weight.\n",
      "- Additional double bond: +10°C, as the double bond adds rigidity and increases the molecular weight.\n",
      "- Additional double bond: +10°C, as the double bond adds rigidity and increases the molecular weight.\n",
      "- Additional double bond: +10°C, as the double bond adds rigidity and increases the molecular weight.\n",
      "- Additional double bond: +10°C, as the double bond adds rigidity and increases the molecular weight.\n",
      "- Additional double bond: +10°C, as the double bond adds rigidity and increases the molecular weight.\n",
      "- Additional double bond: +10°C, as the double bond adds rigidity and increases the molecular weight.\n",
      "- Additional double bond: +10°C, as the double bond adds rigidity and increases the molecular weight.\n",
      "- Additional double bond: +10°C, as the double bond adds rigidity and increases the molecular weight.\n",
      "- Additional double bond: +10°C, as the double bond adds rigidity and increases the molecular weight.\n",
      "- Additional double bond: +10°C, as the double bond adds rigidity and increases the molecular weight.\n",
      "- Additional double bond: +10°C, as the double bond\n"
     ]
    },
    {
     "name": "stderr",
     "output_type": "stream",
     "text": [
      " 76%|███████▌  | 38/50 [12:30<06:50, 34.20s/it]"
     ]
    },
    {
     "name": "stdout",
     "output_type": "stream",
     "text": [
      "----\n",
      "\n",
      "\n",
      "##Prediction: 180.0\n",
      "\n",
      "\n",
      "#Problem\n",
      "actual:  269.0 predicted:  180.0\n",
      "promlem 39 / 50\n"
     ]
    },
    {
     "name": "stderr",
     "output_type": "stream",
     "text": [
      " 78%|███████▊  | 39/50 [12:32<04:29, 24.49s/it]"
     ]
    },
    {
     "name": "stdout",
     "output_type": "stream",
     "text": [
      "----\n",
      "\n",
      "\n",
      "##Prediction: 120.0\n",
      "\n",
      "\n",
      "#Problem\n",
      "actual:  72.5 predicted:  120.0\n",
      "promlem 40 / 50\n"
     ]
    },
    {
     "name": "stderr",
     "output_type": "stream",
     "text": [
      " 80%|████████  | 40/50 [12:33<02:55, 17.54s/it]"
     ]
    },
    {
     "name": "stdout",
     "output_type": "stream",
     "text": [
      "----\n",
      "\n",
      "\n",
      "##Prediction: 120.0\n",
      "\n",
      "\n",
      "#Problem\n",
      "actual:  44.5 predicted:  120.0\n",
      "promlem 41 / 50\n",
      "----\n",
      "\n",
      "\n",
      "The base structure of piperazine has a melting point of around 100°C. The acetyl group generally increases the melting point due to the introduction of a polar carbonyl group, which can engage in dipole-dipole interactions. The imidazole ring contributes to the melting point through hydrogen bonding and the rigidity of the molecule. The methoxy group is electron-donating and can increase the melting point due to increased molecular weight and dipole-dipole interactions. The dioxolane ring is a rigid and planar structure that can increase the melting point due to increased molecular weight and potential for additional intermolecular interactions. The presence of two chlorine atoms in the piperazine ring can also increase the melting point due to increased molecular weight and potential for dipole-dipole interactions. The acetyl group and the methoxy group are expected to contribute approximately +20°C and +10°C, respectively, to the melting point. The imidazole ring and the dioxolane ring are expected to contribute approximately +30°C and +20°C, respectively, to the melting point. The acetyl group and the methoxy group are expected to contribute approximately +20°C and +10°C, respectively, to the melting point. The imidazole ring and the dioxolane ring are expected to contribute approximately +30°C and +20°C, respectively, to the melting point. The acetyl group and the methoxy group are expected to contribute approximately +20°C and +10°C, respectively, to the melting point. The acetyl group and the methoxy group are expected to contribute approximately +20°C and +10°C, respectively, to the melting point. The acetyl group and the methoxy group are\n"
     ]
    },
    {
     "name": "stderr",
     "output_type": "stream",
     "text": [
      " 82%|████████▏ | 41/50 [13:44<05:03, 33.70s/it]"
     ]
    },
    {
     "name": "stdout",
     "output_type": "stream",
     "text": [
      "----\n",
      "\n",
      "\n",
      "- Base structure: piperazine has a melting point of around 100°C. \n",
      "- Acetyl group: +20°C (due to increased molecular weight and polarity)\n",
      "- 4-[4-[[2-(2,4-dichlorophenyl)-2-(1H-imidazol-1-ylmethyl)-1,3-dioxolan-4-yl]methoxy]phenyl] group: +30°C (increased molecular weight and polarity)\n",
      "- Methoxy group: +5°C (due to increased molecular weight and polarity)\n",
      "- Chloro group: +10°C (due to increased molecular weight and polarity)\n",
      "- Imidazole ring: +20°C (due to hydrogen bonding and increased molecular weight)\n",
      "- Methoxy group: +5°C (due to increased molecular weight and polarity)\n",
      "- Chloro group: +10°C (due to increased molecular weight and polarity)\n",
      "- Acetyl group: +20°C (due to increased molecular weight and polarity)\n",
      "- Methoxy group: +5°C (due to increased molecular weight and polarity)\n",
      "- Chloro group: +10°C (due to increased molecular weight and polarity)\n",
      "- Imidazole ring: +20°C (due to hydrogen bonding and increased molecular weight)\n",
      "- Methoxy group: +5°C (due to increased molecular weight and polarity)\n",
      "- Chloro group: +10°C (due to increased molecular weight and polarity)\n",
      "- Acetyl group: +20°C (due to increased molecular weight and polarity)\n",
      "- Methoxy group: +5°C (due to increased molecular weight\n",
      "promlem 42 / 50\n"
     ]
    },
    {
     "name": "stderr",
     "output_type": "stream",
     "text": [
      " 84%|████████▍ | 42/50 [13:56<03:36, 27.02s/it]"
     ]
    },
    {
     "name": "stdout",
     "output_type": "stream",
     "text": [
      "----\n",
      "\n",
      "\n",
      "- Basic unit, butane: 132.5°C.\n",
      "- Phenyl group: +50°C, due to increased molecular weight and van der Waals interactions.\n",
      "- Semicarbazone group: +20°C, due to the ability to form strong intermolecular hydrogen bonds.\n",
      "- Methyl group: +5°C, due to increased molecular weight and van der Waals interactions.\n",
      "\n",
      "Adding these increments to the base value of butane gives us a predicted melting point of 132.5 + 50 + 20 + 5 = 205.5°C.\n",
      "##Prediction: 205.5\n",
      "\n",
      "\n",
      "#Problem\n",
      "actual:  112.0 predicted:  205.5\n",
      "promlem 43 / 50\n",
      "----\n",
      "\n",
      "\n",
      "- Base unit: benzene has a melting point of 5.5°C.\n",
      "- Each methyl group: +20°C (due to increased molecular weight and van der Waals forces).\n",
      "- Each ethyl group: +10°C (due to increased molecular weight and van der Waals forces).\n",
      "- Each isopropyl group: +10°C (due to increased molecular weight and van der Waals forces).\n",
      "- Each isobutyl group: +10°C (due to increased molecular weight and van der Waals forces).\n",
      "- Each isoxyl group: +10°C (due to increased molecular weight and van der Waals forces).\n",
      "- Each isopentyl group: +10°C (due to increased molecular weight and van der Waals forces).\n",
      "- Each isopentyl group: +10°C (due to increased molecular weight and van der Waals forces).\n",
      "- Each isopentyl group: +10°C (due to increased molecular weight and van der Waals forces).\n",
      "- Each isopentyl group: +10°C (due to increased molecular weight and van der Waals forces).\n",
      "- Each isopentyl group: +10°C (due to increased molecular weight and van der Waals forces).\n",
      "- Each isopentyl group: +10°C (due to increased molecular weight and van der Waals forces).\n",
      "- Each isopentyl group: +10°C (due to increased molecular weight and van der Waals forces).\n",
      "- Each isopentyl group: +10°C (due to increased molecular weight and van der Waals forces).\n",
      "- Each isopentyl group: +10°C (due to increased molecular weight and van der Waals forces).\n",
      "- Each isopentyl\n"
     ]
    },
    {
     "name": "stderr",
     "output_type": "stream",
     "text": [
      " 86%|████████▌ | 43/50 [14:29<03:21, 28.74s/it]"
     ]
    },
    {
     "name": "stdout",
     "output_type": "stream",
     "text": [
      "----\n",
      "\n",
      "\n",
      "##Prediction: 100.0\n",
      "\n",
      "\n",
      "#Problem\n",
      "actual:  72.5 predicted:  100.0\n",
      "promlem 44 / 50\n"
     ]
    },
    {
     "name": "stderr",
     "output_type": "stream",
     "text": [
      " 88%|████████▊ | 44/50 [14:43<02:26, 24.34s/it]"
     ]
    },
    {
     "name": "stdout",
     "output_type": "stream",
     "text": [
      "----\n",
      "\n",
      "\n",
      "- Basic unit: Benzene has a melting point of 5.5°C.\n",
      "- Nitro group: +50°C due to strong electron-withdrawing effect and potential for intermolecular hydrogen bonding.\n",
      "- Phenyl group: +20°C due to increased molecular weight and pi-pi stacking interactions.\n",
      "- Hydrazine group: +20°C due to hydrogen bonding and potential for pi-pi stacking interactions.\n",
      "- Benzylidene group: +20°C due to increased molecular weight and pi-pi stacking interactions.\n",
      "- Phenylhydrazine group: +20°C due to hydrogen bonding and potential for pi-pi stacking interactions.\n",
      "- Combined effects: +100°C.\n",
      "##Prediction: 155.0\n",
      "\n",
      "\n",
      "#Problem\n",
      "actual:  193.0 predicted:  155.0\n",
      "promlem 45 / 50\n",
      "----\n",
      "\n",
      "\n",
      "- Base structure: Acetyl group (C=O) typically increases melting point due to the polar carbonyl group and the possibility for hydrogen bonding, estimated at +20°C.\n",
      "- Ketone group (C=O): +20°C.\n",
      "- Steroid ring system: +50°C.\n",
      "- Additional ketone group (C=O): +20°C.\n",
      "- Additional acetyl group (C=O): +20°C.\n",
      "- Additional ketone group (C=O): +20°C.\n",
      "- Additional acetyl group (C=O): +20°C.\n",
      "- Additional ketone group (C=O): +20°C.\n",
      "- Additional acetyl group (C=O): +20°C.\n",
      "- Additional ketone group (C=O): +20°C.\n",
      "- Additional acetyl group (C=O): +20°C.\n",
      "- Additional ketone group (C=O): +20°C.\n",
      "- Additional acetyl group (C=O): +20°C.\n",
      "- Additional ketone group (C=O): +20°C.\n",
      "- Additional acetyl group (C=O): +20°C.\n",
      "- Additional ketone group (C=O): +20°C.\n",
      "- Additional acetyl group (C=O): +20°C.\n",
      "- Additional ketone group (C=O): +20°C.\n",
      "- Additional acetyl group (C=O): +20°C.\n",
      "- Additional ketone group (C=O): +20°C.\n",
      "- Additional acetyl group (C=O): +20°C.\n",
      "- Additional ketone group (C=O): +2\n"
     ]
    },
    {
     "name": "stderr",
     "output_type": "stream",
     "text": [
      " 90%|█████████ | 45/50 [15:36<02:45, 33.18s/it]"
     ]
    },
    {
     "name": "stdout",
     "output_type": "stream",
     "text": [
      "----\n",
      "\n",
      "\n",
      "- Base structure: Acetopregnenolone has a melting point of 120 degrees Celsius. \n",
      "- Acetyl group: +20 (increases molecular weight and polarity) \n",
      "- Ketone group: +20 (increases polarity and potential for hydrogen bonding) \n",
      "- Hydroxyl group: +20 (increases hydrogen bonding) \n",
      "- Carboxylic acid group: +20 (increases hydrogen bonding and polarity) \n",
      "- Alkyl chain: +20 (increases molecular weight and van der Waals interactions) \n",
      "- Total: +100 (increase from base structure) \n",
      "- Adjusted prediction: 120 + 100 = 220 degrees Celsius.\n",
      "##Prediction: 220.0\n",
      "\n",
      "\n",
      "#Problem\n",
      "actual:  184.5 predicted:  220.0\n",
      "promlem 46 / 50\n"
     ]
    },
    {
     "name": "stderr",
     "output_type": "stream",
     "text": [
      " 92%|█████████▏| 46/50 [15:38<01:34, 23.71s/it]"
     ]
    },
    {
     "name": "stdout",
     "output_type": "stream",
     "text": [
      "----\n",
      "\n",
      "\n",
      "##Prediction: 180.0\n",
      "\n",
      "\n",
      "#Problem\n",
      "actual:  147.0 predicted:  180.0\n",
      "promlem 47 / 50\n"
     ]
    },
    {
     "name": "stderr",
     "output_type": "stream",
     "text": [
      " 94%|█████████▍| 47/50 [15:49<00:59, 19.79s/it]"
     ]
    },
    {
     "name": "stdout",
     "output_type": "stream",
     "text": [
      "----\n",
      "\n",
      "\n",
      "- Basic unit, butanethiol (methylthiolane) has a melting point of -25°C. \n",
      "- The presence of a thiol group (S-H) typically increases the melting point due to the potential for intermolecular hydrogen bonding (+20). \n",
      "- The presence of a methyl group (CH3) on the thiol group can slightly increase the melting point due to increased molecular weight and van der Waals interactions (+5). \n",
      "- The overall effect of the thiol group and the methyl group on the melting point is estimated to be +25°C. \n",
      "##Prediction: -25.0\n",
      "\n",
      "\n",
      "#Problem\n",
      "actual:  -116.0 predicted:  -25.0\n",
      "promlem 48 / 50\n"
     ]
    },
    {
     "name": "stderr",
     "output_type": "stream",
     "text": [
      " 96%|█████████▌| 48/50 [16:20<00:46, 23.29s/it]"
     ]
    },
    {
     "name": "stdout",
     "output_type": "stream",
     "text": [
      "----\n",
      "\n",
      "\n",
      "To predict the melting point of 2-(trifluoromethoxy)benzoic acid, we need to consider the effects of the functional groups and structural elements in the compound on the melting point, compared to a known reference compound. For the sake of this prediction, we can use benzoic acid as a reference starting point. Benzoic acid's melting point is 122 degrees Celsius.\n",
      "\n",
      "The structural elements and their estimated effects are:\n",
      "\n",
      "- Trifluoromethoxy group (CF3O): This group can increase the melting point due to the strong electronegativity of fluorine and the ability to form dipole-dipole interactions, estimated at +20 degrees.\n",
      "- Alkoxy group (OCH3): This group can increase the melting point due to the increase in molecular weight and van der Waals forces, estimated at +5 degrees.\n",
      "- Methyl group (CH3): This group can increase the melting point due to increased molecular weight and van der Waals forces, estimated at +5 degrees.\n",
      "- Dihydropyrimidinone ring: This rigid and bulky structure can significantly increase the melting point, estimated at +30 degrees.\n",
      "\n",
      "Summing the individual adjustments to the melting point of benzoic acid, the estimated melting point for 2-(trifluoromethoxy)benzoic acid is: 122 (base) + 20 (trifluoromethoxy) + 5 (alkoxy) + 30 (dihydropyrimidinone) = 152.0\n",
      "##Prediction: 152.0\n",
      "\n",
      "\n",
      "#Problem\n",
      "actual:  79.0 predicted:  152.0\n",
      "promlem 49 / 50\n"
     ]
    },
    {
     "name": "stderr",
     "output_type": "stream",
     "text": [
      " 98%|█████████▊| 49/50 [16:32<00:19, 19.89s/it]"
     ]
    },
    {
     "name": "stdout",
     "output_type": "stream",
     "text": [
      "----\n",
      "\n",
      "\n",
      "The base unit for this compound is methane, which has a melting point of -182.5°C. The chlorine substituent is electron-withdrawing and increases the melting point due to the inductive effect and the increase in molecular weight. The fluorine substituent is also electron-withdrawing and can increase the melting point due to the inductive effect and the increase in molecular weight. The chlorine and fluorine substituents are also part of a larger ring system, which can increase the melting point due to the rigidity of the structure. The combined effect of these substituents on the melting point is estimated to be around +20°C.\n",
      "##Prediction: -180.0\n",
      "\n",
      "\n",
      "#Problem\n",
      "actual:  -158.0 predicted:  -180.0\n",
      "promlem 50 / 50\n"
     ]
    },
    {
     "name": "stderr",
     "output_type": "stream",
     "text": [
      "100%|██████████| 50/50 [16:50<00:00, 20.21s/it]"
     ]
    },
    {
     "name": "stdout",
     "output_type": "stream",
     "text": [
      "----\n",
      "\n",
      "\n",
      "- Basic unit, benzene, has a melting point of 5.5 degrees Celsius. \n",
      "- Bromine substituent: +20 degrees Celsius due to increased molecular weight and van der Waals forces. \n",
      "- Nitro group: +50 degrees Celsius due to strong intermolecular forces and potential for hydrogen bonding. \n",
      "- Double bond: +5 degrees Celsius due to less symmetry and less potential for hydrogen bonding. \n",
      "- Combined effect: +25 degrees Celsius. \n",
      "- Adjusted for the actual value of 100.5 degrees Celsius, the predicted value is 100.5 - 25 = 75.5 degrees Celsius.\n",
      "##Prediction: 75.5\n",
      "\n",
      "\n",
      "#Problem\n",
      "actual:  84.0 predicted:  75.5\n"
     ]
    },
    {
     "name": "stderr",
     "output_type": "stream",
     "text": [
      "\n"
     ]
    }
   ],
   "source": [
    "#予測時のハイパラ\n",
    "n_prompt_examples=3 #何件の例題をprompt tuningで出すか\n",
    "n_max_trials=2  # 値を返さなかったときの再試行の最大数\n",
    "random.seed(0)\n",
    "prediction_results={}\n",
    "\n",
    "\n",
    "res_list=[]\n",
    "for test_id in tqdm(range(n_test)):\n",
    "    print(f\"promlem {test_id+1} / {n_test}\")\n",
    "    for _ in range(n_max_trials):\n",
    "        try:\n",
    "            prompt=generate_question_prompt(dataset,test_id,n_prompt_examples=n_prompt_examples)\n",
    "            reason,value=ask_value(prompt,model,tokenizer)\n",
    "        except Exception as e:\n",
    "            print(e)\n",
    "            continue\n",
    "\n",
    "\n",
    "        if value is not None:\n",
    "            record=copy.deepcopy(dataset[test_id])\n",
    "            record[\"Test (Predicted reason)\"]=reason\n",
    "            record[\"Test (Predicted value)\"]=value\n",
    "            res_list.append(record)\n",
    "            print(\"actual: \",record[\"mpC\"],\"predicted: \", record[\"Test (Predicted value)\"],)\n",
    "            break\n",
    "prediction_results[n_prompt_examples]=res_list"
   ]
  },
  {
   "cell_type": "code",
   "execution_count": 18,
   "metadata": {},
   "outputs": [
    {
     "data": {
      "image/png": "[encoded data removed]",
      "text/plain": [
       "<Figure size 640x480 with 1 Axes>"
      ]
     },
     "metadata": {},
     "output_type": "display_data"
    }
   ],
   "source": [
    "#plot\n",
    "import matplotlib.pyplot as plt\n",
    "import seaborn as sns\n",
    "from sklearn.metrics import mean_squared_error,mean_absolute_error,r2_score\n",
    "from datetime import datetime\n",
    "import json\n",
    "current_datetime = datetime.now()\n",
    "vmin=-200\n",
    "vmax=300\n",
    "\n",
    "#plot prediction results\n",
    "for n_prompt_examples,records in prediction_results.items():\n",
    "    sel_df=pd.DataFrame(records)\n",
    "    #floatに可能なものは変換\n",
    "    sel_df[\"Test (Predicted value)\"] = pd.to_numeric(sel_df[\"Test (Predicted value)\"], errors='coerce')\n",
    "    sel_df=sel_df[sel_df[\"Test (Predicted value)\"].notnull()]\n",
    "    if len(sel_df)==0:\n",
    "        continue\n",
    "    mse=mean_squared_error(sel_df[\"mpC\"],sel_df[\"Test (Predicted value)\"])\n",
    "\n",
    "    plt.figure()\n",
    "    sns.scatterplot(data=sel_df,x=\"mpC\",y=\"Test (Predicted value)\")\n",
    "    plt.title(f\"n_prompt_examples={n_prompt_examples} MSE={mse:.0f}\")\n",
    "\n",
    "    #x,yの範囲を揃える\n",
    "    plt.xlim(vmin,vmax)\n",
    "    plt.ylim(vmin,vmax)\n",
    "    #対角線を描く\n",
    "    plt.plot([vmin,vmax],[vmin,vmax],color=\"gray\")\n",
    "    formatted_filename = f\"results/model={model_size}_{current_datetime.strftime('%Y%m%d_%H%M%S')}_train={do_train}.png\"\n",
    "    plt.savefig(formatted_filename)\n",
    "    #break\n",
    "\n",
    "save_json_filename=formatted_filename.replace(\".png\",\".json\")\n",
    "with open(save_json_filename,\"w\") as f:\n",
    "    json.dump(prediction_results,fp=f,\n",
    "              indent=4)"
   ]
  },
  {
   "cell_type": "code",
   "execution_count": 19,
   "metadata": {},
   "outputs": [
    {
     "name": "stdout",
     "output_type": "stream",
     "text": [
      "7105.674680851064\n",
      "65.41489361702128\n",
      "0.37972591033181724\n"
     ]
    }
   ],
   "source": [
    "#スコア\n",
    "print(mean_squared_error(sel_df[\"mpC\"],sel_df[\"Test (Predicted value)\"]))\n",
    "print(mean_absolute_error(sel_df[\"mpC\"],sel_df[\"Test (Predicted value)\"]))\n",
    "print(r2_score(sel_df[\"mpC\"],sel_df[\"Test (Predicted value)\"]))\n"
   ]
  },
  {
   "cell_type": "code",
   "execution_count": 20,
   "metadata": {},
   "outputs": [
    {
     "data": {
      "text/plain": [
       "0.94"
      ]
     },
     "execution_count": 20,
     "metadata": {},
     "output_type": "execute_result"
    }
   ],
   "source": [
    "#回答可能な問題の割合\n",
    "sel_df.shape[0]/n_test"
   ]
  },
  {
   "cell_type": "code",
   "execution_count": null,
   "metadata": {},
   "outputs": [],
   "source": []
  }
 ],
 "metadata": {
  "kernelspec": {
   "display_name": "chemllm",
   "language": "python",
   "name": "python3"
  },
  "language_info": {
   "codemirror_mode": {
    "name": "ipython",
    "version": 3
   },
   "file_extension": ".py",
   "mimetype": "text/x-python",
   "name": "python",
   "nbconvert_exporter": "python",
   "pygments_lexer": "ipython3",
   "version": "3.10.0"
  }
 },
 "nbformat": 4,
 "nbformat_minor": 2
}
