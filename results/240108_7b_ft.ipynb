{
 "cells": [
  {
   "cell_type": "code",
   "execution_count": null,
   "metadata": {},
   "outputs": [],
   "source": [
    "# finetuning llama2"
   ]
  },
  {
   "cell_type": "markdown",
   "metadata": {},
   "source": [
    "# (Q)分子構造+(R)理由+(A)物性データセットのLLMによる学習と予測\n",
    "- Q&A: 融点データセットを使用\n",
    "- R: GPT4を使い､Q&Aをもとに自動生成\n",
    "- 強化学習をしてみる"
   ]
  },
  {
   "cell_type": "code",
   "execution_count": null,
   "metadata": {},
   "outputs": [],
   "source": [
    "#!pip install transformers==4.35.0\n",
    "#!pip install peft==0.5.0\n",
    "#!pip install bitsandbytes==0.41.1\n",
    "#!pip install accelerate==0.23.0\n",
    "#!pip install flash-attn==2.3.1.post1\n",
    "#!pip install datasets==2.14.5"
   ]
  },
  {
   "cell_type": "code",
   "execution_count": 1,
   "metadata": {},
   "outputs": [
    {
     "name": "stderr",
     "output_type": "stream",
     "text": [
      "/home/setup/miniconda3/envs/chemllm/lib/python3.10/site-packages/tqdm/auto.py:21: TqdmWarning: IProgress not found. Please update jupyter and ipywidgets. See https://ipywidgets.readthedocs.io/en/stable/user_install.html\n",
      "  from .autonotebook import tqdm as notebook_tqdm\n"
     ]
    }
   ],
   "source": [
    "import os\n",
    "os.environ[\"CUDA_VISIBLE_DEVICES\"]=\"1\"\n",
    "\n",
    "from transformers import AutoModelForCausalLM, BitsAndBytesConfig\n",
    "import torch\n",
    "from peft import LoraConfig, get_peft_model\n",
    "from transformers import AutoTokenizer,pipeline\n",
    "from datasets import Dataset\n",
    "import copy\n",
    "from tqdm import tqdm\n",
    "#問題設定: はじめのN件をテストデータにする\n",
    "n_test=50"
   ]
  },
  {
   "cell_type": "code",
   "execution_count": 2,
   "metadata": {},
   "outputs": [],
   "source": [
    "#ハイパラ関連\n",
    "#モデル名\n",
    "model_size=7\n",
    "#model_size=13\n",
    "#model_size=70\n",
    "model_name=f\"meta-llama/Llama-2-{model_size}b-chat-hf\"\n",
    "\n",
    "#LoRA関連\n",
    "r=32\n",
    "lora_alpha=r\n",
    "bit=16\n",
    "#bit=8\n",
    "#bit=4\n",
    "\n",
    "#LoRAのadapter\n",
    "target_modules= [\n",
    "    #\"embed_tokens\",\n",
    "    \"lm_head\",\n",
    "    #\"q_proj\",\n",
    "    #\"k_proj\",\n",
    "    \"v_proj\",\n",
    "    \"o_proj\",\n",
    "    \"gate_proj\",\n",
    "    \"up_proj\",\n",
    "    #\"down_proj\",\n",
    "]\n",
    "\n",
    "#学習関連\n",
    "#gradient_checkpointing =True  #vramの節約をしたい場合\n",
    "gradient_checkpointing =False\n",
    "per_device_train_batch_size=1\n",
    "epochs=3\n",
    "lr=10**-5\n",
    "do_train=True\n",
    "#do_train=False"
   ]
  },
  {
   "cell_type": "code",
   "execution_count": 3,
   "metadata": {},
   "outputs": [],
   "source": [
    "\n",
    "device_map=\"auto\"\n",
    "\n",
    "bnb_config = BitsAndBytesConfig(\n",
    "    load_in_4bit=True,\n",
    "    bnb_4bit_use_double_quant=True,\n",
    "    bnb_4bit_quant_type=\"nf4\",\n",
    "    bnb_4bit_compute_dtype=torch.bfloat16\n",
    ")\n",
    "\n",
    "def init_model(model_name, r, lora_alpha, target_modules, bit=4):\n",
    "    if bit == 4:\n",
    "        print(\"Using 4-bit mode\")\n",
    "        model = AutoModelForCausalLM.from_pretrained(model_name,\n",
    "                                                     quantization_config=bnb_config,\n",
    "                                                     device_map=device_map,\n",
    "                                                     use_flash_attention_2=True,\n",
    "                                                     )\n",
    "    elif bit == 8:\n",
    "        print(\"Using 8-bit mode\")\n",
    "        model = AutoModelForCausalLM.from_pretrained(model_name,\n",
    "                                                     load_in_8bit=True,\n",
    "                                                     device_map=device_map,\n",
    "                                                     use_flash_attention_2=True,\n",
    "                                                     )\n",
    "    elif bit == 16:\n",
    "        print(\"Using fp16 mode\")\n",
    "        model = AutoModelForCausalLM.from_pretrained(model_name,\n",
    "                                                     device_map=device_map,\n",
    "                                                     torch_dtype=torch.float16,\n",
    "                                                     use_flash_attention_2=True,\n",
    "                                                     )\n",
    "    else:\n",
    "        raise ValueError(\"bit must be 4 or 16\")\n",
    "\n",
    "    if len(target_modules)==0:\n",
    "        return model\n",
    "    peft_config = LoraConfig(\n",
    "        task_type=\"CAUSAL_LM\", inference_mode=False, r=r, lora_alpha=lora_alpha,\n",
    "        lora_dropout=0.1,\n",
    "        target_modules=target_modules,\n",
    "    )\n",
    "    model = get_peft_model(model, peft_config)\n",
    "    return model\n"
   ]
  },
  {
   "cell_type": "code",
   "execution_count": 4,
   "metadata": {},
   "outputs": [
    {
     "name": "stdout",
     "output_type": "stream",
     "text": [
      "Using fp16 mode\n"
     ]
    },
    {
     "name": "stderr",
     "output_type": "stream",
     "text": [
      "Loading checkpoint shards: 100%|██████████| 2/2 [00:03<00:00,  1.51s/it]\n"
     ]
    }
   ],
   "source": [
    "\n",
    "#モデル初期化\n",
    "model=init_model(model_name, r, lora_alpha, target_modules, bit=bit)"
   ]
  },
  {
   "cell_type": "code",
   "execution_count": 5,
   "metadata": {},
   "outputs": [],
   "source": [
    "\n",
    "\n",
    "tokenizer = AutoTokenizer.from_pretrained(model_name)\n",
    "tokenizer.pad_token = tokenizer.eos_token\n",
    "\n",
    "#pipe = pipeline(\"text-generation\", model=model,\n",
    "#                tokenizer=tokenizer, max_new_tokens=1000)"
   ]
  },
  {
   "cell_type": "markdown",
   "metadata": {},
   "source": [
    "# データセットの生成"
   ]
  },
  {
   "cell_type": "code",
   "execution_count": 6,
   "metadata": {},
   "outputs": [
    {
     "name": "stdout",
     "output_type": "stream",
     "text": [
      "(2406, 9)\n"
     ]
    },
    {
     "data": {
      "text/html": [
       "<div>\n",
       "<style scoped>\n",
       "    .dataframe tbody tr th:only-of-type {\n",
       "        vertical-align: middle;\n",
       "    }\n",
       "\n",
       "    .dataframe tbody tr th {\n",
       "        vertical-align: top;\n",
       "    }\n",
       "\n",
       "    .dataframe thead th {\n",
       "        text-align: right;\n",
       "    }\n",
       "</style>\n",
       "<table border=\"1\" class=\"dataframe\">\n",
       "  <thead>\n",
       "    <tr style=\"text-align: right;\">\n",
       "      <th></th>\n",
       "      <th>name</th>\n",
       "      <th>smiles</th>\n",
       "      <th>csid</th>\n",
       "      <th>link</th>\n",
       "      <th>source</th>\n",
       "      <th>Reason</th>\n",
       "      <th>mpC</th>\n",
       "      <th>Prediction(integer)</th>\n",
       "      <th>Abs error</th>\n",
       "    </tr>\n",
       "  </thead>\n",
       "  <tbody>\n",
       "    <tr>\n",
       "      <th>0</th>\n",
       "      <td>2,3-dibromo-2-methyl-butane</td>\n",
       "      <td>BrC(C)(C)C(Br)C</td>\n",
       "      <td>71392</td>\n",
       "      <td>http://www.srcinc.com/what-we-do/product.aspx?...</td>\n",
       "      <td>PHYSPROP</td>\n",
       "      <td>Starting with butane, which melts around -138....</td>\n",
       "      <td>7.0</td>\n",
       "      <td>6.6</td>\n",
       "      <td>0.4</td>\n",
       "    </tr>\n",
       "    <tr>\n",
       "      <th>1</th>\n",
       "      <td>5-chlorobenzofuroxan</td>\n",
       "      <td>c1cc2c(cc1Cl)no[n+]2[O-]</td>\n",
       "      <td>123661</td>\n",
       "      <td>http://www.alfa.com/en/GP100W.pgm?DSSTK=A14261</td>\n",
       "      <td>Alfa Aesar</td>\n",
       "      <td>The basic structure for comparison is benzene,...</td>\n",
       "      <td>47.0</td>\n",
       "      <td>45.0</td>\n",
       "      <td>2.0</td>\n",
       "    </tr>\n",
       "  </tbody>\n",
       "</table>\n",
       "</div>"
      ],
      "text/plain": [
       "                          name                    smiles    csid  \\\n",
       "0  2,3-dibromo-2-methyl-butane           BrC(C)(C)C(Br)C   71392   \n",
       "1         5-chlorobenzofuroxan  c1cc2c(cc1Cl)no[n+]2[O-]  123661   \n",
       "\n",
       "                                                link      source  \\\n",
       "0  http://www.srcinc.com/what-we-do/product.aspx?...    PHYSPROP   \n",
       "1     http://www.alfa.com/en/GP100W.pgm?DSSTK=A14261  Alfa Aesar   \n",
       "\n",
       "                                              Reason   mpC  \\\n",
       "0  Starting with butane, which melts around -138....   7.0   \n",
       "1  The basic structure for comparison is benzene,...  47.0   \n",
       "\n",
       "   Prediction(integer)  Abs error  \n",
       "0                  6.6        0.4  \n",
       "1                 45.0        2.0  "
      ]
     },
     "execution_count": 6,
     "metadata": {},
     "output_type": "execute_result"
    }
   ],
   "source": [
    "#データセットの読み込み\n",
    "import pandas as pd\n",
    "import random\n",
    "df=pd.read_csv(\"dataset/231225AutoReasoning/240104best_reason_record.csv\")\n",
    "dataset=df.to_dict(orient=\"records\")\n",
    "random.seed(0)\n",
    "random.shuffle(dataset)\n",
    "\n",
    "print(df.shape)\n",
    "df[:2]"
   ]
  },
  {
   "cell_type": "code",
   "execution_count": 7,
   "metadata": {},
   "outputs": [],
   "source": [
    "import random\n",
    "system_prompt=\"You are a professional chemist. Predict the melting point of the following compound.\"\n",
    "\n",
    "\n",
    "def gen_compound_text(chemical_record,\n",
    "    reason=\"\",prediction=\"\"):\n",
    "    name=chemical_record[\"name\"]\n",
    "    smiles=chemical_record[\"smiles\"]\n",
    "    prompt=f\"\"\"\n",
    "#Problem\n",
    "##Name: {name}\n",
    "##SMILES: {smiles}\"\"\"\n",
    "    if reason !=\"\" and prediction!=\"\":\n",
    "        prompt+=f\"\"\"\n",
    "##Reason: {reason}\n",
    "##Prediction: {prediction}\n",
    "\"\"\"\n",
    "    else:\n",
    "        #test mode\n",
    "        prompt+=\"\"\"\n",
    "##Reason: \n",
    "\"\"\"\n",
    "    return prompt\n",
    "\n",
    "\n",
    "\n",
    "def generate_question_prompt(dataset,test_id,n_prompt_examples=5):\n",
    "    train_ids=[i for i in range(len(dataset))]\n",
    "    train_ids.remove(test_id)\n",
    "    prompt=\"\"\n",
    "\n",
    "    #train prompt\n",
    "    for _ in range(n_prompt_examples):\n",
    "        id=random.choice(train_ids)\n",
    "        prompt+=gen_compound_text(dataset[id],\n",
    "                                reason=dataset[id][\"Reason\"],\n",
    "                                prediction=dataset[id][\"Prediction(integer)\"])\n",
    "        prompt+=\"\\n\"\n",
    "\n",
    "    #test prompt\n",
    "    prompt+=gen_compound_text(dataset[test_id])\n",
    "\n",
    "    return prompt\n",
    "\n",
    "\n",
    "def prepare_dataset(context_list, tokenizer):\n",
    "    data_list = [{\"text\": i} for i in context_list]\n",
    "    random.shuffle(data_list)\n",
    "\n",
    "    # tokenize\n",
    "    dataset = Dataset.from_dict(\n",
    "        {\"text\": [item[\"text\"] for item in data_list[:]]})\n",
    "    dataset = dataset.map(lambda samples: tokenizer(\n",
    "        samples['text']), batched=True)\n",
    "\n",
    "    return dataset\n"
   ]
  },
  {
   "cell_type": "code",
   "execution_count": 8,
   "metadata": {},
   "outputs": [
    {
     "name": "stderr",
     "output_type": "stream",
     "text": [
      "Map:   0%|          | 0/2356 [00:00<?, ? examples/s]"
     ]
    },
    {
     "name": "stderr",
     "output_type": "stream",
     "text": [
      "Map: 100%|██████████| 2356/2356 [00:00<00:00, 8706.92 examples/s]\n"
     ]
    }
   ],
   "source": [
    "\n",
    "\n",
    "train_text_list=[]\n",
    "for id in range(len(dataset)):\n",
    "    prompt=gen_compound_text(dataset[id],\n",
    "                                reason=dataset[id][\"Reason\"],\n",
    "                                prediction=dataset[id][\"Prediction(integer)\"])\n",
    "    train_text_list.append(prompt)\n",
    "tokenized_dataset = prepare_dataset(train_text_list[n_test:], tokenizer)"
   ]
  },
  {
   "cell_type": "code",
   "execution_count": 9,
   "metadata": {},
   "outputs": [
    {
     "name": "stdout",
     "output_type": "stream",
     "text": [
      "train\n",
      "\n",
      "#Problem\n",
      "##Name: 2-Ethoxy-2-methylpropane\n",
      "##SMILES: CC(C)(C)OCC\n",
      "##Reason: The target compound, 2-Ethoxy-2-methylpropane, can be seen as derived from propane, which has a melting point of -187.7°C. Adding a methyl group generally increases the melting point due to increased molecular weight and van der Waals forces. For propane, adding a methyl group to become isobutane elevates the melting point to -159.6°C, indicating the effect of a methyl group is an increase of roughly +28°C. The presence of an ethoxy group (-OCC2H5) introduces an oxygen atom which can lead to dipole-dipole interactions and potential hydrogen bonding with trace moisture, increasing the melting point as well. The ethoxy group's effect on the melting point would be less straightforward to quantify without empirical data, but we can predict that it will raise the melting point to some extent. Considering the combined effect of an additional methyl group and an ethoxy group on the basic structure of propane, we can expect the overall melting point to be higher than that of propane, but lower than room temperature because the compound remains aliphatic and does not have strong intermolecular forces such as hydrogen bonding among its own molecules.\n",
      "##Prediction: -94.0\n",
      "\n",
      "test\n",
      "\n",
      "#Problem\n",
      "##Name: (1,2,2,3-tetramethylcyclopentyl)methyl 4-aminobenzoate\n",
      "##SMILES: O=C(OCC1(C)CCC(C)C1(C)C)c1ccc(N)cc1\n",
      "##Reason: \n",
      "\n"
     ]
    }
   ],
   "source": [
    "#check prompt\n",
    "\n",
    "print(\"train\")\n",
    "print(prompt)\n",
    "print(\"test\")\n",
    "t_prompt=gen_compound_text(dataset[0])\n",
    "print(t_prompt)"
   ]
  },
  {
   "cell_type": "markdown",
   "metadata": {},
   "source": [
    "# モデルの訓練"
   ]
  },
  {
   "cell_type": "code",
   "execution_count": 10,
   "metadata": {},
   "outputs": [
    {
     "name": "stderr",
     "output_type": "stream",
     "text": [
      "You're using a LlamaTokenizerFast tokenizer. Please note that with a fast tokenizer, using the `__call__` method is faster than using a method to encode the text followed by a call to the `pad` method to get a padded encoding.\n"
     ]
    },
    {
     "data": {
      "text/html": [
       "\n",
       "    <div>\n",
       "      \n",
       "      <progress value='7068' max='7068' style='width:300px; height:20px; vertical-align: middle;'></progress>\n",
       "      [7068/7068 13:28, Epoch 3/3]\n",
       "    </div>\n",
       "    <table border=\"1\" class=\"dataframe\">\n",
       "  <thead>\n",
       " <tr style=\"text-align: left;\">\n",
       "      <th>Step</th>\n",
       "      <th>Training Loss</th>\n",
       "    </tr>\n",
       "  </thead>\n",
       "  <tbody>\n",
       "    <tr>\n",
       "      <td>100</td>\n",
       "      <td>1.766400</td>\n",
       "    </tr>\n",
       "    <tr>\n",
       "      <td>200</td>\n",
       "      <td>1.360100</td>\n",
       "    </tr>\n",
       "    <tr>\n",
       "      <td>300</td>\n",
       "      <td>1.247600</td>\n",
       "    </tr>\n",
       "    <tr>\n",
       "      <td>400</td>\n",
       "      <td>1.172300</td>\n",
       "    </tr>\n",
       "    <tr>\n",
       "      <td>500</td>\n",
       "      <td>1.156500</td>\n",
       "    </tr>\n",
       "    <tr>\n",
       "      <td>600</td>\n",
       "      <td>1.127200</td>\n",
       "    </tr>\n",
       "    <tr>\n",
       "      <td>700</td>\n",
       "      <td>1.095300</td>\n",
       "    </tr>\n",
       "    <tr>\n",
       "      <td>800</td>\n",
       "      <td>1.104400</td>\n",
       "    </tr>\n",
       "    <tr>\n",
       "      <td>900</td>\n",
       "      <td>1.089200</td>\n",
       "    </tr>\n",
       "    <tr>\n",
       "      <td>1000</td>\n",
       "      <td>1.075100</td>\n",
       "    </tr>\n",
       "    <tr>\n",
       "      <td>1100</td>\n",
       "      <td>1.055000</td>\n",
       "    </tr>\n",
       "    <tr>\n",
       "      <td>1200</td>\n",
       "      <td>1.042700</td>\n",
       "    </tr>\n",
       "    <tr>\n",
       "      <td>1300</td>\n",
       "      <td>1.032700</td>\n",
       "    </tr>\n",
       "    <tr>\n",
       "      <td>1400</td>\n",
       "      <td>1.052800</td>\n",
       "    </tr>\n",
       "    <tr>\n",
       "      <td>1500</td>\n",
       "      <td>1.034200</td>\n",
       "    </tr>\n",
       "    <tr>\n",
       "      <td>1600</td>\n",
       "      <td>1.011000</td>\n",
       "    </tr>\n",
       "    <tr>\n",
       "      <td>1700</td>\n",
       "      <td>1.030900</td>\n",
       "    </tr>\n",
       "    <tr>\n",
       "      <td>1800</td>\n",
       "      <td>1.002000</td>\n",
       "    </tr>\n",
       "    <tr>\n",
       "      <td>1900</td>\n",
       "      <td>1.017600</td>\n",
       "    </tr>\n",
       "    <tr>\n",
       "      <td>2000</td>\n",
       "      <td>1.015500</td>\n",
       "    </tr>\n",
       "    <tr>\n",
       "      <td>2100</td>\n",
       "      <td>0.988400</td>\n",
       "    </tr>\n",
       "    <tr>\n",
       "      <td>2200</td>\n",
       "      <td>1.006600</td>\n",
       "    </tr>\n",
       "    <tr>\n",
       "      <td>2300</td>\n",
       "      <td>1.007600</td>\n",
       "    </tr>\n",
       "    <tr>\n",
       "      <td>2400</td>\n",
       "      <td>0.955100</td>\n",
       "    </tr>\n",
       "    <tr>\n",
       "      <td>2500</td>\n",
       "      <td>1.010500</td>\n",
       "    </tr>\n",
       "    <tr>\n",
       "      <td>2600</td>\n",
       "      <td>0.935700</td>\n",
       "    </tr>\n",
       "    <tr>\n",
       "      <td>2700</td>\n",
       "      <td>0.972700</td>\n",
       "    </tr>\n",
       "    <tr>\n",
       "      <td>2800</td>\n",
       "      <td>0.965000</td>\n",
       "    </tr>\n",
       "    <tr>\n",
       "      <td>2900</td>\n",
       "      <td>0.949800</td>\n",
       "    </tr>\n",
       "    <tr>\n",
       "      <td>3000</td>\n",
       "      <td>0.926800</td>\n",
       "    </tr>\n",
       "    <tr>\n",
       "      <td>3100</td>\n",
       "      <td>0.955100</td>\n",
       "    </tr>\n",
       "    <tr>\n",
       "      <td>3200</td>\n",
       "      <td>0.966300</td>\n",
       "    </tr>\n",
       "    <tr>\n",
       "      <td>3300</td>\n",
       "      <td>0.941100</td>\n",
       "    </tr>\n",
       "    <tr>\n",
       "      <td>3400</td>\n",
       "      <td>0.922900</td>\n",
       "    </tr>\n",
       "    <tr>\n",
       "      <td>3500</td>\n",
       "      <td>0.926400</td>\n",
       "    </tr>\n",
       "    <tr>\n",
       "      <td>3600</td>\n",
       "      <td>0.948900</td>\n",
       "    </tr>\n",
       "    <tr>\n",
       "      <td>3700</td>\n",
       "      <td>0.937300</td>\n",
       "    </tr>\n",
       "    <tr>\n",
       "      <td>3800</td>\n",
       "      <td>0.934800</td>\n",
       "    </tr>\n",
       "    <tr>\n",
       "      <td>3900</td>\n",
       "      <td>0.961500</td>\n",
       "    </tr>\n",
       "    <tr>\n",
       "      <td>4000</td>\n",
       "      <td>0.947200</td>\n",
       "    </tr>\n",
       "    <tr>\n",
       "      <td>4100</td>\n",
       "      <td>0.939900</td>\n",
       "    </tr>\n",
       "    <tr>\n",
       "      <td>4200</td>\n",
       "      <td>0.934000</td>\n",
       "    </tr>\n",
       "    <tr>\n",
       "      <td>4300</td>\n",
       "      <td>0.942600</td>\n",
       "    </tr>\n",
       "    <tr>\n",
       "      <td>4400</td>\n",
       "      <td>0.917200</td>\n",
       "    </tr>\n",
       "    <tr>\n",
       "      <td>4500</td>\n",
       "      <td>0.930500</td>\n",
       "    </tr>\n",
       "    <tr>\n",
       "      <td>4600</td>\n",
       "      <td>0.932500</td>\n",
       "    </tr>\n",
       "    <tr>\n",
       "      <td>4700</td>\n",
       "      <td>0.948400</td>\n",
       "    </tr>\n",
       "    <tr>\n",
       "      <td>4800</td>\n",
       "      <td>0.892600</td>\n",
       "    </tr>\n",
       "    <tr>\n",
       "      <td>4900</td>\n",
       "      <td>0.883200</td>\n",
       "    </tr>\n",
       "    <tr>\n",
       "      <td>5000</td>\n",
       "      <td>0.924500</td>\n",
       "    </tr>\n",
       "    <tr>\n",
       "      <td>5100</td>\n",
       "      <td>0.904500</td>\n",
       "    </tr>\n",
       "    <tr>\n",
       "      <td>5200</td>\n",
       "      <td>0.920400</td>\n",
       "    </tr>\n",
       "    <tr>\n",
       "      <td>5300</td>\n",
       "      <td>0.906800</td>\n",
       "    </tr>\n",
       "    <tr>\n",
       "      <td>5400</td>\n",
       "      <td>0.888700</td>\n",
       "    </tr>\n",
       "    <tr>\n",
       "      <td>5500</td>\n",
       "      <td>0.895400</td>\n",
       "    </tr>\n",
       "    <tr>\n",
       "      <td>5600</td>\n",
       "      <td>0.912600</td>\n",
       "    </tr>\n",
       "    <tr>\n",
       "      <td>5700</td>\n",
       "      <td>0.870700</td>\n",
       "    </tr>\n",
       "    <tr>\n",
       "      <td>5800</td>\n",
       "      <td>0.907100</td>\n",
       "    </tr>\n",
       "    <tr>\n",
       "      <td>5900</td>\n",
       "      <td>0.914300</td>\n",
       "    </tr>\n",
       "    <tr>\n",
       "      <td>6000</td>\n",
       "      <td>0.891600</td>\n",
       "    </tr>\n",
       "    <tr>\n",
       "      <td>6100</td>\n",
       "      <td>0.903900</td>\n",
       "    </tr>\n",
       "    <tr>\n",
       "      <td>6200</td>\n",
       "      <td>0.876200</td>\n",
       "    </tr>\n",
       "    <tr>\n",
       "      <td>6300</td>\n",
       "      <td>0.864200</td>\n",
       "    </tr>\n",
       "    <tr>\n",
       "      <td>6400</td>\n",
       "      <td>0.917300</td>\n",
       "    </tr>\n",
       "    <tr>\n",
       "      <td>6500</td>\n",
       "      <td>0.848700</td>\n",
       "    </tr>\n",
       "    <tr>\n",
       "      <td>6600</td>\n",
       "      <td>0.917600</td>\n",
       "    </tr>\n",
       "    <tr>\n",
       "      <td>6700</td>\n",
       "      <td>0.909200</td>\n",
       "    </tr>\n",
       "    <tr>\n",
       "      <td>6800</td>\n",
       "      <td>0.883400</td>\n",
       "    </tr>\n",
       "    <tr>\n",
       "      <td>6900</td>\n",
       "      <td>0.881100</td>\n",
       "    </tr>\n",
       "    <tr>\n",
       "      <td>7000</td>\n",
       "      <td>0.860900</td>\n",
       "    </tr>\n",
       "  </tbody>\n",
       "</table><p>"
      ],
      "text/plain": [
       "<IPython.core.display.HTML object>"
      ]
     },
     "metadata": {},
     "output_type": "display_data"
    }
   ],
   "source": [
    "import transformers\n",
    "from datetime import datetime\n",
    "\n",
    "\n",
    "#train\n",
    "train_args = transformers.TrainingArguments(\n",
    "        per_device_train_batch_size=per_device_train_batch_size,\n",
    "        #gradient_accumulation_steps=1,\n",
    "        warmup_steps=0,\n",
    "        num_train_epochs=epochs,\n",
    "        learning_rate=lr,\n",
    "        fp16=True,\n",
    "        logging_steps=100,\n",
    "        save_total_limit=1,\n",
    "        output_dir='outputs/'+datetime.now().strftime('%Y%m%d%H%M%S'),\n",
    "        gradient_checkpointing=gradient_checkpointing,\n",
    "    )\n",
    "\n",
    "# trainer\n",
    "#callbacks = [EarlyStoppingCallback()]\n",
    "callbacks = []\n",
    "\n",
    "trainer = transformers.Trainer(\n",
    "    model=model,\n",
    "    train_dataset=tokenized_dataset,\n",
    "    args=train_args,\n",
    "    callbacks=callbacks,\n",
    "    data_collator=transformers.DataCollatorForLanguageModeling(\n",
    "        tokenizer, mlm=False)\n",
    ")\n",
    "\n",
    "if do_train:\n",
    "    training_result = trainer.train()\n",
    "    training_result.training_loss"
   ]
  },
  {
   "cell_type": "code",
   "execution_count": 9,
   "metadata": {},
   "outputs": [],
   "source": [
    "#モデルの保存: adapterのみ保存するとき｡\n",
    "from datetime import datetime\n",
    "current_datetime = datetime.now()\n",
    "#model.save_pretrained(f\"./outputs/{current_datetime}\")\n",
    "#model.save_pretrained(f\"./outputs/7b_ft\")"
   ]
  },
  {
   "cell_type": "code",
   "execution_count": 10,
   "metadata": {},
   "outputs": [
    {
     "data": {
      "text/plain": [
       "'\\nmodel = AutoPeftModelForCausalLM.from_pretrained(model_path,\\n                                                 device_map=device_map,\\n                                                     torch_dtype=torch.float16,\\n                                                     use_flash_attention_2=True,\\n                                                 )\\n\\n'"
      ]
     },
     "execution_count": 10,
     "metadata": {},
     "output_type": "execute_result"
    }
   ],
   "source": [
    "#モデルの読み込み: 強化学習しない場合\n",
    "from peft import AutoPeftModelForCausalLM\n",
    "model_path=\"./outputs/7b_ft\"\n",
    "\n",
    "\"\"\"\n",
    "model = AutoPeftModelForCausalLM.from_pretrained(model_path,\n",
    "                                                 device_map=device_map,\n",
    "                                                     torch_dtype=torch.float16,\n",
    "                                                     use_flash_attention_2=True,\n",
    "                                                 )\n",
    "\n",
    "\"\"\""
   ]
  },
  {
   "cell_type": "code",
   "execution_count": 11,
   "metadata": {},
   "outputs": [],
   "source": [
    "#モデルのマージと保存: 強化学習するとき\n",
    "#merged_model = model.merge_and_unload()\n",
    "#merged_model.save_pretrained(f\"./outputs/7b_ft_merge\")"
   ]
  },
  {
   "cell_type": "markdown",
   "metadata": {},
   "source": [
    "# 強化学習による追加訓練"
   ]
  },
  {
   "cell_type": "code",
   "execution_count": 10,
   "metadata": {},
   "outputs": [],
   "source": [
    "#予測周りのutility funcs\n",
    "import re\n",
    "import torch\n",
    "import gc\n",
    "from IPython.display import clear_output\n",
    "from trl import AutoModelForCausalLMWithValueHead\n",
    "def gen_text_stop_word(prompt,model,tokenizer,\n",
    "                       device=\"cuda:0\",\n",
    "                       stop_words=[\"#Problem\",\"#Reason\",\"# Problem\"],\n",
    "                       double_stop_words=[\"#Prediction\"],\n",
    "                       stream=False,\n",
    "                       #stream=True,\n",
    "                       max_tokens=400,\n",
    "                       ):\n",
    "    gc.collect()\n",
    "    torch.cuda.empty_cache()\n",
    "\n",
    "\n",
    "\n",
    "    input_ids = tokenizer.encode(prompt, return_tensors='pt').to(device)\n",
    "    # 生成されたテキストを格納する変数\n",
    "    generated_text = \"\"\n",
    "\n",
    "    # トークンを一つずつ生成\n",
    "    for i in range(max_tokens):\n",
    "        # 次のトークンを予測\n",
    "        outputs = model(input_ids)\n",
    "        if type(model) is AutoModelForCausalLMWithValueHead:\n",
    "            #AutoModelForCausalLMWithValueHeadの場合\n",
    "            logits = outputs[0]\n",
    "            next_token_logits = logits[:, -1, :]\n",
    "        else:\n",
    "            next_token_logits = outputs.logits[:, -1, :]\n",
    "\n",
    "        next_token = torch.argmax(next_token_logits, dim=-1).unsqueeze(-1)\n",
    "\n",
    "        # 生成されたトークンを現在の入力に追加\n",
    "        input_ids = torch.cat([input_ids, next_token], dim=-1)\n",
    "\n",
    "        # 生成されたテキストを更新\n",
    "        generated_text = tokenizer.decode(input_ids[0], skip_special_tokens=True)[len(prompt):]\n",
    "\n",
    "        if stream:\n",
    "            if i%30==0:\n",
    "                clear_output()\n",
    "            print(generated_text)\n",
    "\n",
    "        # ストップワードのチェック\n",
    "        if any(stop_word in generated_text for stop_word in stop_words):\n",
    "            break\n",
    "\n",
    "        # 2回以上出現したらstopするwordのcheck \n",
    "        stop_flag=False\n",
    "        for check_word in double_stop_words:\n",
    "            count=generated_text.count(check_word)\n",
    "            if count>=2:\n",
    "                stop_flag=True\n",
    "                break\n",
    "        if stop_flag:\n",
    "            break\n",
    "\n",
    "    return generated_text\n",
    "\n",
    "def ask_value(prompt,model,tokenizer):\n",
    "    res=gen_text_stop_word(prompt,model,tokenizer)\n",
    "    #res=pipe(prompt)[0][\"generated_text\"]\n",
    "    print(\"----\\n\\n\")\n",
    "    print(res.strip())\n",
    "\n",
    "    regex_list=[\n",
    "        r\"Prediction:\\s*(\\d+\\.?\\d*)\",\n",
    "        r\"Prediction:\\s*(-?\\d+\\.?\\d*)\",\n",
    "    ]\n",
    "\n",
    "    value=None\n",
    "    for reg in regex_list:\n",
    "        match = re.search(reg, res)\n",
    "        if match:\n",
    "            value = match.group(1)\n",
    "            break\n",
    "\n",
    "\n",
    "    return res,value\n",
    "\n"
   ]
  },
  {
   "cell_type": "code",
   "execution_count": 11,
   "metadata": {},
   "outputs": [],
   "source": [
    "from trl import PPOTrainer, PPOConfig\n",
    "\n",
    "\n",
    "#テキストでファインチューニングしたモデルを強化学習用に読み込み\n",
    "\n",
    "def load_ppo_model(model_path):\n",
    "    lora_config = LoraConfig(\n",
    "    target_modules=target_modules,\n",
    "    r=32,\n",
    "    lora_alpha=32,\n",
    "    lora_dropout=0.05,\n",
    "    bias=\"none\",\n",
    "    task_type=\"CAUSAL_LM\",\n",
    "    )\n",
    "    model = AutoModelForCausalLMWithValueHead.from_pretrained(\n",
    "        model_path,\n",
    "        #load_in_8bit=True,\n",
    "        torch_dtype=torch.float16,\n",
    "        device_map=device_map,\n",
    "        peft_config=lora_config,\n",
    "    )\n",
    "    return model\n",
    "\n",
    "def init_ppo_trainer(model,tokenizer):\n",
    "\n",
    "    #trainerの定義\n",
    "    ppo_trainer = PPOTrainer(\n",
    "        config=PPOConfig(batch_size=1),\n",
    "        model=model, \n",
    "        #ref_model=ref_model, \n",
    "        tokenizer=tokenizer,\n",
    "        )\n",
    "    return ppo_trainer\n",
    "\n",
    "def reload_ppo_model_and_trainer(model,ppo_trainer,temp_dir=\"outputs/temp\"):\n",
    "\n",
    "    model.save_pretrained(temp_dir)\n",
    "\n",
    "    model=None\n",
    "    ppo_trainer=None\n",
    "    print(\"clearing memory...\")\n",
    "    gc.collect()\n",
    "    torch.cuda.empty_cache()\n",
    "\n",
    "    model=load_ppo_model(temp_dir)\n",
    "    ppo_trainer=init_ppo_trainer(model,tokenizer)\n",
    "\n",
    "    return model,ppo_trainer\n"
   ]
  },
  {
   "cell_type": "code",
   "execution_count": 18,
   "metadata": {},
   "outputs": [
    {
     "name": "stderr",
     "output_type": "stream",
     "text": [
      "Loading checkpoint shards: 100%|██████████| 3/3 [00:03<00:00,  1.18s/it]\n",
      "WARNING:root:A <class 'peft.peft_model.PeftModelForCausalLM'> model is loaded from './outputs/7b_ft_merge_3epoch', and no v_head weight is found. This IS expected if you are not resuming PPO training.\n",
      "/home/setup/miniconda3/envs/chemllm/lib/python3.10/site-packages/trl/trainer/ppo_trainer.py:257: UserWarning: No dataset is provided. Make sure to set config.batch_size to the correct value before training.\n",
      "  warnings.warn(\n"
     ]
    }
   ],
   "source": [
    "#model_path=\"./outputs/13b_ft_merge_3epoch\"\n",
    "model_path=\"./outputs/7b_ft_merge_3epoch\"\n",
    "temp_dir=\"outputs/temp\"\n",
    "\n",
    "#model load\n",
    "model=load_ppo_model(model_path)\n",
    "ppo_trainer=init_ppo_trainer(model,tokenizer)\n",
    "\n",
    "#lora modelとして読み込み直す(vramの節約のため)\n",
    "model,ppo_trainer=reload_ppo_model_and_trainer(model,ppo_trainer)"
   ]
  },
  {
   "cell_type": "code",
   "execution_count": 19,
   "metadata": {},
   "outputs": [],
   "source": [
    "reward_model=None\n",
    "gc.collect()\n",
    "torch.cuda.empty_cache()\n"
   ]
  },
  {
   "cell_type": "code",
   "execution_count": 81,
   "metadata": {},
   "outputs": [],
   "source": [
    "#報酬クラスの定義\n",
    "class RewardModel:\n",
    "    def __init__(self,model,dataset,tokenizer,\n",
    "                 range_value=1,\n",
    "                 reward_slope=50,\n",
    "                 n_prompt_examples=3,\n",
    "                 device=\"cuda:0\",\n",
    "                 ):\n",
    "        self.model=model\n",
    "        self.dataset=dataset\n",
    "        self.tokenizer=tokenizer    \n",
    "        self.n_prompt_examples=n_prompt_examples\n",
    "        self.range_value = range_value\n",
    "        self.reward_slope = reward_slope\n",
    "        self.device=device\n",
    "\n",
    "    def calculate_reward(self,abs_error, ):\n",
    "        \"\"\"\n",
    "        Calculate the reward based on the absolute error.\n",
    "\n",
    "        :param abs_error: The absolute error value.\n",
    "        :param range_value: The range value for maximum and minimum rewards.\n",
    "        :return: The calculated reward.\n",
    "        \"\"\"\n",
    "\n",
    "        reward = self.range_value - (abs_error) * (self.range_value / self.reward_slope)\n",
    "        return max(reward, -self.range_value)\n",
    "\n",
    "\n",
    "    def __call__(self,train_id):\n",
    "        prompt=generate_question_prompt(self.dataset,train_id,\n",
    "                                        n_prompt_examples=self.n_prompt_examples)\n",
    "        reason,value=ask_value(prompt,self.model,self.tokenizer,\n",
    "                                         )\n",
    "\n",
    "        actual=self.dataset[train_id][\"mpC\"]\n",
    "        if value is None:\n",
    "            reward=-self.range_value\n",
    "        else:\n",
    "            value=float(value)\n",
    "\n",
    "            abs_error=abs(actual-value)\n",
    "            # Example usage of the function\n",
    "            reward=self.calculate_reward(abs_error)  # Example case where abs_error is 12 and range_value is 100\n",
    "\n",
    "        #説明が殆どない場合は､rewardを0にする\n",
    "        if len(reason)<30:\n",
    "            reward=0\n",
    "        print(f\"actual: {actual}, predicted: {value}, reward: {reward}\")\n",
    "\n",
    "        input_ids = tokenizer.encode(prompt, return_tensors='pt').to(self.device)\n",
    "        return reward,reason,input_ids\n"
   ]
  },
  {
   "cell_type": "code",
   "execution_count": 82,
   "metadata": {},
   "outputs": [
    {
     "data": {
      "text/plain": [
       "0.8"
      ]
     },
     "execution_count": 82,
     "metadata": {},
     "output_type": "execute_result"
    }
   ],
   "source": [
    "\n",
    "reward_model = RewardModel(model,dataset,tokenizer)\n",
    "reward_model.calculate_reward(10)  #報酬の動作確認"
   ]
  },
  {
   "cell_type": "code",
   "execution_count": 83,
   "metadata": {},
   "outputs": [
    {
     "name": "stderr",
     "output_type": "stream",
     "text": [
      "  0%|          | 0/250 [00:00<?, ?it/s]"
     ]
    },
    {
     "name": "stdout",
     "output_type": "stream",
     "text": [
      "----\n",
      "\n",
      "\n",
      "- Base structure, benzene, has a melting point of 5.5°C. \n",
      "- Ketone group (C=O): +40°C, due to the polar nature and the ability to form dipole-dipole interactions. \n",
      "- Methyl group: +5°C, due to an increase in molecular weight and van der Waals forces. \n",
      "- Semicarbazone group: +80°C, due to the ability to form strong hydrogen bonds and the rigidity it introduces to the molecule. \n",
      "The sum of these effects gives us a predicted melting point of 130.5°C.\n",
      "##Prediction: 130.5\n",
      "actual: 136.0, predicted: 130.5, reward: 0.89\n"
     ]
    },
    {
     "name": "stderr",
     "output_type": "stream",
     "text": [
      "  0%|          | 1/250 [01:47<7:24:15, 107.05s/it]"
     ]
    },
    {
     "name": "stdout",
     "output_type": "stream",
     "text": [
      "----\n",
      "\n",
      "\n",
      "- Basic unit, naphthalene, has a melting point of 80°C.\n",
      "- The presence of a ketone group (C=O) can increase the melting point due to polarity and dipole-dipole interactions, let's estimate an increase of +20°C.\n",
      "- The presence of a hydroxyl group (OH) can lead to hydrogen bonding, which usually has a significant effect on increasing the melting point, approximately +40°C in the context of naphthalene derivatives due to hydrogen bonding.\n",
      "- The molecule has a complex structure with multiple rings and substituents, which can significantly increase the melting point due to increased molecular weight and van der Waals interactions. However, since this is already accounted for in the base value of naphthalene, we will not add any additional increase.\n",
      "- The presence of an ether linkage (OC) can increase the melting point due to the polarity it introduces, let's estimate an increase of +5°C.\n",
      "\n",
      "Summing these contributions gives us a total estimated increase from the base value of naphthalene of 145°C.\n",
      "##Prediction: 225.0\n",
      "actual: 99.5, predicted: 225.0, reward: -1\n",
      "----\n",
      "\n",
      "\n",
      "- Basic unit, pyridine, has a melting point of 20°C. \n",
      "- The presence of the erythroidine structure, which includes a bicyclic system and multiple nitrogen atoms, significantly increases the melting point due to the rigidity of the structure and potential for hydrogen bonding. We can estimate this to contribute around +150 to the melting point. \n",
      "- The presence of the ketone group (C=O) can also increase the melting point due to dipole-dipole interactions and potential hydrogen bonding, estimated at +10. \n",
      "- The presence of the ether linkage (O) can also increase the melting point due to dipole-dipole interactions, estimated at +5. \n",
      "Adding these values to the base pyridine melting point gives us a collective increase.\n",
      "##Prediction: 185.0\n",
      "\n",
      "\n",
      "#Problem\n",
      "actual: 99.5, predicted: 185.0, reward: -0.71\n"
     ]
    }
   ],
   "source": [
    "import time\n",
    "import warnings\n",
    "warnings.filterwarnings('ignore')\n",
    "#model.config.use_cache = False \n",
    "#model.config.use_cache = True\n",
    "lr_epochs=250\n",
    "#lr_epochs=3\n",
    "\n",
    "n_iterations=0\n",
    "\n",
    "for i in tqdm(range(lr_epochs)):\n",
    "   #ランダムに問題を設定して値を予測させる\n",
    "    train_id=random.randint(n_test,len(dataset))\n",
    "\n",
    "    \n",
    "    #このクラスにgpu cacheが残りがちなので､毎回初期化してメモリ開放しておく\n",
    "    reward_model=None\n",
    "    gc.collect()\n",
    "    torch.cuda.empty_cache()\n",
    "    reward_model = RewardModel(model,dataset,tokenizer)\n",
    "\n",
    "\n",
    "    #同じ問題に対して､良い結果が来るまで何回か問題を解かせる\n",
    "    for i in range(2):\n",
    "        try:\n",
    "            #報酬､応答､入力の取得\n",
    "            reward,response,input_id=reward_model(train_id)\n",
    "            rewards=[torch.tensor(float(reward))]\n",
    "            query_tensors = [torch.tensor(input_id).reshape(-1)]\n",
    "            response_tensors=[torch.tensor(tokenizer.encode(response)).reshape(-1)]\n",
    "\n",
    "            #モデル更新\n",
    "            stats = ppo_trainer.step(query_tensors, response_tensors, rewards)\n",
    "            n_iterations+=1\n",
    "        except Exception as e:\n",
    "            #主にcuda out of memoryが起きるので､一旦メモリ開放して､model類を読み込み直す\n",
    "            print(e)\n",
    "            model,ppo_trainer=reload_ppo_model_and_trainer(model,ppo_trainer)\n",
    "\n",
    "            break\n",
    "\n",
    "        #結果がよかったら次の問題に移る\n",
    "        if reward>0.5:\n",
    "            break\n",
    "\n",
    "n_iterations"
   ]
  },
  {
   "cell_type": "code",
   "execution_count": null,
   "metadata": {},
   "outputs": [],
   "source": [
    "from datetime import datetime\n",
    "#AutoModelForCausalLMWithValueHead classはdirを作っておかないと､save_pretrainedが動かない\n",
    "current_datetime = datetime.now()\n",
    "model_save_path=f\"outputs/ppo{current_datetime}\"\n",
    "os.mkdir(model_save_path)\n",
    "model.save_pretrained(model_save_path)"
   ]
  },
  {
   "cell_type": "markdown",
   "metadata": {},
   "source": [
    "# モデルによる物性値の予測"
   ]
  },
  {
   "cell_type": "code",
   "execution_count": 12,
   "metadata": {},
   "outputs": [
    {
     "data": {
      "text/plain": [
       "PeftModelForCausalLM(\n",
       "  (base_model): LoraModel(\n",
       "    (model): LlamaForCausalLM(\n",
       "      (model): LlamaModel(\n",
       "        (embed_tokens): Embedding(32000, 4096)\n",
       "        (layers): ModuleList(\n",
       "          (0-31): 32 x LlamaDecoderLayer(\n",
       "            (self_attn): LlamaFlashAttention2(\n",
       "              (q_proj): Linear(in_features=4096, out_features=4096, bias=False)\n",
       "              (k_proj): Linear(in_features=4096, out_features=4096, bias=False)\n",
       "              (v_proj): Linear(\n",
       "                in_features=4096, out_features=4096, bias=False\n",
       "                (lora_dropout): ModuleDict(\n",
       "                  (default): Dropout(p=0.1, inplace=False)\n",
       "                )\n",
       "                (lora_A): ModuleDict(\n",
       "                  (default): Linear(in_features=4096, out_features=32, bias=False)\n",
       "                )\n",
       "                (lora_B): ModuleDict(\n",
       "                  (default): Linear(in_features=32, out_features=4096, bias=False)\n",
       "                )\n",
       "                (lora_embedding_A): ParameterDict()\n",
       "                (lora_embedding_B): ParameterDict()\n",
       "              )\n",
       "              (o_proj): Linear(\n",
       "                in_features=4096, out_features=4096, bias=False\n",
       "                (lora_dropout): ModuleDict(\n",
       "                  (default): Dropout(p=0.1, inplace=False)\n",
       "                )\n",
       "                (lora_A): ModuleDict(\n",
       "                  (default): Linear(in_features=4096, out_features=32, bias=False)\n",
       "                )\n",
       "                (lora_B): ModuleDict(\n",
       "                  (default): Linear(in_features=32, out_features=4096, bias=False)\n",
       "                )\n",
       "                (lora_embedding_A): ParameterDict()\n",
       "                (lora_embedding_B): ParameterDict()\n",
       "              )\n",
       "              (rotary_emb): LlamaRotaryEmbedding()\n",
       "            )\n",
       "            (mlp): LlamaMLP(\n",
       "              (gate_proj): Linear(\n",
       "                in_features=4096, out_features=11008, bias=False\n",
       "                (lora_dropout): ModuleDict(\n",
       "                  (default): Dropout(p=0.1, inplace=False)\n",
       "                )\n",
       "                (lora_A): ModuleDict(\n",
       "                  (default): Linear(in_features=4096, out_features=32, bias=False)\n",
       "                )\n",
       "                (lora_B): ModuleDict(\n",
       "                  (default): Linear(in_features=32, out_features=11008, bias=False)\n",
       "                )\n",
       "                (lora_embedding_A): ParameterDict()\n",
       "                (lora_embedding_B): ParameterDict()\n",
       "              )\n",
       "              (up_proj): Linear(\n",
       "                in_features=4096, out_features=11008, bias=False\n",
       "                (lora_dropout): ModuleDict(\n",
       "                  (default): Dropout(p=0.1, inplace=False)\n",
       "                )\n",
       "                (lora_A): ModuleDict(\n",
       "                  (default): Linear(in_features=4096, out_features=32, bias=False)\n",
       "                )\n",
       "                (lora_B): ModuleDict(\n",
       "                  (default): Linear(in_features=32, out_features=11008, bias=False)\n",
       "                )\n",
       "                (lora_embedding_A): ParameterDict()\n",
       "                (lora_embedding_B): ParameterDict()\n",
       "              )\n",
       "              (down_proj): Linear(in_features=11008, out_features=4096, bias=False)\n",
       "              (act_fn): SiLUActivation()\n",
       "            )\n",
       "            (input_layernorm): LlamaRMSNorm()\n",
       "            (post_attention_layernorm): LlamaRMSNorm()\n",
       "          )\n",
       "        )\n",
       "        (norm): LlamaRMSNorm()\n",
       "      )\n",
       "      (lm_head): Linear(\n",
       "        in_features=4096, out_features=32000, bias=False\n",
       "        (lora_dropout): ModuleDict(\n",
       "          (default): Dropout(p=0.1, inplace=False)\n",
       "        )\n",
       "        (lora_A): ModuleDict(\n",
       "          (default): Linear(in_features=4096, out_features=32, bias=False)\n",
       "        )\n",
       "        (lora_B): ModuleDict(\n",
       "          (default): Linear(in_features=32, out_features=32000, bias=False)\n",
       "        )\n",
       "        (lora_embedding_A): ParameterDict()\n",
       "        (lora_embedding_B): ParameterDict()\n",
       "      )\n",
       "    )\n",
       "  )\n",
       ")"
      ]
     },
     "execution_count": 12,
     "metadata": {},
     "output_type": "execute_result"
    }
   ],
   "source": [
    "\n",
    "model.eval()"
   ]
  },
  {
   "cell_type": "code",
   "execution_count": 20,
   "metadata": {},
   "outputs": [
    {
     "name": "stderr",
     "output_type": "stream",
     "text": [
      "  0%|          | 0/50 [00:00<?, ?it/s]"
     ]
    },
    {
     "name": "stdout",
     "output_type": "stream",
     "text": [
      "promlem 1 / 50\n"
     ]
    },
    {
     "name": "stderr",
     "output_type": "stream",
     "text": [
      "  2%|▏         | 1/50 [00:54<44:54, 54.99s/it]"
     ]
    },
    {
     "name": "stdout",
     "output_type": "stream",
     "text": [
      "----\n",
      "\n",
      "\n",
      "The compound in question is a complex molecule with several functional groups that influence its melting point. The basic structure is a cyclopentane ring, which has a melting point of around -90.5°C. The presence of the amide group (CONH2) generally increases the melting point due to the potential for hydrogen bonding and dipole-dipole interactions. This is estimated to add +50°C. The tetramethyl group (4 CH3 groups) increases the molecular weight and van der Waals forces, which can raise the melting point by approximately +20°C per group. The methyl group attached to the cyclopentane ring adds to the molecular weight and van der Waals forces, estimated at +5°C. The presence of the benzoate ester group (COOCH3) introduces polarity and potential for dipole-dipole interactions, which can raise the melting point by approximately +30°C. The overall structure complexity and molecular weight also contribute to an increase in the melting point, estimated at +20°C.\n",
      "##Prediction: 105.0\n",
      "\n",
      "\n",
      "#Prediction\n",
      "actual:  74.0 predicted:  105.0\n",
      "promlem 2 / 50\n"
     ]
    },
    {
     "name": "stderr",
     "output_type": "stream",
     "text": [
      "  4%|▍         | 2/50 [01:19<29:35, 36.99s/it]"
     ]
    },
    {
     "name": "stdout",
     "output_type": "stream",
     "text": [
      "----\n",
      "\n",
      "\n",
      "The basic unit, quinoline, has a melting point of around 80 degrees Celsius. The introduction of chlorine atoms to the quinoline structure will increase the melting point due to the increased molecular weight and the polarizability of the chlorine atoms, which can lead to stronger intermolecular forces. Each chlorine might add approximately +20 degrees Celsius.\n",
      "##Prediction: 100.0\n",
      "\n",
      "\n",
      "#Prediction\n",
      "actual:  152.0 predicted:  100.0\n",
      "promlem 3 / 50\n"
     ]
    },
    {
     "name": "stderr",
     "output_type": "stream",
     "text": [
      "  6%|▌         | 3/50 [01:44<24:39, 31.49s/it]"
     ]
    },
    {
     "name": "stdout",
     "output_type": "stream",
     "text": [
      "----\n",
      "\n",
      "\n",
      "The compound benzene, 1,4-bis(chloromethyl)- has several functional groups that influence its melting point. The base unit for comparison is benzene, which has a melting point of 5.5 degrees Celsius. The introduction of chloromethyl groups increases the melting point due to the added molecular weight and the polarizability of the chlorine atoms, which can lead to stronger dipole-dipole interactions. Each chloromethyl group is expected to increase the melting point by approximately +20 degrees Celsius.\n",
      "##Prediction: 105.0\n",
      "\n",
      "\n",
      "#Prediction\n",
      "actual:  100.0 predicted:  105.0\n",
      "promlem 4 / 50\n"
     ]
    },
    {
     "name": "stderr",
     "output_type": "stream",
     "text": [
      "  8%|▊         | 4/50 [02:09<22:10, 28.93s/it]"
     ]
    },
    {
     "name": "stdout",
     "output_type": "stream",
     "text": [
      "----\n",
      "\n",
      "\n",
      "The compound in question is a diphenyl ketone, which has a base structure similar to benzene with two additional phenyl rings and a ketone functional group. The presence of the ketone group introduces polarity and the potential for dipole-dipole interactions, which can significantly increase the melting point. The two phenyl rings also contribute to an increase in the melting point due to the increased molecular weight and the pi-pi stacking interactions between the rings. The ketone group can be estimated to raise the melting point by approximately +100 degrees Celsius, and the two phenyl rings can be estimated to raise it by an additional +50 degrees Celsius each, due to the increased molecular weight and pi-pi stacking interactions.\n",
      "##Prediction: 180.0\n",
      "\n",
      "\n",
      "#Prediction\n",
      "actual:  56.5 predicted:  180.0\n",
      "promlem 5 / 50\n"
     ]
    },
    {
     "name": "stderr",
     "output_type": "stream",
     "text": [
      " 10%|█         | 5/50 [02:35<21:00, 28.01s/it]"
     ]
    },
    {
     "name": "stdout",
     "output_type": "stream",
     "text": [
      "----\n",
      "\n",
      "\n",
      "The basic structure for this prediction will be ethane, which has a melting point of -183°C. The introduction of a hydroxyl (-OH) group generally increases the melting point due to the capability of forming hydrogen bonds, which could be estimated as a +100 increase. The presence of a disulfide bond (S-S) is known to significantly increase the melting point due to the potential for strong intermolecular interactions, estimated at +150. However, the presence of the hydroxyl group may also introduce some steric hindrance, which could slightly lower the melting point.\n",
      "##Prediction: 15.0\n",
      "\n",
      "\n",
      "#Prediction\n",
      "actual:  26.0 predicted:  15.0\n",
      "promlem 6 / 50\n"
     ]
    },
    {
     "name": "stderr",
     "output_type": "stream",
     "text": [
      " 12%|█▏        | 6/50 [03:24<25:48, 35.20s/it]"
     ]
    },
    {
     "name": "stdout",
     "output_type": "stream",
     "text": [
      "----\n",
      "\n",
      "\n",
      "- Base structure (nicotinamide): The melting point of nicotinamide is 122°C. \n",
      "- Phenyl groups: Each phenyl group can increase the melting point due to pi-pi interactions and increased molecular rigidity. Estimated effect per phenyl group is +20°C. \n",
      "- Ethyl group (C3CC3): The ethyl group is a small alkyl chain that can slightly increase the melting point due to van der Waals interactions. Estimated effect is +5°C. \n",
      "- Nitrogen atoms: The presence of nitrogen atoms can contribute to hydrogen bonding, which generally increases the melting point. Estimated effect per nitrogen atom is +5°C. \n",
      "##Prediction: 152.0\n",
      "\n",
      "\n",
      "#Prediction\n",
      "actual:  159.0 predicted:  152.0\n",
      "promlem 7 / 50\n"
     ]
    },
    {
     "name": "stderr",
     "output_type": "stream",
     "text": [
      " 14%|█▍        | 7/50 [04:08<27:12, 37.96s/it]"
     ]
    },
    {
     "name": "stdout",
     "output_type": "stream",
     "text": [
      "----\n",
      "\n",
      "\n",
      "The compound in question is a derivative of benzene with additional functional groups. The basic benzene unit has a melting point of 5.5 °C. The presence of two phenyl rings and a methanone (C=O) group will significantly increase the melting point due to increased molecular weight and potential for π-π interactions and dipole-dipole interactions. The methoxy groups (–OCH3) are electron-donating and can increase the melting point by about +20 each due to increased molecular weight and potential for hydrogen bonding. The methyl group (–CH3) is a small alkyl group that might slightly lower the melting point due to increased van der Waals interactions, estimated at -5. The methanone group is a polar functional group that can increase the melting point through dipole-dipole interactions, estimated at +20.\n",
      "##Prediction: 120.0\n",
      "\n",
      "\n",
      "#Prediction\n",
      "actual:  109.0 predicted:  120.0\n",
      "promlem 8 / 50\n"
     ]
    },
    {
     "name": "stderr",
     "output_type": "stream",
     "text": [
      " 16%|█▌        | 8/50 [04:33<23:35, 33.71s/it]"
     ]
    },
    {
     "name": "stdout",
     "output_type": "stream",
     "text": [
      "----\n",
      "\n",
      "\n",
      "The basic unit for Propylbenzene is benzene, which has a melting point of 5.5 °C. The addition of a propyl group (–CH2CH2–) to the benzene ring generally increases the melting point due to the increase in molecular weight and the introduction of a non-polar alkyl chain, which can increase van der Waals interactions. The effect of the propyl group on the melting point can be estimated at around +20 °C.\n",
      "##Prediction: 25.5\n",
      "\n",
      "\n",
      "#Prediction\n",
      "actual:  -99.0 predicted:  25.5\n",
      "promlem 9 / 50\n"
     ]
    },
    {
     "name": "stderr",
     "output_type": "stream",
     "text": [
      " 18%|█▊        | 9/50 [05:02<22:12, 32.50s/it]"
     ]
    },
    {
     "name": "stdout",
     "output_type": "stream",
     "text": [
      "----\n",
      "\n",
      "\n",
      "The basic unit for comparison is benzene, which has a melting point of 5.5 °C. The functional groups in 2-Nitro-N-phenylacetamide that influence the melting point are the nitro group, the phenyl ring, and the amide group. The nitro group is a strong electron-withdrawing group that can form intermolecular interactions, which can increase the melting point. The estimated effect of a nitro group is about +20 °C. The phenyl ring adds to the molecular weight and provides additional van der Waals forces, which can increase the melting point by about +15 °C. The amide group is capable of hydrogen bonding, which can significantly increase the melting point, estimated at about +40 °C. Adding these adjustments together gives an estimated cumulative increase of +75 °C.\n",
      "##Prediction: 75.0\n",
      "\n",
      "\n",
      "#Prediction\n",
      "actual:  93.0 predicted:  75.0\n",
      "promlem 10 / 50\n"
     ]
    },
    {
     "name": "stderr",
     "output_type": "stream",
     "text": [
      " 20%|██        | 10/50 [05:32<20:58, 31.47s/it]"
     ]
    },
    {
     "name": "stdout",
     "output_type": "stream",
     "text": [
      "----\n",
      "\n",
      "\n",
      "The basic unit here is acetamide, which has a melting point of -15 degrees Celsius. The addition of a propyl group to the molecule will increase the melting point due to the increase in molecular weight and van der Waals forces. The propyl group is a non-polar alkyl group, which will not significantly affect the melting point compared to the polar carbonyl group in acetamide. However, the increase in molecular weight and van der Waals forces will contribute to an increase in the melting point. The effect of the propyl group might be estimated at around +10 degrees Celsius.\n",
      "##Prediction: 15.0\n",
      "\n",
      "\n",
      "#Prediction\n",
      "actual:  -92.0 predicted:  15.0\n",
      "promlem 11 / 50\n"
     ]
    },
    {
     "name": "stderr",
     "output_type": "stream",
     "text": [
      " 22%|██▏       | 11/50 [06:26<24:55, 38.36s/it]"
     ]
    },
    {
     "name": "stdout",
     "output_type": "stream",
     "text": [
      "----\n",
      "\n",
      "\n",
      "The target compound, 4-iodo-2-nitroanisole, has several functional groups that influence its melting point. The basic unit for comparison is anisole, which has a melting point of 57.5°C. The iodo group is electron-withdrawing and increases the melting point due to its inductive effect and the increase in molecular weight; this can contribute approximately +20°C. The nitro group is highly electron-withdrawing and also increases the melting point due to its strong dipole and potential for hydrogen bonding; this can contribute approximately +30°C. The presence of two such groups would add +60°C. The molecule also has a benzene ring, which contributes to the melting point due to its aromatic character and planarity, but this effect is already accounted for in the base melting point of anisole.\n",
      "##Prediction: 117.0\n",
      "\n",
      "\n",
      "#Prediction\n",
      "actual:  97.0 predicted:  117.0\n",
      "promlem 12 / 50\n"
     ]
    },
    {
     "name": "stderr",
     "output_type": "stream",
     "text": [
      " 24%|██▍       | 12/50 [06:50<21:35, 34.08s/it]"
     ]
    },
    {
     "name": "stdout",
     "output_type": "stream",
     "text": [
      "----\n",
      "\n",
      "\n",
      "- Basic unit, ethene (ethylene), has a melting point of -169.2°C.\n",
      "- The presence of two methyl groups increases the melting point due to increased molecular weight and van der Waals forces: +20°C (2 groups * +10°C each).\n",
      "- The geometric configuration of the molecule, with a z-shaped structure, may slightly increase the melting point due to better packing: +5°C.\n",
      "##Prediction: -144.0\n",
      "\n",
      "\n",
      "#Prediction\n",
      "actual:  -137.4 predicted:  -144.0\n",
      "promlem 13 / 50\n"
     ]
    },
    {
     "name": "stderr",
     "output_type": "stream",
     "text": [
      " 26%|██▌       | 13/50 [06:53<15:14, 24.72s/it]"
     ]
    },
    {
     "name": "stdout",
     "output_type": "stream",
     "text": [
      "----\n",
      "\n",
      "\n",
      "##Prediction: 120.0\n",
      "\n",
      "\n",
      "#Prediction\n",
      "actual:  203.0 predicted:  120.0\n",
      "promlem 14 / 50\n"
     ]
    },
    {
     "name": "stderr",
     "output_type": "stream",
     "text": [
      " 28%|██▊       | 14/50 [08:05<23:24, 39.01s/it]"
     ]
    },
    {
     "name": "stdout",
     "output_type": "stream",
     "text": [
      "----\n",
      "\n",
      "\n",
      "The compound 1-acetyl-6-nitro-2-phenyl-1H-indol-3-yl ethyl carbonate has several functional groups that influence its melting point:\n",
      "- Indole base structure: The base structure of indole has a melting point around 100°C.\n",
      "- Acetyl group: The acetyl group is polar and can participate in dipole-dipole interactions, which might increase the melting point by about +10°C.\n",
      "- Nitro group: The nitro group is highly electronegative and can form strong intermolecular interactions, such as dipole-dipole interactions and potential hydrogen bonding, which could increase the melting point by about +20°C.\n",
      "- Phenyl group: The phenyl group adds rigidity and can increase the melting point due to π-π interactions and possible hydrogen bonding, estimated at +15°C.\n",
      "- Carbonate group: The carbonate group can form strong intermolecular hydrogen bonds, which can significantly increase the melting point, estimated at +30°C.\n",
      "Adding these estimated increases to the base melting point of indole gives us a predicted value.\n",
      "##Prediction: 175.0\n",
      "\n",
      "\n",
      "#Prediction\n",
      "actual:  133.0 predicted:  175.0\n",
      "promlem 15 / 50\n",
      "CUDA out of memory. Tried to allocate 194.00 MiB. GPU 0 has a total capacty of 79.15 GiB of which 52.69 MiB is free. Including non-PyTorch memory, this process has 79.07 GiB memory in use. Of the allocated memory 76.93 GiB is allocated by PyTorch, and 1.65 GiB is reserved by PyTorch but unallocated. If reserved but unallocated memory is large try setting max_split_size_mb to avoid fragmentation.  See documentation for Memory Management and PYTORCH_CUDA_ALLOC_CONF\n"
     ]
    },
    {
     "name": "stderr",
     "output_type": "stream",
     "text": [
      " 30%|███       | 15/50 [08:43<22:32, 38.64s/it]"
     ]
    },
    {
     "name": "stdout",
     "output_type": "stream",
     "text": [
      "----\n",
      "\n",
      "\n",
      "##Prediction: -30.0\n",
      "\n",
      "\n",
      "#Prediction\n",
      "actual:  -54.9 predicted:  -30.0\n",
      "promlem 16 / 50\n"
     ]
    },
    {
     "name": "stderr",
     "output_type": "stream",
     "text": [
      " 32%|███▏      | 16/50 [09:23<22:11, 39.15s/it]"
     ]
    },
    {
     "name": "stdout",
     "output_type": "stream",
     "text": [
      "----\n",
      "\n",
      "\n",
      "The compound 4-phenoxybenzaldehyde contains a benzene ring, an aldehyde group, and a phenoxy group. The benzene ring provides a basic unit with a melting point of 5.5°C. The aldehyde group can form hydrogen bonds and increases the melting point by approximately 20°C due to its polar nature and the potential for hydrogen bonding. The phenoxy group, with its oxygen atom capable of forming hydrogen bonds, can increase the melting point by about 30°C. The conjugation of the aldehyde and phenoxy groups can also increase the melting point due to the increased rigidity of the molecule. However, the actual melting point is 105.0°C, which suggests that the combined effects of the functional groups are not accurately predicted.\n",
      "##Prediction: 105.0\n",
      "\n",
      "\n",
      "#Prediction\n",
      "actual:  25.0 predicted:  105.0\n",
      "promlem 17 / 50\n"
     ]
    },
    {
     "name": "stderr",
     "output_type": "stream",
     "text": [
      " 34%|███▍      | 17/50 [10:42<28:01, 50.97s/it]"
     ]
    },
    {
     "name": "stdout",
     "output_type": "stream",
     "text": [
      "----\n",
      "\n",
      "\n",
      "The target compound has several functional groups that influence its melting point. Starting with the base structure of benzene, which has a melting point of 5.5°C, we consider the following effects: \n",
      "- Chloro group: Chlorine is a heavy atom that can increase the melting point due to increased van der Waals forces, estimated at +20°C. \n",
      "- Furan ring: The presence of a furan ring contributes to the rigidity of the molecule, which can increase the melting point, estimated at +30°C. \n",
      "- Ketone group: The carbonyl group can form hydrogen bonds, which can significantly increase the melting point, estimated at +40°C. \n",
      "- Methyl group: The methyl group typically increases the melting point due to an increase in van der Waals forces, adding about +5°C. \n",
      "- Oxime group: The presence of an oxime group can form hydrogen bonds, which can further increase the melting point, estimated at +20°C. \n",
      "The cumulative effect of these groups is expected to significantly increase the melting point.\n",
      "##Prediction: 155.0\n",
      "\n",
      "\n",
      "#Prediction\n",
      "actual:  115.0 predicted:  155.0\n",
      "promlem 18 / 50\n"
     ]
    },
    {
     "name": "stderr",
     "output_type": "stream",
     "text": [
      " 36%|███▌      | 18/50 [10:47<19:54, 37.32s/it]"
     ]
    },
    {
     "name": "stdout",
     "output_type": "stream",
     "text": [
      "----\n",
      "\n",
      "\n",
      "##Prediction: 20.0\n",
      "\n",
      "\n",
      "#Prediction\n",
      "actual:  -136.2 predicted:  20.0\n",
      "promlem 19 / 50\n"
     ]
    },
    {
     "name": "stderr",
     "output_type": "stream",
     "text": [
      " 38%|███▊      | 19/50 [11:14<17:40, 34.20s/it]"
     ]
    },
    {
     "name": "stdout",
     "output_type": "stream",
     "text": [
      "----\n",
      "\n",
      "\n",
      "The base structure of furan has a melting point of -85.5°C. The addition of a bromine atom significantly increases the melting point due to the increased molecular weight and polarizability of the bromine atom, which can lead to stronger intermolecular forces such as dipole-dipole interactions. The aldehyde group also contributes to an increase in the melting point due to its polar carbonyl group, which can form hydrogen bonds. The combined effect of these groups is estimated to be an increase of +100°C.\n",
      "##Prediction: 18.5\n",
      "\n",
      "\n",
      "#Prediction\n",
      "actual:  56.0 predicted:  18.5\n",
      "promlem 20 / 50\n"
     ]
    },
    {
     "name": "stderr",
     "output_type": "stream",
     "text": [
      " 40%|████      | 20/50 [11:42<16:10, 32.34s/it]"
     ]
    },
    {
     "name": "stdout",
     "output_type": "stream",
     "text": [
      "----\n",
      "\n",
      "\n",
      "The basic unit, pyridine, has a melting point of 23°C. Fluorine atoms are highly electronegative and increase the melting point due to stronger intermolecular forces, estimated at +20°C per fluorine atom. The amino group (NH2) can form hydrogen bonds, which significantly raises the melting point, estimated at +50°C. The tetrafluorination of the pyridine ring adds to the rigidity and the overall molecular weight, which can further increase the melting point, estimated at +10°C per fluorine atom.\n",
      "##Prediction: 103.0\n",
      "\n",
      "\n",
      "#Prediction\n",
      "actual:  86.0 predicted:  103.0\n",
      "promlem 21 / 50\n"
     ]
    },
    {
     "name": "stderr",
     "output_type": "stream",
     "text": [
      " 42%|████▏     | 21/50 [12:23<16:48, 34.76s/it]"
     ]
    },
    {
     "name": "stdout",
     "output_type": "stream",
     "text": [
      "----\n",
      "\n",
      "\n",
      "The compound 4,4'-dimethylbenzhydrol has several functional groups that influence its melting point. The basic unit, benzene, has a melting point of 5.5°C. The presence of a methyl group generally increases the melting point due to increased van der Waals interactions, estimated at +5°C. The second methyl group also increases the melting point, estimated at +5°C. The hydrazone group (C=N-O) is capable of hydrogen bonding, which significantly increases the melting point, estimated at +30°C. The overall effect of these groups is the sum of their individual contributions.\n",
      "##Prediction: 60.0\n",
      "\n",
      "\n",
      "#Prediction\n",
      "actual:  71.0 predicted:  60.0\n",
      "promlem 22 / 50\n"
     ]
    },
    {
     "name": "stderr",
     "output_type": "stream",
     "text": [
      " 44%|████▍     | 22/50 [13:22<19:43, 42.26s/it]"
     ]
    },
    {
     "name": "stdout",
     "output_type": "stream",
     "text": [
      "----\n",
      "\n",
      "\n",
      "The compound in question is 6-(1-methylethyl)-3-phenyl-6,7-dihydro-5H-[1,2,4]triazolo[3,4-b][1,3,5]thiadiazine. The basic structure is a triazole ring, which has a melting point around 100-120°C. The presence of a phenyl group typically increases the melting point due to increased pi-pi stacking interactions and van der Waals forces, estimated at +20°C. The methylethyl group is a small alkyl chain that can slightly lower the melting point due to increased flexibility, estimated at -5°C. The thiadiazine ring is a heterocyclic compound that can engage in additional intermolecular interactions, such as dipole-dipole interactions, which might slightly increase the melting point, estimated at +5°C. The overall prediction is based on the sum of these effects.\n",
      "##Prediction: 110.0\n",
      "\n",
      "\n",
      "#Prediction\n",
      "actual:  226.0 predicted:  110.0\n",
      "promlem 23 / 50\n"
     ]
    },
    {
     "name": "stderr",
     "output_type": "stream",
     "text": [
      " 46%|████▌     | 23/50 [13:53<17:29, 38.87s/it]"
     ]
    },
    {
     "name": "stdout",
     "output_type": "stream",
     "text": [
      "----\n",
      "\n",
      "\n",
      "The target compound, 4-chloromandelic acid, is a derivative of benzene with a chlorine atom attached to the ring and a carboxylic acid group. The base structure, benzene, has a melting point of 5.5°C. The chlorine atom is an electron-withdrawing group that increases the melting point due to its high electronegativity and the resulting dipole-dipole interactions. This could contribute an estimated +40°C to the melting point. The carboxylic acid group is capable of strong hydrogen bonding, which significantly increases the melting point. This could contribute an estimated +100°C to the melting point.\n",
      "##Prediction: 145.0\n",
      "\n",
      "\n",
      "#Prediction\n",
      "actual:  120.0 predicted:  145.0\n",
      "promlem 24 / 50\n"
     ]
    },
    {
     "name": "stderr",
     "output_type": "stream",
     "text": [
      " 48%|████▊     | 24/50 [14:50<19:12, 44.34s/it]"
     ]
    },
    {
     "name": "stdout",
     "output_type": "stream",
     "text": [
      "----\n",
      "\n",
      "\n",
      "The compound in question has several functional groups that influence its melting point: \n",
      "- The base structure is a fused benzene ring system, which typically has a high melting point due to the rigidity of the aromatic system.\n",
      "- The presence of a chlorine atom adds to the molecular weight and polarizability, which can increase the melting point.\n",
      "- The hydrazono group (NN=C) introduces the possibility of hydrogen bonding, which can significantly raise the melting point.\n",
      "- The thiazole ring (scc([nH0]2)c2ccc(C)cc2) adds rigidity and potential for hydrogen bonding, further increasing the melting point.\n",
      "- The nitrile group (C#N) is polar and can engage in dipole-dipole interactions, which can also raise the melting point.\n",
      "- The methyl group (–CH3) attached to the thiazole ring adds a small increase in molecular weight and van der Waals forces.\n",
      "- The fused benzene ring system provides a rigid structure that can pack efficiently in the solid state, which typically increases the melting point.\n",
      "##Prediction: 160.0\n",
      "\n",
      "##Prediction\n",
      "actual:  173.0 predicted:  160.0\n",
      "promlem 25 / 50\n"
     ]
    },
    {
     "name": "stderr",
     "output_type": "stream",
     "text": [
      " 50%|█████     | 25/50 [14:54<13:19, 31.98s/it]"
     ]
    },
    {
     "name": "stdout",
     "output_type": "stream",
     "text": [
      "----\n",
      "\n",
      "\n",
      "##Prediction: 120.0\n",
      "\n",
      "\n",
      "#Prediction\n",
      "actual:  98.5 predicted:  120.0\n",
      "promlem 26 / 50\n"
     ]
    },
    {
     "name": "stderr",
     "output_type": "stream",
     "text": [
      " 52%|█████▏    | 26/50 [15:59<16:45, 41.90s/it]"
     ]
    },
    {
     "name": "stdout",
     "output_type": "stream",
     "text": [
      "----\n",
      "\n",
      "\n",
      "The compound in question is a complex molecule with several functional groups that influence its melting point. Starting with the basic structure of 1H-beta-carboline, which has a melting point of around 100°C, we consider the following functional groups and structural features: \n",
      "- Ketone group (–C=O): +20 (polar carbonyl group, which can lead to dipolar interactions)\n",
      "- Carboxylic acid group (–COOH): +30 (strong hydrogen bonding capability and dimerization potential)\n",
      "- Nitrogen atoms in the beta-carboline structure: +10 (due to the presence of nitrogen, which can participate in hydrogen bonding and increase the melting point)\n",
      "- Methyl groups (–CH3): +5 (methyl groups typically raise melting point due to increased van der Waals interactions)\n",
      "- Methoxy group (–OCH3): +5 (methoxy group adds steric bulk and can participate in dipole-dipole interactions)\n",
      "- Stereochemistry: +5 (the presence of a chiral center can increase the melting point due to the need for precise packing in the solid state)\n",
      "Adding these increments to the base melting point of 1H-beta-carboline gives the predicted melting point for the compound.\n",
      "##Prediction: 170.0\n",
      "\n",
      "\n",
      "#Prediction\n",
      "actual:  296.0 predicted:  170.0\n",
      "promlem 27 / 50\n"
     ]
    },
    {
     "name": "stderr",
     "output_type": "stream",
     "text": [
      " 54%|█████▍    | 27/50 [16:35<15:24, 40.20s/it]"
     ]
    },
    {
     "name": "stdout",
     "output_type": "stream",
     "text": [
      "----\n",
      "\n",
      "\n",
      "The base unit for comparison is pyrazole, which has a melting point of -42°C. The methyl group attached to the nitrogen in the pyrazole ring typically increases the melting point by about 5°C due to increased van der Waals forces. The methanol group can also raise the melting point by about 20°C due to the hydrogen bonding it can form. The cumulative effect of these functional groups would be the base melting point of pyrazole with the adjustments for the functional groups.\n",
      "##Prediction: -27.0\n",
      "\n",
      "\n",
      "#Prediction\n",
      "actual:  79.0 predicted:  -27.0\n",
      "promlem 28 / 50\n"
     ]
    },
    {
     "name": "stderr",
     "output_type": "stream",
     "text": [
      " 56%|█████▌    | 28/50 [17:11<14:19, 39.08s/it]"
     ]
    },
    {
     "name": "stdout",
     "output_type": "stream",
     "text": [
      "----\n",
      "\n",
      "\n",
      "The basic unit for this compound is cyclohexanone, which has a melting point of 49 °C. The presence of three methyl groups on the bicyclic structure (1,8,8-trimethylbicyclo[3.2.1]octan-2-one) will increase the melting point due to increased molecular weight and van der Waals interactions (+30). The bicyclic structure itself is rigid and planar, which can lead to more efficient packing and higher melting points (+20). The ketone group is capable of dipole-dipole interactions, which can further raise the melting point (+10).\n",
      "##Prediction: 89.0\n",
      "\n",
      "\n",
      "#Prediction\n",
      "actual:  193.0 predicted:  89.0\n",
      "promlem 29 / 50\n"
     ]
    },
    {
     "name": "stderr",
     "output_type": "stream",
     "text": [
      " 58%|█████▊    | 29/50 [17:33<11:48, 33.74s/it]"
     ]
    },
    {
     "name": "stdout",
     "output_type": "stream",
     "text": [
      "----\n",
      "\n",
      "\n",
      "The base structure of naphthalene has a melting point of 80.5°C. The bromomethyl group is a bulky substituent that can increase the melting point due to increased molecular weight and van der Waals forces. However, the bromine atom also introduces polarizability and dipole-dipole interactions, which can further increase the melting point. The bromomethyl group's contribution can be estimated at around +20°C.\n",
      "##Prediction: 100.0\n",
      "\n",
      "\n",
      "#Prediction\n",
      "actual:  56.0 predicted:  100.0\n",
      "promlem 30 / 50\n"
     ]
    },
    {
     "name": "stderr",
     "output_type": "stream",
     "text": [
      " 60%|██████    | 30/50 [18:33<13:55, 41.79s/it]"
     ]
    },
    {
     "name": "stdout",
     "output_type": "stream",
     "text": [
      "----\n",
      "\n",
      "\n",
      "The compound in question is a complex molecule with multiple functional groups that influence its melting point. The base structure is a bicyclic compound with a nitrile group, which generally increases the melting point due to dipole-dipole interactions and potential hydrogen bonding. The presence of two phenyl rings and two diphenylethanone groups will further increase the melting point due to π-π interactions and potential hydrogen bonding. The trimethyl groups will increase the molecular weight and steric hindrance, which could either increase or decrease the melting point depending on the balance of these effects. The presence of two nitrile groups will also increase the melting point due to strong dipole-dipole interactions. However, the branching and the large size of the molecule may hinder efficient packing, which could lower the melting point.\n",
      "##Prediction: 170.0\n",
      "\n",
      "##Prediction\n",
      "actual:  190.0 predicted:  170.0\n",
      "promlem 31 / 50\n",
      "CUDA out of memory. Tried to allocate 194.00 MiB. GPU 0 has a total capacty of 79.15 GiB of which 112.69 MiB is free. Including non-PyTorch memory, this process has 79.01 GiB memory in use. Of the allocated memory 76.95 GiB is allocated by PyTorch, and 1.57 GiB is reserved by PyTorch but unallocated. If reserved but unallocated memory is large try setting max_split_size_mb to avoid fragmentation.  See documentation for Memory Management and PYTORCH_CUDA_ALLOC_CONF\n"
     ]
    },
    {
     "name": "stderr",
     "output_type": "stream",
     "text": [
      " 62%|██████▏   | 31/50 [20:52<22:26, 70.87s/it]"
     ]
    },
    {
     "name": "stdout",
     "output_type": "stream",
     "text": [
      "----\n",
      "\n",
      "\n",
      "The compound N,N',N'',N'''-biphenyl-2,2',4,4'-tetrayltetrabenzamide is a complex molecule with multiple aromatic rings and amide groups. The basic unit we can consider is biphenyl, which has a melting point of about 70°C. Each amide group can form hydrogen bonds and increases the melting point significantly, estimated to add about +100°C per amide group. The presence of four amide groups would contribute an estimated +400°C. The conjugation of the aromatic rings also increases the melting point due to the rigidity and planarity of the molecule, estimated at about +10°C. The overall molecule's complexity and potential for intermolecular interactions, such as hydrogen bonding and dipole-dipole interactions, would further increase the melting point.\n",
      "##Prediction: 310.0\n",
      "\n",
      "\n",
      "#Prediction\n",
      "actual:  279.0 predicted:  310.0\n",
      "promlem 32 / 50\n",
      "CUDA out of memory. Tried to allocate 160.00 MiB. GPU 0 has a total capacty of 79.15 GiB of which 154.69 MiB is free. Including non-PyTorch memory, this process has 78.97 GiB memory in use. Of the allocated memory 77.62 GiB is allocated by PyTorch, and 880.36 MiB is reserved by PyTorch but unallocated. If reserved but unallocated memory is large try setting max_split_size_mb to avoid fragmentation.  See documentation for Memory Management and PYTORCH_CUDA_ALLOC_CONF\n"
     ]
    },
    {
     "name": "stderr",
     "output_type": "stream",
     "text": [
      " 64%|██████▍   | 32/50 [21:24<17:45, 59.18s/it]"
     ]
    },
    {
     "name": "stdout",
     "output_type": "stream",
     "text": [
      "----\n",
      "\n",
      "\n",
      "The base structure, isoxazole, has a melting point of 100.0°C. The presence of a boronic acid group significantly increases the melting point due to the potential for hydrogen bonding and the rigidity it adds to the molecule. The boronic acid group can be estimated to contribute +100°C. Each methyl group adds to the molecular weight and van der Waals forces, but the effect on the melting point is less pronounced than that of hydrogen bonding. We can estimate each methyl group to contribute +5°C.\n",
      "##Prediction: 115.0\n",
      "\n",
      "\n",
      "#Prediction\n",
      "actual:  107.0 predicted:  115.0\n",
      "promlem 33 / 50\n",
      "CUDA out of memory. Tried to allocate 194.00 MiB. GPU 0 has a total capacty of 79.15 GiB of which 140.69 MiB is free. Including non-PyTorch memory, this process has 78.99 GiB memory in use. Of the allocated memory 76.79 GiB is allocated by PyTorch, and 1.70 GiB is reserved by PyTorch but unallocated. If reserved but unallocated memory is large try setting max_split_size_mb to avoid fragmentation.  See documentation for Memory Management and PYTORCH_CUDA_ALLOC_CONF\n"
     ]
    },
    {
     "name": "stderr",
     "output_type": "stream",
     "text": [
      " 66%|██████▌   | 33/50 [25:03<30:20, 107.11s/it]"
     ]
    },
    {
     "name": "stdout",
     "output_type": "stream",
     "text": [
      "----\n",
      "\n",
      "\n",
      "The compound has several functional groups that influence its melting point: \n",
      "- The base structure is a thiazole, which has a melting point of around 100°C. \n",
      "- The presence of a hydrazine group can form intermolecular hydrogen bonds, which typically increases the melting point by about +50°C. \n",
      "- The presence of a methyl group on a phenyl ring can increase the melting point by about +5°C due to increased molecular weight and van der Waals forces. \n",
      "- The presence of a nitrile group can increase the melting point by about +10°C due to its polar nature and potential for dipole-dipole interactions. \n",
      "- The presence of a hydrazinylidene group can increase the melting point by about +20°C due to its ability to form intermolecular hydrogen bonds and its rigidity. \n",
      "- The presence of a phenyl group can increase the melting point by about +20°C due to π-π stacking and increased molecular rigidity. \n",
      "- The presence of a thiazole ring can increase the melting point by about +30°C due to its rigidity and potential for π-π interactions. \n",
      "- The presence of a nitro group can increase the melting point by about +30°C due to its strong electron-withdrawing nature and potential for intermolecular interactions. \n",
      "- The presence of a hydrazine group can increase the melting point by about +20°C due to its ability to form intermolecular hydrogen bonds. \n",
      "- The presence of a methyl group on a phenyl ring can increase the melting point by about +5°C due to increased molecular weight\n",
      "promlem 34 / 50\n"
     ]
    },
    {
     "name": "stderr",
     "output_type": "stream",
     "text": [
      " 68%|██████▊   | 34/50 [25:05<20:12, 75.76s/it] "
     ]
    },
    {
     "name": "stdout",
     "output_type": "stream",
     "text": [
      "----\n",
      "\n",
      "\n",
      "##Prediction: 105.0\n",
      "\n",
      "\n",
      "#Prediction\n",
      "actual:  152.0 predicted:  105.0\n",
      "promlem 35 / 50\n"
     ]
    },
    {
     "name": "stderr",
     "output_type": "stream",
     "text": [
      " 70%|███████   | 35/50 [25:38<15:41, 62.80s/it]"
     ]
    },
    {
     "name": "stdout",
     "output_type": "stream",
     "text": [
      "----\n",
      "\n",
      "\n",
      "The basic unit, benzene, has a melting point of 5.5°C. The chlorine substituent is electron-withdrawing and increases the molecular weight, which typically raises the melting point. However, the presence of the chlorine also introduces steric hindrance, which can disrupt crystalline packing, potentially lowering the melting point. We'll estimate a +10°C increase due to the chlorine's inductive effect and a -5°C decrease due to steric hindrance.\n",
      "##Prediction: 10.0\n",
      "\n",
      "\n",
      "#Prediction\n",
      "actual:  28.0 predicted:  10.0\n",
      "promlem 36 / 50\n"
     ]
    },
    {
     "name": "stderr",
     "output_type": "stream",
     "text": [
      " 72%|███████▏  | 36/50 [26:25<13:33, 58.07s/it]"
     ]
    },
    {
     "name": "stdout",
     "output_type": "stream",
     "text": [
      "----\n",
      "\n",
      "\n",
      "The basic unit, acetic acid, has a melting point of 16.6 degrees Celsius. The addition of three methyl groups (compared to one in acetic acid) increases the molecular weight and size, which typically raises the melting point due to increased van der Waals forces. However, the branching of the alkyl chain can disrupt the crystal packing, which might lower the melting point. The effect of each methyl group can be estimated to raise the melting point by about 5 to 10 degrees Celsius. Since there are three methyl groups, the total increase would be around 15 to 30 degrees Celsius. However, the branching can also lower the melting point due to less efficient packing, which might be estimated to lower the melting point by about 20 to 30 degrees Celsius. Therefore, the net effect of the three methyl groups might be a slight increase, but the branching could still lower the melting point.\n",
      "##Prediction: 10.0\n",
      "\n",
      "\n",
      "#Prediction\n",
      "actual:  33.0 predicted:  10.0\n",
      "promlem 37 / 50\n",
      "CUDA out of memory. Tried to allocate 192.00 MiB. GPU 0 has a total capacty of 79.15 GiB of which 180.69 MiB is free. Including non-PyTorch memory, this process has 78.95 GiB memory in use. Of the allocated memory 76.57 GiB is allocated by PyTorch, and 1.88 GiB is reserved by PyTorch but unallocated. If reserved but unallocated memory is large try setting max_split_size_mb to avoid fragmentation.  See documentation for Memory Management and PYTORCH_CUDA_ALLOC_CONF\n"
     ]
    },
    {
     "name": "stderr",
     "output_type": "stream",
     "text": [
      " 74%|███████▍  | 37/50 [28:24<16:34, 76.46s/it]"
     ]
    },
    {
     "name": "stdout",
     "output_type": "stream",
     "text": [
      "CUDA out of memory. Tried to allocate 192.00 MiB. GPU 0 has a total capacty of 79.15 GiB of which 130.69 MiB is free. Including non-PyTorch memory, this process has 79.00 GiB memory in use. Of the allocated memory 76.50 GiB is allocated by PyTorch, and 2.00 GiB is reserved by PyTorch but unallocated. If reserved but unallocated memory is large try setting max_split_size_mb to avoid fragmentation.  See documentation for Memory Management and PYTORCH_CUDA_ALLOC_CONF\n",
      "promlem 38 / 50\n"
     ]
    },
    {
     "name": "stderr",
     "output_type": "stream",
     "text": [
      " 76%|███████▌  | 38/50 [28:30<11:01, 55.10s/it]"
     ]
    },
    {
     "name": "stdout",
     "output_type": "stream",
     "text": [
      "----\n",
      "\n",
      "\n",
      "##Prediction: 220.0\n",
      "\n",
      "\n",
      "#Prediction\n",
      "actual:  269.0 predicted:  220.0\n",
      "promlem 39 / 50\n"
     ]
    },
    {
     "name": "stderr",
     "output_type": "stream",
     "text": [
      " 78%|███████▊  | 39/50 [28:33<07:17, 39.74s/it]"
     ]
    },
    {
     "name": "stdout",
     "output_type": "stream",
     "text": [
      "----\n",
      "\n",
      "\n",
      "##Prediction: 20.0\n",
      "\n",
      "\n",
      "#Prediction\n",
      "actual:  72.5 predicted:  20.0\n",
      "promlem 40 / 50\n"
     ]
    },
    {
     "name": "stderr",
     "output_type": "stream",
     "text": [
      " 80%|████████  | 40/50 [28:37<04:49, 28.97s/it]"
     ]
    },
    {
     "name": "stdout",
     "output_type": "stream",
     "text": [
      "----\n",
      "\n",
      "\n",
      "##Prediction: 105.0\n",
      "\n",
      "\n",
      "#Prediction\n",
      "actual:  44.5 predicted:  105.0\n",
      "promlem 41 / 50\n",
      "----\n",
      "\n",
      "\n",
      "The compound in question is a complex molecule with multiple functional groups that influence its melting point. The base structure is a piperazine ring, which has a melting point of around 100°C. The presence of an acetyl group typically increases the melting point due to the possibility of additional hydrogen bonding and dipole-dipole interactions; this could add approximately 10°C. The 4-methoxybenzoyl group contributes to the melting point through increased molecular weight and stronger dispersion forces, as well as possible intermolecular hydrogen bonding; this could add around 20°C. The 4-[4-[[2-(2,4-dichlorophenyl)-2-(1H-imidazol-1-ylmethyl)-1,3-dioxolan-4-yl]methoxy]phenyl] group is a large, rigid structure that can engage in extensive intermolecular interactions, including hydrogen bonding, dipole-dipole interactions, and π-π stacking; this could significantly increase the melting point, possibly by around 100°C. The imidazole ring contributes to the melting point through its nitrogen atoms' ability to form hydrogen bonds, which could add around 15°C. The presence of two chlorine atoms on the benzene ring increases the molecular weight and the polarizability of the molecule, which could add around 5°C. Summing up these contributions: 100 (base piperazine) + 10 (acetyl group) + 20 (4-methoxybenzoyl group) + 15 (imidazole ring) + 5 (chlorine\n"
     ]
    },
    {
     "name": "stderr",
     "output_type": "stream",
     "text": [
      " 82%|████████▏ | 41/50 [31:36<11:06, 74.02s/it]"
     ]
    },
    {
     "name": "stdout",
     "output_type": "stream",
     "text": [
      "----\n",
      "\n",
      "\n",
      "The compound in question is a complex molecule with multiple functional groups that influence its melting point. The basic unit for comparison is benzene, which has a melting point of 5.5°C. The presence of a piperazine ring, which is a heterocyclic amine, increases the melting point due to the potential for hydrogen bonding and increased rigidity; this could be estimated to add +50°C. The acetyl group introduces polarity and potential for dipole-dipole interactions, adding approximately +10°C. The 1,3-dioxolane ring contributes to rigidity and potential for hydrogen bonding, adding +20°C. The presence of two chlorine atoms on the benzene ring increases the melting point due to increased molecular weight and London dispersion forces; this could be estimated to add +20°C. The imidazole ring contributes to rigidity and potential for hydrogen bonding, adding +10°C. The methoxy group introduces polarity and potential for dipole-dipole interactions, adding approximately +5°C. The conjugation of the ketone groups through the structure would increase the melting point due to increased rigidity and potential for hydrogen bonding; this could be estimated to add +15°C. However, the actual value is lower than the predicted value, indicating that the cumulative effect of these groups on the melting point is less than expected.\n",
      "##Prediction: 170.0\n",
      "\n",
      "\n",
      "#Prediction\n",
      "actual:  146.0 predicted:  170.0\n",
      "promlem 42 / 50\n"
     ]
    },
    {
     "name": "stderr",
     "output_type": "stream",
     "text": [
      " 84%|████████▍ | 42/50 [32:07<08:08, 61.01s/it]"
     ]
    },
    {
     "name": "stdout",
     "output_type": "stream",
     "text": [
      "----\n",
      "\n",
      "\n",
      "The basic unit, butanone, has a melting point of 20.5°C. The presence of a semicarbazone group, which includes a nitrogen atom capable of hydrogen bonding, significantly increases the melting point due to the potential for hydrogen bonding and the rigidity it adds to the molecule. The phenyl group adds aromaticity and pi-pi stacking interactions, which can further increase the melting point. The methyl group adds van der Waals forces, which can slightly increase the melting point. The quantified effects of these groups are as follows: semicarbazone group: +100°C, phenyl group: +20°C, methyl group: +5°C.\n",
      "##Prediction: 145.0\n",
      "\n",
      "\n",
      "#Prediction\n",
      "actual:  112.0 predicted:  145.0\n",
      "promlem 43 / 50\n"
     ]
    },
    {
     "name": "stderr",
     "output_type": "stream",
     "text": [
      " 86%|████████▌ | 43/50 [32:53<06:35, 56.48s/it]"
     ]
    },
    {
     "name": "stdout",
     "output_type": "stream",
     "text": [
      "----\n",
      "\n",
      "\n",
      "- Basic phenol unit (phenol itself has a melting point of 41°C): +41.0\n",
      "- Methyl groups: \n",
      "\t- Each methyl group generally increases the melting point due to increased molecular weight and van der Waals forces. However, the effect of methyl groups on melting point can be less pronounced in large molecules due to steric hindrance and potential disruption of crystal packing. We estimate an increase of +5°C per methyl group.\n",
      "\t- There are three methyl groups, so the total increase would be 3 x 5 = 15°C.\n",
      "##Prediction: 56.0\n",
      "\n",
      "\n",
      "#Prediction\n",
      "actual:  72.5 predicted:  56.0\n",
      "promlem 44 / 50\n"
     ]
    },
    {
     "name": "stderr",
     "output_type": "stream",
     "text": [
      " 88%|████████▊ | 44/50 [33:29<05:02, 50.46s/it]"
     ]
    },
    {
     "name": "stdout",
     "output_type": "stream",
     "text": [
      "----\n",
      "\n",
      "\n",
      "- Basic unit, benzene: 5.5°C\n",
      "- Nitro groups: +20°C each, due to strong electronegativity and potential for intermolecular interactions.\n",
      "- Hydrazine group: +10°C, due to the ability to form hydrogen bonds.\n",
      "- Two phenyl rings: +20°C each, due to increased molecular weight and pi-pi interactions.\n",
      "- Two ethenyl groups: +10°C each, due to the increase in molecular weight and rigidity.\n",
      "\n",
      "Adding these effects together gives a prediction of 5.5 + 20 + 10 + 20 + 20 + 10 = 85.5°C, which is close to the actual value.\n",
      "##Prediction: 85.0\n",
      "\n",
      "\n",
      "#Prediction\n",
      "actual:  193.0 predicted:  85.0\n",
      "promlem 45 / 50\n"
     ]
    },
    {
     "name": "stderr",
     "output_type": "stream",
     "text": [
      " 90%|█████████ | 45/50 [34:52<05:00, 60.17s/it]"
     ]
    },
    {
     "name": "stdout",
     "output_type": "stream",
     "text": [
      "----\n",
      "\n",
      "\n",
      "The compound 21-acetoxypregnenolone has several functional groups that influence its melting point. The basic steroid structure, similar to cholesterol, has a high melting point due to its rigid, planar structure and the presence of four fused rings. The acetoxy group is an ester, which can form hydrogen bonds and increase the melting point. The presence of a ketone group (C=O) also contributes to the melting point due to its polarity and potential for dipole-dipole interactions. The presence of a hydroxyl group (OH) can form hydrogen bonds, further increasing the melting point. The presence of a methyl group (CH3) adds to the molecular weight and van der Waals forces, but its effect on the melting point is less pronounced than that of the other groups.\n",
      "\n",
      "Considering the effects of these groups, we can estimate the melting point increase as follows:\n",
      "- Basic steroid structure: +100-120°C (due to rigidity and planarity)\n",
      "- Acetoxy group: +20-30°C (due to hydrogen bonding and polarity)\n",
      "- Ketone group: +10-20°C (due to polarity and potential for dipole-dipole interactions)\n",
      "- Hydroxyl group: +10-20°C (due to hydrogen bonding)\n",
      "- Methyl group: +5-10°C (due to increased molecular weight)\n",
      "\n",
      "Adding these estimates together gives the predicted melting point.\n",
      "##Prediction: 235.0\n",
      "\n",
      "\n",
      "#Prediction\n",
      "actual:  184.5 predicted:  235.0\n",
      "promlem 46 / 50\n"
     ]
    },
    {
     "name": "stderr",
     "output_type": "stream",
     "text": [
      " 92%|█████████▏| 46/50 [36:03<04:13, 63.46s/it]"
     ]
    },
    {
     "name": "stdout",
     "output_type": "stream",
     "text": [
      "----\n",
      "\n",
      "\n",
      "The compound in question has several functional groups that affect its melting point. Starting with the basic unit, benzene, which has a melting point of 5.5°C. The presence of a nitro group significantly increases the melting point due to its strong electron-withdrawing nature and the potential for intermolecular interactions, estimated at +100. The furyl groups, each of which is aromatic and contributes to π-π stacking, are estimated to raise the melting point by +50 each. The prop-2-en-1-one structure, which includes a carbonyl group, contributes to the melting point due to its planarity and potential for dipole-dipole interactions, estimated at +30. However, the overall molecule size and potential steric hindrance could reduce the impact of these groups on the melting point. Considering both the nitro group, furyl groups, and the prop-2-en-1-one structure, the estimate is an additive effect. However, given the size and complexity of the molecule, some negative contribution due to steric hindrance is likely, for which we will subtract 10 from the total estimate.\n",
      "##Prediction: 105.0\n",
      "\n",
      "\n",
      "#Prediction\n",
      "actual:  147.0 predicted:  105.0\n",
      "promlem 47 / 50\n"
     ]
    },
    {
     "name": "stderr",
     "output_type": "stream",
     "text": [
      " 94%|█████████▍| 47/50 [36:18<02:26, 48.71s/it]"
     ]
    },
    {
     "name": "stdout",
     "output_type": "stream",
     "text": [
      "----\n",
      "\n",
      "\n",
      "The basic unit, butane, has a melting point of -138.4°C. The addition of a thiol group (-SH) to the molecule will increase the melting point due to the ability of the sulfur atom to form hydrogen bonds, estimated at +20°C.\n",
      "##Prediction: -118.0\n",
      "\n",
      "\n",
      "#Prediction\n",
      "actual:  -116.0 predicted:  -118.0\n",
      "promlem 48 / 50\n"
     ]
    },
    {
     "name": "stderr",
     "output_type": "stream",
     "text": [
      " 96%|█████████▌| 48/50 [36:52<01:28, 44.33s/it]"
     ]
    },
    {
     "name": "stdout",
     "output_type": "stream",
     "text": [
      "----\n",
      "\n",
      "\n",
      "- Basic unit, benzene, has a melting point of 5.5 °C.\n",
      "- Trifluoromethoxy group: +20°C, due to the strong electronegativity of fluorine and the polarity of the oxygen, which increases intermolecular forces.\n",
      "- Carboxylic acid group: +100°C, due to the ability to form strong hydrogen bonds and the rigidity it introduces to the molecule.\n",
      "##Prediction: 125.0\n",
      "\n",
      "\n",
      "#Prediction\n",
      "actual:  79.0 predicted:  125.0\n",
      "promlem 49 / 50\n"
     ]
    },
    {
     "name": "stderr",
     "output_type": "stream",
     "text": [
      " 98%|█████████▊| 49/50 [37:25<00:40, 40.88s/it]"
     ]
    },
    {
     "name": "stdout",
     "output_type": "stream",
     "text": [
      "----\n",
      "\n",
      "\n",
      "The compound in question is dichlorodifluoromethane, which has a melting point of -104.5 degrees Celsius. The presence of chlorine and fluorine atoms significantly increases the melting point due to their high electronegativity and the resulting strong dipole-dipole interactions. Each chlorine atom adds approximately +20 degrees, and each fluorine atom adds approximately +15 degrees. The molecule's linear shape and the presence of two chlorine atoms and two fluorine atoms contribute to a higher melting point.\n",
      "##Prediction: -104.5\n",
      "\n",
      "\n",
      "#Prediction\n",
      "actual:  -158.0 predicted:  -104.5\n",
      "promlem 50 / 50\n"
     ]
    },
    {
     "name": "stderr",
     "output_type": "stream",
     "text": [
      "100%|██████████| 50/50 [38:02<00:00, 45.65s/it]"
     ]
    },
    {
     "name": "stdout",
     "output_type": "stream",
     "text": [
      "----\n",
      "\n",
      "\n",
      "The base structure for the target compound is benzene, which has a melting point of 5.5 degrees Celsius. The addition of a bromine atom to the benzene ring increases the molecular weight and size, which typically raises the melting point due to increased van der Waals forces. Bromine is a larger atom than hydrogen, so it adds more to the melting point than hydrogen would. The effect of a bromine atom can be estimated at around +20 degrees Celsius. The nitro group is a strong electron-withdrawing group that can form strong intermolecular interactions, such as hydrogen bonding and dipole-dipole interactions, which significantly increases the melting point. The effect of a nitro group can be estimated at around +50 degrees Celsius.\n",
      "##Prediction: 75.0\n",
      "\n",
      "\n",
      "#Prediction\n",
      "actual:  84.0 predicted:  75.0\n"
     ]
    },
    {
     "name": "stderr",
     "output_type": "stream",
     "text": [
      "\n"
     ]
    }
   ],
   "source": [
    "#予測時のハイパラ\n",
    "n_prompt_examples=3 #何件の例題をprompt tuningで出すか\n",
    "n_max_trials=2  # 値を返さなかったときの再試行の最大数\n",
    "random.seed(0)\n",
    "prediction_results={}\n",
    "\n",
    "\n",
    "res_list=[]\n",
    "for test_id in tqdm(range(n_test)):\n",
    "    print(f\"promlem {test_id+1} / {n_test}\")\n",
    "    for _ in range(n_max_trials):\n",
    "        try:\n",
    "            prompt=generate_question_prompt(dataset,test_id,n_prompt_examples=n_prompt_examples)\n",
    "            reason,value=ask_value(prompt,model,tokenizer)\n",
    "        except Exception as e:\n",
    "            print(e)\n",
    "            continue\n",
    "\n",
    "\n",
    "        if value is not None:\n",
    "            record=copy.deepcopy(dataset[test_id])\n",
    "            record[\"Test (Predicted reason)\"]=reason\n",
    "            record[\"Test (Predicted value)\"]=value\n",
    "            res_list.append(record)\n",
    "            print(\"actual: \",record[\"mpC\"],\"predicted: \", record[\"Test (Predicted value)\"],)\n",
    "            break\n",
    "prediction_results[n_prompt_examples]=res_list"
   ]
  },
  {
   "cell_type": "code",
   "execution_count": 21,
   "metadata": {},
   "outputs": [
    {
     "data": {
      "image/png": "[encoded data removed]",
      "text/plain": [
       "<Figure size 640x480 with 1 Axes>"
      ]
     },
     "metadata": {},
     "output_type": "display_data"
    }
   ],
   "source": [
    "#plot\n",
    "import matplotlib.pyplot as plt\n",
    "import seaborn as sns\n",
    "from sklearn.metrics import mean_squared_error,mean_absolute_error,r2_score\n",
    "from datetime import datetime\n",
    "import json\n",
    "current_datetime = datetime.now()\n",
    "vmin=-200\n",
    "vmax=300\n",
    "\n",
    "#plot prediction results\n",
    "for n_prompt_examples,records in prediction_results.items():\n",
    "    sel_df=pd.DataFrame(records)\n",
    "    #floatに可能なものは変換\n",
    "    sel_df[\"Test (Predicted value)\"] = pd.to_numeric(sel_df[\"Test (Predicted value)\"], errors='coerce')\n",
    "    sel_df=sel_df[sel_df[\"Test (Predicted value)\"].notnull()]\n",
    "    if len(sel_df)==0:\n",
    "        continue\n",
    "    mse=mean_squared_error(sel_df[\"mpC\"],sel_df[\"Test (Predicted value)\"])\n",
    "\n",
    "    plt.figure()\n",
    "    sns.scatterplot(data=sel_df,x=\"mpC\",y=\"Test (Predicted value)\")\n",
    "    plt.title(f\"n_prompt_examples={n_prompt_examples} MSE={mse:.0f}\")\n",
    "\n",
    "    #x,yの範囲を揃える\n",
    "    plt.xlim(vmin,vmax)\n",
    "    plt.ylim(vmin,vmax)\n",
    "    #対角線を描く\n",
    "    plt.plot([vmin,vmax],[vmin,vmax],color=\"gray\")\n",
    "    formatted_filename = f\"results/model={model_size}_{current_datetime.strftime('%Y%m%d_%H%M%S')}_train={do_train}.png\"\n",
    "    plt.savefig(formatted_filename)\n",
    "    #break\n",
    "\n",
    "save_json_filename=formatted_filename.replace(\".png\",\".json\")\n",
    "with open(save_json_filename,\"w\") as f:\n",
    "    json.dump(prediction_results,fp=f,\n",
    "              indent=4)"
   ]
  },
  {
   "cell_type": "code",
   "execution_count": 22,
   "metadata": {},
   "outputs": [
    {
     "name": "stdout",
     "output_type": "stream",
     "text": [
      "3777.0262500000003\n",
      "47.025000000000006\n",
      "0.6584806106384561\n"
     ]
    }
   ],
   "source": [
    "#スコア\n",
    "print(mean_squared_error(sel_df[\"mpC\"],sel_df[\"Test (Predicted value)\"]))\n",
    "print(mean_absolute_error(sel_df[\"mpC\"],sel_df[\"Test (Predicted value)\"]))\n",
    "print(r2_score(sel_df[\"mpC\"],sel_df[\"Test (Predicted value)\"]))\n"
   ]
  },
  {
   "cell_type": "code",
   "execution_count": 23,
   "metadata": {},
   "outputs": [
    {
     "data": {
      "text/plain": [
       "0.96"
      ]
     },
     "execution_count": 23,
     "metadata": {},
     "output_type": "execute_result"
    }
   ],
   "source": [
    "#回答可能な問題の割合\n",
    "sel_df.shape[0]/n_test"
   ]
  },
  {
   "cell_type": "code",
   "execution_count": null,
   "metadata": {},
   "outputs": [],
   "source": []
  }
 ],
 "metadata": {
  "kernelspec": {
   "display_name": "chemllm",
   "language": "python",
   "name": "python3"
  },
  "language_info": {
   "codemirror_mode": {
    "name": "ipython",
    "version": 3
   },
   "file_extension": ".py",
   "mimetype": "text/x-python",
   "name": "python",
   "nbconvert_exporter": "python",
   "pygments_lexer": "ipython3",
   "version": "3.10.0"
  }
 },
 "nbformat": 4,
 "nbformat_minor": 2
}
