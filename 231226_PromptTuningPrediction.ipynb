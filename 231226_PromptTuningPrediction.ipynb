{
 "cells": [
  {
   "cell_type": "code",
   "execution_count": 14,
   "metadata": {},
   "outputs": [],
   "source": [
    "#分子構造ー理由ー融点データセットから物性予測"
   ]
  },
  {
   "cell_type": "code",
   "execution_count": 15,
   "metadata": {},
   "outputs": [],
   "source": [
    "import glob\n",
    "import pandas as pd\n",
    "import json\n",
    "import matplotlib.pyplot as plt\n",
    "import seaborn as sns\n",
    "import random\n",
    "random.seed(0)\n",
    "\n"
   ]
  },
  {
   "cell_type": "markdown",
   "metadata": {},
   "source": [
    "# LLMで生成したデータセットの読み込みとクリーニング"
   ]
  },
  {
   "cell_type": "code",
   "execution_count": 16,
   "metadata": {},
   "outputs": [],
   "source": [
    "json_dir=\"dataset/231225AutoReasoning/\"\n",
    "\n",
    "json_path_list=glob.glob(json_dir+\"*.json\")\n",
    "\n",
    "def load_json(path):\n",
    "    with open(path,\"r\") as f:\n",
    "        d=json.load(f)\n",
    "\n",
    "    return d\n",
    "\n",
    "def select_best_reason_record(data):\n",
    "    min_error = float('inf')\n",
    "    min_error_dict = None\n",
    "\n",
    "    for item in data:\n",
    "        # Prediction(integer)がNoneでないアイテムだけを考慮\n",
    "        if 'Prediction(integer)' in item:\n",
    "            # 絶対誤差の計算\n",
    "            error = abs(item['mpC'] - item['Prediction(integer)'])\n",
    "            item[\"Abs error\"]=error\n",
    "            # 最小誤差を更新\n",
    "            if error < min_error:\n",
    "                min_error = error\n",
    "                min_error_dict = item\n",
    "\n",
    "    return min_error_dict\n",
    "\n"
   ]
  },
  {
   "cell_type": "code",
   "execution_count": 17,
   "metadata": {},
   "outputs": [],
   "source": [
    "record_list=[]\n",
    "for path in json_path_list:\n",
    "    explanation_records=load_json(path)\n",
    "    best_record=select_best_reason_record(explanation_records)\n",
    "    record_list.append(best_record)"
   ]
  },
  {
   "cell_type": "code",
   "execution_count": 18,
   "metadata": {},
   "outputs": [],
   "source": [
    "record_list=[i for i in record_list if i is not None]"
   ]
  },
  {
   "cell_type": "code",
   "execution_count": 19,
   "metadata": {},
   "outputs": [
    {
     "data": {
      "text/plain": [
       "(384, 9)"
      ]
     },
     "execution_count": 19,
     "metadata": {},
     "output_type": "execute_result"
    }
   ],
   "source": [
    "df=pd.DataFrame(record_list)\n",
    "cols=[ 'name', 'smiles', 'csid', 'link', 'source', 'Reason','mpC',\n",
    "       'Prediction(integer)',\"Abs error\" ]\n",
    "df=df[cols]\n",
    "df=df[df[\"Abs error\"]<=10]\n",
    "df.shape\n",
    "#df.to_csv(json_dir+\"best_reason_record.csv\",index=False)"
   ]
  },
  {
   "cell_type": "code",
   "execution_count": 20,
   "metadata": {},
   "outputs": [
    {
     "data": {
      "text/plain": [
       "<Axes: xlabel='mpC', ylabel='Prediction(integer)'>"
      ]
     },
     "execution_count": 20,
     "metadata": {},
     "output_type": "execute_result"
    },
    {
     "data": {
      "image/png": "[encoded data removed]",
      "text/plain": [
       "<Figure size 640x480 with 1 Axes>"
      ]
     },
     "metadata": {},
     "output_type": "display_data"
    }
   ],
   "source": [
    "#訓練データのプロット\n",
    "sns.scatterplot(data=df,x=\"mpC\",y=\"Prediction(integer)\")"
   ]
  },
  {
   "cell_type": "markdown",
   "metadata": {},
   "source": [
    "# プロンプトチューニングによる予測"
   ]
  },
  {
   "cell_type": "code",
   "execution_count": 21,
   "metadata": {},
   "outputs": [],
   "source": [
    "import openai\n",
    "\n",
    "system_prompt=\"You are a professional chemist. Predict the melting point of the following compound.\"\n",
    "\n",
    "\n",
    "def gen_compound_text(chemical_record,\n",
    "    reason=\"\",prediction=\"\",prefix=\"Example\"):\n",
    "    name=chemical_record[\"name\"]\n",
    "    smiles=chemical_record[\"smiles\"]\n",
    "    prompt=f\"\"\"\n",
    "#{prefix} Data\n",
    "##Name: {name}\n",
    "##SMILES: {smiles} \n",
    "##Reason: {reason}\n",
    "##Prediction: {prediction}\n",
    "\"\"\"\n",
    "    return prompt\n",
    "\n",
    "\n",
    "#ask gpt\n",
    "def json_generate(prompt,model=\"gpt-3.5-turbo-1106\"):\n",
    "    response = openai.chat.completions.create(\n",
    "    model=model,\n",
    "    messages=[\n",
    "        {\n",
    "            \"role\": \"system\",\n",
    "            \"content\": system_prompt,\n",
    "        },\n",
    "        {\n",
    "            \"role\": \"user\",\n",
    "            \"content\": f\"\"\"{prompt}\"\"\"\n",
    "        }  \n",
    "    ],\n",
    "    response_format={ \"type\": \"json_object\" }\n",
    "    )\n",
    "\n",
    "    return (json.loads(response.choices[0].message.content))\n",
    "\n",
    "\n",
    "#parse prediction\n",
    "def prediction_string_to_number(prompt,model=\"gpt-3.5-turbo-1106\"):\n",
    "    response = openai.chat.completions.create(\n",
    "    model=model,\n",
    "    messages=[\n",
    "        {\n",
    "            \"role\": \"system\",\n",
    "            \"content\": \"\"\"Extract integer from prediction. Use average if multiple numbers are included.\n",
    "            Examples:\n",
    "            In: 70.2 - 75.2 degrees Celsius\n",
    "            Out: 73\n",
    "            In: 75.2 degrees Celsius\n",
    "            Out: 73\n",
    "            In: For 1-naphthalenecarboxaldehyde, starting with the base value for naphthalene with a melting point of 80\\u00b0C and subtracting the estimated aldehyde effect of approximately -47 to -50\\u00b0C, the predicted melting point would be in the range of 30-33\\u00b0C.\n",
    "            Out: 32\n",
    "            \"\"\",\n",
    "        },\n",
    "        {\n",
    "            \"role\": \"user\",\n",
    "            \"content\": f\"\"\"{prompt}\n",
    "\"#Output (JSON keys)\n",
    "- Prediction\"\"\"\n",
    "        }  \n",
    "    ],\n",
    "    response_format={ \"type\": \"json_object\" }\n",
    "    )\n",
    "\n",
    "    return (json.loads(response.choices[0].message.content))"
   ]
  },
  {
   "cell_type": "code",
   "execution_count": 22,
   "metadata": {},
   "outputs": [],
   "source": [
    "dataset=df.to_dict(orient=\"records\")\n",
    "\n",
    "\n",
    "def generate_question_prompt(dataset,test_id,n_prompt_examples=5):\n",
    "    train_ids=[i for i in range(len(dataset))]\n",
    "    train_ids.remove(test_id)\n",
    "    prompt=\"\"\n",
    "\n",
    "    #train prompt\n",
    "    for _ in range(n_prompt_examples):\n",
    "        id=random.choice(train_ids)\n",
    "        prompt+=gen_compound_text(dataset[id],\n",
    "                                reason=dataset[id][\"Reason\"],\n",
    "                                prediction=dataset[id][\"Prediction(integer)\"])\n",
    "        prompt+=\"\\n\"\n",
    "\n",
    "    #test prompt\n",
    "    prompt+=gen_compound_text(dataset[test_id],prefix=\"Test\")\n",
    "    prompt+=\"\"\"\n",
    "    #Output (JSON keys): Reason, Prediction\n",
    "    \"\"\"\n",
    "\n",
    "    return prompt"
   ]
  },
  {
   "cell_type": "code",
   "execution_count": 23,
   "metadata": {},
   "outputs": [],
   "source": [
    "\n",
    "model=\"gpt-4-1106-preview\"\n",
    "#model=\"gpt-3.5-turbo-1106\""
   ]
  },
  {
   "cell_type": "code",
   "execution_count": 24,
   "metadata": {},
   "outputs": [],
   "source": [
    "import copy\n",
    "import time\n",
    "prediction_results={}\n",
    "\n",
    "\n",
    "#do prediction with prompt tuning\n",
    "time.sleep(6000)\n",
    "n_problems=10\n",
    "for n_prompt_examples in [0,1,5,10]:\n",
    "    res_list=[]\n",
    "    for test_id in range(n_problems):\n",
    "        try:\n",
    "            prompt=generate_question_prompt(dataset,test_id)\n",
    "            r=json_generate(prompt,model=model)\n",
    "            time.sleep(600)\n",
    "            record=copy.deepcopy(dataset[test_id])\n",
    "\n",
    "            record[\"Test (Predicted reason)\"]=r[\"Reason\"]\n",
    "            record[\"Test (Predicted value)\"]=prediction_string_to_number(r[\"Prediction\"])[\"Prediction\"]\n",
    "            res_list.append(record)\n",
    "            print(record)\n",
    "        except Exception as e:\n",
    "            print(e)\n",
    "            time.sleep(3000)\n",
    "            continue\n",
    "\n",
    "    prediction_results[n_prompt_examples]=res_list\n",
    "\n",
    "    #break"
   ]
  },
  {
   "cell_type": "code",
   "execution_count": null,
   "metadata": {},
   "outputs": [
    {
     "ename": "NameError",
     "evalue": "name 'prediction_results' is not defined",
     "output_type": "error",
     "traceback": [
      "\u001b[0;31m---------------------------------------------------------------------------\u001b[0m",
      "\u001b[0;31mNameError\u001b[0m                                 Traceback (most recent call last)",
      "Cell \u001b[0;32mIn[1], line 7\u001b[0m\n\u001b[1;32m      4\u001b[0m vmax\u001b[38;5;241m=\u001b[39m\u001b[38;5;241m350\u001b[39m\n\u001b[1;32m      6\u001b[0m \u001b[38;5;66;03m#plot prediction results\u001b[39;00m\n\u001b[0;32m----> 7\u001b[0m \u001b[38;5;28;01mfor\u001b[39;00m n_prompt_examples,records \u001b[38;5;129;01min\u001b[39;00m \u001b[43mprediction_results\u001b[49m\u001b[38;5;241m.\u001b[39mitems():\n\u001b[1;32m      8\u001b[0m     sel_df\u001b[38;5;241m=\u001b[39mpd\u001b[38;5;241m.\u001b[39mDataFrame(records)\n\u001b[1;32m      9\u001b[0m     \u001b[38;5;66;03m#floatに可能なものは変換\u001b[39;00m\n",
      "\u001b[0;31mNameError\u001b[0m: name 'prediction_results' is not defined"
     ]
    }
   ],
   "source": [
    "from sklearn.metrics import mean_squared_error\n",
    "\n",
    "vmin=0\n",
    "vmax=350\n",
    "\n",
    "#plot prediction results\n",
    "for n_prompt_examples,records in prediction_results.items():\n",
    "    sel_df=pd.DataFrame(records)\n",
    "    #floatに可能なものは変換\n",
    "    sel_df[\"Test (Predicted value)\"] = pd.to_numeric(sel_df[\"Test (Predicted value)\"], errors='coerce')\n",
    "    sel_df=sel_df[sel_df[\"Test (Predicted value)\"].notnull()]\n",
    "    mse=mean_squared_error(sel_df[\"mpC\"],sel_df[\"Test (Predicted value)\"])\n",
    "\n",
    "    plt.figure()\n",
    "    sns.scatterplot(data=sel_df,x=\"mpC\",y=\"Test (Predicted value)\")\n",
    "    plt.title(f\"n_prompt_examples={n_prompt_examples} MSE={mse:.0f}\")\n",
    "\n",
    "    #x,yの範囲を揃える\n",
    "    plt.xlim(vmin,vmax)\n",
    "    plt.ylim(vmin,vmax)\n",
    "    #対角線を描く\n",
    "    plt.plot([vmin,vmax],[vmin,vmax],color=\"gray\")\n",
    "    #break"
   ]
  },
  {
   "cell_type": "code",
   "execution_count": null,
   "metadata": {},
   "outputs": [],
   "source": [
    "with open(f\"results/231226_PromptTuningPrediction_ijpynb_{model}.json\",\"w\") as f:\n",
    "    json.dump(prediction_results,f,indent=4)"
   ]
  },
  {
   "cell_type": "code",
   "execution_count": null,
   "metadata": {},
   "outputs": [],
   "source": []
  }
 ],
 "metadata": {
  "kernelspec": {
   "display_name": "chemllm",
   "language": "python",
   "name": "python3"
  },
  "language_info": {
   "codemirror_mode": {
    "name": "ipython",
    "version": 3
   },
   "file_extension": ".py",
   "mimetype": "text/x-python",
   "name": "python",
   "nbconvert_exporter": "python",
   "pygments_lexer": "ipython3",
   "version": "3.10.0"
  }
 },
 "nbformat": 4,
 "nbformat_minor": 2
}
