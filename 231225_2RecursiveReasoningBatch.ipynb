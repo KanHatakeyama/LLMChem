{
 "cells": [
  {
   "cell_type": "code",
   "execution_count": 1,
   "metadata": {},
   "outputs": [],
   "source": [
    "#再帰的に構造ー物性相関データセットから理由を生成させるNotebook\n",
    "#バッチ処理\n",
    "\n",
    "#ライブラリの自動インポート\n",
    "%reload_ext autoreload\n",
    "%autoreload 2"
   ]
  },
  {
   "cell_type": "code",
   "execution_count": 2,
   "metadata": {},
   "outputs": [],
   "source": [
    "import openai\n",
    "from tqdm import tqdm\n",
    "import pandas as pd\n",
    "import os\n",
    "import glob\n",
    "import json\n",
    "import copy"
   ]
  },
  {
   "cell_type": "code",
   "execution_count": 3,
   "metadata": {},
   "outputs": [],
   "source": [
    "#環境構築からapi keyを読み込み\n",
    "openai.api_key =os.environ[\"OPENAI_API_KEY\"]"
   ]
  },
  {
   "cell_type": "code",
   "execution_count": 4,
   "metadata": {},
   "outputs": [
    {
     "data": {
      "text/plain": [
       "[{'mpC': 87.0,\n",
       "  'name': '((5-((Diphenylphosphino)methyl)-2,2-dimethyl-1,3-dioxolan-4-yl)methyl)(diphenyl)phosphine',\n",
       "  'smiles': 'P(CC1OC(OC1CP(c1ccccc1)c1ccccc1)(C)C)(c1ccccc1)c1ccccc1',\n",
       "  'csid': 109291,\n",
       "  'link': 'http://dx.doi.org/10.1021/ci0500132',\n",
       "  'source': 'Karthikeyan M.; Glen R.C.; Bender A. General melting point prediction based on a diverse compound dataset and artificial neural networks. J. Chem. Inf. Model.; 2005; 45(3); 581-4277'}]"
      ]
     },
     "execution_count": 4,
     "metadata": {},
     "output_type": "execute_result"
    }
   ],
   "source": [
    "#laod dataset as dict\n",
    "csv_path=\"dataset/BradleyMeltingPointDataset_clean.csv\"\n",
    "df=pd.read_csv(csv_path)\n",
    "chemical_records=df.to_dict(orient='records')\n",
    "chemical_records[:1]"
   ]
  },
  {
   "cell_type": "code",
   "execution_count": 5,
   "metadata": {},
   "outputs": [],
   "source": [
    "model=\"gpt-4-1106-preview\""
   ]
  },
  {
   "cell_type": "code",
   "execution_count": 6,
   "metadata": {},
   "outputs": [],
   "source": [
    "system_prompt=\"\"\"\n",
    "Provide the quantitative Reason and Prediction so that a scientist, who does not know the melting point, can predict the value.\n",
    "\n",
    "#Commands\n",
    "- You must quantitatively consider how the melting point shifts, focusing on each functional groups.\n",
    "- Actual value and Prediction must match each other.\n",
    "- If Actual value and Prediction differ each other, rethink Reason.\n",
    "- If Prediction does not contain numbers for each functional group effect, rethink Reason\n",
    "\n",
    "#Example reason\n",
    "- Target compound: Toluene\n",
    "- Basic unit, benzene has a boiling point of 80.\n",
    "- Methyl group: +30 (due to larger molecular weight)\n",
    "- Prediction: 110\n",
    "\n",
    "\"\"\""
   ]
  },
  {
   "cell_type": "code",
   "execution_count": 7,
   "metadata": {},
   "outputs": [],
   "source": [
    "def gen_prompt(chemical_record,reason=\"\",prediction=\"\"):\n",
    "    name=chemical_record[\"name\"]\n",
    "    smiles=chemical_record[\"smiles\"]\n",
    "    value=chemical_record[\"mpC\"]\n",
    "    prompt=f\"\"\"\n",
    "#Data\n",
    "-Name: {name}\n",
    "-SMILES: {smiles} \n",
    "-Actual value: {value}\n",
    "-Reason: {reason}\n",
    "-Prediction: {prediction}\n",
    "\n",
    "#Output (JSON keys)\n",
    "- Reason, Prediction\n",
    "\"\"\"\n",
    "    return prompt\n"
   ]
  },
  {
   "cell_type": "code",
   "execution_count": 8,
   "metadata": {},
   "outputs": [],
   "source": [
    "import json\n",
    "\n",
    "#ask gpt\n",
    "def json_generate(prompt,model=\"gpt-3.5-turbo-1106\"):\n",
    "    response = openai.chat.completions.create(\n",
    "    model=model,\n",
    "    messages=[\n",
    "        {\n",
    "            \"role\": \"system\",\n",
    "            \"content\": system_prompt,\n",
    "        },\n",
    "        {\n",
    "            \"role\": \"user\",\n",
    "            \"content\": f\"\"\"{prompt}\"\"\"\n",
    "        }  \n",
    "    ],\n",
    "    response_format={ \"type\": \"json_object\" }\n",
    "    )\n",
    "\n",
    "    return (json.loads(response.choices[0].message.content))\n",
    "\n",
    "\n",
    "#parse prediction\n",
    "def prediction_string_to_number(prompt,model=\"gpt-3.5-turbo-1106\"):\n",
    "    response = openai.chat.completions.create(\n",
    "    model=model,\n",
    "    messages=[\n",
    "        {\n",
    "            \"role\": \"system\",\n",
    "            \"content\": \"\"\"Extract integer from prediction. Use average if multiple numbers are included.\n",
    "            Examples:\n",
    "            In: 70.2 - 75.2 degrees Celsius\n",
    "            Out: 73\n",
    "            In: 75.2 degrees Celsius\n",
    "            Out: 73\n",
    "            In: For 1-naphthalenecarboxaldehyde, starting with the base value for naphthalene with a melting point of 80\\u00b0C and subtracting the estimated aldehyde effect of approximately -47 to -50\\u00b0C, the predicted melting point would be in the range of 30-33\\u00b0C.\n",
    "            Out: 32\n",
    "            \"\"\",\n",
    "        },\n",
    "        {\n",
    "            \"role\": \"user\",\n",
    "            \"content\": f\"\"\"{prompt}\n",
    "\"#Output (JSON keys)\n",
    "- Prediction\"\"\"\n",
    "        }  \n",
    "    ],\n",
    "    response_format={ \"type\": \"json_object\" }\n",
    "    )\n",
    "\n",
    "    return (json.loads(response.choices[0].message.content))"
   ]
  },
  {
   "cell_type": "code",
   "execution_count": 10,
   "metadata": {},
   "outputs": [
    {
     "name": "stderr",
     "output_type": "stream",
     "text": [
      "100%|██████████| 224/224 [00:00<00:00, 36127.21it/s]\n"
     ]
    }
   ],
   "source": [
    "\n",
    "save_base_path=\"dataset/231225AutoReasoning/\"\n",
    "\n",
    "\n",
    "#load finished records\n",
    "gen_records={}\n",
    "gen_json_path_list=glob.glob(save_base_path+\"*.json\")\n",
    "for gen_json_path in tqdm(gen_json_path_list):\n",
    "    with open(gen_json_path) as f:\n",
    "        gen_hist=json.load(f)\n",
    "    gen_records[gen_hist[0][\"name\"]]=gen_hist"
   ]
  },
  {
   "cell_type": "code",
   "execution_count": 11,
   "metadata": {},
   "outputs": [],
   "source": [
    "import re\n",
    "\n",
    "def remove_non_alphabet_characters(s):\n",
    "    # Using regex to remove all non-alphabet characters\n",
    "    return re.sub('[^a-zA-Z]', '', s)"
   ]
  },
  {
   "cell_type": "code",
   "execution_count": 12,
   "metadata": {},
   "outputs": [],
   "source": [
    "n_recursion=2\n",
    "n_random_repeat=3\n",
    "error_threshold=10"
   ]
  },
  {
   "cell_type": "code",
   "execution_count": 13,
   "metadata": {},
   "outputs": [
    {
     "name": "stderr",
     "output_type": "stream",
     "text": [
      "  0%|          | 0/24889 [00:00<?, ?it/s]"
     ]
    },
    {
     "name": "stdout",
     "output_type": "stream",
     "text": [
      "Skip because already generated: ((5-((Diphenylphosphino)methyl)-2,2-dimethyl-1,3-dioxolan-4-yl)methyl)(diphenyl)phosphine\n",
      "Skip because already generated: (+)-alpha-pinene\n",
      "Skip because already generated: (+)-camphene\n",
      "Skip because already generated: (+)-fenchol\n",
      "Skip because already generated: (+)-isomenthol\n",
      "Skip because already generated: (+)-perseitol\n",
      "Skip because already generated: (+-)camphor\n",
      "Skip because already generated: (+/+)-ibuprofen\n",
      "Skip because already generated: (+/+)-indoprofen\n",
      "Skip because already generated: (+/+)-ketoprofen\n",
      "Skip because already generated: (-)-2-amino-3-phenyl-1-propanol\n",
      "Skip because already generated: (-)-beta-caryophyllene epoxide\n",
      "Skip because already generated: (-)-levonorgestrel\n",
      "Skip because already generated: (-)-menthone\n",
      "Skip because already generated: (1'S,3aR,4R,6'S,7aR,9'R,10'S)-7a,10'-Dimethyltetrahydro-1H,11'H-spiro[2-benzofuran-4,5'-[3]oxatricyclo[7.2.1.0~1,6~]dodecane]-2',3,11'(3aH)-trione\n",
      "Skip because already generated: (1,1'-binaphthalene)-2,2'-diol\n",
      "Skip because already generated: (1,1'-biphenyl)-2,5-diol, diacetate\n",
      "Skip because already generated: (1,1'-biphenyl)-4,4'-dicarbonitrile\n",
      "Skip because already generated: (1,1'-biphenyl)-4-ol, 3-amino-\n",
      "Skip because already generated: (1,2,2,3-tetramethylcyclopentyl)methanol\n",
      "Skip because already generated: (1,2,2,3-tetramethylcyclopentyl)methyl 4,7,7-trimethyl-3-oxobicyclo[2.2.1]heptane-2-carboxylate\n",
      "Skip because already generated: (1,2,2,3-tetramethylcyclopentyl)methyl 4-aminobenzoate\n",
      "Skip because already generated: (1,2,2,3-tetramethylcyclopentyl)methyl 4-nitrobenzoate\n",
      "Skip because already generated: (1,2-dibromoethyl)benzene\n",
      "Skip because already generated: (1,4-Benzodioxan-2-ylmethyl)guanidine\n",
      "Skip because already generated: (1,4-diphenyl)-1,3-butadiene\n",
      "Skip because already generated: (1-Hydroxy-5,8-dihydronaphthalen-2-yl)(1-naphthyl)methanone\n",
      "Skip because already generated: (1-Hydroxyethane-1,1-diyl)bis(phosphonic acid)\n"
     ]
    },
    {
     "name": "stderr",
     "output_type": "stream",
     "text": [
      "  0%|          | 29/24889 [00:32<7:49:20,  1.13s/it]"
     ]
    },
    {
     "name": "stdout",
     "output_type": "stream",
     "text": [
      "Finished because good reasoning was achieved: (1-bromoethyl)benzene\n",
      "Skip because already generated: (1-methyl-1H-benzimidazol-2-yl)(3-nitropyridin-2-yl)acetonitrile\n",
      "Skip because already generated: (10S)-10-Hydroxy-10-(2-oxopropyl)phenanthren-9(10H)-one\n",
      "Skip because already generated: (11beta)-11,17,21-Trihydroxypregn-4-ene-3,20-dione\n",
      "Skip because already generated: (11beta)-11,17-Dihydroxy-3,20-dioxopregna-1,4-dien-21-yl acetate\n",
      "Skip because already generated: (13E,14aR,18aR,19E)-5,8,14a,15,16,17,18,18a-octahydrotribenzo[b,f,l][1,4,8,11]tetraazacyclotetradecine-6,7-dione\n",
      "Skip because already generated: (13Z)-Docos-13-enamide\n",
      "Skip because already generated: (13aS)-10-Hydroxy-9-methoxy-5,6,13,13a-tetrahydro-8H-[1,3]dioxolo[4,5-g]isoquinolino[3,2-a]isoquinolin-8-one\n",
      "Skip because already generated: (13cR)-13c-Methoxy-3,13c-dihydrodibenzo[a,kl]xanthen-1(2H)-one\n",
      "Skip because already generated: (17-oxoandrost-2-en-3-yl)acetic acid\n",
      "Skip because already generated: (17beta)-17-Ethynyl-3,17-dimethoxyestra-1,3,5(10)-triene\n",
      "Skip because already generated: (17beta)-17-Ethynylestra-1(10),2,4-triene-3,17-diol\n",
      "Skip because already generated: (17beta)-17-Hydroxyandrost-4-en-3-one\n",
      "Skip because already generated: (17beta)-3-Oxoandrost-4-ene-17-carboxylic acid\n",
      "Skip because already generated: (17beta)-Estra-1(10),2,4-triene-3,17-diol\n",
      "Skip because already generated: (1E)-1,4-diphenylbutane-1,2-dione 1-oxime\n",
      "Skip because already generated: (1E)-1-(1,2-dihydroacenaphthylen-5-yl)-N-hydroxy-2-phenylethanimine\n"
     ]
    },
    {
     "name": "stderr",
     "output_type": "stream",
     "text": [
      "  0%|          | 46/24889 [00:43<6:16:13,  1.10it/s]"
     ]
    },
    {
     "name": "stdout",
     "output_type": "stream",
     "text": [
      "Finished because good reasoning was achieved: (1E)-1-(1-naphthalen-1-yl-2-phenylethylidene)-2-phenylhydrazine\n",
      "Skip because already generated: (1E)-1-(1-naphthalen-2-yl-2-phenylethylidene)-2-phenylhydrazine\n",
      "Skip because already generated: (1E)-1-(2-bromo-5-methoxybicyclo[4.2.0]octa-1,3,5-trien-7-ylidene)-2-(2,4-dinitrophenyl)hydrazine\n",
      "Skip because already generated: (1E)-1-(4,7,7-trimethylbicyclo[2.2.1]hept-2-en-2-yl)propan-1-one oxime\n",
      "Skip because already generated: (1E)-1-Benzylidene-2-(2,4-dinitrophenyl)hydrazine\n",
      "Skip because already generated: (1E)-1-Phenyl-N-[(3,4,5,6-tetrafluoropyridin-2-yl)oxy]ethanimine\n",
      "Skip because already generated: (1E)-1-[(5-bromonaphthalen-1-yl)methylidene]-2-phenylhydrazine\n",
      "Skip because already generated: (1E)-1-[1-(1H-inden-2-yl)ethylidene]-2-phenylhydrazine\n",
      "Skip because already generated: (1E)-1-[4-(dimethylamino)phenyl]-5-phenylpent-1-en-3-one\n",
      "Skip because already generated: (1E)-1-benzylidene-2-(3-nitrophenyl)hydrazine\n",
      "Skip because already generated: (1E)-1-bicyclo[4.2.0]octa-1,3,5-trien-7-ylidene-2-(2,4-dinitrophenyl)hydrazine\n",
      "Skip because already generated: (1E)-1-bicyclo[4.2.0]octa-1,3,5-trien-7-ylidenepropan-2-one\n",
      "Skip because already generated: (1E)-1-hydroxy-5-phenylpent-1-en-3-one\n",
      "Skip because already generated: (1E)-1-{2-nitro-4-[(Z)-(2-phenylhydrazinylidene)methyl]benzylidene}-2-phenylhydrazine\n",
      "Skip because already generated: (1E)-2-hydrazino-2-thioxoethanehydrazonamide\n",
      "Skip because already generated: (1E)-3,6-dimethyl-2,3-dihydro-1H-inden-1-one semicarbazone\n",
      "Skip because already generated: (1E)-3-oxo-5-phenylpent-1-en-1-yl benzoate\n",
      "Skip because already generated: (1E)-5-(4-methylphenyl)-1-phenylhex-1-en-3-one\n",
      "Skip because already generated: (1E)-5-Isopropenyl-2-methyl-2-cyclohexen-1-one oxime\n",
      "Skip because already generated: (1E)-5-methyl-2-(1-methylethyl)cyclohexanone semicarbazone\n",
      "Skip because already generated: (1E)-N'-methyl-2-(2-methylhydrazino)-2-thioxoethanehydrazonamide\n",
      "Skip because already generated: (1E)-N,N'-bis(4-ethoxyphenyl)-2-[(4-ethoxyphenyl)amino]ethanimidamide\n",
      "Skip because already generated: (1E)-N,N'-bis(4-methoxyphenyl)-2-[(4-methoxyphenyl)amino]ethanimidamide\n",
      "Skip because already generated: (1E)-N,N'-bis(4-methylphenyl)-2-[(4-methylphenyl)amino]ethanimidamide\n",
      "Skip because already generated: (1E)-N,N'-dibiphenyl-4-yl-2-(biphenyl-4-ylamino)ethanimidamide\n",
      "Skip because already generated: (1E)-N-hydroxy-1-(4,7,7-trimethylbicyclo[2.2.1]hept-2-yl)ethanimine\n",
      "Skip because already generated: (1E)-N-hydroxy-1-(4,7,7-trimethylbicyclo[2.2.1]hept-2-yl)propan-1-imine\n"
     ]
    },
    {
     "name": "stderr",
     "output_type": "stream",
     "text": [
      "  0%|          | 73/24889 [01:07<6:13:36,  1.11it/s]"
     ]
    },
    {
     "name": "stdout",
     "output_type": "stream",
     "text": [
      "Finished because good reasoning was achieved: (1E)-N-hydroxy-1-(naphthalen-1-yl)-2-phenylethanimine\n",
      "Skip because already generated: (1E)-N-hydroxy-1-(naphthalen-2-yl)-2-phenylethanimine\n",
      "Skip because already generated: (1E)-nitroethanal semicarbazone\n",
      "Skip because already generated: (1E,1'E)-1,1'-{benzene-1,3-diylbis[(1E,2Z)-2-(phenylhydrazono)eth-1-yl-1-ylidene]}bis(2-phenylhydrazine)\n",
      "Skip because already generated: (1E,2E)-bis[4-(benzyloxy)-3-methoxybenzylidene]hydrazine\n",
      "Skip because already generated: (1E,3E)-3-[(benzoyloxy)imino]-2-methylbut-1-en-1-yl benzoate\n",
      "Skip because already generated: (1E,3Z)-4-(acetyloxy)-1,4-diphenylbuta-1,3-dien-1-yl acetate\n",
      "Skip because already generated: (1E,4E)-1,5-Di(2-naphthyl)-1,4-pentadien-3-one\n",
      "Skip because already generated: (1E,6E)-1,7-Bis(4-hydroxy-3-methoxyphenyl)hepta-1,6-diene-3,5-dione\n",
      "Skip because already generated: (1R)-3-Oxoindane-1-carboxylic acid\n",
      "Skip because already generated: (1R)-4-Oxo-1,2,3,4-tetrahydronaphthalene-1-carboxylic acid\n",
      "Skip because already generated: (1R)-4-[(2R)-3,3-Dimethylbutan-2-yl]-1-methyl-1H-2,3-benzodiazepine\n",
      "Skip because already generated: (1R)-camphor\n",
      "Skip because already generated: (1R)-camphor-10-sulfonic acid\n",
      "Skip because already generated: (1R)-camphor-10-sulfonyl chloride\n",
      "Skip because already generated: (1R)-camphorquinone\n",
      "Skip because already generated: (1R)-endo-fenchyl alcohol\n",
      "Skip because already generated: (1R,2R)-2-(2,6-Dimethoxyphenoxy)-1-(3,4-dimethoxyphenyl)propane-1,3-diol\n",
      "Skip because already generated: (1R,2R,11S,15R,19S)-19-Chloro-19-cyano-7-methoxy-14-methylpentacyclo[13.2.2.0~1,14~.0~2,11~.0~5,10~]nonadeca-5,7,9,16-tetraen-15-yl acetate\n",
      "Skip because already generated: (1R,2R,3R,4R,5S,6S)-1,2,3,4,5,6-Hexachlorocyclohexane\n",
      "Skip because already generated: (1R,2R,3R,4S)-Bicyclo[2.2.1]hept-5-ene-2,3-dicarboxylic acid\n",
      "Skip because already generated: (1R,2R,3R,6S,7S,8S)-1,8,9,10,11,11-Hexachlorotetracyclo[6.2.1.1~3,6~.0~2,7~]dodeca-4,9-diene\n",
      "Skip because already generated: (1R,2R,3S,4S)-Bicyclo[2.2.1]hept-5-ene-2,3-dicarboxylic acid\n",
      "Skip because already generated: (1R,2R,3S,4S)-Bicyclo[2.2.1]heptane-2,3-dicarboxylic acid\n",
      "Skip because already generated: (1R,2R,3S,6S,7S,9S,10S,11R,12S,13S,14R)-11-Isopropyl-3,7,10-trimethyl-15-oxapentacyclo[7.5.1.0~1,6~.0~7,13~.0~10,14~]pentadecane-2,6,9,12,13,14-hexol\n",
      "Skip because already generated: (1R,2R,4S,6S)-6-Hydroxybicyclo[2.2.1]heptane-2-carboxylic acid\n",
      "Skip because already generated: (1R,2R,5S,6S)-9-oxatricyclo[4.2.1.1~2,5~]dec-7-en-10-one\n",
      "Skip because already generated: (1R,2R,8S,9S)-1,9,10,11,12,12-Hexachloro-4,6-dioxa-5-thiatricyclo[7.2.1.0~2,8~]dodec-10-ene 5,5-dioxide\n",
      "Skip because already generated: (1R,2S)-2-(2,6-Dimethoxyphenoxy)-1-(3,4,5-trimethoxyphenyl)propane-1,3-diol\n",
      "Skip because already generated: (1R,2S)-2-(2,6-Dimethoxyphenoxy)-1-(4-hydroxy-3,5-dimethoxyphenyl)propane-1,3-diol\n",
      "Skip because already generated: (1R,2S)-2-(Methylamino)-1-phenylpropan-1-ol\n",
      "Skip because already generated: (1R,2S)-Cyclopentane-1,2-diol\n",
      "Skip because already generated: (1R,2S,3S,6R,7R,8S,9S,11R)-3,4,5,6,13,13-Hexachloro-10-oxapentacyclo[6.3.1.1~3,6~.0~2,7~.0~9,11~]tridec-4-ene\n",
      "Skip because already generated: (1R,2S,5R)-2-Isopropyl-5-methylcyclohexanol\n",
      "Skip because already generated: (1R,2S,5R,6S)-9-oxatricyclo[4.2.1.1~2,5~]dec-7-en-10-ol\n",
      "Skip because already generated: (1R,2s)-10,2-camphorsultam\n",
      "Skip because already generated: (1R,3R,4R,6S)-4,7,7-Trimethyl-5-oxobicyclo[4.1.0]heptane-3-carbonitrile\n",
      "Skip because already generated: (1R,3S)-camphoric acid\n",
      "Skip because already generated: (1R,3aR,5aS,8aS)-5a-{[tert-Butyl(dimethyl)silyl]oxy}octahydro-1,8-methanocyclopenta[c]pentalen-2(1H)-one\n",
      "Skip because already generated: (1R,4R)-1,4-Dimethylcyclododeca-5,11-diyne-1,4-diol\n",
      "Skip because already generated: (1R,4R,6R,8R)-4-tert-Butyl-8-(pentafluorophenyl)-7-oxabicyclo[4.2.0]oct-1-yl acetate\n",
      "Skip because already generated: (1R,4S)-1,4-Dimethylcyclotrideca-5,12-diyne-1,4-diol\n",
      "Skip because already generated: (1R,4S,5S)-4-chloro-2,2-dimethyl-8-oxabicyclo[3.2.1]octan-3-ol\n",
      "Skip because already generated: (1R,4S,5S,8S,10R,11S)-4-tert-Butoxy-11-chloro-5-methyl-10-(methylsulfanyl)tricyclo[6.2.1.0~1,5~]undecan-9-one\n",
      "Skip because already generated: (1R,5R,6R)-1'-Acetyl-3-methyl-5-phenylspiro[2,7-dioxa-4-azabicyclo[3.2.0]hept-3-ene-6,3'-indol]-2'(1'H)-one\n",
      "Skip because already generated: (1R,5S)-1,5-Dichloro-3,6,6-triphenyl-3-azabicyclo[3.2.0]heptane-2,4-dione\n",
      "Skip because already generated: (1R,5S)-1,5-Dichloro-3,6-diphenyl-3-azabicyclo[3.2.0]hept-6-ene-2,4-dione\n",
      "Skip because already generated: (1R,5S)-2,2,5-Trimethyl-7-phenyl-6-oxa-7-azabicyclo[3.2.2]non-8-en-4-one\n",
      "Skip because already generated: (1R,5S,6s)-6-(Methoxycarbonyl)bicyclo[3.1.0]hexane-6-carboxylic acid\n",
      "Skip because already generated: (1R,7S)-1,3,4,7,8,9,10,10-Octachlorotricyclo[5.2.1.0~2,6~]dec-8-ene\n",
      "Skip because already generated: (1R,9S)-4,5,6,9-Tetramethoxy-11-phenyl-10-oxa-11-azatricyclo[7.2.2.0~2,7~]trideca-2,4,6,12-tetraen-8-one\n",
      "Skip because already generated: (1S)-1,5-Anhydro-1-[(9R)-4,5-dihydroxy-2-(hydroxymethyl)-10-oxo-9,10-dihydroanthracen-9-yl]-D-glucitol\n",
      "Skip because already generated: (1S)-1,7,7-Trimethylbicyclo[2.2.1]heptan-2-one\n",
      "Skip because already generated: (1S)-4-[(1R)-1-Methoxy-2,2-dimethylpropyl]-1-methyl-1H-2,3-benzodiazepine\n",
      "Skip because already generated: (1S)-4-[(3S)-2,2-Dimethylpentan-3-yl]-1-methyl-1H-2,3-benzodiazepine\n",
      "Skip because already generated: (1S)-camphanic acid\n",
      "Skip because already generated: (1S)-camphanic chloride\n",
      "Skip because already generated: (1S)-camphor\n",
      "Skip because already generated: (1S)-camphor-10-sulfonyl chloride\n",
      "Skip because already generated: (1S)-camphorquinone\n",
      "Skip because already generated: (1S)-camphorsulfonylimine\n",
      "Skip because already generated: (1S,2R)-1-phenyl-2-(1-pyrrolidinyl)-1-propanol\n",
      "Skip because already generated: (1S,2R)-10,2-camphorsultam\n",
      "Skip because already generated: (1S,2R,8S)-14-Oxa-7-azatetracyclo[6.6.1.0~1,11~.0~2,7~]pentadeca-9,11-dien-13-one\n",
      "Skip because already generated: (1S,2R,9S,10S)-3,15-Diazatetracyclo[7.7.1.0~2,7~.0~10,15~]heptadec-7-ene\n",
      "Skip because already generated: (1S,2S)-Cyclopentane-1,2-diol\n",
      "Skip because already generated: (1S,2S,5S)-4,6,6-Trimethylbicyclo[3.1.1]hept-3-en-2-ol\n",
      "Skip because already generated: (1S,3R,5R,6S,8R,10R,11S,13R,15R,16S,18R,20R,21S,23R,25R,26S,28R,30R,31S,33R,35R,36R,37R,38R,39R,40R,41R,42R,43R,44R,45R,46R,47R,48R,49R)-5,10,15,20,25,30,35-Heptakis(hydroxymethyl)-2,4,7,9,12,14,17,19,22,24,27,29,32,34-tetradecaoxaoctacyclo[31.2.2.2~3,6~.2~8,11~.2~13,16~.2~18,21~.2~23,26~.2~28,31~]nonatetracontane-36,37,38,39,40,41,42,43,44,45,46,47,48,49-tetradecol (non-preferred name)\n",
      "Skip because already generated: (1S,3aR,4S,6aR)-Tetrahydro-1H,3H-furo[3,4-c]furan-1,4-diylbis-2-methoxy-4,1-phenylene diacetate\n",
      "Skip because already generated: (1S,4S)-2-boc-2,5-diazabicyclo[2.2.1]heptane\n",
      "Skip because already generated: (1S,4S)-Cyclododeca-5,11-diyne-1,4-diol\n",
      "Skip because already generated: (1S,5R)-2,2,4,4-tetrachloro-6-methyl-8-oxabicyclo[3.2.1]oct-6-en-3-one\n",
      "Skip because already generated: (1S,5R,7R)-1,5-Dichloro-3-methyl-6-methylene-7-phenyl-3-azabicyclo[3.2.0]heptane-2,4-dione\n",
      "Skip because already generated: (1S,5S,6S)-1'-Acetyl-1,3-diphenylspiro[2,7-dioxa-4-azabicyclo[3.2.0]hept-3-ene-6,3'-indol]-2'(1'H)-one\n",
      "Skip because already generated: (1S,7R)-1,5,7,8,9,10,10-Heptachlorotricyclo[5.2.1.0~2,6~]deca-3,8-diene\n",
      "Skip because already generated: (1S,7aR)-7-[({(2R)-2,3-Dihydroxy-2-[(1S)-1-methoxyethyl]-3-methylbutanoyl}oxy)methyl]-2,3,5,7a-tetrahydro-1H-pyrrolizin-1-yl (2Z)-2-methylbut-2-enoate (non-preferred name)\n",
      "Skip because already generated: (1S,8S)-13-Bromo-3,6-dimethyl-1-(2-methylbenzyl)pentacyclo[6.6.6.0~2,7~.0~9,14~.0~15,20~]icosa-2,4,6,9,11,13,15,17,19-nonaene\n",
      "Skip because already generated: (1Z)-1,2-bis(4-aminophenyl)ethanone oxime\n",
      "Skip because already generated: (1Z)-1,2-diphenylethanone O-(phenylcarbonyl)oxime\n",
      "Skip because already generated: (1Z)-1-(1-methyl-2-phenylethylidene)-2-phenylhydrazine\n",
      "Skip because already generated: (1Z)-1-(2,5-dimethylcyclopent-2-en-1-ylidene)-2-(2,4-dinitrophenyl)hydrazine\n",
      "Skip because already generated: (1Z)-1-(4,7,7-trimethylbicyclo[2.2.1]hept-2-en-2-yl)ethanone semicarbazone\n",
      "Skip because already generated: (1Z)-1-(4,7,7-trimethylbicyclo[2.2.1]hept-2-en-2-yl)propan-1-one semicarbazone\n",
      "Skip because already generated: (1Z)-1-(4-bromo-5-methoxybicyclo[4.2.0]octa-1,3,5-trien-7-ylidene)-2-(2,4-dinitrophenyl)hydrazine\n",
      "Skip because already generated: (1Z)-1-[(2E)-1,3-dimethyl-5-phenylpent-2-en-4-yn-1-ylidene]-2-(2,4-dinitrophenyl)hydrazine\n",
      "Skip because already generated: (1Z)-1-[(2E)-1-benzyl-3-phenyl-2-(phenylhydrazono)propylidene]-2-phenylhydrazine\n",
      "Skip because already generated: (1Z)-1-[(2E)-3-biphenyl-4-yl-1-methylbut-2-en-1-ylidene]-2-(2,4-dinitrophenyl)hydrazine\n",
      "Skip because already generated: (1Z)-1-[(2E,4E)-1,3-dimethyl-5-phenylpenta-2,4-dien-1-ylidene]-2-(2,4-dinitrophenyl)hydrazine\n",
      "Skip because already generated: (1Z)-1-[2-(5-chloro-2,4-dinitrophenyl)-1,2-diphenylethylidene]-2-phenylhydrazine\n",
      "Skip because already generated: (1Z)-1-[2-cyclohexyl-1-(4-methoxyphenyl)butylidene]-2-(2,4-dinitrophenyl)hydrazine\n",
      "Skip because already generated: (1Z)-1-cyclobuta[a]naphthalen-2(1H)-ylidene-2-(2,4-dinitrophenyl)hydrazine\n",
      "Skip because already generated: (1Z)-1-{(2E)-1-benzyl-2-[(4-nitrophenyl)hydrazono]-3-phenylpropylidene}-2-(4-nitrophenyl)hydrazine\n",
      "Skip because already generated: (1Z)-2,2,2-Trifluoro-N-[(1Z)-2,2,2-trifluoro-N-hydroxyethanimidoyl]ethanehydrazonoyl chloride\n",
      "Skip because already generated: (1Z)-2-methyl-3-phenyl-1H-inden-1-one semicarbazone\n",
      "Skip because already generated: (1Z)-3-(hydroxyamino)-1,3-diphenylpropan-1-one oxime\n",
      "Skip because already generated: (1Z)-3-methyl-6-(1-methylethyl)cyclohex-2-en-1-one semicarbazone\n",
      "Skip because already generated: (1Z,1'Z)-1,1'-(1,4-dihydroquinoxaline-2,3-diylidene)bis(4,4-dimethylpentan-2-one)\n",
      "Skip because already generated: (1Z,1'Z)-1,1'-(4,6-dinitrobenzene-1,3-diyl)bis[1-(phenylimino)propan-2-one]\n",
      "Skip because already generated: (1Z,1'Z)-2,2'-benzene-1,3-diylbis[1-(1,2-diphenylethylidene)hydrazine]\n",
      "Skip because already generated: (1Z,3Z)-3-(hydroxyimino)-1-(2-nitrophenyl)-2,3-diphenylprop-1-en-1-ol\n",
      "Skip because already generated: (1Z,3Z)-Cycloocta-1,3-diene\n",
      "Skip because already generated: (1Z,5Z,7Z,11Z,15Z,17Z)-21,22,23,24-tetraoxapentacyclo[16.2.1.1~2,5~.1~8,11~.1~12,15~]tetracosa-1,3,5,7,9,11,13,15,17,19-decaene\n",
      "Skip because already generated: (1aR,1a'S,2R,3'R,4aS,4a'S,7aS,7a'S)-2-Hydroxy-4a,4a'-dimethyldecahydro-2,3'-biindeno[3a,4-b]oxirene-4',5,7'(1aH,4a'H,7a'H)-trione\n",
      "Skip because already generated: (1r)-(-)-fenchone\n",
      "Skip because already generated: (1r,2s)-(-)-ephedrine\n",
      "Skip because already generated: (1r,4r)-(+)-camphor\n",
      "Skip because already generated: (1s)-(-)-beta-pinene\n",
      "Skip because already generated: (1s,3s,5R,6s,7S,8R,9S)-8,9-Dihydroxy-2,4,10-trioxatricyclo[3.3.1.1~3,7~]dec-6-yl benzoate\n",
      "Skip because already generated: (1s,4s)-1,3,3-Trimethyl-2-oxabicyclo[2.2.2]octane\n",
      "Skip because already generated: (2'beta)-22-Oxovincaleukoblastine\n",
      "Skip because already generated: (2,2-dibromoethenyl)benzene\n",
      "Skip because already generated: (2,2-dimethyl-3-oxo-1-phenylpropyl)propanedioic acid\n",
      "Skip because already generated: (2,3,6-Trichlorophenyl)acetic acid\n",
      "Skip because already generated: (2,4,5-trichlorophenoxy)acetic acid sec-bu ester\n",
      "Skip because already generated: (2,4-Dichlorophenoxy)acetic acid\n",
      "Skip because already generated: (2,4-Dichlorophenyl)(4,5-dimethoxy-2-nitrophenyl)methanone\n",
      "Skip because already generated: (2,4-Dinitro-phenyl)-p-tolyl-amine\n",
      "Skip because already generated: (2,4-Dinitrophenyl)hydrazine\n",
      "Skip because already generated: (2,4-dichlorophenyl)(3,4-dimethoxyphenyl)methanone\n",
      "Skip because already generated: (2,5-dinitrobenzene-1,4-diyl)diethane-2,1-diyl dibenzoate\n",
      "Skip because already generated: (2,6-dichlorophenyl)[6-(phenylsulfanyl)pyridazin-3-yl]acetonitrile\n",
      "Skip because already generated: (2,6-diphenyl-4H-pyran-4-yl)(diphenyl)phosphane oxide\n",
      "Skip because already generated: (2-Amino-5-chlorophenyl)(phenyl)methanone\n",
      "Skip because already generated: (2-Bromophenyl)(diphenyl)phosphine\n",
      "Skip because already generated: (2-Chlorobenzylidene)malononitrile\n",
      "Skip because already generated: (2-Chlorophenyl)(4,5-dimethoxy-2-nitrophenyl)methanone\n",
      "Skip because already generated: (2-Chlorophenyl)(diphenyl)phosphine\n",
      "Skip because already generated: (2-Formyl-1H-pyrrol-3-yl)methyl acetate\n",
      "Skip because already generated: (2-Nitrophenyl)acetonitrile\n",
      "Skip because already generated: (2-Oxo-1,2-dihydro-3H-indol-3-ylidene)malononitrile\n",
      "Skip because already generated: (2-amino-3,5-dibromophenyl)(phenyl)methanol\n",
      "Skip because already generated: (2-amino-3,5-dimethylphenyl)(phenyl)methanol\n",
      "Skip because already generated: (2-amino-4-bromophenyl)(phenyl)methanol\n",
      "Skip because already generated: (2-aminoethoxy)acetic acid\n",
      "Skip because already generated: (2-aminophenyl)(diphenyl)methanol\n",
      "Skip because already generated: (2-bromo-phenyl)-acetonitrile\n",
      "Skip because already generated: (2-bromoethyl)benzene\n",
      "Skip because already generated: (2-carboxyphenyl)iminodiacetic acid\n",
      "Skip because already generated: (2-hydroxyethyl)hydrazine\n",
      "Skip because already generated: (2-isopropyl-5-methyl-cyclohexyloxy)-acetic acid\n",
      "Skip because already generated: (2-methoxy-phenyl)-acetonitrile\n",
      "Skip because already generated: (2-methoxyphenyl)(piperidin-1-yl)methanethione\n",
      "Skip because already generated: (2-methoxyphenyl)phenyldiazene\n",
      "Skip because already generated: (2-naphthyl)bromomethane\n",
      "Skip because already generated: (2-oxo-2,3-dihydro-1H-indol-6-yl)acetic acid\n",
      "Skip because already generated: (2-{(E)-2-[4-(Dimethylamino)phenyl]vinyl}-6-methyl-4H-pyran-4-ylidene)malononitrile\n",
      "Skip because already generated: (2-{bis[(diphenylphosphanyl)methyl]amino}ethyl)phosphonic acid\n"
     ]
    },
    {
     "name": "stderr",
     "output_type": "stream",
     "text": [
      "  1%|          | 221/24889 [02:39<4:56:23,  1.39it/s]"
     ]
    },
    {
     "name": "stdout",
     "output_type": "stream",
     "text": [
      "Finished because good reasoning was achieved: (2E)-(1-methyl-1H-benzimidazol-2-yl)[(2,4,6-trichlorophenyl)hydrazono]ethanenitrile\n"
     ]
    },
    {
     "name": "stderr",
     "output_type": "stream",
     "text": [
      "  1%|          | 222/24889 [03:11<7:18:07,  1.07s/it]"
     ]
    },
    {
     "name": "stdout",
     "output_type": "stream",
     "text": [
      "Finished because good reasoning was achieved: (2E)-(1-methyl-1H-benzimidazol-2-yl)[(4-nitrophenyl)hydrazono]ethanenitrile\n"
     ]
    },
    {
     "name": "stderr",
     "output_type": "stream",
     "text": [
      "  1%|          | 224/24889 [06:12<29:50:27,  4.36s/it]"
     ]
    },
    {
     "name": "stdout",
     "output_type": "stream",
     "text": [
      "Finished because good reasoning was achieved: (2E)-(phenylhydrazono)(4-phenyl-1,3-thiazol-2-yl)ethanenitrile\n"
     ]
    },
    {
     "name": "stderr",
     "output_type": "stream",
     "text": [
      "  1%|          | 226/24889 [07:58<49:45:26,  7.26s/it]"
     ]
    },
    {
     "name": "stdout",
     "output_type": "stream",
     "text": [
      "Finished because good reasoning was achieved: (2E)-1,3-Bis-(4-methoxyphenyl)-2-propen-1-one\n"
     ]
    },
    {
     "name": "stderr",
     "output_type": "stream",
     "text": [
      "  1%|          | 227/24889 [08:08<50:56:19,  7.44s/it]"
     ]
    },
    {
     "name": "stdout",
     "output_type": "stream",
     "text": [
      "Finished because good reasoning was achieved: (2E)-1,3-Diphenyl-2-propen-1-one\n"
     ]
    },
    {
     "name": "stderr",
     "output_type": "stream",
     "text": [
      "  1%|          | 228/24889 [09:33<89:34:10, 13.08s/it]"
     ]
    },
    {
     "name": "stdout",
     "output_type": "stream",
     "text": [
      "Finished because good reasoning was achieved: (2E)-1,3-benzothiazol-2-yl(naphthalen-1-ylhydrazono)ethanenitrile\n"
     ]
    },
    {
     "name": "stderr",
     "output_type": "stream",
     "text": [
      "  1%|          | 229/24889 [09:50<91:49:42, 13.41s/it]"
     ]
    },
    {
     "name": "stdout",
     "output_type": "stream",
     "text": [
      "Finished because good reasoning was achieved: (2E)-1,3-benzothiazol-2-yl[(2,4,5-trichlorophenyl)hydrazono]ethanenitrile\n"
     ]
    },
    {
     "name": "stderr",
     "output_type": "stream",
     "text": [
      "  1%|          | 230/24889 [10:22<106:37:59, 15.57s/it]"
     ]
    },
    {
     "name": "stdout",
     "output_type": "stream",
     "text": [
      "Finished because good reasoning was achieved: (2E)-1,3-benzothiazol-2-yl[(2,4,6-tribromophenyl)hydrazono]ethanenitrile\n"
     ]
    },
    {
     "name": "stderr",
     "output_type": "stream",
     "text": [
      "  1%|          | 231/24889 [10:36<106:00:13, 15.48s/it]"
     ]
    },
    {
     "name": "stdout",
     "output_type": "stream",
     "text": [
      "Finished because good reasoning was achieved: (2E)-1,3-benzothiazol-2-yl[(3-fluorophenyl)hydrazono]ethanenitrile\n"
     ]
    },
    {
     "name": "stderr",
     "output_type": "stream",
     "text": [
      "  1%|          | 232/24889 [11:27<147:08:25, 21.48s/it]"
     ]
    },
    {
     "name": "stdout",
     "output_type": "stream",
     "text": [
      "Finished because good reasoning was achieved: (2E)-1,3-benzothiazol-2-yl[(3-hydroxyphenyl)hydrazono]ethanenitrile\n"
     ]
    },
    {
     "name": "stderr",
     "output_type": "stream",
     "text": [
      "  1%|          | 233/24889 [12:46<224:49:55, 32.83s/it]"
     ]
    },
    {
     "name": "stdout",
     "output_type": "stream",
     "text": [
      "Finished because good reasoning was achieved: (2E)-1,3-benzothiazol-2-yl[(4-chlorophenyl)hydrazono]ethanenitrile\n"
     ]
    },
    {
     "name": "stderr",
     "output_type": "stream",
     "text": [
      "  1%|          | 235/24889 [14:20<250:33:35, 36.59s/it]"
     ]
    },
    {
     "name": "stdout",
     "output_type": "stream",
     "text": [
      "Finished because good reasoning was achieved: (2E)-1,8,8-trimethylbicyclo[3.2.1]octan-2-one oxime\n"
     ]
    },
    {
     "name": "stderr",
     "output_type": "stream",
     "text": [
      "  1%|          | 236/24889 [14:34<210:48:46, 30.78s/it]"
     ]
    },
    {
     "name": "stdout",
     "output_type": "stream",
     "text": [
      "Finished because good reasoning was achieved: (2E)-1-(1,2-dihydroacenaphthylen-5-yl)-2-hydrazinylidene-2-phenylethanone\n"
     ]
    },
    {
     "name": "stderr",
     "output_type": "stream",
     "text": [
      "  1%|          | 237/24889 [15:47<288:17:01, 42.10s/it]"
     ]
    },
    {
     "name": "stdout",
     "output_type": "stream",
     "text": [
      "Finished because good reasoning was achieved: (2E)-1-(2,4-Dinitrophenyl)-2-(2-methylpropylidene)hydrazine\n"
     ]
    },
    {
     "name": "stderr",
     "output_type": "stream",
     "text": [
      "  1%|          | 238/24889 [16:17<264:46:10, 38.67s/it]"
     ]
    },
    {
     "name": "stdout",
     "output_type": "stream",
     "text": [
      "Finished because good reasoning was achieved: (2E)-1-(2,4-dinitrophenyl)-2-(1,8,8-trimethylbicyclo[3.2.1]oct-2-ylidene)hydrazine\n"
     ]
    },
    {
     "name": "stderr",
     "output_type": "stream",
     "text": [
      "  1%|          | 239/24889 [16:35<225:56:30, 33.00s/it]"
     ]
    },
    {
     "name": "stdout",
     "output_type": "stream",
     "text": [
      "Finished because good reasoning was achieved: (2E)-1-(2,4-dinitrophenyl)-2-(2-ethylcyclopent-2-en-1-ylidene)hydrazine\n"
     ]
    },
    {
     "name": "stderr",
     "output_type": "stream",
     "text": [
      "  1%|          | 240/24889 [18:48<423:07:48, 61.80s/it]"
     ]
    },
    {
     "name": "stdout",
     "output_type": "stream",
     "text": [
      "Finished because good reasoning was achieved: (2E)-1-(2,4-dinitrophenyl)-2-(2-methylcyclopent-2-en-1-ylidene)hydrazine\n"
     ]
    },
    {
     "name": "stderr",
     "output_type": "stream",
     "text": [
      "  1%|          | 241/24889 [18:54<310:58:24, 45.42s/it]"
     ]
    },
    {
     "name": "stdout",
     "output_type": "stream",
     "text": [
      "Finished because good reasoning was achieved: (2E)-1-(2,4-dinitrophenyl)-2-(4-methoxybicyclo[4.2.0]octa-1,3,5-trien-7-ylidene)hydrazine\n"
     ]
    },
    {
     "name": "stderr",
     "output_type": "stream",
     "text": [
      "  1%|          | 242/24889 [20:10<372:35:05, 54.42s/it]"
     ]
    },
    {
     "name": "stdout",
     "output_type": "stream",
     "text": [
      "Finished because good reasoning was achieved: (2E)-1-(2,4-dinitrophenyl)-2-(5-methylbicyclo[4.2.0]octa-1,3,5-trien-7-ylidene)hydrazine\n"
     ]
    },
    {
     "name": "stderr",
     "output_type": "stream",
     "text": [
      "  1%|          | 244/24889 [22:40<451:00:09, 65.88s/it]"
     ]
    },
    {
     "name": "stdout",
     "output_type": "stream",
     "text": [
      "Finished because good reasoning was achieved: (2E)-1-(2,4-dinitrophenyl)-2-[(2-ethenylcyclohex-1-en-1-yl)methylidene]hydrazine\n"
     ]
    },
    {
     "name": "stderr",
     "output_type": "stream",
     "text": [
      "  1%|          | 245/24889 [23:27<411:59:15, 60.18s/it]"
     ]
    },
    {
     "name": "stdout",
     "output_type": "stream",
     "text": [
      "Finished because good reasoning was achieved: (2E)-1-(2,4-dinitrophenyl)-2-[(2-ethylcyclohex-1-en-1-yl)methylidene]hydrazine\n"
     ]
    },
    {
     "name": "stderr",
     "output_type": "stream",
     "text": [
      "  1%|          | 247/24889 [25:25<400:55:15, 58.57s/it]"
     ]
    },
    {
     "name": "stdout",
     "output_type": "stream",
     "text": [
      "Finished because good reasoning was achieved: (2E)-1-(2,4-dinitrophenyl)-2-[(2-propylphenyl)methylidene]hydrazine\n"
     ]
    },
    {
     "name": "stderr",
     "output_type": "stream",
     "text": [
      "  1%|          | 248/24889 [26:23<399:08:57, 58.31s/it]"
     ]
    },
    {
     "name": "stdout",
     "output_type": "stream",
     "text": [
      "Finished because good reasoning was achieved: (2E)-1-(2,4-dinitrophenyl)-2-[(2E)-2-methylpenta-2,4-dien-1-ylidene]hydrazine\n"
     ]
    },
    {
     "name": "stderr",
     "output_type": "stream",
     "text": [
      "  1%|          | 249/24889 [28:25<529:45:53, 77.40s/it]"
     ]
    },
    {
     "name": "stdout",
     "output_type": "stream",
     "text": [
      "Finished because good reasoning was achieved: (2E)-1-(2,4-dinitrophenyl)-2-[(2E)-5-methylhexa-2,4-dien-1-ylidene]hydrazine\n"
     ]
    },
    {
     "name": "stderr",
     "output_type": "stream",
     "text": [
      "  1%|          | 250/24889 [30:50<669:13:48, 97.78s/it]"
     ]
    },
    {
     "name": "stdout",
     "output_type": "stream",
     "text": [
      "Finished because good reasoning was achieved: (2E)-1-(2,4-dinitrophenyl)-2-[(2E,4E)-2-methylhexa-2,4-dien-1-ylidene]hydrazine\n"
     ]
    },
    {
     "name": "stderr",
     "output_type": "stream",
     "text": [
      "  1%|          | 251/24889 [31:13<514:26:42, 75.17s/it]"
     ]
    },
    {
     "name": "stdout",
     "output_type": "stream",
     "text": [
      "Finished because good reasoning was achieved: (2E)-1-(2,4-dinitrophenyl)-2-{[2-(phenylethynyl)cyclohex-1-en-1-yl]methylidene}hydrazine\n"
     ]
    },
    {
     "name": "stderr",
     "output_type": "stream",
     "text": [
      "  1%|          | 252/24889 [31:52<440:49:36, 64.41s/it]"
     ]
    },
    {
     "name": "stdout",
     "output_type": "stream",
     "text": [
      "Finished because good reasoning was achieved: (2E)-1-(2-Furyl)-3-[5-(2-methoxyphenyl)-2-furyl]prop-2-en-1-one\n"
     ]
    },
    {
     "name": "stderr",
     "output_type": "stream",
     "text": [
      "  1%|          | 253/24889 [32:53<434:58:09, 63.56s/it]"
     ]
    },
    {
     "name": "stdout",
     "output_type": "stream",
     "text": [
      "Finished because good reasoning was achieved: (2E)-1-(2-Furyl)-3-[5-(2-nitrophenyl)-2-furyl]prop-2-en-1-one\n"
     ]
    },
    {
     "name": "stderr",
     "output_type": "stream",
     "text": [
      "  1%|          | 254/24889 [33:14<345:42:44, 50.52s/it]"
     ]
    },
    {
     "name": "stdout",
     "output_type": "stream",
     "text": [
      "Finished because good reasoning was achieved: (2E)-1-(2-Furyl)-3-[5-(4-methylphenyl)-2-furyl]prop-2-en-1-one\n"
     ]
    },
    {
     "name": "stderr",
     "output_type": "stream",
     "text": [
      "  1%|          | 255/24889 [33:53<322:28:25, 47.13s/it]"
     ]
    },
    {
     "name": "stdout",
     "output_type": "stream",
     "text": [
      "Finished because good reasoning was achieved: (2E)-1-(2-Furyl)-3-[5-(4-nitrophenyl)-2-furyl]prop-2-en-1-one\n"
     ]
    },
    {
     "name": "stderr",
     "output_type": "stream",
     "text": [
      "  1%|          | 256/24889 [35:04<371:23:53, 54.28s/it]"
     ]
    },
    {
     "name": "stdout",
     "output_type": "stream",
     "text": [
      "Finished because good reasoning was achieved: (2E)-1-(2-Hydroxyphenyl)-3-phenyl-2-propen-1-one\n"
     ]
    },
    {
     "name": "stderr",
     "output_type": "stream",
     "text": [
      "  1%|          | 257/24889 [35:27<307:59:40, 45.01s/it]"
     ]
    },
    {
     "name": "stdout",
     "output_type": "stream",
     "text": [
      "Finished because good reasoning was achieved: (2E)-1-(2-Naphthyl)-3-(3,4,5-trimethoxyphenyl)prop-2-en-1-one\n"
     ]
    },
    {
     "name": "stderr",
     "output_type": "stream",
     "text": [
      "  1%|          | 258/24889 [35:54<271:08:00, 39.63s/it]"
     ]
    },
    {
     "name": "stdout",
     "output_type": "stream",
     "text": [
      "Finished because good reasoning was achieved: (2E)-1-(2-furyl)-3-(5-phenyl-2-furyl)prop-2-en-1-one\n"
     ]
    },
    {
     "name": "stderr",
     "output_type": "stream",
     "text": [
      "  1%|          | 259/24889 [36:29<262:16:59, 38.34s/it]"
     ]
    },
    {
     "name": "stdout",
     "output_type": "stream",
     "text": [
      "Finished because good reasoning was achieved: (2E)-1-(3,4-Dimethoxyphenyl)-3-[5-(2-methoxyphenyl)-2-furyl]prop-2-en-1-one\n"
     ]
    },
    {
     "name": "stderr",
     "output_type": "stream",
     "text": [
      "  1%|          | 260/24889 [37:34<315:22:25, 46.10s/it]"
     ]
    },
    {
     "name": "stdout",
     "output_type": "stream",
     "text": [
      "Finished because good reasoning was achieved: (2E)-1-(3,4-Dimethoxyphenyl)-3-[5-(2-nitrophenyl)-2-furyl]prop-2-en-1-one\n"
     ]
    },
    {
     "name": "stderr",
     "output_type": "stream",
     "text": [
      "  1%|          | 261/24889 [38:06<287:54:21, 42.08s/it]"
     ]
    },
    {
     "name": "stdout",
     "output_type": "stream",
     "text": [
      "Finished because good reasoning was achieved: (2E)-1-(3-Hydroxyphenyl)-3-(2-nitrophenyl)-2-propen-1-one\n"
     ]
    },
    {
     "name": "stderr",
     "output_type": "stream",
     "text": [
      "  1%|          | 262/24889 [38:38<266:37:01, 38.97s/it]"
     ]
    },
    {
     "name": "stdout",
     "output_type": "stream",
     "text": [
      "Finished because good reasoning was achieved: (2E)-1-(4-Hydroxyphenyl)-3-(4-methoxyphenyl)-2-propen-1-one\n"
     ]
    },
    {
     "name": "stderr",
     "output_type": "stream",
     "text": [
      "  1%|          | 263/24889 [38:56<223:39:28, 32.70s/it]"
     ]
    },
    {
     "name": "stdout",
     "output_type": "stream",
     "text": [
      "Finished because good reasoning was achieved: (2E)-1-(4-nitrophenyl)-2-(3-phenyl-1H-inden-1-ylidene)hydrazine\n"
     ]
    },
    {
     "name": "stderr",
     "output_type": "stream",
     "text": [
      "  1%|          | 264/24889 [39:27<219:57:37, 32.16s/it]"
     ]
    },
    {
     "name": "stdout",
     "output_type": "stream",
     "text": [
      "Finished because good reasoning was achieved: (2E)-1-(5-Methyl-2-furyl)-3-[5-(3-nitrophenyl)-2-furyl]prop-2-en-1-one\n"
     ]
    },
    {
     "name": "stderr",
     "output_type": "stream",
     "text": [
      "  1%|          | 265/24889 [39:42<183:55:31, 26.89s/it]"
     ]
    },
    {
     "name": "stdout",
     "output_type": "stream",
     "text": [
      "Finished because good reasoning was achieved: (2E)-1-(5-methylfuran-2-yl)-3-(5-phenylfuran-2-yl)prop-2-en-1-one\n"
     ]
    },
    {
     "name": "stderr",
     "output_type": "stream",
     "text": [
      "  1%|          | 266/24889 [39:56<157:40:09, 23.05s/it]"
     ]
    },
    {
     "name": "stdout",
     "output_type": "stream",
     "text": [
      "Finished because good reasoning was achieved: (2E)-1-(5-methylfuran-2-yl)-3-[5-(4-methylphenyl)furan-2-yl]prop-2-en-1-one\n"
     ]
    },
    {
     "name": "stderr",
     "output_type": "stream",
     "text": [
      "  1%|          | 267/24889 [40:30<180:12:35, 26.35s/it]"
     ]
    },
    {
     "name": "stdout",
     "output_type": "stream",
     "text": [
      "Finished because good reasoning was achieved: (2E)-1-(5-methylfuran-2-yl)-3-[5-(4-nitrophenyl)furan-2-yl]prop-2-en-1-one\n"
     ]
    },
    {
     "name": "stderr",
     "output_type": "stream",
     "text": [
      "  1%|          | 268/24889 [40:59<186:50:49, 27.32s/it]"
     ]
    },
    {
     "name": "stdout",
     "output_type": "stream",
     "text": [
      "Finished because good reasoning was achieved: (2E)-1-phenyl-3-(5-phenyl-2-furyl)prop-2-en-1-one\n"
     ]
    },
    {
     "name": "stderr",
     "output_type": "stream",
     "text": [
      "  1%|          | 269/24889 [41:14<159:59:38, 23.39s/it]"
     ]
    },
    {
     "name": "stdout",
     "output_type": "stream",
     "text": [
      "Finished because good reasoning was achieved: (2E)-1-phenylpropan-2-one semicarbazone\n"
     ]
    },
    {
     "name": "stderr",
     "output_type": "stream",
     "text": [
      "  1%|          | 271/24889 [46:46<623:01:57, 91.11s/it]"
     ]
    },
    {
     "name": "stdout",
     "output_type": "stream",
     "text": [
      "Finished because good reasoning was achieved: (2E)-2,3-Diphenylacrylic acid\n"
     ]
    },
    {
     "name": "stderr",
     "output_type": "stream",
     "text": [
      "  1%|          | 272/24889 [47:02<467:31:16, 68.37s/it]"
     ]
    },
    {
     "name": "stdout",
     "output_type": "stream",
     "text": [
      "Finished because good reasoning was achieved: (2E)-2,3-dibromo-3-{3-[(E)-2-carboxyethenyl]phenyl}prop-2-enoic acid\n"
     ]
    },
    {
     "name": "stderr",
     "output_type": "stream",
     "text": [
      "  1%|          | 273/24889 [47:59<445:33:37, 65.16s/it]"
     ]
    },
    {
     "name": "stdout",
     "output_type": "stream",
     "text": [
      "Finished because good reasoning was achieved: (2E)-2-(1,3-Benzothiazol-2-yl)-3-phenylacrylonitrile\n"
     ]
    },
    {
     "name": "stderr",
     "output_type": "stream",
     "text": [
      "  1%|          | 274/24889 [50:14<587:08:51, 85.87s/it]"
     ]
    },
    {
     "name": "stdout",
     "output_type": "stream",
     "text": [
      "Finished because good reasoning was achieved: (2E)-2-(1,3-benzothiazol-2-yl)-2-(pyridin-3-ylhydrazono)ethanamide\n"
     ]
    },
    {
     "name": "stderr",
     "output_type": "stream",
     "text": [
      "  1%|          | 277/24889 [53:19<445:57:46, 65.23s/it]"
     ]
    },
    {
     "name": "stdout",
     "output_type": "stream",
     "text": [
      "Finished because good reasoning was achieved: (2E)-2-(1,3-benzothiazol-2-yl)-2-[(2,6-dichlorophenyl)hydrazono]ethanamide\n"
     ]
    },
    {
     "name": "stderr",
     "output_type": "stream",
     "text": [
      "  1%|          | 278/24889 [53:27<329:08:54, 48.15s/it]"
     ]
    },
    {
     "name": "stdout",
     "output_type": "stream",
     "text": [
      "Finished because good reasoning was achieved: (2E)-2-(1,3-benzothiazol-2-yl)-2-[(4-fluorophenyl)hydrazono]ethanamide\n"
     ]
    },
    {
     "name": "stderr",
     "output_type": "stream",
     "text": [
      "  1%|          | 279/24889 [53:36<248:25:35, 36.34s/it]"
     ]
    },
    {
     "name": "stdout",
     "output_type": "stream",
     "text": [
      "Finished because good reasoning was achieved: (2E)-2-(1,3-benzothiazol-2-yl)-2-[2-(2-methoxyphenyl)hydrazinylidene]ethanamide\n"
     ]
    },
    {
     "name": "stderr",
     "output_type": "stream",
     "text": [
      "  1%|          | 280/24889 [53:51<204:30:51, 29.92s/it]"
     ]
    },
    {
     "name": "stdout",
     "output_type": "stream",
     "text": [
      "Finished because good reasoning was achieved: (2E)-2-(1,3-benzothiazol-2-yl)-2-[2-(4-hydroxyphenyl)hydrazinylidene]ethanamide\n"
     ]
    },
    {
     "name": "stderr",
     "output_type": "stream",
     "text": [
      "  1%|          | 281/24889 [54:42<248:27:18, 36.35s/it]"
     ]
    },
    {
     "name": "stdout",
     "output_type": "stream",
     "text": [
      "Finished because good reasoning was achieved: (2E)-2-(1,3-benzothiazol-2-yl)-2-{[3-(trifluoromethyl)phenyl]hydrazono}ethanamide\n"
     ]
    },
    {
     "name": "stderr",
     "output_type": "stream",
     "text": [
      "  1%|          | 282/24889 [55:40<293:02:01, 42.87s/it]"
     ]
    },
    {
     "name": "stdout",
     "output_type": "stream",
     "text": [
      "Finished because good reasoning was achieved: (2E)-2-(1,3-benzothiazol-2-yl)-3-(2,4-dichlorophenyl)prop-2-enamide\n"
     ]
    },
    {
     "name": "stderr",
     "output_type": "stream",
     "text": [
      "  1%|          | 283/24889 [55:49<222:45:20, 32.59s/it]"
     ]
    },
    {
     "name": "stdout",
     "output_type": "stream",
     "text": [
      "Finished because good reasoning was achieved: (2E)-2-(1,3-benzothiazol-2-yl)-3-(2-hydroxyphenyl)prop-2-enamide\n"
     ]
    },
    {
     "name": "stderr",
     "output_type": "stream",
     "text": [
      "  1%|          | 284/24889 [56:35<250:00:55, 36.58s/it]"
     ]
    },
    {
     "name": "stdout",
     "output_type": "stream",
     "text": [
      "Finished because good reasoning was achieved: (2E)-2-(1,3-benzothiazol-2-yl)-3-(2-hydroxyphenyl)prop-2-enenitrile\n"
     ]
    },
    {
     "name": "stderr",
     "output_type": "stream",
     "text": [
      "  1%|          | 285/24889 [56:53<211:50:07, 31.00s/it]"
     ]
    },
    {
     "name": "stdout",
     "output_type": "stream",
     "text": [
      "Finished because good reasoning was achieved: (2E)-2-(1,3-benzothiazol-2-yl)-3-(2-methoxyphenyl)prop-2-enamide\n"
     ]
    },
    {
     "name": "stderr",
     "output_type": "stream",
     "text": [
      "  1%|          | 286/24889 [57:06<175:31:45, 25.68s/it]"
     ]
    },
    {
     "name": "stdout",
     "output_type": "stream",
     "text": [
      "Finished because good reasoning was achieved: (2E)-2-(1,3-benzothiazol-2-yl)-3-(2-oxo-2H-chromen-3-yl)but-2-enenitrile\n"
     ]
    },
    {
     "name": "stderr",
     "output_type": "stream",
     "text": [
      "  1%|          | 287/24889 [57:38<188:07:21, 27.53s/it]"
     ]
    },
    {
     "name": "stdout",
     "output_type": "stream",
     "text": [
      "Finished because good reasoning was achieved: (2E)-2-(1,3-benzothiazol-2-yl)-3-(4-fluorophenyl)prop-2-enamide\n"
     ]
    },
    {
     "name": "stderr",
     "output_type": "stream",
     "text": [
      "  1%|          | 288/24889 [57:54<165:14:00, 24.18s/it]"
     ]
    },
    {
     "name": "stdout",
     "output_type": "stream",
     "text": [
      "Finished because good reasoning was achieved: (2E)-2-(1,3-benzothiazol-2-yl)-3-(4-methoxyphenyl)prop-2-enamide\n"
     ]
    },
    {
     "name": "stderr",
     "output_type": "stream",
     "text": [
      "  1%|          | 289/24889 [58:02<132:25:00, 19.38s/it]"
     ]
    },
    {
     "name": "stdout",
     "output_type": "stream",
     "text": [
      "Finished because good reasoning was achieved: (2E)-2-(1,3-benzothiazol-2-yl)-3-(4-methylphenyl)prop-2-enamide\n"
     ]
    },
    {
     "name": "stderr",
     "output_type": "stream",
     "text": [
      "  1%|          | 290/24889 [59:13<237:05:07, 34.70s/it]"
     ]
    },
    {
     "name": "stdout",
     "output_type": "stream",
     "text": [
      "Finished because good reasoning was achieved: (2E)-2-(1,3-benzothiazol-2-yl)-3-[4-(dimethylamino)phenyl]prop-2-enamide\n"
     ]
    },
    {
     "name": "stderr",
     "output_type": "stream",
     "text": [
      "  1%|          | 291/24889 [59:24<188:25:21, 27.58s/it]"
     ]
    },
    {
     "name": "stdout",
     "output_type": "stream",
     "text": [
      "Finished because good reasoning was achieved: (2E)-2-(1H-Benzimidazol-2-yl)-3-(2-methylphenyl)acrylonitrile\n"
     ]
    },
    {
     "name": "stderr",
     "output_type": "stream",
     "text": [
      "  1%|          | 292/24889 [59:32<147:46:20, 21.63s/it]"
     ]
    },
    {
     "name": "stdout",
     "output_type": "stream",
     "text": [
      "Finished because good reasoning was achieved: (2E)-2-(1H-Benzimidazol-2-yl)-3-(3-hydroxyphenyl)acrylonitrile\n"
     ]
    },
    {
     "name": "stderr",
     "output_type": "stream",
     "text": [
      "  1%|          | 293/24889 [1:00:20<201:34:33, 29.50s/it]"
     ]
    },
    {
     "name": "stdout",
     "output_type": "stream",
     "text": [
      "Finished because good reasoning was achieved: (2E)-2-(1H-Benzimidazol-2-yl)-3-(pyridin-3-yl)acrylonitrile\n"
     ]
    },
    {
     "name": "stderr",
     "output_type": "stream",
     "text": [
      "  1%|          | 295/24889 [1:02:08<266:28:26, 39.01s/it]"
     ]
    },
    {
     "name": "stdout",
     "output_type": "stream",
     "text": [
      "Finished because good reasoning was achieved: (2E)-2-(3-Chlorobenzylidene)-1,4-bis[(4-methylphenyl)sulfonyl]-1,2,3,4-tetrahydroquinoxaline\n"
     ]
    },
    {
     "name": "stderr",
     "output_type": "stream",
     "text": [
      "  1%|          | 296/24889 [1:02:41<255:23:11, 37.38s/it]"
     ]
    },
    {
     "name": "stdout",
     "output_type": "stream",
     "text": [
      "Finished because good reasoning was achieved: (2E)-2-(4,7,7-trimethyl-3-oxobicyclo[2.2.1]hept-2-ylidene)ethanamide\n"
     ]
    },
    {
     "name": "stderr",
     "output_type": "stream",
     "text": [
      "  1%|          | 297/24889 [1:02:49<195:00:49, 28.55s/it]"
     ]
    },
    {
     "name": "stdout",
     "output_type": "stream",
     "text": [
      "Finished because good reasoning was achieved: (2E)-2-(4-Methoxybenzylidene)-1,4-bis[(4-methylphenyl)sulfonyl]-1,2,3,4-tetrahydroquinoxaline\n"
     ]
    },
    {
     "name": "stderr",
     "output_type": "stream",
     "text": [
      "  1%|          | 298/24889 [1:03:34<227:46:14, 33.34s/it]"
     ]
    },
    {
     "name": "stdout",
     "output_type": "stream",
     "text": [
      "Finished because good reasoning was achieved: (2E)-2-(4-Methylbenzylidene)-1,4-bis[(4-methylphenyl)sulfonyl]-1,2,3,4-tetrahydroquinoxaline\n"
     ]
    },
    {
     "name": "stderr",
     "output_type": "stream",
     "text": [
      "  1%|          | 299/24889 [1:03:53<198:22:56, 29.04s/it]"
     ]
    },
    {
     "name": "stdout",
     "output_type": "stream",
     "text": [
      "Finished because good reasoning was achieved: (2E)-2-(4-methyl-3-oxo-5-phenylpentan-2-ylidene)hydrazinecarboxamide\n"
     ]
    },
    {
     "name": "stderr",
     "output_type": "stream",
     "text": [
      "  1%|          | 301/24889 [1:06:54<364:12:00, 53.32s/it]"
     ]
    },
    {
     "name": "stdout",
     "output_type": "stream",
     "text": [
      "Finished because good reasoning was achieved: (2E)-2-(Hydroxyimino)-N-phenylacetamide\n"
     ]
    },
    {
     "name": "stderr",
     "output_type": "stream",
     "text": [
      "  1%|          | 302/24889 [1:07:50<371:05:13, 54.33s/it]"
     ]
    },
    {
     "name": "stdout",
     "output_type": "stream",
     "text": [
      "Finished because good reasoning was achieved: (2E)-2-(carbamothioylhydrazono)-N-(4-methoxyphenyl)propanamide\n"
     ]
    },
    {
     "name": "stderr",
     "output_type": "stream",
     "text": [
      "  1%|          | 303/24889 [1:08:16<312:41:38, 45.79s/it]"
     ]
    },
    {
     "name": "stdout",
     "output_type": "stream",
     "text": [
      "Finished because good reasoning was achieved: (2E)-2-(carbamothioylhydrazono)-N-phenylpropanamide\n"
     ]
    },
    {
     "name": "stderr",
     "output_type": "stream",
     "text": [
      "  1%|          | 304/24889 [1:08:47<281:46:20, 41.26s/it]"
     ]
    },
    {
     "name": "stdout",
     "output_type": "stream",
     "text": [
      "Finished because good reasoning was achieved: (2E)-2-(carbamoylhydrazono)-N-(4-methoxyphenyl)propanamide\n"
     ]
    },
    {
     "name": "stderr",
     "output_type": "stream",
     "text": [
      "  1%|          | 305/24889 [1:09:04<232:54:46, 34.11s/it]"
     ]
    },
    {
     "name": "stdout",
     "output_type": "stream",
     "text": [
      "Finished because good reasoning was achieved: (2E)-2-(carbamoylhydrazono)-N-phenylpropanamide\n"
     ]
    },
    {
     "name": "stderr",
     "output_type": "stream",
     "text": [
      "  1%|          | 306/24889 [1:09:51<259:32:38, 38.01s/it]"
     ]
    },
    {
     "name": "stdout",
     "output_type": "stream",
     "text": [
      "Finished because good reasoning was achieved: (2E)-2-(hydroxyimino)-3-(4-hydroxy-3-methoxyphenyl)propanoic acid\n"
     ]
    },
    {
     "name": "stderr",
     "output_type": "stream",
     "text": [
      "  1%|          | 307/24889 [1:09:58<195:35:01, 28.64s/it]"
     ]
    },
    {
     "name": "stdout",
     "output_type": "stream",
     "text": [
      "Finished because good reasoning was achieved: (2E)-2-(hydroxyimino)-3-(4-methoxyphenyl)propanoic acid\n"
     ]
    },
    {
     "name": "stderr",
     "output_type": "stream",
     "text": [
      "  1%|          | 308/24889 [1:10:10<161:50:16, 23.70s/it]"
     ]
    },
    {
     "name": "stdout",
     "output_type": "stream",
     "text": [
      "Finished because good reasoning was achieved: (2E)-2-[(1E)-1-(2-carbamoylhydrazinylidene)propan-2-ylidene]hydrazinecarboxamide\n"
     ]
    },
    {
     "name": "stderr",
     "output_type": "stream",
     "text": [
      "  1%|          | 309/24889 [1:10:46<185:21:58, 27.15s/it]"
     ]
    },
    {
     "name": "stdout",
     "output_type": "stream",
     "text": [
      "Finished because good reasoning was achieved: (2E)-2-[(1S,4R,5R)-4-methyl-1-(propan-2-yl)bicyclo[3.1.0]hex-3-ylidene]hydrazinecarboxamide\n"
     ]
    },
    {
     "name": "stderr",
     "output_type": "stream",
     "text": [
      "  1%|          | 310/24889 [1:11:34<229:05:43, 33.55s/it]"
     ]
    },
    {
     "name": "stdout",
     "output_type": "stream",
     "text": [
      "Finished because good reasoning was achieved: (2E)-2-[(2Z)-2-(2-carbamoylhydrazinylidene)pentan-3-ylidene]hydrazinecarboxamide\n"
     ]
    },
    {
     "name": "stderr",
     "output_type": "stream",
     "text": [
      "  1%|          | 311/24889 [1:11:42<176:12:16, 25.81s/it]"
     ]
    },
    {
     "name": "stdout",
     "output_type": "stream",
     "text": [
      "Finished because good reasoning was achieved: (2E)-2-[(2Z)-3,4,4-trimethylpent-2-en-1-ylidene]hydrazinecarboxamide\n"
     ]
    },
    {
     "name": "stderr",
     "output_type": "stream",
     "text": [
      "  1%|▏         | 312/24889 [1:12:17<194:26:23, 28.48s/it]"
     ]
    },
    {
     "name": "stdout",
     "output_type": "stream",
     "text": [
      "Finished because good reasoning was achieved: (2E)-2-[(5-bromonaphthalen-1-yl)methylidene]hydrazinecarboxamide\n"
     ]
    },
    {
     "name": "stderr",
     "output_type": "stream",
     "text": [
      "  1%|▏         | 313/24889 [1:13:07<239:57:53, 35.15s/it]"
     ]
    },
    {
     "name": "stdout",
     "output_type": "stream",
     "text": [
      "Finished because good reasoning was achieved: (2E)-2-[(diaminomethylidene)hydrazono]-N-(2-methylphenyl)-2-phenylethanethioamide\n"
     ]
    },
    {
     "name": "stderr",
     "output_type": "stream",
     "text": [
      "  1%|▏         | 314/24889 [1:13:20<194:58:18, 28.56s/it]"
     ]
    },
    {
     "name": "stdout",
     "output_type": "stream",
     "text": [
      "Finished because good reasoning was achieved: (2E)-2-[1-(4,7,7-trimethylbicyclo[2.2.1]hept-2-yl)ethylidene]hydrazinecarboxamide\n"
     ]
    },
    {
     "name": "stderr",
     "output_type": "stream",
     "text": [
      "  1%|▏         | 315/24889 [1:13:47<190:26:50, 27.90s/it]"
     ]
    },
    {
     "name": "stdout",
     "output_type": "stream",
     "text": [
      "Finished because good reasoning was achieved: (2E)-2-[1-(4,7,7-trimethylbicyclo[2.2.1]hept-2-yl)propylidene]hydrazinecarboxamide\n"
     ]
    },
    {
     "name": "stderr",
     "output_type": "stream",
     "text": [
      "  1%|▏         | 316/24889 [1:14:33<226:54:21, 33.24s/it]"
     ]
    },
    {
     "name": "stdout",
     "output_type": "stream",
     "text": [
      "Finished because good reasoning was achieved: (2E)-2-[1-(4-methylphenyl)ethylidene]hydrazinecarboxamide\n"
     ]
    },
    {
     "name": "stderr",
     "output_type": "stream",
     "text": [
      "  1%|▏         | 317/24889 [1:15:17<250:25:45, 36.69s/it]"
     ]
    },
    {
     "name": "stdout",
     "output_type": "stream",
     "text": [
      "Finished because good reasoning was achieved: (2E)-2-[1-(pyridin-4-yl)ethylidene]hydrazinecarboxamide\n"
     ]
    },
    {
     "name": "stderr",
     "output_type": "stream",
     "text": [
      "  1%|▏         | 318/24889 [1:15:33<207:35:50, 30.42s/it]"
     ]
    },
    {
     "name": "stdout",
     "output_type": "stream",
     "text": [
      "Finished because good reasoning was achieved: (2E)-2-[4-(1-Naphthyl)-1,3-thiazol-2-yl]-3-(2-thienyl)acrylonitrile\n"
     ]
    },
    {
     "name": "stderr",
     "output_type": "stream",
     "text": [
      "  1%|▏         | 319/24889 [1:18:47<542:16:30, 79.45s/it]"
     ]
    },
    {
     "name": "stdout",
     "output_type": "stream",
     "text": [
      "Finished because good reasoning was achieved: (2E)-2-[4-(2-Furyl)-1,3-thiazol-2-yl]-3-(4-methoxyphenyl)acrylonitrile\n"
     ]
    },
    {
     "name": "stderr",
     "output_type": "stream",
     "text": [
      "  1%|▏         | 320/24889 [1:19:00<405:20:57, 59.39s/it]"
     ]
    },
    {
     "name": "stdout",
     "output_type": "stream",
     "text": [
      "Finished because good reasoning was achieved: (2E)-2-[4-(2-methyl-1,2,3,4-tetrahydroquinolin-7-yl)butan-2-ylidene]hydrazinecarboxamide\n"
     ]
    },
    {
     "name": "stderr",
     "output_type": "stream",
     "text": [
      "  1%|▏         | 321/24889 [1:19:36<358:18:07, 52.50s/it]"
     ]
    },
    {
     "name": "stdout",
     "output_type": "stream",
     "text": [
      "Finished because good reasoning was achieved: (2E)-2-[4-(4-methylphenyl)pentan-2-ylidene]hydrazinecarboxamide\n"
     ]
    },
    {
     "name": "stderr",
     "output_type": "stream",
     "text": [
      "  1%|▏         | 322/24889 [1:20:11<323:06:16, 47.35s/it]"
     ]
    },
    {
     "name": "stdout",
     "output_type": "stream",
     "text": [
      "Finished because good reasoning was achieved: (2E)-2-benzyl-3-phenylprop-2-enoic anhydride\n"
     ]
    },
    {
     "name": "stderr",
     "output_type": "stream",
     "text": [
      "  1%|▏         | 323/24889 [1:21:17<361:12:32, 52.93s/it]"
     ]
    },
    {
     "name": "stdout",
     "output_type": "stream",
     "text": [
      "Finished because good reasoning was achieved: (2E)-2-benzylidene-6-methoxy-3,4-dihydronaphthalen-1(2H)-one\n"
     ]
    },
    {
     "name": "stderr",
     "output_type": "stream",
     "text": [
      "  1%|▏         | 324/24889 [1:21:31<280:47:28, 41.15s/it]"
     ]
    },
    {
     "name": "stdout",
     "output_type": "stream",
     "text": [
      "Finished because good reasoning was achieved: (2E)-2-bicyclo[4.2.0]octa-1,3,5-trien-7-ylidene-1-phenylethanone\n"
     ]
    },
    {
     "name": "stderr",
     "output_type": "stream",
     "text": [
      "  1%|▏         | 325/24889 [1:21:42<219:50:35, 32.22s/it]"
     ]
    },
    {
     "name": "stdout",
     "output_type": "stream",
     "text": [
      "Finished because good reasoning was achieved: (2E)-2-hydrazono-1-naphthalen-1-yl-2-phenylethanone\n"
     ]
    },
    {
     "name": "stderr",
     "output_type": "stream",
     "text": [
      "  1%|▏         | 326/24889 [1:22:18<227:00:38, 33.27s/it]"
     ]
    },
    {
     "name": "stdout",
     "output_type": "stream",
     "text": [
      "Finished because good reasoning was achieved: (2E)-2-phenyl-3-(phenylamino)prop-2-enenitrile\n"
     ]
    },
    {
     "name": "stderr",
     "output_type": "stream",
     "text": [
      "  1%|▏         | 327/24889 [1:24:03<373:59:03, 54.81s/it]"
     ]
    },
    {
     "name": "stdout",
     "output_type": "stream",
     "text": [
      "Finished because good reasoning was achieved: (2E)-2-{1-[(5alpha,8xi,9xi)-10,17,17-trimethylgona-2,13-dien-3-yl]ethylidene}hydrazinecarboxamide\n"
     ]
    },
    {
     "name": "stderr",
     "output_type": "stream",
     "text": [
      "  1%|▏         | 328/24889 [1:24:54<365:52:23, 53.63s/it]"
     ]
    },
    {
     "name": "stdout",
     "output_type": "stream",
     "text": [
      "Finished because good reasoning was achieved: (2E)-2-{5-[(E)-(4-chlorophenyl)diazenyl]-4-methyl-1,3-thiazol-2-yl}-3-(4-hydroxyphenyl)prop-2-enenitrile\n"
     ]
    },
    {
     "name": "stderr",
     "output_type": "stream",
     "text": [
      "  1%|▏         | 329/24889 [1:26:38<468:59:39, 68.75s/it]"
     ]
    },
    {
     "name": "stdout",
     "output_type": "stream",
     "text": [
      "Finished because good reasoning was achieved: (2E)-2-{[2-methyl-6-oxo-5-(propan-2-yl)cyclohexa-1,3-dien-1-yl]methylidene}hydrazinecarboxamide\n"
     ]
    },
    {
     "name": "stderr",
     "output_type": "stream",
     "text": [
      "  1%|▏         | 330/24889 [1:26:55<362:19:46, 53.11s/it]"
     ]
    },
    {
     "name": "stdout",
     "output_type": "stream",
     "text": [
      "Finished because good reasoning was achieved: (2E)-3-(2,3-Dimethoxyphenyl)-1-(2-hydroxy-4-methoxyphenyl)prop-2-en-1-one\n"
     ]
    },
    {
     "name": "stderr",
     "output_type": "stream",
     "text": [
      "  1%|▏         | 331/24889 [1:27:39<345:20:52, 50.63s/it]"
     ]
    },
    {
     "name": "stdout",
     "output_type": "stream",
     "text": [
      "Finished because good reasoning was achieved: (2E)-3-(2,4-Dichlorophenyl)-1-phenylprop-2-en-1-one\n"
     ]
    },
    {
     "name": "stderr",
     "output_type": "stream",
     "text": [
      "  1%|▏         | 332/24889 [1:28:55<397:04:38, 58.21s/it]"
     ]
    },
    {
     "name": "stdout",
     "output_type": "stream",
     "text": [
      "Finished because good reasoning was achieved: (2E)-3-(2,4-Dichlorophenyl)-2-[4-(4-methoxyphenyl)-1,3-thiazol-2-yl]acrylonitrile\n"
     ]
    },
    {
     "name": "stderr",
     "output_type": "stream",
     "text": [
      "  1%|▏         | 333/24889 [1:29:38<364:28:19, 53.43s/it]"
     ]
    },
    {
     "name": "stdout",
     "output_type": "stream",
     "text": [
      "Finished because good reasoning was achieved: (2E)-3-(2,4-Dinitrophenyl)acrylic acid\n"
     ]
    },
    {
     "name": "stderr",
     "output_type": "stream",
     "text": [
      "  1%|▏         | 334/24889 [1:30:07<314:30:50, 46.11s/it]"
     ]
    },
    {
     "name": "stdout",
     "output_type": "stream",
     "text": [
      "Finished because good reasoning was achieved: (2E)-3-(2,4-dichlorophenyl)-2-(4-naphthalen-1-yl-1,3-thiazol-2-yl)prop-2-enenitrile\n"
     ]
    },
    {
     "name": "stderr",
     "output_type": "stream",
     "text": [
      "  1%|▏         | 335/24889 [1:30:15<237:48:18, 34.87s/it]"
     ]
    },
    {
     "name": "stdout",
     "output_type": "stream",
     "text": [
      "Finished because good reasoning was achieved: (2E)-3-(2,4-dichlorophenyl)-2-[4-(4-nitrophenyl)-1,3-thiazol-2-yl]prop-2-enenitrile\n"
     ]
    },
    {
     "name": "stderr",
     "output_type": "stream",
     "text": [
      "  1%|▏         | 336/24889 [1:30:39<215:46:53, 31.64s/it]"
     ]
    },
    {
     "name": "stdout",
     "output_type": "stream",
     "text": [
      "Finished because good reasoning was achieved: (2E)-3-(2,6-dichlorophenyl)-2-(4-phenyl-1,3-thiazol-2-yl)prop-2-enenitrile\n"
     ]
    },
    {
     "name": "stderr",
     "output_type": "stream",
     "text": [
      "  1%|▏         | 337/24889 [1:31:06<204:58:10, 30.05s/it]"
     ]
    },
    {
     "name": "stdout",
     "output_type": "stream",
     "text": [
      "Finished because good reasoning was achieved: (2E)-3-(2-Chlorophenyl)-2-[4-(2-thienyl)-1,3-thiazol-2-yl]acrylonitrile\n"
     ]
    },
    {
     "name": "stderr",
     "output_type": "stream",
     "text": [
      "  1%|▏         | 338/24889 [1:32:38<331:45:22, 48.65s/it]"
     ]
    },
    {
     "name": "stdout",
     "output_type": "stream",
     "text": [
      "Finished because good reasoning was achieved: (2E)-3-(2-Chlorophenyl)-2-[4-(4-methoxyphenyl)-1,3-thiazol-2-yl]acrylonitrile\n"
     ]
    },
    {
     "name": "stderr",
     "output_type": "stream",
     "text": [
      "  1%|▏         | 339/24889 [1:33:03<283:32:42, 41.58s/it]"
     ]
    },
    {
     "name": "stdout",
     "output_type": "stream",
     "text": [
      "Finished because good reasoning was achieved: (2E)-3-(2-Fluorophenyl)-2-phenylacrylic acid\n"
     ]
    },
    {
     "name": "stderr",
     "output_type": "stream",
     "text": [
      "  1%|▏         | 340/24889 [1:34:01<317:49:09, 46.61s/it]"
     ]
    },
    {
     "name": "stdout",
     "output_type": "stream",
     "text": [
      "Finished because good reasoning was achieved: (2E)-3-(2-Methoxyphenyl)-2-(1-methyl-1H-benzimidazol-2-yl)acrylonitrile\n"
     ]
    },
    {
     "name": "stderr",
     "output_type": "stream",
     "text": [
      "  1%|▏         | 341/24889 [1:36:50<567:41:55, 83.25s/it]"
     ]
    },
    {
     "name": "stdout",
     "output_type": "stream",
     "text": [
      "Finished because good reasoning was achieved: (2E)-3-(2-aminophenyl)-2-(4-aminophenyl)prop-2-enoic acid\n"
     ]
    },
    {
     "name": "stderr",
     "output_type": "stream",
     "text": [
      "  1%|▏         | 342/24889 [1:37:44<507:13:15, 74.39s/it]"
     ]
    },
    {
     "name": "stdout",
     "output_type": "stream",
     "text": [
      "Finished because good reasoning was achieved: (2E)-3-(2-furyl)-1-(4-hydroxyphenyl)prop-2-en-1-one\n"
     ]
    },
    {
     "name": "stderr",
     "output_type": "stream",
     "text": [
      "  1%|▏         | 343/24889 [1:37:56<380:16:58, 55.77s/it]"
     ]
    },
    {
     "name": "stdout",
     "output_type": "stream",
     "text": [
      "Finished because good reasoning was achieved: (2E)-3-(2-nitrophenyl)-2-(4-nitrophenyl)prop-2-enoic acid\n"
     ]
    },
    {
     "name": "stderr",
     "output_type": "stream",
     "text": [
      "  1%|▏         | 344/24889 [1:39:09<415:52:05, 61.00s/it]"
     ]
    },
    {
     "name": "stdout",
     "output_type": "stream",
     "text": [
      "Finished because good reasoning was achieved: (2E)-3-(2-oxo-2-phenylethoxy)-2-phenylbut-2-enenitrile\n"
     ]
    },
    {
     "name": "stderr",
     "output_type": "stream",
     "text": [
      "  1%|▏         | 345/24889 [1:39:24<321:46:19, 47.20s/it]"
     ]
    },
    {
     "name": "stdout",
     "output_type": "stream",
     "text": [
      "Finished because good reasoning was achieved: (2E)-3-(3,4-Dichlorophenyl)-1-(2-naphthyl)prop-2-en-1-one\n"
     ]
    },
    {
     "name": "stderr",
     "output_type": "stream",
     "text": [
      "  1%|▏         | 346/24889 [1:40:26<351:16:53, 51.53s/it]"
     ]
    },
    {
     "name": "stdout",
     "output_type": "stream",
     "text": [
      "Finished because good reasoning was achieved: (2E)-3-(3,4-Dihydroxyphenyl)-1-phenyl-2-propen-1-one\n"
     ]
    },
    {
     "name": "stderr",
     "output_type": "stream",
     "text": [
      "  1%|▏         | 348/24889 [1:41:51<303:59:41, 44.59s/it]"
     ]
    },
    {
     "name": "stdout",
     "output_type": "stream",
     "text": [
      "Finished because good reasoning was achieved: (2E)-3-(3-Hydroxyphenyl)-2-(1-methyl-1H-benzimidazol-2-yl)acrylonitrile\n"
     ]
    },
    {
     "name": "stderr",
     "output_type": "stream",
     "text": [
      "  1%|▏         | 349/24889 [1:43:07<368:01:12, 53.99s/it]"
     ]
    },
    {
     "name": "stdout",
     "output_type": "stream",
     "text": [
      "Finished because good reasoning was achieved: (2E)-3-(4-Chlorophenyl)-1-(4-methoxyphenyl)-2-propen-1-one\n"
     ]
    },
    {
     "name": "stderr",
     "output_type": "stream",
     "text": [
      "  1%|▏         | 350/24889 [1:44:22<410:04:22, 60.16s/it]"
     ]
    },
    {
     "name": "stdout",
     "output_type": "stream",
     "text": [
      "Finished because good reasoning was achieved: (2E)-3-(4-Chlorophenyl)-2-(4-phenyl-1,3-thiazol-2-yl)acrylonitrile\n"
     ]
    },
    {
     "name": "stderr",
     "output_type": "stream",
     "text": [
      "  1%|▏         | 351/24889 [1:44:56<357:42:16, 52.48s/it]"
     ]
    },
    {
     "name": "stdout",
     "output_type": "stream",
     "text": [
      "Finished because good reasoning was achieved: (2E)-3-(4-Chlorophenyl)-2-[4-(1-naphthyl)-1,3-thiazol-2-yl]acrylonitrile\n"
     ]
    },
    {
     "name": "stderr",
     "output_type": "stream",
     "text": [
      "  1%|▏         | 353/24889 [1:46:33<323:45:34, 47.50s/it]"
     ]
    },
    {
     "name": "stdout",
     "output_type": "stream",
     "text": [
      "Finished because good reasoning was achieved: (2E)-3-(4-Hydroxy-3-methoxyphenyl)-1-(2-hydroxyphenyl)-2-propen-1-one\n"
     ]
    },
    {
     "name": "stderr",
     "output_type": "stream",
     "text": [
      "  1%|▏         | 354/24889 [1:49:02<530:11:30, 77.79s/it]"
     ]
    },
    {
     "name": "stdout",
     "output_type": "stream",
     "text": [
      "Finished because good reasoning was achieved: (2E)-3-(4-Hydroxyphenyl)-1-phenyl-2-propen-1-one\n"
     ]
    },
    {
     "name": "stderr",
     "output_type": "stream",
     "text": [
      "  1%|▏         | 355/24889 [1:49:33<434:52:17, 63.81s/it]"
     ]
    },
    {
     "name": "stdout",
     "output_type": "stream",
     "text": [
      "Finished because good reasoning was achieved: (2E)-3-(4-Nitrophenyl)-1-phenyl-2-propen-1-one\n"
     ]
    },
    {
     "name": "stderr",
     "output_type": "stream",
     "text": [
      "  1%|▏         | 356/24889 [1:50:06<371:11:51, 54.47s/it]"
     ]
    },
    {
     "name": "stdout",
     "output_type": "stream",
     "text": [
      "Finished because good reasoning was achieved: (2E)-3-(4-fluorophenyl)-2-{4-methyl-5-[(E)-(2,4,6-tribromophenyl)diazenyl]-1,3-thiazol-2-yl}prop-2-enenitrile\n"
     ]
    },
    {
     "name": "stderr",
     "output_type": "stream",
     "text": [
      "  1%|▏         | 357/24889 [1:50:57<365:07:49, 53.58s/it]"
     ]
    },
    {
     "name": "stdout",
     "output_type": "stream",
     "text": [
      "Finished because good reasoning was achieved: (2E)-3-(4-methylphenyl)but-2-enoic acid\n"
     ]
    },
    {
     "name": "stderr",
     "output_type": "stream",
     "text": [
      "  1%|▏         | 358/24889 [1:51:25<312:13:27, 45.82s/it]"
     ]
    },
    {
     "name": "stdout",
     "output_type": "stream",
     "text": [
      "Finished because good reasoning was achieved: (2E)-3-(4-methylpyridin-3-yl)prop-2-enoic acid\n"
     ]
    },
    {
     "name": "stderr",
     "output_type": "stream",
     "text": [
      "  1%|▏         | 359/24889 [1:52:31<354:04:48, 51.96s/it]"
     ]
    },
    {
     "name": "stdout",
     "output_type": "stream",
     "text": [
      "Finished because good reasoning was achieved: (2E)-3-(4H-imidazol-5-yl)-N-[2-(1H-imidazol-5-yl)ethyl]prop-2-enamide\n"
     ]
    },
    {
     "name": "stderr",
     "output_type": "stream",
     "text": [
      "  1%|▏         | 360/24889 [1:52:56<299:10:38, 43.91s/it]"
     ]
    },
    {
     "name": "stdout",
     "output_type": "stream",
     "text": [
      "Finished because good reasoning was achieved: (2E)-3-(5-bromo-8-nitronaphthalen-1-yl)prop-2-enoic acid\n"
     ]
    },
    {
     "name": "stderr",
     "output_type": "stream",
     "text": [
      "  1%|▏         | 361/24889 [1:54:25<389:57:20, 57.23s/it]"
     ]
    },
    {
     "name": "stdout",
     "output_type": "stream",
     "text": [
      "Finished because good reasoning was achieved: (2E)-3-(5-bromofuran-2-yl)-1-(5-methylfuran-2-yl)prop-2-en-1-one\n"
     ]
    },
    {
     "name": "stderr",
     "output_type": "stream",
     "text": [
      "  1%|▏         | 362/24889 [1:54:34<291:57:32, 42.85s/it]"
     ]
    },
    {
     "name": "stdout",
     "output_type": "stream",
     "text": [
      "Finished because good reasoning was achieved: (2E)-3-(5-bromofuran-2-yl)-1-furan-2-ylprop-2-en-1-one\n"
     ]
    },
    {
     "name": "stderr",
     "output_type": "stream",
     "text": [
      "  1%|▏         | 363/24889 [1:54:42<220:49:55, 32.41s/it]"
     ]
    },
    {
     "name": "stdout",
     "output_type": "stream",
     "text": [
      "Finished because good reasoning was achieved: (2E)-3-(5-bromonaphthalen-1-yl)prop-2-enoic acid\n"
     ]
    },
    {
     "name": "stderr",
     "output_type": "stream",
     "text": [
      "  1%|▏         | 364/24889 [1:56:06<325:45:28, 47.82s/it]"
     ]
    },
    {
     "name": "stdout",
     "output_type": "stream",
     "text": [
      "Finished because good reasoning was achieved: (2E)-3-(6-Nitro-1,3-benzodioxol-5-yl)-1-(2,4,6-trimethoxyphenyl)prop-2-en-1-one\n"
     ]
    },
    {
     "name": "stderr",
     "output_type": "stream",
     "text": [
      "  1%|▏         | 365/24889 [1:57:10<359:20:39, 52.75s/it]"
     ]
    },
    {
     "name": "stdout",
     "output_type": "stream",
     "text": [
      "Finished because good reasoning was achieved: (2E)-3-(phenylamino)-1-(5,6,7,8-tetrahydronaphthalen-2-yl)prop-2-en-1-one\n"
     ]
    },
    {
     "name": "stderr",
     "output_type": "stream",
     "text": [
      "  1%|▏         | 366/24889 [1:59:35<547:44:43, 80.41s/it]"
     ]
    },
    {
     "name": "stdout",
     "output_type": "stream",
     "text": [
      "Finished because good reasoning was achieved: (2E)-3-Benzo[1,3]dioxol-5-yl-1-phenyl-2-propen-1-one\n"
     ]
    },
    {
     "name": "stderr",
     "output_type": "stream",
     "text": [
      "  1%|▏         | 367/24889 [1:59:44<401:44:15, 58.98s/it]"
     ]
    },
    {
     "name": "stdout",
     "output_type": "stream",
     "text": [
      "Finished because good reasoning was achieved: (2E)-3-Phenylacrylaldehyde\n"
     ]
    },
    {
     "name": "stderr",
     "output_type": "stream",
     "text": [
      "  1%|▏         | 368/24889 [1:59:57<307:41:50, 45.17s/it]"
     ]
    },
    {
     "name": "stdout",
     "output_type": "stream",
     "text": [
      "Finished because good reasoning was achieved: (2E)-3-Phenylacrylic acid\n"
     ]
    },
    {
     "name": "stderr",
     "output_type": "stream",
     "text": [
      "  1%|▏         | 369/24889 [2:00:07<236:33:27, 34.73s/it]"
     ]
    },
    {
     "name": "stdout",
     "output_type": "stream",
     "text": [
      "Finished because good reasoning was achieved: (2E)-3-Phenylprop-2-en-1-ol\n"
     ]
    },
    {
     "name": "stderr",
     "output_type": "stream",
     "text": [
      "  1%|▏         | 370/24889 [2:00:32<216:42:35, 31.82s/it]"
     ]
    },
    {
     "name": "stdout",
     "output_type": "stream",
     "text": [
      "Finished because good reasoning was achieved: (2E)-3-Phenylprop-2-en-1-yl 2-aminobenzoate\n"
     ]
    },
    {
     "name": "stderr",
     "output_type": "stream",
     "text": [
      "  1%|▏         | 371/24889 [2:00:58<204:45:50, 30.07s/it]"
     ]
    },
    {
     "name": "stdout",
     "output_type": "stream",
     "text": [
      "Finished because good reasoning was achieved: (2E)-3-[(4-hydroxyphenyl)amino]-2-phenylprop-2-enenitrile\n"
     ]
    },
    {
     "name": "stderr",
     "output_type": "stream",
     "text": [
      "  1%|▏         | 372/24889 [2:01:17<182:21:01, 26.78s/it]"
     ]
    },
    {
     "name": "stdout",
     "output_type": "stream",
     "text": [
      "Finished because good reasoning was achieved: (2E)-3-[(4-methylphenyl)amino]-1-(5,6,7,8-tetrahydronaphthalen-2-yl)prop-2-en-1-one\n"
     ]
    },
    {
     "name": "stderr",
     "output_type": "stream",
     "text": [
      "  2%|▏         | 374/24889 [2:03:45<334:37:12, 49.14s/it]"
     ]
    },
    {
     "name": "stdout",
     "output_type": "stream",
     "text": [
      "Finished because good reasoning was achieved: (2E)-3-[2-(4-nitrophenyl)ethoxy]-2-phenylbut-2-enenitrile\n"
     ]
    },
    {
     "name": "stderr",
     "output_type": "stream",
     "text": [
      "  2%|▏         | 375/24889 [2:04:19<303:57:36, 44.64s/it]"
     ]
    },
    {
     "name": "stdout",
     "output_type": "stream",
     "text": [
      "Finished because good reasoning was achieved: (2E)-3-[2-(acetylamino)phenyl]-2-[4-(acetylamino)phenyl]prop-2-enoic acid\n"
     ]
    },
    {
     "name": "stderr",
     "output_type": "stream",
     "text": [
      "  2%|▏         | 376/24889 [2:04:59<293:18:49, 43.08s/it]"
     ]
    },
    {
     "name": "stdout",
     "output_type": "stream",
     "text": [
      "Finished because good reasoning was achieved: (2E)-3-[3-bromo-5-(carboxyethynyl)phenyl]prop-2-enoic acid\n"
     ]
    },
    {
     "name": "stderr",
     "output_type": "stream",
     "text": [
      "  2%|▏         | 377/24889 [2:05:20<248:16:13, 36.46s/it]"
     ]
    },
    {
     "name": "stdout",
     "output_type": "stream",
     "text": [
      "Finished because good reasoning was achieved: (2E)-3-[4-(3-chloropropoxy)phenyl]-1-phenylprop-2-en-1-one\n"
     ]
    },
    {
     "name": "stderr",
     "output_type": "stream",
     "text": [
      "  2%|▏         | 378/24889 [2:05:45<225:43:56, 33.15s/it]"
     ]
    },
    {
     "name": "stdout",
     "output_type": "stream",
     "text": [
      "Finished because good reasoning was achieved: (2E)-3-[4-(Dimethylamino)phenyl]-2-(1-methyl-1H-benzimidazol-2-yl)acrylonitrile\n"
     ]
    },
    {
     "name": "stderr",
     "output_type": "stream",
     "text": [
      "  2%|▏         | 379/24889 [2:07:37<387:23:41, 56.90s/it]"
     ]
    },
    {
     "name": "stdout",
     "output_type": "stream",
     "text": [
      "Finished because good reasoning was achieved: (2E)-3-[4-(Dimethylamino)phenyl]-2-[4-(1-naphthyl)-1,3-thiazol-2-yl]acrylonitrile\n"
     ]
    },
    {
     "name": "stderr",
     "output_type": "stream",
     "text": [
      "  2%|▏         | 381/24889 [2:09:43<380:58:51, 55.96s/it]"
     ]
    },
    {
     "name": "stdout",
     "output_type": "stream",
     "text": [
      "Finished because good reasoning was achieved: (2E)-3-[4-(benzyloxy)-3-methoxyphenyl]-N-{2-[4-(benzyloxy)-3-methoxyphenyl]ethyl}prop-2-enamide\n"
     ]
    },
    {
     "name": "stderr",
     "output_type": "stream",
     "text": [
      "  2%|▏         | 383/24889 [2:12:00<395:24:04, 58.09s/it]"
     ]
    },
    {
     "name": "stdout",
     "output_type": "stream",
     "text": [
      "Finished because good reasoning was achieved: (2E)-3-[4-(oxiran-2-ylmethoxy)phenyl]-1-phenylprop-2-en-1-one\n"
     ]
    },
    {
     "name": "stderr",
     "output_type": "stream",
     "text": [
      "  2%|▏         | 384/24889 [2:14:01<524:58:23, 77.12s/it]"
     ]
    },
    {
     "name": "stdout",
     "output_type": "stream",
     "text": [
      "Finished because good reasoning was achieved: (2E)-3-[5-(2-methoxyphenyl)furan-2-yl]-1-phenylprop-2-en-1-one\n"
     ]
    },
    {
     "name": "stderr",
     "output_type": "stream",
     "text": [
      "  2%|▏         | 385/24889 [2:15:14<516:42:30, 75.91s/it]"
     ]
    },
    {
     "name": "stdout",
     "output_type": "stream",
     "text": [
      "Finished because good reasoning was achieved: (2E)-3-[5-(3-Nitrophenyl)-2-furyl]-1-phenylprop-2-en-1-one\n"
     ]
    },
    {
     "name": "stderr",
     "output_type": "stream",
     "text": [
      "  2%|▏         | 386/24889 [2:15:27<387:59:24, 57.00s/it]"
     ]
    },
    {
     "name": "stdout",
     "output_type": "stream",
     "text": [
      "Finished because good reasoning was achieved: (2E)-3-[5-(4-Bromophenyl)-2-furyl]-1-(2-furyl)prop-2-en-1-one\n"
     ]
    },
    {
     "name": "stderr",
     "output_type": "stream",
     "text": [
      "  2%|▏         | 387/24889 [2:16:18<375:13:14, 55.13s/it]"
     ]
    },
    {
     "name": "stdout",
     "output_type": "stream",
     "text": [
      "Finished because good reasoning was achieved: (2E)-3-[5-(4-Bromophenyl)-2-furyl]-1-phenylprop-2-en-1-one\n"
     ]
    },
    {
     "name": "stderr",
     "output_type": "stream",
     "text": [
      "  2%|▏         | 388/24889 [2:16:35<296:14:07, 43.53s/it]"
     ]
    },
    {
     "name": "stdout",
     "output_type": "stream",
     "text": [
      "Finished because good reasoning was achieved: (2E)-3-[5-(4-Chlorophenyl)-2-furyl]-1-(2-furyl)prop-2-en-1-one\n"
     ]
    },
    {
     "name": "stderr",
     "output_type": "stream",
     "text": [
      "  2%|▏         | 389/24889 [2:16:44<227:37:04, 33.45s/it]"
     ]
    },
    {
     "name": "stdout",
     "output_type": "stream",
     "text": [
      "Finished because good reasoning was achieved: (2E)-3-[5-(4-Chlorophenyl)-2-furyl]-1-phenylprop-2-en-1-one\n"
     ]
    },
    {
     "name": "stderr",
     "output_type": "stream",
     "text": [
      "  2%|▏         | 390/24889 [2:16:56<183:01:25, 26.89s/it]"
     ]
    },
    {
     "name": "stdout",
     "output_type": "stream",
     "text": [
      "Finished because good reasoning was achieved: (2E)-3-[5-(4-Methylphenyl)-2-furyl]-1-phenylprop-2-en-1-one\n"
     ]
    },
    {
     "name": "stderr",
     "output_type": "stream",
     "text": [
      "  2%|▏         | 391/24889 [2:17:06<149:08:11, 21.92s/it]"
     ]
    },
    {
     "name": "stdout",
     "output_type": "stream",
     "text": [
      "Finished because good reasoning was achieved: (2E)-3-[5-(4-Nitrophenyl)-2-furyl]-1-phenylprop-2-en-1-one\n"
     ]
    },
    {
     "name": "stderr",
     "output_type": "stream",
     "text": [
      "  2%|▏         | 392/24889 [2:17:32<157:24:13, 23.13s/it]"
     ]
    },
    {
     "name": "stdout",
     "output_type": "stream",
     "text": [
      "Finished because good reasoning was achieved: (2E)-3-[5-(4-chlorophenyl)furan-2-yl]-1-(5-methylfuran-2-yl)prop-2-en-1-one\n"
     ]
    },
    {
     "name": "stderr",
     "output_type": "stream",
     "text": [
      "  2%|▏         | 394/24889 [2:20:58<379:57:45, 55.84s/it]"
     ]
    },
    {
     "name": "stdout",
     "output_type": "stream",
     "text": [
      "Finished because good reasoning was achieved: (2E)-3-[hydroxy(phenyl)amino]-1-(5,6,7,8-tetrahydronaphthalen-2-yl)prop-2-en-1-one\n"
     ]
    },
    {
     "name": "stderr",
     "output_type": "stream",
     "text": [
      "  2%|▏         | 395/24889 [2:21:10<289:55:11, 42.61s/it]"
     ]
    },
    {
     "name": "stdout",
     "output_type": "stream",
     "text": [
      "Finished because good reasoning was achieved: (2E)-3-furan-2-yl-2-{4-methyl-5-[(E)-(2,4,6-trichlorophenyl)diazenyl]-1,3-thiazol-2-yl}prop-2-enenitrile\n"
     ]
    },
    {
     "name": "stderr",
     "output_type": "stream",
     "text": [
      "  2%|▏         | 396/24889 [2:21:45<274:58:30, 40.42s/it]"
     ]
    },
    {
     "name": "stdout",
     "output_type": "stream",
     "text": [
      "Finished because good reasoning was achieved: (2E)-3-naphthalen-1-yl-2-phenylprop-2-enoic acid\n"
     ]
    },
    {
     "name": "stderr",
     "output_type": "stream",
     "text": [
      "  2%|▏         | 397/24889 [2:22:09<241:15:18, 35.46s/it]"
     ]
    },
    {
     "name": "stdout",
     "output_type": "stream",
     "text": [
      "Finished because good reasoning was achieved: (2E)-3-oxo-3-thiophen-2-yl-2-{[3-(trifluoromethyl)phenyl]hydrazono}propanenitrile\n"
     ]
    },
    {
     "name": "stderr",
     "output_type": "stream",
     "text": [
      "  2%|▏         | 398/24889 [2:22:31<212:50:00, 31.28s/it]"
     ]
    },
    {
     "name": "stdout",
     "output_type": "stream",
     "text": [
      "Finished because good reasoning was achieved: (2E)-3-{[(2E)-2-(carbamoylhydrazono)-2-phenylethyl]oxy}-2-phenylbut-2-enenitrile\n"
     ]
    },
    {
     "name": "stderr",
     "output_type": "stream",
     "text": [
      "  2%|▏         | 400/24889 [2:26:25<458:38:29, 67.42s/it]"
     ]
    },
    {
     "name": "stdout",
     "output_type": "stream",
     "text": [
      "Finished because good reasoning was achieved: (2E)-4,4,4-trifluoro-2-{[5-(4-methylphenyl)-1H-pyrazol-3-yl]hydrazono}-1-thiophen-2-ylbutane-1,3-dione\n"
     ]
    },
    {
     "name": "stderr",
     "output_type": "stream",
     "text": [
      "  2%|▏         | 401/24889 [2:27:32<458:48:11, 67.45s/it]"
     ]
    },
    {
     "name": "stdout",
     "output_type": "stream",
     "text": [
      "Finished because good reasoning was achieved: (2E)-4-[5-chloro-3-(5-methylfuran-2-yl)-1-benzofuran-2-yl]butan-2-one oxime\n"
     ]
    },
    {
     "name": "stderr",
     "output_type": "stream",
     "text": [
      "  2%|▏         | 402/24889 [2:27:46<348:10:10, 51.19s/it]"
     ]
    },
    {
     "name": "stdout",
     "output_type": "stream",
     "text": [
      "Finished because good reasoning was achieved: (2E)-4-methyl-1-phenylpentan-2-one semicarbazone\n"
     ]
    }
   ],
   "source": [
    "#batch \n",
    "for chemical_record in tqdm(chemical_records):\n",
    "\n",
    "    #load record\n",
    "    gen_record=copy.deepcopy(chemical_record)\n",
    "\n",
    "    #skip if already generated\n",
    "    if gen_record[\"name\"] in gen_records:\n",
    "        print(f\"Skip because already generated: {gen_record['name']}\")\n",
    "        continue\n",
    "\n",
    "    record_history=[]\n",
    "\n",
    "    fin_flag=False\n",
    "    #make suggestion with random seed\n",
    "    for j in range(n_random_repeat):\n",
    "        if fin_flag:\n",
    "            break\n",
    "\n",
    "        gen_record[\"Reason\"]=\"\"\n",
    "        gen_record[\"Prediction\"]=\"\"\n",
    "        if j==0:\n",
    "            record_history.append(copy.deepcopy(gen_record))\n",
    "\n",
    "        #improve reasoing\n",
    "        for i in range(n_recursion):\n",
    "            try:\n",
    "                r=json_generate(\n",
    "                    gen_prompt(gen_record,\n",
    "                            reason=gen_record[\"Reason\"],\n",
    "                            prediction=gen_record[\"Prediction\"]\n",
    "                    ),\n",
    "                    model=model,\n",
    "                )\n",
    "            except Exception as e:\n",
    "                #error occurs especially when generatin JSON data by gpt\n",
    "                print(e)\n",
    "                fin_flag=True\n",
    "                break\n",
    "            #parse prediction string to number\n",
    "            gen_record.update(r)\n",
    "            try:\n",
    "                gen_record[\"Prediction(integer)\"]=float(prediction_string_to_number(gen_record[\"Prediction\"])[\"Prediction\"])\n",
    "            except:\n",
    "                gen_record[\"Prediction(integer)\"]=99999\n",
    "            record_history.append(copy.deepcopy(gen_record))\n",
    "            \n",
    "            #finish reasoning if prediction is close to actual value\n",
    "            if abs(gen_record[\"Prediction(integer)\"]-gen_record[\"mpC\"])<=error_threshold:\n",
    "                fin_flag=True\n",
    "                print(f\"Finished because good reasoning was achieved: {gen_record['name']}\")\n",
    "                break\n",
    "\n",
    "    #save\n",
    "    save_name=remove_non_alphabet_characters(gen_record[\"name\"])\n",
    "    save_path=save_base_path+f\"{save_name}.json\"\n",
    "    with open(save_path, 'w') as f:\n",
    "        json.dump(record_history, f, indent=4)\n",
    "\n",
    "    gen_records[gen_record[\"name\"]]=record_history"
   ]
  }
 ],
 "metadata": {
  "kernelspec": {
   "display_name": "chemllm",
   "language": "python",
   "name": "python3"
  },
  "language_info": {
   "codemirror_mode": {
    "name": "ipython",
    "version": 3
   },
   "file_extension": ".py",
   "mimetype": "text/x-python",
   "name": "python",
   "nbconvert_exporter": "python",
   "pygments_lexer": "ipython3",
   "version": "3.10.0"
  }
 },
 "nbformat": 4,
 "nbformat_minor": 2
}
