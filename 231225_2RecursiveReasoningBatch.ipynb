{
 "cells": [
  {
   "cell_type": "code",
   "execution_count": 1,
   "metadata": {},
   "outputs": [],
   "source": [
    "#再帰的に構造ー物性相関データセットから理由を生成させる\n",
    "#バッチ処理\n",
    "\n",
    "#ライブラリの自動インポート\n",
    "%reload_ext autoreload\n",
    "%autoreload 2"
   ]
  },
  {
   "cell_type": "code",
   "execution_count": 2,
   "metadata": {},
   "outputs": [],
   "source": [
    "import openai\n",
    "from tqdm import tqdm\n",
    "import pandas as pd\n",
    "import os\n",
    "import glob\n",
    "import json\n",
    "import copy"
   ]
  },
  {
   "cell_type": "code",
   "execution_count": 3,
   "metadata": {},
   "outputs": [],
   "source": [
    "\n",
    "openai.api_key =os.environ[\"OPENAI_API_KEY\"]"
   ]
  },
  {
   "cell_type": "code",
   "execution_count": 4,
   "metadata": {},
   "outputs": [
    {
     "data": {
      "text/plain": [
       "[{'mpC': 87.0,\n",
       "  'name': '((5-((Diphenylphosphino)methyl)-2,2-dimethyl-1,3-dioxolan-4-yl)methyl)(diphenyl)phosphine',\n",
       "  'smiles': 'P(CC1OC(OC1CP(c1ccccc1)c1ccccc1)(C)C)(c1ccccc1)c1ccccc1',\n",
       "  'csid': 109291,\n",
       "  'link': 'http://dx.doi.org/10.1021/ci0500132',\n",
       "  'source': 'Karthikeyan M.; Glen R.C.; Bender A. General melting point prediction based on a diverse compound dataset and artificial neural networks. J. Chem. Inf. Model.; 2005; 45(3); 581-4277'}]"
      ]
     },
     "execution_count": 4,
     "metadata": {},
     "output_type": "execute_result"
    }
   ],
   "source": [
    "#laod dataset as dict\n",
    "csv_path=\"dataset/BradleyMeltingPointDataset_clean.csv\"\n",
    "df=pd.read_csv(csv_path)\n",
    "chemical_records=df.to_dict(orient='records')\n",
    "chemical_records[:1]"
   ]
  },
  {
   "cell_type": "code",
   "execution_count": 5,
   "metadata": {},
   "outputs": [],
   "source": [
    "model=\"gpt-4-1106-preview\""
   ]
  },
  {
   "cell_type": "code",
   "execution_count": 6,
   "metadata": {},
   "outputs": [],
   "source": [
    "system_prompt=\"\"\"\n",
    "Provide the quantitative Reason and Prediction so that a scientist, who does not know the melting point, can predict the value.\n",
    "\n",
    "#Commands\n",
    "- You must quantitatively consider how the melting point shifts, focusing on each functional groups.\n",
    "- Actual value and Prediction must match each other.\n",
    "- If Actual value and Prediction differ each other, rethink Reason.\n",
    "- If Prediction does not contain numbers for each functional group effect, rethink Reason\n",
    "\n",
    "#Example reason\n",
    "- Target compound: Toluene\n",
    "- Basic unit, benzene has a boiling point of 80.\n",
    "- Methyl group: +30 (due to larger molecular weight)\n",
    "- Prediction: 110\n",
    "\n",
    "\"\"\""
   ]
  },
  {
   "cell_type": "code",
   "execution_count": 7,
   "metadata": {},
   "outputs": [],
   "source": [
    "def gen_prompt(chemical_record,reason=\"\",prediction=\"\"):\n",
    "    name=chemical_record[\"name\"]\n",
    "    smiles=chemical_record[\"smiles\"]\n",
    "    value=chemical_record[\"mpC\"]\n",
    "    prompt=f\"\"\"\n",
    "#Data\n",
    "-Name: {name}\n",
    "-SMILES: {smiles} \n",
    "-Actual value: {value}\n",
    "-Reason: {reason}\n",
    "-Prediction: {prediction}\n",
    "\n",
    "#Output (JSON keys)\n",
    "- Reason, Prediction\n",
    "\"\"\"\n",
    "    return prompt\n"
   ]
  },
  {
   "cell_type": "code",
   "execution_count": 8,
   "metadata": {},
   "outputs": [],
   "source": [
    "import json\n",
    "\n",
    "#ask gpt\n",
    "def json_generate(prompt,model=\"gpt-3.5-turbo-1106\"):\n",
    "    response = openai.chat.completions.create(\n",
    "    model=model,\n",
    "    messages=[\n",
    "        {\n",
    "            \"role\": \"system\",\n",
    "            \"content\": system_prompt,\n",
    "        },\n",
    "        {\n",
    "            \"role\": \"user\",\n",
    "            \"content\": f\"\"\"{prompt}\"\"\"\n",
    "        }  \n",
    "    ],\n",
    "    response_format={ \"type\": \"json_object\" }\n",
    "    )\n",
    "\n",
    "    return (json.loads(response.choices[0].message.content))\n",
    "\n",
    "\n",
    "#parse prediction\n",
    "def prediction_string_to_number(prompt,model=\"gpt-3.5-turbo-1106\"):\n",
    "    response = openai.chat.completions.create(\n",
    "    model=model,\n",
    "    messages=[\n",
    "        {\n",
    "            \"role\": \"system\",\n",
    "            \"content\": \"\"\"Extract integer from prediction. Use average if multiple numbers are included.\n",
    "            Examples:\n",
    "            In: 70.2 - 75.2 degrees Celsius\n",
    "            Out: 73\n",
    "            In: 75.2 degrees Celsius\n",
    "            Out: 73\n",
    "            In: For 1-naphthalenecarboxaldehyde, starting with the base value for naphthalene with a melting point of 80\\u00b0C and subtracting the estimated aldehyde effect of approximately -47 to -50\\u00b0C, the predicted melting point would be in the range of 30-33\\u00b0C.\n",
    "            Out: 32\n",
    "            \"\"\",\n",
    "        },\n",
    "        {\n",
    "            \"role\": \"user\",\n",
    "            \"content\": f\"\"\"{prompt}\n",
    "\"#Output (JSON keys)\n",
    "- Prediction\"\"\"\n",
    "        }  \n",
    "    ],\n",
    "    response_format={ \"type\": \"json_object\" }\n",
    "    )\n",
    "\n",
    "    return (json.loads(response.choices[0].message.content))"
   ]
  },
  {
   "cell_type": "code",
   "execution_count": 9,
   "metadata": {},
   "outputs": [],
   "source": [
    "#t=prediction_string_to_number(\"Considering a starting point of 80\\u00b0C for naphthalene and accounting for the influence of the aldehyde functional group, which can reduce the melting point by 47 to 50\\u00b0C, the estimated melting point for 1-naphthalenecarboxaldehyde is around 30 to 33\\u00b0C, closely aligning with the actual value of 33.5\\u00b0C.\")\n",
    "#t"
   ]
  },
  {
   "cell_type": "code",
   "execution_count": 10,
   "metadata": {},
   "outputs": [
    {
     "name": "stderr",
     "output_type": "stream",
     "text": [
      "100%|██████████| 9/9 [00:00<00:00, 29817.33it/s]\n"
     ]
    }
   ],
   "source": [
    "\n",
    "save_base_path=\"dataset/231225AutoReasoning/\"\n",
    "\n",
    "\n",
    "#load finished records\n",
    "gen_records={}\n",
    "gen_json_path_list=glob.glob(save_base_path+\"*.json\")\n",
    "for gen_json_path in tqdm(gen_json_path_list):\n",
    "    with open(gen_json_path) as f:\n",
    "        gen_hist=json.load(f)\n",
    "    gen_records[gen_hist[0][\"name\"]]=gen_hist"
   ]
  },
  {
   "cell_type": "code",
   "execution_count": 11,
   "metadata": {},
   "outputs": [],
   "source": [
    "import re\n",
    "\n",
    "def remove_non_alphabet_characters(s):\n",
    "    # Using regex to remove all non-alphabet characters\n",
    "    return re.sub('[^a-zA-Z]', '', s)"
   ]
  },
  {
   "cell_type": "code",
   "execution_count": 12,
   "metadata": {},
   "outputs": [],
   "source": [
    "n_recursion=2\n",
    "n_random_repeat=3\n",
    "error_threshold=10"
   ]
  },
  {
   "cell_type": "code",
   "execution_count": 13,
   "metadata": {},
   "outputs": [
    {
     "name": "stderr",
     "output_type": "stream",
     "text": [
      "  0%|          | 1/24889 [01:39<685:12:18, 99.11s/it]"
     ]
    },
    {
     "name": "stdout",
     "output_type": "stream",
     "text": [
      "Finished because good reasoning was achieved: ((5-((Diphenylphosphino)methyl)-2,2-dimethyl-1,3-dioxolan-4-yl)methyl)(diphenyl)phosphine\n"
     ]
    },
    {
     "name": "stderr",
     "output_type": "stream",
     "text": [
      "  0%|          | 2/24889 [02:21<455:02:07, 65.82s/it]"
     ]
    },
    {
     "name": "stdout",
     "output_type": "stream",
     "text": [
      "Finished because good reasoning was achieved: (+)-alpha-pinene\n"
     ]
    },
    {
     "name": "stderr",
     "output_type": "stream",
     "text": [
      "  0%|          | 3/24889 [02:45<321:37:31, 46.53s/it]"
     ]
    },
    {
     "name": "stdout",
     "output_type": "stream",
     "text": [
      "Finished because good reasoning was achieved: (+)-camphene\n"
     ]
    },
    {
     "name": "stderr",
     "output_type": "stream",
     "text": [
      "  0%|          | 4/24889 [02:57<229:27:30, 33.19s/it]"
     ]
    },
    {
     "name": "stdout",
     "output_type": "stream",
     "text": [
      "Finished because good reasoning was achieved: (+)-fenchol\n"
     ]
    },
    {
     "name": "stderr",
     "output_type": "stream",
     "text": [
      "  0%|          | 5/24889 [04:18<348:23:36, 50.40s/it]"
     ]
    },
    {
     "name": "stdout",
     "output_type": "stream",
     "text": [
      "Finished because good reasoning was achieved: (+)-isomenthol\n"
     ]
    },
    {
     "name": "stderr",
     "output_type": "stream",
     "text": [
      "  0%|          | 7/24889 [08:40<595:14:40, 86.12s/it] "
     ]
    },
    {
     "name": "stdout",
     "output_type": "stream",
     "text": [
      "Finished because good reasoning was achieved: (+-)camphor\n"
     ]
    },
    {
     "name": "stderr",
     "output_type": "stream",
     "text": [
      "  0%|          | 8/24889 [09:03<455:36:24, 65.92s/it]"
     ]
    },
    {
     "name": "stdout",
     "output_type": "stream",
     "text": [
      "Finished because good reasoning was achieved: (+/+)-ibuprofen\n"
     ]
    },
    {
     "name": "stderr",
     "output_type": "stream",
     "text": [
      "  0%|          | 9/24889 [12:54<812:20:17, 117.54s/it]"
     ]
    },
    {
     "name": "stdout",
     "output_type": "stream",
     "text": [
      "Finished because good reasoning was achieved: (+/+)-indoprofen\n"
     ]
    },
    {
     "name": "stderr",
     "output_type": "stream",
     "text": [
      "  0%|          | 11/24889 [16:20<741:42:39, 107.33s/it]"
     ]
    },
    {
     "name": "stdout",
     "output_type": "stream",
     "text": [
      "Finished because good reasoning was achieved: (-)-2-amino-3-phenyl-1-propanol\n"
     ]
    },
    {
     "name": "stderr",
     "output_type": "stream",
     "text": [
      "  0%|          | 12/24889 [16:49<575:36:01, 83.30s/it] "
     ]
    },
    {
     "name": "stdout",
     "output_type": "stream",
     "text": [
      "Finished because good reasoning was achieved: (-)-beta-caryophyllene epoxide\n"
     ]
    },
    {
     "name": "stderr",
     "output_type": "stream",
     "text": [
      "  0%|          | 13/24889 [17:32<490:53:33, 71.04s/it]"
     ]
    },
    {
     "name": "stdout",
     "output_type": "stream",
     "text": [
      "Finished because good reasoning was achieved: (-)-levonorgestrel\n"
     ]
    },
    {
     "name": "stderr",
     "output_type": "stream",
     "text": [
      "  0%|          | 14/24889 [17:47<374:42:26, 54.23s/it]"
     ]
    },
    {
     "name": "stdout",
     "output_type": "stream",
     "text": [
      "Finished because good reasoning was achieved: (-)-menthone\n"
     ]
    },
    {
     "name": "stderr",
     "output_type": "stream",
     "text": [
      "  0%|          | 15/24889 [18:14<317:01:08, 45.88s/it]"
     ]
    },
    {
     "name": "stdout",
     "output_type": "stream",
     "text": [
      "Finished because good reasoning was achieved: (1'S,3aR,4R,6'S,7aR,9'R,10'S)-7a,10'-Dimethyltetrahydro-1H,11'H-spiro[2-benzofuran-4,5'-[3]oxatricyclo[7.2.1.0~1,6~]dodecane]-2',3,11'(3aH)-trione\n"
     ]
    },
    {
     "name": "stderr",
     "output_type": "stream",
     "text": [
      "  0%|          | 16/24889 [21:06<580:45:55, 84.06s/it]"
     ]
    },
    {
     "name": "stdout",
     "output_type": "stream",
     "text": [
      "Finished because good reasoning was achieved: (1,1'-binaphthalene)-2,2'-diol\n"
     ]
    },
    {
     "name": "stderr",
     "output_type": "stream",
     "text": [
      "  0%|          | 17/24889 [21:57<511:59:32, 74.11s/it]"
     ]
    },
    {
     "name": "stdout",
     "output_type": "stream",
     "text": [
      "Finished because good reasoning was achieved: (1,1'-biphenyl)-2,5-diol, diacetate\n"
     ]
    },
    {
     "name": "stderr",
     "output_type": "stream",
     "text": [
      "  0%|          | 18/24889 [22:04<372:46:03, 53.96s/it]"
     ]
    },
    {
     "name": "stdout",
     "output_type": "stream",
     "text": [
      "Finished because good reasoning was achieved: (1,1'-biphenyl)-4,4'-dicarbonitrile\n"
     ]
    },
    {
     "name": "stderr",
     "output_type": "stream",
     "text": [
      "  0%|          | 19/24889 [22:40<333:58:35, 48.34s/it]"
     ]
    },
    {
     "name": "stdout",
     "output_type": "stream",
     "text": [
      "Finished because good reasoning was achieved: (1,1'-biphenyl)-4-ol, 3-amino-\n"
     ]
    },
    {
     "name": "stderr",
     "output_type": "stream",
     "text": [
      "  0%|          | 20/24889 [24:02<404:11:20, 58.51s/it]"
     ]
    },
    {
     "name": "stdout",
     "output_type": "stream",
     "text": [
      "Finished because good reasoning was achieved: (1,2,2,3-tetramethylcyclopentyl)methanol\n"
     ]
    },
    {
     "name": "stderr",
     "output_type": "stream",
     "text": [
      "  0%|          | 21/24889 [26:00<527:01:49, 76.30s/it]"
     ]
    },
    {
     "name": "stdout",
     "output_type": "stream",
     "text": [
      "Finished because good reasoning was achieved: (1,2,2,3-tetramethylcyclopentyl)methyl 4,7,7-trimethyl-3-oxobicyclo[2.2.1]heptane-2-carboxylate\n"
     ]
    },
    {
     "name": "stderr",
     "output_type": "stream",
     "text": [
      "  0%|          | 22/24889 [26:59<491:19:28, 71.13s/it]"
     ]
    },
    {
     "name": "stdout",
     "output_type": "stream",
     "text": [
      "Finished because good reasoning was achieved: (1,2,2,3-tetramethylcyclopentyl)methyl 4-aminobenzoate\n"
     ]
    },
    {
     "name": "stderr",
     "output_type": "stream",
     "text": [
      "  0%|          | 23/24889 [27:39<427:51:32, 61.94s/it]"
     ]
    },
    {
     "name": "stdout",
     "output_type": "stream",
     "text": [
      "Finished because good reasoning was achieved: (1,2,2,3-tetramethylcyclopentyl)methyl 4-nitrobenzoate\n"
     ]
    },
    {
     "name": "stderr",
     "output_type": "stream",
     "text": [
      "  0%|          | 24/24889 [27:48<318:43:59, 46.15s/it]"
     ]
    },
    {
     "name": "stdout",
     "output_type": "stream",
     "text": [
      "Finished because good reasoning was achieved: (1,2-dibromoethyl)benzene\n"
     ]
    },
    {
     "name": "stderr",
     "output_type": "stream",
     "text": [
      "  0%|          | 25/24889 [28:23<294:57:39, 42.71s/it]"
     ]
    },
    {
     "name": "stdout",
     "output_type": "stream",
     "text": [
      "Finished because good reasoning was achieved: (1,4-Benzodioxan-2-ylmethyl)guanidine\n"
     ]
    },
    {
     "name": "stderr",
     "output_type": "stream",
     "text": [
      "  0%|          | 26/24889 [28:32<225:22:58, 32.63s/it]"
     ]
    },
    {
     "name": "stdout",
     "output_type": "stream",
     "text": [
      "Finished because good reasoning was achieved: (1,4-diphenyl)-1,3-butadiene\n"
     ]
    },
    {
     "name": "stderr",
     "output_type": "stream",
     "text": [
      "  0%|          | 27/24889 [28:43<179:53:38, 26.05s/it]"
     ]
    },
    {
     "name": "stdout",
     "output_type": "stream",
     "text": [
      "Finished because good reasoning was achieved: (1-Hydroxy-5,8-dihydronaphthalen-2-yl)(1-naphthyl)methanone\n"
     ]
    },
    {
     "name": "stderr",
     "output_type": "stream",
     "text": [
      "  0%|          | 28/24889 [29:59<283:42:52, 41.08s/it]"
     ]
    },
    {
     "name": "stdout",
     "output_type": "stream",
     "text": [
      "Finished because good reasoning was achieved: (1-Hydroxyethane-1,1-diyl)bis(phosphonic acid)\n"
     ]
    },
    {
     "name": "stderr",
     "output_type": "stream",
     "text": [
      "  0%|          | 29/24889 [30:19<240:40:36, 34.85s/it]"
     ]
    },
    {
     "name": "stdout",
     "output_type": "stream",
     "text": [
      "Finished because good reasoning was achieved: (1-bromoethyl)benzene\n"
     ]
    },
    {
     "name": "stderr",
     "output_type": "stream",
     "text": [
      "  0%|          | 30/24889 [31:03<258:14:09, 37.40s/it]"
     ]
    },
    {
     "name": "stdout",
     "output_type": "stream",
     "text": [
      "Finished because good reasoning was achieved: (1-methyl-1H-benzimidazol-2-yl)(3-nitropyridin-2-yl)acetonitrile\n"
     ]
    },
    {
     "name": "stderr",
     "output_type": "stream",
     "text": [
      "  0%|          | 31/24889 [31:31<239:20:57, 34.66s/it]"
     ]
    },
    {
     "name": "stdout",
     "output_type": "stream",
     "text": [
      "Finished because good reasoning was achieved: (10S)-10-Hydroxy-10-(2-oxopropyl)phenanthren-9(10H)-one\n"
     ]
    },
    {
     "name": "stderr",
     "output_type": "stream",
     "text": [
      "  0%|          | 32/24889 [31:54<214:38:27, 31.09s/it]"
     ]
    },
    {
     "name": "stdout",
     "output_type": "stream",
     "text": [
      "Finished because good reasoning was achieved: (11beta)-11,17,21-Trihydroxypregn-4-ene-3,20-dione\n"
     ]
    },
    {
     "name": "stderr",
     "output_type": "stream",
     "text": [
      "  0%|          | 33/24889 [32:10<184:31:32, 26.73s/it]"
     ]
    },
    {
     "name": "stdout",
     "output_type": "stream",
     "text": [
      "Finished because good reasoning was achieved: (11beta)-11,17-Dihydroxy-3,20-dioxopregna-1,4-dien-21-yl acetate\n"
     ]
    },
    {
     "name": "stderr",
     "output_type": "stream",
     "text": [
      "  0%|          | 34/24889 [33:01<233:51:16, 33.87s/it]"
     ]
    },
    {
     "name": "stdout",
     "output_type": "stream",
     "text": [
      "Finished because good reasoning was achieved: (13E,14aR,18aR,19E)-5,8,14a,15,16,17,18,18a-octahydrotribenzo[b,f,l][1,4,8,11]tetraazacyclotetradecine-6,7-dione\n"
     ]
    },
    {
     "name": "stderr",
     "output_type": "stream",
     "text": [
      "  0%|          | 35/24889 [33:43<251:43:25, 36.46s/it]"
     ]
    },
    {
     "name": "stdout",
     "output_type": "stream",
     "text": [
      "Finished because good reasoning was achieved: (13Z)-Docos-13-enamide\n"
     ]
    },
    {
     "name": "stderr",
     "output_type": "stream",
     "text": [
      "  0%|          | 36/24889 [35:35<407:59:52, 59.10s/it]"
     ]
    },
    {
     "name": "stdout",
     "output_type": "stream",
     "text": [
      "Finished because good reasoning was achieved: (13aS)-10-Hydroxy-9-methoxy-5,6,13,13a-tetrahydro-8H-[1,3]dioxolo[4,5-g]isoquinolino[3,2-a]isoquinolin-8-one\n"
     ]
    },
    {
     "name": "stderr",
     "output_type": "stream",
     "text": [
      "  0%|          | 37/24889 [36:08<354:12:15, 51.31s/it]"
     ]
    },
    {
     "name": "stdout",
     "output_type": "stream",
     "text": [
      "Finished because good reasoning was achieved: (13cR)-13c-Methoxy-3,13c-dihydrodibenzo[a,kl]xanthen-1(2H)-one\n"
     ]
    },
    {
     "name": "stderr",
     "output_type": "stream",
     "text": [
      "  0%|          | 38/24889 [37:00<355:31:41, 51.50s/it]"
     ]
    },
    {
     "name": "stdout",
     "output_type": "stream",
     "text": [
      "Finished because good reasoning was achieved: (17-oxoandrost-2-en-3-yl)acetic acid\n"
     ]
    },
    {
     "name": "stderr",
     "output_type": "stream",
     "text": [
      "  0%|          | 39/24889 [37:29<307:29:40, 44.55s/it]"
     ]
    },
    {
     "name": "stdout",
     "output_type": "stream",
     "text": [
      "Finished because good reasoning was achieved: (17beta)-17-Ethynyl-3,17-dimethoxyestra-1,3,5(10)-triene\n"
     ]
    },
    {
     "name": "stderr",
     "output_type": "stream",
     "text": [
      "  0%|          | 40/24889 [38:33<348:45:55, 50.53s/it]"
     ]
    },
    {
     "name": "stdout",
     "output_type": "stream",
     "text": [
      "Finished because good reasoning was achieved: (17beta)-17-Ethynylestra-1(10),2,4-triene-3,17-diol\n"
     ]
    },
    {
     "name": "stderr",
     "output_type": "stream",
     "text": [
      "  0%|          | 41/24889 [38:45<268:40:32, 38.93s/it]"
     ]
    },
    {
     "name": "stdout",
     "output_type": "stream",
     "text": [
      "Finished because good reasoning was achieved: (17beta)-17-Hydroxyandrost-4-en-3-one\n"
     ]
    },
    {
     "name": "stderr",
     "output_type": "stream",
     "text": [
      "  0%|          | 42/24889 [40:01<345:57:23, 50.12s/it]"
     ]
    },
    {
     "name": "stdout",
     "output_type": "stream",
     "text": [
      "Finished because good reasoning was achieved: (17beta)-3-Oxoandrost-4-ene-17-carboxylic acid\n"
     ]
    },
    {
     "name": "stderr",
     "output_type": "stream",
     "text": [
      "  0%|          | 43/24889 [40:10<259:57:43, 37.67s/it]"
     ]
    },
    {
     "name": "stdout",
     "output_type": "stream",
     "text": [
      "Finished because good reasoning was achieved: (17beta)-Estra-1(10),2,4-triene-3,17-diol\n"
     ]
    },
    {
     "name": "stderr",
     "output_type": "stream",
     "text": [
      "  0%|          | 44/24889 [41:53<395:21:28, 57.29s/it]"
     ]
    },
    {
     "name": "stdout",
     "output_type": "stream",
     "text": [
      "Skip because already generated: (1E)-1-(1,2-dihydroacenaphthylen-5-yl)-N-hydroxy-2-phenylethanimine\n"
     ]
    },
    {
     "name": "stderr",
     "output_type": "stream",
     "text": [
      "  0%|          | 47/24889 [47:47<689:45:09, 99.96s/it]"
     ]
    },
    {
     "name": "stdout",
     "output_type": "stream",
     "text": [
      "Finished because good reasoning was achieved: (1E)-1-(1-naphthalen-2-yl-2-phenylethylidene)-2-phenylhydrazine\n"
     ]
    },
    {
     "name": "stderr",
     "output_type": "stream",
     "text": [
      "  0%|          | 48/24889 [53:46<1157:53:44, 167.80s/it]"
     ]
    },
    {
     "name": "stdout",
     "output_type": "stream",
     "text": [
      "Finished because good reasoning was achieved: (1E)-1-(2-bromo-5-methoxybicyclo[4.2.0]octa-1,3,5-trien-7-ylidene)-2-(2,4-dinitrophenyl)hydrazine\n"
     ]
    },
    {
     "name": "stderr",
     "output_type": "stream",
     "text": [
      "  0%|          | 49/24889 [54:36<937:05:36, 135.81s/it] "
     ]
    },
    {
     "name": "stdout",
     "output_type": "stream",
     "text": [
      "Finished because good reasoning was achieved: (1E)-1-(4,7,7-trimethylbicyclo[2.2.1]hept-2-en-2-yl)propan-1-one oxime\n"
     ]
    },
    {
     "name": "stderr",
     "output_type": "stream",
     "text": [
      "  0%|          | 50/24889 [54:52<705:37:17, 102.27s/it]"
     ]
    },
    {
     "name": "stdout",
     "output_type": "stream",
     "text": [
      "Finished because good reasoning was achieved: (1E)-1-Benzylidene-2-(2,4-dinitrophenyl)hydrazine\n"
     ]
    },
    {
     "name": "stderr",
     "output_type": "stream",
     "text": [
      "  0%|          | 51/24889 [56:21<678:37:43, 98.36s/it] "
     ]
    },
    {
     "name": "stdout",
     "output_type": "stream",
     "text": [
      "Finished because good reasoning was achieved: (1E)-1-Phenyl-N-[(3,4,5,6-tetrafluoropyridin-2-yl)oxy]ethanimine\n"
     ]
    },
    {
     "name": "stderr",
     "output_type": "stream",
     "text": [
      "  0%|          | 52/24889 [56:37<514:23:38, 74.56s/it]"
     ]
    },
    {
     "name": "stdout",
     "output_type": "stream",
     "text": [
      "Finished because good reasoning was achieved: (1E)-1-[(5-bromonaphthalen-1-yl)methylidene]-2-phenylhydrazine\n"
     ]
    },
    {
     "name": "stderr",
     "output_type": "stream",
     "text": [
      "  0%|          | 53/24889 [58:02<535:28:33, 77.62s/it]"
     ]
    },
    {
     "name": "stdout",
     "output_type": "stream",
     "text": [
      "Finished because good reasoning was achieved: (1E)-1-[1-(1H-inden-2-yl)ethylidene]-2-phenylhydrazine\n"
     ]
    },
    {
     "name": "stderr",
     "output_type": "stream",
     "text": [
      "  0%|          | 54/24889 [58:19<412:26:42, 59.79s/it]"
     ]
    },
    {
     "name": "stdout",
     "output_type": "stream",
     "text": [
      "Finished because good reasoning was achieved: (1E)-1-[4-(dimethylamino)phenyl]-5-phenylpent-1-en-3-one\n"
     ]
    },
    {
     "name": "stderr",
     "output_type": "stream",
     "text": [
      "  0%|          | 55/24889 [58:55<364:07:58, 52.79s/it]"
     ]
    },
    {
     "name": "stdout",
     "output_type": "stream",
     "text": [
      "Finished because good reasoning was achieved: (1E)-1-benzylidene-2-(3-nitrophenyl)hydrazine\n"
     ]
    },
    {
     "name": "stderr",
     "output_type": "stream",
     "text": [
      "  0%|          | 56/24889 [59:08<281:43:24, 40.84s/it]"
     ]
    },
    {
     "name": "stdout",
     "output_type": "stream",
     "text": [
      "Finished because good reasoning was achieved: (1E)-1-bicyclo[4.2.0]octa-1,3,5-trien-7-ylidene-2-(2,4-dinitrophenyl)hydrazine\n"
     ]
    },
    {
     "name": "stderr",
     "output_type": "stream",
     "text": [
      "  0%|          | 57/24889 [59:31<243:50:42, 35.35s/it]"
     ]
    },
    {
     "name": "stdout",
     "output_type": "stream",
     "text": [
      "Finished because good reasoning was achieved: (1E)-1-bicyclo[4.2.0]octa-1,3,5-trien-7-ylidenepropan-2-one\n"
     ]
    },
    {
     "name": "stderr",
     "output_type": "stream",
     "text": [
      "  0%|          | 58/24889 [1:00:31<295:40:20, 42.87s/it]"
     ]
    },
    {
     "name": "stdout",
     "output_type": "stream",
     "text": [
      "Finished because good reasoning was achieved: (1E)-1-hydroxy-5-phenylpent-1-en-3-one\n"
     ]
    },
    {
     "name": "stderr",
     "output_type": "stream",
     "text": [
      "  0%|          | 59/24889 [1:01:02<271:04:25, 39.30s/it]"
     ]
    },
    {
     "name": "stdout",
     "output_type": "stream",
     "text": [
      "Finished because good reasoning was achieved: (1E)-1-{2-nitro-4-[(Z)-(2-phenylhydrazinylidene)methyl]benzylidene}-2-phenylhydrazine\n"
     ]
    },
    {
     "name": "stderr",
     "output_type": "stream",
     "text": [
      "  0%|          | 60/24889 [1:04:51<661:56:28, 95.98s/it]"
     ]
    },
    {
     "name": "stdout",
     "output_type": "stream",
     "text": [
      "Finished because good reasoning was achieved: (1E)-2-hydrazino-2-thioxoethanehydrazonamide\n"
     ]
    },
    {
     "name": "stderr",
     "output_type": "stream",
     "text": [
      "  0%|          | 61/24889 [1:05:48<582:19:48, 84.44s/it]"
     ]
    },
    {
     "name": "stdout",
     "output_type": "stream",
     "text": [
      "Finished because good reasoning was achieved: (1E)-3,6-dimethyl-2,3-dihydro-1H-inden-1-one semicarbazone\n"
     ]
    },
    {
     "name": "stderr",
     "output_type": "stream",
     "text": [
      "  0%|          | 63/24889 [1:10:42<726:03:00, 105.28s/it]"
     ]
    },
    {
     "name": "stdout",
     "output_type": "stream",
     "text": [
      "Finished because good reasoning was achieved: (1E)-5-(4-methylphenyl)-1-phenylhex-1-en-3-one\n"
     ]
    },
    {
     "name": "stderr",
     "output_type": "stream",
     "text": [
      "  0%|          | 64/24889 [1:11:02<548:26:20, 79.53s/it] "
     ]
    },
    {
     "name": "stdout",
     "output_type": "stream",
     "text": [
      "Finished because good reasoning was achieved: (1E)-5-Isopropenyl-2-methyl-2-cyclohexen-1-one oxime\n"
     ]
    },
    {
     "name": "stderr",
     "output_type": "stream",
     "text": [
      "  0%|          | 65/24889 [1:11:27<435:12:01, 63.11s/it]"
     ]
    },
    {
     "name": "stdout",
     "output_type": "stream",
     "text": [
      "Finished because good reasoning was achieved: (1E)-5-methyl-2-(1-methylethyl)cyclohexanone semicarbazone\n"
     ]
    },
    {
     "name": "stderr",
     "output_type": "stream",
     "text": [
      "  0%|          | 66/24889 [1:16:02<873:27:12, 126.67s/it]"
     ]
    },
    {
     "name": "stdout",
     "output_type": "stream",
     "text": [
      "Finished because good reasoning was achieved: (1E)-N'-methyl-2-(2-methylhydrazino)-2-thioxoethanehydrazonamide\n"
     ]
    },
    {
     "name": "stderr",
     "output_type": "stream",
     "text": [
      "  0%|          | 67/24889 [1:16:52<714:27:07, 103.62s/it]"
     ]
    },
    {
     "name": "stdout",
     "output_type": "stream",
     "text": [
      "Finished because good reasoning was achieved: (1E)-N,N'-bis(4-ethoxyphenyl)-2-[(4-ethoxyphenyl)amino]ethanimidamide\n"
     ]
    },
    {
     "name": "stderr",
     "output_type": "stream",
     "text": [
      "  0%|          | 68/24889 [1:18:19<680:47:35, 98.74s/it] "
     ]
    },
    {
     "name": "stdout",
     "output_type": "stream",
     "text": [
      "Finished because good reasoning was achieved: (1E)-N,N'-bis(4-methoxyphenyl)-2-[(4-methoxyphenyl)amino]ethanimidamide\n"
     ]
    },
    {
     "name": "stderr",
     "output_type": "stream",
     "text": [
      "  0%|          | 69/24889 [1:22:20<975:56:55, 141.56s/it]"
     ]
    },
    {
     "name": "stdout",
     "output_type": "stream",
     "text": [
      "Finished because good reasoning was achieved: (1E)-N,N'-bis(4-methylphenyl)-2-[(4-methylphenyl)amino]ethanimidamide\n"
     ]
    },
    {
     "name": "stderr",
     "output_type": "stream",
     "text": [
      "  0%|          | 70/24889 [1:24:05<900:34:26, 130.63s/it]"
     ]
    },
    {
     "name": "stdout",
     "output_type": "stream",
     "text": [
      "Finished because good reasoning was achieved: (1E)-N,N'-dibiphenyl-4-yl-2-(biphenyl-4-ylamino)ethanimidamide\n"
     ]
    },
    {
     "name": "stderr",
     "output_type": "stream",
     "text": [
      "  0%|          | 71/24889 [1:25:05<752:53:52, 109.21s/it]"
     ]
    },
    {
     "name": "stdout",
     "output_type": "stream",
     "text": [
      "Finished because good reasoning was achieved: (1E)-N-hydroxy-1-(4,7,7-trimethylbicyclo[2.2.1]hept-2-yl)ethanimine\n"
     ]
    },
    {
     "name": "stderr",
     "output_type": "stream",
     "text": [
      "  0%|          | 72/24889 [1:29:52<1121:50:13, 162.74s/it]"
     ]
    },
    {
     "name": "stdout",
     "output_type": "stream",
     "text": [
      "Finished because good reasoning was achieved: (1E)-N-hydroxy-1-(4,7,7-trimethylbicyclo[2.2.1]hept-2-yl)propan-1-imine\n"
     ]
    },
    {
     "name": "stderr",
     "output_type": "stream",
     "text": [
      "  0%|          | 73/24889 [1:31:07<938:53:03, 136.20s/it] "
     ]
    },
    {
     "name": "stdout",
     "output_type": "stream",
     "text": [
      "Finished because good reasoning was achieved: (1E)-N-hydroxy-1-(naphthalen-1-yl)-2-phenylethanimine\n"
     ]
    },
    {
     "name": "stderr",
     "output_type": "stream",
     "text": [
      "  0%|          | 74/24889 [1:32:01<770:26:56, 111.77s/it]"
     ]
    },
    {
     "name": "stdout",
     "output_type": "stream",
     "text": [
      "Finished because good reasoning was achieved: (1E)-N-hydroxy-1-(naphthalen-2-yl)-2-phenylethanimine\n"
     ]
    },
    {
     "name": "stderr",
     "output_type": "stream",
     "text": [
      "  0%|          | 75/24889 [1:33:26<714:51:37, 103.71s/it]"
     ]
    },
    {
     "name": "stdout",
     "output_type": "stream",
     "text": [
      "Finished because good reasoning was achieved: (1E)-nitroethanal semicarbazone\n"
     ]
    },
    {
     "name": "stderr",
     "output_type": "stream",
     "text": [
      "  0%|          | 76/24889 [1:34:00<571:04:05, 82.85s/it] "
     ]
    },
    {
     "name": "stdout",
     "output_type": "stream",
     "text": [
      "Finished because good reasoning was achieved: (1E,1'E)-1,1'-{benzene-1,3-diylbis[(1E,2Z)-2-(phenylhydrazono)eth-1-yl-1-ylidene]}bis(2-phenylhydrazine)\n"
     ]
    },
    {
     "name": "stderr",
     "output_type": "stream",
     "text": [
      "  0%|          | 77/24889 [1:35:18<559:53:16, 81.23s/it]"
     ]
    },
    {
     "name": "stdout",
     "output_type": "stream",
     "text": [
      "Finished because good reasoning was achieved: (1E,2E)-bis[4-(benzyloxy)-3-methoxybenzylidene]hydrazine\n"
     ]
    },
    {
     "name": "stderr",
     "output_type": "stream",
     "text": [
      "  0%|          | 78/24889 [1:36:16<512:42:01, 74.39s/it]"
     ]
    },
    {
     "name": "stdout",
     "output_type": "stream",
     "text": [
      "Finished because good reasoning was achieved: (1E,3E)-3-[(benzoyloxy)imino]-2-methylbut-1-en-1-yl benzoate\n"
     ]
    },
    {
     "name": "stderr",
     "output_type": "stream",
     "text": [
      "  0%|          | 79/24889 [1:39:51<802:43:41, 116.48s/it]"
     ]
    },
    {
     "name": "stdout",
     "output_type": "stream",
     "text": [
      "Finished because good reasoning was achieved: (1E,3Z)-4-(acetyloxy)-1,4-diphenylbuta-1,3-dien-1-yl acetate\n"
     ]
    },
    {
     "name": "stderr",
     "output_type": "stream",
     "text": [
      "  0%|          | 80/24889 [1:46:07<1338:30:39, 194.23s/it]"
     ]
    },
    {
     "name": "stdout",
     "output_type": "stream",
     "text": [
      "Finished because good reasoning was achieved: (1E,4E)-1,5-Di(2-naphthyl)-1,4-pentadien-3-one\n"
     ]
    },
    {
     "name": "stderr",
     "output_type": "stream",
     "text": [
      "  0%|          | 81/24889 [1:48:44<1263:03:09, 183.29s/it]"
     ]
    },
    {
     "name": "stdout",
     "output_type": "stream",
     "text": [
      "Finished because good reasoning was achieved: (1E,6E)-1,7-Bis(4-hydroxy-3-methoxyphenyl)hepta-1,6-diene-3,5-dione\n"
     ]
    },
    {
     "name": "stderr",
     "output_type": "stream",
     "text": [
      "  0%|          | 82/24889 [1:49:11<939:48:47, 136.39s/it] "
     ]
    },
    {
     "name": "stdout",
     "output_type": "stream",
     "text": [
      "Finished because good reasoning was achieved: (1R)-3-Oxoindane-1-carboxylic acid\n"
     ]
    },
    {
     "name": "stderr",
     "output_type": "stream",
     "text": [
      "  0%|          | 83/24889 [1:49:55<748:33:34, 108.64s/it]"
     ]
    },
    {
     "name": "stdout",
     "output_type": "stream",
     "text": [
      "Finished because good reasoning was achieved: (1R)-4-Oxo-1,2,3,4-tetrahydronaphthalene-1-carboxylic acid\n"
     ]
    },
    {
     "name": "stderr",
     "output_type": "stream",
     "text": [
      "  0%|          | 84/24889 [1:51:46<752:40:44, 109.24s/it]"
     ]
    },
    {
     "name": "stdout",
     "output_type": "stream",
     "text": [
      "Finished because good reasoning was achieved: (1R)-4-[(2R)-3,3-Dimethylbutan-2-yl]-1-methyl-1H-2,3-benzodiazepine\n"
     ]
    },
    {
     "name": "stderr",
     "output_type": "stream",
     "text": [
      "  0%|          | 86/24889 [1:53:35<532:48:28, 77.33s/it] "
     ]
    },
    {
     "name": "stdout",
     "output_type": "stream",
     "text": [
      "Finished because good reasoning was achieved: (1R)-camphor-10-sulfonic acid\n"
     ]
    },
    {
     "name": "stderr",
     "output_type": "stream",
     "text": [
      "  0%|          | 87/24889 [1:54:21<467:03:16, 67.79s/it]"
     ]
    },
    {
     "name": "stdout",
     "output_type": "stream",
     "text": [
      "Finished because good reasoning was achieved: (1R)-camphor-10-sulfonyl chloride\n"
     ]
    },
    {
     "name": "stderr",
     "output_type": "stream",
     "text": [
      "  0%|          | 88/24889 [1:54:49<385:19:59, 55.93s/it]"
     ]
    },
    {
     "name": "stdout",
     "output_type": "stream",
     "text": [
      "Finished because good reasoning was achieved: (1R)-camphorquinone\n"
     ]
    },
    {
     "name": "stderr",
     "output_type": "stream",
     "text": [
      "  0%|          | 89/24889 [1:55:05<302:49:09, 43.96s/it]"
     ]
    },
    {
     "name": "stdout",
     "output_type": "stream",
     "text": [
      "Finished because good reasoning was achieved: (1R)-endo-fenchyl alcohol\n"
     ]
    },
    {
     "name": "stderr",
     "output_type": "stream",
     "text": [
      "  0%|          | 90/24889 [1:58:02<576:21:27, 83.67s/it]"
     ]
    },
    {
     "name": "stdout",
     "output_type": "stream",
     "text": [
      "Finished because good reasoning was achieved: (1R,2R)-2-(2,6-Dimethoxyphenoxy)-1-(3,4-dimethoxyphenyl)propane-1,3-diol\n"
     ]
    },
    {
     "name": "stderr",
     "output_type": "stream",
     "text": [
      "  0%|          | 91/24889 [1:58:50<502:29:32, 72.95s/it]"
     ]
    },
    {
     "name": "stdout",
     "output_type": "stream",
     "text": [
      "Finished because good reasoning was achieved: (1R,2R,11S,15R,19S)-19-Chloro-19-cyano-7-methoxy-14-methylpentacyclo[13.2.2.0~1,14~.0~2,11~.0~5,10~]nonadeca-5,7,9,16-tetraen-15-yl acetate\n"
     ]
    },
    {
     "name": "stderr",
     "output_type": "stream",
     "text": [
      "  0%|          | 92/24889 [1:59:02<376:56:57, 54.73s/it]"
     ]
    },
    {
     "name": "stdout",
     "output_type": "stream",
     "text": [
      "Finished because good reasoning was achieved: (1R,2R,3R,4R,5S,6S)-1,2,3,4,5,6-Hexachlorocyclohexane\n"
     ]
    },
    {
     "name": "stderr",
     "output_type": "stream",
     "text": [
      "  0%|          | 93/24889 [1:59:45<352:23:36, 51.16s/it]"
     ]
    },
    {
     "name": "stdout",
     "output_type": "stream",
     "text": [
      "Finished because good reasoning was achieved: (1R,2R,3R,4S)-Bicyclo[2.2.1]hept-5-ene-2,3-dicarboxylic acid\n"
     ]
    },
    {
     "name": "stderr",
     "output_type": "stream",
     "text": [
      "  0%|          | 94/24889 [2:00:38<356:35:59, 51.77s/it]"
     ]
    },
    {
     "name": "stdout",
     "output_type": "stream",
     "text": [
      "Finished because good reasoning was achieved: (1R,2R,3R,6S,7S,8S)-1,8,9,10,11,11-Hexachlorotetracyclo[6.2.1.1~3,6~.0~2,7~]dodeca-4,9-diene\n"
     ]
    },
    {
     "name": "stderr",
     "output_type": "stream",
     "text": [
      "  0%|          | 95/24889 [2:00:49<272:43:46, 39.60s/it]"
     ]
    },
    {
     "name": "stdout",
     "output_type": "stream",
     "text": [
      "Finished because good reasoning was achieved: (1R,2R,3S,4S)-Bicyclo[2.2.1]hept-5-ene-2,3-dicarboxylic acid\n"
     ]
    },
    {
     "name": "stderr",
     "output_type": "stream",
     "text": [
      "  0%|          | 96/24889 [2:01:00<213:47:42, 31.04s/it]"
     ]
    },
    {
     "name": "stdout",
     "output_type": "stream",
     "text": [
      "Finished because good reasoning was achieved: (1R,2R,3S,4S)-Bicyclo[2.2.1]heptane-2,3-dicarboxylic acid\n"
     ]
    },
    {
     "name": "stderr",
     "output_type": "stream",
     "text": [
      "  0%|          | 97/24889 [2:02:40<356:44:53, 51.80s/it]"
     ]
    },
    {
     "name": "stdout",
     "output_type": "stream",
     "text": [
      "Finished because good reasoning was achieved: (1R,2R,3S,6S,7S,9S,10S,11R,12S,13S,14R)-11-Isopropyl-3,7,10-trimethyl-15-oxapentacyclo[7.5.1.0~1,6~.0~7,13~.0~10,14~]pentadecane-2,6,9,12,13,14-hexol\n"
     ]
    },
    {
     "name": "stderr",
     "output_type": "stream",
     "text": [
      "  0%|          | 98/24889 [2:03:43<380:00:25, 55.18s/it]"
     ]
    },
    {
     "name": "stdout",
     "output_type": "stream",
     "text": [
      "Finished because good reasoning was achieved: (1R,2R,4S,6S)-6-Hydroxybicyclo[2.2.1]heptane-2-carboxylic acid\n"
     ]
    },
    {
     "name": "stderr",
     "output_type": "stream",
     "text": [
      "  0%|          | 99/24889 [2:05:27<480:57:24, 69.84s/it]"
     ]
    },
    {
     "name": "stdout",
     "output_type": "stream",
     "text": [
      "Finished because good reasoning was achieved: (1R,2R,5S,6S)-9-oxatricyclo[4.2.1.1~2,5~]dec-7-en-10-one\n"
     ]
    },
    {
     "name": "stderr",
     "output_type": "stream",
     "text": [
      "  0%|          | 100/24889 [2:06:57<522:01:03, 75.81s/it]"
     ]
    },
    {
     "name": "stdout",
     "output_type": "stream",
     "text": [
      "Finished because good reasoning was achieved: (1R,2R,8S,9S)-1,9,10,11,12,12-Hexachloro-4,6-dioxa-5-thiatricyclo[7.2.1.0~2,8~]dodec-10-ene 5,5-dioxide\n"
     ]
    },
    {
     "name": "stderr",
     "output_type": "stream",
     "text": [
      "  0%|          | 101/24889 [2:07:14<400:28:40, 58.16s/it]"
     ]
    },
    {
     "name": "stdout",
     "output_type": "stream",
     "text": [
      "Finished because good reasoning was achieved: (1R,2S)-2-(2,6-Dimethoxyphenoxy)-1-(3,4,5-trimethoxyphenyl)propane-1,3-diol\n"
     ]
    },
    {
     "name": "stderr",
     "output_type": "stream",
     "text": [
      "  0%|          | 102/24889 [2:09:16<533:02:21, 77.42s/it]"
     ]
    },
    {
     "name": "stdout",
     "output_type": "stream",
     "text": [
      "Finished because good reasoning was achieved: (1R,2S)-2-(2,6-Dimethoxyphenoxy)-1-(4-hydroxy-3,5-dimethoxyphenyl)propane-1,3-diol\n"
     ]
    },
    {
     "name": "stderr",
     "output_type": "stream",
     "text": [
      "  0%|          | 103/24889 [2:09:56<454:41:02, 66.04s/it]"
     ]
    },
    {
     "name": "stdout",
     "output_type": "stream",
     "text": [
      "Finished because good reasoning was achieved: (1R,2S)-2-(Methylamino)-1-phenylpropan-1-ol\n"
     ]
    },
    {
     "name": "stderr",
     "output_type": "stream",
     "text": [
      "  0%|          | 104/24889 [2:10:06<339:17:32, 49.28s/it]"
     ]
    },
    {
     "name": "stdout",
     "output_type": "stream",
     "text": [
      "Finished because good reasoning was achieved: (1R,2S)-Cyclopentane-1,2-diol\n"
     ]
    },
    {
     "name": "stderr",
     "output_type": "stream",
     "text": [
      "  0%|          | 105/24889 [2:10:45<317:16:31, 46.09s/it]"
     ]
    },
    {
     "name": "stdout",
     "output_type": "stream",
     "text": [
      "Finished because good reasoning was achieved: (1R,2S,3S,6R,7R,8S,9S,11R)-3,4,5,6,13,13-Hexachloro-10-oxapentacyclo[6.3.1.1~3,6~.0~2,7~.0~9,11~]tridec-4-ene\n"
     ]
    },
    {
     "name": "stderr",
     "output_type": "stream",
     "text": [
      "  0%|          | 106/24889 [2:12:35<450:37:13, 65.46s/it]"
     ]
    },
    {
     "name": "stdout",
     "output_type": "stream",
     "text": [
      "Finished because good reasoning was achieved: (1R,2S,5R)-2-Isopropyl-5-methylcyclohexanol\n"
     ]
    },
    {
     "name": "stderr",
     "output_type": "stream",
     "text": [
      "  0%|          | 107/24889 [2:13:13<392:00:58, 56.95s/it]"
     ]
    },
    {
     "name": "stdout",
     "output_type": "stream",
     "text": [
      "Finished because good reasoning was achieved: (1R,2S,5R,6S)-9-oxatricyclo[4.2.1.1~2,5~]dec-7-en-10-ol\n"
     ]
    },
    {
     "name": "stderr",
     "output_type": "stream",
     "text": [
      "  0%|          | 108/24889 [2:13:25<300:41:34, 43.68s/it]"
     ]
    },
    {
     "name": "stdout",
     "output_type": "stream",
     "text": [
      "Finished because good reasoning was achieved: (1R,2s)-10,2-camphorsultam\n"
     ]
    },
    {
     "name": "stderr",
     "output_type": "stream",
     "text": [
      "  0%|          | 109/24889 [2:13:48<257:08:07, 37.36s/it]"
     ]
    },
    {
     "name": "stdout",
     "output_type": "stream",
     "text": [
      "Finished because good reasoning was achieved: (1R,3R,4R,6S)-4,7,7-Trimethyl-5-oxobicyclo[4.1.0]heptane-3-carbonitrile\n"
     ]
    },
    {
     "name": "stderr",
     "output_type": "stream",
     "text": [
      "  0%|          | 110/24889 [2:14:34<274:51:27, 39.93s/it]"
     ]
    },
    {
     "name": "stdout",
     "output_type": "stream",
     "text": [
      "Finished because good reasoning was achieved: (1R,3S)-camphoric acid\n"
     ]
    },
    {
     "name": "stderr",
     "output_type": "stream",
     "text": [
      "  0%|          | 111/24889 [2:15:43<335:07:21, 48.69s/it]"
     ]
    },
    {
     "name": "stdout",
     "output_type": "stream",
     "text": [
      "Finished because good reasoning was achieved: (1R,3aR,5aS,8aS)-5a-{[tert-Butyl(dimethyl)silyl]oxy}octahydro-1,8-methanocyclopenta[c]pentalen-2(1H)-one\n"
     ]
    },
    {
     "name": "stderr",
     "output_type": "stream",
     "text": [
      "  0%|          | 112/24889 [2:16:34<340:33:13, 49.48s/it]"
     ]
    },
    {
     "name": "stdout",
     "output_type": "stream",
     "text": [
      "Finished because good reasoning was achieved: (1R,4R)-1,4-Dimethylcyclododeca-5,11-diyne-1,4-diol\n"
     ]
    },
    {
     "name": "stderr",
     "output_type": "stream",
     "text": [
      "  0%|          | 113/24889 [2:19:56<655:05:31, 95.19s/it]"
     ]
    },
    {
     "name": "stdout",
     "output_type": "stream",
     "text": [
      "Finished because good reasoning was achieved: (1R,4R,6R,8R)-4-tert-Butyl-8-(pentafluorophenyl)-7-oxabicyclo[4.2.0]oct-1-yl acetate\n"
     ]
    },
    {
     "name": "stderr",
     "output_type": "stream",
     "text": [
      "  0%|          | 114/24889 [2:21:26<644:22:04, 93.63s/it]"
     ]
    },
    {
     "name": "stdout",
     "output_type": "stream",
     "text": [
      "Finished because good reasoning was achieved: (1R,4S)-1,4-Dimethylcyclotrideca-5,12-diyne-1,4-diol\n"
     ]
    },
    {
     "name": "stderr",
     "output_type": "stream",
     "text": [
      "  0%|          | 115/24889 [2:23:10<665:58:21, 96.77s/it]"
     ]
    },
    {
     "name": "stdout",
     "output_type": "stream",
     "text": [
      "Finished because good reasoning was achieved: (1R,4S,5S)-4-chloro-2,2-dimethyl-8-oxabicyclo[3.2.1]octan-3-ol\n"
     ]
    },
    {
     "name": "stderr",
     "output_type": "stream",
     "text": [
      "  0%|          | 116/24889 [2:23:33<513:54:26, 74.68s/it]"
     ]
    },
    {
     "name": "stdout",
     "output_type": "stream",
     "text": [
      "Finished because good reasoning was achieved: (1R,4S,5S,8S,10R,11S)-4-tert-Butoxy-11-chloro-5-methyl-10-(methylsulfanyl)tricyclo[6.2.1.0~1,5~]undecan-9-one\n"
     ]
    },
    {
     "name": "stderr",
     "output_type": "stream",
     "text": [
      "  0%|          | 117/24889 [2:23:54<402:02:50, 58.43s/it]"
     ]
    },
    {
     "name": "stdout",
     "output_type": "stream",
     "text": [
      "Finished because good reasoning was achieved: (1R,5R,6R)-1'-Acetyl-3-methyl-5-phenylspiro[2,7-dioxa-4-azabicyclo[3.2.0]hept-3-ene-6,3'-indol]-2'(1'H)-one\n"
     ]
    },
    {
     "name": "stderr",
     "output_type": "stream",
     "text": [
      "  0%|          | 118/24889 [2:24:45<387:02:10, 56.25s/it]"
     ]
    },
    {
     "name": "stdout",
     "output_type": "stream",
     "text": [
      "Finished because good reasoning was achieved: (1R,5S)-1,5-Dichloro-3,6,6-triphenyl-3-azabicyclo[3.2.0]heptane-2,4-dione\n"
     ]
    },
    {
     "name": "stderr",
     "output_type": "stream",
     "text": [
      "  0%|          | 119/24889 [2:25:25<353:21:49, 51.36s/it]"
     ]
    },
    {
     "name": "stdout",
     "output_type": "stream",
     "text": [
      "Finished because good reasoning was achieved: (1R,5S)-1,5-Dichloro-3,6-diphenyl-3-azabicyclo[3.2.0]hept-6-ene-2,4-dione\n"
     ]
    },
    {
     "name": "stderr",
     "output_type": "stream",
     "text": [
      "  0%|          | 120/24889 [2:26:26<373:44:15, 54.32s/it]"
     ]
    },
    {
     "name": "stdout",
     "output_type": "stream",
     "text": [
      "Finished because good reasoning was achieved: (1R,5S)-2,2,5-Trimethyl-7-phenyl-6-oxa-7-azabicyclo[3.2.2]non-8-en-4-one\n"
     ]
    },
    {
     "name": "stderr",
     "output_type": "stream",
     "text": [
      "  0%|          | 121/24889 [2:26:34<277:54:12, 40.39s/it]"
     ]
    },
    {
     "name": "stdout",
     "output_type": "stream",
     "text": [
      "Finished because good reasoning was achieved: (1R,5S,6s)-6-(Methoxycarbonyl)bicyclo[3.1.0]hexane-6-carboxylic acid\n"
     ]
    },
    {
     "name": "stderr",
     "output_type": "stream",
     "text": [
      "  0%|          | 122/24889 [2:26:45<217:36:12, 31.63s/it]"
     ]
    },
    {
     "name": "stdout",
     "output_type": "stream",
     "text": [
      "Finished because good reasoning was achieved: (1R,7S)-1,3,4,7,8,9,10,10-Octachlorotricyclo[5.2.1.0~2,6~]dec-8-ene\n"
     ]
    },
    {
     "name": "stderr",
     "output_type": "stream",
     "text": [
      "  0%|          | 123/24889 [2:29:26<483:15:15, 70.25s/it]"
     ]
    },
    {
     "name": "stdout",
     "output_type": "stream",
     "text": [
      "Finished because good reasoning was achieved: (1R,9S)-4,5,6,9-Tetramethoxy-11-phenyl-10-oxa-11-azatricyclo[7.2.2.0~2,7~]trideca-2,4,6,12-tetraen-8-one\n"
     ]
    },
    {
     "name": "stderr",
     "output_type": "stream",
     "text": [
      "  0%|          | 124/24889 [2:30:04<417:44:14, 60.72s/it]"
     ]
    },
    {
     "name": "stdout",
     "output_type": "stream",
     "text": [
      "Finished because good reasoning was achieved: (1S)-1,5-Anhydro-1-[(9R)-4,5-dihydroxy-2-(hydroxymethyl)-10-oxo-9,10-dihydroanthracen-9-yl]-D-glucitol\n"
     ]
    },
    {
     "name": "stderr",
     "output_type": "stream",
     "text": [
      "  1%|          | 125/24889 [2:30:17<319:55:58, 46.51s/it]"
     ]
    },
    {
     "name": "stdout",
     "output_type": "stream",
     "text": [
      "Finished because good reasoning was achieved: (1S)-1,7,7-Trimethylbicyclo[2.2.1]heptan-2-one\n"
     ]
    },
    {
     "name": "stderr",
     "output_type": "stream",
     "text": [
      "  1%|          | 126/24889 [2:30:42<274:59:37, 39.98s/it]"
     ]
    },
    {
     "name": "stdout",
     "output_type": "stream",
     "text": [
      "Finished because good reasoning was achieved: (1S)-4-[(1R)-1-Methoxy-2,2-dimethylpropyl]-1-methyl-1H-2,3-benzodiazepine\n"
     ]
    },
    {
     "name": "stderr",
     "output_type": "stream",
     "text": [
      "  1%|          | 127/24889 [2:30:59<227:43:53, 33.11s/it]"
     ]
    },
    {
     "name": "stdout",
     "output_type": "stream",
     "text": [
      "Finished because good reasoning was achieved: (1S)-4-[(3S)-2,2-Dimethylpentan-3-yl]-1-methyl-1H-2,3-benzodiazepine\n"
     ]
    },
    {
     "name": "stderr",
     "output_type": "stream",
     "text": [
      "  1%|          | 128/24889 [2:31:17<196:54:27, 28.63s/it]"
     ]
    },
    {
     "name": "stdout",
     "output_type": "stream",
     "text": [
      "Finished because good reasoning was achieved: (1S)-camphanic acid\n"
     ]
    },
    {
     "name": "stderr",
     "output_type": "stream",
     "text": [
      "  1%|          | 130/24889 [2:35:14<496:58:46, 72.26s/it]"
     ]
    },
    {
     "name": "stdout",
     "output_type": "stream",
     "text": [
      "Finished because good reasoning was achieved: (1S)-camphor\n"
     ]
    },
    {
     "name": "stderr",
     "output_type": "stream",
     "text": [
      "  1%|          | 131/24889 [2:36:00<443:43:50, 64.52s/it]"
     ]
    },
    {
     "name": "stdout",
     "output_type": "stream",
     "text": [
      "Finished because good reasoning was achieved: (1S)-camphor-10-sulfonyl chloride\n"
     ]
    },
    {
     "name": "stderr",
     "output_type": "stream",
     "text": [
      "  1%|          | 132/24889 [2:37:17<469:26:32, 68.26s/it]"
     ]
    },
    {
     "name": "stdout",
     "output_type": "stream",
     "text": [
      "Finished because good reasoning was achieved: (1S)-camphorquinone\n"
     ]
    },
    {
     "name": "stderr",
     "output_type": "stream",
     "text": [
      "  1%|          | 133/24889 [2:39:44<631:36:37, 91.85s/it]"
     ]
    },
    {
     "name": "stdout",
     "output_type": "stream",
     "text": [
      "Finished because good reasoning was achieved: (1S)-camphorsulfonylimine\n"
     ]
    },
    {
     "name": "stderr",
     "output_type": "stream",
     "text": [
      "  1%|          | 134/24889 [2:43:31<909:35:10, 132.28s/it]"
     ]
    },
    {
     "name": "stdout",
     "output_type": "stream",
     "text": [
      "Finished because good reasoning was achieved: (1S,2R)-1-phenyl-2-(1-pyrrolidinyl)-1-propanol\n"
     ]
    },
    {
     "name": "stderr",
     "output_type": "stream",
     "text": [
      "  1%|          | 135/24889 [2:44:24<747:12:02, 108.67s/it]"
     ]
    },
    {
     "name": "stdout",
     "output_type": "stream",
     "text": [
      "Finished because good reasoning was achieved: (1S,2R)-10,2-camphorsultam\n"
     ]
    },
    {
     "name": "stderr",
     "output_type": "stream",
     "text": [
      "  1%|          | 136/24889 [2:45:09<614:27:49, 89.37s/it] "
     ]
    },
    {
     "name": "stdout",
     "output_type": "stream",
     "text": [
      "Finished because good reasoning was achieved: (1S,2R,8S)-14-Oxa-7-azatetracyclo[6.6.1.0~1,11~.0~2,7~]pentadeca-9,11-dien-13-one\n"
     ]
    },
    {
     "name": "stderr",
     "output_type": "stream",
     "text": [
      "  1%|          | 137/24889 [2:45:42<499:03:47, 72.59s/it]"
     ]
    },
    {
     "name": "stdout",
     "output_type": "stream",
     "text": [
      "Finished because good reasoning was achieved: (1S,2R,9S,10S)-3,15-Diazatetracyclo[7.7.1.0~2,7~.0~10,15~]heptadec-7-ene\n"
     ]
    },
    {
     "name": "stderr",
     "output_type": "stream",
     "text": [
      "  1%|          | 138/24889 [2:46:23<433:23:16, 63.04s/it]"
     ]
    },
    {
     "name": "stdout",
     "output_type": "stream",
     "text": [
      "Finished because good reasoning was achieved: (1S,2S)-Cyclopentane-1,2-diol\n"
     ]
    },
    {
     "name": "stderr",
     "output_type": "stream",
     "text": [
      "  1%|          | 139/24889 [2:48:11<526:54:02, 76.64s/it]"
     ]
    },
    {
     "name": "stdout",
     "output_type": "stream",
     "text": [
      "Finished because good reasoning was achieved: (1S,2S,5S)-4,6,6-Trimethylbicyclo[3.1.1]hept-3-en-2-ol\n"
     ]
    },
    {
     "name": "stderr",
     "output_type": "stream",
     "text": [
      "  1%|          | 140/24889 [2:48:20<386:32:28, 56.23s/it]"
     ]
    },
    {
     "name": "stdout",
     "output_type": "stream",
     "text": [
      "Finished because good reasoning was achieved: (1S,3R,5R,6S,8R,10R,11S,13R,15R,16S,18R,20R,21S,23R,25R,26S,28R,30R,31S,33R,35R,36R,37R,38R,39R,40R,41R,42R,43R,44R,45R,46R,47R,48R,49R)-5,10,15,20,25,30,35-Heptakis(hydroxymethyl)-2,4,7,9,12,14,17,19,22,24,27,29,32,34-tetradecaoxaoctacyclo[31.2.2.2~3,6~.2~8,11~.2~13,16~.2~18,21~.2~23,26~.2~28,31~]nonatetracontane-36,37,38,39,40,41,42,43,44,45,46,47,48,49-tetradecol (non-preferred name)\n"
     ]
    },
    {
     "name": "stderr",
     "output_type": "stream",
     "text": [
      "  1%|          | 142/24889 [2:53:07<618:00:58, 89.90s/it] "
     ]
    },
    {
     "name": "stdout",
     "output_type": "stream",
     "text": [
      "Finished because good reasoning was achieved: (1S,4S)-2-boc-2,5-diazabicyclo[2.2.1]heptane\n"
     ]
    },
    {
     "name": "stderr",
     "output_type": "stream",
     "text": [
      "  1%|          | 143/24889 [2:53:38<496:14:00, 72.19s/it]"
     ]
    },
    {
     "name": "stdout",
     "output_type": "stream",
     "text": [
      "Finished because good reasoning was achieved: (1S,4S)-Cyclododeca-5,11-diyne-1,4-diol\n"
     ]
    },
    {
     "name": "stderr",
     "output_type": "stream",
     "text": [
      "  1%|          | 146/24889 [2:58:47<612:14:29, 89.08s/it]"
     ]
    },
    {
     "name": "stdout",
     "output_type": "stream",
     "text": [
      "Finished because good reasoning was achieved: (1S,5S,6S)-1'-Acetyl-1,3-diphenylspiro[2,7-dioxa-4-azabicyclo[3.2.0]hept-3-ene-6,3'-indol]-2'(1'H)-one\n"
     ]
    },
    {
     "name": "stderr",
     "output_type": "stream",
     "text": [
      "  1%|          | 147/24889 [3:00:03<584:38:12, 85.07s/it]"
     ]
    },
    {
     "name": "stdout",
     "output_type": "stream",
     "text": [
      "Finished because good reasoning was achieved: (1S,7R)-1,5,7,8,9,10,10-Heptachlorotricyclo[5.2.1.0~2,6~]deca-3,8-diene\n"
     ]
    },
    {
     "name": "stderr",
     "output_type": "stream",
     "text": [
      "  1%|          | 148/24889 [3:01:29<587:02:37, 85.42s/it]"
     ]
    },
    {
     "name": "stdout",
     "output_type": "stream",
     "text": [
      "Finished because good reasoning was achieved: (1S,7aR)-7-[({(2R)-2,3-Dihydroxy-2-[(1S)-1-methoxyethyl]-3-methylbutanoyl}oxy)methyl]-2,3,5,7a-tetrahydro-1H-pyrrolizin-1-yl (2Z)-2-methylbut-2-enoate (non-preferred name)\n"
     ]
    },
    {
     "name": "stderr",
     "output_type": "stream",
     "text": [
      "  1%|          | 149/24889 [3:03:09<615:41:14, 89.59s/it]"
     ]
    },
    {
     "name": "stdout",
     "output_type": "stream",
     "text": [
      "Finished because good reasoning was achieved: (1S,8S)-13-Bromo-3,6-dimethyl-1-(2-methylbenzyl)pentacyclo[6.6.6.0~2,7~.0~9,14~.0~15,20~]icosa-2,4,6,9,11,13,15,17,19-nonaene\n"
     ]
    },
    {
     "name": "stderr",
     "output_type": "stream",
     "text": [
      "  1%|          | 150/24889 [3:03:54<524:18:12, 76.30s/it]"
     ]
    },
    {
     "name": "stdout",
     "output_type": "stream",
     "text": [
      "Finished because good reasoning was achieved: (1Z)-1,2-bis(4-aminophenyl)ethanone oxime\n"
     ]
    },
    {
     "name": "stderr",
     "output_type": "stream",
     "text": [
      "  1%|          | 151/24889 [3:04:59<501:06:39, 72.92s/it]"
     ]
    },
    {
     "name": "stdout",
     "output_type": "stream",
     "text": [
      "Finished because good reasoning was achieved: (1Z)-1,2-diphenylethanone O-(phenylcarbonyl)oxime\n"
     ]
    },
    {
     "name": "stderr",
     "output_type": "stream",
     "text": [
      "  1%|          | 152/24889 [3:05:10<373:49:37, 54.40s/it]"
     ]
    },
    {
     "name": "stdout",
     "output_type": "stream",
     "text": [
      "Finished because good reasoning was achieved: (1Z)-1-(1-methyl-2-phenylethylidene)-2-phenylhydrazine\n"
     ]
    },
    {
     "name": "stderr",
     "output_type": "stream",
     "text": [
      "  1%|          | 153/24889 [3:06:00<364:06:23, 52.99s/it]"
     ]
    },
    {
     "name": "stdout",
     "output_type": "stream",
     "text": [
      "Finished because good reasoning was achieved: (1Z)-1-(2,5-dimethylcyclopent-2-en-1-ylidene)-2-(2,4-dinitrophenyl)hydrazine\n"
     ]
    },
    {
     "name": "stderr",
     "output_type": "stream",
     "text": [
      "  1%|          | 154/24889 [3:07:10<398:56:07, 58.06s/it]"
     ]
    },
    {
     "name": "stdout",
     "output_type": "stream",
     "text": [
      "Finished because good reasoning was achieved: (1Z)-1-(4,7,7-trimethylbicyclo[2.2.1]hept-2-en-2-yl)ethanone semicarbazone\n"
     ]
    },
    {
     "name": "stderr",
     "output_type": "stream",
     "text": [
      "  1%|          | 155/24889 [3:07:40<340:46:36, 49.60s/it]"
     ]
    },
    {
     "name": "stdout",
     "output_type": "stream",
     "text": [
      "Finished because good reasoning was achieved: (1Z)-1-(4,7,7-trimethylbicyclo[2.2.1]hept-2-en-2-yl)propan-1-one semicarbazone\n"
     ]
    },
    {
     "name": "stderr",
     "output_type": "stream",
     "text": [
      "  1%|          | 156/24889 [3:08:00<281:00:57, 40.90s/it]"
     ]
    },
    {
     "name": "stdout",
     "output_type": "stream",
     "text": [
      "Finished because good reasoning was achieved: (1Z)-1-(4-bromo-5-methoxybicyclo[4.2.0]octa-1,3,5-trien-7-ylidene)-2-(2,4-dinitrophenyl)hydrazine\n"
     ]
    },
    {
     "name": "stderr",
     "output_type": "stream",
     "text": [
      "  1%|          | 157/24889 [3:08:39<275:28:33, 40.10s/it]"
     ]
    },
    {
     "name": "stdout",
     "output_type": "stream",
     "text": [
      "Finished because good reasoning was achieved: (1Z)-1-[(2E)-1,3-dimethyl-5-phenylpent-2-en-4-yn-1-ylidene]-2-(2,4-dinitrophenyl)hydrazine\n"
     ]
    },
    {
     "name": "stderr",
     "output_type": "stream",
     "text": [
      "  1%|          | 158/24889 [3:09:29<297:08:05, 43.25s/it]"
     ]
    },
    {
     "name": "stdout",
     "output_type": "stream",
     "text": [
      "Finished because good reasoning was achieved: (1Z)-1-[(2E)-1-benzyl-3-phenyl-2-(phenylhydrazono)propylidene]-2-phenylhydrazine\n"
     ]
    },
    {
     "name": "stderr",
     "output_type": "stream",
     "text": [
      "  1%|          | 159/24889 [3:09:51<253:05:56, 36.84s/it]"
     ]
    },
    {
     "name": "stdout",
     "output_type": "stream",
     "text": [
      "Finished because good reasoning was achieved: (1Z)-1-[(2E)-3-biphenyl-4-yl-1-methylbut-2-en-1-ylidene]-2-(2,4-dinitrophenyl)hydrazine\n"
     ]
    },
    {
     "name": "stderr",
     "output_type": "stream",
     "text": [
      "  1%|          | 160/24889 [3:10:07<210:27:49, 30.64s/it]"
     ]
    },
    {
     "name": "stdout",
     "output_type": "stream",
     "text": [
      "Finished because good reasoning was achieved: (1Z)-1-[(2E,4E)-1,3-dimethyl-5-phenylpenta-2,4-dien-1-ylidene]-2-(2,4-dinitrophenyl)hydrazine\n"
     ]
    },
    {
     "name": "stderr",
     "output_type": "stream",
     "text": [
      "  1%|          | 163/24889 [3:19:46<830:49:50, 120.97s/it] "
     ]
    },
    {
     "name": "stdout",
     "output_type": "stream",
     "text": [
      "Finished because good reasoning was achieved: (1Z)-1-cyclobuta[a]naphthalen-2(1H)-ylidene-2-(2,4-dinitrophenyl)hydrazine\n"
     ]
    },
    {
     "name": "stderr",
     "output_type": "stream",
     "text": [
      "  1%|          | 164/24889 [3:20:31<673:06:00, 98.00s/it] "
     ]
    },
    {
     "name": "stdout",
     "output_type": "stream",
     "text": [
      "Finished because good reasoning was achieved: (1Z)-1-{(2E)-1-benzyl-2-[(4-nitrophenyl)hydrazono]-3-phenylpropylidene}-2-(4-nitrophenyl)hydrazine\n"
     ]
    },
    {
     "name": "stderr",
     "output_type": "stream",
     "text": [
      "  1%|          | 165/24889 [3:21:15<562:59:39, 81.98s/it]"
     ]
    },
    {
     "name": "stdout",
     "output_type": "stream",
     "text": [
      "Finished because good reasoning was achieved: (1Z)-2,2,2-Trifluoro-N-[(1Z)-2,2,2-trifluoro-N-hydroxyethanimidoyl]ethanehydrazonoyl chloride\n"
     ]
    },
    {
     "name": "stderr",
     "output_type": "stream",
     "text": [
      "  1%|          | 166/24889 [3:21:31<426:36:44, 62.12s/it]"
     ]
    },
    {
     "name": "stdout",
     "output_type": "stream",
     "text": [
      "Finished because good reasoning was achieved: (1Z)-2-methyl-3-phenyl-1H-inden-1-one semicarbazone\n"
     ]
    },
    {
     "name": "stderr",
     "output_type": "stream",
     "text": [
      "  1%|          | 167/24889 [3:22:39<438:01:06, 63.78s/it]"
     ]
    },
    {
     "name": "stdout",
     "output_type": "stream",
     "text": [
      "Finished because good reasoning was achieved: (1Z)-3-(hydroxyamino)-1,3-diphenylpropan-1-one oxime\n"
     ]
    },
    {
     "name": "stderr",
     "output_type": "stream",
     "text": [
      "  1%|          | 168/24889 [3:23:02<353:28:46, 51.48s/it]"
     ]
    },
    {
     "name": "stdout",
     "output_type": "stream",
     "text": [
      "Finished because good reasoning was achieved: (1Z)-3-methyl-6-(1-methylethyl)cyclohex-2-en-1-one semicarbazone\n"
     ]
    },
    {
     "name": "stderr",
     "output_type": "stream",
     "text": [
      "  1%|          | 169/24889 [3:23:40<327:09:24, 47.64s/it]"
     ]
    },
    {
     "name": "stdout",
     "output_type": "stream",
     "text": [
      "Finished because good reasoning was achieved: (1Z,1'Z)-1,1'-(1,4-dihydroquinoxaline-2,3-diylidene)bis(4,4-dimethylpentan-2-one)\n"
     ]
    },
    {
     "name": "stderr",
     "output_type": "stream",
     "text": [
      "  1%|          | 170/24889 [3:25:30<454:50:45, 66.24s/it]"
     ]
    },
    {
     "name": "stdout",
     "output_type": "stream",
     "text": [
      "Finished because good reasoning was achieved: (1Z,1'Z)-1,1'-(4,6-dinitrobenzene-1,3-diyl)bis[1-(phenylimino)propan-2-one]\n"
     ]
    },
    {
     "name": "stderr",
     "output_type": "stream",
     "text": [
      "  1%|          | 171/24889 [3:27:05<515:07:38, 75.02s/it]"
     ]
    },
    {
     "name": "stdout",
     "output_type": "stream",
     "text": [
      "Finished because good reasoning was achieved: (1Z,1'Z)-2,2'-benzene-1,3-diylbis[1-(1,2-diphenylethylidene)hydrazine]\n"
     ]
    },
    {
     "name": "stderr",
     "output_type": "stream",
     "text": [
      "  1%|          | 172/24889 [3:29:04<605:47:30, 88.23s/it]"
     ]
    },
    {
     "name": "stdout",
     "output_type": "stream",
     "text": [
      "Finished because good reasoning was achieved: (1Z,3Z)-3-(hydroxyimino)-1-(2-nitrophenyl)-2,3-diphenylprop-1-en-1-ol\n"
     ]
    },
    {
     "name": "stderr",
     "output_type": "stream",
     "text": [
      "  1%|          | 173/24889 [3:29:33<481:55:41, 70.20s/it]"
     ]
    },
    {
     "name": "stdout",
     "output_type": "stream",
     "text": [
      "Finished because good reasoning was achieved: (1Z,3Z)-Cycloocta-1,3-diene\n"
     ]
    },
    {
     "name": "stderr",
     "output_type": "stream",
     "text": [
      "  1%|          | 175/24889 [3:31:40<432:58:29, 63.07s/it]"
     ]
    },
    {
     "name": "stdout",
     "output_type": "stream",
     "text": [
      "Finished because good reasoning was achieved: (1aR,1a'S,2R,3'R,4aS,4a'S,7aS,7a'S)-2-Hydroxy-4a,4a'-dimethyldecahydro-2,3'-biindeno[3a,4-b]oxirene-4',5,7'(1aH,4a'H,7a'H)-trione\n"
     ]
    },
    {
     "name": "stderr",
     "output_type": "stream",
     "text": [
      "  1%|          | 176/24889 [3:32:18<380:50:49, 55.48s/it]"
     ]
    },
    {
     "name": "stdout",
     "output_type": "stream",
     "text": [
      "Finished because good reasoning was achieved: (1r)-(-)-fenchone\n"
     ]
    },
    {
     "name": "stderr",
     "output_type": "stream",
     "text": [
      "  1%|          | 177/24889 [3:34:06<488:56:56, 71.23s/it]"
     ]
    },
    {
     "name": "stdout",
     "output_type": "stream",
     "text": [
      "Finished because good reasoning was achieved: (1r,2s)-(-)-ephedrine\n"
     ]
    },
    {
     "name": "stderr",
     "output_type": "stream",
     "text": [
      "  1%|          | 178/24889 [3:34:21<374:30:06, 54.56s/it]"
     ]
    },
    {
     "name": "stdout",
     "output_type": "stream",
     "text": [
      "Finished because good reasoning was achieved: (1r,4r)-(+)-camphor\n"
     ]
    },
    {
     "name": "stderr",
     "output_type": "stream",
     "text": [
      "  1%|          | 179/24889 [3:34:36<292:37:50, 42.63s/it]"
     ]
    },
    {
     "name": "stdout",
     "output_type": "stream",
     "text": [
      "Finished because good reasoning was achieved: (1s)-(-)-beta-pinene\n"
     ]
    },
    {
     "name": "stderr",
     "output_type": "stream",
     "text": [
      "  1%|          | 180/24889 [3:35:18<290:56:21, 42.39s/it]"
     ]
    },
    {
     "name": "stdout",
     "output_type": "stream",
     "text": [
      "Finished because good reasoning was achieved: (1s,3s,5R,6s,7S,8R,9S)-8,9-Dihydroxy-2,4,10-trioxatricyclo[3.3.1.1~3,7~]dec-6-yl benzoate\n"
     ]
    },
    {
     "name": "stderr",
     "output_type": "stream",
     "text": [
      "  1%|          | 182/24889 [3:40:07<577:46:35, 84.19s/it] "
     ]
    },
    {
     "name": "stdout",
     "output_type": "stream",
     "text": [
      "Finished because good reasoning was achieved: (2'beta)-22-Oxovincaleukoblastine\n"
     ]
    },
    {
     "name": "stderr",
     "output_type": "stream",
     "text": [
      "  1%|          | 183/24889 [3:41:08<529:27:36, 77.15s/it]"
     ]
    },
    {
     "name": "stdout",
     "output_type": "stream",
     "text": [
      "Finished because good reasoning was achieved: (2,2-dibromoethenyl)benzene\n"
     ]
    },
    {
     "name": "stderr",
     "output_type": "stream",
     "text": [
      "  1%|          | 184/24889 [3:41:57<471:00:49, 68.64s/it]"
     ]
    },
    {
     "name": "stdout",
     "output_type": "stream",
     "text": [
      "Finished because good reasoning was achieved: (2,2-dimethyl-3-oxo-1-phenylpropyl)propanedioic acid\n"
     ]
    },
    {
     "name": "stderr",
     "output_type": "stream",
     "text": [
      "  1%|          | 185/24889 [3:42:19<376:01:22, 54.80s/it]"
     ]
    },
    {
     "name": "stdout",
     "output_type": "stream",
     "text": [
      "Finished because good reasoning was achieved: (2,3,6-Trichlorophenyl)acetic acid\n"
     ]
    },
    {
     "name": "stderr",
     "output_type": "stream",
     "text": [
      "  1%|          | 186/24889 [3:44:11<493:22:48, 71.90s/it]"
     ]
    },
    {
     "name": "stdout",
     "output_type": "stream",
     "text": [
      "Finished because good reasoning was achieved: (2,4,5-trichlorophenoxy)acetic acid sec-bu ester\n"
     ]
    },
    {
     "name": "stderr",
     "output_type": "stream",
     "text": [
      "  1%|          | 187/24889 [3:44:20<362:38:55, 52.85s/it]"
     ]
    },
    {
     "name": "stdout",
     "output_type": "stream",
     "text": [
      "Finished because good reasoning was achieved: (2,4-Dichlorophenoxy)acetic acid\n"
     ]
    },
    {
     "name": "stderr",
     "output_type": "stream",
     "text": [
      "  1%|          | 188/24889 [3:48:07<720:48:07, 105.05s/it]"
     ]
    },
    {
     "name": "stdout",
     "output_type": "stream",
     "text": [
      "Finished because good reasoning was achieved: (2,4-Dichlorophenyl)(4,5-dimethoxy-2-nitrophenyl)methanone\n"
     ]
    },
    {
     "name": "stderr",
     "output_type": "stream",
     "text": [
      "  1%|          | 190/24889 [3:50:48<594:37:44, 86.67s/it] "
     ]
    },
    {
     "name": "stdout",
     "output_type": "stream",
     "text": [
      "Finished because good reasoning was achieved: (2,4-Dinitrophenyl)hydrazine\n"
     ]
    },
    {
     "name": "stderr",
     "output_type": "stream",
     "text": [
      "  1%|          | 191/24889 [3:51:53<550:13:27, 80.20s/it]"
     ]
    },
    {
     "name": "stdout",
     "output_type": "stream",
     "text": [
      "Finished because good reasoning was achieved: (2,4-dichlorophenyl)(3,4-dimethoxyphenyl)methanone\n"
     ]
    },
    {
     "name": "stderr",
     "output_type": "stream",
     "text": [
      "  1%|          | 192/24889 [3:52:12<423:47:58, 61.78s/it]"
     ]
    },
    {
     "name": "stdout",
     "output_type": "stream",
     "text": [
      "Finished because good reasoning was achieved: (2,5-dinitrobenzene-1,4-diyl)diethane-2,1-diyl dibenzoate\n"
     ]
    },
    {
     "name": "stderr",
     "output_type": "stream",
     "text": [
      "  1%|          | 193/24889 [3:53:31<461:16:28, 67.24s/it]"
     ]
    },
    {
     "name": "stdout",
     "output_type": "stream",
     "text": [
      "Finished because good reasoning was achieved: (2,6-dichlorophenyl)[6-(phenylsulfanyl)pyridazin-3-yl]acetonitrile\n"
     ]
    },
    {
     "name": "stderr",
     "output_type": "stream",
     "text": [
      "  1%|          | 194/24889 [3:54:09<400:19:31, 58.36s/it]"
     ]
    },
    {
     "name": "stdout",
     "output_type": "stream",
     "text": [
      "Finished because good reasoning was achieved: (2,6-diphenyl-4H-pyran-4-yl)(diphenyl)phosphane oxide\n"
     ]
    },
    {
     "name": "stderr",
     "output_type": "stream",
     "text": [
      "  1%|          | 196/24889 [3:55:53<352:47:38, 51.43s/it]"
     ]
    },
    {
     "name": "stdout",
     "output_type": "stream",
     "text": [
      "Finished because good reasoning was achieved: (2-Bromophenyl)(diphenyl)phosphine\n"
     ]
    },
    {
     "name": "stderr",
     "output_type": "stream",
     "text": [
      "  1%|          | 197/24889 [3:56:19<299:21:53, 43.65s/it]"
     ]
    },
    {
     "name": "stdout",
     "output_type": "stream",
     "text": [
      "Finished because good reasoning was achieved: (2-Chlorobenzylidene)malononitrile\n"
     ]
    },
    {
     "name": "stderr",
     "output_type": "stream",
     "text": [
      "  1%|          | 199/24889 [3:58:10<320:14:29, 46.69s/it]"
     ]
    },
    {
     "name": "stdout",
     "output_type": "stream",
     "text": [
      "Finished because good reasoning was achieved: (2-Chlorophenyl)(diphenyl)phosphine\n"
     ]
    },
    {
     "name": "stderr",
     "output_type": "stream",
     "text": [
      "  1%|          | 200/24889 [3:58:35<275:01:04, 40.10s/it]"
     ]
    },
    {
     "name": "stdout",
     "output_type": "stream",
     "text": [
      "Finished because good reasoning was achieved: (2-Formyl-1H-pyrrol-3-yl)methyl acetate\n"
     ]
    },
    {
     "name": "stderr",
     "output_type": "stream",
     "text": [
      "  1%|          | 201/24889 [3:59:38<322:49:09, 47.07s/it]"
     ]
    },
    {
     "name": "stdout",
     "output_type": "stream",
     "text": [
      "Finished because good reasoning was achieved: (2-Nitrophenyl)acetonitrile\n"
     ]
    },
    {
     "name": "stderr",
     "output_type": "stream",
     "text": [
      "  1%|          | 203/24889 [4:05:24<700:38:07, 102.17s/it]"
     ]
    },
    {
     "name": "stdout",
     "output_type": "stream",
     "text": [
      "Finished because good reasoning was achieved: (2-amino-3,5-dibromophenyl)(phenyl)methanol\n"
     ]
    },
    {
     "name": "stderr",
     "output_type": "stream",
     "text": [
      "  1%|          | 204/24889 [4:06:56<679:17:23, 99.07s/it] "
     ]
    },
    {
     "name": "stdout",
     "output_type": "stream",
     "text": [
      "Finished because good reasoning was achieved: (2-amino-3,5-dimethylphenyl)(phenyl)methanol\n"
     ]
    },
    {
     "name": "stderr",
     "output_type": "stream",
     "text": [
      "  1%|          | 205/24889 [4:07:49<585:56:05, 85.45s/it]"
     ]
    },
    {
     "name": "stdout",
     "output_type": "stream",
     "text": [
      "Finished because good reasoning was achieved: (2-amino-4-bromophenyl)(phenyl)methanol\n"
     ]
    },
    {
     "name": "stderr",
     "output_type": "stream",
     "text": [
      "  1%|          | 206/24889 [4:08:03<438:25:34, 63.94s/it]"
     ]
    },
    {
     "name": "stdout",
     "output_type": "stream",
     "text": [
      "Finished because good reasoning was achieved: (2-aminoethoxy)acetic acid\n"
     ]
    },
    {
     "name": "stderr",
     "output_type": "stream",
     "text": [
      "  1%|          | 210/24889 [4:15:08<603:36:05, 88.05s/it] "
     ]
    },
    {
     "name": "stdout",
     "output_type": "stream",
     "text": [
      "Finished because good reasoning was achieved: (2-carboxyphenyl)iminodiacetic acid\n"
     ]
    },
    {
     "name": "stderr",
     "output_type": "stream",
     "text": [
      "  1%|          | 211/24889 [4:15:35<477:20:02, 69.63s/it]"
     ]
    },
    {
     "name": "stdout",
     "output_type": "stream",
     "text": [
      "Finished because good reasoning was achieved: (2-hydroxyethyl)hydrazine\n"
     ]
    },
    {
     "name": "stderr",
     "output_type": "stream",
     "text": [
      "  1%|          | 212/24889 [4:15:52<370:14:55, 54.01s/it]"
     ]
    },
    {
     "name": "stdout",
     "output_type": "stream",
     "text": [
      "Finished because good reasoning was achieved: (2-isopropyl-5-methyl-cyclohexyloxy)-acetic acid\n"
     ]
    },
    {
     "name": "stderr",
     "output_type": "stream",
     "text": [
      "  1%|          | 213/24889 [4:16:28<332:32:44, 48.52s/it]"
     ]
    },
    {
     "name": "stdout",
     "output_type": "stream",
     "text": [
      "Finished because good reasoning was achieved: (2-methoxy-phenyl)-acetonitrile\n"
     ]
    },
    {
     "name": "stderr",
     "output_type": "stream",
     "text": [
      "  1%|          | 214/24889 [4:17:13<325:31:58, 47.49s/it]"
     ]
    },
    {
     "name": "stdout",
     "output_type": "stream",
     "text": [
      "Finished because good reasoning was achieved: (2-methoxyphenyl)(piperidin-1-yl)methanethione\n"
     ]
    },
    {
     "name": "stderr",
     "output_type": "stream",
     "text": [
      "  1%|          | 215/24889 [4:18:03<330:02:50, 48.15s/it]"
     ]
    },
    {
     "name": "stdout",
     "output_type": "stream",
     "text": [
      "Finished because good reasoning was achieved: (2-methoxyphenyl)phenyldiazene\n"
     ]
    },
    {
     "name": "stderr",
     "output_type": "stream",
     "text": [
      "  1%|          | 216/24889 [4:18:12<248:58:12, 36.33s/it]"
     ]
    },
    {
     "name": "stdout",
     "output_type": "stream",
     "text": [
      "Finished because good reasoning was achieved: (2-naphthyl)bromomethane\n"
     ]
    },
    {
     "name": "stderr",
     "output_type": "stream",
     "text": [
      "  1%|          | 217/24889 [4:18:53<258:17:39, 37.69s/it]"
     ]
    },
    {
     "name": "stdout",
     "output_type": "stream",
     "text": [
      "Finished because good reasoning was achieved: (2-oxo-2,3-dihydro-1H-indol-6-yl)acetic acid\n"
     ]
    },
    {
     "name": "stderr",
     "output_type": "stream",
     "text": [
      "  1%|          | 218/24889 [4:20:20<360:54:09, 52.66s/it]"
     ]
    },
    {
     "name": "stdout",
     "output_type": "stream",
     "text": [
      "Finished because good reasoning was achieved: (2-{(E)-2-[4-(Dimethylamino)phenyl]vinyl}-6-methyl-4H-pyran-4-ylidene)malononitrile\n"
     ]
    },
    {
     "name": "stderr",
     "output_type": "stream",
     "text": [
      "  1%|          | 219/24889 [4:29:00<505:03:43, 73.70s/it]\n"
     ]
    },
    {
     "ename": "JSONDecodeError",
     "evalue": "Expecting ',' delimiter: line 4 column 626 (char 1523)",
     "output_type": "error",
     "traceback": [
      "\u001b[0;31m---------------------------------------------------------------------------\u001b[0m",
      "\u001b[0;31mJSONDecodeError\u001b[0m                           Traceback (most recent call last)",
      "Cell \u001b[0;32mIn[13], line 27\u001b[0m\n\u001b[1;32m     25\u001b[0m \u001b[38;5;66;03m#improve reasoing\u001b[39;00m\n\u001b[1;32m     26\u001b[0m \u001b[38;5;28;01mfor\u001b[39;00m i \u001b[38;5;129;01min\u001b[39;00m \u001b[38;5;28mrange\u001b[39m(n_recursion):\n\u001b[0;32m---> 27\u001b[0m     r\u001b[38;5;241m=\u001b[39m\u001b[43mjson_generate\u001b[49m\u001b[43m(\u001b[49m\n\u001b[1;32m     28\u001b[0m \u001b[43m        \u001b[49m\u001b[43mgen_prompt\u001b[49m\u001b[43m(\u001b[49m\u001b[43mgen_record\u001b[49m\u001b[43m,\u001b[49m\n\u001b[1;32m     29\u001b[0m \u001b[43m                \u001b[49m\u001b[43mreason\u001b[49m\u001b[38;5;241;43m=\u001b[39;49m\u001b[43mgen_record\u001b[49m\u001b[43m[\u001b[49m\u001b[38;5;124;43m\"\u001b[39;49m\u001b[38;5;124;43mReason\u001b[39;49m\u001b[38;5;124;43m\"\u001b[39;49m\u001b[43m]\u001b[49m\u001b[43m,\u001b[49m\n\u001b[1;32m     30\u001b[0m \u001b[43m                \u001b[49m\u001b[43mprediction\u001b[49m\u001b[38;5;241;43m=\u001b[39;49m\u001b[43mgen_record\u001b[49m\u001b[43m[\u001b[49m\u001b[38;5;124;43m\"\u001b[39;49m\u001b[38;5;124;43mPrediction\u001b[39;49m\u001b[38;5;124;43m\"\u001b[39;49m\u001b[43m]\u001b[49m\n\u001b[1;32m     31\u001b[0m \u001b[43m        \u001b[49m\u001b[43m)\u001b[49m\u001b[43m,\u001b[49m\n\u001b[1;32m     32\u001b[0m \u001b[43m        \u001b[49m\u001b[43mmodel\u001b[49m\u001b[38;5;241;43m=\u001b[39;49m\u001b[43mmodel\u001b[49m\u001b[43m,\u001b[49m\n\u001b[1;32m     33\u001b[0m \u001b[43m    \u001b[49m\u001b[43m)\u001b[49m\n\u001b[1;32m     34\u001b[0m     \u001b[38;5;66;03m#parse prediction string to number\u001b[39;00m\n\u001b[1;32m     35\u001b[0m     gen_record\u001b[38;5;241m.\u001b[39mupdate(r)\n",
      "Cell \u001b[0;32mIn[8], line 20\u001b[0m, in \u001b[0;36mjson_generate\u001b[0;34m(prompt, model)\u001b[0m\n\u001b[1;32m      4\u001b[0m \u001b[38;5;28;01mdef\u001b[39;00m \u001b[38;5;21mjson_generate\u001b[39m(prompt,model\u001b[38;5;241m=\u001b[39m\u001b[38;5;124m\"\u001b[39m\u001b[38;5;124mgpt-3.5-turbo-1106\u001b[39m\u001b[38;5;124m\"\u001b[39m):\n\u001b[1;32m      5\u001b[0m     response \u001b[38;5;241m=\u001b[39m openai\u001b[38;5;241m.\u001b[39mchat\u001b[38;5;241m.\u001b[39mcompletions\u001b[38;5;241m.\u001b[39mcreate(\n\u001b[1;32m      6\u001b[0m     model\u001b[38;5;241m=\u001b[39mmodel,\n\u001b[1;32m      7\u001b[0m     messages\u001b[38;5;241m=\u001b[39m[\n\u001b[0;32m   (...)\u001b[0m\n\u001b[1;32m     17\u001b[0m     response_format\u001b[38;5;241m=\u001b[39m{ \u001b[38;5;124m\"\u001b[39m\u001b[38;5;124mtype\u001b[39m\u001b[38;5;124m\"\u001b[39m: \u001b[38;5;124m\"\u001b[39m\u001b[38;5;124mjson_object\u001b[39m\u001b[38;5;124m\"\u001b[39m }\n\u001b[1;32m     18\u001b[0m     )\n\u001b[0;32m---> 20\u001b[0m     \u001b[38;5;28;01mreturn\u001b[39;00m (\u001b[43mjson\u001b[49m\u001b[38;5;241;43m.\u001b[39;49m\u001b[43mloads\u001b[49m\u001b[43m(\u001b[49m\u001b[43mresponse\u001b[49m\u001b[38;5;241;43m.\u001b[39;49m\u001b[43mchoices\u001b[49m\u001b[43m[\u001b[49m\u001b[38;5;241;43m0\u001b[39;49m\u001b[43m]\u001b[49m\u001b[38;5;241;43m.\u001b[39;49m\u001b[43mmessage\u001b[49m\u001b[38;5;241;43m.\u001b[39;49m\u001b[43mcontent\u001b[49m\u001b[43m)\u001b[49m)\n",
      "File \u001b[0;32m~/miniconda3/envs/chemllm/lib/python3.10/json/__init__.py:346\u001b[0m, in \u001b[0;36mloads\u001b[0;34m(s, cls, object_hook, parse_float, parse_int, parse_constant, object_pairs_hook, **kw)\u001b[0m\n\u001b[1;32m    341\u001b[0m     s \u001b[38;5;241m=\u001b[39m s\u001b[38;5;241m.\u001b[39mdecode(detect_encoding(s), \u001b[38;5;124m'\u001b[39m\u001b[38;5;124msurrogatepass\u001b[39m\u001b[38;5;124m'\u001b[39m)\n\u001b[1;32m    343\u001b[0m \u001b[38;5;28;01mif\u001b[39;00m (\u001b[38;5;28mcls\u001b[39m \u001b[38;5;129;01mis\u001b[39;00m \u001b[38;5;28;01mNone\u001b[39;00m \u001b[38;5;129;01mand\u001b[39;00m object_hook \u001b[38;5;129;01mis\u001b[39;00m \u001b[38;5;28;01mNone\u001b[39;00m \u001b[38;5;129;01mand\u001b[39;00m\n\u001b[1;32m    344\u001b[0m         parse_int \u001b[38;5;129;01mis\u001b[39;00m \u001b[38;5;28;01mNone\u001b[39;00m \u001b[38;5;129;01mand\u001b[39;00m parse_float \u001b[38;5;129;01mis\u001b[39;00m \u001b[38;5;28;01mNone\u001b[39;00m \u001b[38;5;129;01mand\u001b[39;00m\n\u001b[1;32m    345\u001b[0m         parse_constant \u001b[38;5;129;01mis\u001b[39;00m \u001b[38;5;28;01mNone\u001b[39;00m \u001b[38;5;129;01mand\u001b[39;00m object_pairs_hook \u001b[38;5;129;01mis\u001b[39;00m \u001b[38;5;28;01mNone\u001b[39;00m \u001b[38;5;129;01mand\u001b[39;00m \u001b[38;5;129;01mnot\u001b[39;00m kw):\n\u001b[0;32m--> 346\u001b[0m     \u001b[38;5;28;01mreturn\u001b[39;00m \u001b[43m_default_decoder\u001b[49m\u001b[38;5;241;43m.\u001b[39;49m\u001b[43mdecode\u001b[49m\u001b[43m(\u001b[49m\u001b[43ms\u001b[49m\u001b[43m)\u001b[49m\n\u001b[1;32m    347\u001b[0m \u001b[38;5;28;01mif\u001b[39;00m \u001b[38;5;28mcls\u001b[39m \u001b[38;5;129;01mis\u001b[39;00m \u001b[38;5;28;01mNone\u001b[39;00m:\n\u001b[1;32m    348\u001b[0m     \u001b[38;5;28mcls\u001b[39m \u001b[38;5;241m=\u001b[39m JSONDecoder\n",
      "File \u001b[0;32m~/miniconda3/envs/chemllm/lib/python3.10/json/decoder.py:337\u001b[0m, in \u001b[0;36mJSONDecoder.decode\u001b[0;34m(self, s, _w)\u001b[0m\n\u001b[1;32m    332\u001b[0m \u001b[38;5;28;01mdef\u001b[39;00m \u001b[38;5;21mdecode\u001b[39m(\u001b[38;5;28mself\u001b[39m, s, _w\u001b[38;5;241m=\u001b[39mWHITESPACE\u001b[38;5;241m.\u001b[39mmatch):\n\u001b[1;32m    333\u001b[0m \u001b[38;5;250m    \u001b[39m\u001b[38;5;124;03m\"\"\"Return the Python representation of ``s`` (a ``str`` instance\u001b[39;00m\n\u001b[1;32m    334\u001b[0m \u001b[38;5;124;03m    containing a JSON document).\u001b[39;00m\n\u001b[1;32m    335\u001b[0m \n\u001b[1;32m    336\u001b[0m \u001b[38;5;124;03m    \"\"\"\u001b[39;00m\n\u001b[0;32m--> 337\u001b[0m     obj, end \u001b[38;5;241m=\u001b[39m \u001b[38;5;28;43mself\u001b[39;49m\u001b[38;5;241;43m.\u001b[39;49m\u001b[43mraw_decode\u001b[49m\u001b[43m(\u001b[49m\u001b[43ms\u001b[49m\u001b[43m,\u001b[49m\u001b[43m \u001b[49m\u001b[43midx\u001b[49m\u001b[38;5;241;43m=\u001b[39;49m\u001b[43m_w\u001b[49m\u001b[43m(\u001b[49m\u001b[43ms\u001b[49m\u001b[43m,\u001b[49m\u001b[43m \u001b[49m\u001b[38;5;241;43m0\u001b[39;49m\u001b[43m)\u001b[49m\u001b[38;5;241;43m.\u001b[39;49m\u001b[43mend\u001b[49m\u001b[43m(\u001b[49m\u001b[43m)\u001b[49m\u001b[43m)\u001b[49m\n\u001b[1;32m    338\u001b[0m     end \u001b[38;5;241m=\u001b[39m _w(s, end)\u001b[38;5;241m.\u001b[39mend()\n\u001b[1;32m    339\u001b[0m     \u001b[38;5;28;01mif\u001b[39;00m end \u001b[38;5;241m!=\u001b[39m \u001b[38;5;28mlen\u001b[39m(s):\n",
      "File \u001b[0;32m~/miniconda3/envs/chemllm/lib/python3.10/json/decoder.py:353\u001b[0m, in \u001b[0;36mJSONDecoder.raw_decode\u001b[0;34m(self, s, idx)\u001b[0m\n\u001b[1;32m    344\u001b[0m \u001b[38;5;250m\u001b[39m\u001b[38;5;124;03m\"\"\"Decode a JSON document from ``s`` (a ``str`` beginning with\u001b[39;00m\n\u001b[1;32m    345\u001b[0m \u001b[38;5;124;03ma JSON document) and return a 2-tuple of the Python\u001b[39;00m\n\u001b[1;32m    346\u001b[0m \u001b[38;5;124;03mrepresentation and the index in ``s`` where the document ended.\u001b[39;00m\n\u001b[0;32m   (...)\u001b[0m\n\u001b[1;32m    350\u001b[0m \n\u001b[1;32m    351\u001b[0m \u001b[38;5;124;03m\"\"\"\u001b[39;00m\n\u001b[1;32m    352\u001b[0m \u001b[38;5;28;01mtry\u001b[39;00m:\n\u001b[0;32m--> 353\u001b[0m     obj, end \u001b[38;5;241m=\u001b[39m \u001b[38;5;28;43mself\u001b[39;49m\u001b[38;5;241;43m.\u001b[39;49m\u001b[43mscan_once\u001b[49m\u001b[43m(\u001b[49m\u001b[43ms\u001b[49m\u001b[43m,\u001b[49m\u001b[43m \u001b[49m\u001b[43midx\u001b[49m\u001b[43m)\u001b[49m\n\u001b[1;32m    354\u001b[0m \u001b[38;5;28;01mexcept\u001b[39;00m \u001b[38;5;167;01mStopIteration\u001b[39;00m \u001b[38;5;28;01mas\u001b[39;00m err:\n\u001b[1;32m    355\u001b[0m     \u001b[38;5;28;01mraise\u001b[39;00m JSONDecodeError(\u001b[38;5;124m\"\u001b[39m\u001b[38;5;124mExpecting value\u001b[39m\u001b[38;5;124m\"\u001b[39m, s, err\u001b[38;5;241m.\u001b[39mvalue) \u001b[38;5;28;01mfrom\u001b[39;00m \u001b[38;5;28;01mNone\u001b[39;00m\n",
      "\u001b[0;31mJSONDecodeError\u001b[0m: Expecting ',' delimiter: line 4 column 626 (char 1523)"
     ]
    }
   ],
   "source": [
    "#batch \n",
    "for chemical_record in tqdm(chemical_records):\n",
    "\n",
    "    #load record\n",
    "    gen_record=copy.deepcopy(chemical_record)\n",
    "\n",
    "    #skip if already generated\n",
    "    if gen_record[\"name\"] in gen_records:\n",
    "        print(f\"Skip because already generated: {gen_record['name']}\")\n",
    "        continue\n",
    "\n",
    "    record_history=[]\n",
    "\n",
    "    fin_flag=False\n",
    "    #make suggestion with random seed\n",
    "    for j in range(n_random_repeat):\n",
    "        if fin_flag:\n",
    "            break\n",
    "\n",
    "        gen_record[\"Reason\"]=\"\"\n",
    "        gen_record[\"Prediction\"]=\"\"\n",
    "        if j==0:\n",
    "            record_history.append(copy.deepcopy(gen_record))\n",
    "\n",
    "        #improve reasoing\n",
    "        for i in range(n_recursion):\n",
    "            try:\n",
    "                r=json_generate(\n",
    "                    gen_prompt(gen_record,\n",
    "                            reason=gen_record[\"Reason\"],\n",
    "                            prediction=gen_record[\"Prediction\"]\n",
    "                    ),\n",
    "                    model=model,\n",
    "                )\n",
    "            except Exception as e:\n",
    "                #error occurs especially when generatin JSON data by gpt\n",
    "                print(e)\n",
    "                fin_flag=True\n",
    "                break\n",
    "            #parse prediction string to number\n",
    "            gen_record.update(r)\n",
    "            try:\n",
    "                gen_record[\"Prediction(integer)\"]=float(prediction_string_to_number(gen_record[\"Prediction\"])[\"Prediction\"])\n",
    "            except:\n",
    "                gen_record[\"Prediction(integer)\"]=99999\n",
    "            record_history.append(copy.deepcopy(gen_record))\n",
    "            \n",
    "            #finish reasoning if prediction is close to actual value\n",
    "            if abs(gen_record[\"Prediction(integer)\"]-gen_record[\"mpC\"])<=error_threshold:\n",
    "                fin_flag=True\n",
    "                print(f\"Finished because good reasoning was achieved: {gen_record['name']}\")\n",
    "                break\n",
    "\n",
    "    #save\n",
    "    save_name=remove_non_alphabet_characters(gen_record[\"name\"])\n",
    "    save_path=save_base_path+f\"{save_name}.json\"\n",
    "    with open(save_path, 'w') as f:\n",
    "        json.dump(record_history, f, indent=4)\n",
    "\n",
    "    gen_records[gen_record[\"name\"]]=record_history"
   ]
  },
  {
   "cell_type": "code",
   "execution_count": null,
   "metadata": {},
   "outputs": [
    {
     "name": "stdout",
     "output_type": "stream",
     "text": [
      "Input tokens: 298\n",
      "Output tokens: 205\n",
      "Cost: 0.01826 USD\n",
      "Cost: 2.739 JP\n"
     ]
    }
   ],
   "source": [
    "#値段の概算\n",
    "t=gen_prompt(gen_record,\n",
    "               reason=gen_record[\"Reason\"],\n",
    "               prediction=gen_record[\"Prediction\"]\n",
    "    )\n",
    "user_len=len(t.split(\" \"))\n",
    "system_len=len(system_prompt.split(\" \"))\n",
    "\n",
    "input_cost=0.01/1000*(user_len+system_len)\n",
    "\n",
    "gen_len=len(gen_record[\"Reason\"].split(\" \"))+len(gen_record[\"Prediction\"].split(\" \"))\n",
    "output_cost=0.03/1000*gen_len\n",
    "\n",
    "n_trials=2\n",
    "cost=n_trials*(input_cost+output_cost)\n",
    "print(f\"Input tokens: {user_len+system_len}\")\n",
    "print(f\"Output tokens: {gen_len}\")\n",
    "print(f\"Cost: {cost} USD\")\n",
    "print(f\"Cost: {cost*150} JP\")"
   ]
  },
  {
   "cell_type": "code",
   "execution_count": null,
   "metadata": {},
   "outputs": [],
   "source": []
  }
 ],
 "metadata": {
  "kernelspec": {
   "display_name": "chemllm",
   "language": "python",
   "name": "python3"
  },
  "language_info": {
   "codemirror_mode": {
    "name": "ipython",
    "version": 3
   },
   "file_extension": ".py",
   "mimetype": "text/x-python",
   "name": "python",
   "nbconvert_exporter": "python",
   "pygments_lexer": "ipython3",
   "version": "3.10.0"
  }
 },
 "nbformat": 4,
 "nbformat_minor": 2
}
