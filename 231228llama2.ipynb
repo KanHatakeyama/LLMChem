{
 "cells": [
  {
   "cell_type": "code",
   "execution_count": 52,
   "metadata": {},
   "outputs": [],
   "source": [
    "# finetuning llama2"
   ]
  },
  {
   "cell_type": "code",
   "execution_count": 53,
   "metadata": {},
   "outputs": [],
   "source": [
    "#!pip install transformers==4.35.0\n",
    "#!pip install peft==0.5.0\n",
    "#!pip install bitsandbytes==0.41.1\n",
    "#!pip install accelerate==0.23.0\n",
    "#!pip install flash-attn==2.3.1.post1"
   ]
  },
  {
   "cell_type": "code",
   "execution_count": 54,
   "metadata": {},
   "outputs": [],
   "source": [
    "\n",
    "from transformers import AutoModelForCausalLM, BitsAndBytesConfig\n",
    "import torch\n",
    "from peft import LoraConfig, get_peft_model\n",
    "from transformers import AutoTokenizer,pipeline\n",
    "\n",
    "bnb_config = BitsAndBytesConfig(\n",
    "    load_in_4bit=True,\n",
    "    bnb_4bit_use_double_quant=True,\n",
    "    bnb_4bit_quant_type=\"nf4\",\n",
    "    bnb_4bit_compute_dtype=torch.bfloat16\n",
    ")\n",
    "\n",
    "full_lora_layers = [\n",
    "    \"embed_tokens\",\n",
    "    \"lm_head\",\n",
    "    \"q_proj\",\n",
    "    \"k_proj\",\n",
    "    \"v_proj\",\n",
    "    \"o_proj\",\n",
    "    \"gate_proj\",\n",
    "    \"up_proj\",\n",
    "    \"down_proj\",\n",
    "]\n",
    "\n",
    "\n",
    "def init_model(model_name, r, lora_alpha, target_modules, bit=4):\n",
    "    if bit == 4:\n",
    "        print(\"Using 4-bit mode\")\n",
    "        model = AutoModelForCausalLM.from_pretrained(model_name,\n",
    "                                                     quantization_config=bnb_config,\n",
    "                                                     device_map=\"auto\",\n",
    "                                                     use_flash_attention_2=True,\n",
    "                                                     )\n",
    "    elif bit == 16:\n",
    "        print(\"Using fp16 mode\")\n",
    "        model = AutoModelForCausalLM.from_pretrained(model_name,\n",
    "                                                     device_map=\"auto\",\n",
    "                                                     torch_dtype=torch.float16,\n",
    "                                                     use_flash_attention_2=True,\n",
    "                                                     )\n",
    "    else:\n",
    "        raise ValueError(\"bit must be 4 or 16\")\n",
    "\n",
    "    if len(target_modules)==0:\n",
    "        return model\n",
    "    peft_config = LoraConfig(\n",
    "        task_type=\"CAUSAL_LM\", inference_mode=False, r=r, lora_alpha=lora_alpha,\n",
    "        lora_dropout=0.1,\n",
    "        target_modules=target_modules,\n",
    "    )\n",
    "    model = get_peft_model(model, peft_config)\n",
    "    return model\n"
   ]
  },
  {
   "cell_type": "code",
   "execution_count": 55,
   "metadata": {},
   "outputs": [
    {
     "name": "stdout",
     "output_type": "stream",
     "text": [
      "Using fp16 mode\n"
     ]
    },
    {
     "name": "stderr",
     "output_type": "stream",
     "text": [
      "Loading checkpoint shards: 100%|██████████| 2/2 [00:02<00:00,  1.14s/it]\n"
     ]
    }
   ],
   "source": [
    "#init model\n",
    "\n",
    "model_size=7\n",
    "r=32\n",
    "lora_alpha=32\n",
    "bit=16\n",
    "target_modules= [\n",
    "    \"embed_tokens\",\n",
    "    \"lm_head\",\n",
    "    \"q_proj\",\n",
    "    \"k_proj\",\n",
    "    \"v_proj\",\n",
    "    \"o_proj\",\n",
    "    \"gate_proj\",\n",
    "    \"up_proj\",\n",
    "    \"down_proj\",\n",
    "]\n",
    "target_modules=[]\n",
    "model_name=f\"meta-llama/Llama-2-{model_size}b-chat-hf\"\n",
    "\n",
    "\n",
    "#モデル初期化\n",
    "model=init_model(model_name, r, lora_alpha, target_modules, bit=bit)\n",
    "\n",
    "tokenizer = AutoTokenizer.from_pretrained(model_name)\n",
    "tokenizer.pad_token = tokenizer.eos_token\n"
   ]
  },
  {
   "cell_type": "code",
   "execution_count": 56,
   "metadata": {},
   "outputs": [],
   "source": [
    "\n",
    "pipe = pipeline(\"text-generation\", model=model,\n",
    "                tokenizer=tokenizer, max_new_tokens=1000)"
   ]
  },
  {
   "cell_type": "code",
   "execution_count": 57,
   "metadata": {},
   "outputs": [
    {
     "data": {
      "text/html": [
       "<div>\n",
       "<style scoped>\n",
       "    .dataframe tbody tr th:only-of-type {\n",
       "        vertical-align: middle;\n",
       "    }\n",
       "\n",
       "    .dataframe tbody tr th {\n",
       "        vertical-align: top;\n",
       "    }\n",
       "\n",
       "    .dataframe thead th {\n",
       "        text-align: right;\n",
       "    }\n",
       "</style>\n",
       "<table border=\"1\" class=\"dataframe\">\n",
       "  <thead>\n",
       "    <tr style=\"text-align: right;\">\n",
       "      <th></th>\n",
       "      <th>name</th>\n",
       "      <th>smiles</th>\n",
       "      <th>csid</th>\n",
       "      <th>link</th>\n",
       "      <th>source</th>\n",
       "      <th>Reason</th>\n",
       "      <th>mpC</th>\n",
       "      <th>Prediction(integer)</th>\n",
       "      <th>Abs error</th>\n",
       "    </tr>\n",
       "  </thead>\n",
       "  <tbody>\n",
       "    <tr>\n",
       "      <th>0</th>\n",
       "      <td>(-)-2-amino-3-phenyl-1-propanol</td>\n",
       "      <td>NC(Cc1ccccc1)CO</td>\n",
       "      <td>69116</td>\n",
       "      <td>http://www.amazon.com/dp/B003XEQTLE</td>\n",
       "      <td>Aldrich Chemical Company; Aldrich Catalog-Hand...</td>\n",
       "      <td>The compound (-)-2-amino-3-phenyl-1-propanol h...</td>\n",
       "      <td>92.0</td>\n",
       "      <td>92.0</td>\n",
       "      <td>0.0</td>\n",
       "    </tr>\n",
       "    <tr>\n",
       "      <th>1</th>\n",
       "      <td>(3Z)-5-Isobutyl-3-[(5-phenyl-2-furyl)methylene...</td>\n",
       "      <td>O=C1OC(=CC1=Cc1oc(cc1)c1ccccc1)CC(C)C</td>\n",
       "      <td>1474618</td>\n",
       "      <td>http://dx.doi.org/10.1021/ci0500132</td>\n",
       "      <td>Karthikeyan M.; Glen R.C.; Bender A. General m...</td>\n",
       "      <td>To predict the melting point of (3Z)-5-Isobuty...</td>\n",
       "      <td>76.0</td>\n",
       "      <td>76.0</td>\n",
       "      <td>0.0</td>\n",
       "    </tr>\n",
       "  </tbody>\n",
       "</table>\n",
       "</div>"
      ],
      "text/plain": [
       "                                                name  \\\n",
       "0                    (-)-2-amino-3-phenyl-1-propanol   \n",
       "1  (3Z)-5-Isobutyl-3-[(5-phenyl-2-furyl)methylene...   \n",
       "\n",
       "                                  smiles     csid  \\\n",
       "0                        NC(Cc1ccccc1)CO    69116   \n",
       "1  O=C1OC(=CC1=Cc1oc(cc1)c1ccccc1)CC(C)C  1474618   \n",
       "\n",
       "                                  link  \\\n",
       "0  http://www.amazon.com/dp/B003XEQTLE   \n",
       "1  http://dx.doi.org/10.1021/ci0500132   \n",
       "\n",
       "                                              source  \\\n",
       "0  Aldrich Chemical Company; Aldrich Catalog-Hand...   \n",
       "1  Karthikeyan M.; Glen R.C.; Bender A. General m...   \n",
       "\n",
       "                                              Reason   mpC  \\\n",
       "0  The compound (-)-2-amino-3-phenyl-1-propanol h...  92.0   \n",
       "1  To predict the melting point of (3Z)-5-Isobuty...  76.0   \n",
       "\n",
       "   Prediction(integer)  Abs error  \n",
       "0                 92.0        0.0  \n",
       "1                 76.0        0.0  "
      ]
     },
     "execution_count": 57,
     "metadata": {},
     "output_type": "execute_result"
    }
   ],
   "source": [
    "import pandas as pd\n",
    "df=pd.read_csv(\"dataset/231225AutoReasoning/231228best_reason_record.csv\")\n",
    "dataset=df.to_dict(orient=\"records\")\n",
    "df[:2]"
   ]
  },
  {
   "cell_type": "code",
   "execution_count": 67,
   "metadata": {},
   "outputs": [],
   "source": [
    "import random\n",
    "system_prompt=\"You are a professional chemist. Predict the melting point of the following compound.\"\n",
    "\n",
    "\n",
    "def gen_compound_text(chemical_record,\n",
    "    reason=\"\",prediction=\"\",prefix=\"Example\"):\n",
    "    name=chemical_record[\"name\"]\n",
    "    smiles=chemical_record[\"smiles\"]\n",
    "    prompt=f\"\"\"\n",
    "#{prefix} Data\n",
    "##Name: {name}\n",
    "##SMILES: {smiles} \n",
    "##Reason: {reason}\n",
    "##Prediction: {prediction}\n",
    "\"\"\"\n",
    "    return prompt\n",
    "\n",
    "\n",
    "\n",
    "\n",
    "def generate_question_prompt(dataset,test_id,n_prompt_examples=5):\n",
    "    train_ids=[i for i in range(len(dataset))]\n",
    "    train_ids.remove(test_id)\n",
    "    prompt=\"\"\n",
    "\n",
    "    #train prompt\n",
    "    for _ in range(n_prompt_examples):\n",
    "        id=random.choice(train_ids)\n",
    "        prompt+=gen_compound_text(dataset[id],\n",
    "                                reason=dataset[id][\"Reason\"],\n",
    "                                prediction=dataset[id][\"Prediction(integer)\"])\n",
    "        prompt+=\"\\n\"\n",
    "\n",
    "    #test prompt\n",
    "    prompt+=gen_compound_text(dataset[test_id],prefix=\"Test\")\n",
    "    prompt+=\"\"\"\n",
    "#Output: Reason, Prediction\n",
    "    \"\"\"\n",
    "\n",
    "    return prompt"
   ]
  },
  {
   "cell_type": "code",
   "execution_count": 68,
   "metadata": {},
   "outputs": [],
   "source": [
    "\n",
    "import re\n",
    "def ask_value(prompt,pipe):\n",
    "    res=pipe(prompt)[0][\"generated_text\"]\n",
    "    res=res[len(prompt):]\n",
    "\n",
    "    regex_list=[\n",
    "        r\"Prediction:\\s*(\\d+\\.?\\d*)\",\n",
    "        #r\"Prediction:\\s*(\\d+\\.?\\d*)\",\n",
    "    ]\n",
    "\n",
    "    value=None\n",
    "    for reg in regex_list:\n",
    "        match = re.search(reg, res)\n",
    "        if match:\n",
    "            value = match.group(1)\n",
    "            break\n",
    "    return res,value\n",
    "    "
   ]
  },
  {
   "cell_type": "code",
   "execution_count": 69,
   "metadata": {},
   "outputs": [
    {
     "name": "stdout",
     "output_type": "stream",
     "text": [
      "{'name': '(-)-2-amino-3-phenyl-1-propanol', 'smiles': 'NC(Cc1ccccc1)CO', 'csid': 69116, 'link': 'http://www.amazon.com/dp/B003XEQTLE', 'source': 'Aldrich Chemical Company; Aldrich Catalog-Handbook of Fine Chemicals; Milwaukee; WI; 1984.', 'Reason': \"The compound (-)-2-amino-3-phenyl-1-propanol has multiple functional groups that contribute to a higher melting point than the base molecule propane, which is a gas at room temperature. The amino group contributes approximately +50 degrees due to its ability to form intermolecular hydrogen bonds and to the increase in molecular weight. The hydroxyl group also contributes around +50 degrees because of its strong hydrogen bonding capability. The phenyl group is responsible for an increase of about +100 degrees due to the rigidity of the benzene ring and potential π-π interactions, providing a significant increase in melting point. However, since the amino and hydroxyl groups are present in the same molecule, they are capable of engaging in intramolecular hydrogen bonding, which could reduce the impact of each functional group's melting point increase to some degree. Therefore, while the reasons suggest the melting point could increase by +200 degrees, this is likely an overestimation. Given that the actual value is known to be 92.0°C, the numbers provided for each functional group's effect on the melting point are clearly too high and need to be adjusted. The correct prediction should align with the actual melting point.\", 'mpC': 92.0, 'Prediction(integer)': 92.0, 'Abs error': 0.0, 'Test (Predicted reason)': \"\\n\\n#Example Data\\n##Name: (1,2,2,3-tetramethylcyclopentyl)methanol\\n##SMILES: OCC1(C)CCC(C)C1(C)C \\n##Reason: The compound (1,2,2,3-tetramethylcyclopentyl)methanol has several structural features influencing its melting point. Basic cyclopentane has a melting point around -94 °C. The presence of four methyl groups will increase the melting point due to increased molecular weight and van der Waals forces, but each additional methyl group has a diminishing increment effect as the compound becomes more bulky and branched, which could reduce symmetry and potentially lower the melting point slightly. Let's estimate the increase due to methyl groups at about +8 °C each for the first two (due to greater impact on the molecular weight and structure) and then +5 °C each for the following two considering the diminishing effect. This sums up to 8 + 8 + 5 + 5 = +26 °C increase for the methyl groups. The hydroxyl group (-OH) generally increases the melting point due to hydrogen bonding, which can be a significant effect. This could increase the melting point by about +40 °C. Combining these effects, the overall estimated increase would be +26 (methyl groups) + 40 (hydroxyl group).\\n##Prediction: 94.0\\n\\n\\n#Test Data\\n##Name: (-)-2-amino-3-phenyl-1-propanol\\n##SMILES: NC(Cc1ccccc1)CO \\n##Reason: \\n##Prediction: \\n\\n#Output: Reason, Prediction\\n    \\n\\n\\n\\n\\n\\n\\n\\n\\n\\n\", 'Test (Predicted value)': '94.0'}\n",
      "{'name': '(3Z)-5-Isobutyl-3-[(5-phenyl-2-furyl)methylene]furan-2(3H)-one', 'smiles': 'O=C1OC(=CC1=Cc1oc(cc1)c1ccccc1)CC(C)C', 'csid': 1474618, 'link': 'http://dx.doi.org/10.1021/ci0500132', 'source': 'Karthikeyan M.; Glen R.C.; Bender A. General melting point prediction based on a diverse compound dataset and artificial neural networks. J. Chem. Inf. Model.; 2005; 45(3); 581-3769', 'Reason': 'To predict the melting point of (3Z)-5-Isobutyl-3-[(5-phenyl-2-furyl)methylene]furan-2(3H)-one, the effects of different functional groups present in the molecule are considered quantitatively. The base molecule we will use for our comparison is furan, which has a melting point of -85.6°C. The functional groups that need to be considered for our target compound and their expected impact on the melting point are as follows:\\n- Furan ring: This is the base unit and has a melting point of -85.6°C.\\n- Isobutyl group: Isobutyl group is a larger alkyl chain which typically raises the melting point due to increased Van der Waals interactions. The increase can be estimated at around +20°C based on alkyl chain influence on similar molecules.\\n- Phenyl group: The presence of a phenyl group will raise the melting point further due to π-π stacking interactions as well as its rigid structure that provides better packing. This can be estimated at around +40°C.\\n- Furfurylidene group: The furfurylidene group (furan ring with the attached methylene) introduces additional rigidity and possible hydrogen bonding, raising the melting point significantly. An estimate for such a bicyclic fused system can be around +50°C.\\n\\nTo predict the melting point, these numbers are considered additive changes from the base value of furan. Note that these changes are rough estimations and the actual value can differ due to other molecular interactions and the overall 3D structure of the compound.', 'mpC': 76.0, 'Prediction(integer)': 76.0, 'Abs error': 0.0, 'Test (Predicted reason)': '\\n#Note:\\n* Reason: This is a brief description of the basis for the prediction, including the unit for comparison and any relevant chemical considerations.\\n* Prediction: This is the predicted melting point of the molecule in question, based on the reasoning provided.\\n\\nFor example, in the first line, the molecule (1Z,3Z)-Cycloocta-1,3-diene is compared to cyclooctane, and the melting point is predicted to be -51.0°C. In the second line, the molecule (3Z)-5-Isobutyl-3-[(5-phenyl-2-furyl)methylene]furan-2(3H)-one is compared to cyclooctane, and the melting point is predicted to be - unknown.', 'Test (Predicted value)': None}\n"
     ]
    }
   ],
   "source": [
    "import copy\n",
    "prediction_results={}\n",
    "\n",
    "n_problems=10\n",
    "for n_prompt_examples in [1,5,10]:\n",
    "    res_list=[]\n",
    "    for test_id in range(n_problems):\n",
    "        try:\n",
    "            prompt=generate_question_prompt(dataset,test_id,n_prompt_examples=n_prompt_examples)\n",
    "            reason,value=ask_value(prompt,pipe)\n",
    "            record=copy.deepcopy(dataset[test_id])\n",
    "\n",
    "            record[\"Test (Predicted reason)\"]=reason\n",
    "            record[\"Test (Predicted value)\"]=value\n",
    "            res_list.append(record)\n",
    "            print(record)\n",
    "        except Exception as e:\n",
    "            print(e)\n",
    "            continue\n",
    "\n",
    "    prediction_results[n_prompt_examples]=res_list"
   ]
  },
  {
   "cell_type": "code",
   "execution_count": null,
   "metadata": {},
   "outputs": [
    {
     "data": {
      "image/png": "[encoded data removed]",
      "text/plain": [
       "<Figure size 640x480 with 1 Axes>"
      ]
     },
     "metadata": {},
     "output_type": "display_data"
    }
   ],
   "source": [
    "import matplotlib.pyplot as plt\n",
    "import seaborn as sns\n",
    "from sklearn.metrics import mean_squared_error\n",
    "\n",
    "vmin=0\n",
    "vmax=300\n",
    "\n",
    "#plot prediction results\n",
    "for n_prompt_examples,records in prediction_results.items():\n",
    "    sel_df=pd.DataFrame(records)\n",
    "    #floatに可能なものは変換\n",
    "    sel_df[\"Test (Predicted value)\"] = pd.to_numeric(sel_df[\"Test (Predicted value)\"], errors='coerce')\n",
    "    sel_df=sel_df[sel_df[\"Test (Predicted value)\"].notnull()]\n",
    "    mse=mean_squared_error(sel_df[\"mpC\"],sel_df[\"Test (Predicted value)\"])\n",
    "\n",
    "    plt.figure()\n",
    "    sns.scatterplot(data=sel_df,x=\"mpC\",y=\"Test (Predicted value)\")\n",
    "    plt.title(f\"n_prompt_examples={n_prompt_examples} MSE={mse:.0f}\")\n",
    "\n",
    "    #x,yの範囲を揃える\n",
    "    plt.xlim(vmin,vmax)\n",
    "    plt.ylim(vmin,vmax)\n",
    "    #対角線を描く\n",
    "    plt.plot([vmin,vmax],[vmin,vmax],color=\"gray\")\n",
    "    #break"
   ]
  },
  {
   "cell_type": "code",
   "execution_count": 66,
   "metadata": {},
   "outputs": [
    {
     "name": "stdout",
     "output_type": "stream",
     "text": [
      "\n",
      "#Example Data\n",
      "##Name: (1R,2s)-10,2-camphorsultam\n",
      "##SMILES: CC1([C@H]2CC[C@@]13CS(=O)(=O)N[C@H]3C2)C \n",
      "##Reason: To predict the melting point of (1R,2s)-10,2-camphorsultam, we would examine its functional groups and structure. The base structure is the bicyclic ring system found in camphor, which by itself has a melting point of 176 to 178°C. The sultam group (a sulfonyl group bonded to an amine) is a strong polar, electron-withdrawing group, and it may increase melting point due to its potential for intermolecular hydrogen bonding and dipole-dipole interactions, adding approximately +10°C. The tertiary butyl group adds steric bulk, which can increase melting point, but because it is nonpolar, the effect is likely weaker in this context; we could estimate it contributes a +5°C increase due to its steric bulk affecting the crystal lattice stability. These effects combined would lead to a prediction slightly higher than the base structure of camphor.\n",
      "##Prediction: 191.0\n",
      "\n",
      "\n",
      "#Test Data\n",
      "##Name: 4-Methyl-N-{2-[(4-methylphenyl)sulfanyl]phenyl}benzenesulfonamide\n",
      "##SMILES: O=S(=O)(c1ccc(cc1)C)Nc3ccccc3Sc2ccc(cc2)C \n",
      "##Reason: \n",
      "##Prediction: \n",
      "\n",
      "    #Output: Reason, Prediction\n",
      "    \n"
     ]
    }
   ],
   "source": [
    "print(prompt)"
   ]
  },
  {
   "cell_type": "code",
   "execution_count": null,
   "metadata": {},
   "outputs": [],
   "source": []
  }
 ],
 "metadata": {
  "kernelspec": {
   "display_name": "chemllm",
   "language": "python",
   "name": "python3"
  },
  "language_info": {
   "codemirror_mode": {
    "name": "ipython",
    "version": 3
   },
   "file_extension": ".py",
   "mimetype": "text/x-python",
   "name": "python",
   "nbconvert_exporter": "python",
   "pygments_lexer": "ipython3",
   "version": "3.10.0"
  }
 },
 "nbformat": 4,
 "nbformat_minor": 2
}
