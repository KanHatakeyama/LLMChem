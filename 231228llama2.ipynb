{
 "cells": [
  {
   "cell_type": "code",
   "execution_count": 1,
   "metadata": {},
   "outputs": [],
   "source": [
    "# finetuning llama2"
   ]
  },
  {
   "cell_type": "markdown",
   "metadata": {},
   "source": [
    "# (Q)分子構造+(R)理由+(A)物性データセットのLLMによる学習と予測\n",
    "- Q&A: 融点データセットを使用\n",
    "- R: GPT4を使い､Q&Aをもとに自動生成"
   ]
  },
  {
   "cell_type": "code",
   "execution_count": 2,
   "metadata": {},
   "outputs": [],
   "source": [
    "#!pip install transformers==4.35.0\n",
    "#!pip install peft==0.5.0\n",
    "#!pip install bitsandbytes==0.41.1\n",
    "#!pip install accelerate==0.23.0\n",
    "#!pip install flash-attn==2.3.1.post1\n",
    "#!pip install datasets==2.14.5"
   ]
  },
  {
   "cell_type": "code",
   "execution_count": 3,
   "metadata": {},
   "outputs": [
    {
     "name": "stderr",
     "output_type": "stream",
     "text": [
      "/home/setup/miniconda3/envs/chemllm/lib/python3.10/site-packages/tqdm/auto.py:21: TqdmWarning: IProgress not found. Please update jupyter and ipywidgets. See https://ipywidgets.readthedocs.io/en/stable/user_install.html\n",
      "  from .autonotebook import tqdm as notebook_tqdm\n"
     ]
    }
   ],
   "source": [
    "import os\n",
    "os.environ[\"CUDA_VISIBLE_DEVICES\"]=\"1\"\n",
    "\n",
    "from transformers import AutoModelForCausalLM, BitsAndBytesConfig\n",
    "import torch\n",
    "from peft import LoraConfig, get_peft_model\n",
    "from transformers import AutoTokenizer,pipeline\n",
    "from datasets import Dataset\n",
    "import copy\n",
    "from tqdm import tqdm\n",
    "#問題設定: はじめのN件をテストデータにする\n",
    "n_test=50"
   ]
  },
  {
   "cell_type": "code",
   "execution_count": 4,
   "metadata": {},
   "outputs": [],
   "source": [
    "#ハイパラ関連\n",
    "#モデル名\n",
    "model_size=7\n",
    "model_size=13\n",
    "#model_size=70\n",
    "model_name=f\"meta-llama/Llama-2-{model_size}b-chat-hf\"\n",
    "\n",
    "#LoRA関連\n",
    "r=64\n",
    "lora_alpha=r\n",
    "bit=16\n",
    "#bit=4\n",
    "\n",
    "#LoRAのadapter\n",
    "target_modules= [\n",
    "    \"embed_tokens\",\n",
    "    \"lm_head\",\n",
    "    \"q_proj\",\n",
    "    \"k_proj\",\n",
    "    \"v_proj\",\n",
    "    \"o_proj\",\n",
    "    \"gate_proj\",\n",
    "    \"up_proj\",\n",
    "    \"down_proj\",\n",
    "]\n",
    "\n",
    "#学習関連\n",
    "gradient_checkpointing =True  #vramの節約をしたい場合\n",
    "#gradient_checkpointing =False\n",
    "per_device_train_batch_size=1\n",
    "epochs=1\n",
    "lr=10**-5\n",
    "do_train=True\n",
    "#do_train=False"
   ]
  },
  {
   "cell_type": "code",
   "execution_count": 5,
   "metadata": {},
   "outputs": [],
   "source": [
    "\n",
    "device_map=\"auto\"\n",
    "\n",
    "bnb_config = BitsAndBytesConfig(\n",
    "    load_in_4bit=True,\n",
    "    bnb_4bit_use_double_quant=True,\n",
    "    bnb_4bit_quant_type=\"nf4\",\n",
    "    bnb_4bit_compute_dtype=torch.bfloat16\n",
    ")\n",
    "\n",
    "def init_model(model_name, r, lora_alpha, target_modules, bit=4):\n",
    "    if bit == 4:\n",
    "        print(\"Using 4-bit mode\")\n",
    "        model = AutoModelForCausalLM.from_pretrained(model_name,\n",
    "                                                     quantization_config=bnb_config,\n",
    "                                                     device_map=device_map,\n",
    "                                                     use_flash_attention_2=True,\n",
    "                                                     )\n",
    "    elif bit == 16:\n",
    "        print(\"Using fp16 mode\")\n",
    "        model = AutoModelForCausalLM.from_pretrained(model_name,\n",
    "                                                     device_map=device_map,\n",
    "                                                     torch_dtype=torch.float16,\n",
    "                                                     use_flash_attention_2=True,\n",
    "                                                     )\n",
    "    else:\n",
    "        raise ValueError(\"bit must be 4 or 16\")\n",
    "\n",
    "    if len(target_modules)==0:\n",
    "        return model\n",
    "    peft_config = LoraConfig(\n",
    "        task_type=\"CAUSAL_LM\", inference_mode=False, r=r, lora_alpha=lora_alpha,\n",
    "        lora_dropout=0.1,\n",
    "        target_modules=target_modules,\n",
    "    )\n",
    "    model = get_peft_model(model, peft_config)\n",
    "    return model\n"
   ]
  },
  {
   "cell_type": "code",
   "execution_count": 6,
   "metadata": {},
   "outputs": [
    {
     "name": "stdout",
     "output_type": "stream",
     "text": [
      "Using fp16 mode\n"
     ]
    },
    {
     "name": "stderr",
     "output_type": "stream",
     "text": [
      "Loading checkpoint shards: 100%|██████████| 3/3 [01:30<00:00, 30.15s/it]\n"
     ]
    }
   ],
   "source": [
    "\n",
    "#モデル初期化\n",
    "model=init_model(model_name, r, lora_alpha, target_modules, bit=bit)"
   ]
  },
  {
   "cell_type": "code",
   "execution_count": 7,
   "metadata": {},
   "outputs": [],
   "source": [
    "\n",
    "\n",
    "tokenizer = AutoTokenizer.from_pretrained(model_name)\n",
    "tokenizer.pad_token = tokenizer.eos_token\n",
    "\n",
    "#pipe = pipeline(\"text-generation\", model=model,\n",
    "#                tokenizer=tokenizer, max_new_tokens=1000)"
   ]
  },
  {
   "cell_type": "markdown",
   "metadata": {},
   "source": [
    "# データセットの生成"
   ]
  },
  {
   "cell_type": "code",
   "execution_count": 8,
   "metadata": {},
   "outputs": [
    {
     "name": "stdout",
     "output_type": "stream",
     "text": [
      "(2406, 9)\n"
     ]
    },
    {
     "data": {
      "text/html": [
       "<div>\n",
       "<style scoped>\n",
       "    .dataframe tbody tr th:only-of-type {\n",
       "        vertical-align: middle;\n",
       "    }\n",
       "\n",
       "    .dataframe tbody tr th {\n",
       "        vertical-align: top;\n",
       "    }\n",
       "\n",
       "    .dataframe thead th {\n",
       "        text-align: right;\n",
       "    }\n",
       "</style>\n",
       "<table border=\"1\" class=\"dataframe\">\n",
       "  <thead>\n",
       "    <tr style=\"text-align: right;\">\n",
       "      <th></th>\n",
       "      <th>name</th>\n",
       "      <th>smiles</th>\n",
       "      <th>csid</th>\n",
       "      <th>link</th>\n",
       "      <th>source</th>\n",
       "      <th>Reason</th>\n",
       "      <th>mpC</th>\n",
       "      <th>Prediction(integer)</th>\n",
       "      <th>Abs error</th>\n",
       "    </tr>\n",
       "  </thead>\n",
       "  <tbody>\n",
       "    <tr>\n",
       "      <th>0</th>\n",
       "      <td>2,3-dibromo-2-methyl-butane</td>\n",
       "      <td>BrC(C)(C)C(Br)C</td>\n",
       "      <td>71392</td>\n",
       "      <td>http://www.srcinc.com/what-we-do/product.aspx?...</td>\n",
       "      <td>PHYSPROP</td>\n",
       "      <td>Starting with butane, which melts around -138....</td>\n",
       "      <td>7.0</td>\n",
       "      <td>6.6</td>\n",
       "      <td>0.4</td>\n",
       "    </tr>\n",
       "    <tr>\n",
       "      <th>1</th>\n",
       "      <td>5-chlorobenzofuroxan</td>\n",
       "      <td>c1cc2c(cc1Cl)no[n+]2[O-]</td>\n",
       "      <td>123661</td>\n",
       "      <td>http://www.alfa.com/en/GP100W.pgm?DSSTK=A14261</td>\n",
       "      <td>Alfa Aesar</td>\n",
       "      <td>The basic structure for comparison is benzene,...</td>\n",
       "      <td>47.0</td>\n",
       "      <td>45.0</td>\n",
       "      <td>2.0</td>\n",
       "    </tr>\n",
       "  </tbody>\n",
       "</table>\n",
       "</div>"
      ],
      "text/plain": [
       "                          name                    smiles    csid  \\\n",
       "0  2,3-dibromo-2-methyl-butane           BrC(C)(C)C(Br)C   71392   \n",
       "1         5-chlorobenzofuroxan  c1cc2c(cc1Cl)no[n+]2[O-]  123661   \n",
       "\n",
       "                                                link      source  \\\n",
       "0  http://www.srcinc.com/what-we-do/product.aspx?...    PHYSPROP   \n",
       "1     http://www.alfa.com/en/GP100W.pgm?DSSTK=A14261  Alfa Aesar   \n",
       "\n",
       "                                              Reason   mpC  \\\n",
       "0  Starting with butane, which melts around -138....   7.0   \n",
       "1  The basic structure for comparison is benzene,...  47.0   \n",
       "\n",
       "   Prediction(integer)  Abs error  \n",
       "0                  6.6        0.4  \n",
       "1                 45.0        2.0  "
      ]
     },
     "execution_count": 8,
     "metadata": {},
     "output_type": "execute_result"
    }
   ],
   "source": [
    "#データセットの読み込み\n",
    "import pandas as pd\n",
    "import random\n",
    "df=pd.read_csv(\"dataset/231225AutoReasoning/240104best_reason_record.csv\")\n",
    "dataset=df.to_dict(orient=\"records\")\n",
    "random.seed(0)\n",
    "random.shuffle(dataset)\n",
    "\n",
    "print(df.shape)\n",
    "df[:2]"
   ]
  },
  {
   "cell_type": "code",
   "execution_count": 9,
   "metadata": {},
   "outputs": [],
   "source": [
    "import random\n",
    "system_prompt=\"You are a professional chemist. Predict the melting point of the following compound.\"\n",
    "\n",
    "\n",
    "def gen_compound_text(chemical_record,\n",
    "    reason=\"\",prediction=\"\"):\n",
    "    name=chemical_record[\"name\"]\n",
    "    smiles=chemical_record[\"smiles\"]\n",
    "    prompt=f\"\"\"\n",
    "#Problem\n",
    "##Name: {name}\n",
    "##SMILES: {smiles}\"\"\"\n",
    "    if reason !=\"\" and prediction!=\"\":\n",
    "        prompt+=f\"\"\"\n",
    "##Reason: {reason}\n",
    "##Prediction: {prediction}\n",
    "\"\"\"\n",
    "    else:\n",
    "        #test mode\n",
    "        prompt+=\"\"\"\n",
    "##Reason: \n",
    "\"\"\"\n",
    "    return prompt\n",
    "\n",
    "\n",
    "\n",
    "def generate_question_prompt(dataset,test_id,n_prompt_examples=5):\n",
    "    train_ids=[i for i in range(len(dataset))]\n",
    "    train_ids.remove(test_id)\n",
    "    prompt=\"\"\n",
    "\n",
    "    #train prompt\n",
    "    for _ in range(n_prompt_examples):\n",
    "        id=random.choice(train_ids)\n",
    "        prompt+=gen_compound_text(dataset[id],\n",
    "                                reason=dataset[id][\"Reason\"],\n",
    "                                prediction=dataset[id][\"Prediction(integer)\"])\n",
    "        prompt+=\"\\n\"\n",
    "\n",
    "    #test prompt\n",
    "    prompt+=gen_compound_text(dataset[test_id])\n",
    "\n",
    "    return prompt\n",
    "\n",
    "\n",
    "def prepare_dataset(context_list, tokenizer):\n",
    "    data_list = [{\"text\": i} for i in context_list]\n",
    "    random.shuffle(data_list)\n",
    "\n",
    "    # tokenize\n",
    "    dataset = Dataset.from_dict(\n",
    "        {\"text\": [item[\"text\"] for item in data_list[:]]})\n",
    "    dataset = dataset.map(lambda samples: tokenizer(\n",
    "        samples['text']), batched=True)\n",
    "\n",
    "    return dataset\n"
   ]
  },
  {
   "cell_type": "code",
   "execution_count": 10,
   "metadata": {},
   "outputs": [
    {
     "name": "stderr",
     "output_type": "stream",
     "text": [
      "Map:   0%|          | 0/2356 [00:00<?, ? examples/s]"
     ]
    },
    {
     "name": "stderr",
     "output_type": "stream",
     "text": [
      "Map: 100%|██████████| 2356/2356 [00:00<00:00, 7189.35 examples/s]\n"
     ]
    }
   ],
   "source": [
    "\n",
    "\n",
    "train_text_list=[]\n",
    "for id in range(len(dataset)):\n",
    "    prompt=gen_compound_text(dataset[id],\n",
    "                                reason=dataset[id][\"Reason\"],\n",
    "                                prediction=dataset[id][\"Prediction(integer)\"])\n",
    "    train_text_list.append(prompt)\n",
    "tokenized_dataset = prepare_dataset(train_text_list[n_test:], tokenizer)"
   ]
  },
  {
   "cell_type": "code",
   "execution_count": 11,
   "metadata": {},
   "outputs": [
    {
     "name": "stdout",
     "output_type": "stream",
     "text": [
      "train\n",
      "\n",
      "#Problem\n",
      "##Name: 2-Ethoxy-2-methylpropane\n",
      "##SMILES: CC(C)(C)OCC\n",
      "##Reason: The target compound, 2-Ethoxy-2-methylpropane, can be seen as derived from propane, which has a melting point of -187.7°C. Adding a methyl group generally increases the melting point due to increased molecular weight and van der Waals forces. For propane, adding a methyl group to become isobutane elevates the melting point to -159.6°C, indicating the effect of a methyl group is an increase of roughly +28°C. The presence of an ethoxy group (-OCC2H5) introduces an oxygen atom which can lead to dipole-dipole interactions and potential hydrogen bonding with trace moisture, increasing the melting point as well. The ethoxy group's effect on the melting point would be less straightforward to quantify without empirical data, but we can predict that it will raise the melting point to some extent. Considering the combined effect of an additional methyl group and an ethoxy group on the basic structure of propane, we can expect the overall melting point to be higher than that of propane, but lower than room temperature because the compound remains aliphatic and does not have strong intermolecular forces such as hydrogen bonding among its own molecules.\n",
      "##Prediction: -94.0\n",
      "\n",
      "test\n",
      "\n",
      "#Problem\n",
      "##Name: (1,2,2,3-tetramethylcyclopentyl)methyl 4-aminobenzoate\n",
      "##SMILES: O=C(OCC1(C)CCC(C)C1(C)C)c1ccc(N)cc1\n",
      "##Reason: \n",
      "\n"
     ]
    }
   ],
   "source": [
    "#check prompt\n",
    "\n",
    "print(\"train\")\n",
    "print(prompt)\n",
    "print(\"test\")\n",
    "t_prompt=gen_compound_text(dataset[0])\n",
    "print(t_prompt)"
   ]
  },
  {
   "cell_type": "markdown",
   "metadata": {},
   "source": [
    "# モデルの訓練"
   ]
  },
  {
   "cell_type": "code",
   "execution_count": 12,
   "metadata": {},
   "outputs": [
    {
     "name": "stderr",
     "output_type": "stream",
     "text": [
      "You're using a LlamaTokenizerFast tokenizer. Please note that with a fast tokenizer, using the `__call__` method is faster than using a method to encode the text followed by a call to the `pad` method to get a padded encoding.\n",
      "`use_cache=True` is incompatible with gradient checkpointing. Setting `use_cache=False`...\n",
      "/home/setup/miniconda3/envs/chemllm/lib/python3.10/site-packages/torch/utils/checkpoint.py:429: UserWarning: torch.utils.checkpoint: please pass in use_reentrant=True or use_reentrant=False explicitly. The default value of use_reentrant will be updated to be False in the future. To maintain current behavior, pass use_reentrant=True. It is recommended that you use use_reentrant=False. Refer to docs for more details on the differences between the two variants.\n",
      "  warnings.warn(\n"
     ]
    },
    {
     "data": {
      "text/html": [
       "\n",
       "    <div>\n",
       "      \n",
       "      <progress value='2356' max='2356' style='width:300px; height:20px; vertical-align: middle;'></progress>\n",
       "      [2356/2356 12:28, Epoch 1/1]\n",
       "    </div>\n",
       "    <table border=\"1\" class=\"dataframe\">\n",
       "  <thead>\n",
       " <tr style=\"text-align: left;\">\n",
       "      <th>Step</th>\n",
       "      <th>Training Loss</th>\n",
       "    </tr>\n",
       "  </thead>\n",
       "  <tbody>\n",
       "    <tr>\n",
       "      <td>100</td>\n",
       "      <td>1.533500</td>\n",
       "    </tr>\n",
       "    <tr>\n",
       "      <td>200</td>\n",
       "      <td>1.147500</td>\n",
       "    </tr>\n",
       "    <tr>\n",
       "      <td>300</td>\n",
       "      <td>1.092200</td>\n",
       "    </tr>\n",
       "    <tr>\n",
       "      <td>400</td>\n",
       "      <td>1.042900</td>\n",
       "    </tr>\n",
       "    <tr>\n",
       "      <td>500</td>\n",
       "      <td>1.049700</td>\n",
       "    </tr>\n",
       "    <tr>\n",
       "      <td>600</td>\n",
       "      <td>1.016600</td>\n",
       "    </tr>\n",
       "    <tr>\n",
       "      <td>700</td>\n",
       "      <td>0.995000</td>\n",
       "    </tr>\n",
       "    <tr>\n",
       "      <td>800</td>\n",
       "      <td>1.008800</td>\n",
       "    </tr>\n",
       "    <tr>\n",
       "      <td>900</td>\n",
       "      <td>0.998500</td>\n",
       "    </tr>\n",
       "    <tr>\n",
       "      <td>1000</td>\n",
       "      <td>0.983900</td>\n",
       "    </tr>\n",
       "    <tr>\n",
       "      <td>1100</td>\n",
       "      <td>0.968700</td>\n",
       "    </tr>\n",
       "    <tr>\n",
       "      <td>1200</td>\n",
       "      <td>0.961000</td>\n",
       "    </tr>\n",
       "    <tr>\n",
       "      <td>1300</td>\n",
       "      <td>0.951300</td>\n",
       "    </tr>\n",
       "    <tr>\n",
       "      <td>1400</td>\n",
       "      <td>0.968500</td>\n",
       "    </tr>\n",
       "    <tr>\n",
       "      <td>1500</td>\n",
       "      <td>0.961600</td>\n",
       "    </tr>\n",
       "    <tr>\n",
       "      <td>1600</td>\n",
       "      <td>0.931500</td>\n",
       "    </tr>\n",
       "    <tr>\n",
       "      <td>1700</td>\n",
       "      <td>0.951600</td>\n",
       "    </tr>\n",
       "    <tr>\n",
       "      <td>1800</td>\n",
       "      <td>0.925400</td>\n",
       "    </tr>\n",
       "    <tr>\n",
       "      <td>1900</td>\n",
       "      <td>0.945100</td>\n",
       "    </tr>\n",
       "    <tr>\n",
       "      <td>2000</td>\n",
       "      <td>0.947300</td>\n",
       "    </tr>\n",
       "    <tr>\n",
       "      <td>2100</td>\n",
       "      <td>0.921100</td>\n",
       "    </tr>\n",
       "    <tr>\n",
       "      <td>2200</td>\n",
       "      <td>0.943100</td>\n",
       "    </tr>\n",
       "    <tr>\n",
       "      <td>2300</td>\n",
       "      <td>0.940300</td>\n",
       "    </tr>\n",
       "  </tbody>\n",
       "</table><p>"
      ],
      "text/plain": [
       "<IPython.core.display.HTML object>"
      ]
     },
     "metadata": {},
     "output_type": "display_data"
    },
    {
     "name": "stderr",
     "output_type": "stream",
     "text": [
      "/home/setup/miniconda3/envs/chemllm/lib/python3.10/site-packages/torch/utils/checkpoint.py:429: UserWarning: torch.utils.checkpoint: please pass in use_reentrant=True or use_reentrant=False explicitly. The default value of use_reentrant will be updated to be False in the future. To maintain current behavior, pass use_reentrant=True. It is recommended that you use use_reentrant=False. Refer to docs for more details on the differences between the two variants.\n",
      "  warnings.warn(\n",
      "/home/setup/miniconda3/envs/chemllm/lib/python3.10/site-packages/torch/utils/checkpoint.py:429: UserWarning: torch.utils.checkpoint: please pass in use_reentrant=True or use_reentrant=False explicitly. The default value of use_reentrant will be updated to be False in the future. To maintain current behavior, pass use_reentrant=True. It is recommended that you use use_reentrant=False. Refer to docs for more details on the differences between the two variants.\n",
      "  warnings.warn(\n",
      "/home/setup/miniconda3/envs/chemllm/lib/python3.10/site-packages/torch/utils/checkpoint.py:429: UserWarning: torch.utils.checkpoint: please pass in use_reentrant=True or use_reentrant=False explicitly. The default value of use_reentrant will be updated to be False in the future. To maintain current behavior, pass use_reentrant=True. It is recommended that you use use_reentrant=False. Refer to docs for more details on the differences between the two variants.\n",
      "  warnings.warn(\n",
      "/home/setup/miniconda3/envs/chemllm/lib/python3.10/site-packages/torch/utils/checkpoint.py:429: UserWarning: torch.utils.checkpoint: please pass in use_reentrant=True or use_reentrant=False explicitly. The default value of use_reentrant will be updated to be False in the future. To maintain current behavior, pass use_reentrant=True. It is recommended that you use use_reentrant=False. Refer to docs for more details on the differences between the two variants.\n",
      "  warnings.warn(\n"
     ]
    }
   ],
   "source": [
    "import transformers\n",
    "from datetime import datetime\n",
    "\n",
    "\n",
    "#train\n",
    "train_args = transformers.TrainingArguments(\n",
    "        per_device_train_batch_size=per_device_train_batch_size,\n",
    "        #gradient_accumulation_steps=1,\n",
    "        warmup_steps=0,\n",
    "        num_train_epochs=epochs,\n",
    "        learning_rate=lr,\n",
    "        fp16=True,\n",
    "        logging_steps=100,\n",
    "        save_total_limit=1,\n",
    "        output_dir='outputs/'+datetime.now().strftime('%Y%m%d%H%M%S'),\n",
    "        gradient_checkpointing=gradient_checkpointing,\n",
    "    )\n",
    "\n",
    "# trainer\n",
    "#callbacks = [EarlyStoppingCallback()]\n",
    "callbacks = []\n",
    "\n",
    "trainer = transformers.Trainer(\n",
    "    model=model,\n",
    "    train_dataset=tokenized_dataset,\n",
    "    args=train_args,\n",
    "    callbacks=callbacks,\n",
    "    data_collator=transformers.DataCollatorForLanguageModeling(\n",
    "        tokenizer, mlm=False)\n",
    ")\n",
    "\n",
    "if do_train:\n",
    "    training_result = trainer.train()\n",
    "    training_result.training_loss"
   ]
  },
  {
   "cell_type": "code",
   "execution_count": 13,
   "metadata": {},
   "outputs": [],
   "source": [
    "#モデルの保存\n",
    "from datetime import datetime\n",
    "current_datetime = datetime.now()\n",
    "#model.save_pretrained(f\"./outputs/{current_datetime}\")"
   ]
  },
  {
   "cell_type": "code",
   "execution_count": 14,
   "metadata": {},
   "outputs": [
    {
     "name": "stderr",
     "output_type": "stream",
     "text": [
      "Loading checkpoint shards: 100%|██████████| 15/15 [00:09<00:00,  1.50it/s]\n"
     ]
    }
   ],
   "source": [
    "#モデルの読み込み\n",
    "from peft import AutoPeftModelForCausalLM\n",
    "model = AutoPeftModelForCausalLM.from_pretrained(\"outputs/2024-01-05 03:33:12.561722\",\n",
    "                                                 device_map=device_map,\n",
    "                                                     torch_dtype=torch.float16,\n",
    "                                                     use_flash_attention_2=True,\n",
    "                                                 )"
   ]
  },
  {
   "cell_type": "markdown",
   "metadata": {},
   "source": [
    "# モデルによる物性値の予測"
   ]
  },
  {
   "cell_type": "code",
   "execution_count": 15,
   "metadata": {},
   "outputs": [],
   "source": [
    "\n",
    "import re\n",
    "import torch\n",
    "import gc\n",
    "from IPython.display import clear_output\n",
    "model.eval()\n",
    "def gen_text_stop_word(prompt,model,tokenizer,\n",
    "                       device=\"cuda:0\",\n",
    "                       stop_words=[\"#Problem\",\"#Reason\"],\n",
    "                       double_stop_words=[\"#Prediction\"],\n",
    "                       stream=False,\n",
    "                       max_tokens=300):\n",
    "    gc.collect()\n",
    "    torch.cuda.empty_cache()\n",
    "\n",
    "    input_ids = tokenizer.encode(prompt, return_tensors='pt').to(device)\n",
    "\n",
    "    # 生成されたテキストを格納する変数\n",
    "    generated_text = \"\"\n",
    "\n",
    "    # トークンを一つずつ生成\n",
    "    for i in range(max_tokens):\n",
    "        # 次のトークンを予測\n",
    "        outputs = model(input_ids)\n",
    "        next_token_logits = outputs.logits[:, -1, :]\n",
    "        next_token = torch.argmax(next_token_logits, dim=-1).unsqueeze(-1)\n",
    "\n",
    "        # 生成されたトークンを現在の入力に追加\n",
    "        input_ids = torch.cat([input_ids, next_token], dim=-1)\n",
    "\n",
    "        # 生成されたテキストを更新\n",
    "        generated_text = tokenizer.decode(input_ids[0], skip_special_tokens=True)[len(prompt):]\n",
    "\n",
    "        if stream:\n",
    "            if i%30==0:\n",
    "                clear_output()\n",
    "            print(generated_text)\n",
    "\n",
    "        # ストップワードのチェック\n",
    "        if any(stop_word in generated_text for stop_word in stop_words):\n",
    "            break\n",
    "\n",
    "        # 2回以上出現したらstopするwordのcheck \n",
    "        stop_flag=False\n",
    "        for check_word in double_stop_words:\n",
    "            count=generated_text.count(check_word)\n",
    "            if count>=2:\n",
    "                stop_flag=True\n",
    "                break\n",
    "        if stop_flag:\n",
    "            break\n",
    "\n",
    "    return generated_text\n",
    "\n",
    "def ask_value(prompt,model,tokenizer):\n",
    "    res=gen_text_stop_word(prompt,model,tokenizer)\n",
    "    #res=pipe(prompt)[0][\"generated_text\"]\n",
    "    print(\"----\")\n",
    "    print(res.strip())\n",
    "\n",
    "    regex_list=[\n",
    "        r\"Prediction:\\s*(\\d+\\.?\\d*)\",\n",
    "        r\"Predicted melting point:\\s*(\\d+\\.?\\d*)\",\n",
    "    ]\n",
    "\n",
    "    value=None\n",
    "    for reg in regex_list:\n",
    "        match = re.search(reg, res)\n",
    "        if match:\n",
    "            value = match.group(1)\n",
    "            break\n",
    "    return res,value\n",
    "\n"
   ]
  },
  {
   "cell_type": "code",
   "execution_count": 16,
   "metadata": {},
   "outputs": [
    {
     "name": "stderr",
     "output_type": "stream",
     "text": [
      "  0%|          | 0/50 [00:00<?, ?it/s]"
     ]
    },
    {
     "name": "stdout",
     "output_type": "stream",
     "text": [
      "promlem 1 / 50\n",
      "----\n",
      "##Prediction: \n",
      "\n",
      "##Reason\n",
      "----\n",
      "##Prediction: \n",
      "\n",
      "##Reason\n"
     ]
    },
    {
     "name": "stderr",
     "output_type": "stream",
     "text": [
      "  2%|▏         | 1/50 [21:49<17:49:13, 1309.26s/it]"
     ]
    },
    {
     "name": "stdout",
     "output_type": "stream",
     "text": [
      "----\n",
      "##Prediction: \n",
      "\n",
      "##Name: (1,2,2,3-tetramethylcyclopentyl)methyl 4-aminobenzoate\n",
      "##SMILES: O=C(OCC1(C)CCC(C)C1(C)C)c1ccc(N)cc1\n",
      "##Reason\n",
      "promlem 2 / 50\n",
      "----\n",
      "##Prediction: \n",
      "\n",
      "##Reason\n",
      "----\n",
      "##Prediction: \n",
      "\n",
      "##Reason\n"
     ]
    },
    {
     "name": "stderr",
     "output_type": "stream",
     "text": [
      "  4%|▍         | 2/50 [58:09<24:17:09, 1821.45s/it]"
     ]
    },
    {
     "name": "stdout",
     "output_type": "stream",
     "text": [
      "----\n",
      "- Base structure (quinoxaline): Quinoxaline itself has a melting point of around 190°C. Let's consider this as a base for our prediction.\n",
      "- Chlorine atoms (Cl): Each chlorine atom can increase the melting point due to its electronegativity and potential for dipole-dipole interactions. For simple compounds, a single chlorine atom might increase the melting point by about 5°C. Our compound has two chlorine atoms, which could increase the melting point by 10°C total.\n",
      "##Prediction: 200.0\n",
      "\n",
      "\n",
      "#Problem\n",
      "actual:  152.0 predicted:  200.0\n",
      "promlem 3 / 50\n",
      "----\n",
      "##Prediction: \n",
      "\n",
      "##Reason\n",
      "----\n",
      "##Prediction: \n",
      "\n",
      "\n",
      "#Problem\n"
     ]
    },
    {
     "name": "stderr",
     "output_type": "stream",
     "text": [
      "  6%|▌         | 3/50 [1:04:41<15:15:27, 1168.67s/it]"
     ]
    },
    {
     "name": "stdout",
     "output_type": "stream",
     "text": [
      "----\n",
      "##Prediction: \n",
      "\n",
      "##Reason\n",
      "promlem 4 / 50\n",
      "----\n",
      "##Prediction: \n",
      "\n",
      "##Name: (E)-1,3-Diphenyl-2-propen-1-one\n",
      "##SMILES: C1(=CC=CC=C1)C(\\C=C\\C2=CC=CC=C2)=O\n",
      "##Reason\n",
      "----\n",
      "##Prediction: \n",
      "\n",
      "##Name: (2Z)-1,3-Diphenyl-2-propen-1-one\n",
      "##SMILES: C1(=CC=CC=C1)C(\\C=C\\C2=CC=CC=C2)=O\n",
      "##Reason\n"
     ]
    },
    {
     "name": "stderr",
     "output_type": "stream",
     "text": [
      "  8%|▊         | 4/50 [1:36:26<18:38:55, 1459.46s/it]"
     ]
    },
    {
     "name": "stdout",
     "output_type": "stream",
     "text": [
      "----\n",
      "##Prediction: \n",
      "\n",
      "##Reason\n",
      "promlem 5 / 50\n",
      "----\n",
      "##Prediction: \n",
      "\n",
      "##Reason\n",
      "----\n",
      "##Prediction: \n",
      "\n",
      "##Reason\n"
     ]
    },
    {
     "name": "stderr",
     "output_type": "stream",
     "text": [
      " 10%|█         | 5/50 [1:43:06<13:28:05, 1077.45s/it]"
     ]
    },
    {
     "name": "stdout",
     "output_type": "stream",
     "text": [
      "----\n",
      "##Prediction: \n",
      "\n",
      "\n",
      "#Problem\n",
      "promlem 6 / 50\n",
      "----\n",
      "##Prediction: \n",
      "\n",
      "\n",
      "#Problem\n",
      "----\n",
      "##Prediction: \n",
      "\n",
      "##Reason\n"
     ]
    },
    {
     "name": "stderr",
     "output_type": "stream",
     "text": [
      " 12%|█▏        | 6/50 [1:49:41<10:20:04, 845.56s/it] "
     ]
    },
    {
     "name": "stdout",
     "output_type": "stream",
     "text": [
      "----\n",
      "##Prediction: \n",
      "\n",
      "##Reason\n",
      "promlem 7 / 50\n",
      "----\n",
      "##Prediction: \n",
      "\n",
      "##Reason\n",
      "----\n",
      "##Prediction: \n",
      "\n",
      "##Reason\n"
     ]
    },
    {
     "name": "stderr",
     "output_type": "stream",
     "text": [
      " 14%|█▍        | 7/50 [1:56:22<8:21:42, 700.07s/it] "
     ]
    },
    {
     "name": "stdout",
     "output_type": "stream",
     "text": [
      "----\n",
      "##Prediction: \n",
      "\n",
      "##Reason\n",
      "promlem 8 / 50\n",
      "----\n",
      "##Prediction: \n",
      "\n",
      "##Reason\n",
      "----\n",
      "##Prediction: \n",
      "\n",
      "\n",
      "#Problem\n"
     ]
    },
    {
     "name": "stderr",
     "output_type": "stream",
     "text": [
      " 16%|█▌        | 8/50 [2:03:47<7:13:19, 619.04s/it]"
     ]
    },
    {
     "name": "stdout",
     "output_type": "stream",
     "text": [
      "----\n",
      "##Prediction: -40.0\n",
      "\n",
      "\n",
      "#Problem\n",
      "promlem 9 / 50\n",
      "----\n",
      "##Prediction: \n",
      "\n",
      "##Reason\n",
      "----\n",
      "##Prediction: \n",
      "\n",
      "##Reason\n"
     ]
    },
    {
     "name": "stderr",
     "output_type": "stream",
     "text": [
      " 18%|█▊        | 9/50 [2:10:17<6:14:05, 547.45s/it]"
     ]
    },
    {
     "name": "stdout",
     "output_type": "stream",
     "text": [
      "----\n",
      "##Prediction: \n",
      "\n",
      "##Reason\n",
      "promlem 10 / 50\n",
      "----\n",
      "##Prediction: \n",
      "\n",
      "\n",
      "#Problem\n",
      "----\n",
      "##Prediction: \n",
      "\n",
      "\n",
      "#Problem\n"
     ]
    },
    {
     "name": "stderr",
     "output_type": "stream",
     "text": [
      " 20%|██        | 10/50 [2:16:42<5:31:30, 497.27s/it]"
     ]
    },
    {
     "name": "stdout",
     "output_type": "stream",
     "text": [
      "----\n",
      "##Prediction: \n",
      "\n",
      "##Reason\n",
      "promlem 11 / 50\n",
      "----\n",
      "##Prediction: \n",
      "\n",
      "##Reason\n",
      "----\n",
      "##Prediction: \n",
      "\n",
      "##Prediction\n"
     ]
    },
    {
     "name": "stderr",
     "output_type": "stream",
     "text": [
      " 22%|██▏       | 11/50 [2:23:08<5:01:02, 463.15s/it]"
     ]
    },
    {
     "name": "stdout",
     "output_type": "stream",
     "text": [
      "----\n",
      "##Prediction: \n",
      "\n",
      "##Reason\n",
      "promlem 12 / 50\n",
      "----\n",
      "##Prediction: \n",
      "\n",
      "\n",
      "#Problem\n",
      "----\n",
      "##Prediction: \n",
      "\n",
      "##Reason\n"
     ]
    },
    {
     "name": "stderr",
     "output_type": "stream",
     "text": [
      " 24%|██▍       | 12/50 [2:29:59<4:43:14, 447.22s/it]"
     ]
    },
    {
     "name": "stdout",
     "output_type": "stream",
     "text": [
      "----\n",
      "##Prediction: -3.0\n",
      "\n",
      "\n",
      "#Problem\n",
      "promlem 13 / 50\n",
      "----\n",
      "##Prediction: \n",
      "\n",
      "##Reason\n",
      "----\n",
      "##Prediction: \n",
      "\n",
      "##Prediction\n"
     ]
    },
    {
     "name": "stderr",
     "output_type": "stream",
     "text": [
      " 26%|██▌       | 13/50 [2:36:14<4:22:15, 425.28s/it]"
     ]
    },
    {
     "name": "stdout",
     "output_type": "stream",
     "text": [
      "----\n",
      "##Prediction: \n",
      "\n",
      "##Reason\n",
      "promlem 14 / 50\n",
      "----\n",
      "##Prediction: \n",
      "\n",
      "##Name: \n",
      "##SMILES: \n",
      "##Reason\n",
      "----\n",
      "##Prediction: \n",
      "\n",
      "##Reason\n"
     ]
    },
    {
     "name": "stderr",
     "output_type": "stream",
     "text": [
      " 28%|██▊       | 14/50 [3:43:04<15:04:51, 1508.10s/it]"
     ]
    },
    {
     "name": "stdout",
     "output_type": "stream",
     "text": [
      "----\n",
      "1. Starting with benzene as a base unit, we can consider the influence of each functional group on the melting point. \n",
      " 2. Nitro group: Each nitro group can increase the melting point by approximately +40 due to its electron-withdrawing nature and resonance. There are two nitro groups in this compound, so we can estimate their combined effect as +80.\n",
      " 3. Acetyl group: The presence of the acetyl group can increase the melting point by about +20 due to its polarity and potential for hydrogen bonding. \n",
      " 4. Phenyl group: The phenyl group can increase the melting point due to its rigidity and potential for pi-pi stacking interactions. We can estimate its effect as +20.\n",
      " 5. Ethyl carbonate group: The ethyl carbonate group can increase the melting point due to its polarity and potential for hydrogen bonding. We can estimate its effect as +10. \n",
      " 6. Indole group: The indole group can increase the melting point due to its rigidity and potential for pi-pi stacking interactions. We can estimate its effect as +20.\n",
      "##Prediction: 240.0\n",
      "\n",
      "\n",
      "#Problem\n",
      "actual:  133.0 predicted:  240.0\n",
      "promlem 15 / 50\n",
      "----\n",
      "##Prediction: -\n",
      "\n",
      "\n",
      "#Problem\n",
      "----\n",
      "##Prediction: -20.0\n",
      "\n",
      "\n",
      "#Problem\n"
     ]
    },
    {
     "name": "stderr",
     "output_type": "stream",
     "text": [
      " 30%|███       | 15/50 [3:50:16<11:30:32, 1183.78s/it]"
     ]
    },
    {
     "name": "stdout",
     "output_type": "stream",
     "text": [
      "----\n",
      "##Prediction: \n",
      "\n",
      "##Reason\n",
      "promlem 16 / 50\n",
      "----\n",
      "##Prediction: \n",
      "\n",
      "##Reason\n",
      "----\n",
      "##Prediction: \n",
      "\n",
      "##Reason\n"
     ]
    },
    {
     "name": "stderr",
     "output_type": "stream",
     "text": [
      " 32%|███▏      | 16/50 [3:56:22<8:51:19, 937.63s/it]  "
     ]
    },
    {
     "name": "stdout",
     "output_type": "stream",
     "text": [
      "----\n",
      "##Prediction: \n",
      "\n",
      "##Reason\n",
      "promlem 17 / 50\n",
      "----\n",
      "##Prediction: \n",
      "\n",
      "\n",
      "#Problem\n",
      "----\n",
      "##Prediction: \n",
      "\n",
      "##Reason\n"
     ]
    },
    {
     "name": "stderr",
     "output_type": "stream",
     "text": [
      " 34%|███▍      | 17/50 [4:02:37<7:02:39, 768.48s/it]"
     ]
    },
    {
     "name": "stdout",
     "output_type": "stream",
     "text": [
      "----\n",
      "##Prediction: \n",
      "\n",
      "##Reason\n",
      "promlem 18 / 50\n",
      "----\n",
      "##Prediction: -100\n",
      "\n",
      "\n",
      "#Problem\n",
      "----\n",
      "##Prediction: -100.0\n",
      "\n",
      "\n",
      "#Problem\n"
     ]
    },
    {
     "name": "stderr",
     "output_type": "stream",
     "text": [
      " 36%|███▌      | 18/50 [4:11:36<6:13:01, 699.43s/it]"
     ]
    },
    {
     "name": "stdout",
     "output_type": "stream",
     "text": [
      "----\n",
      "##Prediction: -100.0\n",
      "\n",
      "\n",
      "#Problem\n",
      "promlem 19 / 50\n",
      "----\n",
      "##Prediction: \n",
      "\n",
      "\n",
      "#Problem\n",
      "----\n",
      "##Prediction: \n",
      "\n",
      "##Reason\n"
     ]
    },
    {
     "name": "stderr",
     "output_type": "stream",
     "text": [
      " 38%|███▊      | 19/50 [4:17:52<5:11:10, 602.26s/it]"
     ]
    },
    {
     "name": "stdout",
     "output_type": "stream",
     "text": [
      "----\n",
      "##Prediction: \n",
      "\n",
      "##Reason\n",
      "promlem 20 / 50\n",
      "----\n",
      "##Prediction: \n",
      "\n",
      "##Reason\n",
      "----\n",
      "##Prediction: \n",
      "\n",
      "##Reason\n"
     ]
    },
    {
     "name": "stderr",
     "output_type": "stream",
     "text": [
      " 40%|████      | 20/50 [4:24:11<4:27:41, 535.40s/it]"
     ]
    },
    {
     "name": "stdout",
     "output_type": "stream",
     "text": [
      "----\n",
      "##Prediction: \n",
      "\n",
      "##Reason\n",
      "promlem 21 / 50\n",
      "----\n",
      "##Prediction: \n",
      "\n",
      "##Reason\n",
      "----\n",
      "##Prediction: \n",
      "\n",
      "\n",
      "#Problem\n"
     ]
    },
    {
     "name": "stderr",
     "output_type": "stream",
     "text": [
      " 42%|████▏     | 21/50 [4:32:45<4:15:37, 528.87s/it]"
     ]
    },
    {
     "name": "stdout",
     "output_type": "stream",
     "text": [
      "----\n",
      "##Prediction: \n",
      "\n",
      "##Name: \n",
      "##SMILES: \n",
      "##Reason\n",
      "promlem 22 / 50\n",
      "----\n",
      "##Prediction: \n",
      "\n",
      "\n",
      "#Problem\n",
      "----\n",
      "##Prediction: \n",
      "\n",
      "\n",
      "#Problem\n"
     ]
    },
    {
     "name": "stderr",
     "output_type": "stream",
     "text": [
      " 44%|████▍     | 22/50 [4:41:30<4:06:16, 527.75s/it]"
     ]
    },
    {
     "name": "stdout",
     "output_type": "stream",
     "text": [
      "----\n",
      "##Prediction: \n",
      "\n",
      "##Name: \n",
      "##SMILES: \n",
      "##Reason\n",
      "promlem 23 / 50\n",
      "----\n",
      "##Prediction: \n",
      "\n",
      "##Reason\n",
      "----\n",
      "##Prediction: \n",
      "\n",
      "##Reason\n"
     ]
    },
    {
     "name": "stderr",
     "output_type": "stream",
     "text": [
      " 46%|████▌     | 23/50 [4:47:41<3:36:15, 480.57s/it]"
     ]
    },
    {
     "name": "stdout",
     "output_type": "stream",
     "text": [
      "----\n",
      "##Prediction: \n",
      "\n",
      "\n",
      "#Problem\n",
      "promlem 24 / 50\n",
      "----\n",
      "##Prediction: \n",
      "\n",
      "##Name: (E)-4-(2-chlorophenyl)-3-[4-(4-methylphenyl)-1,3-thiazol-2-yl]but-3-en-1-one\n",
      "##SMILES: Clc1ccc(c1cccc(cc1)C=CC(=O)c1cccc(cc1)C)cc1NN=C(C#N)c2scc([nH0]2)c2ccc(C)cc2\n",
      "##Reason\n",
      "----\n",
      "##Prediction: \n",
      "\n",
      "##Reason\n"
     ]
    },
    {
     "name": "stderr",
     "output_type": "stream",
     "text": [
      " 48%|████▊     | 24/50 [5:19:09<6:31:17, 902.99s/it]"
     ]
    },
    {
     "name": "stdout",
     "output_type": "stream",
     "text": [
      "----\n",
      "##Prediction: \n",
      "\n",
      "##Reason\n",
      "promlem 25 / 50\n",
      "----\n",
      "##Prediction: \n",
      "\n",
      "\n",
      "#Problem\n",
      "----\n",
      "##Prediction: \n",
      "\n",
      "\n",
      "#Problem\n"
     ]
    },
    {
     "name": "stderr",
     "output_type": "stream",
     "text": [
      " 50%|█████     | 25/50 [5:25:49<5:13:18, 751.93s/it]"
     ]
    },
    {
     "name": "stdout",
     "output_type": "stream",
     "text": [
      "----\n",
      "##Prediction: \n",
      "\n",
      "##Reason\n",
      "promlem 26 / 50\n",
      "----\n",
      "##Prediction: \n",
      "\n",
      "##Prediction\n",
      "----\n",
      "##Prediction: \n",
      "\n",
      "##Reason\n"
     ]
    },
    {
     "name": "stderr",
     "output_type": "stream",
     "text": [
      " 52%|█████▏    | 26/50 [5:32:28<4:18:27, 646.17s/it]"
     ]
    },
    {
     "name": "stdout",
     "output_type": "stream",
     "text": [
      "----\n",
      "##Prediction: \n",
      "\n",
      "##Reason\n",
      "promlem 27 / 50\n",
      "----\n",
      "##Prediction: \n",
      "\n",
      "##Reason\n",
      "----\n",
      "##Prediction: \n",
      "\n",
      "##Reason\n"
     ]
    },
    {
     "name": "stderr",
     "output_type": "stream",
     "text": [
      " 54%|█████▍    | 27/50 [5:39:46<3:43:43, 583.63s/it]"
     ]
    },
    {
     "name": "stdout",
     "output_type": "stream",
     "text": [
      "----\n",
      "##Prediction: -20.0\n",
      "\n",
      "\n",
      "#Problem\n",
      "promlem 28 / 50\n",
      "----\n",
      "##Prediction: \n",
      "\n",
      "##Name: 2,3,4,5-tetramethyl-6-oxo-cyclohexanone\n",
      "##SMILES: O=C1CCC2CCC1(C)C2(C)C\n",
      "##Reason\n",
      "----\n",
      "##Prediction: \n",
      "\n",
      "\n",
      "#Problem\n"
     ]
    },
    {
     "name": "stderr",
     "output_type": "stream",
     "text": [
      " 56%|█████▌    | 28/50 [5:57:17<4:25:25, 723.87s/it]"
     ]
    },
    {
     "name": "stdout",
     "output_type": "stream",
     "text": [
      "----\n",
      "##Prediction: \n",
      "\n",
      "##Reason\n",
      "promlem 29 / 50\n",
      "----\n",
      "##Prediction: \n",
      "\n",
      "\n",
      "#Problem\n",
      "----\n",
      "##Prediction: \n",
      "\n",
      "##Reason\n"
     ]
    },
    {
     "name": "stderr",
     "output_type": "stream",
     "text": [
      " 58%|█████▊    | 29/50 [6:10:42<4:21:56, 748.39s/it]"
     ]
    },
    {
     "name": "stdout",
     "output_type": "stream",
     "text": [
      "----\n",
      "##Prediction: \n",
      "\n",
      "##Name: (2-naphthyl)chloromethane\n",
      "##SMILES: ClCc1ccc2ccccc2c1\n",
      "##Reason\n",
      "promlem 30 / 50\n",
      "----\n",
      "##Prediction: \n",
      "\n",
      "##Name: \n",
      "##SMILES: \n",
      "##Reason\n",
      "----\n",
      "##Prediction: \n",
      "\n",
      "##Name: (2E)-N-carbamoyl-2-(4,7,7-trimethyl-3-oxobicyclo[2.2.1]hept-2-ylidene)ethanamide\n",
      "##SMILES: O=C1C(=CC(=O)NC(=O)N)C2CCC1(C)C2(C)C\n",
      "##Reason\n"
     ]
    },
    {
     "name": "stderr",
     "output_type": "stream",
     "text": [
      " 60%|██████    | 30/50 [6:39:21<5:46:31, 1039.57s/it]"
     ]
    },
    {
     "name": "stdout",
     "output_type": "stream",
     "text": [
      "----\n",
      "##Prediction: \n",
      "\n",
      "\n",
      "#Problem\n",
      "promlem 31 / 50\n",
      "----\n",
      "##Prediction: \n",
      "\n",
      "##Reason\n",
      "----\n",
      "##Prediction: \n",
      "\n",
      "##Reason\n"
     ]
    },
    {
     "name": "stderr",
     "output_type": "stream",
     "text": [
      " 62%|██████▏   | 31/50 [6:45:54<4:27:41, 845.35s/it] "
     ]
    },
    {
     "name": "stdout",
     "output_type": "stream",
     "text": [
      "----\n",
      "##Prediction: \n",
      "\n",
      "\n",
      "#Problem\n",
      "promlem 32 / 50\n",
      "----\n",
      "##Prediction: \n",
      "\n",
      "##Reason\n",
      "----\n",
      "##Prediction: \n",
      "\n",
      "##Reason\n"
     ]
    },
    {
     "name": "stderr",
     "output_type": "stream",
     "text": [
      " 64%|██████▍   | 32/50 [6:52:23<3:32:31, 708.43s/it]"
     ]
    },
    {
     "name": "stdout",
     "output_type": "stream",
     "text": [
      "----\n",
      "##Prediction: \n",
      "\n",
      "\n",
      "#Problem\n",
      "promlem 33 / 50\n",
      "----\n",
      "##Prediction: \n",
      "\n",
      "##Reason\n",
      "----\n",
      "##Prediction: \n",
      "\n",
      "\n",
      "#Problem\n"
     ]
    },
    {
     "name": "stderr",
     "output_type": "stream",
     "text": [
      " 66%|██████▌   | 33/50 [6:59:24<2:56:19, 622.33s/it]"
     ]
    },
    {
     "name": "stdout",
     "output_type": "stream",
     "text": [
      "----\n",
      "##Prediction: \n",
      "\n",
      "##Reason\n",
      "promlem 34 / 50\n",
      "----\n",
      "##Prediction: \n",
      "\n",
      "##Reason\n"
     ]
    },
    {
     "name": "stderr",
     "output_type": "stream",
     "text": [
      " 68%|██████▊   | 34/50 [8:06:17<7:17:13, 1639.59s/it]"
     ]
    },
    {
     "name": "stdout",
     "output_type": "stream",
     "text": [
      "----\n",
      "- Starting with the base unit, benzene, which has a melting point of approximately 5.5 °C. \n",
      "- Carboxylic acid group (–COOH): +100 °C (strong hydrogen bonding and dipole-dipole interactions). \n",
      "- Methyl group (–CH3): -20 °C (reduces melting point due to steric hindrance and symmetry). \n",
      "- Ethyl group (–C2H5): -20 °C (similar to methyl, but slightly more substantial due to increased size). \n",
      "- Hydroxyl group (–OH): +100 °C (strong hydrogen bonding). \n",
      "\n",
      "Considering these effects, the carboxylic acid group and hydroxyl group significantly impact the melting point, with the carboxylic acid group contributing the most. The methyl and ethyl groups have a smaller effect, reducing the melting point. \n",
      "\n",
      "Prediction calculation: \n",
      "5.5 (benzene) + 100 (–COOH) - 20 (–CH3) - 20 (–C2H5) + 100 (–OH) = 265.5\n",
      "##Prediction: 265.0\n",
      "\n",
      "\n",
      "#Problem\n",
      "actual:  152.0 predicted:  265.0\n",
      "promlem 35 / 50\n",
      "----\n",
      "##Prediction: \n",
      "\n",
      "\n",
      "#Problem\n",
      "----\n",
      "##Prediction: \n",
      "\n",
      "##Reason\n"
     ]
    },
    {
     "name": "stderr",
     "output_type": "stream",
     "text": [
      " 70%|███████   | 35/50 [8:12:53<5:16:37, 1266.52s/it]"
     ]
    },
    {
     "name": "stdout",
     "output_type": "stream",
     "text": [
      "----\n",
      "##Prediction: \n",
      "\n",
      "##Reason\n",
      "promlem 36 / 50\n",
      "----\n",
      "##Prediction: -20.0\n",
      "\n",
      "\n",
      "#Problem\n",
      "----\n",
      "##Prediction: -40.0\n",
      "\n",
      "\n",
      "#Problem\n"
     ]
    },
    {
     "name": "stderr",
     "output_type": "stream",
     "text": [
      " 72%|███████▏  | 36/50 [8:21:53<4:04:38, 1048.45s/it]"
     ]
    },
    {
     "name": "stdout",
     "output_type": "stream",
     "text": [
      "----\n",
      "##Prediction: -20.0\n",
      "\n",
      "\n",
      "#Problem\n",
      "promlem 37 / 50\n",
      "----\n",
      "##Prediction: \n",
      "\n",
      "##Prediction\n",
      "----\n",
      "##Prediction: \n",
      "\n",
      "\n",
      "#Problem\n"
     ]
    },
    {
     "name": "stderr",
     "output_type": "stream",
     "text": [
      " 74%|███████▍  | 37/50 [8:28:51<3:06:12, 859.39s/it] "
     ]
    },
    {
     "name": "stdout",
     "output_type": "stream",
     "text": [
      "----\n",
      "##Prediction: \n",
      "\n",
      "##Prediction\n",
      "promlem 38 / 50\n",
      "----\n",
      "##Prediction: \n",
      "\n",
      "##Reason\n",
      "----\n",
      "##Prediction: \n",
      "\n",
      "##Reason\n"
     ]
    },
    {
     "name": "stderr",
     "output_type": "stream",
     "text": [
      " 76%|███████▌  | 38/50 [8:35:34<2:24:31, 722.61s/it]"
     ]
    },
    {
     "name": "stdout",
     "output_type": "stream",
     "text": [
      "----\n",
      "##Prediction: \n",
      "\n",
      "\n",
      "#Problem\n",
      "promlem 39 / 50\n"
     ]
    },
    {
     "name": "stderr",
     "output_type": "stream",
     "text": [
      " 78%|███████▊  | 39/50 [8:38:59<1:43:57, 567.08s/it]"
     ]
    },
    {
     "name": "stdout",
     "output_type": "stream",
     "text": [
      "----\n",
      "##Prediction: 190.0\n",
      "\n",
      "\n",
      "#Problem\n",
      "actual:  72.5 predicted:  190.0\n",
      "promlem 40 / 50\n",
      "----\n",
      "##Prediction: \n",
      "\n",
      "##Reason\n",
      "----\n",
      "##Prediction: \n",
      "\n",
      "##Prediction\n"
     ]
    },
    {
     "name": "stderr",
     "output_type": "stream",
     "text": [
      " 80%|████████  | 40/50 [8:45:51<1:26:45, 520.56s/it]"
     ]
    },
    {
     "name": "stdout",
     "output_type": "stream",
     "text": [
      "----\n",
      "##Prediction: \n",
      "\n",
      "\n",
      "#Problem\n",
      "promlem 41 / 50\n",
      "----\n",
      "##Prediction: \n",
      "\n",
      "##Reason\n",
      "----\n",
      "##Prediction: \n",
      "\n",
      "##Reason\n"
     ]
    },
    {
     "name": "stderr",
     "output_type": "stream",
     "text": [
      " 82%|████████▏ | 41/50 [8:52:28<1:12:31, 483.53s/it]"
     ]
    },
    {
     "name": "stdout",
     "output_type": "stream",
     "text": [
      "----\n",
      "##Prediction: \n",
      "\n",
      "##Reason\n",
      "promlem 42 / 50\n",
      "----\n",
      "##Prediction: \n",
      "\n",
      "##Name: (2Z)-3-methyl-4-phenylbutan-2-one oxime\n",
      "##SMILES: O=C(N)NN=C(C)C(C)Cc1ccccc1\n",
      "##Reason\n",
      "----\n",
      "##Prediction: \n",
      "\n",
      "##Reason\n"
     ]
    },
    {
     "name": "stderr",
     "output_type": "stream",
     "text": [
      " 84%|████████▍ | 42/50 [9:11:07<1:29:52, 674.12s/it]"
     ]
    },
    {
     "name": "stdout",
     "output_type": "stream",
     "text": [
      "----\n",
      "##Prediction: \n",
      "\n",
      "##Reason\n",
      "promlem 43 / 50\n",
      "----\n",
      "##Prediction: \n",
      "\n",
      "##Reason\n",
      "----\n",
      "##Prediction: \n",
      "\n",
      "##Reason\n"
     ]
    },
    {
     "name": "stderr",
     "output_type": "stream",
     "text": [
      " 86%|████████▌ | 43/50 [9:17:43<1:08:55, 590.85s/it]"
     ]
    },
    {
     "name": "stdout",
     "output_type": "stream",
     "text": [
      "----\n",
      "##Prediction: \n",
      "\n",
      "##Reason\n",
      "promlem 44 / 50\n",
      "----\n",
      "##Prediction: \n",
      "\n",
      "\n",
      "#Problem\n",
      "----\n",
      "##Prediction: \n",
      "\n",
      "##Prediction\n"
     ]
    },
    {
     "name": "stderr",
     "output_type": "stream",
     "text": [
      " 88%|████████▊ | 44/50 [9:24:19<53:13, 532.32s/it]  "
     ]
    },
    {
     "name": "stdout",
     "output_type": "stream",
     "text": [
      "----\n",
      "##Prediction: \n",
      "\n",
      "\n",
      "#Problem\n",
      "promlem 45 / 50\n",
      "----\n",
      "##Prediction: \n",
      "\n",
      "##Reason\n",
      "----\n",
      "##Prediction: \n",
      "\n",
      "##Reason\n"
     ]
    },
    {
     "name": "stderr",
     "output_type": "stream",
     "text": [
      " 90%|█████████ | 45/50 [9:30:58<41:01, 492.31s/it]"
     ]
    },
    {
     "name": "stdout",
     "output_type": "stream",
     "text": [
      "----\n",
      "##Prediction: \n",
      "\n",
      "##Reason\n",
      "promlem 46 / 50\n",
      "----\n",
      "##Prediction: \n",
      "\n",
      "##Reason\n",
      "----\n",
      "##Prediction: \n",
      "\n",
      "\n",
      "#Problem\n"
     ]
    },
    {
     "name": "stderr",
     "output_type": "stream",
     "text": [
      " 92%|█████████▏| 46/50 [9:37:35<30:54, 463.70s/it]"
     ]
    },
    {
     "name": "stdout",
     "output_type": "stream",
     "text": [
      "----\n",
      "##Prediction: \n",
      "\n",
      "##Prediction\n",
      "promlem 47 / 50\n",
      "----\n",
      "##Prediction: \n",
      "\n",
      "##Name: 2-chloro-1-phenyl-1-propanol\n",
      "##SMILES: c1ccc(cc1)C(c2ccccc2)OCl\n",
      "##Reason\n",
      "----\n",
      "##Prediction: -\n",
      "\n",
      "##Reason\n"
     ]
    },
    {
     "name": "stderr",
     "output_type": "stream",
     "text": [
      " 94%|█████████▍| 47/50 [9:53:36<30:38, 612.87s/it]"
     ]
    },
    {
     "name": "stdout",
     "output_type": "stream",
     "text": [
      "----\n",
      "##Prediction: -\n",
      "\n",
      "\n",
      "#Problem\n",
      "promlem 48 / 50\n",
      "----\n",
      "##Prediction: \n",
      "\n",
      "##Reason\n",
      "----\n",
      "##Prediction: \n",
      "\n",
      "\n",
      "#Problem\n"
     ]
    },
    {
     "name": "stderr",
     "output_type": "stream",
     "text": [
      " 96%|█████████▌| 48/50 [10:00:11<18:15, 547.53s/it]"
     ]
    },
    {
     "name": "stdout",
     "output_type": "stream",
     "text": [
      "----\n",
      "##Prediction: \n",
      "\n",
      "##Reason\n",
      "promlem 49 / 50\n",
      "----\n",
      "##Prediction: -10.0\n",
      "\n",
      "\n",
      "#Problem\n",
      "----\n",
      "##Prediction: -10.0\n",
      "\n",
      "\n",
      "#Problem\n"
     ]
    },
    {
     "name": "stderr",
     "output_type": "stream",
     "text": [
      " 98%|█████████▊| 49/50 [10:09:14<09:06, 546.14s/it]"
     ]
    },
    {
     "name": "stdout",
     "output_type": "stream",
     "text": [
      "----\n",
      "##Prediction: -10.0\n",
      "\n",
      "\n",
      "#Problem\n",
      "promlem 50 / 50\n"
     ]
    },
    {
     "name": "stderr",
     "output_type": "stream",
     "text": [
      "100%|██████████| 50/50 [10:12:32<00:00, 735.05s/it]"
     ]
    },
    {
     "name": "stdout",
     "output_type": "stream",
     "text": [
      "----\n",
      "##Prediction: 105.0\n",
      "\n",
      "##Reason\n",
      "actual:  84.0 predicted:  105.0\n"
     ]
    },
    {
     "name": "stderr",
     "output_type": "stream",
     "text": [
      "\n"
     ]
    }
   ],
   "source": [
    "\n",
    "random.seed(0)\n",
    "prediction_results={}\n",
    "\n",
    "#予測時のハイパラ\n",
    "n_prompt_examples=3 #何件の例題をprompt tuningで出すか\n",
    "n_max_trials=3  # 値を返さなかったときの再試行の最大数\n",
    "\n",
    "res_list=[]\n",
    "for test_id in tqdm(range(n_test)):\n",
    "    print(f\"promlem {test_id+1} / {n_test}\")\n",
    "    for _ in range(n_max_trials):\n",
    "        try:\n",
    "            prompt=generate_question_prompt(dataset,test_id,n_prompt_examples=n_prompt_examples)\n",
    "            reason,value=ask_value(prompt,model,tokenizer)\n",
    "        except Exception as e:\n",
    "            print(e)\n",
    "            continue\n",
    "\n",
    "\n",
    "        if value is not None:\n",
    "            record=copy.deepcopy(dataset[test_id])\n",
    "            record[\"Test (Predicted reason)\"]=reason\n",
    "            record[\"Test (Predicted value)\"]=value\n",
    "            res_list.append(record)\n",
    "            print(\"actual: \",record[\"mpC\"],\"predicted: \", record[\"Test (Predicted value)\"],)\n",
    "            break\n",
    "prediction_results[n_prompt_examples]=res_list"
   ]
  },
  {
   "cell_type": "code",
   "execution_count": 21,
   "metadata": {},
   "outputs": [
    {
     "data": {
      "image/png": "[encoded data removed]",
      "text/plain": [
       "<Figure size 640x480 with 1 Axes>"
      ]
     },
     "metadata": {},
     "output_type": "display_data"
    }
   ],
   "source": [
    "#plot\n",
    "import matplotlib.pyplot as plt\n",
    "import seaborn as sns\n",
    "from sklearn.metrics import mean_squared_error,mean_absolute_error,r2_score\n",
    "from datetime import datetime\n",
    "import json\n",
    "current_datetime = datetime.now()\n",
    "vmin=-200\n",
    "vmax=300\n",
    "\n",
    "#plot prediction results\n",
    "for n_prompt_examples,records in prediction_results.items():\n",
    "    sel_df=pd.DataFrame(records)\n",
    "    #floatに可能なものは変換\n",
    "    sel_df[\"Test (Predicted value)\"] = pd.to_numeric(sel_df[\"Test (Predicted value)\"], errors='coerce')\n",
    "    sel_df=sel_df[sel_df[\"Test (Predicted value)\"].notnull()]\n",
    "    if len(sel_df)==0:\n",
    "        continue\n",
    "    mse=mean_squared_error(sel_df[\"mpC\"],sel_df[\"Test (Predicted value)\"])\n",
    "\n",
    "    plt.figure()\n",
    "    sns.scatterplot(data=sel_df,x=\"mpC\",y=\"Test (Predicted value)\")\n",
    "    plt.title(f\"n_prompt_examples={n_prompt_examples} MSE={mse:.0f}\")\n",
    "\n",
    "    #x,yの範囲を揃える\n",
    "    plt.xlim(vmin,vmax)\n",
    "    plt.ylim(vmin,vmax)\n",
    "    #対角線を描く\n",
    "    plt.plot([vmin,vmax],[vmin,vmax],color=\"gray\")\n",
    "    formatted_filename = f\"results/model={model_size}_{current_datetime.strftime('%Y%m%d_%H%M%S')}_train={do_train}.png\"\n",
    "    plt.savefig(formatted_filename)\n",
    "    #break\n",
    "\n",
    "save_json_filename=formatted_filename.replace(\".png\",\".json\")\n",
    "with open(save_json_filename,\"w\") as f:\n",
    "    json.dump(prediction_results,fp=f,\n",
    "              indent=4)"
   ]
  },
  {
   "cell_type": "code",
   "execution_count": 22,
   "metadata": {},
   "outputs": [
    {
     "name": "stdout",
     "output_type": "stream",
     "text": [
      "8153.85\n",
      "81.3\n",
      "-6.077011873350925\n"
     ]
    }
   ],
   "source": [
    "#スコア\n",
    "print(mean_squared_error(sel_df[\"mpC\"],sel_df[\"Test (Predicted value)\"]))\n",
    "print(mean_absolute_error(sel_df[\"mpC\"],sel_df[\"Test (Predicted value)\"]))\n",
    "print(r2_score(sel_df[\"mpC\"],sel_df[\"Test (Predicted value)\"]))\n"
   ]
  },
  {
   "cell_type": "code",
   "execution_count": 23,
   "metadata": {},
   "outputs": [
    {
     "data": {
      "text/plain": [
       "0.1"
      ]
     },
     "execution_count": 23,
     "metadata": {},
     "output_type": "execute_result"
    }
   ],
   "source": [
    "#回答可能な問題の割合\n",
    "sel_df.shape[0]/n_test"
   ]
  },
  {
   "cell_type": "code",
   "execution_count": null,
   "metadata": {},
   "outputs": [],
   "source": []
  },
  {
   "cell_type": "code",
   "execution_count": null,
   "metadata": {},
   "outputs": [],
   "source": []
  }
 ],
 "metadata": {
  "kernelspec": {
   "display_name": "chemllm",
   "language": "python",
   "name": "python3"
  },
  "language_info": {
   "codemirror_mode": {
    "name": "ipython",
    "version": 3
   },
   "file_extension": ".py",
   "mimetype": "text/x-python",
   "name": "python",
   "nbconvert_exporter": "python",
   "pygments_lexer": "ipython3",
   "version": "3.12.0"
  }
 },
 "nbformat": 4,
 "nbformat_minor": 2
}
