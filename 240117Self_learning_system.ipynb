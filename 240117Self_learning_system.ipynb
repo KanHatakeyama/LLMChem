{
 "cells": [
  {
   "cell_type": "markdown",
   "metadata": {},
   "source": [
    "# (Q)分子構造+(R)理由+(A)物性データセットのLLMによる学習と予測\n",
    "- Q&A: 融点データセットを使用\n",
    "- R: 自分自身で考えさせて､正解のデータを学習させる"
   ]
  },
  {
   "cell_type": "code",
   "execution_count": 1,
   "metadata": {},
   "outputs": [
    {
     "name": "stderr",
     "output_type": "stream",
     "text": [
      "/home/setup/miniconda3/envs/chemllm/lib/python3.10/site-packages/tqdm/auto.py:21: TqdmWarning: IProgress not found. Please update jupyter and ipywidgets. See https://ipywidgets.readthedocs.io/en/stable/user_install.html\n",
      "  from .autonotebook import tqdm as notebook_tqdm\n"
     ]
    }
   ],
   "source": [
    "%reload_ext autoreload\n",
    "%autoreload 2\n",
    "\n",
    "import os\n",
    "os.environ[\"CUDA_VISIBLE_DEVICES\"]=\"0\"\n",
    "\n",
    "from transformers import AutoTokenizer\n",
    "import pandas as pd\n",
    "import random\n",
    "import copy\n",
    "import glob\n",
    "import json\n",
    "from datetime import datetime\n",
    "from llmchem.utils import mk_dir,clean_vram\n",
    "\n",
    "#import clear_output\n",
    "\n",
    "from IPython.display import clear_output"
   ]
  },
  {
   "cell_type": "code",
   "execution_count": 2,
   "metadata": {},
   "outputs": [],
   "source": [
    "#dataset settings\n",
    "n_test=50 #number of testing data\n",
    "n_train_check=50 #number of training data for checking (i.e., checking everything takes too long, so we check only a part of training data)\n",
    "n_GPT_reasoning=100 # number of reasoning data made by GPT\n",
    "n_generation_iterations=100   # trial numbers to generate new self reasoning data\n",
    "max_generations=1000\n",
    "\n",
    "#model settings\n",
    "model_name=\"mistralai/Mixtral-8x7B-Instruct-v0.1\"\n",
    "target_modules= [\n",
    "    \"lm_head\",\n",
    "    \"q_proj\",\n",
    "    \"k_proj\",\n",
    "    \"v_proj\",\n",
    "    \"o_proj\",\n",
    "    \"gate\",\n",
    "    \"w1\",\n",
    "    \"w2\",\n",
    "    \"w3\"\n",
    "]\n",
    "\n",
    "model_name=f\"meta-llama/Llama-2-7b-chat-hf\"\n",
    "target_modules= [\n",
    "    #\"embed_tokens\",\n",
    "    \"lm_head\",\n",
    "    #\"q_proj\",\n",
    "    #\"k_proj\",\n",
    "    \"v_proj\",\n",
    "    \"o_proj\",\n",
    "    \"gate_proj\",\n",
    "    \"up_proj\",\n",
    "    #\"down_proj\",\n",
    "]\n",
    "\n",
    "\n",
    "\n",
    "#LoRA settings\n",
    "r=32\n",
    "lora_alpha=r\n",
    "bit=16\n",
    "#bit=8\n",
    "#bit=4\n",
    "\n",
    "#train settings\n",
    "gradient_checkpointing =False\n",
    "per_device_train_batch_size=1\n",
    "epochs=3\n",
    "lr=10**-5\n",
    "\n",
    "#device settings\n",
    "device_map=\"auto\"\n",
    "\n",
    "#dataset path\n",
    "dataset_path=\"dataset/231225AutoReasoning/240117best_reason_record_3k.csv\"\n",
    "\n",
    "#project path\n",
    "project_dir=\"results/projects/240118llama7b_100\"\n",
    "\n",
    "#reasoning options\n",
    "error_threshold=30  # if abolute error is smaller than this, add to training data"
   ]
  },
  {
   "cell_type": "code",
   "execution_count": 3,
   "metadata": {},
   "outputs": [],
   "source": [
    "mk_dir(project_dir)\n",
    "mk_dir(project_dir+\"/eval\")\n",
    "mk_dir(project_dir+\"/self_reasoning\")\n",
    "mk_dir(project_dir+\"/train\")"
   ]
  },
  {
   "cell_type": "code",
   "execution_count": 4,
   "metadata": {},
   "outputs": [],
   "source": [
    "from llmchem.model import init_model\n",
    "from llmchem.train import train_model\n",
    "from llmchem.eval import eval_model\n",
    "from llmchem.reasoning import self_reasoning\n",
    "tokenizer = AutoTokenizer.from_pretrained(model_name)\n",
    "tokenizer.pad_token = tokenizer.eos_token"
   ]
  },
  {
   "cell_type": "code",
   "execution_count": 5,
   "metadata": {},
   "outputs": [],
   "source": [
    "#load base dataset\n",
    "\n",
    "df=pd.read_csv(dataset_path)\n",
    "dataset=df.to_dict(orient=\"records\")\n",
    "random.seed(0)\n",
    "random.shuffle(dataset)\n",
    "\n",
    "base_train_dataset=dataset[:-n_test]\n",
    "example_reasoning_dataset=base_train_dataset[:n_GPT_reasoning]\n",
    "test_dataset=dataset[-n_test:]"
   ]
  },
  {
   "cell_type": "code",
   "execution_count": 6,
   "metadata": {},
   "outputs": [
    {
     "name": "stdout",
     "output_type": "stream",
     "text": [
      "Generation: 2\n",
      "GPT-generated reasons: 100\n",
      "All-generated reasons: 123\n",
      "Using fp16 mode\n"
     ]
    },
    {
     "name": "stderr",
     "output_type": "stream",
     "text": [
      "Loading checkpoint shards: 100%|██████████| 2/2 [00:02<00:00,  1.17s/it]\n",
      "Map: 100%|██████████| 123/123 [00:00<00:00, 7687.94 examples/s]\n"
     ]
    },
    {
     "data": {
      "text/html": [
       "\n",
       "    <div>\n",
       "      \n",
       "      <progress value='369' max='369' style='width:300px; height:20px; vertical-align: middle;'></progress>\n",
       "      [369/369 00:40, Epoch 3/3]\n",
       "    </div>\n",
       "    <table border=\"1\" class=\"dataframe\">\n",
       "  <thead>\n",
       " <tr style=\"text-align: left;\">\n",
       "      <th>Step</th>\n",
       "      <th>Training Loss</th>\n",
       "    </tr>\n",
       "  </thead>\n",
       "  <tbody>\n",
       "    <tr>\n",
       "      <td>100</td>\n",
       "      <td>1.767600</td>\n",
       "    </tr>\n",
       "    <tr>\n",
       "      <td>200</td>\n",
       "      <td>1.344200</td>\n",
       "    </tr>\n",
       "    <tr>\n",
       "      <td>300</td>\n",
       "      <td>1.251500</td>\n",
       "    </tr>\n",
       "  </tbody>\n",
       "</table><p>"
      ],
      "text/plain": [
       "<IPython.core.display.HTML object>"
      ]
     },
     "metadata": {},
     "output_type": "display_data"
    },
    {
     "name": "stderr",
     "output_type": "stream",
     "text": [
      "  0%|          | 0/50 [00:00<?, ?it/s]"
     ]
    },
    {
     "name": "stdout",
     "output_type": "stream",
     "text": [
      "promlem 1 / 50\n"
     ]
    },
    {
     "name": "stderr",
     "output_type": "stream",
     "text": [
      "  2%|▏         | 1/50 [00:02<01:41,  2.08s/it]"
     ]
    },
    {
     "name": "stdout",
     "output_type": "stream",
     "text": [
      "----\n",
      "\n",
      "\n",
      "##Prediction: 104.0\n",
      "\n",
      "\n",
      "#Problem\n",
      "actual:  166.0 predicted:  104.0\n",
      "promlem 2 / 50\n"
     ]
    },
    {
     "name": "stderr",
     "output_type": "stream",
     "text": [
      "  4%|▍         | 2/50 [00:04<01:45,  2.19s/it]"
     ]
    },
    {
     "name": "stdout",
     "output_type": "stream",
     "text": [
      "----\n",
      "\n",
      "\n",
      "##Prediction: 135.0\n",
      "\n",
      "\n",
      "#Problem\n",
      "actual:  146.0 predicted:  135.0\n",
      "promlem 3 / 50\n"
     ]
    },
    {
     "name": "stderr",
     "output_type": "stream",
     "text": [
      "  6%|▌         | 3/50 [00:06<01:44,  2.23s/it]"
     ]
    },
    {
     "name": "stdout",
     "output_type": "stream",
     "text": [
      "----\n",
      "\n",
      "\n",
      "##Prediction: 100.0\n",
      "\n",
      "\n",
      "#Problem\n",
      "actual:  -52.3 predicted:  100.0\n",
      "promlem 4 / 50\n"
     ]
    },
    {
     "name": "stderr",
     "output_type": "stream",
     "text": [
      "  8%|▊         | 4/50 [00:39<10:54, 14.23s/it]"
     ]
    },
    {
     "name": "stdout",
     "output_type": "stream",
     "text": [
      "----\n",
      "\n",
      "\n",
      "The basic unit for comparison could be 2'-deoxycytidine, which has a melting point around 100.5°C. 2'-Deoxyuridine has a similar structure to 2'-deoxycytidine, with the addition of a hydroxyl (-OH) group at the 2' position. This hydroxyl group can contribute to the melting point due to the potential for hydrogen bonding interactions, which can increase the melting point by around 20-30 degrees. However, the actual melting point of 2'-deoxyuridine is known to be 120°C, which is significantly higher than that of 2'-deoxycytidine. This increase could be attributed to the presence of the hydroxyl group, which can increase the melting point due to the potential for hydrogen bonding interactions, as well as the presence of the uracil ring, which can also contribute to the melting point due to its planarity and potential for stacking interactions.\n",
      "##Prediction: 120.0\n",
      "\n",
      "\n",
      "#Problem\n",
      "actual:  163.0 predicted:  120.0\n",
      "promlem 5 / 50\n"
     ]
    },
    {
     "name": "stderr",
     "output_type": "stream",
     "text": [
      " 10%|█         | 5/50 [00:42<07:42, 10.27s/it]"
     ]
    },
    {
     "name": "stdout",
     "output_type": "stream",
     "text": [
      "----\n",
      "\n",
      "\n",
      "##Prediction: 130.0\n",
      "\n",
      "\n",
      "#Problem\n",
      "actual:  193.5 predicted:  130.0\n",
      "promlem 6 / 50\n"
     ]
    },
    {
     "name": "stderr",
     "output_type": "stream",
     "text": [
      " 12%|█▏        | 6/50 [00:44<05:29,  7.48s/it]"
     ]
    },
    {
     "name": "stdout",
     "output_type": "stream",
     "text": [
      "----\n",
      "\n",
      "\n",
      "##Prediction: 40.0\n",
      "\n",
      "\n",
      "#Problem\n",
      "actual:  -20.0 predicted:  40.0\n",
      "promlem 7 / 50\n"
     ]
    },
    {
     "name": "stderr",
     "output_type": "stream",
     "text": [
      " 14%|█▍        | 7/50 [01:01<07:36, 10.63s/it]"
     ]
    },
    {
     "name": "stdout",
     "output_type": "stream",
     "text": [
      "----\n",
      "\n",
      "\n",
      "The basic unit for comparison is the parent compound, xanthotoxol, which has a melting point of 150 degrees Celsius. The introduction of a methyl group generally lowers the melting point because it can disrupt the crystal lattice of the molecular solid, making it easier to melt. In this case, the addition of a methyl group to the central carbon of xanthotoxol is expected to reduce the melting point by approximately 50 degrees, reflecting the changes in intermolecular forces and the reduced symmetry of the molecule which disrupts the efficient packing in the solid state.\n",
      "##Prediction: 100.0\n",
      "\n",
      "\n",
      "#Problem\n",
      "actual:  251.5 predicted:  100.0\n",
      "promlem 8 / 50\n"
     ]
    },
    {
     "name": "stderr",
     "output_type": "stream",
     "text": [
      " 16%|█▌        | 8/50 [01:03<05:33,  7.95s/it]"
     ]
    },
    {
     "name": "stdout",
     "output_type": "stream",
     "text": [
      "----\n",
      "\n",
      "\n",
      "##Prediction: -10.0\n",
      "\n",
      "\n",
      "#Problem\n",
      "actual:  142.0 predicted:  -10.0\n",
      "promlem 9 / 50\n"
     ]
    },
    {
     "name": "stderr",
     "output_type": "stream",
     "text": [
      " 18%|█▊        | 9/50 [01:05<04:10,  6.12s/it]"
     ]
    },
    {
     "name": "stdout",
     "output_type": "stream",
     "text": [
      "----\n",
      "\n",
      "\n",
      "##Prediction: 100.0\n",
      "\n",
      "\n",
      "#Problem\n",
      "actual:  156.0 predicted:  100.0\n",
      "promlem 10 / 50\n"
     ]
    },
    {
     "name": "stderr",
     "output_type": "stream",
     "text": [
      " 20%|██        | 10/50 [01:26<07:04, 10.60s/it]"
     ]
    },
    {
     "name": "stdout",
     "output_type": "stream",
     "text": [
      "----\n",
      "\n",
      "\n",
      "The compound has a melting point of 10.5°C. The ethoxy group contributes to the melting point due to the presence of an oxygen atom, which can form hydrogen bonds, estimated at +20°C. The chlorine atoms increase the molecular weight and polarizability, which enhances Van der Waals interactions, estimated at +30°C. The presence of two chlorine atoms can also increase the molecular weight and polarizability, which can enhance Van der Waals interactions, estimated at +30°C. The ethoxy group can also contribute to the melting point due to the presence of an oxygen atom, which can form hydrogen bonds, estimated at +20°C.\n",
      "##Prediction: 60.0\n",
      "\n",
      "\n",
      "#Problem\n",
      "actual:  50.0 predicted:  60.0\n",
      "promlem 11 / 50\n"
     ]
    },
    {
     "name": "stderr",
     "output_type": "stream",
     "text": [
      " 22%|██▏       | 11/50 [01:29<05:16,  8.10s/it]"
     ]
    },
    {
     "name": "stdout",
     "output_type": "stream",
     "text": [
      "----\n",
      "\n",
      "\n",
      "##Prediction: 130.0\n",
      "\n",
      "\n",
      "#Problem\n",
      "actual:  96.0 predicted:  130.0\n",
      "promlem 12 / 50\n"
     ]
    },
    {
     "name": "stderr",
     "output_type": "stream",
     "text": [
      " 24%|██▍       | 12/50 [01:31<04:04,  6.43s/it]"
     ]
    },
    {
     "name": "stdout",
     "output_type": "stream",
     "text": [
      "----\n",
      "\n",
      "\n",
      "##Prediction: 170.0\n",
      "\n",
      "\n",
      "#Problem\n",
      "actual:  192.0 predicted:  170.0\n",
      "promlem 13 / 50\n"
     ]
    },
    {
     "name": "stderr",
     "output_type": "stream",
     "text": [
      " 26%|██▌       | 13/50 [01:33<03:09,  5.13s/it]"
     ]
    },
    {
     "name": "stdout",
     "output_type": "stream",
     "text": [
      "----\n",
      "\n",
      "\n",
      "##Prediction: 130.0\n",
      "\n",
      "\n",
      "#Problem\n",
      "actual:  170.0 predicted:  130.0\n",
      "promlem 14 / 50\n"
     ]
    },
    {
     "name": "stderr",
     "output_type": "stream",
     "text": [
      " 28%|██▊       | 14/50 [02:17<10:07, 16.88s/it]"
     ]
    },
    {
     "name": "stdout",
     "output_type": "stream",
     "text": [
      "----\n",
      "\n",
      "\n",
      "The compound gestonorone caproate is a complex molecule with multiple functional groups that affect its melting point. The basic unit for this compound is caproic acid, which has a melting point of -10°C. Each functional group will either increase or decrease this value. The ester group (C(=O)O) is a polar and electronegative group that introduces strong intermolecular interactions such as dipole-dipole forces and possible hydrogen bonding, which significantly increases the melting point (estimated increase of +100°C). The phenyl group (C6H5) is large and introduces strong intermolecular interactions such as dipole-dipole forces and possible hydrogen bonding, which significantly increases the melting point (estimated increase of +100°C). The presence of multiple phenyl groups in a row (C6H5)CC(=O)C(=O)CCCCC, which can form extensive hydrogen-bonding networks, increases the melting point even more (estimated increase of +50°C). The presence of a large aromatic ring (C6H5) also introduces significant intermolecular interactions, which increases the melting point (estimated increase of +50°C). The presence of a carboxylic acid group (COOH) is a polar and electronegative group that introduces strong intermolecular interactions such as dipole-dipole forces and possible hydrogen bonding, which significantly increases the melting point (estimated increase of +20°C).\n",
      "##Prediction: 195.0\n",
      "\n",
      "\n",
      "#Problem\n",
      "actual:  123.5 predicted:  195.0\n",
      "promlem 15 / 50\n"
     ]
    },
    {
     "name": "stderr",
     "output_type": "stream",
     "text": [
      " 30%|███       | 15/50 [03:07<15:34, 26.71s/it]"
     ]
    },
    {
     "name": "stdout",
     "output_type": "stream",
     "text": [
      "----\n",
      "\n",
      "\n",
      "The base compound for consideration is acetone, which has a melting point of -94.9 Celsius. Adding a nitrate group (-NO3) to the base compound would increase the melting point due to the presence of a strong dipole moment and increased molecular weight. Each nitrate group could increase the melting point by about +40 degrees. Additionally, the presence of a propyl group (-CH2CH2-) could contribute to the melting point due to increased van der Waals interactions and molecular weight. Each propyl group could increase the melting point by about +10 degrees. The presence of a nitro group (-NO2) could also contribute to the melting point due to its strong dipole moment and potential for intermolecular interactions. Each nitro group could increase the melting point by about +30 degrees. The cumulative effect of these groups must be added to the base value for acetone to predict the melting point. Given the actual melting point of 100.0 Celsius, the initial prediction appears to be an underestimation, indicating that the increases attributed to each group might be too conservative. Re-evaluating these increases may improve the prediction. The nitro group, capable of forming strong intermolecular interactions and participating in resonance, may specifically contribute more significantly than initially estimated. The propyl group, with its increased molecular weight and potential for van der Waals interactions, may also contribute more than initially estimated.\n",
      "##Prediction: 110.0\n",
      "\n",
      "\n",
      "#Problem\n",
      "actual:  -100.0 predicted:  110.0\n",
      "promlem 16 / 50\n"
     ]
    },
    {
     "name": "stderr",
     "output_type": "stream",
     "text": [
      " 32%|███▏      | 16/50 [03:28<14:10, 25.01s/it]"
     ]
    },
    {
     "name": "stdout",
     "output_type": "stream",
     "text": [
      "----\n",
      "\n",
      "\n",
      "The base unit of indazole has a melting point of 10.8 degrees Celsius. The nitro group is electron-withdrawing and can increase the melting point due to increased intermolecular forces. The nitro group can increase the melting point by about +30 degrees Celsius. The indazole ring itself has a melting point of about 10.8 degrees Celsius. The presence of the nitro group can increase the melting point due to increased intermolecular forces. The presence of the nitro group can increase the melting point by about +30 degrees Celsius.\n",
      "##Prediction: 40.0\n",
      "\n",
      "\n",
      "#Problem\n",
      "actual:  181.0 predicted:  40.0\n",
      "promlem 17 / 50\n"
     ]
    },
    {
     "name": "stderr",
     "output_type": "stream",
     "text": [
      " 34%|███▍      | 17/50 [04:21<18:23, 33.45s/it]"
     ]
    },
    {
     "name": "stdout",
     "output_type": "stream",
     "text": [
      "----\n",
      "\n",
      "\n",
      "The melting point of a compound is influenced by several structural factors, including molecular weight, symmetry, and the strength of intermolecular forces. For benzaldehyde, 5-hydroxy-2-nitro-, several functional group effects should be considered: \n",
      "- Basic unit, benzene, has a melting point of 5.5 °C. \n",
      "- Aldehyde group: The aldehyde group contributes to the melting point due to its polarizability and potential for dipole-dipole interactions. The aldehyde group typically raises the melting point by an estimated +20 °C over unsubstituted benzene. \n",
      "- Hydroxyl group: The hydroxyl group is a polar group that can increase the melting point due to increased molecular weight and potential for hydrogen bonding. The hydroxyl group typically raises the melting point by an estimated +20 °C over benzene. \n",
      "- Nitro group: The nitro group is an electron-withdrawing group that increases the polarity of the molecule and can allow for stronger dipole-dipole interactions and potentially hydrogen bonding with protic solvents. However, in a nonprotic crystalline state, its main effect would be on the polarity and rigidity of the compound. The contribution to the melting point could be estimated at +15 °C over benzene. \n",
      "Considering the individual effects, one might expect these functional groups to have mostly additive impacts on the melting point, but some deviation from strict additivity can occur due to the disruption of the aromatic system's symmetry by the substituents.\n",
      "##Prediction: 107.0\n",
      "\n",
      "\n",
      "#Problem\n",
      "actual:  167.0 predicted:  107.0\n",
      "promlem 18 / 50\n"
     ]
    },
    {
     "name": "stderr",
     "output_type": "stream",
     "text": [
      " 36%|███▌      | 18/50 [04:44<16:13, 30.43s/it]"
     ]
    },
    {
     "name": "stdout",
     "output_type": "stream",
     "text": [
      "----\n",
      "\n",
      "\n",
      "The compound benzaldehyde azine consists of a benzene ring with an aldehyde group and an azine group. The melting point of the base compound, benzaldehyde, is around 50°C. The aldehyde group contributes to an increase in melting point due to the presence of a carbonyl group, which can form hydrogen bonds and increase the molecular weight. The azine group can also contribute to an increase in melting point due to its electronegative nature and potential for hydrogen bonding. The presence of both groups can increase the melting point by approximately +20°C for each group.\n",
      "##Prediction: 70.0\n",
      "\n",
      "\n",
      "#Problem\n",
      "actual:  93.0 predicted:  70.0\n",
      "promlem 19 / 50\n"
     ]
    },
    {
     "name": "stderr",
     "output_type": "stream",
     "text": [
      " 38%|███▊      | 19/50 [04:47<11:21, 21.99s/it]"
     ]
    },
    {
     "name": "stdout",
     "output_type": "stream",
     "text": [
      "----\n",
      "\n",
      "\n",
      "##Prediction: 105.0\n",
      "\n",
      "\n",
      "#Problem\n",
      "actual:  200.0 predicted:  105.0\n",
      "promlem 20 / 50\n"
     ]
    },
    {
     "name": "stderr",
     "output_type": "stream",
     "text": [
      " 40%|████      | 20/50 [05:21<12:46, 25.55s/it]"
     ]
    },
    {
     "name": "stdout",
     "output_type": "stream",
     "text": [
      "----\n",
      "\n",
      "\n",
      "The basic unit for comparison is thiourea, which has a melting point of 120°C. The addition of two phenyl groups and a thiourea functional group to the basic unit significantly increases the melting point due to the potential for π-π interactions between the rings, which would significantly raise the melting point. Each phenyl group contributes to an increase in the melting point by providing more rigidity and possible π-π interactions between the rings, which would significantly raise the melting point. Each phenyl group through the thiourea linkage could contribute approximately +20°C to the melting point due to increased molecular weight and intermolecular forces. The thiourea group itself contributes to an increase in the melting point due to its ability to form strong intermolecular hydrogen bonds, as well as potential dipole-dipole interactions and pi-stacking with the phenyl rings. This could account for an additional +50 to +60 °C. Considering the presence of two phenyl groups and one thiourea group, we would sum their effects.\n",
      "##Prediction: 180.0\n",
      "\n",
      "\n",
      "#Problem\n",
      "actual:  178.0 predicted:  180.0\n",
      "promlem 21 / 50\n"
     ]
    },
    {
     "name": "stderr",
     "output_type": "stream",
     "text": [
      " 42%|████▏     | 21/50 [05:23<09:02, 18.70s/it]"
     ]
    },
    {
     "name": "stdout",
     "output_type": "stream",
     "text": [
      "----\n",
      "\n",
      "\n",
      "##Prediction: 133.0\n",
      "\n",
      "\n",
      "#Problem\n",
      "actual:  133.0 predicted:  133.0\n",
      "promlem 22 / 50\n"
     ]
    },
    {
     "name": "stderr",
     "output_type": "stream",
     "text": [
      " 44%|████▍     | 22/50 [05:25<06:24, 13.74s/it]"
     ]
    },
    {
     "name": "stdout",
     "output_type": "stream",
     "text": [
      "----\n",
      "\n",
      "\n",
      "##Prediction: 140.0\n",
      "\n",
      "\n",
      "#Problem\n",
      "actual:  194.0 predicted:  140.0\n",
      "promlem 23 / 50\n"
     ]
    },
    {
     "name": "stderr",
     "output_type": "stream",
     "text": [
      " 46%|████▌     | 23/50 [05:50<07:38, 17.00s/it]"
     ]
    },
    {
     "name": "stdout",
     "output_type": "stream",
     "text": [
      "----\n",
      "\n",
      "\n",
      "The base structure of 5-methylisoxazole-4-carboxylic acid is an isoxazole ring, which has a moderate melting point. The methyl group (-CH3) introduces a small increase in melting point due to the increased molecular volume and the possibility of hydrogen bonding (+5). The carboxylic acid group (-COOH) can also raise the melting point due to dipole-dipole interactions and possible hydrogen bonding (+10). The presence of the carboxylic acid group may also increase the melting point due to the increased molecular weight and the possibility of intermolecular forces such as hydrogen bonding and dipole-dipole interactions.\n",
      "##Prediction: 105.0\n",
      "\n",
      "\n",
      "#Problem\n",
      "actual:  147.0 predicted:  105.0\n",
      "promlem 24 / 50\n"
     ]
    },
    {
     "name": "stderr",
     "output_type": "stream",
     "text": [
      " 48%|████▊     | 24/50 [05:52<05:24, 12.47s/it]"
     ]
    },
    {
     "name": "stdout",
     "output_type": "stream",
     "text": [
      "----\n",
      "\n",
      "\n",
      "##Prediction: 130.0\n",
      "\n",
      "\n",
      "#Problem\n",
      "actual:  147.0 predicted:  130.0\n",
      "promlem 25 / 50\n"
     ]
    },
    {
     "name": "stderr",
     "output_type": "stream",
     "text": [
      " 50%|█████     | 25/50 [05:53<03:49,  9.19s/it]"
     ]
    },
    {
     "name": "stdout",
     "output_type": "stream",
     "text": [
      "----\n",
      "\n",
      "\n",
      "##Prediction: 100.0\n",
      "\n",
      "\n",
      "#Problem\n",
      "actual:  236.5 predicted:  100.0\n",
      "promlem 26 / 50\n"
     ]
    },
    {
     "name": "stderr",
     "output_type": "stream",
     "text": [
      " 52%|█████▏    | 26/50 [05:56<02:50,  7.09s/it]"
     ]
    },
    {
     "name": "stdout",
     "output_type": "stream",
     "text": [
      "----\n",
      "\n",
      "\n",
      "##Prediction: 100.0\n",
      "\n",
      "\n",
      "#Problem\n",
      "actual:  68.5 predicted:  100.0\n",
      "promlem 27 / 50\n"
     ]
    },
    {
     "name": "stderr",
     "output_type": "stream",
     "text": [
      " 54%|█████▍    | 27/50 [06:17<04:18, 11.25s/it]"
     ]
    },
    {
     "name": "stdout",
     "output_type": "stream",
     "text": [
      "----\n",
      "\n",
      "\n",
      "The base structure for the target compound is thiophene, which has a melting point of approximately 10°C. The dioxide functional group (O=S1(=O)CC=CC1) introduces a significant increase in molecular weight and surface area, which generally increases the melting point due to increased van der Waals interactions. The sulfur atom in the thiophene ring also contributes to a higher melting point due to its ability to form strong covalent bonds and potential for pi-pi stacking interactions, which can enhance intermolecular attractions. The dioxide group adds additional van der Waals interactions and potentially enhances pi-pi stacking due to its planarity and increased molecular weight. The net effect of the dioxide group is estimated to increase the melting point by roughly 100°C.\n",
      "##Prediction: 110.0\n",
      "\n",
      "\n",
      "#Problem\n",
      "actual:  64.5 predicted:  110.0\n",
      "promlem 28 / 50\n"
     ]
    },
    {
     "name": "stderr",
     "output_type": "stream",
     "text": [
      " 56%|█████▌    | 28/50 [06:19<03:09,  8.59s/it]"
     ]
    },
    {
     "name": "stdout",
     "output_type": "stream",
     "text": [
      "----\n",
      "\n",
      "\n",
      "##Prediction: 130.0\n",
      "\n",
      "\n",
      "#Problem\n",
      "actual:  148.0 predicted:  130.0\n",
      "promlem 29 / 50\n"
     ]
    },
    {
     "name": "stderr",
     "output_type": "stream",
     "text": [
      " 58%|█████▊    | 29/50 [06:41<04:21, 12.46s/it]"
     ]
    },
    {
     "name": "stdout",
     "output_type": "stream",
     "text": [
      "----\n",
      "\n",
      "\n",
      "The basic unit for xanthene-9-carboxamide is xanthene, which has a melting point of -10.5 °C. The carboxamide group is a polar functional group that can increase the melting point due to stronger dipole-dipole interactions and potentially hydrogen bonding with protic solvents. The carboxamide group typically raises the melting point by an estimated +15 °C over unsubstituted xanthene. The presence of a nitro group, which is electron-withdrawing and can increase the polarity of the molecule, could potentially increase the melting point by an additional +10 °C. The presence of a larger aromatic ring system compared to benzene could also contribute to a higher melting point due to increased molecular weight and potential for increased van der Waals forces.\n",
      "##Prediction: 35.0\n",
      "\n",
      "\n",
      "#Problem\n",
      "actual:  245.0 predicted:  35.0\n",
      "promlem 30 / 50\n"
     ]
    },
    {
     "name": "stderr",
     "output_type": "stream",
     "text": [
      " 60%|██████    | 30/50 [06:43<03:06,  9.34s/it]"
     ]
    },
    {
     "name": "stdout",
     "output_type": "stream",
     "text": [
      "----\n",
      "\n",
      "\n",
      "##Prediction: 128.0\n",
      "\n",
      "\n",
      "#Problem\n",
      "actual:  151.0 predicted:  128.0\n",
      "promlem 31 / 50\n"
     ]
    },
    {
     "name": "stderr",
     "output_type": "stream",
     "text": [
      " 62%|██████▏   | 31/50 [07:10<04:38, 14.68s/it]"
     ]
    },
    {
     "name": "stdout",
     "output_type": "stream",
     "text": [
      "----\n",
      "\n",
      "\n",
      "The compound 3,5-dichlorophenylhydrazine has a base structure of phenylhydrazine, which has a melting point of approximately -20°C. The addition of two chlorine atoms to the phenyl ring increases the melting point due to increased molecular weight and polarity. Each chlorine atom can contribute +50°C due to increased dipole-dipole interactions and possible hydrogen bonding. The phenyl ring itself can also contribute +20°C due to increased conjugation and molecular complexity. The total estimated increase from the functional groups is: -20 (base) + 50 (chlorine atoms) + 20 (phenyl ring) = 90°C.\n",
      "##Prediction: 90.0\n",
      "\n",
      "\n",
      "#Problem\n",
      "actual:  115.0 predicted:  90.0\n",
      "promlem 32 / 50\n"
     ]
    },
    {
     "name": "stderr",
     "output_type": "stream",
     "text": [
      " 64%|██████▍   | 32/50 [07:50<06:44, 22.50s/it]"
     ]
    },
    {
     "name": "stdout",
     "output_type": "stream",
     "text": [
      "----\n",
      "\n",
      "\n",
      "The base structure is a dioxane ring, which has a moderate melting point due to its planar structure and pi-pi interactions. The phenyl group adds rigidity and aromaticity, which can increase the melting point. The furyl group is larger and more rigid than a phenyl group, which can further increase the melting point due to its increased molecular weight and potential for more robust intermolecular interactions. The methylene group (-CH2-) adds flexibility and potential for hydrogen bonding, which can decrease the melting point. The 5-phenyl-2-furyl group has a larger effect due to its increased size and potential for more robust intermolecular interactions. The actual value is significantly lower than the predicted value, which suggests that the furyl group may have a larger effect than expected.\n",
      "##Prediction: 170.0\n",
      "\n",
      "\n",
      "#Problem\n",
      "actual:  143.0 predicted:  170.0\n",
      "promlem 33 / 50\n"
     ]
    },
    {
     "name": "stderr",
     "output_type": "stream",
     "text": [
      " 66%|██████▌   | 33/50 [07:53<04:40, 16.50s/it]"
     ]
    },
    {
     "name": "stdout",
     "output_type": "stream",
     "text": [
      "----\n",
      "\n",
      "\n",
      "##Prediction: 105.0\n",
      "\n",
      "\n",
      "#Problem\n",
      "actual:  -23.0 predicted:  105.0\n",
      "promlem 34 / 50\n"
     ]
    },
    {
     "name": "stderr",
     "output_type": "stream",
     "text": [
      " 68%|██████▊   | 34/50 [08:23<05:29, 20.60s/it]"
     ]
    },
    {
     "name": "stdout",
     "output_type": "stream",
     "text": [
      "----\n",
      "\n",
      "\n",
      "The melting point of a compound is influenced by various factors such as the molecular weight, symmetry, intermolecular forces, and polarity. 2,4-pentanedione's base structure is the carbonyl group (C=O), which contributes to the melting point due to its polar nature and capability to form strong dipole-dipole interactions. Each additional carbonyl group adds to the molecular weight and polarity, possibly influencing the melting point positively. However, the effect on the melting point is usually less dramatic than on the boiling point due to the solid nature of the phase change. Additionally, the presence of the alpha-hydrogen atoms could facilitate hydrogen bonding among molecules, offering another increase. This hydrogen bonding influence could raise the melting point by an additional +5 degrees. There's also a minor effect due to increased molecular weight and van der Waals interactions from longer alkyl chains compared to acetone. This might contribute a small incremental increase of about +1 degree per each additional -CH2- group when compared to acetone.\n",
      "##Prediction: -23.0\n",
      "\n",
      "\n",
      "#Problem\n",
      "actual:  -23.0 predicted:  -23.0\n",
      "promlem 35 / 50\n"
     ]
    },
    {
     "name": "stderr",
     "output_type": "stream",
     "text": [
      " 70%|███████   | 35/50 [09:00<06:24, 25.63s/it]"
     ]
    },
    {
     "name": "stdout",
     "output_type": "stream",
     "text": [
      "----\n",
      "\n",
      "\n",
      "The compound 6-[bis(5-ethylfuran-2-yl)methyl]-7-nitro-2,3-dihydro-1,4-benzodioxine has a complex structure with multiple functional groups that contribute to its melting point. The basic benzene ring has a melting point of approximately -5 degrees Celsius. The addition of a nitro group increases the melting point due to the potential for dipole-dipole interactions and the presence of a polar functional group. The ethylfuran groups contribute to the melting point due to their increased molecular weight and potential for intermolecular interactions. The presence of two ethylfuran groups can increase the melting point by approximately 20 degrees Celsius due to their ability to form hydrogen bonds and participate in pi-pi stacking. The nitro group can contribute an additional 20 degrees Celsius due to its potential for intermolecular interactions. The presence of a methyl group can hinder close packing due to steric bulk, which can reduce the melting point by approximately 5 degrees Celsius.\n",
      "##Prediction: 106.0\n",
      "\n",
      "\n",
      "#Problem\n",
      "actual:  86.0 predicted:  106.0\n",
      "promlem 36 / 50\n"
     ]
    },
    {
     "name": "stderr",
     "output_type": "stream",
     "text": [
      " 72%|███████▏  | 36/50 [09:18<05:24, 23.19s/it]"
     ]
    },
    {
     "name": "stdout",
     "output_type": "stream",
     "text": [
      "----\n",
      "\n",
      "\n",
      "The base unit for comparison is benzene, which has a melting point of 5.5°C. Xylene is a homologue of benzene with an additional methyl group attached to each benzene ring, which increases molecular weight and enhances pi-pi interactions, leading to a higher melting point. Each methyl group is estimated to add about 30°C to the melting point, similar to triphenylamine.\n",
      "##Prediction: 85.0\n",
      "\n",
      "\n",
      "#Problem\n",
      "actual:  -25.0 predicted:  85.0\n",
      "promlem 37 / 50\n"
     ]
    },
    {
     "name": "stderr",
     "output_type": "stream",
     "text": [
      " 74%|███████▍  | 37/50 [09:42<05:04, 23.43s/it]"
     ]
    },
    {
     "name": "stdout",
     "output_type": "stream",
     "text": [
      "----\n",
      "\n",
      "\n",
      "The base unit in 2-phenoxypropionic acid is benzene, which has a melting point of 5.5°C. Introducing a phenoxy group will generally increase this value because of the increased molecular complexity and potential for additional intermolecular interactions such as dipole-dipole attraction from the phenoxy oxygen. We can predict this might add approximately +80°C. The propionic acid side chain adds both hydrophobic alkyl chain that might slightly lower the melting point but also contains a carboxylic acid group, which can form strong intermolecular hydrogen bonds, significantly raising the melting point. The combined alkyl (-CH2- and -CH3) effects could be about -5°C while the carboxyl group could contribute +40°C due to hydrogen bonding potentials. The overall expected increase would be expected to be a sum of the individual contributions.\n",
      "##Prediction: 121.0\n",
      "\n",
      "\n",
      "#Problem\n",
      "actual:  117.75 predicted:  121.0\n",
      "promlem 38 / 50\n"
     ]
    },
    {
     "name": "stderr",
     "output_type": "stream",
     "text": [
      " 76%|███████▌  | 38/50 [10:22<05:39, 28.27s/it]"
     ]
    },
    {
     "name": "stdout",
     "output_type": "stream",
     "text": [
      "----\n",
      "\n",
      "\n",
      "The compound has a complex structure with multiple functional groups, each of which contributes to the melting point. The basic unit is a decahydro-4H-3b,11a-ethanophenanthro[1,2-d][1,3]dioxole-4,9,10(3aH)-triyl triacetate, which has a melting point of -100.0°C. The methyl groups contribute to the melting point due to their high molecular weight and the potential for dipole-dipole interactions. The methylidene group (-CH2CH2-) is a strong dipole, which can increase the melting point by approximately 50°C. The oxide group (-O-), which is a strong dipole, can increase the melting point by approximately 50°C. The acetate groups (-COO-) can increase the melting point due to their polarity and potential for dipole-dipole interactions. The triyl group (-C(=C)C-) can increase the melting point due to its rigidity and potential for dipole-dipole interactions. The overall effect of these functional groups is additive, so we will add their individual contributions to the base value to predict the melting point of the compound.\n",
      "##Prediction: 100.0\n",
      "\n",
      "\n",
      "#Problem\n",
      "actual:  259.0 predicted:  100.0\n",
      "promlem 39 / 50\n"
     ]
    },
    {
     "name": "stderr",
     "output_type": "stream",
     "text": [
      " 78%|███████▊  | 39/50 [10:37<04:28, 24.37s/it]"
     ]
    },
    {
     "name": "stdout",
     "output_type": "stream",
     "text": [
      "----\n",
      "\n",
      "\n",
      "Barbituric acid has a melting point of 120°C, which is significantly higher than the basic unit of benzene. The allyl group adds rigidity and potential for dipole-dipole interactions, which could increase the melting point by +50°C. The hydroxyl group in barbituric acid can form hydrogen bonds, which can increase the melting point by +50°C. The presence of multiple functional groups can increase the melting point due to the potential for increased intermolecular forces.\n",
      "##Prediction: 170.0\n",
      "\n",
      "\n",
      "#Problem\n",
      "actual:  157.5 predicted:  170.0\n",
      "promlem 40 / 50\n"
     ]
    },
    {
     "name": "stderr",
     "output_type": "stream",
     "text": [
      " 80%|████████  | 40/50 [11:29<05:25, 32.59s/it]"
     ]
    },
    {
     "name": "stdout",
     "output_type": "stream",
     "text": [
      "----\n",
      "\n",
      "\n",
      "Leflunomide is a complex molecule with a fused benzene and pyrrole ring system, a phenyl group, and a long alkyl chain. The base structure of the pyrrole ring has a melting point of approximately -100 degrees Celsius. The phenyl group contributes to the melting point due to its rigidity and potential for hydrogen bonding. The fused benzene and pyrrole rings increase the melting point due to the introduction of a rigid structure and potential for hydrogen bonding. The long alkyl chain increases the surface area for Van der Waals forces, also raising the melting point. However, without specific data points on the incremental increase per methylene unit or the ring, we make a qualitative estimation as follows: the fused benzene and pyrrole rings, a conservative estimate might be +20 degrees due to rigidity. The phenyl group could add around +20 degrees due to potential hydrogen bonding. The long alkyl chain with 12 methylene units might add roughly +5 degrees per methylene resulting in +60 degrees. However, these effects do not simply add up linearly, as interactions between different parts of the molecule affect the overall melting point. The number given for the alkyl chain assumes a linear alkane chain, but in a real molecule, the chain can interact with itself and other parts, which might lessen the impact of each methylene unit on the melting point. Considering these potential non-linearities, we might slightly adjust the overall prediction.\n",
      "##Prediction: 108.0\n",
      "\n",
      "\n",
      "#Problem\n",
      "actual:  165.5 predicted:  108.0\n",
      "promlem 41 / 50\n"
     ]
    },
    {
     "name": "stderr",
     "output_type": "stream",
     "text": [
      " 82%|████████▏ | 41/50 [11:31<03:32, 23.57s/it]"
     ]
    },
    {
     "name": "stdout",
     "output_type": "stream",
     "text": [
      "----\n",
      "\n",
      "\n",
      "##Prediction: 105.0\n",
      "\n",
      "\n",
      "#Problem\n",
      "actual:  256.0 predicted:  105.0\n",
      "promlem 42 / 50\n"
     ]
    },
    {
     "name": "stderr",
     "output_type": "stream",
     "text": [
      " 84%|████████▍ | 42/50 [12:01<03:22, 25.37s/it]"
     ]
    },
    {
     "name": "stdout",
     "output_type": "stream",
     "text": [
      "----\n",
      "\n",
      "\n",
      "The basic unit in 2-cyclohexylbenzoic acid is benzene, which has a melting point of 5.5°C. Introducing a cyclohexyl group will generally increase this value because of the increased molecular complexity and potential for additional intermolecular interactions such as dipole-dipole attraction from the cyclohexyl group. The benzene ring itself contributes a melting point of 5.5°C. The cyclohexyl group adds a hydrophobic alkyl chain that might slightly lower the melting point, but the presence of a carboxylic acid group on the benzene ring can form strong intermolecular hydrogen bonds, significantly raising the melting point. The combined alkyl (-CH2- and -CH3) effects could be about -5°C while the carboxylic acid group could contribute +40°C due to hydrogen bonding potentials. The overall expected increase would be expected to be a sum of the individual contributions.\n",
      "##Prediction: 121.0\n",
      "\n",
      "\n",
      "#Problem\n",
      "actual:  104.0 predicted:  121.0\n",
      "promlem 43 / 50\n"
     ]
    },
    {
     "name": "stderr",
     "output_type": "stream",
     "text": [
      " 86%|████████▌ | 43/50 [12:03<02:09, 18.56s/it]"
     ]
    },
    {
     "name": "stdout",
     "output_type": "stream",
     "text": [
      "----\n",
      "\n",
      "\n",
      "##Prediction: 100.0\n",
      "\n",
      "\n",
      "#Problem\n",
      "actual:  82.5 predicted:  100.0\n",
      "promlem 44 / 50\n"
     ]
    },
    {
     "name": "stderr",
     "output_type": "stream",
     "text": [
      " 88%|████████▊ | 44/50 [12:17<01:42, 17.00s/it]"
     ]
    },
    {
     "name": "stdout",
     "output_type": "stream",
     "text": [
      "----\n",
      "\n",
      "\n",
      "The basic unit, aniline, has a melting point of around -42 degrees Celsius. The iodine substituent, being electronegative and small, might raise the melting point slightly, perhaps by +5 to +10 degrees Celsius, due to increased molecular polarity and possible dipole-dipole interactions. However, its small size might not contribute a large increment to the melting point.\n",
      "##Prediction: 55.0\n",
      "\n",
      "\n",
      "#Problem\n",
      "actual:  55.75 predicted:  55.0\n",
      "promlem 45 / 50\n"
     ]
    },
    {
     "name": "stderr",
     "output_type": "stream",
     "text": [
      " 90%|█████████ | 45/50 [13:07<02:15, 27.13s/it]"
     ]
    },
    {
     "name": "stdout",
     "output_type": "stream",
     "text": [
      "----\n",
      "\n",
      "\n",
      "The compound (2E)-3-(5-bromofuran-2-yl)-1-furan-2-ylprop-2-en-1-one contains several functional groups that influence its melting point. The base structure of furan, which has a melting point of 100-105 °C, has a melting point of 100-105 °C. The introduction of a bromine atom generally increases the melting point due to the increased electronegativity and the potential for increased intermolecular forces. The presence of a furan ring also contributes to the melting point due to its rigidity and the potential for increased hydrogen bonding capabilities. However, the introduction of a prop-2-en-1-one group can reduce the melting point due to the increased molecular weight and the potential for increased conformational flexibility, which can reduce intermolecular forces. The bromine atom can also increase the melting point due to the increased electronegativity and the potential for increased intermolecular forces. The presence of a furan ring can also contribute to the melting point due to its rigidity and the potential for increased hydrogen bonding capabilities. The prop-2-en-1-one group can reduce the melting point due to the increased molecular weight and the potential for increased conformational flexibility, which can reduce intermolecular forces.\n",
      "##Prediction: 170.0\n",
      "\n",
      "\n",
      "#Problem\n",
      "actual:  77.0 predicted:  170.0\n",
      "promlem 46 / 50\n"
     ]
    },
    {
     "name": "stderr",
     "output_type": "stream",
     "text": [
      " 92%|█████████▏| 46/50 [13:10<01:18, 19.73s/it]"
     ]
    },
    {
     "name": "stdout",
     "output_type": "stream",
     "text": [
      "----\n",
      "\n",
      "\n",
      "##Prediction: 120.0\n",
      "\n",
      "\n",
      "#Problem\n",
      "actual:  245.0 predicted:  120.0\n",
      "promlem 47 / 50\n"
     ]
    },
    {
     "name": "stderr",
     "output_type": "stream",
     "text": [
      " 94%|█████████▍| 47/50 [13:13<00:43, 14.63s/it]"
     ]
    },
    {
     "name": "stdout",
     "output_type": "stream",
     "text": [
      "----\n",
      "\n",
      "\n",
      "##Prediction: 120.0\n",
      "\n",
      "\n",
      "#Problem\n",
      "actual:  193.0 predicted:  120.0\n",
      "promlem 48 / 50\n"
     ]
    },
    {
     "name": "stderr",
     "output_type": "stream",
     "text": [
      " 96%|█████████▌| 48/50 [14:18<00:59, 29.76s/it]"
     ]
    },
    {
     "name": "stdout",
     "output_type": "stream",
     "text": [
      "----\n",
      "\n",
      "\n",
      "The compound ethyl 5-amino-3-(methylsulfanyl)-1-[(3-nitrophenyl)carbonyl]-1H-pyrazole-4-carboxylate has a complex structure with multiple functional groups that affect its melting point. Starting with the base melting point of pyrazole at around 100°C, we consider the following contributions: the amino group, which is basic and introduces a nitrogen atom, can increase the melting point by about +30°C. The methylsulfanyl group (-CH2S-) is a polar and electronegative group, which can increase the melting point by about +20°C due to its ability to form hydrogen bonds. The nitro group (-NO2) is electronegative and can increase the melting point by about +40°C due to its resonance-stabilizing effect. The carbonyl group (-CO-O-CO-), which is a rigidifying group, can increase the melting point by about +20°C due to its ability to form hydrogen bonds. The presence of multiple aromatic rings and the potential for pi-pi stacking can also contribute to the melting point, with an estimated effect of +50°C. However, considering the actual value is 220.5°C, it's clear that the initial estimation was too low. The nitro group's effect might be closer to +60°C, and the carbonyl group's effect might be closer to +30°C, given their resonance-stabilizing and rigidifying effects in a conjugated system. The actual value is likely due to the combination of these effects and the potential for pi-pi stacking, which can increase the\n",
      "promlem 49 / 50\n"
     ]
    },
    {
     "name": "stderr",
     "output_type": "stream",
     "text": [
      " 98%|█████████▊| 49/50 [14:37<00:26, 26.72s/it]"
     ]
    },
    {
     "name": "stdout",
     "output_type": "stream",
     "text": [
      "----\n",
      "\n",
      "\n",
      "The compound has a basic phenyl ring, which contributes to melting point around 43°C. The presence of a nitrile group, which can form hydrogen bonds, can significantly raise the melting point. The phenylamino group can also contribute to melting point due to its potential for hydrogen bonding. The presence of two phenyl groups can increase the melting point due to increased molecular size and potential for intermolecular interactions. The bicyclic structure adds rigidity to the molecule, typically increasing the melting point.\n",
      "##Prediction: 125.0\n",
      "\n",
      "\n",
      "#Problem\n",
      "actual:  156.0 predicted:  125.0\n",
      "promlem 50 / 50\n"
     ]
    },
    {
     "name": "stderr",
     "output_type": "stream",
     "text": [
      "100%|██████████| 50/50 [14:58<00:00, 17.96s/it]\n"
     ]
    },
    {
     "name": "stdout",
     "output_type": "stream",
     "text": [
      "----\n",
      "\n",
      "\n",
      "The base compound benzene has a melting point of -5.5 degrees Celsius. The addition of a dimethylamino group increases the melting point due to the increased molecular weight and the potential for stronger intermolecular interactions, such as dipole-dipole forces. The nitrile group itself does not significantly affect the melting point, but it can contribute to the molecular weight. The presence of a nitrogen atom also increases the molecular weight and can potentially engage in hydrogen bonding, which can contribute to the melting point. However, the presence of two methyl groups on the nitrogen can reduce the melting point due to the loss of potential hydrogen bonding sites.\n",
      "##Prediction: 20.0\n",
      "\n",
      "\n",
      "#Problem\n",
      "actual:  74.0 predicted:  20.0\n"
     ]
    },
    {
     "name": "stderr",
     "output_type": "stream",
     "text": [
      "  0%|          | 0/50 [00:00<?, ?it/s]"
     ]
    },
    {
     "name": "stdout",
     "output_type": "stream",
     "text": [
      "promlem 1 / 50\n"
     ]
    },
    {
     "name": "stderr",
     "output_type": "stream",
     "text": [
      "  2%|▏         | 1/50 [00:01<01:31,  1.87s/it]"
     ]
    },
    {
     "name": "stdout",
     "output_type": "stream",
     "text": [
      "----\n",
      "\n",
      "\n",
      "##Prediction: -10.0\n",
      "\n",
      "\n",
      "#Problem\n",
      "actual:  -3.0 predicted:  -10.0\n",
      "promlem 2 / 50\n"
     ]
    },
    {
     "name": "stderr",
     "output_type": "stream",
     "text": [
      "  4%|▍         | 2/50 [00:03<01:14,  1.56s/it]"
     ]
    },
    {
     "name": "stdout",
     "output_type": "stream",
     "text": [
      "----\n",
      "\n",
      "\n",
      "##Prediction: -10.5\n",
      "\n",
      "\n",
      "#Problem\n",
      "actual:  121.0 predicted:  -10.5\n",
      "promlem 3 / 50\n"
     ]
    },
    {
     "name": "stderr",
     "output_type": "stream",
     "text": [
      "  6%|▌         | 3/50 [00:31<10:38, 13.57s/it]"
     ]
    },
    {
     "name": "stdout",
     "output_type": "stream",
     "text": [
      "----\n",
      "\n",
      "\n",
      "The base compound, phenol, has a melting point of 105 degrees Celsius. The nitro group (NO2) is electron-withdrawing and can increase the melting point due to increased molecular stability and lattice energy. The amino group (NH2) is also electron-withdrawing and can increase the melting point due to increased molecular stability and lattice energy. The nitro group is larger and more electronegative than the amino group, so it is expected to have a greater effect on the melting point. However, the amino group can also contribute to the melting point due to its ability to form hydrogen bonds, which can increase the melting point. The overall effect of the nitro group is expected to be greater than the effect of the amino group, so the predicted melting point is higher than the base compound.\n",
      "##Prediction: 130.0\n",
      "\n",
      "\n",
      "#Problem\n",
      "actual:  151.0 predicted:  130.0\n",
      "promlem 4 / 50\n"
     ]
    },
    {
     "name": "stderr",
     "output_type": "stream",
     "text": [
      "  8%|▊         | 4/50 [01:04<16:20, 21.32s/it]"
     ]
    },
    {
     "name": "stdout",
     "output_type": "stream",
     "text": [
      "----\n",
      "\n",
      "\n",
      "The compound hexane-2,5-dione has a melting point that is influenced by several factors, including the molecular weight, symmetry, and intermolecular forces. The basic structure of hexane-2,5-dione consists of a hexane ring, which contributes to the melting point due to its symmetry and the potential for pi-pi interactions. The presence of a carboxylic acid group (COOH) adds to the melting point due to its polar nature and the potential for strong dipole-dipole interactions. The presence of a ketone group (C=O) can also increase the melting point due to the polar nature of the carbonyl group and the potential for pi-pi interactions. The addition of a hydroxyl group (OH) can also increase the melting point due to the polar nature of the hydroxyl group and the potential for strong dipole-dipole interactions. The presence of a methyl group (CH3) can also increase the melting point due to the increased molecular weight and the potential for pi-pi interactions.\n",
      "##Prediction: 105.0\n",
      "\n",
      "\n",
      "#Problem\n",
      "actual:  -7.0 predicted:  105.0\n",
      "promlem 5 / 50\n"
     ]
    },
    {
     "name": "stderr",
     "output_type": "stream",
     "text": [
      " 10%|█         | 5/50 [01:06<10:50, 14.45s/it]"
     ]
    },
    {
     "name": "stdout",
     "output_type": "stream",
     "text": [
      "----\n",
      "\n",
      "\n",
      "##Prediction: 100.0\n",
      "\n",
      "\n",
      "#Problem\n",
      "actual:  31.0 predicted:  100.0\n",
      "promlem 6 / 50\n"
     ]
    },
    {
     "name": "stderr",
     "output_type": "stream",
     "text": [
      " 12%|█▏        | 6/50 [01:35<14:18, 19.51s/it]"
     ]
    },
    {
     "name": "stdout",
     "output_type": "stream",
     "text": [
      "----\n",
      "\n",
      "\n",
      "The basic unit here is a cyclic ester, which has a melting point of -100.0°C. When considering the structural changes leading to 1,8,8-trimethyl-4-oxo-3-oxabicyclo[3.2.1]octane-2-carboxylic acid, the following should be noted:\n",
      "- The addition of three methyl groups increases the molecular weight and size, which can reduce the effectiveness of intermolecular forces, such as dipole-dipole interactions, on a per-atom basis. This can lower the melting point by approximately -5°C.\n",
      "- The oxo group (-O-O-O) in the carboxylic acid functional group increases the polarity of the molecule, which can increase the melting point by approximately +20°C.\n",
      "Overall, the addition of the methyl groups and the oxo group gives a predicted melting point for 1,8,8-trimethyl-4-oxo-3-oxabicyclo[3.2.1]octane-2-carboxylic acid.\n",
      "##Prediction: -55.0\n",
      "\n",
      "\n",
      "#Problem\n",
      "actual:  201.0 predicted:  -55.0\n",
      "promlem 7 / 50\n"
     ]
    },
    {
     "name": "stderr",
     "output_type": "stream",
     "text": [
      " 14%|█▍        | 7/50 [01:37<09:53, 13.79s/it]"
     ]
    },
    {
     "name": "stdout",
     "output_type": "stream",
     "text": [
      "----\n",
      "\n",
      "\n",
      "##Prediction: 100.0\n",
      "\n",
      "\n",
      "#Problem\n",
      "actual:  223.0 predicted:  100.0\n",
      "promlem 8 / 50\n"
     ]
    },
    {
     "name": "stderr",
     "output_type": "stream",
     "text": [
      " 16%|█▌        | 8/50 [01:39<06:58,  9.96s/it]"
     ]
    },
    {
     "name": "stdout",
     "output_type": "stream",
     "text": [
      "----\n",
      "\n",
      "\n",
      "##Prediction: 105.0\n",
      "\n",
      "\n",
      "#Problem\n",
      "actual:  153.0 predicted:  105.0\n",
      "promlem 9 / 50\n"
     ]
    },
    {
     "name": "stderr",
     "output_type": "stream",
     "text": [
      " 18%|█▊        | 9/50 [01:53<07:36, 11.13s/it]"
     ]
    },
    {
     "name": "stdout",
     "output_type": "stream",
     "text": [
      "----\n",
      "\n",
      "\n",
      "The target compound 2-methoxybenzaldehyde has a basic unit of benzene, which has a typical melting point range of 5.5 °C to 6 °C. The methoxy group (+OCH3) is an electron-donating group, generally increasing the melting point due to its contribution to resonance stabilization of the aromatic ring; estimated effect is +20 °C.\n",
      "##Prediction: 75.0\n",
      "\n",
      "\n",
      "#Problem\n",
      "actual:  37.0 predicted:  75.0\n",
      "promlem 10 / 50\n"
     ]
    },
    {
     "name": "stderr",
     "output_type": "stream",
     "text": [
      " 20%|██        | 10/50 [02:46<16:00, 24.01s/it]"
     ]
    },
    {
     "name": "stdout",
     "output_type": "stream",
     "text": [
      "----\n",
      "\n",
      "\n",
      "The compound in question has several functional groups that will affect its melting point. The basic unit is a prop-2-en-1-one, which has a melting point of 10.8 degrees Celsius. The furyl groups (both in the prop-2-en-1-one and the furyl side chains) contribute to the melting point due to their aromaticity and potential for pi-pi interactions. Each furyl group contributes around +40 degrees Celsius due to the increased molecular weight and potential for pi-pi stacking interactions. The nitro group in the side chain contributes to the melting point due to its electron-withdrawing nature, which can increase intermolecular forces. An estimate of +30 degrees Celsius per nitro group would be a reasonable assumption. The furyl side chains also contribute to the melting point due to their increased molecular weight and potential for pi-pi interactions. An estimate of +20 degrees Celsius per furyl side chain would be a reasonable assumption. Combining these effects with the base melting point of prop-2-en-1-one, we can predict the melting point as follows: 10.8 (base melting point) + 80 (furyl groups) + 30 (nitro group) + 20 (furyl side chains) = 158.8 degrees Celsius.\n",
      "##Prediction: 158.0\n",
      "\n",
      "\n",
      "#Problem\n",
      "actual:  169.0 predicted:  158.0\n",
      "promlem 11 / 50\n"
     ]
    },
    {
     "name": "stderr",
     "output_type": "stream",
     "text": [
      " 22%|██▏       | 11/50 [02:49<11:26, 17.61s/it]"
     ]
    },
    {
     "name": "stdout",
     "output_type": "stream",
     "text": [
      "----\n",
      "\n",
      "\n",
      "##Prediction: 100.0\n",
      "\n",
      "\n",
      "#Problem\n",
      "actual:  59.5 predicted:  100.0\n",
      "promlem 12 / 50\n"
     ]
    },
    {
     "name": "stderr",
     "output_type": "stream",
     "text": [
      " 24%|██▍       | 12/50 [02:51<08:08, 12.84s/it]"
     ]
    },
    {
     "name": "stdout",
     "output_type": "stream",
     "text": [
      "----\n",
      "\n",
      "\n",
      "##Prediction: 70.0\n",
      "\n",
      "\n",
      "#Problem\n",
      "actual:  -2.0 predicted:  70.0\n",
      "promlem 13 / 50\n"
     ]
    },
    {
     "name": "stderr",
     "output_type": "stream",
     "text": [
      " 26%|██▌       | 13/50 [02:52<05:50,  9.46s/it]"
     ]
    },
    {
     "name": "stdout",
     "output_type": "stream",
     "text": [
      "----\n",
      "\n",
      "\n",
      "##Prediction: 130.0\n",
      "\n",
      "\n",
      "#Problem\n",
      "actual:  81.3 predicted:  130.0\n",
      "promlem 14 / 50\n"
     ]
    },
    {
     "name": "stderr",
     "output_type": "stream",
     "text": [
      " 28%|██▊       | 14/50 [03:14<07:55, 13.20s/it]"
     ]
    },
    {
     "name": "stdout",
     "output_type": "stream",
     "text": [
      "----\n",
      "\n",
      "\n",
      "The compound 3-chlorophenoxyacetic acid has a basic unit of acetic acid, which has a melting point of -12.5°C. The chlorine substituent is electronegative and introduces polarity, which can increase the melting point by approximately +20°C. The phenoxy group is a flexible chain with potential hydrogen bonding, which can also increase the melting point by +10°C. The overall effect of these functional groups on the melting point is estimated to be +30°C.\n",
      "##Prediction: 15.0\n",
      "\n",
      "\n",
      "#Problem\n",
      "actual:  108.0 predicted:  15.0\n",
      "promlem 15 / 50\n"
     ]
    },
    {
     "name": "stderr",
     "output_type": "stream",
     "text": [
      " 30%|███       | 15/50 [04:06<14:31, 24.89s/it]"
     ]
    },
    {
     "name": "stdout",
     "output_type": "stream",
     "text": [
      "----\n",
      "\n",
      "\n",
      "The melting point of a compound is influenced by several structural factors, including molecular weight, symmetry, and the strength of intermolecular forces. For 2h-pyran-2,5-dicarboxylic acid, tetrahydro-2,6,6, several functional group effects should be considered: \n",
      "- Basic unit, pyran, has a melting point of 100 °C. \n",
      "- Carboxylic acid group: The carboxylic acid group is a strong electron-withdrawing group that increases the polarity of the molecule and can allow for stronger dipole-dipole interactions and potentially hydrogen bonding with protic solvents. The carboxylic acid group typically raises the melting point by an estimated +30 °C over the base pyran unit. \n",
      "- Tetrahydro group: The tetrahydro group is a rigidifying unit that can increase the melting point due to increased molecular weight and potential for pi-pi stacking. The tetrahydro group typically raises the melting point by an estimated +20 °C over the base pyran unit. \n",
      "Considering the individual effects, one might expect these functional groups to have mostly additive impacts on the melting point, but some deviation from strict additivity can occur due to the disruption of the aromatic system's symmetry by the substituents.\n",
      "##Prediction: 153.0\n",
      "\n",
      "\n",
      "#Problem\n",
      "actual:  208.0 predicted:  153.0\n",
      "promlem 16 / 50\n"
     ]
    },
    {
     "name": "stderr",
     "output_type": "stream",
     "text": [
      " 32%|███▏      | 16/50 [04:20<12:13, 21.56s/it]"
     ]
    },
    {
     "name": "stdout",
     "output_type": "stream",
     "text": [
      "----\n",
      "\n",
      "\n",
      "The base compound propionitrile has a melting point of -10.5°C. The introduction of a methoxy group (-OCH3) increases the melting point due to the increased molecular weight and the potential for increased hydrogen bonding. The methoxy group can also increase the molecule's polarity, which can enhance intermolecular interactions. The effect of the methoxy group is estimated to be around +20°C.\n",
      "##Prediction: 10.5\n",
      "\n",
      "\n",
      "#Problem\n",
      "actual:  -63.0 predicted:  10.5\n",
      "promlem 17 / 50\n"
     ]
    },
    {
     "name": "stderr",
     "output_type": "stream",
     "text": [
      " 34%|███▍      | 17/50 [04:22<08:39, 15.73s/it]"
     ]
    },
    {
     "name": "stdout",
     "output_type": "stream",
     "text": [
      "----\n",
      "\n",
      "\n",
      "##Prediction: 105.0\n",
      "\n",
      "\n",
      "#Problem\n",
      "actual:  247.5 predicted:  105.0\n",
      "promlem 18 / 50\n"
     ]
    },
    {
     "name": "stderr",
     "output_type": "stream",
     "text": [
      " 36%|███▌      | 18/50 [04:51<10:32, 19.76s/it]"
     ]
    },
    {
     "name": "stdout",
     "output_type": "stream",
     "text": [
      "----\n",
      "\n",
      "\n",
      "The compound 2-ethylbenzimidazole has a basic structure of a benzene ring with an ethyl group attached to the nitrogen atom. The presence of the ethyl group increases the melting point due to the increased molecular weight and the potential for increased intermolecular forces such as dipole-dipole interactions. The benzimidazole ring itself also contributes to the melting point due to its rigidity and potential for hydrogen bonding. The presence of a nitrogen atom also increases the melting point due to the potential for hydrogen bonding. The estimated increase for the ethyl group is around 10 degrees, while the benzimidazole ring contributes around 20 degrees. The presence of a nitrogen atom adds an additional 5 degrees.\n",
      "##Prediction: 141.0\n",
      "\n",
      "\n",
      "#Problem\n",
      "actual:  175.0 predicted:  141.0\n",
      "promlem 19 / 50\n"
     ]
    },
    {
     "name": "stderr",
     "output_type": "stream",
     "text": [
      " 38%|███▊      | 19/50 [04:54<07:34, 14.67s/it]"
     ]
    },
    {
     "name": "stdout",
     "output_type": "stream",
     "text": [
      "----\n",
      "\n",
      "\n",
      "##Prediction: 100.0\n",
      "\n",
      "\n",
      "#Problem\n",
      "actual:  -83.0 predicted:  100.0\n",
      "promlem 20 / 50\n"
     ]
    },
    {
     "name": "stderr",
     "output_type": "stream",
     "text": [
      " 40%|████      | 20/50 [04:57<05:28, 10.96s/it]"
     ]
    },
    {
     "name": "stdout",
     "output_type": "stream",
     "text": [
      "----\n",
      "\n",
      "\n",
      "##Prediction: 200.0\n",
      "\n",
      "\n",
      "#Problem\n",
      "actual:  264.0 predicted:  200.0\n",
      "promlem 21 / 50\n"
     ]
    },
    {
     "name": "stderr",
     "output_type": "stream",
     "text": [
      " 42%|████▏     | 21/50 [05:15<06:23, 13.24s/it]"
     ]
    },
    {
     "name": "stdout",
     "output_type": "stream",
     "text": [
      "----\n",
      "\n",
      "\n",
      "The base structure for this compound is pyridine, which has a melting point of 42°C. The introduction of an amino group (-NH2) can increase the melting point due to the presence of a basic nitrogen atom, which can participate in hydrogen bonding and increase the molecular weight. The nitro group (-NO2) can also increase the melting point due to its electronegativity and the potential for dipole-dipole interactions. However, the nitro group also introduces steric bulk, which can disrupt crystal packing and lower the melting point. The estimated effect of the nitro group is around -5°C.\n",
      "##Prediction: 47.0\n",
      "\n",
      "\n",
      "#Problem\n",
      "actual:  203.0 predicted:  47.0\n",
      "promlem 22 / 50\n"
     ]
    },
    {
     "name": "stderr",
     "output_type": "stream",
     "text": [
      " 44%|████▍     | 22/50 [05:59<10:32, 22.60s/it]"
     ]
    },
    {
     "name": "stdout",
     "output_type": "stream",
     "text": [
      "----\n",
      "\n",
      "\n",
      "The basic unit for comparison could be 1,3,5-trimethyl-2,4-pyrimidine, which has a melting point of -2.5°C. The compound has several functional groups that can affect the melting point: a methyl group on the phenyl ring, which generally lowers the melting point due to the increased molecular weight and size, and a methyl group on the pyrrole ring, which can increase the melting point due to the polar carbonyl group. The dioxo group can also increase the melting point due to the increased molecular weight and the potential for stronger intermolecular interactions, such as dipole-dipole forces. The carboxylate group can lower the melting point due to the loss of strong carboxylic acid hydrogen bonds. The introduction of a phenyl group can increase the melting point due to the increased molecular weight and the potential for stronger intermolecular interactions, such as dipole-dipole forces. The introduction of a pyrrole ring can increase the melting point due to the polar carbonyl group. Balancing these factors, the addition of the methyl groups might add +5, and the dioxo group may add up to +5-10 due to increased molecular weight and polarity, but the carboxylate group could subtract around -20 to -25 due to loss of strong carboxylic acid hydrogen bonds. The pyrrole ring might add +5-10 due to the polar carbonyl group.\n",
      "##Prediction: -1.5\n",
      "\n",
      "\n",
      "#Problem\n",
      "actual:  200.0 predicted:  -1.5\n",
      "promlem 23 / 50\n"
     ]
    }
   ],
   "source": [
    "#Loop: training, evaluation, data generation\n",
    "for generation in range(max_generations):\n",
    "    clear_output()\n",
    "    print(f\"Generation: {generation}\")\n",
    "    #prepare train dataset\n",
    "\n",
    "    ## reason data made by GPT4\n",
    "    train_dataset=copy.deepcopy(example_reasoning_dataset)\n",
    "\n",
    "    print(f\"GPT-generated reasons: {len(train_dataset)}\")\n",
    "\n",
    "    ## reason data made by model itself\n",
    "    for path in glob.glob(f\"{project_dir}/self_reasoning/*.json\"):\n",
    "        with open(path) as f:\n",
    "            train_dataset.append(json.load(f))\n",
    "\n",
    "    print(f\"All-generated reasons: {len(train_dataset)}\")\n",
    "    random.shuffle(train_dataset)\n",
    "\n",
    "    #train model\n",
    "    clean_vram()\n",
    "    model=init_model(model_name, r, lora_alpha, target_modules, bit=bit,device_map=device_map)\n",
    "    train_result=train_model(model,tokenizer,train_dataset,\n",
    "                    project_dir=project_dir,\n",
    "                    epochs=epochs,\n",
    "                    lr=lr,\n",
    "                    per_device_train_batch_size=per_device_train_batch_size,\n",
    "                    gradient_checkpointing=gradient_checkpointing,\n",
    "                    )\n",
    "\n",
    "    #eval\n",
    "\n",
    "    train_check_dataset=copy.deepcopy(train_dataset[:n_train_check])\n",
    "    random.shuffle(train_check_dataset)\n",
    "    train_eval_result=eval_model(model,tokenizer,train_check_dataset,\n",
    "                                f\"{project_dir}/eval\",\n",
    "                                n_prompt_examples=3,\n",
    "                                prompt_dataset=example_reasoning_dataset,\n",
    "                                prefix=f\"train_{generation}\"\n",
    "                                )\n",
    "\n",
    "    test_eval_result=eval_model(model,tokenizer,test_dataset,\n",
    "                                f\"{project_dir}/eval\",\n",
    "                                n_prompt_examples=3,\n",
    "                                prompt_dataset=example_reasoning_dataset,\n",
    "                                prefix=f\"test_{generation}\"\n",
    "                                )\n",
    "\n",
    "    #generate additional training data by self-reasoning\n",
    "    self_reasoning(model,tokenizer,base_train_dataset,\n",
    "                example_reasoning_dataset,project_dir,\n",
    "                generation=generation,\n",
    "                n_iterations=n_generation_iterations,\n",
    "                error_threshold=error_threshold,\n",
    "                n_max_trials=2)"
   ]
  },
  {
   "cell_type": "code",
   "execution_count": null,
   "metadata": {},
   "outputs": [],
   "source": []
  },
  {
   "cell_type": "code",
   "execution_count": null,
   "metadata": {},
   "outputs": [],
   "source": []
  }
 ],
 "metadata": {
  "kernelspec": {
   "display_name": "chemllm",
   "language": "python",
   "name": "python3"
  },
  "language_info": {
   "codemirror_mode": {
    "name": "ipython",
    "version": 3
   },
   "file_extension": ".py",
   "mimetype": "text/x-python",
   "name": "python",
   "nbconvert_exporter": "python",
   "pygments_lexer": "ipython3",
   "version": "3.10.0"
  }
 },
 "nbformat": 4,
 "nbformat_minor": 2
}
