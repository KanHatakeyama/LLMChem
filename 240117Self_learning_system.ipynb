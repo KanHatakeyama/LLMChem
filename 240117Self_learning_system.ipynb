{
 "cells": [
  {
   "cell_type": "markdown",
   "metadata": {},
   "source": [
    "# (Q)分子構造+(R)理由+(A)物性データセットのLLMによる学習と予測\n",
    "- Q&A: 融点データセットを使用\n",
    "- R: 自分自身で考えさせて､正解のデータを学習させる"
   ]
  },
  {
   "cell_type": "code",
   "execution_count": 3,
   "metadata": {},
   "outputs": [],
   "source": [
    "%reload_ext autoreload\n",
    "%autoreload 2\n",
    "\n",
    "import os\n",
    "#os.environ[\"CUDA_VISIBLE_DEVICES\"]=\"1\"\n",
    "\n",
    "from transformers import AutoModelForCausalLM, BitsAndBytesConfig\n",
    "import torch\n",
    "from peft import LoraConfig, get_peft_model\n",
    "from transformers import AutoTokenizer,pipeline\n",
    "from datasets import Dataset\n",
    "import copy\n",
    "from tqdm import tqdm\n"
   ]
  },
  {
   "cell_type": "code",
   "execution_count": 4,
   "metadata": {},
   "outputs": [],
   "source": [
    "#dataset settings\n",
    "n_test=50 #number of testing data\n",
    "n_train_check=50 #number of training data for checking (i.e., checking everything takes too long, so we check only a part of training data)\n",
    "n_GPT_reasoning=30 # number of reasoning data made by GPT\n",
    "\n",
    "#model settings\n",
    "model_name=\"mistralai/Mixtral-8x7B-Instruct-v0.1\"\n",
    "target_modules= [\n",
    "    \"lm_head\",\n",
    "    \"q_proj\",\n",
    "    \"k_proj\",\n",
    "    \"v_proj\",\n",
    "    \"o_proj\",\n",
    "    \"gate\",\n",
    "    \"w1\",\n",
    "    \"w2\",\n",
    "    \"w3\"\n",
    "]\n",
    "\n",
    "model_name=f\"meta-llama/Llama-2-7b-chat-hf\"\n",
    "target_modules= [\n",
    "    #\"embed_tokens\",\n",
    "    \"lm_head\",\n",
    "    #\"q_proj\",\n",
    "    #\"k_proj\",\n",
    "    \"v_proj\",\n",
    "    \"o_proj\",\n",
    "    \"gate_proj\",\n",
    "    \"up_proj\",\n",
    "    #\"down_proj\",\n",
    "]\n",
    "\n",
    "\n",
    "\n",
    "#LoRA settings\n",
    "r=32\n",
    "lora_alpha=r\n",
    "bit=16\n",
    "#bit=8\n",
    "#bit=4\n",
    "\n",
    "#train settings\n",
    "gradient_checkpointing =False\n",
    "per_device_train_batch_size=1\n",
    "epochs=3\n",
    "lr=10**-5\n",
    "\n",
    "#device settings\n",
    "device_map=\"auto\"\n",
    "\n",
    "#dataset path\n",
    "dataset_path=\"dataset/231225AutoReasoning/240117best_reason_record_30k.csv\""
   ]
  },
  {
   "cell_type": "code",
   "execution_count": 5,
   "metadata": {},
   "outputs": [],
   "source": [
    "#init model\n",
    "from llmchem.model import init_model\n",
    "#model=init_model(model_name, r, lora_alpha, target_modules, bit=bit,device_map=device_map)\n",
    "tokenizer = AutoTokenizer.from_pretrained(model_name)\n",
    "tokenizer.pad_token = tokenizer.eos_token"
   ]
  },
  {
   "cell_type": "markdown",
   "metadata": {},
   "source": [
    "# Prepare dataset"
   ]
  },
  {
   "cell_type": "code",
   "execution_count": 7,
   "metadata": {},
   "outputs": [],
   "source": [
    "import pandas as pd\n",
    "import random\n",
    "df=pd.read_csv(dataset_path)\n",
    "dataset=df.to_dict(orient=\"records\")\n",
    "random.seed(0)\n",
    "random.shuffle(dataset)\n",
    "\n",
    "train_dataset=dataset[:-n_test]\n",
    "example_reasoning_dataset=train_dataset[:n_GPT_reasoning]\n",
    "test_dataset=dataset[-n_test:]"
   ]
  },
  {
   "cell_type": "markdown",
   "metadata": {},
   "source": [
    "# モデル自身によるデータセットの生成"
   ]
  },
  {
   "cell_type": "code",
   "execution_count": null,
   "metadata": {},
   "outputs": [],
   "source": [
    "from datetime import datetime\n",
    "import json\n",
    "from llmchem.utils import clean_vram\n",
    "from llmchem.inference import ask_value, generate_question_prompt\n",
    "\n",
    "#prompt tuningをランダムに変えながら､訓練データで予測(自習)していく\n",
    "\n",
    "#予測時のハイパラ\n",
    "n_max_trials=4  # 値を返さなかったときの再試行の最大数\n",
    "error_threshold=30 #結果を保存する許容誤差\n",
    "prediction_results={}\n",
    "\n",
    "res_list=[]\n",
    "\n",
    "for train_id in tqdm(range(10**5)):\n",
    "    #clear_output()\n",
    "    clean_vram()\n",
    "    for _ in range(n_max_trials):\n",
    "        try:\n",
    "        #if True:\n",
    "\n",
    "            n_prompt_examples=random.randint(1,5) #number of prompt tuning\n",
    "            prompt=generate_question_prompt(dataset,train_id,\n",
    "                                            n_prompt_examples=n_prompt_examples,\n",
    "                                            prompt_dataset=example_reasoning_dataset)\n",
    "            reason,value=ask_value(prompt,model,tokenizer)\n",
    "        except Exception as e:\n",
    "            print(e)\n",
    "            continue\n",
    "\n",
    "        if len(reason)<30:\n",
    "            continue\n",
    "\n",
    "        if value is not None:\n",
    "            try:\n",
    "                value=float(value)\n",
    "            except:\n",
    "                continue\n",
    "\n",
    "            record=copy.deepcopy(dataset[train_id])\n",
    "            record[\"Reason\"]=reason\n",
    "            record[\"Prediction(integer)\"]=value\n",
    "            record[\"model_name\"]=model_name\n",
    "\n",
    "            err=abs(record[\"mpC\"]-float(value))\n",
    "            print(\"actual: \",record[\"mpC\"],\"predicted: \", value,\"err: \",err)\n",
    "            print(reason)\n",
    "\n",
    "            \n",
    "            if err<error_threshold:\n",
    "                current_datetime = datetime.now()\n",
    "\n",
    "                save_path=f\"dataset/240116mixtral_reasoning/{current_datetime}.json\"\n",
    "                save_path=f\"dataset/240116llama2_reasoning/{current_datetime}.json\"\n",
    "                save_path.replace(\"-\",\"\").replace(\":\",\"\")\n",
    "                with open(save_path,\"w\") as f:\n",
    "                    json.dump(record,f,indent=4)\n",
    "\n",
    "                break"
   ]
  },
  {
   "cell_type": "markdown",
   "metadata": {},
   "source": [
    "# モデルの訓練"
   ]
  },
  {
   "cell_type": "code",
   "execution_count": 17,
   "metadata": {},
   "outputs": [
    {
     "name": "stderr",
     "output_type": "stream",
     "text": [
      "Map: 100%|██████████| 2356/2356 [00:00<00:00, 7871.98 examples/s]\n",
      "You're using a LlamaTokenizerFast tokenizer. Please note that with a fast tokenizer, using the `__call__` method is faster than using a method to encode the text followed by a call to the `pad` method to get a padded encoding.\n"
     ]
    },
    {
     "data": {
      "text/html": [
       "\n",
       "    <div>\n",
       "      \n",
       "      <progress value='7068' max='7068' style='width:300px; height:20px; vertical-align: middle;'></progress>\n",
       "      [7068/7068 1:00:26, Epoch 3/3]\n",
       "    </div>\n",
       "    <table border=\"1\" class=\"dataframe\">\n",
       "  <thead>\n",
       " <tr style=\"text-align: left;\">\n",
       "      <th>Step</th>\n",
       "      <th>Training Loss</th>\n",
       "    </tr>\n",
       "  </thead>\n",
       "  <tbody>\n",
       "    <tr>\n",
       "      <td>100</td>\n",
       "      <td>1.239300</td>\n",
       "    </tr>\n",
       "    <tr>\n",
       "      <td>200</td>\n",
       "      <td>1.023600</td>\n",
       "    </tr>\n",
       "    <tr>\n",
       "      <td>300</td>\n",
       "      <td>0.982400</td>\n",
       "    </tr>\n",
       "    <tr>\n",
       "      <td>400</td>\n",
       "      <td>0.933600</td>\n",
       "    </tr>\n",
       "    <tr>\n",
       "      <td>500</td>\n",
       "      <td>0.949500</td>\n",
       "    </tr>\n",
       "    <tr>\n",
       "      <td>600</td>\n",
       "      <td>0.918200</td>\n",
       "    </tr>\n",
       "    <tr>\n",
       "      <td>700</td>\n",
       "      <td>0.894300</td>\n",
       "    </tr>\n",
       "    <tr>\n",
       "      <td>800</td>\n",
       "      <td>0.923400</td>\n",
       "    </tr>\n",
       "    <tr>\n",
       "      <td>900</td>\n",
       "      <td>0.907700</td>\n",
       "    </tr>\n",
       "    <tr>\n",
       "      <td>1000</td>\n",
       "      <td>0.894100</td>\n",
       "    </tr>\n",
       "    <tr>\n",
       "      <td>1100</td>\n",
       "      <td>0.887600</td>\n",
       "    </tr>\n",
       "    <tr>\n",
       "      <td>1200</td>\n",
       "      <td>0.880100</td>\n",
       "    </tr>\n",
       "    <tr>\n",
       "      <td>1300</td>\n",
       "      <td>0.868100</td>\n",
       "    </tr>\n",
       "    <tr>\n",
       "      <td>1400</td>\n",
       "      <td>0.894800</td>\n",
       "    </tr>\n",
       "    <tr>\n",
       "      <td>1500</td>\n",
       "      <td>0.877400</td>\n",
       "    </tr>\n",
       "    <tr>\n",
       "      <td>1600</td>\n",
       "      <td>0.852100</td>\n",
       "    </tr>\n",
       "    <tr>\n",
       "      <td>1700</td>\n",
       "      <td>0.871400</td>\n",
       "    </tr>\n",
       "    <tr>\n",
       "      <td>1800</td>\n",
       "      <td>0.851500</td>\n",
       "    </tr>\n",
       "    <tr>\n",
       "      <td>1900</td>\n",
       "      <td>0.863300</td>\n",
       "    </tr>\n",
       "    <tr>\n",
       "      <td>2000</td>\n",
       "      <td>0.865600</td>\n",
       "    </tr>\n",
       "    <tr>\n",
       "      <td>2100</td>\n",
       "      <td>0.842000</td>\n",
       "    </tr>\n",
       "    <tr>\n",
       "      <td>2200</td>\n",
       "      <td>0.855100</td>\n",
       "    </tr>\n",
       "    <tr>\n",
       "      <td>2300</td>\n",
       "      <td>0.862300</td>\n",
       "    </tr>\n",
       "    <tr>\n",
       "      <td>2400</td>\n",
       "      <td>0.803300</td>\n",
       "    </tr>\n",
       "    <tr>\n",
       "      <td>2500</td>\n",
       "      <td>0.831800</td>\n",
       "    </tr>\n",
       "    <tr>\n",
       "      <td>2600</td>\n",
       "      <td>0.764200</td>\n",
       "    </tr>\n",
       "    <tr>\n",
       "      <td>2700</td>\n",
       "      <td>0.807600</td>\n",
       "    </tr>\n",
       "    <tr>\n",
       "      <td>2800</td>\n",
       "      <td>0.791500</td>\n",
       "    </tr>\n",
       "    <tr>\n",
       "      <td>2900</td>\n",
       "      <td>0.776300</td>\n",
       "    </tr>\n",
       "    <tr>\n",
       "      <td>3000</td>\n",
       "      <td>0.761800</td>\n",
       "    </tr>\n",
       "    <tr>\n",
       "      <td>3100</td>\n",
       "      <td>0.773500</td>\n",
       "    </tr>\n",
       "    <tr>\n",
       "      <td>3200</td>\n",
       "      <td>0.792200</td>\n",
       "    </tr>\n",
       "    <tr>\n",
       "      <td>3300</td>\n",
       "      <td>0.769700</td>\n",
       "    </tr>\n",
       "    <tr>\n",
       "      <td>3400</td>\n",
       "      <td>0.762600</td>\n",
       "    </tr>\n",
       "    <tr>\n",
       "      <td>3500</td>\n",
       "      <td>0.754600</td>\n",
       "    </tr>\n",
       "    <tr>\n",
       "      <td>3600</td>\n",
       "      <td>0.777700</td>\n",
       "    </tr>\n",
       "    <tr>\n",
       "      <td>3700</td>\n",
       "      <td>0.763900</td>\n",
       "    </tr>\n",
       "    <tr>\n",
       "      <td>3800</td>\n",
       "      <td>0.766100</td>\n",
       "    </tr>\n",
       "    <tr>\n",
       "      <td>3900</td>\n",
       "      <td>0.795600</td>\n",
       "    </tr>\n",
       "    <tr>\n",
       "      <td>4000</td>\n",
       "      <td>0.775500</td>\n",
       "    </tr>\n",
       "    <tr>\n",
       "      <td>4100</td>\n",
       "      <td>0.774200</td>\n",
       "    </tr>\n",
       "    <tr>\n",
       "      <td>4200</td>\n",
       "      <td>0.763900</td>\n",
       "    </tr>\n",
       "    <tr>\n",
       "      <td>4300</td>\n",
       "      <td>0.772600</td>\n",
       "    </tr>\n",
       "    <tr>\n",
       "      <td>4400</td>\n",
       "      <td>0.755400</td>\n",
       "    </tr>\n",
       "    <tr>\n",
       "      <td>4500</td>\n",
       "      <td>0.778900</td>\n",
       "    </tr>\n",
       "    <tr>\n",
       "      <td>4600</td>\n",
       "      <td>0.766300</td>\n",
       "    </tr>\n",
       "    <tr>\n",
       "      <td>4700</td>\n",
       "      <td>0.782400</td>\n",
       "    </tr>\n",
       "    <tr>\n",
       "      <td>4800</td>\n",
       "      <td>0.701100</td>\n",
       "    </tr>\n",
       "    <tr>\n",
       "      <td>4900</td>\n",
       "      <td>0.688100</td>\n",
       "    </tr>\n",
       "    <tr>\n",
       "      <td>5000</td>\n",
       "      <td>0.731600</td>\n",
       "    </tr>\n",
       "    <tr>\n",
       "      <td>5100</td>\n",
       "      <td>0.699400</td>\n",
       "    </tr>\n",
       "    <tr>\n",
       "      <td>5200</td>\n",
       "      <td>0.709000</td>\n",
       "    </tr>\n",
       "    <tr>\n",
       "      <td>5300</td>\n",
       "      <td>0.698200</td>\n",
       "    </tr>\n",
       "    <tr>\n",
       "      <td>5400</td>\n",
       "      <td>0.690900</td>\n",
       "    </tr>\n",
       "    <tr>\n",
       "      <td>5500</td>\n",
       "      <td>0.678600</td>\n",
       "    </tr>\n",
       "    <tr>\n",
       "      <td>5600</td>\n",
       "      <td>0.709500</td>\n",
       "    </tr>\n",
       "    <tr>\n",
       "      <td>5700</td>\n",
       "      <td>0.672200</td>\n",
       "    </tr>\n",
       "    <tr>\n",
       "      <td>5800</td>\n",
       "      <td>0.705500</td>\n",
       "    </tr>\n",
       "    <tr>\n",
       "      <td>5900</td>\n",
       "      <td>0.709600</td>\n",
       "    </tr>\n",
       "    <tr>\n",
       "      <td>6000</td>\n",
       "      <td>0.691700</td>\n",
       "    </tr>\n",
       "    <tr>\n",
       "      <td>6100</td>\n",
       "      <td>0.697400</td>\n",
       "    </tr>\n",
       "    <tr>\n",
       "      <td>6200</td>\n",
       "      <td>0.671700</td>\n",
       "    </tr>\n",
       "    <tr>\n",
       "      <td>6300</td>\n",
       "      <td>0.671900</td>\n",
       "    </tr>\n",
       "    <tr>\n",
       "      <td>6400</td>\n",
       "      <td>0.707000</td>\n",
       "    </tr>\n",
       "    <tr>\n",
       "      <td>6500</td>\n",
       "      <td>0.661100</td>\n",
       "    </tr>\n",
       "    <tr>\n",
       "      <td>6600</td>\n",
       "      <td>0.714300</td>\n",
       "    </tr>\n",
       "    <tr>\n",
       "      <td>6700</td>\n",
       "      <td>0.705700</td>\n",
       "    </tr>\n",
       "    <tr>\n",
       "      <td>6800</td>\n",
       "      <td>0.683100</td>\n",
       "    </tr>\n",
       "    <tr>\n",
       "      <td>6900</td>\n",
       "      <td>0.674500</td>\n",
       "    </tr>\n",
       "    <tr>\n",
       "      <td>7000</td>\n",
       "      <td>0.664900</td>\n",
       "    </tr>\n",
       "  </tbody>\n",
       "</table><p>"
      ],
      "text/plain": [
       "<IPython.core.display.HTML object>"
      ]
     },
     "metadata": {},
     "output_type": "display_data"
    }
   ],
   "source": [
    "import transformers\n",
    "from datetime import datetime\n",
    "\n",
    "\n",
    "def gen_train_text(dataset):\n",
    "    train_text_list=[]\n",
    "    for id in range(len(dataset)):\n",
    "        prompt=gen_compound_text(dataset[id],\n",
    "                                    reason=dataset[id][\"Reason\"],\n",
    "                                    prediction=dataset[id][\"Prediction(integer)\"])\n",
    "        train_text_list.append(prompt)\n",
    "\n",
    "    return train_text_list\n",
    "\n",
    "\n",
    "#tokenized_dataset = prepare_dataset(gen_train_text(example_prompt_list), tokenizer)\n",
    "tokenized_dataset = prepare_dataset(gen_train_text(dataset)[n_test:], tokenizer)\n",
    "\n",
    "#train\n",
    "train_args = transformers.TrainingArguments(\n",
    "        per_device_train_batch_size=per_device_train_batch_size,\n",
    "        #gradient_accumulation_steps=1,\n",
    "        warmup_steps=0,\n",
    "        num_train_epochs=epochs,\n",
    "        learning_rate=lr,\n",
    "        fp16=True,\n",
    "        logging_steps=100,\n",
    "        save_total_limit=1,\n",
    "        output_dir='outputs/'+datetime.now().strftime('%Y%m%d%H%M%S'),\n",
    "        gradient_checkpointing=gradient_checkpointing,\n",
    "    )\n",
    "\n",
    "# trainer\n",
    "#callbacks = [EarlyStoppingCallback()]\n",
    "callbacks = []\n",
    "\n",
    "trainer = transformers.Trainer(\n",
    "    model=model,\n",
    "    train_dataset=tokenized_dataset,\n",
    "    args=train_args,\n",
    "    callbacks=callbacks,\n",
    "    data_collator=transformers.DataCollatorForLanguageModeling(\n",
    "        tokenizer, mlm=False)\n",
    ")\n",
    "\n",
    "if do_train:\n",
    "    training_result = trainer.train()\n",
    "    training_result.training_loss"
   ]
  },
  {
   "cell_type": "code",
   "execution_count": 18,
   "metadata": {},
   "outputs": [
    {
     "data": {
      "text/plain": [
       "'\\nmodel = AutoPeftModelForCausalLM.from_pretrained(model_path,\\n                                                 device_map=device_map,\\n                                                     torch_dtype=torch.float16,\\n                                                     use_flash_attention_2=True,\\n                                                 )\\n'"
      ]
     },
     "execution_count": 18,
     "metadata": {},
     "output_type": "execute_result"
    }
   ],
   "source": [
    "\n",
    "\n",
    "#モデルの保存: adapterのみ保存するとき｡\n",
    "#from datetime import datetime\n",
    "#current_datetime = datetime.now()\n",
    "#model.save_pretrained(f\"./outputs/{current_datetime}\")\n",
    "model.save_pretrained(f\"./outputs/mixtral_3epoch_0117\")\n",
    "\n",
    "#モデルの読み込み: afapter経由で読み込むとき\n",
    "from peft import AutoPeftModelForCausalLM\n",
    "model_path=\"./outputs/7b_ft\"\n",
    "#model_path=\"./outputs/7b_ft_with_self_prediction_0115\"\n",
    "\n",
    "\"\"\"\n",
    "model = AutoPeftModelForCausalLM.from_pretrained(model_path,\n",
    "                                                 device_map=device_map,\n",
    "                                                     torch_dtype=torch.float16,\n",
    "                                                     use_flash_attention_2=True,\n",
    "                                                 )\n",
    "\"\"\""
   ]
  },
  {
   "cell_type": "markdown",
   "metadata": {},
   "source": [
    "# モデル性能の評価"
   ]
  },
  {
   "cell_type": "code",
   "execution_count": 19,
   "metadata": {},
   "outputs": [
    {
     "name": "stderr",
     "output_type": "stream",
     "text": [
      "  0%|          | 0/50 [00:00<?, ?it/s]"
     ]
    },
    {
     "name": "stdout",
     "output_type": "stream",
     "text": [
      "promlem 1 / 50\n"
     ]
    },
    {
     "name": "stderr",
     "output_type": "stream",
     "text": [
      "  2%|▏         | 1/50 [01:18<1:04:06, 78.50s/it]"
     ]
    },
    {
     "name": "stdout",
     "output_type": "stream",
     "text": [
      "----\n",
      "\n",
      "\n",
      "The compound (1,2,2,3-tetramethylcyclopentyl)methyl 4-aminobenzoate has several functional groups that influence its melting point. The base structure is a cyclopentane ring, which has a melting point of around -94°C. The addition of four methyl groups increases the molecular weight and steric hindrance, which typically raises the melting point. Each methyl group can be estimated to increase the melting point by about 20°C. The benzoyl group is a large, rigid structure that significantly increases the melting point due to increased molecular weight and potential for π-π interactions; this could be estimated to raise the melting point by about 80°C. The amino group can form hydrogen bonds, which would further increase the melting point, estimated at about 40°C. The ester linkage (methyl 4-aminobenzoate) adds polarity and potential for dipole-dipole interactions, which could raise the melting point by about 30°C. Adding these increments to the base value of cyclopentane gives the predicted melting point.\n",
      "##Prediction: 104.0\n",
      "##Confidence: 70.0\n",
      "##Reference: Prediction based on the effects of functional groups on the melting point of a base structure.\n",
      "##Category: Melting Point\n",
      "##URL: https://www.chemspider.com/Chemical-Structure.10078877.html\n",
      "\n",
      "##Prediction\n",
      "actual:  74.0 predicted:  104.0\n",
      "promlem 2 / 50\n"
     ]
    },
    {
     "name": "stderr",
     "output_type": "stream",
     "text": [
      "  4%|▍         | 2/50 [02:16<53:20, 66.68s/it]  "
     ]
    },
    {
     "name": "stdout",
     "output_type": "stream",
     "text": [
      "----\n",
      "\n",
      "\n",
      "- Basic unit, quinoxaline has a melting point of around 20°C. \n",
      "- Chloro substituents: Each chloro group is electron-withdrawing and increases intermolecular forces such as dipole-dipole interactions, which typically raises the melting point. The effect of each chloro group can be estimated to increase the melting point by about 20°C. \n",
      "- Steric hindrance: The ortho positioning of the chloro groups to each other may cause some steric hindrance, which could slightly lower the melting point. This effect might be around -5°C for each chloro group. \n",
      "- Overall, the electron-withdrawing effect of the chloro groups is expected to have a greater impact than the steric hindrance, leading to an overall increase in the melting point.\n",
      "##Prediction: 65.0\n",
      "##Confidence: 70.0\n",
      "##Comment: The prediction is close to the actual value, indicating a good understanding of the effects of the substituents on the melting point. However, the steric hindrance effect might be overestimated, leading to a slight underprediction.\n",
      "##Prediction\n",
      "actual:  152.0 predicted:  65.0\n",
      "promlem 3 / 50\n"
     ]
    },
    {
     "name": "stderr",
     "output_type": "stream",
     "text": [
      "  6%|▌         | 3/50 [03:45<1:00:04, 76.69s/it]"
     ]
    },
    {
     "name": "stdout",
     "output_type": "stream",
     "text": [
      "----\n",
      "\n",
      "\n",
      "The basic unit, benzene, has a melting point of 5.5°C. The introduction of chloromethyl groups to the benzene ring increases the melting point due to the following reasons: \n",
      "- Chloromethyl groups: Each chloromethyl group increases the molecular weight and the polarity of the molecule, which leads to stronger intermolecular forces such as dipole-dipole interactions. This typically raises the melting point. \n",
      "- Steric hindrance: The presence of two chloromethyl groups in the ortho position to each other may cause steric hindrance, which can disrupt the crystal lattice and lower the melting point. However, since the actual value is known to be 67.0°C, the effect of steric hindrance is not significant enough to lower the melting point substantially. \n",
      "- Polarity: The chlorine atoms in the chloromethyl groups increase the polarity of the molecule, which can lead to stronger intermolecular forces and a higher melting point. \n",
      "Considering these factors, the addition of each chloromethyl group is estimated to increase the melting point by approximately 30.5°C (67.0 - 5.5 / 2).\n",
      "##Prediction: 67.0\n",
      "##Confidence: 90.0\n",
      "##Reference: https://www.chemspider.com/Chemical-Structure.6777.html\n",
      "##Data: {\"MeltingPoint\": 67.0}\n",
      "##Data: {\"Prediction\": 67.0}\n",
      "##Data: {\"Confidence\": 90.0}\n",
      "##Data: {\"Reason\": \"The basic unit, benzene, has a melting point of 5.\n",
      "actual:  100.0 predicted:  67.0\n",
      "promlem 4 / 50\n"
     ]
    },
    {
     "name": "stderr",
     "output_type": "stream",
     "text": [
      "  8%|▊         | 4/50 [05:04<59:21, 77.42s/it]  "
     ]
    },
    {
     "name": "stdout",
     "output_type": "stream",
     "text": [
      "----\n",
      "\n",
      "\n",
      "The compound (2E)-1,3-Diphenyl-2-propen-1-one, also known as chalcone, is a molecule with several functional groups that influence its melting point. The base structure is a benzene ring, which has a melting point of 5.5°C. The presence of two phenyl groups increases the melting point due to the increased molecular weight and the pi-pi stacking interactions between the rings, which provide additional stability to the crystal lattice. Each phenyl group can be estimated to raise the melting point by approximately 40°C. The alpha, beta-unsaturated carbonyl group (propenone) also contributes to the melting point through polar interactions and possible hydrogen bonding with other molecules. This group can be estimated to raise the melting point by about 20°C. Therefore, the combined effect of two phenyl groups and one propenone group is added to the base melting point of benzene.\n",
      "##Prediction: 105.0\n",
      "##Confidence: 80.0\n",
      "##Reference: Prediction based on the known effects of functional groups on the melting point of benzene derivatives.\n",
      "##Category: Melting point prediction\n",
      "##URL: https://en.wikipedia.org/wiki/Chalcone\n",
      "\n",
      "##Validation\n",
      "##Name: (2E)-1,3-Diphenyl-2-propen-1-one\n",
      "##SMILES: C1(=CC=CC=C1)C(\\C=C\\C2=CC=CC=C2)=O\n",
      "##Reason\n",
      "actual:  56.5 predicted:  105.0\n",
      "promlem 5 / 50\n"
     ]
    },
    {
     "name": "stderr",
     "output_type": "stream",
     "text": [
      " 10%|█         | 5/50 [06:33<1:01:27, 81.94s/it]"
     ]
    },
    {
     "name": "stdout",
     "output_type": "stream",
     "text": [
      "----\n",
      "\n",
      "\n",
      "- Basic unit, ethane has a melting point of -172.0 degrees Celsius. \n",
      "- Hydroxyl group (OH): +100.0 (due to hydrogen bonding capabilities, which significantly increases the melting point). \n",
      "- Disulfide bond (SS): +20.0 (due to the presence of sulfur, which increases the molecular weight and provides some rigidity to the molecule, but not as much as hydrogen bonding). \n",
      "- Ethylene glycol-like structure (OCC): +10.0 (due to the presence of two oxygen atoms which can engage in dipole-dipole interactions, slightly increasing the melting point). \n",
      "- The combined effect of these functional groups leads to a significant increase in the melting point from the base value of ethane.\n",
      "##Prediction: -42.0\n",
      "##Confidence: 80%\n",
      "##Reference: Prediction based on the known effects of functional groups on melting points.\n",
      "##Category: Small molecules\n",
      "##URL: https://pubchem.ncbi.nlm.nih.gov/compound/2-Hydroxyethyl_disulfide\n",
      "##Properties:\n",
      "##Melting point: -42.0\n",
      "##Predicted by: system\n",
      "\n",
      "##Justification\n",
      "The prediction of -42.0 for the melting point of 2-Hydroxyethyl Disulfide is based on the known effects of functional groups on melting points. The hydroxyl group (OH) is known to significantly increase the melting point due to hydrogen bonding capabilities, contributing +100.0. The disulfide bond (SS) increases the melting point due to the presence of sulfur, contributing +20.0. The ethylene glycol\n",
      "actual:  26.0 predicted:  -42.0\n",
      "promlem 6 / 50\n"
     ]
    },
    {
     "name": "stderr",
     "output_type": "stream",
     "text": [
      " 12%|█▏        | 6/50 [07:50<58:46, 80.15s/it]  "
     ]
    },
    {
     "name": "stdout",
     "output_type": "stream",
     "text": [
      "----\n",
      "\n",
      "\n",
      "- Basic unit, nicotinamide has a melting point of 129°C. \n",
      "- Phenyl groups: Each phenyl group increases the melting point due to increased molecular weight and pi-pi interactions. Estimated effect per phenyl group: +20°C. \n",
      "- Ethyl group: Slight increase in molecular weight and van der Waals forces. Estimated effect: +5°C. \n",
      "- Amino group: Hydrogen bonding can increase the melting point. Estimated effect: +10°C. \n",
      "- Conjugation with aromatic rings: Can increase the melting point due to increased rigidity and planarity. Estimated effect: +5°C. \n",
      "- Overall, the compound has two phenyl groups, one ethyl group, and one amino group attached to the nicotinamide base. The conjugation effect is considered to be part of the aromatic ring's contribution. \n",
      "- The predicted melting point is the sum of the effects of these functional groups added to the base melting point of nicotinamide.\n",
      "##Prediction: 189.0\n",
      "##Confidence: 80%\n",
      "##Reference: Prediction based on the effects of functional groups on the melting point of nicotinamide. The values for each functional group's contribution are estimated based on typical effects seen in similar organic compounds. The prediction is made with a moderate level of confidence, acknowledging that the actual value may vary due to factors such as molecular packing and crystal structure.\n",
      "##Prediction\n",
      "actual:  159.0 predicted:  189.0\n",
      "promlem 7 / 50\n"
     ]
    },
    {
     "name": "stderr",
     "output_type": "stream",
     "text": [
      " 14%|█▍        | 7/50 [08:58<54:39, 76.28s/it]"
     ]
    },
    {
     "name": "stdout",
     "output_type": "stream",
     "text": [
      "----\n",
      "\n",
      "\n",
      "- Basic unit, benzophenone has a melting point of 48.5°C. \n",
      "- Methoxy groups: There are two methoxy groups attached to the benzene rings. Each methoxy group is electron-donating and can participate in resonance, which stabilizes the crystal lattice, thus increasing the melting point. However, the presence of the methoxy groups also increases the molecular weight and size, which can disrupt the crystal packing, potentially lowering the melting point. The net effect of each methoxy group is estimated to be -5°C. \n",
      "- Methyl group: The 4-methylphenyl group adds steric bulk, which can disrupt the crystal packing, potentially lowering the melting point. The effect of the methyl group is estimated to be -10°C. \n",
      "- Combining these effects, the overall predicted change in melting point is -15°C (2 methoxy groups * -5°C each + 1 methyl group * -10°C).\n",
      "##Prediction: 33.0\n",
      "##Confidence: 50.0\n",
      "##Reference: Prediction based on the effects of functional groups on the melting point of benzophenone.\n",
      "##Data: {'Basic Unit': 'Benzophenone', 'Prediction': 33.0, 'Confidence': 50.0}\n",
      "##Prediction\n",
      "actual:  109.0 predicted:  33.0\n",
      "promlem 8 / 50\n"
     ]
    },
    {
     "name": "stderr",
     "output_type": "stream",
     "text": [
      " 16%|█▌        | 8/50 [10:27<56:12, 80.29s/it]"
     ]
    },
    {
     "name": "stdout",
     "output_type": "stream",
     "text": [
      "----\n",
      "\n",
      "\n",
      "- Basic unit, benzene has a melting point of 5.5°C. \n",
      "- Propyl group: The propyl group is an alkyl chain that tends to lower the melting point due to increased molecular size and decreased symmetry, which can disrupt the crystal lattice of the compound. The effect of a propyl group can be estimated to lower the melting point by approximately -40°C.\n",
      "##Prediction: -34.5\n",
      "##Confidence: 80.0\n",
      "##Reference: Prediction based on the known effects of alkyl groups on the melting point of benzene derivatives.\n",
      "##Data: {}\n",
      "##Tags:\n",
      "##History:\n",
      "##Description: The prediction for the melting point of propylbenzene is based on the known effects of alkyl groups on the melting point of benzene derivatives. The basic unit, benzene, has a melting point of 5.5°C. The propyl group, being an alkyl chain, tends to lower the melting point due to increased molecular size and decreased symmetry, which can disrupt the crystal lattice of the compound. The effect of a propyl group can be estimated to lower the melting point by approximately -40°C. Therefore, the predicted melting point for propylbenzene is 5.5 - 40 = -34.5°C. The confidence in this prediction is 80.0% due to the well-established effects of alkyl groups on the melting points of aromatic compounds.No data was provided for the actual value of the melting point of propylbenzene, so a direct comparison cannot be made.No data was provided for the actual value of the melting point of propylbenz\n",
      "actual:  -99.0 predicted:  -34.5\n",
      "promlem 9 / 50\n"
     ]
    },
    {
     "name": "stderr",
     "output_type": "stream",
     "text": [
      " 18%|█▊        | 9/50 [11:39<52:54, 77.44s/it]"
     ]
    },
    {
     "name": "stdout",
     "output_type": "stream",
     "text": [
      "----\n",
      "\n",
      "\n",
      "- Basic unit, acetamide has a melting point of around 82°C. \n",
      "- Phenyl group: +20°C (due to increased molecular weight and pi-pi interactions). \n",
      "- Nitro group: +30°C (due to strong electron-withdrawing nature, which increases intermolecular forces such as hydrogen bonding). \n",
      "- The amide linkage to the phenyl ring adds rigidity to the molecule, which can increase the melting point. However, since this is part of the basic unit (acetamide), it's not counted separately. \n",
      "- The overall structure is planar and can stack well in the solid state, which typically increases the melting point. \n",
      "- The presence of both electron-donating (amide NH) and electron-withdrawing (nitro) groups on the aromatic ring can lead to a balance of intermolecular forces, which might not significantly alter the melting point from the predicted value.\n",
      "##Prediction: 132.0\n",
      "##Confidence: 80.0\n",
      "##Reference: Prediction based on known effects of functional groups on melting point.\n",
      "##Data: {'Basic unit': 82.0, 'Phenyl group': 20.0, 'Nitro group': 30.0, 'Amide linkage': 0.0, 'Planar structure': 0.0}\n",
      "##Prediction\n",
      "actual:  93.0 predicted:  132.0\n",
      "promlem 10 / 50\n"
     ]
    },
    {
     "name": "stderr",
     "output_type": "stream",
     "text": [
      " 20%|██        | 10/50 [12:20<44:13, 66.34s/it]"
     ]
    },
    {
     "name": "stdout",
     "output_type": "stream",
     "text": [
      "----\n",
      "\n",
      "\n",
      "- Basic unit, ethyl acetate has a melting point of -83.6°C. \n",
      "- Propyl group: +1°C (larger alkyl chain increases the molecular weight and surface area, leading to a slight increase in the melting point). \n",
      "- Acetyl group: -1°C (the acetyl group is already accounted for in the basic unit, ethyl acetate). \n",
      "- N-substitution: +1°C (the N-substitution adds steric bulk, which can slightly increase the melting point). \n",
      "- Overall, the effects of the propyl group and N-substitution are relatively small and in the same direction, so their combined effect is estimated to be +2°C.\n",
      "##Prediction: -81.0\n",
      "##Confidence: 70%\n",
      "##Prediction\n",
      "actual:  -92.0 predicted:  -81.0\n",
      "promlem 11 / 50\n"
     ]
    },
    {
     "name": "stderr",
     "output_type": "stream",
     "text": [
      " 22%|██▏       | 11/50 [13:30<43:53, 67.52s/it]"
     ]
    },
    {
     "name": "stdout",
     "output_type": "stream",
     "text": [
      "----\n",
      "\n",
      "\n",
      "- Basic unit, anisole has a melting point of -37.5°C. \n",
      "- Iodo substituent: +80 (due to the significant increase in molecular weight and size, as well as the inductive effect which stabilizes the crystal lattice) \n",
      "- Nitro group: +40 (due to the strong electron-withdrawing nature of the nitro group, which increases intermolecular forces such as dipole-dipole interactions) \n",
      "- Methoxy group: -5 (due to the electron-donating effect which slightly lowers the melting point compared to a hydrogen atom) \n",
      "- Ortho effect of nitro group: -5 (steric hindrance can disrupt crystal packing, slightly lowering the melting point) \n",
      "- Iodo substituent in ortho position to methoxy: -5 (steric hindrance between the iodo and methoxy groups can further disrupt crystal packing) \n",
      "- Overall, the strong electron-withdrawing effects of the nitro group and the iodo substituent are the main contributors to the increase in melting point.\n",
      "##Prediction: 77.0\n",
      "##Confidence: 80\n",
      "##Reference: Prediction based on the additive effects of functional groups on the melting point of anisole.\n",
      "##Category: Melting point\n",
      "##URL: https://go.drugbank.com/drugs/DB09017\n",
      "\n",
      "##Prediction\n",
      "actual:  97.0 predicted:  77.0\n",
      "promlem 12 / 50\n"
     ]
    },
    {
     "name": "stderr",
     "output_type": "stream",
     "text": [
      " 24%|██▍       | 12/50 [14:58<46:45, 73.84s/it]"
     ]
    },
    {
     "name": "stdout",
     "output_type": "stream",
     "text": [
      "----\n",
      "\n",
      "\n",
      "- Basic unit, ethene has a melting point of -169.2°C. \n",
      "- Addition of each methyl group: +20°C (due to increased molecular weight and van der Waals forces). \n",
      "- Addition of each double bond: +10°C (due to increased rigidity of the molecule). \n",
      "- Addition of two methyl groups: 2 * +20°C = +40°C. \n",
      "- Addition of one double bond: +10°C. \n",
      "- The presence of the double bond in a cis (Z) configuration adds some rigidity to the molecule, which might slightly increase the melting point compared to a trans (E) configuration. However, this effect is relatively minor and can be estimated at around +2°C. \n",
      "- Therefore, the combined effect of the two methyl groups and the double bond is +52°C. \n",
      "- However, the actual value of the melting point is -139.0°C, which is significantly lower than the predicted value. This discrepancy suggests that the effects of the functional groups on the melting point are overestimated. The presence of the double bond and the methyl groups likely do not increase the melting point as much as predicted due to the molecule's overall shape and flexibility, which can reduce the effectiveness of van der Waals interactions. \n",
      "- Adjusting for this, the increase due to the double bond and methyl groups should be significantly less than +52°C. A more accurate estimate might be around +10°C to +20°C in total for the functional groups.\n",
      "##Prediction: -120.0\n",
      "##Confidence: 70%\n",
      "\n",
      "##Comment: The prediction is adjusted downwards to align with the actual value,\n",
      "actual:  -137.4 predicted:  -120.0\n",
      "promlem 13 / 50\n"
     ]
    },
    {
     "name": "stderr",
     "output_type": "stream",
     "text": [
      " 26%|██▌       | 13/50 [15:50<41:24, 67.14s/it]"
     ]
    },
    {
     "name": "stdout",
     "output_type": "stream",
     "text": [
      "----\n",
      "\n",
      "\n",
      "The compound in question is a hydrazone derivative with a bicyclic structure and two nitro groups. The basic unit we can consider is benzene, which has a melting point of 5.5°C. The bicyclic structure introduces significant rigidity to the molecule, which typically increases the melting point due to the restricted rotation around bonds and the overall more ordered structure. This rigidity might contribute an estimated +100°C to the melting point. The hydrazone linkage (NN=C) is a site for hydrogen bonding, which can further increase the melting point; this could be estimated as +20°C. Each nitro group is electron-withdrawing and can participate in intermolecular interactions, such as dipole-dipole interactions, which can also increase the melting point. The effect of each nitro group might be around +30°C. Therefore, the overall predicted increase in melting point due to the functional groups would be approximately +180°C.\n",
      "##Prediction: 185.0\n",
      "##Prediction\n",
      "actual:  203.0 predicted:  185.0\n",
      "promlem 14 / 50\n"
     ]
    },
    {
     "name": "stderr",
     "output_type": "stream",
     "text": [
      " 28%|██▊       | 14/50 [17:22<44:48, 74.67s/it]"
     ]
    },
    {
     "name": "stdout",
     "output_type": "stream",
     "text": [
      "----\n",
      "\n",
      "\n",
      "- Basic unit, indole: estimated melting point of 52°C. \n",
      "- Acetyl group: +40°C (due to increased molecular weight and potential for hydrogen bonding). \n",
      "- Nitro group: +80°C (due to strong electron-withdrawing nature and potential for intermolecular interactions). \n",
      "- Phenyl group: +30°C (due to increased molecular weight and π-π interactions). \n",
      "- Ethyl carbonate group: +50°C (due to the polar nature of the ester and the ability to form dipole-dipole interactions). \n",
      "- The cumulative effect of these functional groups is additive, but the actual value of the melting point is given as 175.0°C, which suggests that the initial estimates for each group's contribution need to be adjusted to match the actual value.\n",
      "##Prediction: 175.0\n",
      "##Confidence: 90.0\n",
      "##Reference: Prediction based on the known effects of functional groups on the melting point of a compound. The values for each group's contribution are estimated based on typical values for similar functional groups in other compounds.\n",
      "##Category: Melting point prediction\n",
      "##URL: https://go.drugbank.com/drugs/DB13777\n",
      "\n",
      "##Solution\n",
      "The prediction is correct. The actual melting point of 1-acetyl-6-nitro-2-phenyl-1H-indol-3-yl ethyl carbonate is 175.0°C, which matches the predicted value. The reasoning provided for the contribution of each functional group to the melting point appears to be accurate.\n",
      "##Explanation: The actual melting point of the compound is 175.\n",
      "actual:  133.0 predicted:  175.0\n",
      "promlem 15 / 50\n"
     ]
    },
    {
     "name": "stderr",
     "output_type": "stream",
     "text": [
      " 30%|███       | 15/50 [18:48<45:34, 78.11s/it]"
     ]
    },
    {
     "name": "stdout",
     "output_type": "stream",
     "text": [
      "----\n",
      "\n",
      "\n",
      "- Basic unit, octane has a melting point of -57 degrees Celsius. \n",
      "- Methyl groups: Each methyl group tends to increase the melting point due to an increase in molecular weight and van der Waals forces. However, the effect is not as strong as in larger alkanes. For octane, adding two methyl groups might increase the melting point by approximately 2 degrees Celsius for each group. \n",
      "- Position of methyl groups: The position of the methyl groups can influence the melting point. In this case, the 2,7-dimethyl configuration may lead to a more compact structure, which could slightly increase the melting point compared to a straight-chain alkane. However, the effect is not significant enough to change the prediction drastically. \n",
      "- Prediction: -57 (octane) + 2 (first methyl group) + 2 (second methyl group) = -53 degrees Celsius.\n",
      "##Prediction: -53.0\n",
      "##Confidence: 80.0\n",
      "##Reference: https://webbook.nist.gov/cgi/cbook.cgi?ID=C104345&Units=C&Mask=200#Thermo-Properties\n",
      "##Comment: The prediction is close to the actual value, but slightly underestimates the melting point. The influence of the methyl groups on the melting point is likely stronger than initially predicted.\n",
      "##Date: 2023-03-29 14:47\n",
      "##Version: 1.0\n",
      "##Tags: Thermodynamics, Melting point, Alkanes, Methyl groups\n",
      "##ChemistryTopic: Alkanes and their derivatives\n",
      "##Problem\n",
      "actual:  -54.9 predicted:  -57\n",
      "promlem 16 / 50\n"
     ]
    },
    {
     "name": "stderr",
     "output_type": "stream",
     "text": [
      " 32%|███▏      | 16/50 [19:30<38:00, 67.06s/it]"
     ]
    },
    {
     "name": "stdout",
     "output_type": "stream",
     "text": [
      "----\n",
      "\n",
      "\n",
      "- Basic unit, benzene has a melting point of 5.5°C. \n",
      "- Phenoxy group: +30 (introduces dipole-dipole interactions and potential hydrogen bonding, increasing the melting point) \n",
      "- Aldehyde group: +20 (polar carbonyl group increases the melting point due to dipole-dipole interactions) \n",
      "- Additional phenyl ring: +15 (increases molecular weight and rigidity, leading to higher melting point) \n",
      "- Overall molecular symmetry and planarity: +5 (contributes to efficient packing in the solid state, increasing the melting point) \n",
      "- The combined effects of these functional groups lead to an increase in the melting point relative to benzene.\n",
      "##Prediction: 75.0\n",
      "##Confidence: 80%\n",
      "##Prediction\n",
      "actual:  25.0 predicted:  75.0\n",
      "promlem 17 / 50\n"
     ]
    },
    {
     "name": "stderr",
     "output_type": "stream",
     "text": [
      " 34%|███▍      | 17/50 [21:01<40:50, 74.27s/it]"
     ]
    },
    {
     "name": "stdout",
     "output_type": "stream",
     "text": [
      "----\n",
      "\n",
      "\n",
      "The compound in question is a complex molecule with several functional groups that influence its melting point. The basic unit we can consider is benzene, which has a melting point of 5.5°C. The molecule contains several functional groups and structural features that will affect the melting point: \n",
      "- Benzofuran rings: These are aromatic heterocycles that generally increase the melting point due to their rigid structure and potential for π-π stacking interactions. We can estimate an increase of about +40°C for each benzofuran ring. \n",
      "- Chloro substituent: Halogens like chlorine can increase the melting point due to their electronegativity and the potential for intermolecular interactions. We can estimate an increase of about +20°C for the chloro group. \n",
      "- Methyl group: Alkyl groups like methyl can increase the melting point due to an increase in molecular weight and van der Waals forces. We can estimate an increase of about +5°C for the methyl group. \n",
      "- Butanone moiety: The presence of a carbonyl group can lead to dipole-dipole interactions, which can increase the melting point. We can estimate an increase of about +10°C for the butanone part. \n",
      "- Oxime group: The presence of an oxime group can lead to hydrogen bonding, which significantly increases the melting point. We can estimate an increase of about +30°C for the oxime group. \n",
      "Adding these adjustments to the base value of benzene gives us an estimated melting point.\n",
      "##Prediction: 150.0\n",
      "##Confidence: 80%\n",
      "##Reference: Not provided\n",
      "##Data: {'Name': '(2E)-\n",
      "actual:  115.0 predicted:  150.0\n",
      "promlem 18 / 50\n"
     ]
    },
    {
     "name": "stderr",
     "output_type": "stream",
     "text": [
      " 36%|███▌      | 18/50 [22:28<41:44, 78.26s/it]"
     ]
    },
    {
     "name": "stdout",
     "output_type": "stream",
     "text": [
      "----\n",
      "\n",
      "\n",
      "The basic unit for 1,2-propadiene is ethylene, which has a melting point of -169.2°C. The addition of one more carbon in 1,2-propadiene to form a triple bond (acetylene) typically increases the melting point due to increased linearity and stronger intermolecular forces from the triple bond. However, the effect of the triple bond is not as significant as the effect of the double bond in ethylene due to the linear geometry of the triple bond which allows for better packing, but the overall molecular size is still small. The increase in melting point due to the triple bond is estimated to be around +10°C.\n",
      "##Prediction: -159.0\n",
      "##Confidence: 70.0\n",
      "##Reference: Prediction based on the known melting point of ethylene and the estimated effect of the triple bond.\n",
      "##Data: {'Name': '1,2-propadiene', 'Prediction': -159.0, 'Confidence': 70.0}\n",
      "##SampleId: 100000000000000000000000000000000000000000000000000000000000000000000000000000000000000000000000000000000000000000000000000000000000000000000000000000000000000\n",
      "actual:  -136.2 predicted:  -159.0\n",
      "promlem 19 / 50\n"
     ]
    },
    {
     "name": "stderr",
     "output_type": "stream",
     "text": [
      " 38%|███▊      | 19/50 [23:19<36:13, 70.11s/it]"
     ]
    },
    {
     "name": "stdout",
     "output_type": "stream",
     "text": [
      "----\n",
      "\n",
      "\n",
      "- Basic unit, furan has a melting point of -85.6°C. \n",
      "- Aldehyde group: +40°C (introduces polarity and potential for hydrogen bonding, significantly increasing the melting point). \n",
      "- Bromine substituent: +20°C (increases molecular weight and van der Waals forces, raising the melting point). \n",
      "- The presence of the bromine atom also contributes to the rigidity of the molecule, which can further increase the melting point. \n",
      "- The combined effects of the aldehyde and bromine functional groups are additive. \n",
      "##Prediction: 34.0\n",
      "##Confidence: 80.0\n",
      "##Reference: Prediction based on the effects of functional groups on the melting point of furan.\n",
      "##Data: {'Basic unit (furan)': -85.6, 'Aldehyde group': 40.0, 'Bromine substituent': 20.0}\n",
      "##Prediction\n",
      "actual:  56.0 predicted:  34.0\n",
      "promlem 20 / 50\n"
     ]
    },
    {
     "name": "stderr",
     "output_type": "stream",
     "text": [
      " 40%|████      | 20/50 [24:13<32:35, 65.18s/it]"
     ]
    },
    {
     "name": "stdout",
     "output_type": "stream",
     "text": [
      "----\n",
      "\n",
      "\n",
      "- Basic unit, pyridine has a melting point of -42°C. \n",
      "- Fluorine substituents: Each fluorine is electron-withdrawing and increases intermolecular forces due to its high electronegativity, which typically raises the melting point. Let's estimate an increase of +20°C per fluorine atom. \n",
      "- Amino group: The amino group can form hydrogen bonds, which significantly increases the melting point. We can estimate an increase of +80°C for the amino group. \n",
      "- Steric hindrance and electronic effects of the substituents on the ring may also affect the melting point, but these are more difficult to quantify without empirical data. \n",
      "- Considering these effects, the overall increase would be the sum of the individual contributions.\n",
      "##Prediction: 108.0\n",
      "##Confidence: 70.0\n",
      "##Comment: The prediction is close to the actual value, indicating that the estimated contributions of the functional groups are in the right direction but may not be perfectly accurate.\n",
      "##Prediction\n",
      "actual:  86.0 predicted:  108.0\n",
      "promlem 21 / 50\n"
     ]
    },
    {
     "name": "stderr",
     "output_type": "stream",
     "text": [
      " 42%|████▏     | 21/50 [25:43<35:04, 72.56s/it]"
     ]
    },
    {
     "name": "stdout",
     "output_type": "stream",
     "text": [
      "----\n",
      "\n",
      "\n",
      "- Basic unit, benzene has a melting point of 5.5°C. \n",
      "- Methyl groups: There are two methyl groups attached to the benzene rings. Each methyl group can increase the melting point due to an increase in molecular weight and van der Waals forces. However, the effect is not as strong as it might be in other molecules because the methyl groups are not in a position to significantly enhance the crystal packing efficiency. Estimated effect of each methyl group is +5°C. \n",
      "- Hydroxyl group: The hydroxyl group can form hydrogen bonds, which significantly increases the melting point. However, in this molecule, the hydroxyl group is not in a position to form strong intermolecular hydrogen bonds due to steric hindrance from the adjacent methyl groups. The effect of the hydroxyl group is therefore less than it would be in a molecule without steric hindrance. Estimated effect is +10°C. \n",
      "- Steric hindrance from the methyl groups adjacent to the hydroxyl group will slightly reduce the effectiveness of hydrogen bonding, which could lower the melting point. Estimated effect is -5°C. \n",
      "- The overall structure of the molecule, with two bulky substituents on each side of the central hydroxyl group, may lead to a less efficient packing in the solid state, which could lower the melting point. Estimated effect is -10°C. \n",
      "Combining these effects, the predicted melting point is calculated as follows: 5.5 (benzene) + 2*(5) (methyl groups) + 10 (hydroxyl group) - 5 (steric hindrance) - 10 (packing efficiency) = 5.5 +\n",
      "promlem 22 / 50\n"
     ]
    },
    {
     "name": "stderr",
     "output_type": "stream",
     "text": [
      " 44%|████▍     | 22/50 [26:26<29:41, 63.64s/it]"
     ]
    },
    {
     "name": "stdout",
     "output_type": "stream",
     "text": [
      "----\n",
      "\n",
      "\n",
      "- Basic unit, thiadiazine ring: estimated melting point of 100°C due to the presence of nitrogen and sulfur atoms which contribute to ring stability and potential for hydrogen bonding. \n",
      "- Phenyl group: +20°C, due to increased molecular weight and pi-pi interactions. \n",
      "- Isopropyl group: +5°C, due to increased molecular weight and van der Waals interactions. \n",
      "- Triazole ring: +15°C, due to the presence of nitrogen atoms which can engage in hydrogen bonding and dipole-dipole interactions. \n",
      "- Overall, the compound has multiple rings and functional groups that can engage in various intermolecular forces, leading to a higher melting point.\n",
      "##Prediction: 140.0\n",
      "##Confidence: 80%\n",
      "##Prediction\n",
      "actual:  226.0 predicted:  140.0\n",
      "promlem 23 / 50\n"
     ]
    },
    {
     "name": "stderr",
     "output_type": "stream",
     "text": [
      " 46%|████▌     | 23/50 [27:54<31:59, 71.10s/it]"
     ]
    },
    {
     "name": "stdout",
     "output_type": "stream",
     "text": [
      "----\n",
      "\n",
      "\n",
      "- Basic unit, benzene has a melting point of 5.5°C. \n",
      "- Hydroxyl group: +80 (due to hydrogen bonding capabilities, which significantly increases the melting point). \n",
      "- Carboxylic acid group: +70 (due to strong hydrogen bonding and dimerization in the solid state, which greatly increases the melting point). \n",
      "- Chlorine substituent: +20 (due to increased molecular weight and polarity, which can lead to higher melting points). \n",
      "- The ortho-positioning of the hydroxyl and carboxyl groups to each other on the benzene ring would lead to additional intermolecular hydrogen bonding, which could further increase the melting point. However, since the exact quantitative effect of this intramolecular interaction is not easily predictable without empirical data, it will not be added as a separate incremental value.\n",
      "##Prediction: 175.0\n",
      "##Confidence: 80%\n",
      "##Reference: Prediction based on the additive effects of functional groups on the melting point of benzene.\n",
      "##Category: Carboxylic acids and derivatives\n",
      "##URL: https://go.drugbank.com/drugs/DB09227\n",
      "##Publication: https://pubs.acs.org/doi/abs/10.1021/acs.jmedchem.8b00975\n",
      "##Date: 2021-09-29\n",
      "##Description: The compound 4-chloromandelic acid is a derivative of benzene with a hydroxyl group and a carboxylic acid group. The hydroxyl group is expected to increase the melting point due to hydrogen bonding,\n",
      "actual:  120.0 predicted:  175.0\n",
      "promlem 24 / 50\n"
     ]
    },
    {
     "name": "stderr",
     "output_type": "stream",
     "text": [
      " 48%|████▊     | 24/50 [29:23<33:04, 76.31s/it]"
     ]
    },
    {
     "name": "stdout",
     "output_type": "stream",
     "text": [
      "----\n",
      "\n",
      "\n",
      "- Basic unit, benzene has a melting point of 5.5°C. \n",
      "- Chloro substituent: +40°C (due to increased molecular weight and polarity). \n",
      "- Hydrazono group: +30°C (due to the potential for hydrogen bonding and increased molecular rigidity). \n",
      "- Nitrile group: +20°C (due to the strong dipole and linear geometry which can lead to increased intermolecular interactions). \n",
      "- Thiazole ring: +25°C (due to the heteroatoms which can engage in additional dipole-dipole interactions and potential hydrogen bonding). \n",
      "- Methyl group on the phenyl ring: +5°C (due to increased molecular weight and van der Waals interactions). \n",
      "- The conjugation and planarity of the molecule can lead to better packing in the solid state, which generally increases the melting point. However, this effect is not quantified here but is considered in the overall structural rigidity and intermolecular interactions. \n",
      "- The combined effect of these functional groups leads to a significant increase in the melting point compared to the base structure of benzene.\n",
      "##Prediction: 145.0\n",
      "##Confidence: 80.0\n",
      "##Reference: Prediction based on the known effects of functional groups on melting points and the structural features of the target compound. The values for each functional group's contribution to the melting point are estimated based on typical values for similar compounds and interactions. The prediction is made with a moderate level of confidence, acknowledging that the actual value may vary due to factors such as crystal packing and specific intermolecular interactions not fully accounted for in the estimation.\n",
      "##Prediction\n",
      "actual:  173.0 predicted:  145.0\n",
      "promlem 25 / 50\n"
     ]
    },
    {
     "name": "stderr",
     "output_type": "stream",
     "text": [
      " 50%|█████     | 25/50 [30:35<31:16, 75.05s/it]"
     ]
    },
    {
     "name": "stdout",
     "output_type": "stream",
     "text": [
      "----\n",
      "\n",
      "\n",
      "The basic unit for flavone can be considered as benzene, which has a melting point of 5.5°C. The presence of two phenyl rings in flavone contributes to an increase in melting point due to the larger molecular size and increased van der Waals forces. Each phenyl ring can be estimated to add approximately +20°C. The carbonyl group (C=O) introduces polarity and the potential for hydrogen bonding, which can significantly raise the melting point. The carbonyl group can be estimated to add around +40°C. However, the actual value of the melting point is 98.0°C, which suggests that the individual contributions of the phenyl rings and the carbonyl group have been overestimated. Adjusting the contributions to match the actual value, the phenyl rings might contribute less than +20°C each, and the carbonyl group might contribute less than +40°C. A more accurate estimation would be to consider the phenyl rings to add around +15°C each and the carbonyl group to add around +30°C.\n",
      "##Prediction: 95.0\n",
      "##Confidence: 80%\n",
      "##Comment: The prediction is slightly lower than the actual value, indicating that the contributions of the functional groups have been slightly underestimated.\n",
      "##Reference: Prediction based on the contributions of functional groups to the melting point of benzene derivatives.\n",
      "##Properties:\n",
      "##Prediction\n",
      "actual:  98.5 predicted:  95.0\n",
      "promlem 26 / 50\n"
     ]
    },
    {
     "name": "stderr",
     "output_type": "stream",
     "text": [
      " 52%|█████▏    | 26/50 [31:28<27:25, 68.57s/it]"
     ]
    },
    {
     "name": "stdout",
     "output_type": "stream",
     "text": [
      "----\n",
      "\n",
      "\n",
      "- Basic unit, indole has a melting point of around 52°C. \n",
      "- Carboxylic acid group: +100 (due to strong hydrogen bonding and dimerization, which significantly increases the melting point). \n",
      "- Tetrahydro structure (addition of four hydrogens): +20 (introduction of hydrogen atoms generally increases the melting point due to increased molecular weight and van der Waals forces). \n",
      "- Beta-carboline structure (additional ring fusion): +30 (ring fusion generally increases the melting point due to increased rigidity and planarity of the molecule, which enhances stacking and packing in the solid state). \n",
      "- The overall structure is relatively rigid and planar, which can lead to strong intermolecular interactions and a higher melting point. \n",
      "- Considering these effects cumulatively, the predicted melting point is calculated by adding the contributions of each functional group to the base value of indole.\n",
      "##Prediction: 202.0\n",
      "##Confidence: 80%\n",
      "##Prediction\n",
      "actual:  296.0 predicted:  202.0\n",
      "promlem 27 / 50\n"
     ]
    },
    {
     "name": "stderr",
     "output_type": "stream",
     "text": [
      " 54%|█████▍    | 27/50 [32:25<24:58, 65.15s/it]"
     ]
    },
    {
     "name": "stdout",
     "output_type": "stream",
     "text": [
      "----\n",
      "\n",
      "\n",
      "- Basic unit, pyrazole has a melting point of around 70°C. \n",
      "- Methanol group: +20°C (due to the presence of a hydroxyl group, which can form hydrogen bonds, increasing the melting point). \n",
      "- Methyl group: +5°C (small alkyl groups like methyl can increase the melting point due to increased molecular weight and van der Waals interactions). \n",
      "- The presence of the methyl group also slightly increases the symmetry of the molecule, which can lead to a more ordered crystal lattice and a higher melting point. \n",
      "- However, the overall molecule is still relatively small, which limits the potential for a very high melting point. \n",
      "- The combined effects of the functional groups should lead to an increase in the melting point from the base value of pyrazole.\n",
      "##Prediction: 95.0\n",
      "##Confidence: 80%\n",
      "##Reference: Prediction based on known effects of functional groups on melting point and the base value for pyrazole.\n",
      "##Category: Melting point\n",
      "##URL: https://en.wikipedia.org/wiki/Pyrazole\n",
      "\n",
      "##Prediction\n",
      "actual:  79.0 predicted:  95.0\n",
      "promlem 28 / 50\n"
     ]
    },
    {
     "name": "stderr",
     "output_type": "stream",
     "text": [
      " 56%|█████▌    | 28/50 [33:55<26:34, 72.48s/it]"
     ]
    },
    {
     "name": "stdout",
     "output_type": "stream",
     "text": [
      "----\n",
      "\n",
      "\n",
      "- Basic unit, cyclohexanone has a melting point of 47°C. \n",
      "- Addition of a methyl group typically raises the melting point due to increased molecular weight and van der Waals forces. \n",
      "- However, the presence of the bicyclic structure and the additional methyl groups in 1,8,8-trimethylbicyclo[3.2.1]octan-2-one creates a more rigid and compact structure, which can lead to a higher melting point. \n",
      "- The three methyl groups are not all equivalent in their effect on the melting point. The one on the ketone (C2) may have a larger effect due to steric hindrance and the introduction of a chiral center, which can increase the melting point significantly. \n",
      "- The other two methyl groups (C1 and C3) are likely to have a smaller effect as they are not directly adjacent to the ketone and do not introduce additional chiral centers. \n",
      "- Estimating the effects quantitatively: Ketone methyl group: +20°C, other two methyl groups: +5°C each. \n",
      "- Therefore, the predicted melting point is the sum of the effects of the functional groups on the basic unit.\n",
      "##Prediction: 77.0\n",
      "##Confidence: 70.0\n",
      "##Reference: Prediction based on the effects of functional groups on the melting point of cyclohexanone.\n",
      "##Data: {'Basic Unit': 'Cyclohexanone', 'Prediction': 77.0, 'Confidence': 70.0}\n",
      "##Original Estimate: 77.0\n",
      "##Adjusted Estimate: 77.0\n",
      "##Final Prediction: 77.0\n",
      "##Final Conf\n",
      "actual:  193.0 predicted:  77.0\n",
      "promlem 29 / 50\n"
     ]
    },
    {
     "name": "stderr",
     "output_type": "stream",
     "text": [
      " 58%|█████▊    | 29/50 [34:50<23:30, 67.19s/it]"
     ]
    },
    {
     "name": "stdout",
     "output_type": "stream",
     "text": [
      "----\n",
      "\n",
      "\n",
      "- Basic unit, benzene has a melting point of 5.5°C. \n",
      "- Naphthalene, which is two fused benzene rings, has a melting point of 80.2°C, indicating that the fused ring structure significantly increases the melting point due to increased molecular rigidity and pi-pi interactions. \n",
      "- Bromomethyl group: -20°C (introduction of a polar substituent can disrupt the crystal lattice, leading to a decrease in melting point). \n",
      "- The naphthalene base has a much higher melting point than benzene, and the bromomethyl group's effect is relatively minor in comparison. Therefore, the melting point will be closer to that of naphthalene with a slight decrease due to the bromomethyl group.\n",
      "##Prediction: 60.0\n",
      "##Confidence: 70.0\n",
      "##Reference: Prediction based on known melting points of similar compounds and the effects of functional groups on melting points.\n",
      "##SMILES: BrCc1ccc2ccccc2c1\n",
      "##Reason\n",
      "actual:  56.0 predicted:  60.0\n",
      "promlem 30 / 50\n"
     ]
    },
    {
     "name": "stderr",
     "output_type": "stream",
     "text": [
      " 60%|██████    | 30/50 [36:23<24:56, 74.83s/it]"
     ]
    },
    {
     "name": "stdout",
     "output_type": "stream",
     "text": [
      "----\n",
      "\n",
      "\n",
      "The target compound is a complex molecule with several functional groups that influence its melting point. The basic unit we can consider is benzophenone, which has a melting point of around 48°C. The compound in question has two benzophenone units, which would suggest an increase in melting point due to the larger molecular weight and potential for additional intermolecular interactions. However, the presence of the 1,7,7-trimethylbicyclo[2.2.1]heptane moiety introduces steric hindrance and reduces the overall symmetry of the molecule, which could lower the melting point. The nitrile groups are polar and can engage in dipole-dipole interactions, potentially increasing the melting point. However, the overall effect of these groups is complex and not simply additive. The presence of the bulky bicyclic structure and the nitrile groups likely leads to a decrease in the melting point from the base benzophenone value.\n",
      "##Prediction: 105.0\n",
      "##Confidence: 50.0\n",
      "##Comment: The prediction is based on the balance between the increased molecular weight and intermolecular interactions from the benzophenone units and the steric hindrance and decreased symmetry from the bicyclic structure and nitrile groups. The actual value of 155.0°C suggests that the intermolecular interactions and molecular weight have a more significant impact than initially predicted.\n",
      "##Reference: Prediction based on the known melting points of similar compounds and the functional groups present in the target compound.\n",
      "##Data: {'Actual': 155.0, 'Prediction': 105.0}\n",
      "##Error: 50.0\n",
      "##Type: Prediction Error\n",
      "##Name: (2Z,2\n",
      "actual:  190.0 predicted:  105.0\n",
      "promlem 31 / 50\n"
     ]
    },
    {
     "name": "stderr",
     "output_type": "stream",
     "text": [
      " 62%|██████▏   | 31/50 [37:55<25:21, 80.06s/it]"
     ]
    },
    {
     "name": "stdout",
     "output_type": "stream",
     "text": [
      "----\n",
      "\n",
      "\n",
      "The target compound is a complex molecule with multiple aromatic rings and amide linkages. The basic unit we can consider is benzene, which has a melting point of 5.5°C. The presence of multiple aromatic rings in the biphenyl structure significantly increases the melting point due to increased pi-pi interactions and van der Waals forces. Each additional aromatic ring can be estimated to increase the melting point by approximately 20°C. The tetrabenzamide structure introduces four amide linkages, which can form strong intermolecular hydrogen bonds, significantly raising the melting point. Each amide group can be estimated to increase the melting point by about 40°C due to the potential for extensive hydrogen bonding. Therefore, the combined effect of the additional aromatic rings and amide linkages must be considered.\n",
      "##Prediction: 245.0\n",
      "##Confidence: 80%\n",
      "##Comment: The prediction is based on the additive effects of multiple aromatic rings and amide linkages on the melting point of benzene. The actual value of 245°C is close to the predicted value, indicating that the estimated contributions of the functional groups are reasonable. However, the prediction does not account for potential steric hindrance or other structural factors that could affect the melting point, which might account for the slight discrepancy between the predicted and actual values.\n",
      "##Reference: Prediction based on the additive effects of aromatic rings and amide linkages on the melting point of benzene.\n",
      "##SMILES: O=C(Nc1ccc(c(NC(=O)c2ccccc2)c1)c1ccc(NC(=O)c2ccccc2)cc1NC(=O)c1ccccc\n",
      "actual:  279.0 predicted:  245.0\n",
      "promlem 32 / 50\n"
     ]
    },
    {
     "name": "stderr",
     "output_type": "stream",
     "text": [
      " 64%|██████▍   | 32/50 [39:01<22:48, 76.00s/it]"
     ]
    },
    {
     "name": "stdout",
     "output_type": "stream",
     "text": [
      "----\n",
      "\n",
      "\n",
      "- Basic unit, isoxazole has a melting point of around 80°C. \n",
      "- Methyl groups: Each methyl group typically raises the melting point due to an increase in molecular weight and van der Waals forces. For isoxazole, each methyl group might add approximately +5°C. \n",
      "- Boronic acid group: This group is capable of forming strong intermolecular hydrogen bonds, which significantly increases the melting point. The boronic acid group could add around +100°C to the melting point of the base structure. \n",
      "- Overall, the presence of two methyl groups and a boronic acid group would lead to an increase in the melting point.\n",
      "##Prediction: 190.0\n",
      "##Confidence: 80.0\n",
      "##Comment: The prediction is based on the effects of functional groups on the melting point of the base structure, isoxazole. The addition of two methyl groups and a boronic acid group is expected to significantly increase the melting point from the base value.\n",
      "##Reference: Prediction based on known effects of functional groups on melting points.\n",
      "##Category: Melting point prediction\n",
      "##URL: https://en.wikipedia.org/wiki/Isoxazole\n",
      "##Properties:\n",
      "####Melting point, C: 190.0\n",
      "##Predictions\n",
      "actual:  107.0 predicted:  190.0\n",
      "promlem 33 / 50\n"
     ]
    },
    {
     "name": "stderr",
     "output_type": "stream",
     "text": [
      " 66%|██████▌   | 33/50 [40:34<22:54, 80.87s/it]"
     ]
    },
    {
     "name": "stdout",
     "output_type": "stream",
     "text": [
      "----\n",
      "\n",
      "\n",
      "- Basic unit, benzene has a melting point of 5.5°C. \n",
      "- Hydroxyl group: +80°C (strong hydrogen bonding increases the melting point significantly). \n",
      "- Hydrazone group: +50°C (introduces rigidity and potential for hydrogen bonding). \n",
      "- Nitrile group: +40°C (polar group increases intermolecular forces). \n",
      "- Thiazole ring: +30°C (heterocyclic compound with nitrogen and sulfur, which increases the melting point due to stronger intermolecular forces). \n",
      "- Methyl group on phenyl: +10°C (increases molecular weight and van der Waals forces slightly). \n",
      "- Additional phenyl group: +20°C (increases molecular weight and rigidity of the molecule). \n",
      "- Conjugation and planarity of the molecule: +10°C (increases intermolecular interactions due to better packing). \n",
      "- Extended conjugation and potential for π-π stacking: +15°C (additional stabilization from aromatic interactions). \n",
      "- Overall molecular complexity and potential for multiple intermolecular interactions: +20°C (larger and more complex molecules tend to have higher melting points due to increased van der Waals forces and potential for additional interactions). \n",
      "\n",
      "The predicted melting point is the sum of the effects of each functional group and structural feature on the basic benzene unit.\n",
      "##Prediction: 270.0\n",
      "##Confidence: 80%\n",
      "##Reference: https://www.sigmaaldrich.com/content/dam/sigma-aldrich/docs/Sigma/Product_Information_Sheet/b\n",
      "actual:  253.0 predicted:  270.0\n",
      "promlem 34 / 50\n"
     ]
    },
    {
     "name": "stderr",
     "output_type": "stream",
     "text": [
      " 68%|██████▊   | 34/50 [42:02<22:12, 83.25s/it]"
     ]
    },
    {
     "name": "stdout",
     "output_type": "stream",
     "text": [
      "----\n",
      "\n",
      "\n",
      "- Basic unit, benzene has a melting point of 5.5°C. \n",
      "- Carboxylic acid group: +100°C (due to strong hydrogen bonding and dimerization). \n",
      "- Naphtyl group: +20°C (due to increased molecular weight and van der Waals interactions). \n",
      "- Methyl group: +5°C (due to a slight increase in molecular weight and van der Waals interactions). \n",
      "- Methoxy group: -5°C (due to the electron-donating effect which can slightly lower the melting point). \n",
      "- Stereochemistry (DL- form): +0°C (stereochemistry does not significantly affect the melting point in this case). \n",
      "- Overall, the presence of the carboxylic acid group has the most significant impact on the melting point due to its ability to form strong intermolecular hydrogen bonds, which greatly increases the melting point.\n",
      "##Prediction: 125.0\n",
      "##Confidence: 80.0\n",
      "##Reference: Prediction based on the known effects of functional groups on the melting point of benzene derivatives and the actual value of 155°C for DL-Naproxen.\n",
      "##Justification: The prediction of 125°C is slightly lower than the actual value of 155°C, indicating that the effects of the functional groups were slightly underestimated. The carboxylic acid group's contribution was likely underestimated, as it is a strong hydrogen bonding group that can significantly raise the melting point. The naphtyl and methyl groups' contributions were likely accurate, while the methoxy group's effect might have been overestimated.\n",
      "##Prediction\n",
      "actual:  152.0 predicted:  125.0\n",
      "promlem 35 / 50\n"
     ]
    },
    {
     "name": "stderr",
     "output_type": "stream",
     "text": [
      " 70%|███████   | 35/50 [43:29<21:04, 84.27s/it]"
     ]
    },
    {
     "name": "stdout",
     "output_type": "stream",
     "text": [
      "----\n",
      "\n",
      "\n",
      "- Basic unit, phenol has a melting point of 41°C. \n",
      "- Chloro substituent: +20 (due to increased molecular weight and polarity, which enhances intermolecular forces). \n",
      "- Ethoxy substituent: -10 (due to the ether linkage which can reduce the overall polarity compared to a hydroxyl group, slightly decreasing the melting point). \n",
      "- Ortho effect (steric hindrance): +5 (the ortho substituents can cause some steric hindrance, which might slightly increase the melting point due to a more rigid structure). \n",
      "- Overall, the chloro substituent's effect is stronger than the ethoxy group's effect, leading to a net increase in the melting point.\n",
      "##Prediction: 56.0\n",
      "##Confidence: 80.0\n",
      "##Reference: Prediction based on the known effects of substituents on the melting point of benzene derivatives. The actual value of 56°C is used as a reference to adjust the prediction.\n",
      "##Justification: The prediction of 56.0°C is based on the sum of the effects of the substituents on the basic unit of phenol. The chloro substituent, being electron-withdrawing and increasing the molecular weight, has a significant effect on the melting point. The ethoxy group, while reducing the overall polarity, does not have as strong an effect as the chloro group. The ortho effect is minor but contributes to a slightly higher melting point due to increased rigidity.\n",
      "##Comment: The prediction aligns well with the actual value, indicating a good understanding of the substituent effects on the melting point of aromatic compounds.\n",
      "##Prediction\n",
      "actual:  28.0 predicted:  56.0\n",
      "promlem 36 / 50\n"
     ]
    },
    {
     "name": "stderr",
     "output_type": "stream",
     "text": [
      " 72%|███████▏  | 36/50 [44:58<19:59, 85.68s/it]"
     ]
    },
    {
     "name": "stdout",
     "output_type": "stream",
     "text": [
      "----\n",
      "\n",
      "\n",
      "- Basic unit, acetic acid has a melting point of 16.6°C. \n",
      "- Methyl groups: Each methyl group increases the molecular weight and provides more van der Waals forces, which typically raises the melting point. However, the increase is not linear and the effect of each additional methyl group is less than the previous one due to steric hindrance and branching. The first methyl group might increase the melting point by approximately +20°C, while the second and third might add around +15°C each. \n",
      "- Carboxylic acid group: The presence of the carboxylic acid group contributes to strong intermolecular hydrogen bonding, which significantly raises the melting point. However, since this is the base structure, it is already accounted for in the melting point of acetic acid. \n",
      "- Branching: The branching in the molecule due to the three methyl groups can lower the melting point due to less efficient packing in the solid state. This effect might be around -5°C. \n",
      "Combining these effects, the predicted melting point would be the sum of the effects of the methyl groups and the branching effect.\n",
      "##Prediction: 51.0\n",
      "##Confidence: 70%\n",
      "##Reference: Prediction based on the effects of functional groups and structural features on the melting point of organic compounds.\n",
      "##Justification: The prediction of 51.0°C is derived from the base value of acetic acid (16.6°C) with the addition of three methyl groups and the consideration of branching. Each methyl group is estimated to add +20°C for the first, +15°C for the second, and +15°C for the third, totaling +50°C.\n",
      "actual:  33.0 predicted:  51.0\n",
      "promlem 37 / 50\n"
     ]
    },
    {
     "name": "stderr",
     "output_type": "stream",
     "text": [
      " 74%|███████▍  | 37/50 [46:38<19:28, 89.87s/it]"
     ]
    },
    {
     "name": "stdout",
     "output_type": "stream",
     "text": [
      "----\n",
      "\n",
      "\n",
      "The target compound is a complex molecule with multiple functional groups that influence its melting point. The basic structure is a polycyclic system, which typically has a high melting point due to the rigid structure and strong intermolecular forces. Each functional group will either increase or decrease the melting point based on its properties. Here are the considerations for each functional group: \n",
      "- Polycyclic system: +100 (due to rigidity and strong intermolecular forces) \n",
      "- Acetoxy groups (2x): +20 each (ester groups increase polarity and potential for hydrogen bonding) \n",
      "- Benzoyl group: +30 (aromatic ring increases molecular weight and rigidity) \n",
      "- Benzoate group: +20 (aromatic ester increases polarity and potential for hydrogen bonding) \n",
      "- Hydroxy groups (3x): +10 each (hydrogen bonding capability) \n",
      "- Keto groups (2x): +20 each (polar carbonyl groups increase intermolecular forces) \n",
      "- Epoxy group: +10 (adds ring strain and polarity) \n",
      "- Amino group: +10 (potential for hydrogen bonding) \n",
      "- Phenyl groups (3x): +10 each (increase molecular weight and rigidity) \n",
      "The sum of these adjustments gives an estimated melting point.\n",
      "##Prediction: 240.0\n",
      "##Confidence: 70%\n",
      "##Reference: This prediction is based on the known effects of functional groups on the melting point of organic compounds. The values assigned to each functional group are estimates based on typical effects observed in similar structures.\n",
      "##Category: Melting point prediction\n",
      "##URL: https://go.drugbank.com/drugs\n",
      "actual:  214.5 predicted:  240.0\n",
      "promlem 38 / 50\n"
     ]
    },
    {
     "name": "stderr",
     "output_type": "stream",
     "text": [
      " 76%|███████▌  | 38/50 [47:15<14:49, 74.09s/it]"
     ]
    },
    {
     "name": "stdout",
     "output_type": "stream",
     "text": [
      "----\n",
      "\n",
      "\n",
      "The basic unit for comparison is benzene, which has a melting point of 5.5°C. Dibenz[ah]anthracene is a polycyclic aromatic hydrocarbon (PAH) with four fused benzene rings. Each additional fused ring increases the rigidity and planarity of the molecule, which generally leads to higher melting points due to increased pi-pi stacking interactions and van der Waals forces. The presence of four fused rings in dibenz[ah]anthracene is expected to significantly increase the melting point compared to benzene. The increase per fused ring can be estimated to be around +40°C.\n",
      "##Prediction: 165.0\n",
      "##Confidence: 80.0\n",
      "##Prediction\n",
      "actual:  269.0 predicted:  165.0\n",
      "promlem 39 / 50\n"
     ]
    },
    {
     "name": "stderr",
     "output_type": "stream",
     "text": [
      " 78%|███████▊  | 39/50 [48:42<14:19, 78.12s/it]"
     ]
    },
    {
     "name": "stdout",
     "output_type": "stream",
     "text": [
      "----\n",
      "\n",
      "\n",
      "The target compound is a tris-substituted benzene with three phenyl rings connected by a central ethenylidene (vinylidene) group. The basic unit, benzene, has a melting point of 5.5°C. Each additional phenyl ring increases the molecular weight and the surface area, which typically increases the melting point due to greater London dispersion forces. However, the presence of the ethenylidene group introduces rigidity and planarity to the molecule, which can lead to stronger intermolecular interactions such as π-π stacking between the aromatic rings. This rigidity and planarity can increase the melting point significantly. The effect of each phenyl ring can be estimated to add approximately +20°C to the melting point due to increased molecular weight and surface area. The ethenylidene group's effect is more complex, but it can be estimated to add around +40°C due to the rigidity and planarity it introduces. Therefore, the total estimated increase would be 3 phenyl rings * +20°C each + ethenylidene group * +40°C.\n",
      "##Prediction: 125.0\n",
      "##Confidence: 80%\n",
      "##Reference: Prediction based on the effects of aromatic substituents on the melting point of benzene derivatives.\n",
      "##Data: {'Actual': 125.0}\n",
      "##Error: 0.0\n",
      "##Type: prediction\n",
      "##Time: 2023-03-14 14:22:00\n",
      "##Signature: 5d447410f03800000a59027a\n",
      "\n",
      "##Prediction\n",
      "actual:  72.5 predicted:  125.0\n",
      "promlem 40 / 50\n"
     ]
    },
    {
     "name": "stderr",
     "output_type": "stream",
     "text": [
      " 80%|████████  | 40/50 [50:13<13:39, 81.98s/it]"
     ]
    },
    {
     "name": "stdout",
     "output_type": "stream",
     "text": [
      "----\n",
      "\n",
      "\n",
      "The target compound is a complex molecule with several functional groups that influence its melting point. The basic unit we can consider is acetamide, which has a melting point of around 82°C. The functional groups present in the target compound and their estimated effects on the melting point are as follows: \n",
      "- Benzoyloxy group: This group is bulky and introduces rigidity to the molecule, which typically increases the melting point. Estimated effect: +20°C. \n",
      "- N,N-bis(2-methylpropyl) groups: These are large alkyl groups that increase the molecular weight and steric bulk, which can lead to higher melting points due to increased van der Waals interactions. Estimated effect per group: +10°C. \n",
      "- Acetamide group: The amide functional group is capable of hydrogen bonding, which generally increases the melting point. However, since it is part of the basic acetamide unit, its effect is already accounted for in the base value. \n",
      "- Carbonyl groups: Carbonyl groups can form dipole-dipole interactions, which can increase the melting point. Estimated effect per group: +5°C. \n",
      "Considering these effects, the predicted melting point would be the sum of the base value for acetamide and the estimated effects of the functional groups.\n",
      "##Prediction: 147.0\n",
      "##Confidence: 70.0\n",
      "##Reference: Prediction based on the known effects of functional groups on melting points and the base value for acetamide.\n",
      "##Category: Melting point\n",
      "##URL: https://www.chemspider.com/Chemical-Structure.100.html?ChemicalStructureID=12\n",
      "actual:  44.5 predicted:  147.0\n",
      "promlem 41 / 50\n"
     ]
    },
    {
     "name": "stderr",
     "output_type": "stream",
     "text": [
      " 82%|████████▏ | 41/50 [51:03<10:51, 72.34s/it]"
     ]
    },
    {
     "name": "stdout",
     "output_type": "stream",
     "text": [
      "----\n",
      "\n",
      "\n",
      "- Basic unit, piperazine has a melting point of around 106°C. \n",
      "- Acetyl group: +20°C (introduces dipole-dipole interactions and slight increase in molecular weight)\n",
      "- Dichlorophenyl group: +30°C (two chlorine atoms add significant molecular weight and enhance van der Waals forces)\n",
      "- Imidazole group: +25°C (nitrogen atoms contribute to hydrogen bonding and ring stability)\n",
      "- Dioxolane ring: +15°C (additional ring structure and oxygen atoms contribute to hydrogen bonding and dipole interactions)\n",
      "- Phenyl ether linkage: +10°C (increased molecular weight and rigidity)\n",
      "- Overall, the compound has multiple functional groups that contribute to an increase in melting point due to enhanced intermolecular forces and molecular complexity.\n",
      "##Prediction: 206.0\n",
      "##Confidence: 80%\n",
      "##Prediction\n",
      "actual:  146.0 predicted:  206.0\n",
      "promlem 42 / 50\n"
     ]
    },
    {
     "name": "stderr",
     "output_type": "stream",
     "text": [
      " 84%|████████▍ | 42/50 [52:17<09:41, 72.74s/it]"
     ]
    },
    {
     "name": "stdout",
     "output_type": "stream",
     "text": [
      "----\n",
      "\n",
      "\n",
      "- Basic unit, acetone semicarbazone has a melting point of around 210°C. \n",
      "- Phenyl group: +20°C (due to increased molecular weight and pi-pi interactions). \n",
      "- Methyl group: +5°C (due to increased molecular weight and van der Waals interactions). \n",
      "- Additional alkyl chain (C(C)C): +5°C (due to increased molecular weight and van der Waals interactions). \n",
      "- Conjugation with the carbonyl group: +5°C (due to increased rigidity and planarity of the molecule). \n",
      "- Semicarbazone group: +5°C (due to hydrogen bonding capabilities and increased molecular weight). \n",
      "- Z-configuration: +5°C (due to restricted rotation and increased rigidity). \n",
      "- Overall, the compound has multiple functional groups that can increase the melting point due to various intermolecular forces and molecular rigidity.\n",
      "##Prediction: 250.0\n",
      "##Confidence: 80%\n",
      "##Reference: Prediction based on the known melting points of similar compounds and the effects of functional groups on melting point.\n",
      "##Category: Melting point prediction\n",
      "##URL: https://en.wikipedia.org/wiki/Semicarbazone\n",
      "\n",
      "##Validation\n",
      "##Name: (2Z)-3-methyl-4-phenylbutan-2-one semicarbazone\n",
      "##Prediction\n",
      "actual:  112.0 predicted:  250.0\n",
      "promlem 43 / 50\n"
     ]
    },
    {
     "name": "stderr",
     "output_type": "stream",
     "text": [
      " 86%|████████▌ | 43/50 [53:23<08:15, 70.72s/it]"
     ]
    },
    {
     "name": "stdout",
     "output_type": "stream",
     "text": [
      "----\n",
      "\n",
      "\n",
      "- Basic unit, phenol has a melting point of 41°C. \n",
      "- Methyl groups: Each methyl group tends to increase the melting point due to an increase in molecular weight and van der Waals forces. However, the presence of three methyl groups in ortho and para positions to the hydroxyl group may cause steric hindrance, which can disrupt the crystal lattice and lower the melting point. The effect of each methyl group is not simply additive due to these steric effects. \n",
      "- Hydroxyl group: The hydroxyl group is already accounted for in the base value of phenol. \n",
      "- Steric hindrance: The three methyl groups in 2,4,6-trimethylphenol cause significant steric hindrance, which disrupts the crystal lattice and lowers the melting point. This effect is stronger than the increase due to molecular weight. \n",
      "- Prediction: The combined effect of the three methyl groups is a decrease in melting point by approximately 10°C each, resulting in a total decrease of 30°C from the base value of phenol.\n",
      "##Prediction: 11.0\n",
      "##Confidence: 70.0\n",
      "##Reference: https://www.chemspider.com/Chemical-Structure.1507.html\n",
      "##Reason\n",
      "actual:  72.5 predicted:  11.0\n",
      "promlem 44 / 50\n"
     ]
    },
    {
     "name": "stderr",
     "output_type": "stream",
     "text": [
      " 88%|████████▊ | 44/50 [54:55<07:43, 77.17s/it]"
     ]
    },
    {
     "name": "stdout",
     "output_type": "stream",
     "text": [
      "----\n",
      "\n",
      "\n",
      "The target compound is a complex molecule with multiple functional groups that influence its melting point. The basic unit we can consider is benzene, which has a melting point of 5.5°C. The compound has three phenyl rings, which would typically increase the melting point due to increased pi-pi interactions and van der Waals forces. Each phenyl ring could add approximately +20°C. The molecule also contains two nitro groups, which are strong electron-withdrawing groups and can significantly increase the melting point due to their ability to form strong intermolecular interactions such as hydrogen bonding and dipole-dipole interactions. Each nitro group could add approximately +80°C. The presence of an ethenyl group (C=C) contributes to the rigidity of the molecule, which can increase the melting point; this could add around +10°C. The hydrazine group (NN) can form hydrogen bonds, which would further increase the melting point; this could add around +30°C. However, the presence of multiple aromatic rings also increases the molecular weight and the potential for steric hindrance, which might slightly reduce the melting point. Considering these factors, the overall increase might be slightly less than the sum of individual contributions.\n",
      "##Prediction: 245.0\n",
      "##Confidence: 80.0\n",
      "##Comment: The prediction is based on the sum of contributions from the functional groups, but the actual value is lower than the predicted one. This discrepancy suggests that the effects of the functional groups on the melting point are not purely additive and that there might be some negative interactions or steric hindrance that reduce the melting point.\n",
      "##Reference: Prediction based on the contributions of functional groups to the melting point of benzene and similar aromatic\n",
      "actual:  193.0 predicted:  245.0\n",
      "promlem 45 / 50\n"
     ]
    },
    {
     "name": "stderr",
     "output_type": "stream",
     "text": [
      " 90%|█████████ | 45/50 [56:22<06:40, 80.18s/it]"
     ]
    },
    {
     "name": "stdout",
     "output_type": "stream",
     "text": [
      "----\n",
      "\n",
      "\n",
      "- Basic unit, pregnane: Estimated melting point of 138°C based on similar steroid structures. \n",
      "- Acetoxy group (COOCH3): +20°C due to increased molecular weight and polarity, which enhances intermolecular interactions. \n",
      "- Acetyl group (COCH3): +10°C due to increased molecular weight and polarity, but less so than the acetoxy group because it does not form additional hydrogen bonds. \n",
      "- Additional double bond in the ring: -5°C as it slightly reduces the symmetry and packing efficiency of the molecule. \n",
      "- Hydroxyl group (OH): +15°C due to hydrogen bonding capabilities, which significantly increases the melting point. \n",
      "- Overall, the presence of these functional groups in 21-acetoxypregnenolone leads to a predicted melting point that is higher than that of the basic steroid structure.\n",
      "##Prediction: 168.0\n",
      "##Confidence: 80%\n",
      "##Reference: Not provided\n",
      "##Data: {\n",
      "\"Pregnane\": 138,\n",
      "\"Acetoxy group\": 20,\n",
      "\"Acetyl group\": 10,\n",
      "\"Double bond\": -5,\n",
      "\"Hydroxyl group\": 15\n",
      "}\n",
      "##Comment: The prediction is based on the estimated effects of various functional groups on the melting point of the basic steroid structure. The actual value of 168°C is close to the predicted value, indicating that the estimated effects of the functional groups are generally accurate. However, the actual value is slightly higher than the predicted value, suggesting that the combined effect of the functional groups may be slightly underestimated.\n",
      "##Prediction\n",
      "actual:  184.5 predicted:  168.0\n",
      "promlem 46 / 50\n"
     ]
    },
    {
     "name": "stderr",
     "output_type": "stream",
     "text": [
      " 92%|█████████▏| 46/50 [57:53<05:32, 83.17s/it]"
     ]
    },
    {
     "name": "stdout",
     "output_type": "stream",
     "text": [
      "----\n",
      "\n",
      "\n",
      "The compound (2E)-3-[5-(3-Nitrophenyl)-2-furyl]-1-phenylprop-2-en-1-one has several functional groups that influence its melting point. The base structure is a benzene ring, which has a melting point of 5.5°C. The presence of two phenyl rings contributes to an increase in the melting point due to the larger molecular weight and the potential for π-π stacking interactions, which can be estimated at +40°C for each phenyl ring. The furan ring, which is a five-membered oxygen-containing heterocycle, can also increase the melting point due to the polar oxygen atom and potential for dipole-dipole interactions, estimated at +20°C. The nitro group is a strong electron-withdrawing group that can significantly increase the melting point due to its ability to form strong intermolecular interactions, such as hydrogen bonding, estimated at +80°C. The conjugated double bond in the prop-2-en-1-one structure contributes to the rigidity of the molecule, which can also increase the melting point, estimated at +10°C. Adding these contributions together gives the predicted melting point.\n",
      "##Prediction: 175.0\n",
      "##Confidence: 80%\n",
      "##Reference: Prediction based on the known effects of functional groups on melting points and the structural features of the compound.\n",
      "##Category: Melting point prediction\n",
      "##URL: https://en.wikipedia.org/wiki/Melting_point\n",
      "\n",
      "##Validation\n",
      "##Name: (2E)-3-[5-(3-Nitrophenyl)-2-furyl]-1-phenylprop-2-en\n",
      "actual:  147.0 predicted:  175.0\n",
      "promlem 47 / 50\n"
     ]
    },
    {
     "name": "stderr",
     "output_type": "stream",
     "text": [
      " 94%|█████████▍| 47/50 [59:21<04:14, 84.77s/it]"
     ]
    },
    {
     "name": "stdout",
     "output_type": "stream",
     "text": [
      "----\n",
      "\n",
      "\n",
      "- Basic unit, methanethiol has a melting point of -147.8°C. \n",
      "- Addition of each methylene group (CH2) to the alkyl chain generally increases the melting point due to increased van der Waals forces. For a similar alkane, propane, the melting point is -187.7°C, and for butane, it is -138.4°C. The difference between methane and butane is approximately 50°C. \n",
      "- The thiol group (SH) has a polar nature which can lead to stronger intermolecular forces compared to a hydrocarbon chain, but in this case, the effect is not as significant as in larger molecules due to the small size of the molecule. \n",
      "- Considering the effects of the additional methylene groups, the melting point of 1-butanethiol would be expected to be higher than that of methanethiol. However, the actual value is -90.0°C, which is lower than the predicted value. This discrepancy suggests that the influence of the thiol group on the melting point is not as strong as initially considered, and the increase due to the additional methylene groups is also less than expected.\n",
      "##Prediction: -90.0\n",
      "##Confidence: 90.0\n",
      "##Comment: The prediction aligns with the actual value, indicating a good understanding of the factors affecting the melting point of 1-butanethiol.\n",
      "##Reference: Prediction based on the understanding of the effects of functional groups and alkyl chain length on the melting point of organic compounds.\n",
      "##Data: {'Actual': -90.0, 'Prediction': -90.0, 'Prediction Error':\n",
      "actual:  -116.0 predicted:  -90.0\n",
      "promlem 48 / 50\n"
     ]
    },
    {
     "name": "stderr",
     "output_type": "stream",
     "text": [
      " 96%|█████████▌| 48/50 [1:00:01<02:22, 71.26s/it]"
     ]
    },
    {
     "name": "stdout",
     "output_type": "stream",
     "text": [
      "----\n",
      "\n",
      "\n",
      "- Basic unit, benzene has a melting point of 5.5°C. \n",
      "- Carboxylic acid group: +100°C (due to strong hydrogen bonding and dimerization). \n",
      "- Trifluoromethoxy group: +40°C (due to the strong electronegativity of fluorine, which increases intermolecular forces). \n",
      "- The presence of the trifluoromethoxy group also introduces steric hindrance and dipole-dipole interactions, which can further increase the melting point. \n",
      "- The overall molecular symmetry and planarity of the compound also contribute to efficient packing in the solid state, which can increase the melting point.\n",
      "##Prediction: 145.0\n",
      "##Confidence: 80%\n",
      "##Prediction\n",
      "actual:  79.0 predicted:  145.0\n",
      "promlem 49 / 50\n"
     ]
    },
    {
     "name": "stderr",
     "output_type": "stream",
     "text": [
      " 98%|█████████▊| 49/50 [1:01:29<01:16, 76.46s/it]"
     ]
    },
    {
     "name": "stdout",
     "output_type": "stream",
     "text": [
      "----\n",
      "\n",
      "\n",
      "- Basic unit, methane has a melting point of -182.5 degrees Celsius. \n",
      "- Chloro groups: Each chloro group is expected to increase the melting point due to increased molecular weight and stronger van der Waals forces. Let's estimate this increase to be about +20 degrees Celsius per chloro group. \n",
      "- Fluoro groups: Each fluoro group is also expected to increase the melting point due to the high electronegativity of fluorine, which leads to stronger dipole-dipole interactions. Let's estimate this increase to be about +10 degrees Celsius per fluoro group. \n",
      "- However, the presence of both chloro and fluoro groups on the same carbon may lead to steric hindrance and destabilization of the crystal lattice, which could reduce the overall increase in melting point. This effect might be significant enough to counterbalance the individual increases from the chloro and fluoro groups. \n",
      "- Considering these factors, the net effect of the substituents might be less than the sum of their individual contributions.\n",
      "##Prediction: -142.0\n",
      "##Confidence: 70%\n",
      "##Reference: Prediction based on the known effects of halogen substituents on the melting point of hydrocarbons and considering potential destabilization of the crystal lattice due to steric hindrance.\n",
      "##Justification: The prediction of -142.0 degrees Celsius is based on the addition of the estimated increases from the chloro and fluoro groups to the melting point of methane, with a slight reduction to account for potential destabilization of the crystal lattice.\n",
      "##Comment: The actual value of -96.7 degrees Celsius is significantly higher than the predicted value, indicating that the individual contributions\n",
      "actual:  -158.0 predicted:  -142.0\n",
      "promlem 50 / 50\n"
     ]
    },
    {
     "name": "stderr",
     "output_type": "stream",
     "text": [
      "100%|██████████| 50/50 [1:02:59<00:00, 75.60s/it]"
     ]
    },
    {
     "name": "stdout",
     "output_type": "stream",
     "text": [
      "----\n",
      "\n",
      "\n",
      "- Basic unit, benzene has a melting point of 5.5°C. \n",
      "- Bromine substituents: Each bromine is expected to increase the melting point due to increased molecular weight and stronger intermolecular forces such as dipole-dipole interactions. Estimated effect of each bromine is +20°C. \n",
      "- Nitro group: The nitro group is an electron-withdrawing group and can participate in intermolecular interactions such as dipole-dipole interactions. It is also a large, bulky group that can increase the melting point. Estimated effect of the nitro group is +30°C. \n",
      "- The combined effect of two bromine atoms and one nitro group should be additive. \n",
      "##Prediction: 75.0\n",
      "##Confidence: 80.0\n",
      "##Reference: Prediction based on the effects of substituents on the melting point of benzene.\n",
      "##Data: {\"Basic unit\": 5.5, \"Bromine substituents\": 20.0, \"Nitro group\": 30.0, \"Prediction\": 75.0}\n",
      "##Solution: The prediction of 75.0°C is close to the actual value of 70.0°C. The effects of the bromine and nitro groups on the melting point are slightly overestimated.\n",
      "##Justification: The actual value of 70.0°C suggests that the effects of the bromine and nitro groups are not as strong as initially predicted. The bromine atoms may contribute less due to steric hindrance and the nitro group's effect might be overestimated. Adjusting the contributions to reflect the actual value, the bromine effect\n",
      "actual:  84.0 predicted:  75.0\n"
     ]
    },
    {
     "name": "stderr",
     "output_type": "stream",
     "text": [
      "\n"
     ]
    }
   ],
   "source": [
    "model.eval()\n",
    "\n",
    "#予測時のハイパラ\n",
    "n_prompt_examples=0 #何件の例題をprompt tuningで出すか:  例題に予測が引っ張られがちなので､0にしてみる\n",
    "n_max_trials=1  # 値を返さなかったときの再試行の最大数\n",
    "random.seed(0)\n",
    "prediction_results={}\n",
    "\n",
    "\n",
    "res_list=[]\n",
    "for test_id in tqdm(range(n_test)):\n",
    "    print(f\"promlem {test_id+1} / {n_test}\")\n",
    "    for _ in range(n_max_trials):\n",
    "        try:\n",
    "            prompt=generate_question_prompt(dataset,test_id,n_prompt_examples=n_prompt_examples)\n",
    "            reason,value=ask_value(prompt,model,tokenizer)\n",
    "        except Exception as e:\n",
    "            print(e)\n",
    "            continue\n",
    "\n",
    "\n",
    "        if value is not None:\n",
    "            record=copy.deepcopy(dataset[test_id])\n",
    "            record[\"Test (Predicted reason)\"]=reason\n",
    "            record[\"Test (Predicted value)\"]=value\n",
    "            print(\"actual: \",record[\"mpC\"],\"predicted: \", record[\"Test (Predicted value)\"],)\n",
    "            res_list.append(record)\n",
    "            break\n",
    "prediction_results[n_prompt_examples]=res_list"
   ]
  },
  {
   "cell_type": "code",
   "execution_count": 22,
   "metadata": {},
   "outputs": [
    {
     "data": {
      "image/png": "[encoded data removed]",
      "text/plain": [
       "<Figure size 640x480 with 1 Axes>"
      ]
     },
     "metadata": {},
     "output_type": "display_data"
    }
   ],
   "source": [
    "#plot\n",
    "import matplotlib.pyplot as plt\n",
    "import seaborn as sns\n",
    "from sklearn.metrics import mean_squared_error,mean_absolute_error,r2_score\n",
    "from datetime import datetime\n",
    "import json\n",
    "current_datetime = datetime.now()\n",
    "vmin=-200\n",
    "vmax=300\n",
    "\n",
    "#plot prediction results\n",
    "for n_prompt_examples,records in prediction_results.items():\n",
    "    sel_df=pd.DataFrame(records)\n",
    "    #floatに可能なものは変換\n",
    "    sel_df[\"Test (Predicted value)\"] = pd.to_numeric(sel_df[\"Test (Predicted value)\"], errors='coerce')\n",
    "    sel_df=sel_df[sel_df[\"Test (Predicted value)\"].notnull()]\n",
    "    if len(sel_df)==0:\n",
    "        continue\n",
    "    mse=mean_squared_error(sel_df[\"mpC\"],sel_df[\"Test (Predicted value)\"])\n",
    "\n",
    "    plt.figure()\n",
    "    sns.scatterplot(data=sel_df,x=\"mpC\",y=\"Test (Predicted value)\")\n",
    "    plt.title(f\"n_prompt_examples={n_prompt_examples} MSE={mse:.0f}\")\n",
    "\n",
    "    #x,yの範囲を揃える\n",
    "    plt.xlim(vmin,vmax)\n",
    "    plt.ylim(vmin,vmax)\n",
    "    #対角線を描く\n",
    "    plt.plot([vmin,vmax],[vmin,vmax],color=\"gray\")\n",
    "    formatted_filename = f\"results/model=mixtral_{current_datetime.strftime('%Y%m%d_%H%M%S')}_train={do_train}.png\"\n",
    "    plt.savefig(formatted_filename)\n",
    "    #break\n",
    "\n",
    "save_json_filename=formatted_filename.replace(\".png\",\".json\")\n",
    "with open(save_json_filename,\"w\") as f:\n",
    "    json.dump(prediction_results,fp=f,\n",
    "              indent=4)"
   ]
  },
  {
   "cell_type": "code",
   "execution_count": 23,
   "metadata": {},
   "outputs": [
    {
     "name": "stdout",
     "output_type": "stream",
     "text": [
      "MSE:  3030.2451020408166\n",
      "MAE:  44.699999999999996\n",
      "R2:  0.7405056695629278\n"
     ]
    }
   ],
   "source": [
    "#スコア\n",
    "print(\"MSE: \",mean_squared_error(sel_df[\"mpC\"],sel_df[\"Test (Predicted value)\"]))\n",
    "print(\"MAE: \",mean_absolute_error(sel_df[\"mpC\"],sel_df[\"Test (Predicted value)\"]))\n",
    "print(\"R2: \", r2_score(sel_df[\"mpC\"],sel_df[\"Test (Predicted value)\"]))\n"
   ]
  },
  {
   "cell_type": "code",
   "execution_count": 24,
   "metadata": {},
   "outputs": [
    {
     "data": {
      "text/plain": [
       "0.98"
      ]
     },
     "execution_count": 24,
     "metadata": {},
     "output_type": "execute_result"
    }
   ],
   "source": [
    "#回答可能な問題の割合\n",
    "sel_df.shape[0]/n_test"
   ]
  },
  {
   "cell_type": "code",
   "execution_count": null,
   "metadata": {},
   "outputs": [],
   "source": []
  },
  {
   "cell_type": "code",
   "execution_count": null,
   "metadata": {},
   "outputs": [],
   "source": []
  }
 ],
 "metadata": {
  "kernelspec": {
   "display_name": "chemllm",
   "language": "python",
   "name": "python3"
  },
  "language_info": {
   "codemirror_mode": {
    "name": "ipython",
    "version": 3
   },
   "file_extension": ".py",
   "mimetype": "text/x-python",
   "name": "python",
   "nbconvert_exporter": "python",
   "pygments_lexer": "ipython3",
   "version": "3.10.0"
  }
 },
 "nbformat": 4,
 "nbformat_minor": 2
}
