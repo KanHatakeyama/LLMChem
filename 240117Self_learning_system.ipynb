{
 "cells": [
  {
   "cell_type": "markdown",
   "metadata": {},
   "source": [
    "# (Q)分子構造+(R)理由+(A)物性データセットのLLMによる学習と予測\n",
    "- Q&A: 融点データセットを使用\n",
    "- R: 自分自身で考えさせて､正解のデータを学習させる"
   ]
  },
  {
   "cell_type": "code",
   "execution_count": 1,
   "metadata": {},
   "outputs": [
    {
     "name": "stderr",
     "output_type": "stream",
     "text": [
      "/home/setup/miniconda3/envs/chemllm/lib/python3.10/site-packages/tqdm/auto.py:21: TqdmWarning: IProgress not found. Please update jupyter and ipywidgets. See https://ipywidgets.readthedocs.io/en/stable/user_install.html\n",
      "  from .autonotebook import tqdm as notebook_tqdm\n"
     ]
    }
   ],
   "source": [
    "%reload_ext autoreload\n",
    "%autoreload 2\n",
    "\n",
    "import os\n",
    "os.environ[\"CUDA_VISIBLE_DEVICES\"]=\"0\"\n",
    "\n",
    "from transformers import AutoTokenizer\n",
    "import pandas as pd\n",
    "import random\n",
    "import copy\n",
    "import glob\n",
    "import json\n",
    "from datetime import datetime\n",
    "from llmchem.utils import mk_dir,clean_vram\n",
    "\n",
    "#import clear_output\n",
    "\n",
    "from IPython.display import clear_output"
   ]
  },
  {
   "cell_type": "code",
   "execution_count": 2,
   "metadata": {},
   "outputs": [],
   "source": [
    "#dataset settings\n",
    "n_test=50 #number of testing data\n",
    "n_train_check=50 #number of training data for checking (i.e., checking everything takes too long, so we check only a part of training data)\n",
    "n_GPT_reasoning=100 # number of reasoning data made by GPT\n",
    "n_generation_iterations=100   # trial numbers to generate new self reasoning data\n",
    "max_generations=1000\n",
    "\n",
    "#model settings\n",
    "model_name=\"mistralai/Mixtral-8x7B-Instruct-v0.1\"\n",
    "target_modules= [\n",
    "    \"lm_head\",\n",
    "    \"q_proj\",\n",
    "    \"k_proj\",\n",
    "    \"v_proj\",\n",
    "    \"o_proj\",\n",
    "    \"gate\",\n",
    "    \"w1\",\n",
    "    \"w2\",\n",
    "    \"w3\"\n",
    "]\n",
    "\n",
    "model_name=f\"meta-llama/Llama-2-7b-chat-hf\"\n",
    "target_modules= [\n",
    "    #\"embed_tokens\",\n",
    "    \"lm_head\",\n",
    "    #\"q_proj\",\n",
    "    #\"k_proj\",\n",
    "    \"v_proj\",\n",
    "    \"o_proj\",\n",
    "    \"gate_proj\",\n",
    "    \"up_proj\",\n",
    "    #\"down_proj\",\n",
    "]\n",
    "\n",
    "\n",
    "\n",
    "#LoRA settings\n",
    "r=32\n",
    "lora_alpha=r\n",
    "bit=16\n",
    "#bit=8\n",
    "#bit=4\n",
    "\n",
    "#train settings\n",
    "gradient_checkpointing =False\n",
    "per_device_train_batch_size=1\n",
    "epochs=3\n",
    "lr=10**-5\n",
    "\n",
    "#device settings\n",
    "device_map=\"auto\"\n",
    "\n",
    "#dataset path\n",
    "dataset_path=\"dataset/231225AutoReasoning/240117best_reason_record_3k.csv\"\n",
    "\n",
    "#project path\n",
    "project_dir=\"results/projects/240118llama7b_100\"\n",
    "\n",
    "#reasoning options\n",
    "error_threshold=30  # if abolute error is smaller than this, add to training data"
   ]
  },
  {
   "cell_type": "code",
   "execution_count": 3,
   "metadata": {},
   "outputs": [],
   "source": [
    "mk_dir(project_dir)\n",
    "mk_dir(project_dir+\"/eval\")\n",
    "mk_dir(project_dir+\"/self_reasoning\")\n",
    "mk_dir(project_dir+\"/train\")"
   ]
  },
  {
   "cell_type": "code",
   "execution_count": 4,
   "metadata": {},
   "outputs": [],
   "source": [
    "from llmchem.model import init_model\n",
    "from llmchem.train import train_model\n",
    "from llmchem.eval import eval_model\n",
    "from llmchem.reasoning import self_reasoning\n",
    "tokenizer = AutoTokenizer.from_pretrained(model_name)\n",
    "tokenizer.pad_token = tokenizer.eos_token"
   ]
  },
  {
   "cell_type": "code",
   "execution_count": 5,
   "metadata": {},
   "outputs": [],
   "source": [
    "#load base dataset\n",
    "\n",
    "df=pd.read_csv(dataset_path)\n",
    "dataset=df.to_dict(orient=\"records\")\n",
    "random.seed(0)\n",
    "random.shuffle(dataset)\n",
    "\n",
    "base_train_dataset=dataset[:-n_test]\n",
    "example_reasoning_dataset=base_train_dataset[:n_GPT_reasoning]\n",
    "test_dataset=dataset[-n_test:]"
   ]
  },
  {
   "cell_type": "code",
   "execution_count": 6,
   "metadata": {},
   "outputs": [
    {
     "name": "stdout",
     "output_type": "stream",
     "text": [
      "Generation: 0\n",
      "GPT-generated reasons: 100\n",
      "All-generated reasons: 100\n",
      "Using fp16 mode\n"
     ]
    },
    {
     "name": "stderr",
     "output_type": "stream",
     "text": [
      "The model was loaded with use_flash_attention_2=True, which is deprecated and may be removed in a future release. Please use `attn_implementation=\"flash_attention_2\"` instead.\n",
      "Loading checkpoint shards: 100%|██████████| 2/2 [00:02<00:00,  1.36s/it]\n",
      "Map: 100%|██████████| 100/100 [00:00<00:00, 5098.96 examples/s]\n",
      "You're using a LlamaTokenizerFast tokenizer. Please note that with a fast tokenizer, using the `__call__` method is faster than using a method to encode the text followed by a call to the `pad` method to get a padded encoding.\n"
     ]
    },
    {
     "data": {
      "text/html": [
       "\n",
       "    <div>\n",
       "      \n",
       "      <progress value='300' max='300' style='width:300px; height:20px; vertical-align: middle;'></progress>\n",
       "      [300/300 00:33, Epoch 3/3]\n",
       "    </div>\n",
       "    <table border=\"1\" class=\"dataframe\">\n",
       "  <thead>\n",
       " <tr style=\"text-align: left;\">\n",
       "      <th>Step</th>\n",
       "      <th>Training Loss</th>\n",
       "    </tr>\n",
       "  </thead>\n",
       "  <tbody>\n",
       "    <tr>\n",
       "      <td>100</td>\n",
       "      <td>1.835000</td>\n",
       "    </tr>\n",
       "    <tr>\n",
       "      <td>200</td>\n",
       "      <td>1.462500</td>\n",
       "    </tr>\n",
       "    <tr>\n",
       "      <td>300</td>\n",
       "      <td>1.341700</td>\n",
       "    </tr>\n",
       "  </tbody>\n",
       "</table><p>"
      ],
      "text/plain": [
       "<IPython.core.display.HTML object>"
      ]
     },
     "metadata": {},
     "output_type": "display_data"
    },
    {
     "name": "stderr",
     "output_type": "stream",
     "text": [
      "  0%|          | 0/50 [00:00<?, ?it/s]"
     ]
    },
    {
     "name": "stdout",
     "output_type": "stream",
     "text": [
      "promlem 1 / 50\n"
     ]
    },
    {
     "name": "stderr",
     "output_type": "stream",
     "text": [
      "  2%|▏         | 1/50 [00:01<01:28,  1.80s/it]"
     ]
    },
    {
     "name": "stdout",
     "output_type": "stream",
     "text": [
      "----\n",
      "\n",
      "\n",
      "##Prediction: 105.0\n",
      "\n",
      "\n",
      "#Problem\n",
      "actual:  193.0 predicted:  105.0\n",
      "promlem 2 / 50\n"
     ]
    },
    {
     "name": "stderr",
     "output_type": "stream",
     "text": [
      "  4%|▍         | 2/50 [00:04<01:46,  2.23s/it]"
     ]
    },
    {
     "name": "stdout",
     "output_type": "stream",
     "text": [
      "----\n",
      "\n",
      "\n",
      "##Prediction: 105.0\n",
      "\n",
      "\n",
      "#Problem\n",
      "actual:  142.0 predicted:  105.0\n",
      "promlem 3 / 50\n"
     ]
    },
    {
     "name": "stderr",
     "output_type": "stream",
     "text": [
      "  6%|▌         | 3/50 [00:06<01:45,  2.25s/it]"
     ]
    },
    {
     "name": "stdout",
     "output_type": "stream",
     "text": [
      "----\n",
      "\n",
      "\n",
      "##Prediction: 170.0\n",
      "\n",
      "\n",
      "#Problem\n",
      "actual:  97.5 predicted:  170.0\n",
      "promlem 4 / 50\n"
     ]
    },
    {
     "name": "stderr",
     "output_type": "stream",
     "text": [
      "  8%|▊         | 4/50 [00:45<12:47, 16.69s/it]"
     ]
    },
    {
     "name": "stdout",
     "output_type": "stream",
     "text": [
      "----\n",
      "\n",
      "\n",
      "The basic unit for comparison could be anthracene, which has a melting point around 216°C. The addition of a ketone group (-CO-CH2-), which is a polar functional group, generally increases the melting point due to the presence of a polar carbonyl group capable of dipole-dipole interactions, adding approximately +10°C. The presence of a benzene ring, which is known to contribute to the melting point due to the conjugated system and potential for hydrogen bonding, adds another +20°C. The additional functional groups, such as the hydroxyl (-OH) and amino (-NH2) groups, may also contribute to the melting point, although their effects are less predictable.\n",
      "\n",
      "Therefore:\n",
      "- Basic unit (anthracene): 216.0\n",
      "- Ketone group: +10.0\n",
      "- Benzene ring: +20.0\n",
      "- Hydroxyl group: +5.0\n",
      "- Amino group: +5.0\n",
      "Combined estimated effect: 216.0 + 10.0 + 20.0 + 5.0 + 5.0 ≈ 266.0\n",
      "##Prediction: 266.0\n",
      "\n",
      "\n",
      "#Problem\n",
      "actual:  170.0 predicted:  266.0\n",
      "promlem 5 / 50\n"
     ]
    },
    {
     "name": "stderr",
     "output_type": "stream",
     "text": [
      " 10%|█         | 5/50 [01:37<22:03, 29.41s/it]"
     ]
    },
    {
     "name": "stdout",
     "output_type": "stream",
     "text": [
      "----\n",
      "\n",
      "\n",
      "To predict the melting point of 5-chlorothiophene-2-carboxylic acid, we consider the known melting point influence of various functional groups relative to benzene, which has a melting point of 5.5°C. Thiophene rings have oxygen which can participate in hydrogen bonding and contribute additional ring structure, possibly increasing the melting point by about +40°C each. Chlorine is electron-withdrawing and can increase the melting point due to increased molecular weight and van der Waals interactions, let's estimate +20°C for the chlorine group. The carboxylic acid group can also increase the melting point due to increased molecular weight and van der Waals interactions, let's estimate +10°C for the carboxylic acid group. The presence of a chlorine atom can significantly increase the melting point because of its strong electronegative nature and the capability for intermolecular interactions, contributing approximately +30°C. Therefore, we calculate as follows: Benzene (5.5) + 2 Thiophene rings (2 * 40) + Chlorine group (20) + Carboxylic acid group (10) + Chlorine group (30) = 5.5 + 80 + 20 + 10 + 30 = 155°C\n",
      "##Prediction: 155.0\n",
      "\n",
      "\n",
      "#Problem\n",
      "actual:  151.0 predicted:  155.0\n",
      "promlem 6 / 50\n"
     ]
    },
    {
     "name": "stderr",
     "output_type": "stream",
     "text": [
      " 12%|█▏        | 6/50 [01:40<14:53, 20.30s/it]"
     ]
    },
    {
     "name": "stdout",
     "output_type": "stream",
     "text": [
      "----\n",
      "\n",
      "\n",
      "##Prediction: 105.0\n",
      "\n",
      "\n",
      "#Problem\n",
      "actual:  46.0 predicted:  105.0\n",
      "promlem 7 / 50\n"
     ]
    },
    {
     "name": "stderr",
     "output_type": "stream",
     "text": [
      " 14%|█▍        | 7/50 [01:42<10:15, 14.32s/it]"
     ]
    },
    {
     "name": "stdout",
     "output_type": "stream",
     "text": [
      "----\n",
      "\n",
      "\n",
      "##Prediction: 105.0\n",
      "\n",
      "\n",
      "#Problem\n",
      "actual:  -37.0 predicted:  105.0\n",
      "promlem 8 / 50\n"
     ]
    },
    {
     "name": "stderr",
     "output_type": "stream",
     "text": [
      " 16%|█▌        | 8/50 [01:43<07:10, 10.25s/it]"
     ]
    },
    {
     "name": "stdout",
     "output_type": "stream",
     "text": [
      "----\n",
      "\n",
      "\n",
      "##Prediction: -10.0\n",
      "\n",
      "\n",
      "#Problem\n",
      "actual:  147.0 predicted:  -10.0\n",
      "promlem 9 / 50\n"
     ]
    },
    {
     "name": "stderr",
     "output_type": "stream",
     "text": [
      " 18%|█▊        | 9/50 [01:45<05:18,  7.76s/it]"
     ]
    },
    {
     "name": "stdout",
     "output_type": "stream",
     "text": [
      "----\n",
      "\n",
      "\n",
      "##Prediction: 100.0\n",
      "\n",
      "\n",
      "#Problem\n",
      "actual:  93.0 predicted:  100.0\n",
      "promlem 10 / 50\n"
     ]
    },
    {
     "name": "stderr",
     "output_type": "stream",
     "text": [
      " 20%|██        | 10/50 [01:47<03:59,  5.99s/it]"
     ]
    },
    {
     "name": "stdout",
     "output_type": "stream",
     "text": [
      "----\n",
      "\n",
      "\n",
      "##Prediction: 120.0\n",
      "\n",
      "\n",
      "#Problem\n",
      "actual:  96.0 predicted:  120.0\n",
      "promlem 11 / 50\n"
     ]
    },
    {
     "name": "stderr",
     "output_type": "stream",
     "text": [
      " 22%|██▏       | 11/50 [01:49<03:06,  4.79s/it]"
     ]
    },
    {
     "name": "stdout",
     "output_type": "stream",
     "text": [
      "----\n",
      "\n",
      "\n",
      "##Prediction: -10.0\n",
      "\n",
      "\n",
      "#Problem\n",
      "actual:  -151.0 predicted:  -10.0\n",
      "promlem 12 / 50\n"
     ]
    },
    {
     "name": "stderr",
     "output_type": "stream",
     "text": [
      " 24%|██▍       | 12/50 [01:51<02:30,  3.95s/it]"
     ]
    },
    {
     "name": "stdout",
     "output_type": "stream",
     "text": [
      "----\n",
      "\n",
      "\n",
      "##Prediction: 105.0\n",
      "\n",
      "\n",
      "#Problem\n",
      "actual:  37.0 predicted:  105.0\n",
      "promlem 13 / 50\n"
     ]
    },
    {
     "name": "stderr",
     "output_type": "stream",
     "text": [
      " 26%|██▌       | 13/50 [01:54<02:04,  3.38s/it]"
     ]
    },
    {
     "name": "stdout",
     "output_type": "stream",
     "text": [
      "----\n",
      "\n",
      "\n",
      "##Prediction: 100.0\n",
      "\n",
      "\n",
      "#Problem\n",
      "actual:  -52.3 predicted:  100.0\n",
      "promlem 14 / 50\n"
     ]
    },
    {
     "name": "stderr",
     "output_type": "stream",
     "text": [
      " 28%|██▊       | 14/50 [02:08<04:07,  6.87s/it]"
     ]
    },
    {
     "name": "stdout",
     "output_type": "stream",
     "text": [
      "----\n",
      "\n",
      "\n",
      "The basic unit for 7-methylquinoline is quinoline, which has a melting point of -10°C. Methylation of the quinoline ring increases the molecular weight and introduces a nonpolar, electronegative group, which can increase the melting point due to increased molecular weight and the potential for pi-pi stacking interactions with other methyl groups in the solid state. The effect might be an increase of around +20°C compared to the basic quinoline scaffold.\n",
      "##Prediction: 12.0\n",
      "\n",
      "\n",
      "#Problem\n",
      "actual:  39.0 predicted:  12.0\n",
      "promlem 15 / 50\n"
     ]
    },
    {
     "name": "stderr",
     "output_type": "stream",
     "text": [
      " 30%|███       | 15/50 [02:11<03:13,  5.53s/it]"
     ]
    },
    {
     "name": "stdout",
     "output_type": "stream",
     "text": [
      "----\n",
      "\n",
      "\n",
      "##Prediction: 100.0\n",
      "\n",
      "\n",
      "#Problem\n",
      "actual:  157.5 predicted:  100.0\n",
      "promlem 16 / 50\n"
     ]
    },
    {
     "name": "stderr",
     "output_type": "stream",
     "text": [
      " 32%|███▏      | 16/50 [02:13<02:37,  4.64s/it]"
     ]
    },
    {
     "name": "stdout",
     "output_type": "stream",
     "text": [
      "----\n",
      "\n",
      "\n",
      "##Prediction: 100.0\n",
      "\n",
      "\n",
      "#Problem\n",
      "actual:  -25.0 predicted:  100.0\n",
      "promlem 17 / 50\n"
     ]
    },
    {
     "name": "stderr",
     "output_type": "stream",
     "text": [
      " 34%|███▍      | 17/50 [02:57<09:00, 16.39s/it]"
     ]
    },
    {
     "name": "stdout",
     "output_type": "stream",
     "text": [
      "----\n",
      "\n",
      "\n",
      "The melting point of a compound is influenced by several structural factors including molecular weight, symmetry, and the strength of intermolecular forces. For 1-bromo-2-nitrobenzene, several functional group effects should be considered: \n",
      "- Basic unit, benzene, has a melting point of 5.5 °C. \n",
      "- Bromo group: A heavy halogen like bromine adds significant molecular weight and polarizability to the compound, which could reasonably be expected to increase the melting point due to stronger London dispersion forces. The bromo group typically raises the melting point by an estimated +20 °C over unsubstituted benzene. \n",
      "- Nitro group: The nitro group is an electron-withdrawing group that increases the polarity of the molecule and can allow for stronger dipole-dipole interactions and potentially hydrogen bonding with protic solvents. However, in a nonprotic crystalline state, its main effect would be on the polarity and rigidity of the compound. The contribution to the melting point could be estimated at +15 °C over benzene. \n",
      "Considering the individual effects, one might expect these functional groups to have mostly additive impacts on the melting point, but some deviation from strict additivity can occur due to the disruption of the aromatic system's symmetry by the substituents.\n",
      "##Prediction: 40.0\n",
      "\n",
      "\n",
      "#Problem\n",
      "actual:  42.0 predicted:  40.0\n",
      "promlem 18 / 50\n"
     ]
    },
    {
     "name": "stderr",
     "output_type": "stream",
     "text": [
      " 36%|███▌      | 18/50 [03:43<13:24, 25.15s/it]"
     ]
    },
    {
     "name": "stdout",
     "output_type": "stream",
     "text": [
      "----\n",
      "\n",
      "\n",
      "The compound (2E)-2-phenyl-3-(phenylamino)prop-2-enenitrile has a melting point of 279.5 °C. To predict the melting point, we will consider the basic structure of the compound and the influence of its functional groups and modifications. The basic structure of the compound is a phenyl-substituted benzene ring, which has a melting point of approximately 48 °C. The addition of a nitrile group typically raises the melting point due to increased molecular weight and van der Waals forces. The phenylamino group is electron-donating and can lower the melting point due to the increased molecular weight and the potential for hydrogen bonding. The presence of two phenyl groups can increase the melting point due to increased conjugation and planarity. The addition of a nitrile group can increase the melting point by approximately +40 °C. The phenylamino group can lower the melting point by approximately -20 °C. The presence of two phenyl groups can increase the melting point by approximately +20 °C. The actual value is higher than the predicted value, which suggests that the electron-donating nature of the phenylamino group may have a greater impact than expected.\n",
      "##Prediction: 279.0\n",
      "\n",
      "\n",
      "#Problem\n",
      "actual:  156.0 predicted:  279.0\n",
      "promlem 19 / 50\n"
     ]
    },
    {
     "name": "stderr",
     "output_type": "stream",
     "text": [
      " 38%|███▊      | 19/50 [03:45<09:25, 18.25s/it]"
     ]
    },
    {
     "name": "stdout",
     "output_type": "stream",
     "text": [
      "----\n",
      "\n",
      "\n",
      "##Prediction: -10.0\n",
      "\n",
      "\n",
      "#Problem\n",
      "actual:  -52.4 predicted:  -10.0\n",
      "promlem 20 / 50\n"
     ]
    },
    {
     "name": "stderr",
     "output_type": "stream",
     "text": [
      " 40%|████      | 20/50 [03:47<06:46, 13.54s/it]"
     ]
    },
    {
     "name": "stdout",
     "output_type": "stream",
     "text": [
      "----\n",
      "\n",
      "\n",
      "##Prediction: 100.0\n",
      "\n",
      "\n",
      "#Problem\n",
      "actual:  53.0 predicted:  100.0\n",
      "promlem 21 / 50\n"
     ]
    },
    {
     "name": "stderr",
     "output_type": "stream",
     "text": [
      " 42%|████▏     | 21/50 [03:50<04:53, 10.13s/it]"
     ]
    },
    {
     "name": "stdout",
     "output_type": "stream",
     "text": [
      "----\n",
      "\n",
      "\n",
      "##Prediction: 135.0\n",
      "\n",
      "\n",
      "#Problem\n",
      "actual:  55.75 predicted:  135.0\n",
      "promlem 22 / 50\n"
     ]
    },
    {
     "name": "stderr",
     "output_type": "stream",
     "text": [
      " 44%|████▍     | 22/50 [03:52<03:36,  7.73s/it]"
     ]
    },
    {
     "name": "stdout",
     "output_type": "stream",
     "text": [
      "----\n",
      "\n",
      "\n",
      "##Prediction: 130.0\n",
      "\n",
      "\n",
      "#Problem\n",
      "actual:  110.0 predicted:  130.0\n",
      "promlem 23 / 50\n"
     ]
    },
    {
     "name": "stderr",
     "output_type": "stream",
     "text": [
      " 46%|████▌     | 23/50 [03:55<02:49,  6.26s/it]"
     ]
    },
    {
     "name": "stdout",
     "output_type": "stream",
     "text": [
      "----\n",
      "\n",
      "\n",
      "##Prediction: 120.0\n",
      "\n",
      "\n",
      "#Problem\n",
      "actual:  109.85 predicted:  120.0\n",
      "promlem 24 / 50\n"
     ]
    },
    {
     "name": "stderr",
     "output_type": "stream",
     "text": [
      " 48%|████▊     | 24/50 [03:56<02:07,  4.88s/it]"
     ]
    },
    {
     "name": "stdout",
     "output_type": "stream",
     "text": [
      "----\n",
      "\n",
      "\n",
      "##Prediction: 105.0\n",
      "\n",
      "\n",
      "#Problem\n",
      "actual:  115.0 predicted:  105.0\n",
      "promlem 25 / 50\n"
     ]
    },
    {
     "name": "stderr",
     "output_type": "stream",
     "text": [
      " 50%|█████     | 25/50 [03:58<01:39,  3.99s/it]"
     ]
    },
    {
     "name": "stdout",
     "output_type": "stream",
     "text": [
      "----\n",
      "\n",
      "\n",
      "##Prediction: 130.0\n",
      "\n",
      "\n",
      "#Problem\n",
      "actual:  92.5 predicted:  130.0\n",
      "promlem 26 / 50\n"
     ]
    },
    {
     "name": "stderr",
     "output_type": "stream",
     "text": [
      " 52%|█████▏    | 26/50 [04:00<01:19,  3.30s/it]"
     ]
    },
    {
     "name": "stdout",
     "output_type": "stream",
     "text": [
      "----\n",
      "\n",
      "\n",
      "##Prediction: 104.0\n",
      "\n",
      "\n",
      "#Problem\n",
      "actual:  251.5 predicted:  104.0\n",
      "promlem 27 / 50\n"
     ]
    },
    {
     "name": "stderr",
     "output_type": "stream",
     "text": [
      " 54%|█████▍    | 27/50 [04:02<01:04,  2.83s/it]"
     ]
    },
    {
     "name": "stdout",
     "output_type": "stream",
     "text": [
      "----\n",
      "\n",
      "\n",
      "##Prediction: 170.0\n",
      "\n",
      "\n",
      "#Problem\n",
      "actual:  -16.0 predicted:  170.0\n",
      "promlem 28 / 50\n"
     ]
    },
    {
     "name": "stderr",
     "output_type": "stream",
     "text": [
      " 56%|█████▌    | 28/50 [04:04<00:58,  2.68s/it]"
     ]
    },
    {
     "name": "stdout",
     "output_type": "stream",
     "text": [
      "----\n",
      "\n",
      "\n",
      "##Prediction: 100.0\n",
      "\n",
      "\n",
      "#Problem\n",
      "actual:  256.5 predicted:  100.0\n",
      "promlem 29 / 50\n"
     ]
    },
    {
     "name": "stderr",
     "output_type": "stream",
     "text": [
      " 58%|█████▊    | 29/50 [04:19<02:15,  6.44s/it]"
     ]
    },
    {
     "name": "stdout",
     "output_type": "stream",
     "text": [
      "----\n",
      "\n",
      "\n",
      "The basic unit for 6-nitro-1H-indazole is indazole, which has a melting point of -10.5 °C. The nitro group is electron-withdrawing and can increase the polarity of the molecule, which could allow for stronger dipole-dipole interactions and potentially hydrogen bonding with protic solvents. The nitro group typically raises the melting point by an estimated +15 °C over unsubstituted indazole. The presence of a nitro group also increases the molecular weight, which could contribute to a higher melting point due to stronger London dispersion forces.\n",
      "##Prediction: -5.0\n",
      "\n",
      "\n",
      "#Problem\n",
      "actual:  181.0 predicted:  -5.0\n",
      "promlem 30 / 50\n"
     ]
    },
    {
     "name": "stderr",
     "output_type": "stream",
     "text": [
      " 60%|██████    | 30/50 [04:21<01:44,  5.21s/it]"
     ]
    },
    {
     "name": "stdout",
     "output_type": "stream",
     "text": [
      "----\n",
      "\n",
      "\n",
      "##Prediction: 128.0\n",
      "\n",
      "\n",
      "#Problem\n",
      "actual:  77.0 predicted:  128.0\n",
      "promlem 31 / 50\n"
     ]
    },
    {
     "name": "stderr",
     "output_type": "stream",
     "text": [
      " 62%|██████▏   | 31/50 [04:43<03:10, 10.03s/it]"
     ]
    },
    {
     "name": "stdout",
     "output_type": "stream",
     "text": [
      "----\n",
      "\n",
      "\n",
      "The compound 2-amino-6-fluoropyridine has a pyridine base with a melting point of approximately -10.5°C. The fluorine substituent is electron-withdrawing and can increase the melting point due to increased molecular polarity and rigidity. The amino group can also contribute to the melting point due to its basic nature and potential hydrogen bonding capabilities. Considering these effects, we can estimate an increase of approximately +20°C for the fluorine group and +10°C for the amino group.\n",
      "##Prediction: -7.5\n",
      "\n",
      "\n",
      "#Problem\n",
      "actual:  60.0 predicted:  -7.5\n",
      "promlem 32 / 50\n"
     ]
    },
    {
     "name": "stderr",
     "output_type": "stream",
     "text": [
      " 64%|██████▍   | 32/50 [04:46<02:25,  8.06s/it]"
     ]
    },
    {
     "name": "stdout",
     "output_type": "stream",
     "text": [
      "----\n",
      "\n",
      "\n",
      "##Prediction: 100.0\n",
      "\n",
      "\n",
      "#Problem\n",
      "actual:  -113.0 predicted:  100.0\n",
      "promlem 33 / 50\n"
     ]
    },
    {
     "name": "stderr",
     "output_type": "stream",
     "text": [
      " 66%|██████▌   | 33/50 [04:49<01:48,  6.38s/it]"
     ]
    },
    {
     "name": "stdout",
     "output_type": "stream",
     "text": [
      "----\n",
      "\n",
      "\n",
      "##Prediction: 120.0\n",
      "\n",
      "\n",
      "#Problem\n",
      "actual:  245.0 predicted:  120.0\n",
      "promlem 34 / 50\n"
     ]
    },
    {
     "name": "stderr",
     "output_type": "stream",
     "text": [
      " 68%|██████▊   | 34/50 [04:51<01:21,  5.07s/it]"
     ]
    },
    {
     "name": "stdout",
     "output_type": "stream",
     "text": [
      "----\n",
      "\n",
      "\n",
      "##Prediction: 140.0\n",
      "\n",
      "\n",
      "#Problem\n",
      "actual:  230.0 predicted:  140.0\n",
      "promlem 35 / 50\n"
     ]
    },
    {
     "name": "stderr",
     "output_type": "stream",
     "text": [
      " 70%|███████   | 35/50 [04:53<01:03,  4.24s/it]"
     ]
    },
    {
     "name": "stdout",
     "output_type": "stream",
     "text": [
      "----\n",
      "\n",
      "\n",
      "##Prediction: 120.0\n",
      "\n",
      "\n",
      "#Problem\n",
      "actual:  143.0 predicted:  120.0\n",
      "promlem 36 / 50\n"
     ]
    },
    {
     "name": "stderr",
     "output_type": "stream",
     "text": [
      " 72%|███████▏  | 36/50 [04:56<00:53,  3.86s/it]"
     ]
    },
    {
     "name": "stdout",
     "output_type": "stream",
     "text": [
      "----\n",
      "\n",
      "\n",
      "##Prediction: 175.0\n",
      "\n",
      "\n",
      "#Problem\n",
      "actual:  175.0 predicted:  175.0\n",
      "promlem 37 / 50\n"
     ]
    },
    {
     "name": "stderr",
     "output_type": "stream",
     "text": [
      " 74%|███████▍  | 37/50 [05:20<02:10, 10.06s/it]"
     ]
    },
    {
     "name": "stdout",
     "output_type": "stream",
     "text": [
      "----\n",
      "\n",
      "\n",
      "The base unit in 2-phenoxypropionic acid is benzene, which has a melting point of 5.5°C. Introducing a phenoxy group will generally increase this value because of the increased molecular complexity and potential for additional intermolecular interactions such as dipole-dipole attraction from the phenoxy oxygen. We can predict this might add approximately +80°C. The propionic acid side chain adds both hydrophobic alkyl chain that might slightly lower the melting point but also contains a carboxylic acid group, which can form strong intermolecular hydrogen bonds, significantly raising the melting point. The combined alkyl (-CH2- and -CH3) effects could be about -5°C while the carboxyl group could contribute +40°C due to hydrogen bonding potentials. The overall expected increase would be expected to be a sum of the individual contributions.\n",
      "##Prediction: 121.0\n",
      "\n",
      "\n",
      "#Problem\n",
      "actual:  117.75 predicted:  121.0\n",
      "promlem 38 / 50\n"
     ]
    }
   ],
   "source": [
    "#Loop: training, evaluation, data generation\n",
    "for generation in range(max_generations):\n",
    "    clear_output()\n",
    "    print(f\"Generation: {generation}\")\n",
    "    #prepare train dataset\n",
    "\n",
    "    ## reason data made by GPT4\n",
    "    train_dataset=copy.deepcopy(example_reasoning_dataset)\n",
    "\n",
    "    print(f\"GPT-generated reasons: {len(train_dataset)}\")\n",
    "\n",
    "    ## reason data made by model itself\n",
    "    for path in glob.glob(f\"{project_dir}/self_reasoning/*.json\"):\n",
    "        with open(path) as f:\n",
    "            train_dataset.append(json.load(f))\n",
    "\n",
    "    print(f\"All-generated reasons: {len(train_dataset)}\")\n",
    "    random.shuffle(train_dataset)\n",
    "\n",
    "    #train model\n",
    "    clean_vram()\n",
    "    model=init_model(model_name, r, lora_alpha, target_modules, bit=bit,device_map=device_map)\n",
    "    train_result=train_model(model,tokenizer,train_dataset,\n",
    "                    project_dir=project_dir,\n",
    "                    epochs=epochs,\n",
    "                    lr=lr,\n",
    "                    per_device_train_batch_size=per_device_train_batch_size,\n",
    "                    gradient_checkpointing=gradient_checkpointing,\n",
    "                    )\n",
    "\n",
    "    #eval\n",
    "\n",
    "    train_check_dataset=copy.deepcopy(train_dataset[:n_train_check])\n",
    "    random.shuffle(train_check_dataset)\n",
    "    train_eval_result=eval_model(model,tokenizer,train_check_dataset,\n",
    "                                f\"{project_dir}/eval\",\n",
    "                                n_prompt_examples=3,\n",
    "                                prompt_dataset=example_reasoning_dataset,\n",
    "                                prefix=f\"train_{generation}\"\n",
    "                                )\n",
    "\n",
    "    test_eval_result=eval_model(model,tokenizer,test_dataset,\n",
    "                                f\"{project_dir}/eval\",\n",
    "                                n_prompt_examples=3,\n",
    "                                prompt_dataset=example_reasoning_dataset,\n",
    "                                prefix=f\"test_{generation}\"\n",
    "                                )\n",
    "\n",
    "    #generate additional training data by self-reasoning\n",
    "    self_reasoning(model,tokenizer,base_train_dataset,\n",
    "                example_reasoning_dataset,project_dir,\n",
    "                generation=generation,\n",
    "                n_iterations=n_generation_iterations,\n",
    "                error_threshold=error_threshold,\n",
    "                n_max_trials=2)"
   ]
  },
  {
   "cell_type": "code",
   "execution_count": null,
   "metadata": {},
   "outputs": [],
   "source": []
  },
  {
   "cell_type": "code",
   "execution_count": null,
   "metadata": {},
   "outputs": [],
   "source": []
  }
 ],
 "metadata": {
  "kernelspec": {
   "display_name": "chemllm",
   "language": "python",
   "name": "python3"
  },
  "language_info": {
   "codemirror_mode": {
    "name": "ipython",
    "version": 3
   },
   "file_extension": ".py",
   "mimetype": "text/x-python",
   "name": "python",
   "nbconvert_exporter": "python",
   "pygments_lexer": "ipython3",
   "version": "3.10.0"
  }
 },
 "nbformat": 4,
 "nbformat_minor": 2
}
