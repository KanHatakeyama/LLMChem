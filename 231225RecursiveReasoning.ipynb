{
 "cells": [
  {
   "cell_type": "code",
   "execution_count": 56,
   "metadata": {},
   "outputs": [],
   "source": [
    "#再帰的に理由を生成させる\n",
    "\n",
    "#ライブラリの自動インポート\n",
    "%reload_ext autoreload\n",
    "%autoreload 2"
   ]
  },
  {
   "cell_type": "code",
   "execution_count": 57,
   "metadata": {},
   "outputs": [],
   "source": [
    "\n",
    "import pandas as pd\n",
    "import openai\n",
    "from tqdm import tqdm\n",
    "from src.utils.GPT import json_generate\n",
    "from src.qra_gen import generate_reason_and_predict\n",
    "import os"
   ]
  },
  {
   "cell_type": "code",
   "execution_count": 58,
   "metadata": {},
   "outputs": [],
   "source": [
    "\n",
    "openai.api_key =os.environ[\"OPENAI_API_KEY\"]"
   ]
  },
  {
   "cell_type": "code",
   "execution_count": 59,
   "metadata": {},
   "outputs": [
    {
     "data": {
      "text/plain": [
       "[{'mpC': 152.0,\n",
       "  'name': '3-phthalimidopropionic acid',\n",
       "  'smiles': 'c1ccc2c(c1)C(=O)N(C2=O)CCC(=O)O',\n",
       "  'csid': 69310,\n",
       "  'link': 'http://www.alfa.com/en/GP100W.pgm?DSSTK=L13535',\n",
       "  'source': 'Alfa Aesar'}]"
      ]
     },
     "execution_count": 59,
     "metadata": {},
     "output_type": "execute_result"
    }
   ],
   "source": [
    "#laod dataset as dict\n",
    "\"\"\"\n",
    "csv_path=\"dataset/BradleyMeltingPointDataset_practice.csv\"\n",
    "df=pd.read_csv(csv_path)\n",
    "chemical_records=df.to_dict(orient='records')\n",
    "chemical_records[:1]\n",
    "\"\"\""
   ]
  },
  {
   "cell_type": "code",
   "execution_count": 60,
   "metadata": {},
   "outputs": [],
   "source": [
    "chemical_record={'mpC': 152.0,\n",
    "  'name': '3-phthalimidopropionic acid',\n",
    "  'smiles': 'c1ccc2c(c1)C(=O)N(C2=O)CCC(=O)O',\n",
    "  'csid': 69310,\n",
    "  'link': 'http://www.alfa.com/en/GP100W.pgm?DSSTK=L13535',\n",
    "  'source': 'Alfa Aesar',\n",
    "  }"
   ]
  },
  {
   "cell_type": "code",
   "execution_count": 61,
   "metadata": {},
   "outputs": [],
   "source": [
    "model=\"gpt-4-1106-preview\""
   ]
  },
  {
   "cell_type": "code",
   "execution_count": 62,
   "metadata": {},
   "outputs": [],
   "source": [
    "system_prompt=\"\"\"\n",
    "Provide the quantitative Reason and Prediction so that a scientist, who does not know the melting point, can predict the value.\n",
    "\n",
    "#Commands\n",
    "- You must quantitatively consider how the melting point shifts, focusing on each functional groups.\n",
    "- If Actual value and Prediction differ each other significantly, rethink Reason.\n",
    "- If Prediction does not contain numbers for each functional group effect, rethink Reason\n",
    "\n",
    "\n",
    "#Example reason\n",
    "- Target compound: Toluene\n",
    "- Basic unit, benzene has a boiling point of 80.\n",
    "- Methyl group: +30 (due to larger molecular weight)\n",
    "- Prediction: 110\n",
    "\n",
    "\"\"\"\n"
   ]
  },
  {
   "cell_type": "code",
   "execution_count": 63,
   "metadata": {},
   "outputs": [],
   "source": [
    "def gen_prompt(chemical_record,reason=\"\",prediction=\"\"):\n",
    "    name=chemical_record[\"name\"]\n",
    "    smiles=chemical_record[\"smiles\"]\n",
    "    value=chemical_record[\"mpC\"]\n",
    "    prompt=f\"\"\"\n",
    "#Data\n",
    "-Name: {name}\n",
    "-SMILES: {smiles} \n",
    "-Actual value: {value}\n",
    "-Reason: {reason}\n",
    "-Prediction: {prediction}\n",
    "\n",
    "#Output (JSON keys)\n",
    "- Reason, Prediction\n",
    "\"\"\"\n",
    "    return prompt\n"
   ]
  },
  {
   "cell_type": "code",
   "execution_count": 64,
   "metadata": {},
   "outputs": [],
   "source": [
    "import json\n",
    "\n",
    "#ask gpt\n",
    "def json_generate(prompt,model=\"gpt-3.5-turbo-1106\"):\n",
    "    response = openai.chat.completions.create(\n",
    "    model=model,\n",
    "    messages=[\n",
    "        {\n",
    "            \"role\": \"system\",\n",
    "            \"content\": system_prompt,\n",
    "        },\n",
    "        {\n",
    "            \"role\": \"user\",\n",
    "            \"content\": f\"\"\"{prompt}\"\"\"\n",
    "        }  \n",
    "    ],\n",
    "    response_format={ \"type\": \"json_object\" }\n",
    "    )\n",
    "\n",
    "    return (json.loads(response.choices[0].message.content))\n",
    "\n",
    "\n"
   ]
  },
  {
   "cell_type": "code",
   "execution_count": 65,
   "metadata": {},
   "outputs": [],
   "source": [
    "import copy\n",
    "gen_record=copy.deepcopy(chemical_record)\n",
    "gen_record[\"Reason\"]=\"\"\n",
    "gen_record[\"Prediction\"]=\"\"\n",
    "\n",
    "record_history=[]\n",
    "record_history.append(copy.deepcopy(gen_record))"
   ]
  },
  {
   "cell_type": "code",
   "execution_count": 68,
   "metadata": {},
   "outputs": [],
   "source": [
    "r=json_generate(\n",
    "    gen_prompt(gen_record,\n",
    "               reason=gen_record[\"Reason\"],\n",
    "               prediction=gen_record[\"Prediction\"]\n",
    "    ),\n",
    "    model=model,\n",
    ")\n",
    "gen_record.update(r)\n",
    "record_history.append(copy.deepcopy(gen_record))"
   ]
  },
  {
   "cell_type": "code",
   "execution_count": 69,
   "metadata": {},
   "outputs": [
    {
     "data": {
      "text/plain": [
       "[{'mpC': 152.0,\n",
       "  'name': '3-phthalimidopropionic acid',\n",
       "  'smiles': 'c1ccc2c(c1)C(=O)N(C2=O)CCC(=O)O',\n",
       "  'csid': 69310,\n",
       "  'link': 'http://www.alfa.com/en/GP100W.pgm?DSSTK=L13535',\n",
       "  'source': 'Alfa Aesar',\n",
       "  'Value': 425.0,\n",
       "  'Reason': '',\n",
       "  'Prediction': ''},\n",
       " {'mpC': 152.0,\n",
       "  'name': '3-phthalimidopropionic acid',\n",
       "  'smiles': 'c1ccc2c(c1)C(=O)N(C2=O)CCC(=O)O',\n",
       "  'csid': 69310,\n",
       "  'link': 'http://www.alfa.com/en/GP100W.pgm?DSSTK=L13535',\n",
       "  'source': 'Alfa Aesar',\n",
       "  'Value': 425.0,\n",
       "  'Reason': \"To predict the melting point of 3-phthalimidopropionic acid, let's consider the effects of its functional groups and structure on its melting point relative to a basic reference compound. The key functional groups and structural features in 3-phthalimidopropionic acid are the phthalimide structure and the propionic acid side chain. The base structure for phthalimide can be phthalic anhydride, which has a melting point of around 131°C. The rigid, planar structure of phthalimide and its ability to form strong intermolecular hydrogen bonds significantly raise the melting point. The phthalimide unit might contribute an addition of +50°C due to these factors. The propionic acid side chain, with its carboxylic acid group, is capable of forming hydrogen bonds as well, which should further increase the melting point. Typically, the introduction of a carboxylic acid functional group to a benzene ring can raise the melting point by about +40°C. There's a synergistic effect due to the intramolecular hydrogen bond formation between the -COOH group and the phthalimide nitrogen, which may stabilize the crystal structure even further, this could add an additional +10°C. In summary, the prediction will be: 131 (base structure) + 50 (phthalimide structure) + 40 (propionic acid group) + 10 (synergistic stabilizing effect) = 231°C.\",\n",
       "  'Prediction': '231'},\n",
       " {'mpC': 152.0,\n",
       "  'name': '3-phthalimidopropionic acid',\n",
       "  'smiles': 'c1ccc2c(c1)C(=O)N(C2=O)CCC(=O)O',\n",
       "  'csid': 69310,\n",
       "  'link': 'http://www.alfa.com/en/GP100W.pgm?DSSTK=L13535',\n",
       "  'source': 'Alfa Aesar',\n",
       "  'Value': 425.0,\n",
       "  'Reason': 'To predict the melting point of 3-phthalimidopropionic acid, it is necessary to consider the effects of its functional groups on its melting point, starting with a related simpler compound. The base structure like phthalic anhydride has a melting point of around 131°C. The phthalimide structure in our target compound would enhance rigidity and planarity, contributing to stronger intermolecular interactions, particularly hydrogen bonding and possible pi-pi stacking. This may increase the melting point by approximately +20°C. The propionic acid side chain has a polar carboxylic acid group capable of forming strong intermolecular hydrogen bonds, which generally increases the melting point. Adding a carboxylic acid group to a benzene compound typically raises the melting point by about +40°C. However, considering the intramolecular hydrogen bonding between the carboxylic group and phthalimide nitrogen in the same molecule, the overall impact on the melting point might be slightly less than when the functional group is on benzene. Therefore, instead of +40°C, it might contribute an increase of +30°C. The combined effects of these features would then be: 131 (base structure) + 20 (phthalimide enhancement) + 30 (carboxylic acid group) = 181°C.',\n",
       "  'Prediction': '181'}]"
      ]
     },
     "execution_count": 69,
     "metadata": {},
     "output_type": "execute_result"
    }
   ],
   "source": [
    "record_history"
   ]
  },
  {
   "cell_type": "code",
   "execution_count": null,
   "metadata": {},
   "outputs": [],
   "source": []
  }
 ],
 "metadata": {
  "kernelspec": {
   "display_name": "chemllm",
   "language": "python",
   "name": "python3"
  },
  "language_info": {
   "codemirror_mode": {
    "name": "ipython",
    "version": 3
   },
   "file_extension": ".py",
   "mimetype": "text/x-python",
   "name": "python",
   "nbconvert_exporter": "python",
   "pygments_lexer": "ipython3",
   "version": "3.10.0"
  }
 },
 "nbformat": 4,
 "nbformat_minor": 2
}
