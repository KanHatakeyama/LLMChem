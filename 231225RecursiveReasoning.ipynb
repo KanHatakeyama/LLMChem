{
 "cells": [
  {
   "cell_type": "code",
   "execution_count": 56,
   "metadata": {},
   "outputs": [],
   "source": [
    "#再帰的に理由を生成させる\n",
    "\n",
    "#ライブラリの自動インポート\n",
    "%reload_ext autoreload\n",
    "%autoreload 2"
   ]
  },
  {
   "cell_type": "code",
   "execution_count": 57,
   "metadata": {},
   "outputs": [],
   "source": [
    "\n",
    "import pandas as pd\n",
    "import openai\n",
    "from tqdm import tqdm\n",
    "from src.utils.GPT import json_generate\n",
    "from src.qra_gen import generate_reason_and_predict\n",
    "import os"
   ]
  },
  {
   "cell_type": "code",
   "execution_count": 58,
   "metadata": {},
   "outputs": [],
   "source": [
    "\n",
    "openai.api_key =os.environ[\"OPENAI_API_KEY\"]"
   ]
  },
  {
   "cell_type": "code",
   "execution_count": 59,
   "metadata": {},
   "outputs": [
    {
     "data": {
      "text/plain": [
       "[{'mpC': 152.0,\n",
       "  'name': '3-phthalimidopropionic acid',\n",
       "  'smiles': 'c1ccc2c(c1)C(=O)N(C2=O)CCC(=O)O',\n",
       "  'csid': 69310,\n",
       "  'link': 'http://www.alfa.com/en/GP100W.pgm?DSSTK=L13535',\n",
       "  'source': 'Alfa Aesar'}]"
      ]
     },
     "execution_count": 59,
     "metadata": {},
     "output_type": "execute_result"
    }
   ],
   "source": [
    "#laod dataset as dict\n",
    "\"\"\"\n",
    "csv_path=\"dataset/BradleyMeltingPointDataset_practice.csv\"\n",
    "df=pd.read_csv(csv_path)\n",
    "chemical_records=df.to_dict(orient='records')\n",
    "chemical_records[:1]\n",
    "\"\"\""
   ]
  },
  {
   "cell_type": "code",
   "execution_count": 60,
   "metadata": {},
   "outputs": [],
   "source": [
    "chemical_record={'mpC': 152.0,\n",
    "  'name': '3-phthalimidopropionic acid',\n",
    "  'smiles': 'c1ccc2c(c1)C(=O)N(C2=O)CCC(=O)O',\n",
    "  'csid': 69310,\n",
    "  'link': 'http://www.alfa.com/en/GP100W.pgm?DSSTK=L13535',\n",
    "  'source': 'Alfa Aesar',\n",
    "  }"
   ]
  },
  {
   "cell_type": "code",
   "execution_count": 61,
   "metadata": {},
   "outputs": [],
   "source": [
    "model=\"gpt-4-1106-preview\""
   ]
  },
  {
   "cell_type": "code",
   "execution_count": 62,
   "metadata": {},
   "outputs": [],
   "source": [
    "system_prompt=\"\"\"\n",
    "Provide the quantitative Reason and Prediction so that a scientist, who does not know the melting point, can predict the value.\n",
    "\n",
    "#Commands\n",
    "- You must quantitatively consider how the melting point shifts, focusing on each functional groups.\n",
    "- If Actual value and Prediction differ each other significantly, rethink Reason.\n",
    "- If Prediction does not contain numbers for each functional group effect, rethink Reason\n",
    "\n",
    "\n",
    "#Example reason\n",
    "- Target compound: Toluene\n",
    "- Basic unit, benzene has a boiling point of 80.\n",
    "- Methyl group: +30 (due to larger molecular weight)\n",
    "- Prediction: 110\n",
    "\n",
    "\"\"\"\n"
   ]
  },
  {
   "cell_type": "code",
   "execution_count": 63,
   "metadata": {},
   "outputs": [],
   "source": [
    "def gen_prompt(chemical_record,reason=\"\",prediction=\"\"):\n",
    "    name=chemical_record[\"name\"]\n",
    "    smiles=chemical_record[\"smiles\"]\n",
    "    value=chemical_record[\"mpC\"]\n",
    "    prompt=f\"\"\"\n",
    "#Data\n",
    "-Name: {name}\n",
    "-SMILES: {smiles} \n",
    "-Actual value: {value}\n",
    "-Reason: {reason}\n",
    "-Prediction: {prediction}\n",
    "\n",
    "#Output (JSON keys)\n",
    "- Reason, Prediction\n",
    "\"\"\"\n",
    "    return prompt\n"
   ]
  },
  {
   "cell_type": "code",
   "execution_count": 64,
   "metadata": {},
   "outputs": [],
   "source": [
    "import json\n",
    "\n",
    "#ask gpt\n",
    "def json_generate(prompt,model=\"gpt-3.5-turbo-1106\"):\n",
    "    response = openai.chat.completions.create(\n",
    "    model=model,\n",
    "    messages=[\n",
    "        {\n",
    "            \"role\": \"system\",\n",
    "            \"content\": system_prompt,\n",
    "        },\n",
    "        {\n",
    "            \"role\": \"user\",\n",
    "            \"content\": f\"\"\"{prompt}\"\"\"\n",
    "        }  \n",
    "    ],\n",
    "    response_format={ \"type\": \"json_object\" }\n",
    "    )\n",
    "\n",
    "    return (json.loads(response.choices[0].message.content))\n",
    "\n",
    "\n"
   ]
  },
  {
   "cell_type": "code",
   "execution_count": 65,
   "metadata": {},
   "outputs": [],
   "source": [
    "import copy\n",
    "gen_record=copy.deepcopy(chemical_record)\n",
    "gen_record[\"Reason\"]=\"\"\n",
    "gen_record[\"Prediction\"]=\"\"\n",
    "\n",
    "record_history=[]\n",
    "record_history.append(copy.deepcopy(gen_record))"
   ]
  },
  {
   "cell_type": "code",
   "execution_count": 70,
   "metadata": {},
   "outputs": [],
   "source": [
    "#ここを2回ほど呼び出せばOK\n",
    "r=json_generate(\n",
    "    gen_prompt(gen_record,\n",
    "               reason=gen_record[\"Reason\"],\n",
    "               prediction=gen_record[\"Prediction\"]\n",
    "    ),\n",
    "    model=model,\n",
    ")\n",
    "gen_record.update(r)\n",
    "record_history.append(copy.deepcopy(gen_record))"
   ]
  },
  {
   "cell_type": "code",
   "execution_count": 71,
   "metadata": {},
   "outputs": [
    {
     "data": {
      "text/plain": [
       "[{'mpC': 152.0,\n",
       "  'name': '3-phthalimidopropionic acid',\n",
       "  'smiles': 'c1ccc2c(c1)C(=O)N(C2=O)CCC(=O)O',\n",
       "  'csid': 69310,\n",
       "  'link': 'http://www.alfa.com/en/GP100W.pgm?DSSTK=L13535',\n",
       "  'source': 'Alfa Aesar',\n",
       "  'Value': 425.0,\n",
       "  'Reason': '',\n",
       "  'Prediction': ''},\n",
       " {'mpC': 152.0,\n",
       "  'name': '3-phthalimidopropionic acid',\n",
       "  'smiles': 'c1ccc2c(c1)C(=O)N(C2=O)CCC(=O)O',\n",
       "  'csid': 69310,\n",
       "  'link': 'http://www.alfa.com/en/GP100W.pgm?DSSTK=L13535',\n",
       "  'source': 'Alfa Aesar',\n",
       "  'Value': 425.0,\n",
       "  'Reason': \"To predict the melting point of 3-phthalimidopropionic acid, let's consider the effects of its functional groups and structure on its melting point relative to a basic reference compound. The key functional groups and structural features in 3-phthalimidopropionic acid are the phthalimide structure and the propionic acid side chain. The base structure for phthalimide can be phthalic anhydride, which has a melting point of around 131°C. The rigid, planar structure of phthalimide and its ability to form strong intermolecular hydrogen bonds significantly raise the melting point. The phthalimide unit might contribute an addition of +50°C due to these factors. The propionic acid side chain, with its carboxylic acid group, is capable of forming hydrogen bonds as well, which should further increase the melting point. Typically, the introduction of a carboxylic acid functional group to a benzene ring can raise the melting point by about +40°C. There's a synergistic effect due to the intramolecular hydrogen bond formation between the -COOH group and the phthalimide nitrogen, which may stabilize the crystal structure even further, this could add an additional +10°C. In summary, the prediction will be: 131 (base structure) + 50 (phthalimide structure) + 40 (propionic acid group) + 10 (synergistic stabilizing effect) = 231°C.\",\n",
       "  'Prediction': '231'},\n",
       " {'mpC': 152.0,\n",
       "  'name': '3-phthalimidopropionic acid',\n",
       "  'smiles': 'c1ccc2c(c1)C(=O)N(C2=O)CCC(=O)O',\n",
       "  'csid': 69310,\n",
       "  'link': 'http://www.alfa.com/en/GP100W.pgm?DSSTK=L13535',\n",
       "  'source': 'Alfa Aesar',\n",
       "  'Value': 425.0,\n",
       "  'Reason': 'To predict the melting point of 3-phthalimidopropionic acid, it is necessary to consider the effects of its functional groups on its melting point, starting with a related simpler compound. The base structure like phthalic anhydride has a melting point of around 131°C. The phthalimide structure in our target compound would enhance rigidity and planarity, contributing to stronger intermolecular interactions, particularly hydrogen bonding and possible pi-pi stacking. This may increase the melting point by approximately +20°C. The propionic acid side chain has a polar carboxylic acid group capable of forming strong intermolecular hydrogen bonds, which generally increases the melting point. Adding a carboxylic acid group to a benzene compound typically raises the melting point by about +40°C. However, considering the intramolecular hydrogen bonding between the carboxylic group and phthalimide nitrogen in the same molecule, the overall impact on the melting point might be slightly less than when the functional group is on benzene. Therefore, instead of +40°C, it might contribute an increase of +30°C. The combined effects of these features would then be: 131 (base structure) + 20 (phthalimide enhancement) + 30 (carboxylic acid group) = 181°C.',\n",
       "  'Prediction': '181'},\n",
       " {'mpC': 152.0,\n",
       "  'name': '3-phthalimidopropionic acid',\n",
       "  'smiles': 'c1ccc2c(c1)C(=O)N(C2=O)CCC(=O)O',\n",
       "  'csid': 69310,\n",
       "  'link': 'http://www.alfa.com/en/GP100W.pgm?DSSTK=L13535',\n",
       "  'source': 'Alfa Aesar',\n",
       "  'Value': 425.0,\n",
       "  'Reason': 'To predict the melting point of 3-phthalimidopropionic acid, consideration of the incremental effects of introducing specific functional groups to a basic structural unit is required. Phthalic anhydride, which can be seen as a simpler compound related to the phthalimide core, has a melting point of approximately 131°C. The phthalimide moiety is likely to lead to an increase due to its rigid and planar nature, which enhances pi-pi stacking interactions and the potential for hydrogen bonding with the nitrogen in the imide. This could reasonably add about +20°C to our base value. The additional presence of a propionic acid side chain introduces a carboxylic acid group, which is known for its strong hydrogen bonding capabilities, raising the melting point significantly compared to hydrocarbons. Generally, adding such a group to a benzene-based compound could increase the melting point by around +50°C. However, the proximity of the carboxyl group to the phthalimide may result in intramolecular hydrogen bonding, which could slightly reduce its effect on the melting point compared to intermolecular hydrogen bonding. Therefore, it might contribute an increase of +30°C instead. Combining these estimated effects gives us a predicted melting point of: 131 (base structure) + 20 (phthalimide feature) + 30 (carboxylic acid group) = 181°C.',\n",
       "  'Prediction': '181'}]"
      ]
     },
     "execution_count": 71,
     "metadata": {},
     "output_type": "execute_result"
    }
   ],
   "source": [
    "record_history"
   ]
  },
  {
   "cell_type": "code",
   "execution_count": 81,
   "metadata": {},
   "outputs": [
    {
     "name": "stdout",
     "output_type": "stream",
     "text": [
      "Input tokens: 298\n",
      "Output tokens: 205\n",
      "Cost: 0.01826 USD\n",
      "Cost: 2.739 JP\n"
     ]
    }
   ],
   "source": [
    "#値段の概算\n",
    "t=gen_prompt(gen_record,\n",
    "               reason=gen_record[\"Reason\"],\n",
    "               prediction=gen_record[\"Prediction\"]\n",
    "    )\n",
    "user_len=len(t.split(\" \"))\n",
    "system_len=len(system_prompt.split(\" \"))\n",
    "\n",
    "input_cost=0.01/1000*(user_len+system_len)\n",
    "\n",
    "gen_len=len(gen_record[\"Reason\"].split(\" \"))+len(gen_record[\"Prediction\"].split(\" \"))\n",
    "output_cost=0.03/1000*gen_len\n",
    "\n",
    "n_trials=2\n",
    "cost=n_trials*(input_cost+output_cost)\n",
    "print(f\"Input tokens: {user_len+system_len}\")\n",
    "print(f\"Output tokens: {gen_len}\")\n",
    "print(f\"Cost: {cost} USD\")\n",
    "print(f\"Cost: {cost*150} JP\")"
   ]
  },
  {
   "cell_type": "code",
   "execution_count": null,
   "metadata": {},
   "outputs": [],
   "source": []
  }
 ],
 "metadata": {
  "kernelspec": {
   "display_name": "chemllm",
   "language": "python",
   "name": "python3"
  },
  "language_info": {
   "codemirror_mode": {
    "name": "ipython",
    "version": 3
   },
   "file_extension": ".py",
   "mimetype": "text/x-python",
   "name": "python",
   "nbconvert_exporter": "python",
   "pygments_lexer": "ipython3",
   "version": "3.10.0"
  }
 },
 "nbformat": 4,
 "nbformat_minor": 2
}
