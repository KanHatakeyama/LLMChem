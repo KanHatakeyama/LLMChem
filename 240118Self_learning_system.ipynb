{
 "cells": [
  {
   "cell_type": "markdown",
   "metadata": {},
   "source": [
    "# (Q)分子構造+(R)理由+(A)物性データセットのLLMによる学習と予測\n",
    "- Q&A: 融点データセットを使用\n",
    "- R: 自分自身で考えさせて､正解のデータを学習させる"
   ]
  },
  {
   "cell_type": "code",
   "execution_count": 1,
   "metadata": {},
   "outputs": [
    {
     "name": "stderr",
     "output_type": "stream",
     "text": [
      "/home/setup/miniconda3/envs/chemllm/lib/python3.10/site-packages/tqdm/auto.py:21: TqdmWarning: IProgress not found. Please update jupyter and ipywidgets. See https://ipywidgets.readthedocs.io/en/stable/user_install.html\n",
      "  from .autonotebook import tqdm as notebook_tqdm\n"
     ]
    }
   ],
   "source": [
    "%reload_ext autoreload\n",
    "%autoreload 2\n",
    "\n",
    "import os\n",
    "os.environ[\"CUDA_VISIBLE_DEVICES\"]=\"0\"\n",
    "\n",
    "from transformers import AutoTokenizer\n",
    "import pandas as pd\n",
    "import random\n",
    "import copy\n",
    "import glob\n",
    "import json\n",
    "from datetime import datetime\n",
    "from llmchem.utils import mk_dir,clean_vram\n",
    "\n",
    "#import clear_output\n",
    "\n",
    "from IPython.display import clear_output"
   ]
  },
  {
   "cell_type": "code",
   "execution_count": 2,
   "metadata": {},
   "outputs": [],
   "source": [
    "#dataset settings\n",
    "n_test=50 #number of testing data\n",
    "n_train_check=50 #number of training data for checking (i.e., checking everything takes too long, so we check only a part of training data)\n",
    "n_GPT_reasoning=10 # number of reasoning data made by GPT\n",
    "n_generation_iterations=300   # trial numbers to generate new self reasoning data\n",
    "max_generations=10**5\n",
    "\n",
    "#model settings\n",
    "model_name=\"mistralai/Mixtral-8x7B-Instruct-v0.1\"\n",
    "target_modules= [\n",
    "    \"lm_head\",\n",
    "    \"q_proj\",\n",
    "    \"k_proj\",\n",
    "    \"v_proj\",\n",
    "    \"o_proj\",\n",
    "    \"gate\",\n",
    "    \"w1\",\n",
    "    \"w2\",\n",
    "    \"w3\"\n",
    "]\n",
    "\n",
    "model_name=f\"meta-llama/Llama-2-7b-chat-hf\"\n",
    "target_modules= [\n",
    "    #\"embed_tokens\",\n",
    "    \"lm_head\",\n",
    "    #\"q_proj\",\n",
    "    #\"k_proj\",\n",
    "    \"v_proj\",\n",
    "    \"o_proj\",\n",
    "    \"gate_proj\",\n",
    "    \"up_proj\",\n",
    "    #\"down_proj\",\n",
    "]\n",
    "\n",
    "\n",
    "\n",
    "#LoRA settings\n",
    "r=32\n",
    "lora_alpha=r\n",
    "bit=16\n",
    "#bit=8\n",
    "#bit=4\n",
    "\n",
    "#train settings\n",
    "gradient_checkpointing =False\n",
    "per_device_train_batch_size=1\n",
    "epochs=3\n",
    "lr=10**-5\n",
    "\n",
    "#device settings\n",
    "device_map=\"auto\"\n",
    "\n",
    "#dataset path\n",
    "dataset_path=\"dataset/231225AutoReasoning/240117best_reason_record_3k.csv\"\n",
    "\n",
    "#project path\n",
    "project_dir=f\"results/projects/240118llama7b_{n_GPT_reasoning}\"\n",
    "\n",
    "#reasoning options\n",
    "error_threshold=30  # if abolute error is smaller than this, add to training data"
   ]
  },
  {
   "cell_type": "code",
   "execution_count": 3,
   "metadata": {},
   "outputs": [],
   "source": [
    "mk_dir(project_dir)\n",
    "mk_dir(project_dir+\"/eval\")\n",
    "mk_dir(project_dir+\"/self_reasoning\")\n",
    "mk_dir(project_dir+\"/train\")"
   ]
  },
  {
   "cell_type": "code",
   "execution_count": 4,
   "metadata": {},
   "outputs": [],
   "source": [
    "from llmchem.model import init_model\n",
    "from llmchem.train import train_model\n",
    "from llmchem.eval import eval_model\n",
    "from llmchem.reasoning import self_reasoning\n",
    "tokenizer = AutoTokenizer.from_pretrained(model_name)\n",
    "tokenizer.pad_token = tokenizer.eos_token"
   ]
  },
  {
   "cell_type": "code",
   "execution_count": 5,
   "metadata": {},
   "outputs": [],
   "source": [
    "#load base dataset\n",
    "\n",
    "df=pd.read_csv(dataset_path)\n",
    "dataset=df.to_dict(orient=\"records\")\n",
    "random.seed(0)\n",
    "random.shuffle(dataset)\n",
    "\n",
    "base_train_dataset=dataset[:-n_test]\n",
    "example_reasoning_dataset=base_train_dataset[:n_GPT_reasoning]\n",
    "test_dataset=dataset[-n_test:]"
   ]
  },
  {
   "cell_type": "code",
   "execution_count": 6,
   "metadata": {},
   "outputs": [
    {
     "name": "stdout",
     "output_type": "stream",
     "text": [
      "Generation: 0\n",
      "GPT-generated reasons: 10\n",
      "All-generated reasons: 10\n",
      "Using fp16 mode\n"
     ]
    },
    {
     "name": "stderr",
     "output_type": "stream",
     "text": [
      "The model was loaded with use_flash_attention_2=True, which is deprecated and may be removed in a future release. Please use `attn_implementation=\"flash_attention_2\"` instead.\n",
      "Loading checkpoint shards: 100%|██████████| 2/2 [00:02<00:00,  1.17s/it]\n",
      "Map: 100%|██████████| 10/10 [00:00<00:00, 1092.64 examples/s]\n",
      "You're using a LlamaTokenizerFast tokenizer. Please note that with a fast tokenizer, using the `__call__` method is faster than using a method to encode the text followed by a call to the `pad` method to get a padded encoding.\n"
     ]
    },
    {
     "data": {
      "text/html": [
       "\n",
       "    <div>\n",
       "      \n",
       "      <progress value='30' max='30' style='width:300px; height:20px; vertical-align: middle;'></progress>\n",
       "      [30/30 00:03, Epoch 3/3]\n",
       "    </div>\n",
       "    <table border=\"1\" class=\"dataframe\">\n",
       "  <thead>\n",
       " <tr style=\"text-align: left;\">\n",
       "      <th>Step</th>\n",
       "      <th>Training Loss</th>\n",
       "    </tr>\n",
       "  </thead>\n",
       "  <tbody>\n",
       "  </tbody>\n",
       "</table><p>"
      ],
      "text/plain": [
       "<IPython.core.display.HTML object>"
      ]
     },
     "metadata": {},
     "output_type": "display_data"
    },
    {
     "name": "stderr",
     "output_type": "stream",
     "text": [
      "  0%|          | 0/10 [00:00<?, ?it/s]"
     ]
    },
    {
     "name": "stdout",
     "output_type": "stream",
     "text": [
      "promlem 1 / 10\n"
     ]
    },
    {
     "name": "stderr",
     "output_type": "stream",
     "text": [
      " 10%|█         | 1/10 [01:14<11:10, 74.46s/it]"
     ]
    },
    {
     "name": "stdout",
     "output_type": "stream",
     "text": [
      "----\n",
      "\n",
      "\n",
      "The molecule, 2,2-Dimethyl-5-[(5-phenyl-2-furyl)methylene]-1,3-dioxane-4,6-dione, has a complex structure with multiple functional groups. We will evaluate their impact on the melting point:\n",
      "\n",
      "- 2,2-Dimethyl groups: These add steric bulk and increase molecular weight, which typically raises the melting point. We can estimate an increase of approximately +20°C for both methyl groups together.\n",
      "- Phenyl group: A single phenyl group usually raises the melting point of a compound due to its pi-pi stacking interactions and increased molecular complexity. Estimate an increase of approximately +60°C.\n",
      "- Furan ring: Heteroaromatic rings can have variable effects on melting point, depending on the substitution pattern. For this case, considering the conjugation and additional ring, we might estimate an increase of about +40°C.\n",
      "- Methylene linkage: Being a small linker, its influence is small. However, it adds rigidity to the molecule, so we can estimate a small increase of +5°C.\n",
      "- Two carbonyl groups on the dioxane ring: Carbonyl groups are polar and can form hydrogen bonds, thus increasing the melting point. However, in this case they are within a ring system, which makes them unable to engage in intermolecular hydrogen bonding. Yet, they contribute to the rigidity and electronic distribution in the molecule. We can estimate an increase of approximately +50°C for both carbonyl groups together. The total estimated impact on the melting point from all functional groups is: -40 (base) +\n",
      "promlem 2 / 10\n"
     ]
    },
    {
     "name": "stderr",
     "output_type": "stream",
     "text": [
      " 20%|██        | 2/10 [01:57<07:28, 56.11s/it]"
     ]
    },
    {
     "name": "stdout",
     "output_type": "stream",
     "text": [
      "----\n",
      "\n",
      "\n",
      "The compound has a melting point of 5.5°C, which is the melting point of the parent compound, benzene. The carboxylic acid ester functional group is present, which typically decreases the melting point by approximately -20 to -40°C due to less symmetry and weaker intermolecular forces, like hydrogen bonding. Each of the two hydroxy groups contributes to an increase in melting point due to increased hydrogen bonding capability. The hydroxy group on the benzene can raise the melting point by about 50 to 80°C because it participates in strong intermolecular hydrogen bonds due to its position on the rigid benzene ring. In contrast, the hydroxy group on the ethyl chain might contribute a smaller increase because of its greater rotational freedom and the flexibility of the chain, potentially around 20-40°C. Taken together, the net effect of the two hydroxy groups could be estimated to increase the melting point by 70 to 120°C.\n",
      "##Prediction: 37.0\n",
      "\n",
      "\n",
      "#Problem\n",
      "actual:  37.0 predicted:  37.0\n",
      "promlem 3 / 10\n"
     ]
    },
    {
     "name": "stderr",
     "output_type": "stream",
     "text": [
      " 30%|███       | 3/10 [02:00<03:41, 31.70s/it]"
     ]
    },
    {
     "name": "stdout",
     "output_type": "stream",
     "text": [
      "----\n",
      "\n",
      "\n",
      "##Prediction: 105.0\n",
      "\n",
      "\n",
      "#Problem\n",
      "actual:  -52.3 predicted:  105.0\n",
      "promlem 4 / 10\n"
     ]
    },
    {
     "name": "stderr",
     "output_type": "stream",
     "text": [
      " 40%|████      | 4/10 [02:02<02:00, 20.10s/it]"
     ]
    },
    {
     "name": "stdout",
     "output_type": "stream",
     "text": [
      "----\n",
      "\n",
      "\n",
      "##Prediction: 120.0\n",
      "\n",
      "\n",
      "#Problem\n",
      "actual:  147.0 predicted:  120.0\n",
      "promlem 5 / 10\n"
     ]
    },
    {
     "name": "stderr",
     "output_type": "stream",
     "text": [
      " 50%|█████     | 5/10 [02:05<01:09, 13.81s/it]"
     ]
    },
    {
     "name": "stdout",
     "output_type": "stream",
     "text": [
      "----\n",
      "\n",
      "\n",
      "##Prediction: 133.0\n",
      "\n",
      "\n",
      "#Problem\n",
      "actual:  133.0 predicted:  133.0\n",
      "promlem 6 / 10\n"
     ]
    },
    {
     "name": "stderr",
     "output_type": "stream",
     "text": [
      " 60%|██████    | 6/10 [03:00<01:51, 27.96s/it]"
     ]
    },
    {
     "name": "stdout",
     "output_type": "stream",
     "text": [
      "----\n",
      "\n",
      "\n",
      "#Solution\n",
      "The predicted melting points for the given compounds are:\n",
      "\n",
      "* m-diethenylbenzene: -54.5 degrees Celsius\n",
      "* pyrinoline: 147.0 degrees Celsius\n",
      "* 2,2'-(E)-diazene-1,2-diylbis(4,6-di-tert-butylphenol): 251.0 degrees Celsius\n",
      "\n",
      "Please note that these predictions are based on simplified reasoning and may not accurately reflect the actual melting points of these compounds, which can be influenced by various factors such as crystal structure, solvent effects, and experimental conditions. # 1999–2000 Scottish Football League\n",
      "\n",
      "The 1999–2000 Scottish Football League was the 103rd season of the Scottish Football League, which was the top tier of Scottish football. The league was won by Celtic, who were crowned champions for the third season in a row.\n",
      "\n",
      "Scottish Football League\n",
      "\n",
      "## League table\n",
      "\n",
      "Source: Scottish Football Historical ArchiveRules for classification: 1) Points; 2) Goal difference; 3) Goals scored; 4) Play-offs (only if needed to decide championship).Notes:\n",
      "\n",
      "## Results\n",
      "\n",
      "Source: Legend: Blue = home team win; Yellow = draw; Red = away team win.\n",
      "\n",
      "## Top goalscorers\n",
      "\n",
      "Source: Scottish Football Historical Archive\n",
      "\n",
      "## See also\n",
      "\n",
      "* 1999-00 in Scottish football\n",
      "* Scottish Premier League\n",
      "* Scottish Football League seasons\n",
      "* Scottish Cup\n",
      "* Scottish League Cup\n",
      "\n",
      "## External links\n",
      "\n",
      "* Scottish Football League season 1999-00 at Soccerbase\n",
      "* Scottish Football\n",
      "promlem 7 / 10\n"
     ]
    },
    {
     "name": "stderr",
     "output_type": "stream",
     "text": [
      " 70%|███████   | 7/10 [03:27<01:22, 27.40s/it]"
     ]
    },
    {
     "name": "stdout",
     "output_type": "stream",
     "text": [
      "----\n",
      "\n",
      "\n",
      "The molecule, 6-[bis(5-ethylfuran-2-yl)methyl]-7-nitro-2,3-dihydro-1,4-benzodioxine, contains a nitro functional group, which is known to increase the melting point due to its electronegative nature. The ethylfuran moiety is a heterocyclic ring, which can also contribute to the molecule's rigidity and increase the melting point. Additionally, the presence of a benzodioxine ring system and the methyl and nitro functional groups may also affect the melting point.\n",
      "##Prediction: 145.0\n",
      "\n",
      "\n",
      "#Problem\n",
      "actual:  86.0 predicted:  145.0\n",
      "promlem 8 / 10\n"
     ]
    },
    {
     "name": "stderr",
     "output_type": "stream",
     "text": [
      " 80%|████████  | 8/10 [03:29<00:38, 19.38s/it]"
     ]
    },
    {
     "name": "stdout",
     "output_type": "stream",
     "text": [
      "----\n",
      "\n",
      "\n",
      "##Prediction: \n",
      "\n",
      "\n",
      "#Problem\n",
      "promlem 9 / 10\n"
     ]
    },
    {
     "name": "stderr",
     "output_type": "stream",
     "text": [
      " 90%|█████████ | 9/10 [04:35<00:34, 34.11s/it]"
     ]
    },
    {
     "name": "stdout",
     "output_type": "stream",
     "text": [
      "----\n",
      "\n",
      "\n",
      "- Benzene ring: The base unit benzene has a melting point of 5.5 degrees Celsius.\n",
      "- Iodine atom: Iodine atoms are highly polarizable and can participate in hydrogen bonding, which can increase the melting point. A rough estimate for this contribution could be +20 degrees.\n",
      "- Aniline group: Aniline functional groups can contribute to hydrogen bonding and increase the melting point due to their electronegativity and polarity. This can be estimated to contribute about +40 degrees.\n",
      "- Molecular weight: Iodine is heavier than hydrogen, which can contribute to a higher melting point due to increased molecular weight. An estimated contribution might be +10 degrees.\n",
      "- Cumulative impact: The individual contributions of each group can be summed up, but it's also necessary to consider that the presence of multiple polar and hydrogen bonding functional groups in one molecule can lead to synergistic effects, amplifying the increase in melting point beyond the sum of individual contributions.\n",
      "Based on the above considerations, a rough estimate would be 5.5 (for the benzene rings) + 20 (for the iodine atom) + 40 (for the aniline group) + 10 (for the molecular weight) = 75 degrees Celsius. Adding a consideration for synergistic effects, a more refined estimate taking into account the cumulative polar and hydrogen bonding functional groups might be approximated as +40 degrees, leading to a predicted melting point of 115 degrees Celsius.\n",
      "##Prediction: 115\n",
      "\n",
      "\n",
      "#Problem\n",
      "actual:  55.75 predicted:  115\n",
      "promlem 10 / 10\n"
     ]
    },
    {
     "name": "stderr",
     "output_type": "stream",
     "text": [
      "100%|██████████| 10/10 [06:02<00:00, 36.26s/it]\n"
     ]
    },
    {
     "name": "stdout",
     "output_type": "stream",
     "text": [
      "----\n",
      "\n",
      "\n",
      "salinomycin is a complex molecule with multiple functional groups that affect its melting point. The main functional groups are:\n",
      "- Hydroxyl group: Hydroxyl groups are polar and can form hydrogen bonds, which increase the melting point. An estimated contribution of +20°C.\n",
      "- Carboxyl group: Carboxyl groups are polar and can form hydrogen bonds, which increase the melting point. An estimated contribution of +20°C.\n",
      "- Methyl groups: Methyl groups add steric bulk and increase molecular weight, which typically raises the melting point. An estimated contribution of +10°C.\n",
      "- Phenyl group: A single phenyl group usually raises the melting point of a compound due to its pi-pi stacking interactions and increased molecular complexity. An estimated contribution of +60°C.\n",
      "- Methylene bridge: The methylene bridge connects the two phenyl rings and adds rigidity to the molecule, which can increase the melting point. An estimated contribution of +10°C.\n",
      "- Other functional groups: Other functional groups in the molecule, such as the methyl groups on the phenyl rings, can also contribute to the melting point. An estimated contribution of +10°C.\n",
      "Based on the above considerations, a rough estimate for the melting point of salinomycin would be: 20 (hydroxyl group) + 20 (carboxyl group) + 10 (methyl groups) + 60 (phenyl group) + 10 (methylene bridge) + 10 (other functional groups) = 150°C. Adding a consideration for synergistic effects, a more refined estimate taking into\n"
     ]
    },
    {
     "name": "stderr",
     "output_type": "stream",
     "text": [
      "  0%|          | 0/50 [00:00<?, ?it/s]"
     ]
    },
    {
     "name": "stdout",
     "output_type": "stream",
     "text": [
      "promlem 1 / 50\n"
     ]
    },
    {
     "name": "stderr",
     "output_type": "stream",
     "text": [
      "  2%|▏         | 1/50 [00:03<02:46,  3.40s/it]"
     ]
    },
    {
     "name": "stdout",
     "output_type": "stream",
     "text": [
      "----\n",
      "\n",
      "\n",
      "##Prediction: 120.0\n",
      "\n",
      "\n",
      "#Problem\n",
      "actual:  -3.0 predicted:  120.0\n",
      "promlem 2 / 50\n"
     ]
    },
    {
     "name": "stderr",
     "output_type": "stream",
     "text": [
      "  4%|▍         | 2/50 [00:27<12:25, 15.54s/it]"
     ]
    },
    {
     "name": "stdout",
     "output_type": "stream",
     "text": [
      "----\n",
      "\n",
      "\n",
      "- The pyrazole ring is a planar, aromatic system with a high degree of electron delocalization, which tends to increase the melting point. Estimated increase of +20.\n",
      "- The bromine atom is a strong electronegative atom that can disrupt the planarity of the ring and increase the melting point. Estimated increase of +10.\n",
      "- The methyl groups are bulky and increase the molecular weight, which can also contribute to a higher melting point. Estimated increase of +10.\n",
      "\n",
      "Starting with a base melting point of 20°C for simple long chain hydrocarbons, these adjustments lead to a total estimation.\n",
      "##Prediction: 41.0\n",
      "\n",
      "\n",
      "#Problem\n",
      "actual:  121.0 predicted:  41.0\n",
      "promlem 3 / 50\n"
     ]
    },
    {
     "name": "stderr",
     "output_type": "stream",
     "text": [
      "  6%|▌         | 3/50 [00:52<15:27, 19.74s/it]"
     ]
    },
    {
     "name": "stdout",
     "output_type": "stream",
     "text": [
      "----\n",
      "\n",
      "\n",
      "The compound 4-amino-3-nitrophenol has a simple base structure, with a phenol group and an amino group attached to the same carbon atom. The phenol group has a melting point of approximately -10°C, while the amino group has a melting point of approximately -20°C. The nitro group adds a polar and electronegative atom, which can increase the melting point due to increased intermolecular interactions. We can estimate an increase of approximately +30°C for the nitro group.\n",
      "##Prediction: 150.0\n",
      "\n",
      "\n",
      "#Problem\n",
      "actual:  151.0 predicted:  150.0\n",
      "promlem 4 / 50\n"
     ]
    },
    {
     "name": "stderr",
     "output_type": "stream",
     "text": [
      "  8%|▊         | 4/50 [01:17<16:45, 21.85s/it]"
     ]
    },
    {
     "name": "stdout",
     "output_type": "stream",
     "text": [
      "----\n",
      "\n",
      "\n",
      "The compound Hexane-2,5-dione has a high melting point due to its molecular structure. The presence of a carboxylic acid group, which typically raises the melting point by +50-70°C, is a significant factor in this case. Additionally, the presence of a methyl group attached to the carboxylic acid, which can increase the melting point by +10-20°C, also contributes to the high melting point. The molecular weight of the compound is also a factor, as it can increase the melting point by +10-20°C for each additional carbon atom.\n",
      "##Prediction: 230.0\n",
      "\n",
      "\n",
      "#Problem\n",
      "actual:  -7.0 predicted:  230.0\n",
      "promlem 5 / 50\n"
     ]
    },
    {
     "name": "stderr",
     "output_type": "stream",
     "text": [
      " 10%|█         | 5/50 [01:20<11:19, 15.10s/it]"
     ]
    },
    {
     "name": "stdout",
     "output_type": "stream",
     "text": [
      "----\n",
      "\n",
      "\n",
      "##Prediction: 30.5\n",
      "\n",
      "\n",
      "#Problem\n",
      "actual:  31.0 predicted:  30.5\n",
      "promlem 6 / 50\n"
     ]
    },
    {
     "name": "stderr",
     "output_type": "stream",
     "text": [
      " 12%|█▏        | 6/50 [02:06<18:51, 25.71s/it]"
     ]
    },
    {
     "name": "stdout",
     "output_type": "stream",
     "text": [
      "----\n",
      "\n",
      "\n",
      "The compound's structural features, including the macrocyclic ring, saturated hydrocarbon chain, carboxylic acid functional group, and methyl groups, are evaluated to predict its melting point:\n",
      "\n",
      "- Macrocyclic ring structure: The ring adds rigidity and potential for intermolecular hydrogen bonding. Estimated to increase melting point by +40 over a basic hydrocarbon backbone.\n",
      "- Saturated hydrocarbon chain: The chain's rigidity and the presence of methyl groups contribute to an estimated increase of +20.\n",
      "- Carboxylic acid functional group: Raises the melting point due to increased polarity and hydrogen bonding. Estimated to contribute +50.\n",
      "- Methyl groups: Each methyl group contributes to an increase in melting point due to their small size and high polarity. Estimated at +10 per methyl group, giving an increase of +20.\n",
      "\n",
      "Starting with a base melting point of around 20°C for simple long chain hydrocarbons, these adjustments lead to a total estimation.\n",
      "##Prediction: 155.0\n",
      "\n",
      "\n",
      "#Problem\n",
      "actual:  201.0 predicted:  155.0\n",
      "promlem 7 / 50\n"
     ]
    },
    {
     "name": "stderr",
     "output_type": "stream",
     "text": [
      " 14%|█▍        | 7/50 [03:00<24:59, 34.87s/it]"
     ]
    },
    {
     "name": "stdout",
     "output_type": "stream",
     "text": [
      "----\n",
      "\n",
      "\n",
      "- Pyrimidine ring: The base unit pyrimidine has a melting point of 100 degrees Celsius.\n",
      "- Carboxamide group: Carboxamides tend to lower the melting point due to increased hydrogen bonding and decreased polarity. A rough estimate for its contribution could be -50 degrees.\n",
      "- Fluorine and chlorine atoms: These polar functional groups can increase the melting point due to increased steric hindrance and hydrogen bonding. An estimated contribution might be +20 degrees each.\n",
      "- Cumulative impact: The individual contributions of each group can be summed up, but it's also necessary to consider that the presence of multiple polar and hydrogen bonding functional groups in one molecule can lead to synergistic effects, amplifying the increase in melting point beyond the sum of individual contributions.\n",
      "Based on the above considerations, a rough estimate would be 100 (for the pyrimidine ring) - 50 (for the carboxamide group) + 20 (for the fluorine atom) + 20 (for the chlorine atom) = 150 degrees Celsius. Adding a consideration for synergistic effects, a more refined estimate taking into account the cumulative polar and hydrogen bonding functional groups might be approximated as +30 degrees, leading to a predicted melting point of 180 degrees Celsius.\n",
      "##Prediction: 180\n",
      "\n",
      "\n",
      "#Problem\n",
      "actual:  223.0 predicted:  180\n",
      "promlem 8 / 50\n"
     ]
    },
    {
     "name": "stderr",
     "output_type": "stream",
     "text": [
      " 16%|█▌        | 8/50 [03:30<23:20, 33.35s/it]"
     ]
    },
    {
     "name": "stdout",
     "output_type": "stream",
     "text": [
      "----\n",
      "\n",
      "\n",
      "The compound N-methyl-4-nitroaniline has a melting point of 100.5°C. The nitro group is a polar functional group that can increase the melting point due to increased electronegativity and hydrogen bonding capability. The methyl group adds steric bulk and increases the molecular weight, which also raises the melting point. The aniline ring itself has a melting point of approximately -40°C. The total estimated impact on the melting point from all functional groups is: -40 (base) + 20 (methyl group) + 60 (nitro group) = 100.5°C.\n",
      "##Prediction: 100.5\n",
      "\n",
      "\n",
      "#Problem\n",
      "actual:  153.0 predicted:  100.5\n",
      "promlem 9 / 50\n"
     ]
    },
    {
     "name": "stderr",
     "output_type": "stream",
     "text": [
      " 18%|█▊        | 9/50 [03:33<16:17, 23.84s/it]"
     ]
    },
    {
     "name": "stdout",
     "output_type": "stream",
     "text": [
      "----\n",
      "\n",
      "\n",
      "##Prediction: 105.5\n",
      "\n",
      "\n",
      "#Problem\n",
      "actual:  37.0 predicted:  105.5\n",
      "promlem 10 / 50\n"
     ]
    },
    {
     "name": "stderr",
     "output_type": "stream",
     "text": [
      " 20%|██        | 10/50 [03:36<11:35, 17.38s/it]"
     ]
    },
    {
     "name": "stdout",
     "output_type": "stream",
     "text": [
      "----\n",
      "\n",
      "\n",
      "##Prediction: 70.5\n",
      "\n",
      "\n",
      "#Problem\n",
      "actual:  169.0 predicted:  70.5\n",
      "promlem 11 / 50\n"
     ]
    },
    {
     "name": "stderr",
     "output_type": "stream",
     "text": [
      " 22%|██▏       | 11/50 [04:01<12:46, 19.66s/it]"
     ]
    },
    {
     "name": "stdout",
     "output_type": "stream",
     "text": [
      "----\n",
      "\n",
      "\n",
      "The molecular structure of heptacosane, a saturated hydrocarbon with 70 carbon atoms, is composed of a chain of carbon atoms with alternating double bonds. The presence of these double bonds increases the molecular weight and steric hindrance, which can contribute to a higher melting point. Additionally, the saturated nature of the molecule means that there are no polar functional groups to contribute to hydrogen bonding, which can also contribute to a higher melting point.\n",
      "Based on these considerations, a rough estimate for the melting point of heptacosane would be around 100-150 degrees Celsius.\n",
      "##Prediction: 125.0\n",
      "\n",
      "\n",
      "#Problem\n",
      "actual:  59.5 predicted:  125.0\n",
      "promlem 12 / 50\n"
     ]
    },
    {
     "name": "stderr",
     "output_type": "stream",
     "text": [
      " 24%|██▍       | 12/50 [04:04<09:13, 14.56s/it]"
     ]
    },
    {
     "name": "stdout",
     "output_type": "stream",
     "text": [
      "----\n",
      "\n",
      "\n",
      "##Prediction: 105.0\n",
      "\n",
      "\n",
      "#Problem\n",
      "actual:  -2.0 predicted:  105.0\n",
      "promlem 13 / 50\n"
     ]
    },
    {
     "name": "stderr",
     "output_type": "stream",
     "text": [
      " 26%|██▌       | 13/50 [04:05<06:34, 10.67s/it]"
     ]
    },
    {
     "name": "stdout",
     "output_type": "stream",
     "text": [
      "----\n",
      "\n",
      "\n",
      "##Prediction: 22.5\n",
      "\n",
      "\n",
      "#Problem\n",
      "actual:  81.3 predicted:  22.5\n",
      "promlem 14 / 50\n"
     ]
    },
    {
     "name": "stderr",
     "output_type": "stream",
     "text": [
      " 28%|██▊       | 14/50 [04:08<05:00,  8.35s/it]"
     ]
    },
    {
     "name": "stdout",
     "output_type": "stream",
     "text": [
      "----\n",
      "\n",
      "\n",
      "##Prediction: 125.0\n",
      "\n",
      "\n",
      "#Problem\n",
      "actual:  108.0 predicted:  125.0\n",
      "promlem 15 / 50\n"
     ]
    },
    {
     "name": "stderr",
     "output_type": "stream",
     "text": [
      " 30%|███       | 15/50 [04:36<08:21, 14.33s/it]"
     ]
    },
    {
     "name": "stdout",
     "output_type": "stream",
     "text": [
      "----\n",
      "\n",
      "\n",
      "The molecular structure of 2h-pyran-2,5-dicarboxylic acid, tetrahydro-2,6,6 contains a carboxylic acid functional group, which typically contributes to a decrease in melting point compared to the parent compound due to less symmetry and weaker intermolecular forces, like hydrogen bonding, which might decrease the melting point by approximately -20 to -40°C. The presence of the tetrahydro-2,6,6-pyran ring structure adds rigidity and potential for intermolecular hydrogen bonding, estimated to increase melting point by +20.\n",
      "##Prediction: 40.0\n",
      "\n",
      "\n",
      "#Problem\n",
      "actual:  208.0 predicted:  40.0\n",
      "promlem 16 / 50\n"
     ]
    },
    {
     "name": "stderr",
     "output_type": "stream",
     "text": [
      " 32%|███▏      | 16/50 [05:23<13:34, 23.95s/it]"
     ]
    },
    {
     "name": "stdout",
     "output_type": "stream",
     "text": [
      "----\n",
      "\n",
      "\n",
      "The molecular structure of 3-methoxypropionitrile consists of a methyl group attached to a nitrogen atom, which is connected to a carbon atom through a single bond. The carbon atom also has a double bond, which may contribute to the molecule's overall rigidity and potential for intermolecular interactions. The methyl group can participate in hydrogen bonding, and the nitrogen atom can also form hydrogen bonds due to its electronegativity. The double bond may contribute to the molecule's overall flexibility and conjugation, which can stabilize the molecule and increase its melting point.\n",
      "\n",
      "Based on the known melting points of similar molecules, we can estimate the melting point of 3-methoxypropionitrile. For example, the melting point of propionitrile is around 100°C, and the addition of a methyl group increases the melting point by approximately 10°C. Therefore, we can estimate the melting point of 3-methoxypropionitrile to be around 110°C.\n",
      "##Prediction: 110\n",
      "\n",
      "\n",
      "#Problem\n",
      "actual:  -63.0 predicted:  110\n",
      "promlem 17 / 50\n"
     ]
    },
    {
     "name": "stderr",
     "output_type": "stream",
     "text": [
      " 34%|███▍      | 17/50 [06:14<17:37, 32.04s/it]"
     ]
    },
    {
     "name": "stdout",
     "output_type": "stream",
     "text": [
      "----\n",
      "\n",
      "\n",
      "The compound 4-pyridoxic acid has a relatively low melting point of approximately -10°C, which can be attributed to its simple molecular structure. However, the presence of a pyridoxal ring, which contains a hydroxyl group, can increase the melting point due to hydrogen bonding and steric hindrance. Additionally, the carboxylic acid group can also contribute to the melting point through increased polarity and hydrogen bonding.\n",
      "Based on these considerations, we can estimate the impact of each functional group on the melting point:\n",
      "- Pyridoxal ring: The hydroxyl group in the pyridoxal ring can contribute to the melting point through hydrogen bonding, which can increase the melting point by approximately +20°C.\n",
      "- Carboxylic acid group: The carboxylic acid group can also contribute to the melting point through increased polarity and hydrogen bonding, which can increase the melting point by approximately +30°C.\n",
      "- Cumulative impact: The total estimated impact of both functional groups on the melting point can be approximated as +50°C.\n",
      "##Prediction: 15.0\n",
      "\n",
      "\n",
      "#Problem\n",
      "actual:  247.5 predicted:  15.0\n",
      "promlem 18 / 50\n"
     ]
    },
    {
     "name": "stderr",
     "output_type": "stream",
     "text": [
      " 36%|███▌      | 18/50 [06:17<12:30, 23.44s/it]"
     ]
    },
    {
     "name": "stdout",
     "output_type": "stream",
     "text": [
      "----\n",
      "\n",
      "\n",
      "##Prediction: 105.0\n",
      "\n",
      "\n",
      "#Problem\n",
      "actual:  175.0 predicted:  105.0\n",
      "promlem 19 / 50\n"
     ]
    },
    {
     "name": "stderr",
     "output_type": "stream",
     "text": [
      " 38%|███▊      | 19/50 [06:19<08:49, 17.08s/it]"
     ]
    },
    {
     "name": "stdout",
     "output_type": "stream",
     "text": [
      "----\n",
      "\n",
      "\n",
      "##Prediction: 17.0\n",
      "\n",
      "\n",
      "#Problem\n",
      "actual:  -83.0 predicted:  17.0\n",
      "promlem 20 / 50\n"
     ]
    },
    {
     "name": "stderr",
     "output_type": "stream",
     "text": [
      " 40%|████      | 20/50 [06:21<06:17, 12.57s/it]"
     ]
    },
    {
     "name": "stdout",
     "output_type": "stream",
     "text": [
      "----\n",
      "\n",
      "\n",
      "##Prediction: 230.0\n",
      "\n",
      "\n",
      "#Problem\n",
      "actual:  264.0 predicted:  230.0\n",
      "promlem 21 / 50\n"
     ]
    },
    {
     "name": "stderr",
     "output_type": "stream",
     "text": [
      " 42%|████▏     | 21/50 [06:45<07:44, 16.00s/it]"
     ]
    },
    {
     "name": "stdout",
     "output_type": "stream",
     "text": [
      "----\n",
      "\n",
      "\n",
      "The nitro group (NO2) is a polar functional group that can contribute to the melting point of a compound due to its electronegativity and ability to form dipole-dipole interactions. The pyridine ring is a planar, aromatic system that can also contribute to the melting point through pi-pi interactions. The presence of the amino group (NH2) can also contribute to the melting point due to its basic nature and ability to form hydrogen bonds. The nitro group is larger and more electronegative than the amino group, which may contribute to a larger increase in melting point. Additionally, the nitro group can participate in dipole-dipole interactions with other molecules, which can also increase the melting point. The pyridine ring can also participate in pi-pi interactions, which can also contribute to the melting point.\n",
      "##Prediction: 75.0\n",
      "\n",
      "\n",
      "#Problem\n",
      "actual:  203.0 predicted:  75.0\n",
      "promlem 22 / 50\n"
     ]
    },
    {
     "name": "stderr",
     "output_type": "stream",
     "text": [
      " 44%|████▍     | 22/50 [07:50<14:16, 30.60s/it]"
     ]
    },
    {
     "name": "stdout",
     "output_type": "stream",
     "text": [
      "----\n",
      "\n",
      "\n",
      "The compound ethyl 5-methyl-1-(4-methylphenyl)-4-{[5-(2-methylphenyl)-4,6-dioxo-4,5,6,6a-tetrahydro-3aH-pyrrolo[3,4-d]isoxazol-3-yl]carbonyl}-1H-pyrazole-3-carboxylate has a complex molecular structure with multiple functional groups and structural features that contribute to its high melting point. The presence of aromatic rings, such as the phenyl and pyrrole groups, tends to increase the melting point due to their planarity and ability to participate in π-π stacking. The tetrahydro-3aH-pyrrolo[3,4-d]isoxazol-3-yl group, which is a rigid and planar structure, also contributes to the high melting point. Additionally, the presence of a carboxylate group can increase the melting point due to the increased molecular weight and the steric hindrance caused by the side chain. The estimated contribution from each functional group can be calculated as follows:\n",
      "* Phenyl group: +25°C (based on the average increase in melting point for aromatic compounds)\n",
      "* Pyrrole group: +20°C (based on the average increase in melting point for aromatic compounds)\n",
      "* Tetrahydro-3aH-pyrrolo[3,4-d]isoxazol-3-yl group: +30°C (based on the average increase in melting point for a rigid and planar structure)\n",
      "* Carboxylate group: +10°C (based on the\n",
      "promlem 23 / 50\n"
     ]
    },
    {
     "name": "stderr",
     "output_type": "stream",
     "text": [
      " 46%|████▌     | 23/50 [07:54<10:07, 22.49s/it]"
     ]
    },
    {
     "name": "stdout",
     "output_type": "stream",
     "text": [
      "----\n",
      "\n",
      "\n",
      "##Prediction: 120.0\n",
      "\n",
      "\n",
      "#Problem\n",
      "actual:  73.0 predicted:  120.0\n",
      "promlem 24 / 50\n"
     ]
    },
    {
     "name": "stderr",
     "output_type": "stream",
     "text": [
      " 48%|████▊     | 24/50 [07:56<07:07, 16.46s/it]"
     ]
    },
    {
     "name": "stdout",
     "output_type": "stream",
     "text": [
      "----\n",
      "\n",
      "\n",
      "##Prediction: 53.5\n",
      "\n",
      "\n",
      "#Problem\n",
      "actual:  165.0 predicted:  53.5\n",
      "promlem 25 / 50\n"
     ]
    },
    {
     "name": "stderr",
     "output_type": "stream",
     "text": [
      " 50%|█████     | 25/50 [08:52<11:50, 28.42s/it]"
     ]
    },
    {
     "name": "stdout",
     "output_type": "stream",
     "text": [
      "----\n",
      "\n",
      "\n",
      "The compound has a complex structure with multiple functional groups that impact its melting point.\n",
      "- Benzene ring: The base unit benzene has a melting point of 5.5 degrees Celsius.\n",
      "- Hydrazine group: Hydrazones typically raise the melting point due to hydrogen bonding and increased polarity. A rough estimate for its contribution could be +50 degrees.\n",
      "- Carbonyl group: Carbonyl groups also raise the melting point due to increased polarity and resonance stability. This can be estimated to contribute about +60 degrees.\n",
      "- Methyl groups: Methyl groups increase the molecular weight leading to higher melting points, although the contribution is typically small. Estimated contribution might be +5 degrees.\n",
      "- Cumulative impact: The individual contributions of each group can be summed up, but it's also necessary to consider that the presence of multiple polar and hydrogen bonding functional groups in one molecule can lead to synergistic effects, amplifying the increase in melting point beyond the sum of individual contributions.\n",
      "Based on the above considerations, a rough estimate would be 5.5 (for the benzene rings) + 50 (for the hydrazine group) + 60 (for the carbonyl group) + 5 (for the methyl group) = 165 degrees Celsius. Adding a consideration for synergistic effects, a more refined estimate taking into account the cumulative polar and hydrogen bonding functional groups might be approximated as +80 degrees, leading to a predicted melting point of 245 degrees Celsius.\n",
      "##Prediction: 245\n",
      "\n",
      "\n",
      "#Problem\n",
      "actual:  109.0 predicted:  245\n",
      "promlem 26 / 50\n"
     ]
    },
    {
     "name": "stderr",
     "output_type": "stream",
     "text": [
      " 52%|█████▏    | 26/50 [09:17<10:56, 27.36s/it]"
     ]
    },
    {
     "name": "stdout",
     "output_type": "stream",
     "text": [
      "----\n",
      "\n",
      "\n",
      "- The presence of a hydroxyl group increases the melting point due to increased hydrogen bonding. Estimated contribution of +50 degrees.\n",
      "- The macrocyclic ring structure provides rigidity and potential for intermolecular hydrogen bonding, estimated to increase melting point by +40.\n",
      "- The carboxylic acid functional group also contributes to the melting point due to increased polarity and hydrogen bonding, estimated at +30.\n",
      "- The stereochemistry of the molecule may also contribute to the melting point, although the effect is less pronounced in this case. Estimated contribution of +10.\n",
      "##Prediction: 130.0\n",
      "\n",
      "\n",
      "#Problem\n",
      "actual:  161.35 predicted:  130.0\n",
      "promlem 27 / 50\n"
     ]
    },
    {
     "name": "stderr",
     "output_type": "stream",
     "text": [
      " 54%|█████▍    | 27/50 [09:49<11:01, 28.74s/it]"
     ]
    },
    {
     "name": "stdout",
     "output_type": "stream",
     "text": [
      "----\n",
      "\n",
      "\n",
      "The molecule ethyl 2-amino-4-(3,4-dimethylphenyl)thiophene-3-carboxylate has a complex structure with multiple functional groups. The thiophene ring itself has a melting point of around -12°C, while the amino group adds a further -10°C. The carboxyl group is a polar functional group that can increase the melting point by around 20°C. The phenyl group attached to the thiophene ring through a methylene linkage adds a further +60°C due to its aromatic character. The total estimated impact on the melting point from all functional groups is: -12 (thiophene) + -10 (amino group) + 20 (carboxyl group) + 60 (phenyl group) = 82°C.\n",
      "##Prediction: 82.0\n",
      "\n",
      "\n",
      "#Problem\n",
      "actual:  82.0 predicted:  82.0\n",
      "promlem 28 / 50\n"
     ]
    }
   ],
   "source": [
    "#Loop: training, evaluation, data generation\n",
    "for generation in range(max_generations):\n",
    "    clear_output()\n",
    "    print(f\"Generation: {generation}\")\n",
    "    #prepare train dataset\n",
    "\n",
    "    ## reason data made by GPT4\n",
    "    train_dataset=copy.deepcopy(example_reasoning_dataset)\n",
    "\n",
    "    print(f\"GPT-generated reasons: {len(train_dataset)}\")\n",
    "\n",
    "    ## reason data made by model itself\n",
    "    for path in glob.glob(f\"{project_dir}/self_reasoning/*.json\"):\n",
    "        with open(path) as f:\n",
    "            train_dataset.append(json.load(f))\n",
    "\n",
    "    print(f\"All-generated reasons: {len(train_dataset)}\")\n",
    "    random.shuffle(train_dataset)\n",
    "\n",
    "    #train model\n",
    "    clean_vram()\n",
    "    model=init_model(model_name, r, lora_alpha, target_modules, bit=bit,device_map=device_map)\n",
    "    train_result=train_model(model,tokenizer,train_dataset,\n",
    "                    project_dir=project_dir,\n",
    "                    epochs=epochs,\n",
    "                    lr=lr,\n",
    "                    per_device_train_batch_size=per_device_train_batch_size,\n",
    "                    gradient_checkpointing=gradient_checkpointing,\n",
    "                    )\n",
    "\n",
    "    #eval\n",
    "\n",
    "    train_check_dataset=copy.deepcopy(train_dataset[:n_train_check])\n",
    "    random.shuffle(train_check_dataset)\n",
    "    train_eval_result=eval_model(model,tokenizer,train_check_dataset,\n",
    "                                f\"{project_dir}/eval\",\n",
    "                                n_prompt_examples=3,\n",
    "                                prompt_dataset=example_reasoning_dataset,\n",
    "                                prefix=f\"train_{generation}\"\n",
    "                                )\n",
    "\n",
    "    test_eval_result=eval_model(model,tokenizer,test_dataset,\n",
    "                                f\"{project_dir}/eval\",\n",
    "                                n_prompt_examples=3,\n",
    "                                prompt_dataset=example_reasoning_dataset,\n",
    "                                prefix=f\"test_{generation}\"\n",
    "                                )\n",
    "\n",
    "    #generate additional training data by self-reasoning\n",
    "    self_reasoning(model,tokenizer,base_train_dataset,\n",
    "                example_reasoning_dataset,project_dir,\n",
    "                generation=generation,\n",
    "                n_iterations=n_generation_iterations,\n",
    "                error_threshold=error_threshold,\n",
    "                n_max_trials=2)"
   ]
  },
  {
   "cell_type": "code",
   "execution_count": null,
   "metadata": {},
   "outputs": [],
   "source": []
  },
  {
   "cell_type": "code",
   "execution_count": null,
   "metadata": {},
   "outputs": [],
   "source": []
  }
 ],
 "metadata": {
  "kernelspec": {
   "display_name": "chemllm",
   "language": "python",
   "name": "python3"
  },
  "language_info": {
   "codemirror_mode": {
    "name": "ipython",
    "version": 3
   },
   "file_extension": ".py",
   "mimetype": "text/x-python",
   "name": "python",
   "nbconvert_exporter": "python",
   "pygments_lexer": "ipython3",
   "version": "3.10.0"
  }
 },
 "nbformat": 4,
 "nbformat_minor": 2
}
