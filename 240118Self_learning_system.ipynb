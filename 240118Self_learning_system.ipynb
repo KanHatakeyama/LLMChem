{
 "cells": [
  {
   "cell_type": "markdown",
   "metadata": {},
   "source": [
    "# (Q)分子構造+(R)理由+(A)物性データセットのLLMによる学習と予測\n",
    "- Q&A: 融点データセットを使用\n",
    "- R: 自分自身で考えさせて､正解のデータを学習させる"
   ]
  },
  {
   "cell_type": "code",
   "execution_count": 1,
   "metadata": {},
   "outputs": [
    {
     "name": "stderr",
     "output_type": "stream",
     "text": [
      "/home/setup/miniconda3/envs/chemllm/lib/python3.10/site-packages/tqdm/auto.py:21: TqdmWarning: IProgress not found. Please update jupyter and ipywidgets. See https://ipywidgets.readthedocs.io/en/stable/user_install.html\n",
      "  from .autonotebook import tqdm as notebook_tqdm\n"
     ]
    }
   ],
   "source": [
    "%reload_ext autoreload\n",
    "%autoreload 2\n",
    "\n",
    "import os\n",
    "os.environ[\"CUDA_VISIBLE_DEVICES\"]=\"0\"\n",
    "\n",
    "from transformers import AutoTokenizer\n",
    "import pandas as pd\n",
    "import random\n",
    "import copy\n",
    "import glob\n",
    "import json\n",
    "from datetime import datetime\n",
    "from llmchem.utils import mk_dir,clean_vram\n",
    "\n",
    "#import clear_output\n",
    "\n",
    "from IPython.display import clear_output"
   ]
  },
  {
   "cell_type": "code",
   "execution_count": 2,
   "metadata": {},
   "outputs": [],
   "source": [
    "#dataset settings\n",
    "n_test=50 #number of testing data\n",
    "n_train_check=50 #number of training data for checking (i.e., checking everything takes too long, so we check only a part of training data)\n",
    "n_GPT_reasoning=10 # number of reasoning data made by GPT\n",
    "n_generation_iterations=300   # trial numbers to generate new self reasoning data\n",
    "max_generations=10**5\n",
    "\n",
    "#model settings\n",
    "model_name=\"mistralai/Mixtral-8x7B-Instruct-v0.1\"\n",
    "target_modules= [\n",
    "    \"lm_head\",\n",
    "    \"q_proj\",\n",
    "    \"k_proj\",\n",
    "    \"v_proj\",\n",
    "    \"o_proj\",\n",
    "    \"gate\",\n",
    "    \"w1\",\n",
    "    \"w2\",\n",
    "    \"w3\"\n",
    "]\n",
    "\n",
    "model_name=f\"meta-llama/Llama-2-7b-chat-hf\"\n",
    "target_modules= [\n",
    "    #\"embed_tokens\",\n",
    "    \"lm_head\",\n",
    "    #\"q_proj\",\n",
    "    #\"k_proj\",\n",
    "    \"v_proj\",\n",
    "    \"o_proj\",\n",
    "    \"gate_proj\",\n",
    "    \"up_proj\",\n",
    "    #\"down_proj\",\n",
    "]\n",
    "\n",
    "\n",
    "\n",
    "#LoRA settings\n",
    "r=32\n",
    "lora_alpha=r\n",
    "bit=16\n",
    "#bit=8\n",
    "#bit=4\n",
    "\n",
    "#train settings\n",
    "gradient_checkpointing =False\n",
    "per_device_train_batch_size=1\n",
    "epochs=3\n",
    "lr=10**-5\n",
    "\n",
    "#device settings\n",
    "device_map=\"auto\"\n",
    "\n",
    "#dataset path\n",
    "dataset_path=\"dataset/231225AutoReasoning/240117best_reason_record_3k.csv\"\n",
    "\n",
    "#project path\n",
    "project_dir=f\"results/projects/240118llama7b_{n_GPT_reasoning}\"\n",
    "\n",
    "#reasoning options\n",
    "error_threshold=30  # if abolute error is smaller than this, add to training data"
   ]
  },
  {
   "cell_type": "code",
   "execution_count": 3,
   "metadata": {},
   "outputs": [],
   "source": [
    "mk_dir(project_dir)\n",
    "mk_dir(project_dir+\"/eval\")\n",
    "mk_dir(project_dir+\"/self_reasoning\")\n",
    "mk_dir(project_dir+\"/train\")"
   ]
  },
  {
   "cell_type": "code",
   "execution_count": 4,
   "metadata": {},
   "outputs": [],
   "source": [
    "from llmchem.model import init_model\n",
    "from llmchem.train import train_model\n",
    "from llmchem.eval import eval_model\n",
    "from llmchem.reasoning import self_reasoning\n",
    "tokenizer = AutoTokenizer.from_pretrained(model_name)\n",
    "tokenizer.pad_token = tokenizer.eos_token"
   ]
  },
  {
   "cell_type": "code",
   "execution_count": 5,
   "metadata": {},
   "outputs": [],
   "source": [
    "#load base dataset\n",
    "\n",
    "df=pd.read_csv(dataset_path)\n",
    "dataset=df.to_dict(orient=\"records\")\n",
    "random.seed(0)\n",
    "random.shuffle(dataset)\n",
    "\n",
    "base_train_dataset=dataset[:-n_test]\n",
    "example_reasoning_dataset=base_train_dataset[:n_GPT_reasoning]\n",
    "test_dataset=dataset[-n_test:]"
   ]
  },
  {
   "cell_type": "code",
   "execution_count": 6,
   "metadata": {},
   "outputs": [
    {
     "name": "stdout",
     "output_type": "stream",
     "text": [
      "Generation: 0\n",
      "GPT-generated reasons: 10\n",
      "All-generated reasons: 10\n",
      "Using fp16 mode\n"
     ]
    },
    {
     "name": "stderr",
     "output_type": "stream",
     "text": [
      "The model was loaded with use_flash_attention_2=True, which is deprecated and may be removed in a future release. Please use `attn_implementation=\"flash_attention_2\"` instead.\n"
     ]
    },
    {
     "name": "stderr",
     "output_type": "stream",
     "text": [
      "Loading checkpoint shards: 100%|██████████| 2/2 [00:02<00:00,  1.15s/it]\n",
      "Map: 100%|██████████| 10/10 [00:00<00:00, 981.84 examples/s]\n",
      "You're using a LlamaTokenizerFast tokenizer. Please note that with a fast tokenizer, using the `__call__` method is faster than using a method to encode the text followed by a call to the `pad` method to get a padded encoding.\n"
     ]
    },
    {
     "data": {
      "text/html": [
       "\n",
       "    <div>\n",
       "      \n",
       "      <progress value='30' max='30' style='width:300px; height:20px; vertical-align: middle;'></progress>\n",
       "      [30/30 00:03, Epoch 3/3]\n",
       "    </div>\n",
       "    <table border=\"1\" class=\"dataframe\">\n",
       "  <thead>\n",
       " <tr style=\"text-align: left;\">\n",
       "      <th>Step</th>\n",
       "      <th>Training Loss</th>\n",
       "    </tr>\n",
       "  </thead>\n",
       "  <tbody>\n",
       "  </tbody>\n",
       "</table><p>"
      ],
      "text/plain": [
       "<IPython.core.display.HTML object>"
      ]
     },
     "metadata": {},
     "output_type": "display_data"
    },
    {
     "name": "stderr",
     "output_type": "stream",
     "text": [
      "  0%|          | 0/10 [00:00<?, ?it/s]"
     ]
    },
    {
     "name": "stdout",
     "output_type": "stream",
     "text": [
      "promlem 1 / 10\n"
     ]
    },
    {
     "name": "stderr",
     "output_type": "stream",
     "text": [
      " 10%|█         | 1/10 [01:13<11:02, 73.65s/it]"
     ]
    },
    {
     "name": "stdout",
     "output_type": "stream",
     "text": [
      "----\n",
      "\n",
      "\n",
      "The molecule, 2,2-Dimethyl-5-[(5-phenyl-2-furyl)methylene]-1,3-dioxane-4,6-dione, has a complex structure with multiple functional groups. We will evaluate their impact on the melting point:\n",
      "\n",
      "- 2,2-Dimethyl groups: These add steric bulk and increase molecular weight, which typically raises the melting point. We can estimate an increase of approximately +20°C for both methyl groups together.\n",
      "- Phenyl group: A single phenyl group usually raises the melting point of a compound due to its pi-pi stacking interactions and increased molecular complexity. Estimate an increase of approximately +60°C.\n",
      "- Furan ring: Heteroaromatic rings can have variable effects on melting point, depending on the substitution pattern. For this case, considering the conjugation and additional ring, we might estimate an increase of about +40°C.\n",
      "- Methylene linkage: Being a small linker, its influence is small. However, it adds rigidity to the molecule, so we can estimate a small increase of +5°C.\n",
      "- Two carbonyl groups on the dioxane ring: Carbonyl groups are polar and can form hydrogen bonds, thus increasing the melting point. However, in this case they are within a ring system, which makes them unable to engage in intermolecular hydrogen bonding. Yet, they contribute to the rigidity and electronic distribution in the molecule. We can estimate an increase of approximately +50°C for both carbonyl groups together. The total estimated impact on the melting point from all functional groups is: -40 (base) +\n",
      "promlem 2 / 10\n"
     ]
    },
    {
     "name": "stderr",
     "output_type": "stream",
     "text": [
      " 20%|██        | 2/10 [01:56<07:25, 55.69s/it]"
     ]
    },
    {
     "name": "stdout",
     "output_type": "stream",
     "text": [
      "----\n",
      "\n",
      "\n",
      "The compound has a melting point of 5.5°C, which is the melting point of the parent compound, benzene. The carboxylic acid ester functional group is present, which typically decreases the melting point by approximately -20 to -40°C due to less symmetry and weaker intermolecular forces, like hydrogen bonding. Each of the two hydroxy groups contributes to an increase in melting point due to increased hydrogen bonding capability. The hydroxy group on the benzene can raise the melting point by about 50 to 80°C because it participates in strong intermolecular hydrogen bonds due to its position on the rigid benzene ring. In contrast, the hydroxy group on the ethyl chain might contribute a smaller increase because of its greater rotational freedom and the flexibility of the chain, potentially around 20-40°C. Taken together, the net effect of the two hydroxy groups could be estimated to increase the melting point by 70 to 120°C.\n",
      "##Prediction: 37.0\n",
      "\n",
      "\n",
      "#Problem\n",
      "actual:  37.0 predicted:  37.0\n",
      "promlem 3 / 10\n"
     ]
    },
    {
     "name": "stderr",
     "output_type": "stream",
     "text": [
      " 30%|███       | 3/10 [01:59<03:40, 31.47s/it]"
     ]
    },
    {
     "name": "stdout",
     "output_type": "stream",
     "text": [
      "----\n",
      "\n",
      "\n",
      "##Prediction: 105.0\n",
      "\n",
      "\n",
      "#Problem\n",
      "actual:  -52.3 predicted:  105.0\n",
      "promlem 4 / 10\n"
     ]
    },
    {
     "name": "stderr",
     "output_type": "stream",
     "text": [
      " 40%|████      | 4/10 [02:01<01:59, 19.96s/it]"
     ]
    },
    {
     "name": "stdout",
     "output_type": "stream",
     "text": [
      "----\n",
      "\n",
      "\n",
      "##Prediction: 120.0\n",
      "\n",
      "\n",
      "#Problem\n",
      "actual:  147.0 predicted:  120.0\n",
      "promlem 5 / 10\n"
     ]
    },
    {
     "name": "stderr",
     "output_type": "stream",
     "text": [
      " 50%|█████     | 5/10 [02:04<01:09, 13.83s/it]"
     ]
    },
    {
     "name": "stdout",
     "output_type": "stream",
     "text": [
      "----\n",
      "\n",
      "\n",
      "##Prediction: 133.0\n",
      "\n",
      "\n",
      "#Problem\n",
      "actual:  133.0 predicted:  133.0\n",
      "promlem 6 / 10\n"
     ]
    },
    {
     "name": "stderr",
     "output_type": "stream",
     "text": [
      " 60%|██████    | 6/10 [02:58<01:50, 27.53s/it]"
     ]
    },
    {
     "name": "stdout",
     "output_type": "stream",
     "text": [
      "----\n",
      "\n",
      "\n",
      "#Solution\n",
      "The predicted melting points for the given compounds are:\n",
      "\n",
      "* m-diethenylbenzene: -54.5 degrees Celsius\n",
      "* pyrinoline: 147.0 degrees Celsius\n",
      "* 2,2'-(E)-diazene-1,2-diylbis(4,6-di-tert-butylphenol): 251.0 degrees Celsius\n",
      "\n",
      "Please note that these predictions are based on simplified reasoning and may not accurately reflect the actual melting points of these compounds, which can be influenced by various factors such as crystal structure, solvent effects, and experimental conditions. # 1999–2000 Scottish Football League\n",
      "\n",
      "The 1999–2000 Scottish Football League was the 103rd season of the Scottish Football League, which was the top tier of Scottish football. The league was won by Celtic, who were crowned champions for the third season in a row.\n",
      "\n",
      "Scottish Football League\n",
      "\n",
      "## League table\n",
      "\n",
      "Source: Scottish Football Historical ArchiveRules for classification: 1) Points; 2) Goal difference; 3) Goals scored; 4) Play-offs (only if needed to decide championship).Notes:\n",
      "\n",
      "## Results\n",
      "\n",
      "Source: Legend: Blue = home team win; Yellow = draw; Red = away team win.\n",
      "\n",
      "## Top goalscorers\n",
      "\n",
      "Source: Scottish Football Historical Archive\n",
      "\n",
      "## See also\n",
      "\n",
      "* 1999-00 in Scottish football\n",
      "* Scottish Premier League\n",
      "* Scottish Football League seasons\n",
      "* Scottish Cup\n",
      "* Scottish League Cup\n",
      "\n",
      "## External links\n",
      "\n",
      "* Scottish Football League (SF League)\n",
      "* Scottish Football Historical Archive # 19\n",
      "promlem 7 / 10\n"
     ]
    },
    {
     "name": "stderr",
     "output_type": "stream",
     "text": [
      " 70%|███████   | 7/10 [03:24<01:20, 26.83s/it]"
     ]
    },
    {
     "name": "stdout",
     "output_type": "stream",
     "text": [
      "----\n",
      "\n",
      "\n",
      "The molecule, 6-[bis(5-ethylfuran-2-yl)methyl]-7-nitro-2,3-dihydro-1,4-benzodioxine, contains a nitro functional group, which is known to increase the melting point due to its electronegative nature. The ethylfuran moiety is a heterocyclic ring, which can also contribute to the molecule's rigidity and increase the melting point. Additionally, the presence of a benzodioxine ring system and the methyl and nitro functional groups may also affect the melting point.\n",
      "##Prediction: 145.0\n",
      "\n",
      "\n",
      "#Problem\n",
      "actual:  86.0 predicted:  145.0\n",
      "promlem 8 / 10\n"
     ]
    },
    {
     "name": "stderr",
     "output_type": "stream",
     "text": [
      " 80%|████████  | 8/10 [03:26<00:37, 18.99s/it]"
     ]
    },
    {
     "name": "stdout",
     "output_type": "stream",
     "text": [
      "----\n",
      "\n",
      "\n",
      "##Prediction: \n",
      "\n",
      "\n",
      "#Problem\n",
      "promlem 9 / 10\n"
     ]
    },
    {
     "name": "stderr",
     "output_type": "stream",
     "text": [
      " 90%|█████████ | 9/10 [04:34<00:34, 34.29s/it]"
     ]
    },
    {
     "name": "stdout",
     "output_type": "stream",
     "text": [
      "----\n",
      "\n",
      "\n",
      "- Benzene ring: The base unit benzene has a melting point of 5.5 degrees Celsius.\n",
      "- Iodine atom: Iodine atoms are highly polarizable and can participate in hydrogen bonding, which can increase the melting point. A rough estimate for this contribution could be +20 degrees.\n",
      "- Aniline group: Aniline functional groups can contribute to hydrogen bonding and increase the melting point due to their electronegativity and polarity. This can be estimated to contribute about +40 degrees.\n",
      "- Molecular weight: Iodine is heavier than hydrogen, which can contribute to a higher melting point due to increased molecular weight. An estimated contribution might be +10 degrees.\n",
      "- Cumulative impact: The individual contributions of each group can be summed up, but it's also necessary to consider that the presence of multiple polar and hydrogen bonding functional groups in one molecule can lead to synergistic effects, amplifying the increase in melting point beyond the sum of individual contributions.\n",
      "Based on the above considerations, a rough estimate would be 5.5 (for the benzene rings) + 20 (for the iodine atom) + 40 (for the aniline group) + 10 (for the molecular weight) = 75 degrees Celsius. Adding a consideration for synergistic effects, a more refined estimate taking into account the cumulative polar and hydrogen bonding functional groups might be approximated as +40 degrees, leading to a predicted melting point of 115 degrees Celsius.\n",
      "##Prediction: 115\n",
      "\n",
      "\n",
      "#Problem\n",
      "actual:  55.75 predicted:  115\n",
      "promlem 10 / 10\n"
     ]
    },
    {
     "name": "stderr",
     "output_type": "stream",
     "text": [
      "100%|██████████| 10/10 [06:00<00:00, 36.10s/it]\n"
     ]
    },
    {
     "name": "stdout",
     "output_type": "stream",
     "text": [
      "----\n",
      "\n",
      "\n",
      "salinomycin is a complex molecule with multiple functional groups that affect its melting point. The main functional groups are:\n",
      "- Hydroxyl group: Hydroxyl groups are polar and can form hydrogen bonds, which increase the melting point. An estimated contribution of +20°C.\n",
      "- Carboxyl group: Carboxyl groups are polar and can form hydrogen bonds, which increase the melting point. An estimated contribution of +20°C.\n",
      "- Methyl groups: Methyl groups add steric bulk and increase molecular weight, which typically raises the melting point. An estimated contribution of +10°C.\n",
      "- Phenyl group: A single phenyl group usually raises the melting point of a compound due to its pi-pi stacking interactions and increased molecular complexity. An estimated contribution of +60°C.\n",
      "- Methylene bridge: The methylene bridge connects the two phenyl rings and adds rigidity to the molecule, which can increase the melting point. An estimated contribution of +10°C.\n",
      "- Other functional groups: Other functional groups in the molecule, such as the methyl groups on the phenyl rings, can also contribute to the melting point. An estimated contribution of +10°C.\n",
      "Based on the above considerations, a rough estimate for the melting point of salinomycin would be: 20 (hydroxyl group) + 20 (carboxyl group) + 10 (methyl groups) + 60 (phenyl group) + 10 (methylene bridge) + 10 (other functional groups) = 150°C. Adding a consideration for synergistic effects, a more refined estimate taking into\n"
     ]
    },
    {
     "name": "stderr",
     "output_type": "stream",
     "text": [
      "  0%|          | 0/50 [00:00<?, ?it/s]"
     ]
    },
    {
     "name": "stdout",
     "output_type": "stream",
     "text": [
      "promlem 1 / 50\n"
     ]
    },
    {
     "name": "stderr",
     "output_type": "stream",
     "text": [
      "  2%|▏         | 1/50 [00:03<03:04,  3.76s/it]"
     ]
    },
    {
     "name": "stdout",
     "output_type": "stream",
     "text": [
      "----\n",
      "\n",
      "\n",
      "##Prediction: 100.0\n",
      "\n",
      "\n",
      "#Problem\n",
      "actual:  -3.0 predicted:  100.0\n",
      "promlem 2 / 50\n"
     ]
    },
    {
     "name": "stderr",
     "output_type": "stream",
     "text": [
      "  4%|▍         | 2/50 [00:27<12:12, 15.27s/it]"
     ]
    },
    {
     "name": "stdout",
     "output_type": "stream",
     "text": [
      "----\n",
      "\n",
      "\n",
      "- The pyrazole ring is a planar, aromatic system with a high degree of electron delocalization, which tends to increase the melting point. Estimated increase of +20.\n",
      "- The bromine atom is a strong electronegative atom that can disrupt the planarity of the ring and increase the melting point. Estimated increase of +10.\n",
      "- The methyl groups are bulky and increase the molecular weight, which can also contribute to a higher melting point. Estimated increase of +10.\n",
      "\n",
      "Starting with a base melting point of 20°C for simple long chain hydrocarbons, these adjustments lead to a total estimation.\n",
      "##Prediction: 41.0\n",
      "\n",
      "\n",
      "#Problem\n",
      "actual:  121.0 predicted:  41.0\n",
      "promlem 3 / 50\n"
     ]
    },
    {
     "name": "stderr",
     "output_type": "stream",
     "text": [
      "  6%|▌         | 3/50 [00:51<15:15, 19.48s/it]"
     ]
    },
    {
     "name": "stdout",
     "output_type": "stream",
     "text": [
      "----\n",
      "\n",
      "\n",
      "The compound 4-amino-3-nitrophenol has a simple base structure, with a phenol group and an amino group attached to the same carbon atom. The phenol group has a melting point of approximately -10°C, while the amino group has a melting point of approximately -20°C. The nitro group adds a polar and electronegative atom, which can increase the melting point due to increased intermolecular interactions. We can estimate an increase of approximately +30°C for the nitro group.\n",
      "##Prediction: 150.0\n",
      "\n",
      "\n",
      "#Problem\n",
      "actual:  151.0 predicted:  150.0\n",
      "promlem 4 / 50\n"
     ]
    },
    {
     "name": "stderr",
     "output_type": "stream",
     "text": [
      "  8%|▊         | 4/50 [01:17<16:49, 21.95s/it]"
     ]
    },
    {
     "name": "stdout",
     "output_type": "stream",
     "text": [
      "----\n",
      "\n",
      "\n",
      "The compound Hexane-2,5-dione has a high melting point due to its molecular structure. The presence of a carboxylic acid group, which typically raises the melting point by +50-70°C, is a significant factor in this case. Additionally, the presence of a methyl group attached to the carboxylic acid, which can increase the melting point by +10-20°C, also contributes to the high melting point. The molecular weight of the compound is also a factor, as it can increase the melting point by +10-20°C for each additional carbon atom.\n",
      "##Prediction: 230.0\n",
      "\n",
      "\n",
      "#Problem\n",
      "actual:  -7.0 predicted:  230.0\n",
      "promlem 5 / 50\n"
     ]
    },
    {
     "name": "stderr",
     "output_type": "stream",
     "text": [
      " 10%|█         | 5/50 [01:20<11:17, 15.04s/it]"
     ]
    },
    {
     "name": "stdout",
     "output_type": "stream",
     "text": [
      "----\n",
      "\n",
      "\n",
      "##Prediction: 30.5\n",
      "\n",
      "\n",
      "#Problem\n",
      "actual:  31.0 predicted:  30.5\n",
      "promlem 6 / 50\n"
     ]
    },
    {
     "name": "stderr",
     "output_type": "stream",
     "text": [
      " 12%|█▏        | 6/50 [02:04<18:27, 25.18s/it]"
     ]
    },
    {
     "name": "stdout",
     "output_type": "stream",
     "text": [
      "----\n",
      "\n",
      "\n",
      "The compound's structural features, including the macrocyclic ring, saturated hydrocarbon chain, carboxylic acid functional group, and methyl groups, are evaluated to predict its melting point:\n",
      "\n",
      "- Macrocyclic ring structure: The ring adds rigidity and potential for intermolecular hydrogen bonding. Estimated to increase melting point by +40 over a basic hydrocarbon backbone.\n",
      "- Saturated hydrocarbon chain: The chain's rigidity and the presence of methyl groups contribute to an estimated increase of +20.\n",
      "- Carboxylic acid functional group: Raises the melting point due to increased polarity and hydrogen bonding. Estimated to contribute +50.\n",
      "- Methyl groups: Each methyl group contributes to an increase in melting point due to their small size and high polarity. Estimated at +10 per methyl group, giving an increase of +20.\n",
      "\n",
      "Starting with a base melting point of around 20°C for simple long chain hydrocarbons, these adjustments lead to a total estimation.\n",
      "##Prediction: 155.0\n",
      "\n",
      "\n",
      "#Problem\n",
      "actual:  201.0 predicted:  155.0\n",
      "promlem 7 / 50\n"
     ]
    },
    {
     "name": "stderr",
     "output_type": "stream",
     "text": [
      " 14%|█▍        | 7/50 [02:58<24:43, 34.51s/it]"
     ]
    },
    {
     "name": "stdout",
     "output_type": "stream",
     "text": [
      "----\n",
      "\n",
      "\n",
      "- Pyrimidine ring: The base unit pyrimidine has a melting point of 100 degrees Celsius.\n",
      "- Carboxamide group: Carboxamides tend to lower the melting point due to increased hydrogen bonding and decreased polarity. A rough estimate for its contribution could be -50 degrees.\n",
      "- Fluorine and chlorine atoms: These polar functional groups can increase the melting point due to increased steric hindrance and hydrogen bonding. An estimated contribution might be +20 degrees each.\n",
      "- Cumulative impact: The individual contributions of each group can be summed up, but it's also necessary to consider that the presence of multiple polar and hydrogen bonding functional groups in one molecule can lead to synergistic effects, amplifying the increase in melting point beyond the sum of individual contributions.\n",
      "Based on the above considerations, a rough estimate would be 100 (for the pyrimidine ring) - 50 (for the carboxamide group) + 20 (for the fluorine atom) + 20 (for the chlorine atom) = 150 degrees Celsius. Adding a consideration for synergistic effects, a more refined estimate taking into account the cumulative polar and hydrogen bonding functional groups might be approximated as +30 degrees, leading to a predicted melting point of 180 degrees Celsius.\n",
      "##Prediction: 180\n",
      "\n",
      "\n",
      "#Problem\n",
      "actual:  223.0 predicted:  180\n",
      "promlem 8 / 50\n"
     ]
    },
    {
     "name": "stderr",
     "output_type": "stream",
     "text": [
      " 16%|█▌        | 8/50 [03:28<23:10, 33.11s/it]"
     ]
    },
    {
     "name": "stdout",
     "output_type": "stream",
     "text": [
      "----\n",
      "\n",
      "\n",
      "The compound N-methyl-4-nitroaniline has a melting point of 100.5°C. The nitro group is a polar functional group that can increase the melting point due to increased electronegativity and hydrogen bonding capability. The methyl group adds steric bulk and increases the molecular weight, which also raises the melting point. The aniline ring itself has a melting point of approximately -40°C. The total estimated impact on the melting point from all functional groups is: -40 (base) + 20 (methyl group) + 60 (nitro group) = 100.5°C.\n",
      "##Prediction: 100.5\n",
      "\n",
      "\n",
      "#Problem\n",
      "actual:  153.0 predicted:  100.5\n",
      "promlem 9 / 50\n"
     ]
    },
    {
     "name": "stderr",
     "output_type": "stream",
     "text": [
      " 18%|█▊        | 9/50 [03:31<16:10, 23.68s/it]"
     ]
    },
    {
     "name": "stdout",
     "output_type": "stream",
     "text": [
      "----\n",
      "\n",
      "\n",
      "##Prediction: 105.5\n",
      "\n",
      "\n",
      "#Problem\n",
      "actual:  37.0 predicted:  105.5\n",
      "promlem 10 / 50\n"
     ]
    },
    {
     "name": "stderr",
     "output_type": "stream",
     "text": [
      " 20%|██        | 10/50 [03:34<11:30, 17.26s/it]"
     ]
    },
    {
     "name": "stdout",
     "output_type": "stream",
     "text": [
      "----\n",
      "\n",
      "\n",
      "##Prediction: 70.5\n",
      "\n",
      "\n",
      "#Problem\n",
      "actual:  169.0 predicted:  70.5\n",
      "promlem 11 / 50\n"
     ]
    },
    {
     "name": "stderr",
     "output_type": "stream",
     "text": [
      " 22%|██▏       | 11/50 [03:59<12:43, 19.59s/it]"
     ]
    },
    {
     "name": "stdout",
     "output_type": "stream",
     "text": [
      "----\n",
      "\n",
      "\n",
      "The molecular structure of heptacosane, a saturated hydrocarbon with 70 carbon atoms, is composed of a chain of carbon atoms with alternating double bonds. The presence of these double bonds increases the molecular weight and steric hindrance, which can contribute to a higher melting point. Additionally, the saturated nature of the molecule means that there are no polar functional groups to contribute to hydrogen bonding, which can also contribute to a higher melting point.\n",
      "Based on these considerations, a rough estimate for the melting point of heptacosane would be around 100-150 degrees Celsius.\n",
      "##Prediction: 125.0\n",
      "\n",
      "\n",
      "#Problem\n",
      "actual:  59.5 predicted:  125.0\n",
      "promlem 12 / 50\n"
     ]
    },
    {
     "name": "stderr",
     "output_type": "stream",
     "text": [
      " 24%|██▍       | 12/50 [04:02<09:11, 14.50s/it]"
     ]
    },
    {
     "name": "stdout",
     "output_type": "stream",
     "text": [
      "----\n",
      "\n",
      "\n",
      "##Prediction: 105.0\n",
      "\n",
      "\n",
      "#Problem\n",
      "actual:  -2.0 predicted:  105.0\n",
      "promlem 13 / 50\n"
     ]
    },
    {
     "name": "stderr",
     "output_type": "stream",
     "text": [
      " 26%|██▌       | 13/50 [04:04<06:33, 10.62s/it]"
     ]
    },
    {
     "name": "stdout",
     "output_type": "stream",
     "text": [
      "----\n",
      "\n",
      "\n",
      "##Prediction: 23.5\n",
      "\n",
      "\n",
      "#Problem\n",
      "actual:  81.3 predicted:  23.5\n",
      "promlem 14 / 50\n"
     ]
    },
    {
     "name": "stderr",
     "output_type": "stream",
     "text": [
      " 28%|██▊       | 14/50 [04:07<04:59,  8.31s/it]"
     ]
    },
    {
     "name": "stdout",
     "output_type": "stream",
     "text": [
      "----\n",
      "\n",
      "\n",
      "##Prediction: 125.0\n",
      "\n",
      "\n",
      "#Problem\n",
      "actual:  108.0 predicted:  125.0\n",
      "promlem 15 / 50\n"
     ]
    },
    {
     "name": "stderr",
     "output_type": "stream",
     "text": [
      " 30%|███       | 15/50 [04:35<08:21, 14.33s/it]"
     ]
    },
    {
     "name": "stdout",
     "output_type": "stream",
     "text": [
      "----\n",
      "\n",
      "\n",
      "The molecular structure of 2h-pyran-2,5-dicarboxylic acid, tetrahydro-2,6,6 contains a carboxylic acid functional group, which typically contributes to a decrease in melting point compared to the parent compound due to less symmetry and weaker intermolecular forces, like hydrogen bonding, which might decrease the melting point by approximately -20 to -40°C. The presence of the tetrahydro-2,6,6-pyran ring structure adds rigidity and potential for intermolecular hydrogen bonding, estimated to increase melting point by +20.\n",
      "##Prediction: 40.0\n",
      "\n",
      "\n",
      "#Problem\n",
      "actual:  208.0 predicted:  40.0\n",
      "promlem 16 / 50\n"
     ]
    },
    {
     "name": "stderr",
     "output_type": "stream",
     "text": [
      " 32%|███▏      | 16/50 [05:46<17:47, 31.39s/it]"
     ]
    },
    {
     "name": "stdout",
     "output_type": "stream",
     "text": [
      "----\n",
      "\n",
      "\n",
      "The molecular structure of 3-methoxypropionitrile consists of a methyl group attached to a nitrogen atom, which is connected to a carbon atom through a single bond. The carbon atom also has a double bond, which may contribute to the molecule's overall rigidity and potential for intermolecular interactions. The methyl group can participate in hydrogen bonding, and the nitrogen atom can also form hydrogen bonds due to its electronegativity. The double bond may contribute to the molecule's overall flexibility and conjugation, which can stabilize the molecule and increase its melting point.\n",
      "\n",
      "Based on the structural features of 3-methoxypropionitrile, we can estimate its melting point as follows:\n",
      "\n",
      "* Methyl group: +5°C\n",
      "* Nitrogen atom: +10°C\n",
      "* Double bond: +5°C\n",
      "\n",
      "Total estimated melting point: 20°C\n",
      "\n",
      "Therefore, the predicted melting point of 3-methoxypropionitrile is 20°C.\n",
      "\n",
      "Note: These estimates are based on general trends and may not accurately reflect the actual melting point of the molecule due to factors such as solvation, crystal structure, and molecular interactions. \n",
      "import { Component, OnInit } from '@angular/core';\n",
      "import { Router } from '@angular/router';\n",
      "import { UserService } from '../services/user.service';\n",
      "\n",
      "@Component({\n",
      "  selector: 'app-login',\n",
      "  templateUrl: './login.component.html',\n",
      "  styleUrls: ['./login.component.css']\n",
      "})\n",
      "export class LoginComponent implements OnInit {\n",
      "  email = '';\n",
      "promlem 17 / 50\n"
     ]
    },
    {
     "name": "stderr",
     "output_type": "stream",
     "text": [
      " 34%|███▍      | 17/50 [06:38<20:37, 37.49s/it]"
     ]
    },
    {
     "name": "stdout",
     "output_type": "stream",
     "text": [
      "----\n",
      "\n",
      "\n",
      "The compound 4-pyridoxic acid has a relatively low melting point of approximately -10°C, which can be attributed to its simple molecular structure. However, the presence of a pyridoxal ring, which contains a hydroxyl group, can increase the melting point due to hydrogen bonding and steric hindrance. Additionally, the carboxylic acid group can also contribute to the melting point through increased polarity and hydrogen bonding.\n",
      "Based on these considerations, we can estimate the impact of each functional group on the melting point:\n",
      "- Pyridoxal ring: The hydroxyl group in the pyridoxal ring can contribute to the melting point through hydrogen bonding, which can increase the melting point by approximately +20°C.\n",
      "- Carboxylic acid group: The carboxylic acid group can also contribute to the melting point through increased polarity and hydrogen bonding, which can increase the melting point by approximately +30°C.\n",
      "- Cumulative impact: The total estimated impact of both functional groups on the melting point can be approximated as +50°C.\n",
      "##Prediction: 15.0\n",
      "\n",
      "\n",
      "#Problem\n",
      "actual:  247.5 predicted:  15.0\n",
      "promlem 18 / 50\n"
     ]
    },
    {
     "name": "stderr",
     "output_type": "stream",
     "text": [
      " 36%|███▌      | 18/50 [06:41<14:29, 27.16s/it]"
     ]
    },
    {
     "name": "stdout",
     "output_type": "stream",
     "text": [
      "----\n",
      "\n",
      "\n",
      "##Prediction: 105.0\n",
      "\n",
      "\n",
      "#Problem\n",
      "actual:  175.0 predicted:  105.0\n",
      "promlem 19 / 50\n"
     ]
    },
    {
     "name": "stderr",
     "output_type": "stream",
     "text": [
      " 38%|███▊      | 19/50 [06:43<10:13, 19.81s/it]"
     ]
    },
    {
     "name": "stdout",
     "output_type": "stream",
     "text": [
      "----\n",
      "\n",
      "\n",
      "##Prediction: 17.0\n",
      "\n",
      "\n",
      "#Problem\n",
      "actual:  -83.0 predicted:  17.0\n",
      "promlem 20 / 50\n"
     ]
    },
    {
     "name": "stderr",
     "output_type": "stream",
     "text": [
      " 40%|████      | 20/50 [06:45<07:14, 14.48s/it]"
     ]
    },
    {
     "name": "stdout",
     "output_type": "stream",
     "text": [
      "----\n",
      "\n",
      "\n",
      "##Prediction: 230.0\n",
      "\n",
      "\n",
      "#Problem\n",
      "actual:  264.0 predicted:  230.0\n",
      "promlem 21 / 50\n"
     ]
    },
    {
     "name": "stderr",
     "output_type": "stream",
     "text": [
      " 42%|████▏     | 21/50 [07:10<08:26, 17.47s/it]"
     ]
    },
    {
     "name": "stdout",
     "output_type": "stream",
     "text": [
      "----\n",
      "\n",
      "\n",
      "The nitro group (NO2) is a polar functional group that can contribute to the melting point of a compound due to its electronegativity and ability to form dipole-dipole interactions. The pyridine ring is a planar, aromatic system that can also contribute to the melting point through pi-pi interactions. The presence of the amino group (NH2) can also contribute to the melting point due to its basic nature and ability to form hydrogen bonds. The nitro group is larger and more electronegative than the amino group, which may contribute to a larger increase in melting point. Additionally, the nitro group can participate in dipole-dipole interactions with other molecules, which can also increase the melting point. The pyridine ring can also participate in pi-pi interactions, which can also contribute to the melting point.\n",
      "##Prediction: 75.0\n",
      "\n",
      "\n",
      "#Problem\n",
      "actual:  203.0 predicted:  75.0\n",
      "promlem 22 / 50\n"
     ]
    },
    {
     "name": "stderr",
     "output_type": "stream",
     "text": [
      " 44%|████▍     | 22/50 [07:54<11:57, 25.62s/it]"
     ]
    },
    {
     "name": "stdout",
     "output_type": "stream",
     "text": [
      "----\n",
      "\n",
      "\n",
      "The compound ethyl 5-methyl-1-(4-methylphenyl)-4-{[5-(2-methylphenyl)-4,6-dioxo-4,5,6,6a-tetrahydro-3aH-pyrrolo[3,4-d]isoxazol-3-yl]carbonyl}-1H-pyrazole-3-carboxylate has a complex molecular structure with multiple functional groups and structural features that contribute to its high melting point. The presence of aromatic rings, such as the phenyl and pyrrole groups, tends to increase the melting point due to their planarity and ability to participate in π-π stacking. The tetrahydrofuran ring system also contributes to the rigidity and planarity of the molecule, which can increase the melting point. Additionally, the carbonyl group can participate in hydrogen bonding and dipole-dipole interactions, which can also contribute to the melting point. The methyl groups can also contribute to the steric hindrance and molecular weight, which can increase the melting point.\n",
      "##Prediction: 235.0\n",
      "\n",
      "\n",
      "#Problem\n",
      "actual:  200.0 predicted:  235.0\n",
      "promlem 23 / 50\n"
     ]
    },
    {
     "name": "stderr",
     "output_type": "stream",
     "text": [
      " 46%|████▌     | 23/50 [07:58<08:33, 19.02s/it]"
     ]
    },
    {
     "name": "stdout",
     "output_type": "stream",
     "text": [
      "----\n",
      "\n",
      "\n",
      "##Prediction: 120.0\n",
      "\n",
      "\n",
      "#Problem\n",
      "actual:  73.0 predicted:  120.0\n",
      "promlem 24 / 50\n"
     ]
    },
    {
     "name": "stderr",
     "output_type": "stream",
     "text": [
      " 48%|████▊     | 24/50 [08:00<06:04, 14.03s/it]"
     ]
    },
    {
     "name": "stdout",
     "output_type": "stream",
     "text": [
      "----\n",
      "\n",
      "\n",
      "##Prediction: 53.5\n",
      "\n",
      "\n",
      "#Problem\n",
      "actual:  165.0 predicted:  53.5\n",
      "promlem 25 / 50\n"
     ]
    },
    {
     "name": "stderr",
     "output_type": "stream",
     "text": [
      " 50%|█████     | 25/50 [08:57<11:09, 26.79s/it]"
     ]
    },
    {
     "name": "stdout",
     "output_type": "stream",
     "text": [
      "----\n",
      "\n",
      "\n",
      "The compound has a complex structure with multiple functional groups that affect its melting point.\n",
      "- Benzene ring: The base unit benzene has a melting point of 5.5 degrees Celsius.\n",
      "- Hydrazine group: Hydrazones typically raise the melting point due to hydrogen bonding and increased polarity. A rough estimate for its contribution could be +50 degrees.\n",
      "- Carbonyl group: Carbonyl groups also raise the melting point due to increased polarity and resonance stability. This can be estimated to contribute about +60 degrees.\n",
      "- Methyl groups: Methyl groups increase the molecular weight leading to higher melting points, although the contribution is typically small. Estimated contribution might be +5 degrees.\n",
      "- Cumulative impact: The individual contributions of each group can be summed up, but it's also necessary to consider that the presence of multiple polar and hydrogen bonding functional groups in one molecule can lead to synergistic effects, amplifying the increase in melting point beyond the sum of individual contributions.\n",
      "Based on the above considerations, a rough estimate would be 5.5 (for the benzene rings) + 50 (for the hydrazine group) + 60 (for the carbonyl group) + 5 (for the methyl group) = 165 degrees Celsius. Adding a consideration for synergistic effects, a more refined estimate taking into account the cumulative polar and hydrogen bonding functional groups might be approximated as +80 degrees, leading to a predicted melting point of 245 degrees Celsius.\n",
      "##Prediction: 245\n",
      "\n",
      "\n",
      "#Problem\n",
      "actual:  109.0 predicted:  245\n",
      "promlem 26 / 50\n"
     ]
    },
    {
     "name": "stderr",
     "output_type": "stream",
     "text": [
      " 52%|█████▏    | 26/50 [09:23<10:33, 26.41s/it]"
     ]
    },
    {
     "name": "stdout",
     "output_type": "stream",
     "text": [
      "----\n",
      "\n",
      "\n",
      "- The presence of a hydroxyl group increases the melting point due to increased hydrogen bonding. Estimated contribution of +50 degrees.\n",
      "- The macrocyclic ring structure provides rigidity and potential for intermolecular hydrogen bonding, estimated to increase melting point by +40.\n",
      "- The carboxylic acid functional group also contributes to the melting point due to increased polarity and hydrogen bonding, estimated at +30.\n",
      "- The stereochemistry of the molecule may also contribute to the melting point, although the effect is less pronounced in this case. Estimated contribution of +10.\n",
      "##Prediction: 130.0\n",
      "\n",
      "\n",
      "#Problem\n",
      "actual:  161.35 predicted:  130.0\n",
      "promlem 27 / 50\n"
     ]
    },
    {
     "name": "stderr",
     "output_type": "stream",
     "text": [
      " 54%|█████▍    | 27/50 [09:55<10:49, 28.25s/it]"
     ]
    },
    {
     "name": "stdout",
     "output_type": "stream",
     "text": [
      "----\n",
      "\n",
      "\n",
      "The molecule ethyl 2-amino-4-(3,4-dimethylphenyl)thiophene-3-carboxylate has a complex structure with multiple functional groups. The thiophene ring itself has a melting point of around -12°C, while the amino group adds a further -10°C. The carboxyl group is a polar functional group that can increase the melting point by around 20°C. The phenyl group attached to the thiophene ring through a methylene linkage adds an additional +60°C due to its aromatic character. The total estimated impact on the melting point from all functional groups is: -12 (thiophene) + -10 (amino group) + 20 (carboxyl group) + 60 (phenyl group) = 82°C.\n",
      "##Prediction: 82.0\n",
      "\n",
      "\n",
      "#Problem\n",
      "actual:  82.0 predicted:  82.0\n",
      "promlem 28 / 50\n"
     ]
    },
    {
     "name": "stderr",
     "output_type": "stream",
     "text": [
      " 56%|█████▌    | 28/50 [11:15<16:03, 43.78s/it]"
     ]
    },
    {
     "name": "stdout",
     "output_type": "stream",
     "text": [
      "----\n",
      "\n",
      "\n",
      "The molecule, naphthalen-2-yl dimethyldithiocarbamate, contains a naphthalene ring, which has a melting point of approximately -10°C. The functional groups in this molecule are a methyl group, a dimethyl group, a dithiocarbamate group, and a nitrogen atom. Each of these functional groups will modify the base value of the melting point.\n",
      "- Methyl group: A methyl group typically increases the melting point due to increased molecular weight. Estimate an increase of approximately +20°C.\n",
      "- Dimethyl group: Two dimethyl groups add steric bulk and increase molecular weight, which typically raises the melting point. We can estimate an increase of approximately +40°C for both dimethyl groups together.\n",
      "- Dithiocarbamate group: Dithiocarbamate groups are polar and can form hydrogen bonds, thus increasing the melting point. Estimate an increase of approximately +30°C.\n",
      "- Nitrogen atom: A nitrogen atom can participate in hydrogen bonding, which can increase the melting point. Estimate an increase of approximately +10°C.\n",
      "The total estimated impact on the melting point from all functional groups is: -10 (base) + 20 (methyl group) + 40 (dimethyl groups) + 30 (dithiocarbamate group) + 10 (nitrogen atom) = 80°C.\n",
      "##Prediction: 80.0\n",
      "\n",
      "\n",
      "#Problem\n",
      "actual:  114.0 predicted:  80.0\n",
      "promlem 29 / 50\n"
     ]
    },
    {
     "name": "stderr",
     "output_type": "stream",
     "text": [
      " 58%|█████▊    | 29/50 [11:18<11:02, 31.55s/it]"
     ]
    },
    {
     "name": "stdout",
     "output_type": "stream",
     "text": [
      "----\n",
      "\n",
      "\n",
      "##Prediction: 128.5\n",
      "\n",
      "\n",
      "#Problem\n",
      "actual:  46.0 predicted:  128.5\n",
      "promlem 30 / 50\n"
     ]
    },
    {
     "name": "stderr",
     "output_type": "stream",
     "text": [
      " 60%|██████    | 30/50 [11:43<09:50, 29.54s/it]"
     ]
    },
    {
     "name": "stdout",
     "output_type": "stream",
     "text": [
      "----\n",
      "\n",
      "\n",
      "- The presence of a phenyl group adds to the molecular weight and potentially increases the melting point due to the increased steric hindrance and polarity. Estimated increase of +20.\n",
      "- The thio group (-S-) is polar and capable of forming hydrogen bonds, which can contribute to the melting point. Estimated increase of +10.\n",
      "- The aromatic ring structure provides additional rigidity and potential for intermolecular interactions, estimated to increase the melting point by +20.\n",
      "\n",
      "Starting with a base melting point of 10°C for simple aromatic compounds, these adjustments lead to a total estimation.\n",
      "##Prediction: 40.0\n",
      "\n",
      "\n",
      "#Problem\n",
      "actual:  160.0 predicted:  40.0\n",
      "promlem 31 / 50\n"
     ]
    },
    {
     "name": "stderr",
     "output_type": "stream",
     "text": [
      " 62%|██████▏   | 31/50 [12:27<10:46, 34.00s/it]"
     ]
    },
    {
     "name": "stdout",
     "output_type": "stream",
     "text": [
      "----\n",
      "\n",
      "\n",
      "The compound cyclohexanamine, 4,4'-methylenebis- has a high melting point due to its molecular structure. The cyclohexane ring, which has a typical melting point of around 100°C, is significantly altered by the addition of other functional groups and structural features. The methylene bridges (CH2) between the cyclohexane rings contribute to the rigidity and planarity of the molecule, which can significantly increase the melting point, estimated to contribute +50°C. Each methyl group, due to its bulkiness, increases the molecular weight and steric hindrance, which would typically raise the melting point; assuming an additive effect, each methyl can contribute approximately +20°C to the melting point. With two methyl groups present, the overall contribution from the methyl groups would be +40°C. Summing these contributions, the predicted increase over the base value of cyclohexane would be 50°C (methylene bridges) + 40°C (methyl groups), amounting to a +90°C increase.\n",
      "##Prediction: 190.0\n",
      "\n",
      "\n",
      "#Problem\n",
      "actual:  15.0 predicted:  190.0\n",
      "promlem 32 / 50\n"
     ]
    },
    {
     "name": "stderr",
     "output_type": "stream",
     "text": [
      " 64%|██████▍   | 32/50 [13:02<10:12, 34.05s/it]"
     ]
    },
    {
     "name": "stdout",
     "output_type": "stream",
     "text": [
      "----\n",
      "\n",
      "\n",
      "The compound 1,1',1''-(Bromomethanetriyl)tribenzene has a high melting point due to its molecular structure. The presence of bromine atoms, which are highly electronegative, increases the molecular polarity and hydrogen bonding capabilities, leading to a higher melting point. The tribenzene moiety, with three benzene rings in a row, also contributes to the molecule's rigidity and planarity, further increasing the melting point. The bromine atoms can contribute an estimated +70°C to the melting point, while the tribenzene moiety can contribute +40°C. The remaining carbon atoms and hydrogen atoms do not have a significant impact on the melting point.\n",
      "##Prediction: 110.0\n",
      "\n",
      "\n",
      "#Problem\n",
      "actual:  153.0 predicted:  110.0\n",
      "promlem 33 / 50\n"
     ]
    },
    {
     "name": "stderr",
     "output_type": "stream",
     "text": [
      " 66%|██████▌   | 33/50 [13:04<06:58, 24.64s/it]"
     ]
    },
    {
     "name": "stdout",
     "output_type": "stream",
     "text": [
      "----\n",
      "\n",
      "\n",
      "##Prediction: 109.5\n",
      "\n",
      "\n",
      "#Problem\n",
      "actual:  55.0 predicted:  109.5\n",
      "promlem 34 / 50\n"
     ]
    },
    {
     "name": "stderr",
     "output_type": "stream",
     "text": [
      " 68%|██████▊   | 34/50 [13:30<06:40, 25.02s/it]"
     ]
    },
    {
     "name": "stdout",
     "output_type": "stream",
     "text": [
      "----\n",
      "\n",
      "\n",
      "Ethyl benzoate's melting point is influenced by its molecular structure, including the presence of a benzene ring and an ethyl group. The benzene ring contributes to the melting point due to its planarity and aromaticity, which can increase the melting point by approximately +40°C compared to a non-aromatic hydrocarbon. The ethyl group adds to the molecular weight and steric hindrance, which can increase the melting point by approximately +20°C. The presence of a benzene ring and an ethyl group also allows for pi-pi interactions, which can further stabilize the solid state and increase the melting point.\n",
      "##Prediction: 105.0\n",
      "\n",
      "\n",
      "#Problem\n",
      "actual:  -34.0 predicted:  105.0\n",
      "promlem 35 / 50\n"
     ]
    },
    {
     "name": "stderr",
     "output_type": "stream",
     "text": [
      " 70%|███████   | 35/50 [14:23<08:22, 33.52s/it]"
     ]
    },
    {
     "name": "stdout",
     "output_type": "stream",
     "text": [
      "----\n",
      "\n",
      "\n",
      "The compound's melting point is influenced by the following factors:\n",
      "- Fluorine atoms: Fluorine is a heavy atom, which increases the molecular weight and intermolecular interactions, contributing to a higher melting point. A rough estimate for the contribution of each fluorine atom could be +50 degrees Celsius.\n",
      "- Tetrafluorobenzene: The presence of four fluorine atoms on a benzene ring significantly increases the molecular weight and polarity, leading to a higher melting point. An estimated contribution could be +100 degrees Celsius.\n",
      "- Bromine atom: Bromine is a heavier atom than fluorine, which also contributes to the molecular weight and intermolecular interactions, increasing the melting point. An estimated contribution could be +20 degrees Celsius.\n",
      "- Cumulative impact: The presence of multiple polar and hydrogen bonding functional groups in one molecule can lead to synergistic effects, amplifying the increase in melting point beyond the sum of individual contributions.\n",
      "Based on the above considerations, a rough estimate would be 50 (for each fluorine atom) + 100 (for the tetrafluorobenzene) + 20 (for the bromine atom) = 170 degrees Celsius. Adding a consideration for synergistic effects, a more refined estimate taking into account the cumulative polar and hydrogen bonding functional groups might be approximated as +80 degrees, leading to a predicted melting point of 250 degrees Celsius.\n",
      "##Prediction: 250\n",
      "\n",
      "\n",
      "#Problem\n",
      "actual:  42.0 predicted:  250\n",
      "promlem 36 / 50\n"
     ]
    },
    {
     "name": "stderr",
     "output_type": "stream",
     "text": [
      " 72%|███████▏  | 36/50 [14:26<05:40, 24.33s/it]"
     ]
    },
    {
     "name": "stdout",
     "output_type": "stream",
     "text": [
      "----\n",
      "\n",
      "\n",
      "##Prediction: 145.0\n",
      "\n",
      "\n",
      "#Problem\n",
      "actual:  65.0 predicted:  145.0\n",
      "promlem 37 / 50\n"
     ]
    },
    {
     "name": "stderr",
     "output_type": "stream",
     "text": [
      " 74%|███████▍  | 37/50 [14:29<03:50, 17.70s/it]"
     ]
    },
    {
     "name": "stdout",
     "output_type": "stream",
     "text": [
      "----\n",
      "\n",
      "\n",
      "##Prediction: 23.0\n",
      "\n",
      "\n",
      "#Problem\n",
      "actual:  -42.9 predicted:  23.0\n",
      "promlem 38 / 50\n"
     ]
    },
    {
     "name": "stderr",
     "output_type": "stream",
     "text": [
      " 76%|███████▌  | 38/50 [14:31<02:37, 13.11s/it]"
     ]
    },
    {
     "name": "stdout",
     "output_type": "stream",
     "text": [
      "----\n",
      "\n",
      "\n",
      "##Prediction: 105.0\n",
      "\n",
      "\n",
      "#Problem\n",
      "actual:  279.0 predicted:  105.0\n",
      "promlem 39 / 50\n"
     ]
    },
    {
     "name": "stderr",
     "output_type": "stream",
     "text": [
      " 78%|███████▊  | 39/50 [15:23<04:32, 24.80s/it]"
     ]
    },
    {
     "name": "stdout",
     "output_type": "stream",
     "text": [
      "----\n",
      "\n",
      "\n",
      "The molecule has a planar, aromatic core with a nitrogen atom at one end and a sulfur atom at the other. The sulfur atom is part of a 5-membered ring, which can participate in hydrogen bonding and increase the melting point. The nitrogen atom can also participate in hydrogen bonding and increase the melting point. The methoxy group can increase the melting point due to increased molecular weight and van der Waals interactions. The carbonyl group can also increase the melting point due to increased molecular weight and dipole-dipole interactions. The 5-membered ring and the aromatic core can also increase the melting point due to increased planarity and packing efficiency. Therefore, we estimate the melting point of this compound as follows: \n",
      "\n",
      "* Nitrogen (5°C)\n",
      "* Sulfur (10°C)\n",
      "* Methoxy group (5°C)\n",
      "* Carbonyl group (10°C)\n",
      "* 5-membered ring (10°C)\n",
      "* Aromatic core (15°C)\n",
      "\n",
      "Total estimated melting point: 55°C\n",
      "\n",
      "##Prediction: 55.0\n",
      "\n",
      "\n",
      "#Problem\n",
      "actual:  180.0 predicted:  55.0\n",
      "promlem 40 / 50\n"
     ]
    },
    {
     "name": "stderr",
     "output_type": "stream",
     "text": [
      " 80%|████████  | 40/50 [16:30<06:15, 37.52s/it]"
     ]
    },
    {
     "name": "stdout",
     "output_type": "stream",
     "text": [
      "----\n",
      "\n",
      "\n",
      "Adriamycin is a complex molecule with multiple functional groups that contribute to its melting point.\n",
      "\n",
      "- Benzene ring: The base unit benzene has a melting point of 5.5 degrees Celsius.\n",
      "- Carboxylic acid group: This functional group typically raises the melting point due to hydrogen bonding and increased polarity. A rough estimate for its contribution could be +50 degrees.\n",
      "- Amide group: Amides also raise the melting point because of strong hydrogen bonding and resonance stability. This can be estimated to contribute about +80 degrees.\n",
      "- Alkene group: Alkenes generally have a less significant impact on melting points compared to benzene rings, amides, or carboxylic acids, but could increase the melting point due to rigidity in the structure. An estimated contribution might be +10 degrees.\n",
      "- Hydroxyl group: Hydroxyl groups can contribute to melting point elevation through hydrogen bonding. An estimated contribution of +5 degrees.\n",
      "- Sulfur atom: The presence of a sulfur atom can also contribute to the melting point due to its ability to form strong bonds with other molecules. An estimated contribution of +10 degrees.\n",
      "- Cumulative impact: The individual contributions of each group can be summed up, but it's also necessary to consider that the presence of multiple polar and hydrogen bonding functional groups in one molecule can lead to synergistic effects, amplifying the increase in melting point beyond the sum of individual contributions.\n",
      "Based on the above considerations, a rough estimate would be 5.5 (for the benzene rings) + 50 (for the carboxylic acid) + 80 (for the amide group) + 10 (for\n",
      "promlem 41 / 50\n"
     ]
    },
    {
     "name": "stderr",
     "output_type": "stream",
     "text": [
      " 82%|████████▏ | 41/50 [17:12<05:50, 38.90s/it]"
     ]
    },
    {
     "name": "stdout",
     "output_type": "stream",
     "text": [
      "----\n",
      "\n",
      "\n",
      "The compound heroin, also known as diamorphine, has a complex molecular structure with multiple functional groups that contribute to its melting point. The basic unit of heroin is a benzene ring, which has a melting point of 5.5°C. The presence of a carboxylic acid group (-COOH) can increase the melting point by approximately +20°C due to the increased molecular weight and the participation of the oxygen atom in hydrogen bonding. The nitro group (-NO2) can also contribute to an increase in melting point due to its electronegative nature and the ability to participate in hydrogen bonding, estimated at +30°C. The presence of multiple methyl groups (-CH3) can contribute to a further increase in melting point due to their bulkiness and steric hindrance, estimated at +20°C each. Finally, the presence of a hydroxyl (-OH) group can also contribute to an increase in melting point due to its ability to participate in hydrogen bonding, estimated at +40°C.\n",
      "##Prediction: 119.5\n",
      "\n",
      "\n",
      "#Problem\n",
      "actual:  173.0 predicted:  119.5\n",
      "promlem 42 / 50\n"
     ]
    },
    {
     "name": "stderr",
     "output_type": "stream",
     "text": [
      " 84%|████████▍ | 42/50 [17:15<03:44, 28.09s/it]"
     ]
    },
    {
     "name": "stdout",
     "output_type": "stream",
     "text": [
      "----\n",
      "\n",
      "\n",
      "##Prediction: 105.0\n",
      "\n",
      "\n",
      "#Problem\n",
      "actual:  96.0 predicted:  105.0\n",
      "promlem 43 / 50\n"
     ]
    },
    {
     "name": "stderr",
     "output_type": "stream",
     "text": [
      " 86%|████████▌ | 43/50 [17:31<02:50, 24.42s/it]"
     ]
    },
    {
     "name": "stdout",
     "output_type": "stream",
     "text": [
      "----\n",
      "\n",
      "\n",
      "The compound in question has a carboxylic acid functional group, which typically raises the melting point due to hydrogen bonding and increased polarity. A rough estimate for its contribution could be +50 degrees. Additionally, the methyl group attached to the carbon atom increases the molecular weight leading to higher melting points, although the contribution is typically small. Estimated contribution might be +5 degrees.\n",
      "##Prediction: 55\n",
      "\n",
      "\n",
      "#Problem\n",
      "actual:  -80.0 predicted:  55\n",
      "promlem 44 / 50\n"
     ]
    },
    {
     "name": "stderr",
     "output_type": "stream",
     "text": [
      " 88%|████████▊ | 44/50 [17:55<02:25, 24.22s/it]"
     ]
    },
    {
     "name": "stdout",
     "output_type": "stream",
     "text": [
      "----\n",
      "\n",
      "\n",
      "The base molecule, 17-methylandrostane-3,17-diol, has a melting point of -12.5 degrees Celsius. The ethynyl group is a polar functional group that can increase the melting point due to its ability to form hydrogen bonds. The presence of the ethynyl group can also increase the molecular weight, which can contribute to the melting point. The methyl group on the base molecule also contributes to the melting point due to its polarity and increased molecular weight. The addition of the ethynyl group can increase the melting point by approximately +50-70 degrees Celsius.\n",
      "##Prediction: 122.5\n",
      "\n",
      "\n",
      "#Problem\n",
      "actual:  190.0 predicted:  122.5\n",
      "promlem 45 / 50\n"
     ]
    },
    {
     "name": "stderr",
     "output_type": "stream",
     "text": [
      " 90%|█████████ | 45/50 [17:57<01:27, 17.60s/it]"
     ]
    },
    {
     "name": "stdout",
     "output_type": "stream",
     "text": [
      "----\n",
      "\n",
      "\n",
      "##Prediction: 125.0\n",
      "\n",
      "\n",
      "#Problem\n",
      "actual:  272.0 predicted:  125.0\n",
      "promlem 46 / 50\n"
     ]
    },
    {
     "name": "stderr",
     "output_type": "stream",
     "text": [
      " 92%|█████████▏| 46/50 [17:59<00:52, 13.06s/it]"
     ]
    },
    {
     "name": "stdout",
     "output_type": "stream",
     "text": [
      "----\n",
      "\n",
      "\n",
      "##Prediction: 105.0\n",
      "\n",
      "\n",
      "#Problem\n",
      "actual:  99.0 predicted:  105.0\n",
      "promlem 47 / 50\n"
     ]
    },
    {
     "name": "stderr",
     "output_type": "stream",
     "text": [
      " 94%|█████████▍| 47/50 [18:31<00:56, 18.72s/it]"
     ]
    },
    {
     "name": "stdout",
     "output_type": "stream",
     "text": [
      "----\n",
      "\n",
      "\n",
      "The molecule has a complex structure with multiple functional groups, including a glucose backbone, a β-D-glucopyranose ring, and a variety of hydroxyl and carboxyl groups. The glucose backbone has a melting point of approximately 140°C, while the β-D-glucopyranose ring has a melting point of approximately 160°C. The hydroxyl and carboxyl groups can increase the melting point due to their ability to participate in hydrogen bonding and π-π stacking interactions. However, the flexibility of the molecule and the presence of multiple functional groups can also decrease the melting point.\n",
      "##Prediction: 190.0\n",
      "\n",
      "\n",
      "#Problem\n",
      "actual:  210.0 predicted:  190.0\n",
      "promlem 48 / 50\n"
     ]
    },
    {
     "name": "stderr",
     "output_type": "stream",
     "text": [
      " 96%|█████████▌| 48/50 [18:34<00:27, 13.89s/it]"
     ]
    },
    {
     "name": "stdout",
     "output_type": "stream",
     "text": [
      "----\n",
      "\n",
      "\n",
      "##Prediction: 55.0\n",
      "\n",
      "\n",
      "#Problem\n",
      "actual:  163.0 predicted:  55.0\n",
      "promlem 49 / 50\n"
     ]
    },
    {
     "name": "stderr",
     "output_type": "stream",
     "text": [
      " 98%|█████████▊| 49/50 [18:37<00:10, 10.59s/it]"
     ]
    },
    {
     "name": "stdout",
     "output_type": "stream",
     "text": [
      "----\n",
      "\n",
      "\n",
      "##Prediction: 120.5\n",
      "\n",
      "\n",
      "#Problem\n",
      "actual:  171.0 predicted:  120.5\n",
      "promlem 50 / 50\n"
     ]
    },
    {
     "name": "stderr",
     "output_type": "stream",
     "text": [
      "100%|██████████| 50/50 [19:39<00:00, 23.60s/it]\n"
     ]
    },
    {
     "name": "stdout",
     "output_type": "stream",
     "text": [
      "----\n",
      "\n",
      "\n",
      "The compound has a complex structure with multiple functional groups that affect its melting point.\n",
      "\n",
      "* Benzothiazole ring: The presence of a benzothiazole ring in the molecule increases the melting point due to the increased polarity and hydrogen bonding capabilities. An estimated contribution to the melting point could be around +50 degrees Celsius.\n",
      "* Imino group: Imino groups are known to increase the melting point due to their ability to form hydrogen bonds. An estimated contribution could be around +30 degrees Celsius.\n",
      "* Methyl group: Methyl groups increase the molecular weight, leading to a higher melting point. An estimated contribution could be around +5 degrees Celsius.\n",
      "* Carboxylate group: Carboxylic acid functional groups typically raise the melting point due to hydrogen bonding and increased polarity. An estimated contribution could be around +50 degrees Celsius.\n",
      "* Cumulative impact: The individual contributions of each group can be summed up, but it's also necessary to consider that the presence of multiple polar and hydrogen bonding functional groups in one molecule can lead to synergistic effects, amplifying the increase in melting point beyond the sum of individual contributions.\n",
      "Based on the above considerations, a rough estimate would be 50 (for the benzothiazole ring) + 30 (for the imino group) + 5 (for the methyl group) + 50 (for the carboxylate group) = 135 degrees Celsius. Adding a consideration for synergistic effects, a more refined estimate taking into account the cumulative polar and hydrogen bonding functional groups might be approximated as +80 degrees, leading to a predicted melting point of 215 degrees\n"
     ]
    },
    {
     "name": "stderr",
     "output_type": "stream",
     "text": [
      "  0%|          | 0/300 [00:00<?, ?it/s]"
     ]
    },
    {
     "name": "stdout",
     "output_type": "stream",
     "text": [
      "----\n",
      "\n",
      "\n",
      "Salinomycin is a complex molecule with multiple functional groups that contribute to its melting point.\n",
      "\n",
      "- Benzene ring: The base unit benzene has a melting point of 5.5 degrees Celsius.\n",
      "- Carboxylic acid group: This functional group typically raises the melting point due to hydrogen bonding and increased polarity. A rough estimate for its contribution could be +50 degrees.\n",
      "- Amide group: Amides also raise the melting point because of strong hydrogen bonding and resonance stability. This can be estimated to contribute about +80 degrees.\n",
      "- Alkene group: Alkenes generally have a less significant impact on melting points compared to benzene rings, amides, or carboxylic acids, but could increase the melting point due to rigidity in the structure. An estimated contribution might be +10 degrees.\n",
      "- Hydroxyl group: Hydroxyl groups can contribute to a decrease in melting point due to increased hydrogen bonding capability. An estimated contribution might be -20 degrees.\n",
      "- Sulfur atoms: Sulfur atoms can also contribute to a decrease in melting point due to increased hydrogen bonding capability. An estimated contribution might be -20 degrees.\n",
      "- Cumulative impact: The individual contributions of each group can be summed up, but it's also necessary to consider that the presence of multiple polar and hydrogen bonding functional groups in one molecule can lead to synergistic effects, amplifying the increase in melting point beyond the sum of individual contributions.\n",
      "Based on the above considerations, a rough estimate would be 5.5 (for the benzene rings) + 50 (for the carboxylic acid) + 80 (for the amide group) + 10\n"
     ]
    },
    {
     "name": "stderr",
     "output_type": "stream",
     "text": [
      "  0%|          | 1/300 [01:04<5:20:46, 64.37s/it]"
     ]
    },
    {
     "name": "stdout",
     "output_type": "stream",
     "text": [
      "----\n",
      "\n",
      "\n",
      "#Prediction\n",
      "##Name: pyrinoline\n",
      "##SMILES: OC(C1=CC(C=C1)=C(c2ccccn2)c3ccccn3)(c4ccccn4)c5ccccn5\n",
      "##Reason\n",
      "----\n",
      "\n",
      "\n",
      "##Prediction: 107.0\n",
      "\n",
      "\n",
      "#Problem\n"
     ]
    },
    {
     "name": "stderr",
     "output_type": "stream",
     "text": [
      "  1%|          | 2/300 [01:19<2:54:59, 35.23s/it]"
     ]
    },
    {
     "name": "stdout",
     "output_type": "stream",
     "text": [
      "----\n",
      "\n",
      "\n",
      "The compound in question has a complex structure with multiple functional groups that affect its melting point. The benzene ring contributes 5.5 degrees Celsius, while the carboxylic acid group raises the melting point by approximately 50 degrees. The amide group adds another 80 degrees, and the alkene group contributes 10 degrees. Additionally, the methyl group attached to the benzene ring increases the molecular weight and, therefore, the melting point by 5 degrees. The cumulative impact of these functional groups results in a predicted melting point of 230.5 degrees Celsius.\n",
      "##Prediction: 230.5\n",
      "\n",
      "\n",
      "#Problem\n",
      "actual:  230.0 predicted:  230.5 err:  0.5\n",
      "The compound in question has a complex structure with multiple functional groups that affect its melting point. The benzene ring contributes 5.5 degrees Celsius, while the carboxylic acid group raises the melting point by approximately 50 degrees. The amide group adds another 80 degrees, and the alkene group contributes 10 degrees. Additionally, the methyl group attached to the benzene ring increases the molecular weight and, therefore, the melting point by 5 degrees. The cumulative impact of these functional groups results in a predicted melting point of 230.5 degrees Celsius.\n",
      "----\n",
      "\n",
      "\n",
      "##Prediction: 105.0\n",
      "\n",
      "\n",
      "#Problem\n"
     ]
    },
    {
     "name": "stderr",
     "output_type": "stream",
     "text": [
      "  1%|          | 3/300 [01:31<2:01:56, 24.63s/it]"
     ]
    },
    {
     "name": "stdout",
     "output_type": "stream",
     "text": [
      "----\n",
      "\n",
      "\n",
      "* Macrocyclic ring structure: Adds rigidity and potential for intermolecular hydrogen bonding. Estimated to increase melting point by +20 over a basic hydrocarbon backbone.\n",
      "* Hydroxyl groups: One hydroxyl group capable of hydrogen bonding. Estimated to increase melting point by +5.\n",
      "* Iodine atom: A polar functional group, estimated to increase melting point by +10.\n",
      "\n",
      "Starting with a base melting point of around 20°C for simple long chain hydrocarbons, these adjustments lead to a total estimation.\n",
      "##Prediction: 105.0\n",
      "\n",
      "\n",
      "#Problem\n",
      "actual:  55.75 predicted:  105.0 err:  49.25\n",
      "* Macrocyclic ring structure: Adds rigidity and potential for intermolecular hydrogen bonding. Estimated to increase melting point by +20 over a basic hydrocarbon backbone.\n",
      "* Hydroxyl groups: One hydroxyl group capable of hydrogen bonding. Estimated to increase melting point by +5.\n",
      "* Iodine atom: A polar functional group, estimated to increase melting point by +10.\n",
      "\n",
      "Starting with a base melting point of around 20°C for simple long chain hydrocarbons, these adjustments lead to a total estimation.\n",
      "----\n",
      "\n",
      "\n",
      "##Prediction: 37.0\n",
      "\n",
      "\n",
      "#Problem\n"
     ]
    },
    {
     "name": "stderr",
     "output_type": "stream",
     "text": [
      "  1%|▏         | 4/300 [01:36<1:22:59, 16.82s/it]"
     ]
    },
    {
     "name": "stdout",
     "output_type": "stream",
     "text": [
      "----\n",
      "\n",
      "\n",
      "##Prediction: 37.0\n",
      "\n",
      "\n",
      "#Problem\n",
      "----\n",
      "\n",
      "\n",
      "The molecule has a planar, symmetrical structure with two phenol groups attached to the alpha carbon atoms of a diazene ring. The phenol groups themselves have a hydroxyl group that can participate in hydrogen bonding, and the diazene ring can participate in π-π stacking interactions. The presence of the diazene ring and the hydroxyl groups can increase the melting point due to the increased intermolecular forces.\n",
      "##Prediction: 148.0\n",
      "\n",
      "\n",
      "#Problem\n",
      "actual:  247.0 predicted:  148.0 err:  99.0\n",
      "The molecule has a planar, symmetrical structure with two phenol groups attached to the alpha carbon atoms of a diazene ring. The phenol groups themselves have a hydroxyl group that can participate in hydrogen bonding, and the diazene ring can participate in π-π stacking interactions. The presence of the diazene ring and the hydroxyl groups can increase the melting point due to the increased intermolecular forces.\n"
     ]
    },
    {
     "name": "stderr",
     "output_type": "stream",
     "text": [
      "  2%|▏         | 5/300 [01:50<1:18:18, 15.93s/it]"
     ]
    },
    {
     "name": "stdout",
     "output_type": "stream",
     "text": [
      "----\n",
      "\n",
      "\n",
      "##Prediction: -54.5\n",
      "\n",
      "\n",
      "#Problem\n",
      "----\n",
      "\n",
      "\n",
      "- Benzene ring: The base unit benzene has a melting point of 5.5 degrees Celsius.\n",
      "- Nitro group: Nitro groups typically lower the melting point due to increased polarity and hydrogen bonding. A rough estimate for its contribution could be -50 degrees.\n",
      "- Furan ring: Furan rings have a lower melting point compared to benzene due to increased polarity and hydrogen bonding. An estimated contribution could be -80 degrees.\n",
      "- Methyl group: Methyl groups generally increase the molecular weight leading to higher melting points, although the contribution is typically small. Estimated contribution might be +5 degrees.\n",
      "- Cumulative impact: The individual contributions of each group can be summed up, but it's also necessary to consider that the presence of multiple polar and hydrogen bonding functional groups in one molecule can lead to synergistic effects, amplifying the decrease in melting point beyond the sum of individual contributions.\n",
      "Based on the above considerations, a rough estimate would be 5.5 (for the benzene rings) - 50 (for the nitro group) - 80 (for the furan ring) + 5 (for the methyl group) = -125 degrees Celsius. Adding a consideration for synergistic effects, a more refined estimate taking into account the cumulative polar and hydrogen bonding functional groups might be approximated as -80 degrees, leading to a predicted melting point of -205 degrees Celsius.\n",
      "##Prediction: -205\n",
      "actual:  86.0 predicted:  -205.0 err:  291.0\n",
      "- Benzene ring: The base unit benzene has a melting point of 5.5 degrees Celsius.\n",
      "- Nitro group: Nitro groups typically lower the melting point due to increased polarity and hydrogen bonding. A rough estimate for its contribution could be -50 degrees.\n",
      "- Furan ring: Furan rings have a lower melting point compared to benzene due to increased polarity and hydrogen bonding. An estimated contribution could be -80 degrees.\n",
      "- Methyl group: Methyl groups generally increase the molecular weight leading to higher melting points, although the contribution is typically small. Estimated contribution might be +5 degrees.\n",
      "- Cumulative impact: The individual contributions of each group can be summed up, but it's also necessary to consider that the presence of multiple polar and hydrogen bonding functional groups in one molecule can lead to synergistic effects, amplifying the decrease in melting point beyond the sum of individual contributions.\n",
      "Based on the above considerations, a rough estimate would be 5.5 (for the benzene rings) - 50 (for the nitro group) - 80 (for the furan ring) + 5 (for the methyl group) = -125 degrees Celsius. Adding a consideration for synergistic effects, a more refined estimate taking into account the cumulative polar and hydrogen bonding functional groups might be approximated as -80 degrees, leading to a predicted melting point of -205 degrees Celsius.\n"
     ]
    },
    {
     "name": "stderr",
     "output_type": "stream",
     "text": [
      "  2%|▏         | 6/300 [02:32<2:01:53, 24.88s/it]"
     ]
    },
    {
     "name": "stdout",
     "output_type": "stream",
     "text": [
      "----\n",
      "\n",
      "\n",
      "##Prediction: 90.5\n",
      "\n",
      "\n",
      "#Problem\n"
     ]
    },
    {
     "name": "stderr",
     "output_type": "stream",
     "text": [
      "  2%|▏         | 7/300 [03:09<2:19:52, 28.64s/it]"
     ]
    },
    {
     "name": "stdout",
     "output_type": "stream",
     "text": [
      "----\n",
      "\n",
      "\n",
      "- Benzene ring: The base unit benzene has a melting point of 5.5 degrees Celsius.\n",
      "- Carboxylic acid group: This functional group typically raises the melting point due to hydrogen bonding and increased polarity. A rough estimate for its contribution could be +50 degrees.\n",
      "- Alkene group: Alkenes generally have a less significant impact on melting points compared to benzene rings, amides, or carboxylic acids, but could increase the melting point due to rigidity in the structure. An estimated contribution might be +10 degrees.\n",
      "- Methyl group attached to benzene: Methyl groups generally increase the molecular weight leading to higher melting points, although the contribution is typically small. Estimated contribution might be +5 degrees.\n",
      "- Cumulative impact: The individual contributions of each group can be summed up, but it's also necessary to consider that the presence of multiple polar and hydrogen bonding functional groups in one molecule can lead to synergistic effects, amplifying the increase in melting point beyond the sum of individual contributions.\n",
      "Based on the above considerations, a rough estimate would be 5.5 (for the benzene rings) + 50 (for the carboxylic acid) + 10 (for the alkene group) + 5 (for the methyl group) = 65 degrees Celsius. Adding a consideration for synergistic effects, a more refined estimate taking into account the cumulative polar and hydrogen bonding functional groups might be approximated as +60 degrees, leading to a predicted melting point of 125 degrees Celsius.\n",
      "##Prediction: 125\n",
      "\n",
      "\n",
      "#Problem\n",
      "actual:  143.0 predicted:  125.0 err:  18.0\n",
      "- Benzene ring: The base unit benzene has a melting point of 5.5 degrees Celsius.\n",
      "- Carboxylic acid group: This functional group typically raises the melting point due to hydrogen bonding and increased polarity. A rough estimate for its contribution could be +50 degrees.\n",
      "- Alkene group: Alkenes generally have a less significant impact on melting points compared to benzene rings, amides, or carboxylic acids, but could increase the melting point due to rigidity in the structure. An estimated contribution might be +10 degrees.\n",
      "- Methyl group attached to benzene: Methyl groups generally increase the molecular weight leading to higher melting points, although the contribution is typically small. Estimated contribution might be +5 degrees.\n",
      "- Cumulative impact: The individual contributions of each group can be summed up, but it's also necessary to consider that the presence of multiple polar and hydrogen bonding functional groups in one molecule can lead to synergistic effects, amplifying the increase in melting point beyond the sum of individual contributions.\n",
      "Based on the above considerations, a rough estimate would be 5.5 (for the benzene rings) + 50 (for the carboxylic acid) + 10 (for the alkene group) + 5 (for the methyl group) = 65 degrees Celsius. Adding a consideration for synergistic effects, a more refined estimate taking into account the cumulative polar and hydrogen bonding functional groups might be approximated as +60 degrees, leading to a predicted melting point of 125 degrees Celsius.\n",
      "----\n",
      "\n",
      "\n",
      "- Ethyl groups: These add steric bulk and increase molecular weight, which typically raises the melting point. We can estimate an increase of approximately +20°C for each ethyl group.\n",
      "- Benzene ring: A benzene ring is a planar, aromatic system with a high degree of conjugation, which can contribute to a higher melting point. Estimate an increase of approximately +40°C.\n",
      "- Double bonds: Double bonds are polar and can form hydrogen bonds, thus increasing the melting point. However, in this case, they are within a planar, aromatic system, which reduces their ability to engage in intermolecular hydrogen bonding. Yet, they contribute to the electronic distribution in the molecule. We can estimate an increase of approximately +20°C for each double bond.\n",
      "##Prediction: 135.0\n",
      "\n",
      "\n",
      "#Problem\n",
      "actual:  -52.3 predicted:  135.0 err:  187.3\n",
      "- Ethyl groups: These add steric bulk and increase molecular weight, which typically raises the melting point. We can estimate an increase of approximately +20°C for each ethyl group.\n",
      "- Benzene ring: A benzene ring is a planar, aromatic system with a high degree of conjugation, which can contribute to a higher melting point. Estimate an increase of approximately +40°C.\n",
      "- Double bonds: Double bonds are polar and can form hydrogen bonds, thus increasing the melting point. However, in this case, they are within a planar, aromatic system, which reduces their ability to engage in intermolecular hydrogen bonding. Yet, they contribute to the electronic distribution in the molecule. We can estimate an increase of approximately +20°C for each double bond.\n"
     ]
    },
    {
     "name": "stderr",
     "output_type": "stream",
     "text": [
      "  3%|▎         | 8/300 [03:29<2:06:22, 25.97s/it]"
     ]
    },
    {
     "name": "stdout",
     "output_type": "stream",
     "text": [
      "----\n",
      "\n",
      "\n",
      "##Prediction: 105.0\n",
      "\n",
      "\n",
      "#Problem\n",
      "----\n",
      "\n",
      "\n",
      "##Prediction: 133.0\n",
      "\n",
      "\n",
      "#Problem\n"
     ]
    },
    {
     "name": "stderr",
     "output_type": "stream",
     "text": [
      "  3%|▎         | 9/300 [03:33<1:32:34, 19.09s/it]"
     ]
    },
    {
     "name": "stdout",
     "output_type": "stream",
     "text": [
      "----\n",
      "\n",
      "\n",
      "##Prediction: 120.0\n",
      "\n",
      "\n",
      "#Problem\n",
      "----\n",
      "\n",
      "\n",
      "The compound pyrinoline has a complex structure with multiple functional groups that affect its melting point.\n",
      "- Benzene ring: The base unit benzene has a melting point of 5.5 degrees Celsius.\n",
      "- Nitro functional group: Nitro functional groups typically raise the melting point due to increased polarity and hydrogen bonding. An estimated contribution could be +50 degrees.\n",
      "- Amide group: Amides also raise the melting point because of strong hydrogen bonding and resonance stability. This can be estimated to contribute about +80 degrees.\n",
      "- Alkyl chain: Alkyl chains generally have a less significant impact on melting points compared to benzene rings, amides, or nitro functional groups, but could increase the melting point due to rigidity in the structure. An estimated contribution might be +10 degrees.\n",
      "- Cumulative impact: The individual contributions of each group can be summed up, but it's also necessary to consider that the presence of multiple polar and hydrogen bonding functional groups in one molecule can lead to synergistic effects, amplifying the increase in melting point beyond the sum of individual contributions.\n",
      "Based on the above considerations, a rough estimate would be 5.5 (for the benzene rings) + 50 (for the nitro functional group) + 80 (for the amide group) + 10 (for the alkyl chain) = 140 degrees Celsius. Adding a consideration for synergistic effects, a more refined estimate taking into account the cumulative polar and hydrogen bonding functional groups might be approximated as +80 degrees, leading to a predicted melting point of 220 degrees Celsius.\n",
      "##Prediction: 220\n",
      "\n",
      "\n",
      "#Problem\n",
      "actual:  147.0 predicted:  220.0 err:  73.0\n",
      "The compound pyrinoline has a complex structure with multiple functional groups that affect its melting point.\n",
      "- Benzene ring: The base unit benzene has a melting point of 5.5 degrees Celsius.\n",
      "- Nitro functional group: Nitro functional groups typically raise the melting point due to increased polarity and hydrogen bonding. An estimated contribution could be +50 degrees.\n",
      "- Amide group: Amides also raise the melting point because of strong hydrogen bonding and resonance stability. This can be estimated to contribute about +80 degrees.\n",
      "- Alkyl chain: Alkyl chains generally have a less significant impact on melting points compared to benzene rings, amides, or nitro functional groups, but could increase the melting point due to rigidity in the structure. An estimated contribution might be +10 degrees.\n",
      "- Cumulative impact: The individual contributions of each group can be summed up, but it's also necessary to consider that the presence of multiple polar and hydrogen bonding functional groups in one molecule can lead to synergistic effects, amplifying the increase in melting point beyond the sum of individual contributions.\n",
      "Based on the above considerations, a rough estimate would be 5.5 (for the benzene rings) + 50 (for the nitro functional group) + 80 (for the amide group) + 10 (for the alkyl chain) = 140 degrees Celsius. Adding a consideration for synergistic effects, a more refined estimate taking into account the cumulative polar and hydrogen bonding functional groups might be approximated as +80 degrees, leading to a predicted melting point of 220 degrees Celsius.\n"
     ]
    },
    {
     "name": "stderr",
     "output_type": "stream",
     "text": [
      "  3%|▎         | 10/300 [05:48<4:25:32, 54.94s/it]"
     ]
    },
    {
     "name": "stdout",
     "output_type": "stream",
     "text": [
      "----\n",
      "\n",
      "\n",
      "- The presence of aromatic rings: The aromatic ring system in pyrinoline contributes to the melting point due to its planarity and the potential for pi-pi interactions. An estimated increase of +20-30 degrees Celsius.\n",
      "- Nitro functional group: The nitro functional group can participate in hydrogen bonding, which can increase the melting point. Estimated to contribute +10-15 degrees Celsius.\n",
      "- Methyl group: The methyl group adds to the molecular weight and can participate in hydrogen bonding, which can increase the melting point. Estimated to contribute +5-10 degrees Celsius.\n",
      "- Cumulative impact: The individual contributions of each group can be summed up, but it's also necessary to consider that the presence of multiple polar and hydrogen bonding functional groups in one molecule can lead to synergistic effects, amplifying the increase in melting point beyond the sum of individual contributions.\n",
      "Based on the above considerations, a rough estimate would be 20-30 (for the aromatic rings) + 10-15 (for the nitro group) + 5-10 (for the methyl group) = 65-95 degrees Celsius. Adding a consideration for synergistic effects, a more refined estimate taking into account the cumulative polar and hydrogen bonding functional groups might be approximated as +80 degrees, leading to a predicted melting point of 140-160 degrees Celsius.\n",
      "##Prediction: 140.0\n",
      "\n",
      "\n",
      "#Problem\n",
      "actual:  147.0 predicted:  140.0 err:  7.0\n",
      "- The presence of aromatic rings: The aromatic ring system in pyrinoline contributes to the melting point due to its planarity and the potential for pi-pi interactions. An estimated increase of +20-30 degrees Celsius.\n",
      "- Nitro functional group: The nitro functional group can participate in hydrogen bonding, which can increase the melting point. Estimated to contribute +10-15 degrees Celsius.\n",
      "- Methyl group: The methyl group adds to the molecular weight and can participate in hydrogen bonding, which can increase the melting point. Estimated to contribute +5-10 degrees Celsius.\n",
      "- Cumulative impact: The individual contributions of each group can be summed up, but it's also necessary to consider that the presence of multiple polar and hydrogen bonding functional groups in one molecule can lead to synergistic effects, amplifying the increase in melting point beyond the sum of individual contributions.\n",
      "Based on the above considerations, a rough estimate would be 20-30 (for the aromatic rings) + 10-15 (for the nitro group) + 5-10 (for the methyl group) = 65-95 degrees Celsius. Adding a consideration for synergistic effects, a more refined estimate taking into account the cumulative polar and hydrogen bonding functional groups might be approximated as +80 degrees, leading to a predicted melting point of 140-160 degrees Celsius.\n"
     ]
    },
    {
     "name": "stderr",
     "output_type": "stream",
     "text": [
      "  4%|▎         | 11/300 [06:20<3:51:17, 48.02s/it]"
     ]
    },
    {
     "name": "stdout",
     "output_type": "stream",
     "text": [
      "----\n",
      "\n",
      "\n",
      "- Benzene ring: The base unit benzene has a melting point of 5.5 degrees Celsius.\n",
      "- Alkyl group: Alkyl groups generally lower the melting point due to increased van der Waals interactions between molecules. An estimated contribution might be -50 degrees.\n",
      "- Carboxylic acid group: This functional group typically raises the melting point due to hydrogen bonding and increased polarity. A rough estimate for its contribution could be +50 degrees.\n",
      "- Hydroxyl group: Hydroxyl groups also raise the melting point due to increased polarity and hydrogen bonding. An estimated contribution might be +30 degrees.\n",
      "- Cumulative impact: The individual contributions of each group can be summed up, but it's also necessary to consider that the presence of multiple polar and hydrogen bonding functional groups in one molecule can lead to synergistic effects, amplifying the increase in melting point beyond the sum of individual contributions.\n",
      "Based on the above considerations, a rough estimate would be 5.5 (for the benzene rings) - 50 (for the alkyl group) + 50 (for the carboxylic acid) + 30 (for the hydroxyl group) = 135 degrees Celsius. Adding a consideration for synergistic effects, a more refined estimate taking into account the cumulative polar and hydrogen bonding functional groups might be approximated as +50 degrees, leading to a predicted melting point of 185 degrees Celsius.\n",
      "##Prediction: 185\n",
      "\n",
      "\n",
      "#Problem\n",
      "actual:  157.5 predicted:  185.0 err:  27.5\n",
      "- Benzene ring: The base unit benzene has a melting point of 5.5 degrees Celsius.\n",
      "- Alkyl group: Alkyl groups generally lower the melting point due to increased van der Waals interactions between molecules. An estimated contribution might be -50 degrees.\n",
      "- Carboxylic acid group: This functional group typically raises the melting point due to hydrogen bonding and increased polarity. A rough estimate for its contribution could be +50 degrees.\n",
      "- Hydroxyl group: Hydroxyl groups also raise the melting point due to increased polarity and hydrogen bonding. An estimated contribution might be +30 degrees.\n",
      "- Cumulative impact: The individual contributions of each group can be summed up, but it's also necessary to consider that the presence of multiple polar and hydrogen bonding functional groups in one molecule can lead to synergistic effects, amplifying the increase in melting point beyond the sum of individual contributions.\n",
      "Based on the above considerations, a rough estimate would be 5.5 (for the benzene rings) - 50 (for the alkyl group) + 50 (for the carboxylic acid) + 30 (for the hydroxyl group) = 135 degrees Celsius. Adding a consideration for synergistic effects, a more refined estimate taking into account the cumulative polar and hydrogen bonding functional groups might be approximated as +50 degrees, leading to a predicted melting point of 185 degrees Celsius.\n",
      "----\n",
      "\n",
      "\n",
      "The molecule 2-cyclohexylbenzoic acid has a melting point of approximately -10°C. The cyclohexyl group is a non-polar, hydrophobic group that adds steric bulk and increases molecular weight, which typically raises the melting point. We can estimate an increase of approximately +20°C for the cyclohexyl group. Additionally, the carboxylic acid functional group (-COOH) is polar and can form hydrogen bonds, which can also contribute to the melting point. However, the acid group is not directly involved in intermolecular interactions, so its effect is limited. The total estimated impact on the melting point from all functional groups is: -10 (base) + 20 (cyclohexyl group) = 30°C.\n",
      "##Prediction: 30.0\n",
      "\n",
      "\n",
      "#Problem\n",
      "actual:  104.0 predicted:  30.0 err:  74.0\n",
      "The molecule 2-cyclohexylbenzoic acid has a melting point of approximately -10°C. The cyclohexyl group is a non-polar, hydrophobic group that adds steric bulk and increases molecular weight, which typically raises the melting point. We can estimate an increase of approximately +20°C for the cyclohexyl group. Additionally, the carboxylic acid functional group (-COOH) is polar and can form hydrogen bonds, which can also contribute to the melting point. However, the acid group is not directly involved in intermolecular interactions, so its effect is limited. The total estimated impact on the melting point from all functional groups is: -10 (base) + 20 (cyclohexyl group) = 30°C.\n"
     ]
    },
    {
     "name": "stderr",
     "output_type": "stream",
     "text": [
      "  4%|▍         | 12/300 [07:27<4:17:08, 53.57s/it]"
     ]
    },
    {
     "name": "stdout",
     "output_type": "stream",
     "text": [
      "----\n",
      "\n",
      "\n",
      "Starting with a base melting point of around 20°C for simple long chain hydrocarbons, the structural features of the molecule are evaluated:\n",
      "\n",
      "- Cyclohexyl group: Adds steric bulk and potential for intermolecular hydrogen bonding. Estimated to increase melting point by +20.\n",
      "- Benzoic acid functional group: A carboxylic acid group typically contributes to a decrease in melting point compared to the parent compound due to less symmetry and weaker intermolecular forces, like hydrogen bonding, which might decrease the melting point by approximately -20 to -40°C.\n",
      "\n",
      "Taking into account the presence of both functional groups, the total estimated impact on the melting point is: +20 (cyclohexyl group) - 20 to -40 (benzoic acid group) = 20 to -20°C.\n",
      "##Prediction: 20.0\n",
      "\n",
      "\n",
      "#Problem\n",
      "actual:  104.0 predicted:  20.0 err:  84.0\n",
      "Starting with a base melting point of around 20°C for simple long chain hydrocarbons, the structural features of the molecule are evaluated:\n",
      "\n",
      "- Cyclohexyl group: Adds steric bulk and potential for intermolecular hydrogen bonding. Estimated to increase melting point by +20.\n",
      "- Benzoic acid functional group: A carboxylic acid group typically contributes to a decrease in melting point compared to the parent compound due to less symmetry and weaker intermolecular forces, like hydrogen bonding, which might decrease the melting point by approximately -20 to -40°C.\n",
      "\n",
      "Taking into account the presence of both functional groups, the total estimated impact on the melting point is: +20 (cyclohexyl group) - 20 to -40 (benzoic acid group) = 20 to -20°C.\n",
      "----\n",
      "\n",
      "\n",
      "The molecule, 3,5-dichlorophenylhydrazine, has a simple base structure with a melting point of approximately -10°C. The presence of two chlorine atoms and a nitrogen atom will modify this value. The chlorine atoms add steric bulk and increase molecular weight, which typically raises the melting point. The nitrogen atom adds electronegativity and potential for hydrogen bonding, which can also increase the melting point.\n",
      "\n",
      "- Chlorine atoms: Each chlorine atom adds approximately +20°C to the melting point due to its steric bulk and electronegativity.\n",
      "- Nitrogen atom: Nitrogen is a polar atom that can form hydrogen bonds, which can increase the melting point. Estimated increase of +10°C.\n",
      "\n",
      "Starting with a base melting point of -10°C, these adjustments lead to a total estimation.\n",
      "##Prediction: 35.0\n",
      "\n",
      "\n",
      "#Problem\n",
      "actual:  115.0 predicted:  35.0 err:  80.0\n",
      "The molecule, 3,5-dichlorophenylhydrazine, has a simple base structure with a melting point of approximately -10°C. The presence of two chlorine atoms and a nitrogen atom will modify this value. The chlorine atoms add steric bulk and increase molecular weight, which typically raises the melting point. The nitrogen atom adds electronegativity and potential for hydrogen bonding, which can also increase the melting point.\n",
      "\n",
      "- Chlorine atoms: Each chlorine atom adds approximately +20°C to the melting point due to its steric bulk and electronegativity.\n",
      "- Nitrogen atom: Nitrogen is a polar atom that can form hydrogen bonds, which can increase the melting point. Estimated increase of +10°C.\n",
      "\n",
      "Starting with a base melting point of -10°C, these adjustments lead to a total estimation.\n"
     ]
    },
    {
     "name": "stderr",
     "output_type": "stream",
     "text": [
      "  4%|▍         | 13/300 [08:02<3:49:37, 48.00s/it]"
     ]
    },
    {
     "name": "stdout",
     "output_type": "stream",
     "text": [
      "----\n",
      "\n",
      "\n",
      "##Prediction: 109.5\n",
      "\n",
      "\n",
      "#Problem\n",
      "----\n",
      "\n",
      "\n",
      "##Prediction: 105.0\n",
      "\n",
      "\n",
      "#Problem\n"
     ]
    },
    {
     "name": "stderr",
     "output_type": "stream",
     "text": [
      "  5%|▍         | 14/300 [08:19<3:05:02, 38.82s/it]"
     ]
    },
    {
     "name": "stdout",
     "output_type": "stream",
     "text": [
      "----\n",
      "\n",
      "\n",
      "The compound has a complex structure with multiple functional groups, including a nitro group, a phenyl ring, and an oxazole ring. The nitro group is a strong electron-withdrawing group that can increase the electronegativity of the molecule, leading to a higher melting point. The phenyl ring is planar and can participate in π-π stacking, which can also increase the intermolecular forces and contribute to the melting point. The oxazole ring is a relatively rigid structure with a planar, aromatic ring system, which can also contribute to the melting point through π-π stacking and other intermolecular interactions. The presence of a methylidene group can also increase the melting point due to the increased steric hindrance and the potential for hydrogen bonding.\n",
      "##Prediction: 177.0\n",
      "\n",
      "\n",
      "#Problem\n",
      "actual:  208.0 predicted:  177.0 err:  31.0\n",
      "The compound has a complex structure with multiple functional groups, including a nitro group, a phenyl ring, and an oxazole ring. The nitro group is a strong electron-withdrawing group that can increase the electronegativity of the molecule, leading to a higher melting point. The phenyl ring is planar and can participate in π-π stacking, which can also increase the intermolecular forces and contribute to the melting point. The oxazole ring is a relatively rigid structure with a planar, aromatic ring system, which can also contribute to the melting point through π-π stacking and other intermolecular interactions. The presence of a methylidene group can also increase the melting point due to the increased steric hindrance and the potential for hydrogen bonding.\n",
      "----\n",
      "\n",
      "\n",
      "- The molecule has a planar, unsaturated ring structure with a conjugated double bond, which can contribute to increased rigidity and intermolecular interactions, estimated to increase melting point by +5.\n",
      "- The molecule also has a methyl group attached, which can contribute to van der Waals interactions and increase the melting point by +10.\n",
      "- The presence of a nitrogen atom can also contribute to increased intermolecular interactions, estimated to increase melting point by +30.\n",
      "\n",
      "Starting with a base melting point of around 20°C for simple long chain hydrocarbons, these adjustments lead to a total estimation.\n",
      "##Prediction: 105.0\n",
      "\n",
      "\n",
      "#Problem\n",
      "actual:  -24.15 predicted:  105.0 err:  129.15\n",
      "- The molecule has a planar, unsaturated ring structure with a conjugated double bond, which can contribute to increased rigidity and intermolecular interactions, estimated to increase melting point by +5.\n",
      "- The molecule also has a methyl group attached, which can contribute to van der Waals interactions and increase the melting point by +10.\n",
      "- The presence of a nitrogen atom can also contribute to increased intermolecular interactions, estimated to increase melting point by +30.\n",
      "\n",
      "Starting with a base melting point of around 20°C for simple long chain hydrocarbons, these adjustments lead to a total estimation.\n"
     ]
    },
    {
     "name": "stderr",
     "output_type": "stream",
     "text": [
      "  5%|▌         | 15/300 [10:13<4:51:09, 61.30s/it]"
     ]
    },
    {
     "name": "stdout",
     "output_type": "stream",
     "text": [
      "----\n",
      "\n",
      "\n",
      "1,8-Nonadiyne is a polycyclic aromatic hydrocarbon (PAH) with a planar, unsaturated ring system. The presence of multiple aromatic rings and the absence of any polar functional groups contribute to the high melting point of this molecule. The molecular weight of 1,8-nonadiyne is approximately 200 g/mol, which is significantly higher than that of a simple hydrocarbon. Additionally, the planarity of the molecular structure allows for more efficient stacking of the aromatic rings, further contributing to the high melting point.\n",
      "\n",
      "Based on the structural features of 1,8-nonadiyne, it is estimated that the melting point of this molecule is around 250-300°C.\n",
      "\n",
      "##Prediction: 275.0 #include <iostream>\n",
      "#include <string>\n",
      "#include <vector>\n",
      "#include <cmath>\n",
      "\n",
      "using namespace std;\n",
      "\n",
      "int main() {\n",
      "    int n;\n",
      "    cin >> n;\n",
      "    vector<int> arr(n);\n",
      "    for (int i = 0; i < n; i++) {\n",
      "        cin >> arr[i];\n",
      "    }\n",
      "    sort(arr.begin(), arr.end());\n",
      "    cout << \"Sorted array: \";\n",
      "    for (int i = 0; i < n; i++) {\n",
      "        cout << arr[i] << \" \";\n",
      "    }\n",
      "    cout << endl;\n",
      "    return 0;\n",
      "}\n",
      "\n",
      "void sort(vector<int> &arr) {\n",
      "    int n = arr.size();\n",
      "    int temp;\n",
      "    for (int i = 0; i < n - 1; i++) {\n",
      "        for (int\n",
      "actual:  -24.15 predicted:  275.0 err:  299.15\n",
      "1,8-Nonadiyne is a polycyclic aromatic hydrocarbon (PAH) with a planar, unsaturated ring system. The presence of multiple aromatic rings and the absence of any polar functional groups contribute to the high melting point of this molecule. The molecular weight of 1,8-nonadiyne is approximately 200 g/mol, which is significantly higher than that of a simple hydrocarbon. Additionally, the planarity of the molecular structure allows for more efficient stacking of the aromatic rings, further contributing to the high melting point.\n",
      "\n",
      "Based on the structural features of 1,8-nonadiyne, it is estimated that the melting point of this molecule is around 250-300°C.\n",
      "----\n",
      "\n",
      "\n",
      "The compound has a piperidine ring, which is known to increase the melting point due to the presence of nitrogen. Piperidine also has a relatively high electronegativity, which can contribute to the molecular polarity and hydrogen bonding. Additionally, the methyl group attached to the piperidine can increase the molecular weight and contribute to the melting point.\n",
      "Based on the above considerations, a rough estimate for the melting point would be around 50-60 degrees Celsius.\n",
      "##Prediction: 55.0\n",
      "\n",
      "\n",
      "#Problem\n",
      "actual:  95.0 predicted:  55.0 err:  40.0\n",
      "The compound has a piperidine ring, which is known to increase the melting point due to the presence of nitrogen. Piperidine also has a relatively high electronegativity, which can contribute to the molecular polarity and hydrogen bonding. Additionally, the methyl group attached to the piperidine can increase the molecular weight and contribute to the melting point.\n",
      "Based on the above considerations, a rough estimate for the melting point would be around 50-60 degrees Celsius.\n"
     ]
    },
    {
     "name": "stderr",
     "output_type": "stream",
     "text": [
      "  5%|▌         | 16/300 [11:48<5:39:02, 71.63s/it]"
     ]
    },
    {
     "name": "stdout",
     "output_type": "stream",
     "text": [
      "----\n",
      "\n",
      "\n",
      "- Methyl group: Methyl groups are known to increase the melting point of a compound due to their high molecular weight. This functional group contributes an estimated +5 degrees Celsius.\n",
      "- Piperidine ring: Piperidine rings are polar and can form hydrogen bonds, which raises the melting point. An estimated contribution for this group could be +40 degrees Celsius.\n",
      "- Acetamide group: Acetamides are polar and can form hydrogen bonds, which raises the melting point. An estimated contribution for this group could be +30 degrees Celsius.\n",
      "- Methylamide group: Methylamides are polar and can form hydrogen bonds, which raises the melting point. An estimated contribution for this group could be +20 degrees Celsius.\n",
      "- Carbonyl group: Carbonyl groups are polar and can form hydrogen bonds, which raises the melting point. An estimated contribution for this group could be +20 degrees Celsius.\n",
      "- Cumulative impact: The individual contributions of each group can be summed up, but it's also necessary to consider that the presence of multiple polar and hydrogen bonding functional groups in one molecule can lead to synergistic effects, amplifying the increase in melting point beyond the sum of individual contributions.\n",
      "Based on the above considerations, a rough estimate would be 5 (for the methyl group) + 40 (for the piperidine ring) + 30 (for the acetamide group) + 20 (for the methylamide group) + 20 (for the carbonyl group) = 140 degrees Celsius. Adding a consideration for synergistic effects, a more refined\n",
      "----\n",
      "\n",
      "\n",
      "Methyl hydrazine has a simple structure consisting of a methyl group attached to a hydrazine ring. The presence of the methyl group increases the melting point due to the increased steric hindrance and the electron-withdrawing nature of the methyl group, which can increase the intermolecular interactions. The hydrazine ring itself also contributes to the melting point due to its aromatic character and ability to participate in π-π stacking.\n",
      "\n",
      "Starting with a base value of 100 degrees Celsius for a simple aromatic ring, the addition of the methyl group is estimated to increase the melting point by approximately 20 degrees Celsius.\n",
      "##Prediction: 120.0\n",
      "\n",
      "\n",
      "#Problem\n",
      "actual:  -52.4 predicted:  120.0 err:  172.4\n",
      "Methyl hydrazine has a simple structure consisting of a methyl group attached to a hydrazine ring. The presence of the methyl group increases the melting point due to the increased steric hindrance and the electron-withdrawing nature of the methyl group, which can increase the intermolecular interactions. The hydrazine ring itself also contributes to the melting point due to its aromatic character and ability to participate in π-π stacking.\n",
      "\n",
      "Starting with a base value of 100 degrees Celsius for a simple aromatic ring, the addition of the methyl group is estimated to increase the melting point by approximately 20 degrees Celsius.\n"
     ]
    },
    {
     "name": "stderr",
     "output_type": "stream",
     "text": [
      "  6%|▌         | 17/300 [12:38<5:07:20, 65.16s/it]"
     ]
    },
    {
     "name": "stdout",
     "output_type": "stream",
     "text": [
      "----\n",
      "\n",
      "\n",
      "- Methyl group: The methyl group is a small, nonpolar group that adds steric bulk and increases molecular weight. It typically raises the melting point by approximately +20°C.\n",
      "- Hydrazine: Hydrazine is a polar functional group that can form hydrogen bonds, which increases the melting point. Estimate an increase of approximately +60°C.\n",
      "- Total estimated impact on melting point from all functional groups is: +20 (methyl group) + 60 (hydrazine) = 80°C.\n",
      "##Prediction: 80.0\n",
      "\n",
      "\n",
      "#Problem\n",
      "actual:  -52.4 predicted:  80.0 err:  132.4\n",
      "- Methyl group: The methyl group is a small, nonpolar group that adds steric bulk and increases molecular weight. It typically raises the melting point by approximately +20°C.\n",
      "- Hydrazine: Hydrazine is a polar functional group that can form hydrogen bonds, which increases the melting point. Estimate an increase of approximately +60°C.\n",
      "- Total estimated impact on melting point from all functional groups is: +20 (methyl group) + 60 (hydrazine) = 80°C.\n",
      "----\n",
      "\n",
      "\n",
      "##Prediction: 105.0\n",
      "\n",
      "\n",
      "#Problem\n"
     ]
    },
    {
     "name": "stderr",
     "output_type": "stream",
     "text": [
      "  6%|▌         | 18/300 [12:46<3:44:08, 47.69s/it]"
     ]
    },
    {
     "name": "stdout",
     "output_type": "stream",
     "text": [
      "----\n",
      "\n",
      "\n",
      "##Prediction: 60.0\n",
      "\n",
      "\n",
      "#Problem\n",
      "----\n",
      "\n",
      "\n",
      "##Prediction: 135.0\n",
      "\n",
      "\n",
      "#Problem\n"
     ]
    },
    {
     "name": "stderr",
     "output_type": "stream",
     "text": [
      "  6%|▋         | 19/300 [13:06<3:04:45, 39.45s/it]"
     ]
    }
   ],
   "source": [
    "#Loop: training, evaluation, data generation\n",
    "for generation in range(max_generations):\n",
    "    clear_output()\n",
    "    print(f\"Generation: {generation}\")\n",
    "    #prepare train dataset\n",
    "\n",
    "    ## reason data made by GPT4\n",
    "    train_dataset=copy.deepcopy(example_reasoning_dataset)\n",
    "\n",
    "    print(f\"GPT-generated reasons: {len(train_dataset)}\")\n",
    "\n",
    "    ## reason data made by model itself\n",
    "    for path in glob.glob(f\"{project_dir}/self_reasoning/*.json\"):\n",
    "        with open(path) as f:\n",
    "            train_dataset.append(json.load(f))\n",
    "\n",
    "    print(f\"All-generated reasons: {len(train_dataset)}\")\n",
    "    random.shuffle(train_dataset)\n",
    "\n",
    "    #train model\n",
    "    clean_vram()\n",
    "    model=init_model(model_name, r, lora_alpha, target_modules, bit=bit,device_map=device_map)\n",
    "    train_result=train_model(model,tokenizer,train_dataset,\n",
    "                    project_dir=project_dir,\n",
    "                    epochs=epochs,\n",
    "                    lr=lr,\n",
    "                    per_device_train_batch_size=per_device_train_batch_size,\n",
    "                    gradient_checkpointing=gradient_checkpointing,\n",
    "                    )\n",
    "\n",
    "    #eval\n",
    "\n",
    "    train_check_dataset=copy.deepcopy(train_dataset[:n_train_check])\n",
    "    random.shuffle(train_check_dataset)\n",
    "    train_eval_result=eval_model(model,tokenizer,train_check_dataset,\n",
    "                                f\"{project_dir}/eval\",\n",
    "                                n_prompt_examples=3,\n",
    "                                prompt_dataset=example_reasoning_dataset,\n",
    "                                prefix=f\"train_{generation}\"\n",
    "                                )\n",
    "\n",
    "    test_eval_result=eval_model(model,tokenizer,test_dataset,\n",
    "                                f\"{project_dir}/eval\",\n",
    "                                n_prompt_examples=3,\n",
    "                                prompt_dataset=example_reasoning_dataset,\n",
    "                                prefix=f\"test_{generation}\"\n",
    "                                )\n",
    "\n",
    "    #generate additional training data by self-reasoning\n",
    "    self_reasoning(model,tokenizer,base_train_dataset,\n",
    "                example_reasoning_dataset,project_dir,\n",
    "                generation=generation,\n",
    "                n_iterations=n_generation_iterations,\n",
    "                error_threshold=error_threshold,\n",
    "                n_max_trials=2)"
   ]
  },
  {
   "cell_type": "code",
   "execution_count": null,
   "metadata": {},
   "outputs": [],
   "source": []
  },
  {
   "cell_type": "code",
   "execution_count": null,
   "metadata": {},
   "outputs": [],
   "source": []
  }
 ],
 "metadata": {
  "kernelspec": {
   "display_name": "chemllm",
   "language": "python",
   "name": "python3"
  },
  "language_info": {
   "codemirror_mode": {
    "name": "ipython",
    "version": 3
   },
   "file_extension": ".py",
   "mimetype": "text/x-python",
   "name": "python",
   "nbconvert_exporter": "python",
   "pygments_lexer": "ipython3",
   "version": "3.10.0"
  }
 },
 "nbformat": 4,
 "nbformat_minor": 2
}
